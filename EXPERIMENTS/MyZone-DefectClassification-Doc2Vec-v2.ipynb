{
 "cells": [
  {
   "metadata": {},
   "cell_type": "markdown",
   "source": [
    "# After sales text clustering using Doc2Vec\n",
    "## Adding CODART and Characteristics from A3ERP and improving the text preprocessing"
   ],
   "id": "c3170d13a92177dd"
  },
  {
   "metadata": {},
   "cell_type": "markdown",
   "source": "## Data preprocessing (Merging the translated text)",
   "id": "a7948d9724b0c8ff"
  },
  {
   "metadata": {
    "ExecuteTime": {
     "end_time": "2024-05-24T11:19:55.288171Z",
     "start_time": "2024-05-24T11:19:55.267309Z"
    }
   },
   "cell_type": "code",
   "source": [
    "import pandas as pd\n",
    "import numpy as np\n",
    "import matplotlib.pyplot as plt\n",
    "from sqlalchemy import create_engine\n",
    "from datetime import date\n",
    "import os\n",
    "\n",
    "pd.options.mode.chained_assignment = None\n",
    "\n",
    "\n",
    "today_date = date.today().isoformat()\n",
    "data_version = \"2024-05-14\"\n",
    "data_base_path = f\"../DATA/processed/{data_version}\"\n",
    "model_base_path = f\"../MODELS/{today_date}\""
   ],
   "id": "534c667474c59dac",
   "outputs": [],
   "execution_count": 7
  },
  {
   "metadata": {
    "ExecuteTime": {
     "end_time": "2024-05-14T05:40:10.011957Z",
     "start_time": "2024-05-14T05:40:10.007889Z"
    }
   },
   "cell_type": "code",
   "source": [
    "def query_data(query):\n",
    "    \"\"\"\n",
    "    Function to query data from the database using sqlalchemy\n",
    "    :param query:\n",
    "    :return: pd.DataFrame\n",
    "\n",
    "    Connection parameters:\n",
    "    user = readmyzone\n",
    "    password = (get from environment variable MYSQL_PASSWORD)\n",
    "    host = 192.168.2.7\n",
    "    port = 3306\n",
    "    \"\"\"\n",
    "\n",
    "    # Create the connection string\n",
    "    user = \"readmyzone\"\n",
    "    password = os.environ.get(\"MYSQL_PASSWORD\")\n",
    "    host = \"192.168.2.7\"\n",
    "    port = \"3306\"\n",
    "    db = \"myzone\"\n",
    "    connection_string = f\"mysql+pymysql://{user}:{password}@{host}:{port}/{db}\"\n",
    "\n",
    "    # Create the engine\n",
    "    engine = create_engine(connection_string)\n",
    "\n",
    "    try:\n",
    "        # Query the data\n",
    "        data = pd.read_sql(query, engine)\n",
    "    except Exception as e:\n",
    "        print(e)\n",
    "        data = None\n",
    "\n",
    "    return data"
   ],
   "id": "3c4813864c62b44",
   "execution_count": 2,
   "outputs": []
  },
  {
   "metadata": {},
   "cell_type": "markdown",
   "source": "## Load the data",
   "id": "218de97c29b240cf"
  },
  {
   "metadata": {
    "ExecuteTime": {
     "end_time": "2024-05-14T05:40:13.423985Z",
     "start_time": "2024-05-14T05:40:10.011957Z"
    }
   },
   "cell_type": "code",
   "source": [
    "sav_incidencias = query_data(\"SELECT * FROM sav_incidencias\")\n",
    "sav_piezas = query_data(\"SELECT * FROM sav_piezas\")\n",
    "sav_estados = query_data(\"SELECT * FROM sav_estados\")\n",
    "sav_incidencias_tipo = query_data(\"SELECT * FROM sav_incidencias_tipo\")"
   ],
   "id": "9f3380d21dc06f50",
   "execution_count": 3,
   "outputs": []
  },
  {
   "metadata": {
    "ExecuteTime": {
     "end_time": "2024-05-14T05:40:13.793373Z",
     "start_time": "2024-05-14T05:40:13.428057Z"
    }
   },
   "cell_type": "code",
   "source": [
    "dataset = sav_incidencias.merge(\n",
    "    sav_piezas,\n",
    "    left_on=\"codigo\",\n",
    "    right_on=\"codigo_incidencia\",\n",
    "    how=\"left\",\n",
    "    suffixes=(None, \"_pieza\"),\n",
    ")\n",
    "dataset = dataset.merge(\n",
    "    sav_estados, left_on=\"estado\", right_on=\"id\", how=\"left\", suffixes=(None, \"_estado\")\n",
    ")\n",
    "dataset = dataset.merge(\n",
    "    sav_incidencias_tipo,\n",
    "    left_on=\"tipo\",\n",
    "    right_on=\"id\",\n",
    "    how=\"left\",\n",
    "    suffixes=(None, \"_tipo\"),\n",
    ")"
   ],
   "id": "3fba68b913e20271",
   "execution_count": 4,
   "outputs": []
  },
  {
   "metadata": {
    "ExecuteTime": {
     "end_time": "2024-05-14T05:40:14.303782Z",
     "start_time": "2024-05-14T05:40:13.793373Z"
    }
   },
   "cell_type": "code",
   "source": [
    "dataset[\"modification_date\"] = pd.to_datetime(\n",
    "    dataset[\"modification_date\"], errors=\"coerce\"\n",
    ")\n",
    "clean_dataset = dataset[\n",
    "    (dataset[\"tipo\"] == 1)\n",
    "    & (dataset[\"estado\"].isin([2, 6]))\n",
    "    & (dataset[\"modification_date\"] < \"2024-05-09\")\n",
    "]"
   ],
   "id": "747b38221b0cd88a",
   "execution_count": 5,
   "outputs": []
  },
  {
   "metadata": {
    "ExecuteTime": {
     "end_time": "2024-05-14T05:40:14.470969Z",
     "start_time": "2024-05-14T05:40:14.304461Z"
    }
   },
   "cell_type": "code",
   "source": [
    "# Load from disk the text to translate dictionary\n",
    "fields_to_translate = [\"desc_problema\", \"problema\", \"descripcion\"]\n",
    "text_to_translate = {}\n",
    "for text in fields_to_translate:\n",
    "    text_to_translate[text] = pd.read_csv(\n",
    "        f\"../DATA/{text}.csv\", sep=\"¬\", encoding=\"utf-8-sig\"\n",
    "    )"
   ],
   "id": "c3937fd76dc1bf76",
   "execution_count": 6,
   "outputs": []
  },
  {
   "cell_type": "code",
   "id": "initial_id",
   "metadata": {
    "collapsed": true,
    "ExecuteTime": {
     "end_time": "2024-05-14T05:40:14.592176Z",
     "start_time": "2024-05-14T05:40:14.471476Z"
    }
   },
   "source": [
    "desc_problema_translated = pd.read_csv(\n",
    "    \"../DATA/desc_problema_translated.csv\",\n",
    "    sep=\"¬\",\n",
    "    encoding=\"utf-8-sig\",\n",
    "    engine=\"python\",\n",
    ")\n",
    "descripcion_translated = pd.read_csv(\n",
    "    \"../DATA/descripcion_translated.csv\", sep=\"¬\", encoding=\"utf-8-sig\", engine=\"python\"\n",
    ")\n",
    "problema_translated = pd.read_csv(\n",
    "    \"../DATA/problema_translated.csv\", sep=\"¬\", encoding=\"utf-8-sig\", engine=\"python\"\n",
    ")  # Data preprocessing (Merging the translated text)"
   ],
   "execution_count": 7,
   "outputs": []
  },
  {
   "metadata": {
    "ExecuteTime": {
     "end_time": "2024-05-14T05:40:14.603058Z",
     "start_time": "2024-05-14T05:40:14.592176Z"
    }
   },
   "cell_type": "code",
   "source": [
    "# Delete rows with values (desc_problema, desc_problema_translated)\n",
    "desc_problema_translated = desc_problema_translated[\n",
    "    ~desc_problema_translated[\"desc_problema_translated\"].isin(\n",
    "        [\"desc_problema_translated\"]\n",
    "    )\n",
    "]\n",
    "descripcion_translated = descripcion_translated[\n",
    "    ~descripcion_translated[\"descripcion_translated\"].isin([\"descripcion_translated\"])\n",
    "]\n",
    "problema_translated = problema_translated[\n",
    "    ~problema_translated[\"problema_translated\"].isin([\"problema_translated\"])\n",
    "]"
   ],
   "id": "5728490c1ef98641",
   "execution_count": 8,
   "outputs": []
  },
  {
   "metadata": {
    "ExecuteTime": {
     "end_time": "2024-05-14T05:40:14.613758Z",
     "start_time": "2024-05-14T05:40:14.603058Z"
    }
   },
   "cell_type": "code",
   "source": "desc_problema_translated.count()",
   "id": "964c516475bc565b",
   "execution_count": 9,
   "outputs": []
  },
  {
   "metadata": {
    "ExecuteTime": {
     "end_time": "2024-05-14T05:40:14.652625Z",
     "start_time": "2024-05-14T05:40:14.614764Z"
    }
   },
   "cell_type": "code",
   "source": [
    "# Merge the translated text with the text_to_translate dataframe\n",
    "desc_problema_translated = text_to_translate[\"desc_problema\"].merge(\n",
    "    desc_problema_translated,\n",
    "    left_on=\"desc_problema\",\n",
    "    right_on=\"desc_problema\",\n",
    "    how=\"left\",\n",
    ")\n",
    "descripcion_translated = text_to_translate[\"descripcion\"].merge(\n",
    "    descripcion_translated, left_on=\"descripcion\", right_on=\"descripcion\", how=\"left\"\n",
    ")\n",
    "problema_translated = text_to_translate[\"problema\"].merge(\n",
    "    problema_translated, left_on=\"problema\", right_on=\"problema\", how=\"left\"\n",
    ")"
   ],
   "id": "c6ef16434e7aa400",
   "execution_count": 10,
   "outputs": []
  },
  {
   "metadata": {
    "ExecuteTime": {
     "end_time": "2024-05-14T05:40:14.666203Z",
     "start_time": "2024-05-14T05:40:14.652625Z"
    }
   },
   "cell_type": "code",
   "source": [
    "# Fill NA with the original texts\n",
    "desc_problema_translated.fillna(\n",
    "    {\"desc_problema_translated\": desc_problema_translated[\"desc_problema\"]},\n",
    "    inplace=True,\n",
    ")\n",
    "descripcion_translated.fillna(\n",
    "    {\"descripcion_translated\": descripcion_translated[\"descripcion\"]}, inplace=True\n",
    ")\n",
    "problema_translated.fillna(\n",
    "    {\"problema_translated\": problema_translated[\"problema\"]}, inplace=True\n",
    ")"
   ],
   "id": "f192011f1cb44460",
   "execution_count": 11,
   "outputs": []
  },
  {
   "metadata": {
    "ExecuteTime": {
     "end_time": "2024-05-14T05:40:14.675252Z",
     "start_time": "2024-05-14T05:40:14.666322Z"
    }
   },
   "cell_type": "code",
   "source": "desc_problema_translated.head(5)",
   "id": "441411c8ce3affdc",
   "execution_count": 12,
   "outputs": []
  },
  {
   "metadata": {
    "ExecuteTime": {
     "end_time": "2024-05-14T05:40:14.991826Z",
     "start_time": "2024-05-14T05:40:14.675252Z"
    }
   },
   "cell_type": "code",
   "source": [
    "# Merge the translated text with the original dataset\n",
    "clean_dataset = clean_dataset.merge(\n",
    "    desc_problema_translated,\n",
    "    left_on=\"desc_problema\",\n",
    "    right_on=\"desc_problema\",\n",
    "    how=\"left\",\n",
    ")\n",
    "clean_dataset = clean_dataset.merge(\n",
    "    descripcion_translated, left_on=\"descripcion\", right_on=\"descripcion\", how=\"left\"\n",
    ")\n",
    "clean_dataset = clean_dataset.merge(\n",
    "    problema_translated, left_on=\"problema\", right_on=\"problema\", how=\"left\"\n",
    ")"
   ],
   "id": "614bfb6ace6e2944",
   "execution_count": 13,
   "outputs": []
  },
  {
   "metadata": {
    "ExecuteTime": {
     "end_time": "2024-05-14T05:40:15.291755Z",
     "start_time": "2024-05-14T05:40:14.991826Z"
    }
   },
   "cell_type": "code",
   "source": [
    "clean_dataset.describe(include=\"all\")"
   ],
   "id": "e84856fdd0940ef1",
   "execution_count": 14,
   "outputs": []
  },
  {
   "metadata": {
    "ExecuteTime": {
     "end_time": "2024-05-14T05:40:15.296455Z",
     "start_time": "2024-05-14T05:40:15.291831Z"
    }
   },
   "cell_type": "code",
   "source": [
    "for column in clean_dataset.columns:\n",
    "    print(f\"Column: {column}\")"
   ],
   "id": "d6045361e36b7b87",
   "execution_count": 15,
   "outputs": []
  },
  {
   "metadata": {
    "ExecuteTime": {
     "end_time": "2024-05-14T05:40:15.329869Z",
     "start_time": "2024-05-14T05:40:15.296455Z"
    }
   },
   "cell_type": "code",
   "source": [
    "# Get only the columns with the fields of interest\n",
    "text_to_analyse = clean_dataset[\n",
    "    [\n",
    "        \"codigo\",\n",
    "        \"id_pieza\",\n",
    "        \"desc_problema_translated\",\n",
    "        \"descripcion_translated\",\n",
    "        \"problema_translated\",\n",
    "        \"cod_articulo\",\n",
    "    ]\n",
    "]\n",
    "# Fill NA with empty string\n",
    "text_to_analyse.fillna(\"\", inplace=True)"
   ],
   "id": "dc06c3d9dd9902e2",
   "execution_count": 16,
   "outputs": []
  },
  {
   "metadata": {
    "ExecuteTime": {
     "end_time": "2024-05-14T05:40:15.378153Z",
     "start_time": "2024-05-14T05:40:15.329869Z"
    }
   },
   "cell_type": "code",
   "source": [
    "text_to_analyse.loc[:, \"text_to_analyse\"] = (\n",
    "    text_to_analyse[\"desc_problema_translated\"]\n",
    "    + \" \"\n",
    "    + text_to_analyse[\"descripcion_translated\"]\n",
    "    + \" \"\n",
    "    + text_to_analyse[\"problema_translated\"]\n",
    "    + \" \"\n",
    "    + text_to_analyse[\"cod_articulo\"]\n",
    ")"
   ],
   "id": "1769ea0a436bf71d",
   "execution_count": 17,
   "outputs": []
  },
  {
   "metadata": {
    "ExecuteTime": {
     "end_time": "2024-05-14T05:40:15.386525Z",
     "start_time": "2024-05-14T05:40:15.378153Z"
    }
   },
   "cell_type": "code",
   "source": "text_to_analyse.head(10)",
   "id": "9476356aaf02e1d7",
   "execution_count": 18,
   "outputs": []
  },
  {
   "metadata": {},
   "cell_type": "markdown",
   "source": "## Add CODART from A3ERP",
   "id": "af61703f1b992a94"
  },
  {
   "metadata": {
    "ExecuteTime": {
     "end_time": "2024-05-24T11:20:00.639146Z",
     "start_time": "2024-05-24T11:20:00.627117Z"
    }
   },
   "cell_type": "code",
   "source": [
    "import pyodbc\n",
    "\n",
    "\n",
    "# Def function to connect with sql server using pyodbc and query data\n",
    "def query_data_a3(query, database):\n",
    "    r\"\"\"\n",
    "    Function to query data from a SQL database\n",
    "    :param query:\n",
    "    :param database:\n",
    "    :return: pd.DataFrame\n",
    "\n",
    "        Connection parameters:\n",
    "        - user: voliveira\n",
    "        - password: (get password from environment variable SQL_PASSWORD)\n",
    "        - host: ROMPETECHOS\\REPLICA\n",
    "        - port: 53373\n",
    "    \"\"\"\n",
    "    # Create the connection string\n",
    "    user = \"voliveira\"\n",
    "    password = os.environ.get(\"SQL_PASSWORD\")\n",
    "    host = r\"ROMPETECHOS\"\n",
    "    instance = \"REPLICA\"\n",
    "    port = \"53373\"\n",
    "    conn_str = f\"DRIVER=SQL Server;SERVER={host}\\\\{instance},{port};DATABASE={database};UID={user};PWD={password}\"\n",
    "\n",
    "    # Create the connection\n",
    "    try:\n",
    "        conn = pyodbc.connect(conn_str)\n",
    "    except Exception as e:\n",
    "        print(f\"Error creating connection: {e}\")\n",
    "        return None\n",
    "\n",
    "    # query the data\n",
    "    try:\n",
    "        data = pd.read_sql(query, conn)\n",
    "    except Exception as e:\n",
    "        print(f\"Error: {e}\")\n",
    "        data = None\n",
    "\n",
    "    return data"
   ],
   "id": "c4e2c00c0a944031",
   "outputs": [],
   "execution_count": 8
  },
  {
   "metadata": {
    "ExecuteTime": {
     "end_time": "2024-05-24T11:20:01.365583Z",
     "start_time": "2024-05-24T11:20:00.980780Z"
    }
   },
   "cell_type": "code",
   "source": [
    "# Query the data from A3ERP\n",
    "articulos = query_data_a3(\n",
    "    f\"SELECT CODART, DESCART, CAR1, CAR2, CAR3, CAR4 FROM dbo.ARTICULO\", \"Altra\"\n",
    ")\n",
    "caracteristicas = query_data_a3(f\"SELECT * FROM dbo.CARACTERISTICAS;\", \"Altra\")"
   ],
   "id": "283da6bc8497f2ce",
   "outputs": [
    {
     "name": "stderr",
     "output_type": "stream",
     "text": [
      "C:\\Users\\voliveira\\AppData\\Local\\Temp\\ipykernel_16612\\46097078.py:35: UserWarning: pandas only supports SQLAlchemy connectable (engine/connection) or database string URI or sqlite3 DBAPI2 connection. Other DBAPI2 objects are not tested. Please consider using SQLAlchemy.\n",
      "  data = pd.read_sql(query, conn)\n"
     ]
    }
   ],
   "execution_count": 9
  },
  {
   "metadata": {
    "ExecuteTime": {
     "end_time": "2024-05-24T11:20:02.682278Z",
     "start_time": "2024-05-24T11:20:02.665275Z"
    }
   },
   "cell_type": "code",
   "source": "articulos.sample(10)",
   "id": "892e209fec40d110",
   "outputs": [
    {
     "data": {
      "text/plain": [
       "                CODART                                            DESCART  \\\n",
       "27252     DFLI200800AR  Difusor lineal Airzone 2 vias +Reg 800 mm alum...   \n",
       "61139   RLQ1190020BTXI  Tramo izquierdo R. lineal 15° 1 dir Airzone 19...   \n",
       "38922     PP8BAXST01L6  Pack plénums Airzone CAI Standard + VMC IB8 Ba...   \n",
       "60971   RLQ1180010BTXI  Tramo izquierdo R. lineal 15° 1 dir Airzone 18...   \n",
       "47615    RDVH065045BPX  Rejilla 2 deflex V/H Airzone 650x450 mm blanco...   \n",
       "7254   AZDI6BLUEFACECB  Termostato cable a color Airzone Blueface blan...   \n",
       "13496   AZEZ8HAIST01M5  Airzone Easyzone CAI Standard + VMC IB8 Haier ...   \n",
       "22651        BKABS04S4                       BASE CUELLO 4Z KAYSUN BS04S4   \n",
       "62365  RLQ2100030AKMTE  Rejilla lineal 15° 2 dir Airzone motor 1000x30...   \n",
       "65433    RLQV165030BTX  Rejilla lineal 15° deflex V. Airzone 1650x300 ...   \n",
       "\n",
       "           CAR1      CAR2      CAR3      CAR4  \n",
       "27252         2       262        33       103  \n",
       "61139         2       262        31        84  \n",
       "38922         1       269        98        30  \n",
       "60971         2       262        31        84  \n",
       "47615         2       262        31        78  \n",
       "7254          1       251        91         1  \n",
       "13496         1       269        24        30  \n",
       "22651         6        17        80       110  \n",
       "62365         1       264        31        85  \n",
       "65433         2       262        31        75  "
      ],
      "text/html": [
       "<div>\n",
       "<style scoped>\n",
       "    .dataframe tbody tr th:only-of-type {\n",
       "        vertical-align: middle;\n",
       "    }\n",
       "\n",
       "    .dataframe tbody tr th {\n",
       "        vertical-align: top;\n",
       "    }\n",
       "\n",
       "    .dataframe thead th {\n",
       "        text-align: right;\n",
       "    }\n",
       "</style>\n",
       "<table border=\"1\" class=\"dataframe\">\n",
       "  <thead>\n",
       "    <tr style=\"text-align: right;\">\n",
       "      <th></th>\n",
       "      <th>CODART</th>\n",
       "      <th>DESCART</th>\n",
       "      <th>CAR1</th>\n",
       "      <th>CAR2</th>\n",
       "      <th>CAR3</th>\n",
       "      <th>CAR4</th>\n",
       "    </tr>\n",
       "  </thead>\n",
       "  <tbody>\n",
       "    <tr>\n",
       "      <th>27252</th>\n",
       "      <td>DFLI200800AR</td>\n",
       "      <td>Difusor lineal Airzone 2 vias +Reg 800 mm alum...</td>\n",
       "      <td>2</td>\n",
       "      <td>262</td>\n",
       "      <td>33</td>\n",
       "      <td>103</td>\n",
       "    </tr>\n",
       "    <tr>\n",
       "      <th>61139</th>\n",
       "      <td>RLQ1190020BTXI</td>\n",
       "      <td>Tramo izquierdo R. lineal 15° 1 dir Airzone 19...</td>\n",
       "      <td>2</td>\n",
       "      <td>262</td>\n",
       "      <td>31</td>\n",
       "      <td>84</td>\n",
       "    </tr>\n",
       "    <tr>\n",
       "      <th>38922</th>\n",
       "      <td>PP8BAXST01L6</td>\n",
       "      <td>Pack plénums Airzone CAI Standard + VMC IB8 Ba...</td>\n",
       "      <td>1</td>\n",
       "      <td>269</td>\n",
       "      <td>98</td>\n",
       "      <td>30</td>\n",
       "    </tr>\n",
       "    <tr>\n",
       "      <th>60971</th>\n",
       "      <td>RLQ1180010BTXI</td>\n",
       "      <td>Tramo izquierdo R. lineal 15° 1 dir Airzone 18...</td>\n",
       "      <td>2</td>\n",
       "      <td>262</td>\n",
       "      <td>31</td>\n",
       "      <td>84</td>\n",
       "    </tr>\n",
       "    <tr>\n",
       "      <th>47615</th>\n",
       "      <td>RDVH065045BPX</td>\n",
       "      <td>Rejilla 2 deflex V/H Airzone 650x450 mm blanco...</td>\n",
       "      <td>2</td>\n",
       "      <td>262</td>\n",
       "      <td>31</td>\n",
       "      <td>78</td>\n",
       "    </tr>\n",
       "    <tr>\n",
       "      <th>7254</th>\n",
       "      <td>AZDI6BLUEFACECB</td>\n",
       "      <td>Termostato cable a color Airzone Blueface blan...</td>\n",
       "      <td>1</td>\n",
       "      <td>251</td>\n",
       "      <td>91</td>\n",
       "      <td>1</td>\n",
       "    </tr>\n",
       "    <tr>\n",
       "      <th>13496</th>\n",
       "      <td>AZEZ8HAIST01M5</td>\n",
       "      <td>Airzone Easyzone CAI Standard + VMC IB8 Haier ...</td>\n",
       "      <td>1</td>\n",
       "      <td>269</td>\n",
       "      <td>24</td>\n",
       "      <td>30</td>\n",
       "    </tr>\n",
       "    <tr>\n",
       "      <th>22651</th>\n",
       "      <td>BKABS04S4</td>\n",
       "      <td>BASE CUELLO 4Z KAYSUN BS04S4</td>\n",
       "      <td>6</td>\n",
       "      <td>17</td>\n",
       "      <td>80</td>\n",
       "      <td>110</td>\n",
       "    </tr>\n",
       "    <tr>\n",
       "      <th>62365</th>\n",
       "      <td>RLQ2100030AKMTE</td>\n",
       "      <td>Rejilla lineal 15° 2 dir Airzone motor 1000x30...</td>\n",
       "      <td>1</td>\n",
       "      <td>264</td>\n",
       "      <td>31</td>\n",
       "      <td>85</td>\n",
       "    </tr>\n",
       "    <tr>\n",
       "      <th>65433</th>\n",
       "      <td>RLQV165030BTX</td>\n",
       "      <td>Rejilla lineal 15° deflex V. Airzone 1650x300 ...</td>\n",
       "      <td>2</td>\n",
       "      <td>262</td>\n",
       "      <td>31</td>\n",
       "      <td>75</td>\n",
       "    </tr>\n",
       "  </tbody>\n",
       "</table>\n",
       "</div>"
      ]
     },
     "execution_count": 10,
     "metadata": {},
     "output_type": "execute_result"
    }
   ],
   "execution_count": 10
  },
  {
   "metadata": {
    "ExecuteTime": {
     "end_time": "2024-05-24T11:20:03.694346Z",
     "start_time": "2024-05-24T11:20:03.682573Z"
    }
   },
   "cell_type": "code",
   "source": "caracteristicas.sample(10)",
   "id": "2871b4d2b92d842f",
   "outputs": [
    {
     "data": {
      "text/plain": [
       "       CODCAR          DESCCAR  NUMCAR TIPCAR   ID\n",
       "274       132     INDUCTANCIAS       5      A  169\n",
       "346      0002      Distributor       3      C  132\n",
       "209       156         MP_OTROS       4      A  198\n",
       "212       159       MP_ACTIVOS       4      A   18\n",
       "40        260          COMUNES       2      A  362\n",
       "300      2000     OBS_DIFUSION       7      A  351\n",
       "114        82  Soporte técnico       3      A  407\n",
       "365         5     Constructora       3      F   90\n",
       "391         6          CALENER       5      F   54\n",
       "397         5       SOLUCIONES       6      F  302"
      ],
      "text/html": [
       "<div>\n",
       "<style scoped>\n",
       "    .dataframe tbody tr th:only-of-type {\n",
       "        vertical-align: middle;\n",
       "    }\n",
       "\n",
       "    .dataframe tbody tr th {\n",
       "        vertical-align: top;\n",
       "    }\n",
       "\n",
       "    .dataframe thead th {\n",
       "        text-align: right;\n",
       "    }\n",
       "</style>\n",
       "<table border=\"1\" class=\"dataframe\">\n",
       "  <thead>\n",
       "    <tr style=\"text-align: right;\">\n",
       "      <th></th>\n",
       "      <th>CODCAR</th>\n",
       "      <th>DESCCAR</th>\n",
       "      <th>NUMCAR</th>\n",
       "      <th>TIPCAR</th>\n",
       "      <th>ID</th>\n",
       "    </tr>\n",
       "  </thead>\n",
       "  <tbody>\n",
       "    <tr>\n",
       "      <th>274</th>\n",
       "      <td>132</td>\n",
       "      <td>INDUCTANCIAS</td>\n",
       "      <td>5</td>\n",
       "      <td>A</td>\n",
       "      <td>169</td>\n",
       "    </tr>\n",
       "    <tr>\n",
       "      <th>346</th>\n",
       "      <td>0002</td>\n",
       "      <td>Distributor</td>\n",
       "      <td>3</td>\n",
       "      <td>C</td>\n",
       "      <td>132</td>\n",
       "    </tr>\n",
       "    <tr>\n",
       "      <th>209</th>\n",
       "      <td>156</td>\n",
       "      <td>MP_OTROS</td>\n",
       "      <td>4</td>\n",
       "      <td>A</td>\n",
       "      <td>198</td>\n",
       "    </tr>\n",
       "    <tr>\n",
       "      <th>212</th>\n",
       "      <td>159</td>\n",
       "      <td>MP_ACTIVOS</td>\n",
       "      <td>4</td>\n",
       "      <td>A</td>\n",
       "      <td>18</td>\n",
       "    </tr>\n",
       "    <tr>\n",
       "      <th>40</th>\n",
       "      <td>260</td>\n",
       "      <td>COMUNES</td>\n",
       "      <td>2</td>\n",
       "      <td>A</td>\n",
       "      <td>362</td>\n",
       "    </tr>\n",
       "    <tr>\n",
       "      <th>300</th>\n",
       "      <td>2000</td>\n",
       "      <td>OBS_DIFUSION</td>\n",
       "      <td>7</td>\n",
       "      <td>A</td>\n",
       "      <td>351</td>\n",
       "    </tr>\n",
       "    <tr>\n",
       "      <th>114</th>\n",
       "      <td>82</td>\n",
       "      <td>Soporte técnico</td>\n",
       "      <td>3</td>\n",
       "      <td>A</td>\n",
       "      <td>407</td>\n",
       "    </tr>\n",
       "    <tr>\n",
       "      <th>365</th>\n",
       "      <td>5</td>\n",
       "      <td>Constructora</td>\n",
       "      <td>3</td>\n",
       "      <td>F</td>\n",
       "      <td>90</td>\n",
       "    </tr>\n",
       "    <tr>\n",
       "      <th>391</th>\n",
       "      <td>6</td>\n",
       "      <td>CALENER</td>\n",
       "      <td>5</td>\n",
       "      <td>F</td>\n",
       "      <td>54</td>\n",
       "    </tr>\n",
       "    <tr>\n",
       "      <th>397</th>\n",
       "      <td>5</td>\n",
       "      <td>SOLUCIONES</td>\n",
       "      <td>6</td>\n",
       "      <td>F</td>\n",
       "      <td>302</td>\n",
       "    </tr>\n",
       "  </tbody>\n",
       "</table>\n",
       "</div>"
      ]
     },
     "execution_count": 11,
     "metadata": {},
     "output_type": "execute_result"
    }
   ],
   "execution_count": 11
  },
  {
   "metadata": {
    "ExecuteTime": {
     "end_time": "2024-05-24T11:20:07.399259Z",
     "start_time": "2024-05-24T11:20:07.153236Z"
    }
   },
   "cell_type": "code",
   "source": [
    "def get_unique_caracteristicas(numcar):\n",
    "    return caracteristicas[\n",
    "        (caracteristicas[\"NUMCAR\"] == numcar) & (caracteristicas[\"TIPCAR\"] == \"A\")\n",
    "    ][[\"CODCAR\", \"DESCCAR\"]]\n",
    "\n",
    "\n",
    "# Merging the characteristics with the articles\n",
    "articulos = articulos.merge(\n",
    "    get_unique_caracteristicas(1),\n",
    "    left_on=\"CAR1\",\n",
    "    right_on=\"CODCAR\",\n",
    "    how=\"left\",\n",
    "    suffixes=(None, \"1\"),\n",
    ")\n",
    "articulos = articulos.merge(\n",
    "    get_unique_caracteristicas(2),\n",
    "    left_on=\"CAR2\",\n",
    "    right_on=\"CODCAR\",\n",
    "    how=\"left\",\n",
    "    suffixes=(None, \"2\"),\n",
    ")\n",
    "articulos = articulos.merge(\n",
    "    get_unique_caracteristicas(3),\n",
    "    left_on=\"CAR3\",\n",
    "    right_on=\"CODCAR\",\n",
    "    how=\"left\",\n",
    "    suffixes=(None, \"3\"),\n",
    ")\n",
    "articulos = articulos.merge(\n",
    "    get_unique_caracteristicas(4),\n",
    "    left_on=\"CAR4\",\n",
    "    right_on=\"CODCAR\",\n",
    "    how=\"left\",\n",
    "    suffixes=(None, \"4\"),\n",
    ")\n",
    "\n",
    "# Clean usuless columns\n",
    "articulos = articulos.drop([\"CODCAR\", \"CODCAR2\", \"CODCAR3\", \"CODCAR4\"], axis=1)\n",
    "# Rename to match patterns\n",
    "articulos = articulos.rename(columns={\"DESCCAR\": \"DESCCAR1\"})"
   ],
   "id": "41a2a886e70c9f15",
   "outputs": [],
   "execution_count": 12
  },
  {
   "metadata": {
    "ExecuteTime": {
     "end_time": "2024-05-24T11:20:08.518994Z",
     "start_time": "2024-05-24T11:20:08.504960Z"
    }
   },
   "cell_type": "code",
   "source": "articulos.sample(10)",
   "id": "b66ed834e1c113e7",
   "outputs": [
    {
     "data": {
      "text/plain": [
       "                CODART                                            DESCART  \\\n",
       "37684     PP6BAXST01L8  Pack plénums Airzone Standard + VMC IB6 Baxi 8...   \n",
       "40876          PTBLF3B  Pack termostatos Blueface (1) Lite cableados b...   \n",
       "64494   RLQV105020AKXI  Tramo izquierdo R. lineal 15° deflex V. Airzon...   \n",
       "20365   AZZS6KAYST15M6    Airzone Easyzone Standard+VMC ZS6 KAY 6x200 15M   \n",
       "43426    RDHV065060BTX  Rejilla 2 deflex H/V Airzone 650x600 mm blanco...   \n",
       "47580    RDVH065035BTX  Rejilla 2 deflex V/H Airzone 650x350 mm blanco...   \n",
       "60547   RLQ1150020BKXC  Tramo central R. lineal 15° 1 dir Airzone 1500...   \n",
       "50577  RINT065010AKMTE  Rejilla Inteligente doble Airzone motorizada 6...   \n",
       "24564          CABEL66         MAZO CABLE 6 ZONAS EASYZONE SLIM L66 (OBS)   \n",
       "52945    RL00175025AKX  Rejilla lineal 0º Airzone 1750x250 mm aluminio...   \n",
       "\n",
       "           CAR1      CAR2      CAR3      CAR4           DESCCAR1  \\\n",
       "37684         1       253        98        30  SISTEMAS DE ZONAS   \n",
       "40876         1       250        98      None  SISTEMAS DE ZONAS   \n",
       "64494         2       262        31        75           DIFUSIÓN   \n",
       "20365         1       261        24        30  SISTEMAS DE ZONAS   \n",
       "43426         2       262        31        77           DIFUSIÓN   \n",
       "47580         2       262        31        78           DIFUSIÓN   \n",
       "60547         2       262        31        84           DIFUSIÓN   \n",
       "50577         1       264        31        92  SISTEMAS DE ZONAS   \n",
       "24564         6        17        80       139    MATERIAS PRIMAS   \n",
       "52945         2       262        31        86           DIFUSIÓN   \n",
       "\n",
       "                                                DESCCAR2           DESCCAR3  \\\n",
       "37684                                     EASYZONE (EZ6)              PACKS   \n",
       "40876                                        FLEXA (CE6)              PACKS   \n",
       "64494                             DIFUSION NO MOTORIZADA           REJILLAS   \n",
       "20365  2 tubos / 2 hilos (ZS6)\\r\\n2 tubos / 2 hilos (...  PLENUM MOTORIZADO   \n",
       "43426                             DIFUSION NO MOTORIZADA           REJILLAS   \n",
       "47580                             DIFUSION NO MOTORIZADA           REJILLAS   \n",
       "60547                             DIFUSION NO MOTORIZADA           REJILLAS   \n",
       "50577                                DIFUSION MOTORIZADA           REJILLAS   \n",
       "24564                                    MATERIAS PRIMAS         REEMPLAZOS   \n",
       "52945                             DIFUSION NO MOTORIZADA           REJILLAS   \n",
       "\n",
       "                  DESCCAR4  \n",
       "37684  Plénum Standar (ST)  \n",
       "40876                  NaN  \n",
       "64494                 RLQV  \n",
       "20365  Plénum Standar (ST)  \n",
       "43426                 RDHV  \n",
       "47580                 RDVH  \n",
       "60547                 RLQ1  \n",
       "50577                 RINT  \n",
       "24564             MP_CABLE  \n",
       "52945                 RL00  "
      ],
      "text/html": [
       "<div>\n",
       "<style scoped>\n",
       "    .dataframe tbody tr th:only-of-type {\n",
       "        vertical-align: middle;\n",
       "    }\n",
       "\n",
       "    .dataframe tbody tr th {\n",
       "        vertical-align: top;\n",
       "    }\n",
       "\n",
       "    .dataframe thead th {\n",
       "        text-align: right;\n",
       "    }\n",
       "</style>\n",
       "<table border=\"1\" class=\"dataframe\">\n",
       "  <thead>\n",
       "    <tr style=\"text-align: right;\">\n",
       "      <th></th>\n",
       "      <th>CODART</th>\n",
       "      <th>DESCART</th>\n",
       "      <th>CAR1</th>\n",
       "      <th>CAR2</th>\n",
       "      <th>CAR3</th>\n",
       "      <th>CAR4</th>\n",
       "      <th>DESCCAR1</th>\n",
       "      <th>DESCCAR2</th>\n",
       "      <th>DESCCAR3</th>\n",
       "      <th>DESCCAR4</th>\n",
       "    </tr>\n",
       "  </thead>\n",
       "  <tbody>\n",
       "    <tr>\n",
       "      <th>37684</th>\n",
       "      <td>PP6BAXST01L8</td>\n",
       "      <td>Pack plénums Airzone Standard + VMC IB6 Baxi 8...</td>\n",
       "      <td>1</td>\n",
       "      <td>253</td>\n",
       "      <td>98</td>\n",
       "      <td>30</td>\n",
       "      <td>SISTEMAS DE ZONAS</td>\n",
       "      <td>EASYZONE (EZ6)</td>\n",
       "      <td>PACKS</td>\n",
       "      <td>Plénum Standar (ST)</td>\n",
       "    </tr>\n",
       "    <tr>\n",
       "      <th>40876</th>\n",
       "      <td>PTBLF3B</td>\n",
       "      <td>Pack termostatos Blueface (1) Lite cableados b...</td>\n",
       "      <td>1</td>\n",
       "      <td>250</td>\n",
       "      <td>98</td>\n",
       "      <td>None</td>\n",
       "      <td>SISTEMAS DE ZONAS</td>\n",
       "      <td>FLEXA (CE6)</td>\n",
       "      <td>PACKS</td>\n",
       "      <td>NaN</td>\n",
       "    </tr>\n",
       "    <tr>\n",
       "      <th>64494</th>\n",
       "      <td>RLQV105020AKXI</td>\n",
       "      <td>Tramo izquierdo R. lineal 15° deflex V. Airzon...</td>\n",
       "      <td>2</td>\n",
       "      <td>262</td>\n",
       "      <td>31</td>\n",
       "      <td>75</td>\n",
       "      <td>DIFUSIÓN</td>\n",
       "      <td>DIFUSION NO MOTORIZADA</td>\n",
       "      <td>REJILLAS</td>\n",
       "      <td>RLQV</td>\n",
       "    </tr>\n",
       "    <tr>\n",
       "      <th>20365</th>\n",
       "      <td>AZZS6KAYST15M6</td>\n",
       "      <td>Airzone Easyzone Standard+VMC ZS6 KAY 6x200 15M</td>\n",
       "      <td>1</td>\n",
       "      <td>261</td>\n",
       "      <td>24</td>\n",
       "      <td>30</td>\n",
       "      <td>SISTEMAS DE ZONAS</td>\n",
       "      <td>2 tubos / 2 hilos (ZS6)\\r\\n2 tubos / 2 hilos (...</td>\n",
       "      <td>PLENUM MOTORIZADO</td>\n",
       "      <td>Plénum Standar (ST)</td>\n",
       "    </tr>\n",
       "    <tr>\n",
       "      <th>43426</th>\n",
       "      <td>RDHV065060BTX</td>\n",
       "      <td>Rejilla 2 deflex H/V Airzone 650x600 mm blanco...</td>\n",
       "      <td>2</td>\n",
       "      <td>262</td>\n",
       "      <td>31</td>\n",
       "      <td>77</td>\n",
       "      <td>DIFUSIÓN</td>\n",
       "      <td>DIFUSION NO MOTORIZADA</td>\n",
       "      <td>REJILLAS</td>\n",
       "      <td>RDHV</td>\n",
       "    </tr>\n",
       "    <tr>\n",
       "      <th>47580</th>\n",
       "      <td>RDVH065035BTX</td>\n",
       "      <td>Rejilla 2 deflex V/H Airzone 650x350 mm blanco...</td>\n",
       "      <td>2</td>\n",
       "      <td>262</td>\n",
       "      <td>31</td>\n",
       "      <td>78</td>\n",
       "      <td>DIFUSIÓN</td>\n",
       "      <td>DIFUSION NO MOTORIZADA</td>\n",
       "      <td>REJILLAS</td>\n",
       "      <td>RDVH</td>\n",
       "    </tr>\n",
       "    <tr>\n",
       "      <th>60547</th>\n",
       "      <td>RLQ1150020BKXC</td>\n",
       "      <td>Tramo central R. lineal 15° 1 dir Airzone 1500...</td>\n",
       "      <td>2</td>\n",
       "      <td>262</td>\n",
       "      <td>31</td>\n",
       "      <td>84</td>\n",
       "      <td>DIFUSIÓN</td>\n",
       "      <td>DIFUSION NO MOTORIZADA</td>\n",
       "      <td>REJILLAS</td>\n",
       "      <td>RLQ1</td>\n",
       "    </tr>\n",
       "    <tr>\n",
       "      <th>50577</th>\n",
       "      <td>RINT065010AKMTE</td>\n",
       "      <td>Rejilla Inteligente doble Airzone motorizada 6...</td>\n",
       "      <td>1</td>\n",
       "      <td>264</td>\n",
       "      <td>31</td>\n",
       "      <td>92</td>\n",
       "      <td>SISTEMAS DE ZONAS</td>\n",
       "      <td>DIFUSION MOTORIZADA</td>\n",
       "      <td>REJILLAS</td>\n",
       "      <td>RINT</td>\n",
       "    </tr>\n",
       "    <tr>\n",
       "      <th>24564</th>\n",
       "      <td>CABEL66</td>\n",
       "      <td>MAZO CABLE 6 ZONAS EASYZONE SLIM L66 (OBS)</td>\n",
       "      <td>6</td>\n",
       "      <td>17</td>\n",
       "      <td>80</td>\n",
       "      <td>139</td>\n",
       "      <td>MATERIAS PRIMAS</td>\n",
       "      <td>MATERIAS PRIMAS</td>\n",
       "      <td>REEMPLAZOS</td>\n",
       "      <td>MP_CABLE</td>\n",
       "    </tr>\n",
       "    <tr>\n",
       "      <th>52945</th>\n",
       "      <td>RL00175025AKX</td>\n",
       "      <td>Rejilla lineal 0º Airzone 1750x250 mm aluminio...</td>\n",
       "      <td>2</td>\n",
       "      <td>262</td>\n",
       "      <td>31</td>\n",
       "      <td>86</td>\n",
       "      <td>DIFUSIÓN</td>\n",
       "      <td>DIFUSION NO MOTORIZADA</td>\n",
       "      <td>REJILLAS</td>\n",
       "      <td>RL00</td>\n",
       "    </tr>\n",
       "  </tbody>\n",
       "</table>\n",
       "</div>"
      ]
     },
     "execution_count": 13,
     "metadata": {},
     "output_type": "execute_result"
    }
   ],
   "execution_count": 13
  },
  {
   "metadata": {
    "ExecuteTime": {
     "end_time": "2024-05-14T05:40:20.482584Z",
     "start_time": "2024-05-14T05:40:16.890669Z"
    }
   },
   "cell_type": "code",
   "source": [
    "from thefuzz import process, fuzz\n",
    "\n",
    "\n",
    "def find_best_match(cod, codart_list, return_score=True):\n",
    "    best_match, score = process.extractOne(\n",
    "        cod, codart_list, scorer=fuzz.token_set_ratio\n",
    "    )\n",
    "    return (best_match, score) if return_score else best_match"
   ],
   "id": "f4258c8bb9b8516",
   "execution_count": 25,
   "outputs": []
  },
  {
   "metadata": {
    "ExecuteTime": {
     "end_time": "2024-05-14T05:40:31.643029Z",
     "start_time": "2024-05-14T05:40:31.481664Z"
    }
   },
   "cell_type": "code",
   "source": [
    "\"\"\"# Add the CODART to the text_to_analyse dataframe\n",
    "text_to_analyse[['CODART_A3','Fuzzy_Score']] = (text_to_analyse['cod_articulo']\n",
    "                                                .apply(lambda x: pd.Series(find_best_match(x, articulos['CODART'].values))))\n",
    "\n",
    "# Save to disk\n",
    "text_to_analyse[['cod_articulo','CODART_A3','Fuzzy_Score']].to_csv(\"../DATA/fuzzy_matches_w_scores.csv\", sep='¬', encoding='utf-8-sig', index=False)\"\"\"\n",
    "\n",
    "# Load fuzzy matches from disk\n",
    "fuzzy_matches = pd.read_csv(\n",
    "    \"../DATA/fuzzy_matches_w_scores.csv\", sep=\"¬\", encoding=\"utf-8-sig\"\n",
    ")\n",
    "fuzzy_matches.drop_duplicates(inplace=True)\n",
    "\n",
    "# Merge the fuzzy matches with the text_to_analyse dataframe\n",
    "text_to_analyse = text_to_analyse.merge(\n",
    "    fuzzy_matches, left_on=\"cod_articulo\", right_on=\"cod_articulo\", how=\"left\"\n",
    ")"
   ],
   "id": "5120904ab1682936",
   "execution_count": 26,
   "outputs": []
  },
  {
   "metadata": {
    "ExecuteTime": {
     "end_time": "2024-05-14T05:40:31.931062Z",
     "start_time": "2024-05-14T05:40:31.921984Z"
    }
   },
   "cell_type": "code",
   "source": "text_to_analyse.sample(10)",
   "id": "c73f51f6de1460b",
   "execution_count": 27,
   "outputs": []
  },
  {
   "metadata": {
    "ExecuteTime": {
     "end_time": "2024-05-14T05:40:33.792162Z",
     "start_time": "2024-05-14T05:40:33.785624Z"
    }
   },
   "cell_type": "code",
   "source": [
    "# Count the number of NaN values in column CODART_A3\n",
    "text_to_analyse[\"CODART_A3\"].isna().sum()"
   ],
   "id": "b210af0f25b796f5",
   "execution_count": 28,
   "outputs": []
  },
  {
   "metadata": {
    "ExecuteTime": {
     "end_time": "2024-05-14T05:40:34.533235Z",
     "start_time": "2024-05-14T05:40:34.499203Z"
    }
   },
   "cell_type": "code",
   "source": [
    "# Fill NA with 0\n",
    "text_to_analyse.fillna(\"0\", inplace=True)"
   ],
   "id": "2edf5298798cc60a",
   "execution_count": 29,
   "outputs": []
  },
  {
   "metadata": {
    "ExecuteTime": {
     "end_time": "2024-05-14T05:40:36.502063Z",
     "start_time": "2024-05-14T05:40:36.441556Z"
    }
   },
   "cell_type": "code",
   "source": [
    "# Clean the text_to_analyse dataframe\n",
    "# text_to_analyse = text_to_analyse[text_to_analyse['CODART_A3'] != '0']\n",
    "# text_to_analyse = text_to_analyse[text_to_analyse['CODART_A3'].notna()]\n",
    "text_to_analyse = text_to_analyse[text_to_analyse[\"text_to_analyse\"].str.len() > 25]\n",
    "# Clean rows with only NO FUNCIONA in text_to_analyse\n",
    "text_to_analyse = text_to_analyse[\n",
    "    text_to_analyse[\"text_to_analyse\"].str.replace(\"NO FUNCIONA\", \"\").str.len() > 25\n",
    "]\n",
    "text_to_analyse.head()"
   ],
   "id": "8f0cf8120dd08c7f",
   "execution_count": 30,
   "outputs": []
  },
  {
   "metadata": {
    "ExecuteTime": {
     "end_time": "2024-05-14T05:40:38.709455Z",
     "start_time": "2024-05-14T05:40:38.651667Z"
    }
   },
   "cell_type": "code",
   "source": [
    "# Merge the text_to_analyse with the articulos dataframe\n",
    "text_to_analyse = text_to_analyse.merge(\n",
    "    articulos, left_on=\"CODART_A3\", right_on=\"CODART\", how=\"left\"\n",
    ")\n",
    "text_to_analyse.head()"
   ],
   "id": "52966a3b38620c4c",
   "execution_count": 31,
   "outputs": []
  },
  {
   "metadata": {
    "ExecuteTime": {
     "end_time": "2024-05-14T05:40:39.297900Z",
     "start_time": "2024-05-14T05:40:39.151697Z"
    }
   },
   "cell_type": "code",
   "source": [
    "text_to_analyse = text_to_analyse.fillna(\"\")\n",
    "text_to_analyse = text_to_analyse.copy()\n",
    "text_to_analyse[\"text_to_analyse\"] = (\n",
    "    text_to_analyse[\"desc_problema_translated\"]\n",
    "    + \" \"\n",
    "    + text_to_analyse[\"descripcion_translated\"]\n",
    "    + \" \"\n",
    "    + text_to_analyse[\"problema_translated\"]\n",
    "    + \" \"\n",
    "    + text_to_analyse[\"CODART_A3\"]\n",
    ")\n",
    "\n",
    "text_to_analyse.head(10)"
   ],
   "id": "d9d14fd7ed23961c",
   "execution_count": 32,
   "outputs": []
  },
  {
   "metadata": {
    "ExecuteTime": {
     "end_time": "2024-05-13T14:17:31.672820Z",
     "start_time": "2024-05-13T14:17:30.789824Z"
    }
   },
   "cell_type": "code",
   "source": [
    "# Save to disk\n",
    "os.makedirs(data_base_path, exist_ok=True)\n",
    "text_to_analyse.to_csv(\n",
    "    f\"{data_base_path}/text_to_analyse.csv\", sep=\"¬\", encoding=\"utf-8-sig\", index=False\n",
    ")"
   ],
   "id": "894b3c42e16c544c",
   "execution_count": 33,
   "outputs": []
  },
  {
   "metadata": {
    "ExecuteTime": {
     "end_time": "2024-05-14T05:40:47.845924Z",
     "start_time": "2024-05-14T05:40:47.311839Z"
    }
   },
   "cell_type": "code",
   "source": [
    "# Load from disk\n",
    "text_to_analyse = pd.read_csv(\n",
    "    f\"../DATA/processed/2024-05-13/text_to_analyse.csv\", sep=\"¬\", encoding=\"utf-8-sig\"\n",
    ")\n",
    "text_to_analyse.head()"
   ],
   "id": "bd9aa667b1288f0",
   "execution_count": 33,
   "outputs": []
  },
  {
   "metadata": {},
   "cell_type": "markdown",
   "source": "",
   "id": "94ac5dba8a132333"
  },
  {
   "metadata": {
    "ExecuteTime": {
     "end_time": "2024-05-14T05:40:54.093385Z",
     "start_time": "2024-05-14T05:40:52.823364Z"
    }
   },
   "cell_type": "code",
   "source": [
    "group_by_family = (\n",
    "    text_to_analyse.groupby(\"DESCCAR3\").size().sort_values(ascending=False)\n",
    ")\n",
    "cummulative_percentage = group_by_family.cumsum() / group_by_family.sum() * 100\n",
    "\n",
    "# Bars\n",
    "plt.figure(figsize=(20, 8))\n",
    "plt.bar(group_by_family.index, group_by_family.values, zorder=2)\n",
    "plt.xticks(rotation=90)\n",
    "plt.xlabel(\"Family\")\n",
    "plt.ylabel(\"Number of problems\")\n",
    "plt.title(\"Number of problems by family\")\n",
    "plt.grid(zorder=0)\n",
    "\n",
    "# Cumulative percentage\n",
    "plt.twinx()\n",
    "plt.plot(cummulative_percentage, color=\"red\", marker=\"o\", zorder=2)\n",
    "plt.ylabel(\"Cumulative percentage\")\n",
    "# plot the point labels\n",
    "for i in range(15):\n",
    "    plt.text(\n",
    "        i,\n",
    "        cummulative_percentage.values[i],\n",
    "        f\"{cummulative_percentage.values[i]:.2f}\",\n",
    "        ha=\"center\",\n",
    "        va=\"bottom\",\n",
    "        zorder=3,\n",
    "    )\n",
    "plt.grid(False)\n",
    "\n",
    "plt.show()"
   ],
   "id": "f7470d3326f80aef",
   "execution_count": 34,
   "outputs": []
  },
  {
   "metadata": {
    "ExecuteTime": {
     "end_time": "2024-05-14T10:18:16.633189Z",
     "start_time": "2024-05-14T10:18:16.629323Z"
    }
   },
   "cell_type": "code",
   "source": [
    "# Define the families to remove\n",
    "special_families = [\"REEMPLAZOS\", \"PACKS\"]\n",
    "meanless_families = [\n",
    "    \"DOCUMENTACION\",\n",
    "    \"EXPOSITORES\",\n",
    "    \"TOBERAS\",\n",
    "    \"MP_CONSUMIBLES\",\n",
    "    \"OBS_CENTRALIZADO\",\n",
    "    \"MP_ELECTRONICA\",\n",
    "    \"MP_TERMINADOS/SEMI\",\n",
    "    \"MP_MECANICOS\",\n",
    "    \"OBS_REJILLA MOTORIZADA\",\n",
    "    \"OBS_COMUNES\",\n",
    "    \"OBS_DISTRIBUIDO\",\n",
    "    \"DOCUMENTACION\",\n",
    "    \"OBS_DIFUSOR SIN REGULACIÓN\",\n",
    "    \"EXPOSITORES\",\n",
    "    \"OBS_OTROS\",\n",
    "    \"MP_SERVICIOS\",\n",
    "    \"MP_I+D\",\n",
    "    \"OBS_REJILLA SIN REGULACIÓN\",\n",
    "    \"OBS_PANTALLAS GRAFICAS\",\n",
    "    \"OBS_IB PRO USA\",\n",
    "    \"Soporte técnico\",\n",
    "    \"PUESTA EN MARCHA\",\n",
    "    \"MP_DIFUSION\",\n",
    "    \"OBS_ALARMAS TÉCNICAS\",\n",
    "    \"MP_CHAPAS\",\n",
    "    \"MP_CABLE\",\n",
    "    \"OBS_CABLE\",\n",
    "    \"MP_MOTORES\",\n",
    "    \"MERCHANDISING\",\n",
    "    \"OBS_ZONEPAD\",\n",
    "    \"OBS_COMUNICACIONES\",\n",
    "    \"OBS_DIFUSOR MOTORIZADO\",\n",
    "    \"OBS_CAJA DE MEZCLA\",\n",
    "    \"OBS_ANTREE\",\n",
    "]"
   ],
   "id": "200a56d4aeeed070",
   "execution_count": 291,
   "outputs": []
  },
  {
   "metadata": {
    "ExecuteTime": {
     "end_time": "2024-05-14T05:44:44.520574Z",
     "start_time": "2024-05-14T05:44:44.504929Z"
    }
   },
   "cell_type": "code",
   "source": [
    "# Remove the meanless families\n",
    "text_to_analyse_clean = text_to_analyse[\n",
    "    ~text_to_analyse[\"DESCCAR3\"].isin(meanless_families)\n",
    "]\n",
    "text_to_analyse_clean = text_to_analyse_clean[\n",
    "    ~text_to_analyse[\"DESCCAR3\"].isin(special_families)\n",
    "]"
   ],
   "id": "4337f60353750465",
   "execution_count": 37,
   "outputs": []
  },
  {
   "metadata": {
    "ExecuteTime": {
     "end_time": "2024-05-14T05:47:42.462437Z",
     "start_time": "2024-05-14T05:47:42.444694Z"
    }
   },
   "cell_type": "code",
   "source": [
    "# Clean low similariy scores\n",
    "threshold = 85\n",
    "text_to_analyse_clean = text_to_analyse_clean[\n",
    "    text_to_analyse_clean[\"Fuzzy_Score\"] >= threshold\n",
    "]"
   ],
   "id": "91a174e3cf81adf4",
   "execution_count": 40,
   "outputs": []
  },
  {
   "metadata": {
    "ExecuteTime": {
     "end_time": "2024-05-14T11:11:10.311024Z",
     "start_time": "2024-05-14T11:11:10.307119Z"
    }
   },
   "cell_type": "code",
   "source": [
    "\"\"\"count_meanless_families = text_to_analyse[text_to_analyse['DESCCAR3'].isin(meanless_families)]['codigo'].count()\n",
    "count_special_families = text_to_analyse[text_to_analyse['DESCCAR3'].isin(special_families)]['codigo'].count()\n",
    "\n",
    "teste = text_to_analyse[~text_to_analyse['DESCCAR3'].isin(meanless_families)]\n",
    "teste = teste[~teste['DESCCAR3'].isin(special_families)]\n",
    "\n",
    "count_fuzzy = teste[teste['Fuzzy_Score'] < 85]['codigo'].count()\n",
    "\n",
    "count_total = count_meanless_families + count_fuzzy\n",
    "\n",
    "\n",
    "print(f\"Total rows before cleaning: {text_to_analyse.shape[0]}\")\n",
    "print(f\"Total rows after cleaning cod articulo: {text_to_analyse_clean.shape[0]+count_special_families}\")\n",
    "print(f\"Total rows with bad cod articulo: {count_total}\")\n",
    "print(f\"Percentage of rows with bad cod articulo: {count_total / (text_to_analyse.shape[0]-count_special_families) * 100:.2f}%\")\n",
    "print(f\"Total rows after cleaning families: {text_to_analyse_clean.shape[0]}\")\n",
    "print(f\"Total 'REEMPLAZOS'+'PACKS': {count_special_families}\")\n",
    "print(f\"Percentage of 'REEMPLAZOS'+'PACKS': {count_special_families / text_to_analyse_clean.shape[0] * 100:.2f}%\")\"\"\"\n",
    "\n",
    "\"\"\"\"\"\"\n",
    "# Total rows before cleaning: 35732\n",
    "# Total rows after cleaning cod articulo: 31269\n",
    "# Total rows with bad cod articulo: 4463\n",
    "# Percentage of rows with bad cod articulo: 14.82%\n",
    "# Total rows after cleaning families: 25661\n",
    "# Total 'REEMPLAZOS'+'PACKS': 5608\n",
    "# Percentage of 'REEMPLAZOS'+'PACKS': 21.85%"
   ],
   "id": "43152066e3c300d0",
   "execution_count": 315,
   "outputs": []
  },
  {
   "metadata": {
    "ExecuteTime": {
     "end_time": "2024-05-14T05:52:56.688179Z",
     "start_time": "2024-05-14T05:52:56.240049Z"
    }
   },
   "cell_type": "code",
   "source": [
    "## Save to disk\n",
    "# os.makedirs(data_base_path, exist_ok=True)\n",
    "# text_to_analyse_clean.to_csv(f\"{data_base_path}/text_to_analyse_clean.csv\", sep='¬', encoding='utf-8-sig', index=False)"
   ],
   "id": "c4cd01ba2da66fa8",
   "execution_count": 46,
   "outputs": []
  },
  {
   "metadata": {
    "ExecuteTime": {
     "end_time": "2024-05-14T08:08:06.413806Z",
     "start_time": "2024-05-14T08:08:06.097015Z"
    }
   },
   "cell_type": "code",
   "source": [
    "# Load from disk\n",
    "text_to_analyse_clean = pd.read_csv(\n",
    "    f\"{data_base_path}/text_to_analyse_clean.csv\", sep=\"¬\", encoding=\"utf-8-sig\"\n",
    ")"
   ],
   "id": "c07307f42bcd07b6",
   "execution_count": 255,
   "outputs": []
  },
  {
   "metadata": {},
   "cell_type": "markdown",
   "source": "## Train DocVec and save the model",
   "id": "e7b2c1173790c33a"
  },
  {
   "metadata": {
    "ExecuteTime": {
     "end_time": "2024-05-14T08:08:29.545843Z",
     "start_time": "2024-05-14T08:08:29.091119Z"
    }
   },
   "cell_type": "code",
   "source": [
    "import spacy\n",
    "\n",
    "nlp = spacy.load(\"es_core_news_sm\")\n",
    "# nlp = spacy.load('es_core_news_md')\n",
    "# nlp = spacy.load('es_core_news_sm')\n",
    "import multiprocessing\n",
    "from collections import OrderedDict\n",
    "import gensim.models.doc2vec\n",
    "\n",
    "assert gensim.models.doc2vec.FAST_VERSION > -1, \"This will be painfully slow otherwise\"\n",
    "from gensim.models.doc2vec import Doc2Vec, TaggedDocument"
   ],
   "id": "b525a5e3e054bc3f",
   "execution_count": 256,
   "outputs": []
  },
  {
   "metadata": {
    "ExecuteTime": {
     "end_time": "2024-05-14T08:08:29.891098Z",
     "start_time": "2024-05-14T08:08:29.887616Z"
    }
   },
   "cell_type": "code",
   "source": [
    "# Function to preprocess the text\n",
    "def preprocess_text(docs):\n",
    "    texts = [doc for doc in nlp.pipe(docs, disable=[\"ner\", \"parser\"])]\n",
    "    processed_texts = []\n",
    "    for doc in texts:\n",
    "        tokens = [\n",
    "            token.text.lower()\n",
    "            for token in doc\n",
    "            if not token.is_punct and not token.is_stop and not token.is_space\n",
    "        ]\n",
    "        processed_texts.append(\" \".join(tokens))\n",
    "    return processed_texts"
   ],
   "id": "c641ea3216522e86",
   "execution_count": 257,
   "outputs": []
  },
  {
   "metadata": {
    "ExecuteTime": {
     "end_time": "2024-05-14T08:08:30.709631Z",
     "start_time": "2024-05-14T08:08:30.706144Z"
    }
   },
   "cell_type": "code",
   "source": [
    "# Class Model with comments\n",
    "class CommentedDoc2Vec(Doc2Vec):\n",
    "    def __init__(self, comment=\"\", **kwargs):\n",
    "        super().__init__(**kwargs)\n",
    "        self.comment = comment"
   ],
   "id": "239e338675b929f1",
   "execution_count": 258,
   "outputs": []
  },
  {
   "metadata": {
    "ExecuteTime": {
     "end_time": "2024-05-14T05:55:11.004534Z",
     "start_time": "2024-05-14T05:54:28.555904Z"
    }
   },
   "cell_type": "code",
   "source": [
    "# Load train corpus from disk\n",
    "corpus = pd.read_csv(\"../DATA/processed/2024-05-13/corpus.csv\")\n",
    "corpus[\"processed_text\"] = preprocess_text(corpus[\"text_to_analyse\"])\n",
    "corpus.head()"
   ],
   "id": "d374d6a6bfea96fd",
   "execution_count": 50,
   "outputs": []
  },
  {
   "metadata": {
    "ExecuteTime": {
     "end_time": "2024-05-14T05:55:11.008406Z",
     "start_time": "2024-05-14T05:55:11.004534Z"
    }
   },
   "cell_type": "code",
   "source": [
    "common_kwargs = dict(\n",
    "    vector_size=200,\n",
    "    epochs=20,\n",
    "    min_count=2,\n",
    "    sample=0,\n",
    "    workers=multiprocessing.cpu_count(),\n",
    "    negative=5,\n",
    "    hs=0,\n",
    "    seed=0,\n",
    ")"
   ],
   "id": "d522f6c463967970",
   "execution_count": 51,
   "outputs": []
  },
  {
   "metadata": {},
   "cell_type": "code",
   "execution_count": null,
   "source": [
    "# PV-DBOW plain\n",
    "model = CommentedDoc2Vec(\n",
    "    dm=0,\n",
    "    comment=f\"PV-DBOW-\"\n",
    "    f\"v_size {common_kwargs['vector_size']}-\"\n",
    "    f\"epochs {common_kwargs['epochs']}-\"\n",
    "    f\"hs {common_kwargs['hs']}-\"\n",
    "    f\"sample {common_kwargs['sample']}-\"\n",
    "    f\"negative {common_kwargs['negative']}-\"\n",
    "    f\"min_count {common_kwargs['min_count']}\",\n",
    "    **common_kwargs,\n",
    ")"
   ],
   "id": "b2959641b2a5d120",
   "outputs": []
  },
  {
   "metadata": {},
   "cell_type": "code",
   "execution_count": null,
   "source": [
    "# Create TaggedDocument objects\n",
    "tagged_data = [\n",
    "    TaggedDocument(words=doc.split(), tags=[i])\n",
    "    for i, doc in enumerate(corpus[\"processed_text\"])\n",
    "]"
   ],
   "id": "63cbaac00c9d1d7b",
   "outputs": []
  },
  {
   "metadata": {},
   "cell_type": "code",
   "execution_count": null,
   "source": [
    "# Build the vocabulary\n",
    "model.build_vocab(tagged_data)\n",
    "print(\"Model: %s : vocabulary scanned & state initialized\" % model.comment)"
   ],
   "id": "69adfb82f5535357",
   "outputs": []
  },
  {
   "metadata": {},
   "cell_type": "code",
   "execution_count": null,
   "source": [
    "# Train the model using the Corpus\n",
    "model.train(tagged_data, total_examples=model.corpus_count, epochs=model.epochs)\n",
    "print(\"%s training completed\" % model.comment)"
   ],
   "id": "7bcaea84de265467",
   "outputs": []
  },
  {
   "metadata": {},
   "cell_type": "code",
   "execution_count": null,
   "source": [
    "# Save the model\n",
    "os.makedirs(model_base_path, exist_ok=True)\n",
    "model_name = (\n",
    "    f\"{model_base_path}/{type(model).__name__}_{model.comment.replace(' ', '_')}.model\"\n",
    ")\n",
    "model.save(model_name)\n",
    "print(f\"Model saved at {model_name}\")"
   ],
   "id": "882cae1985ab3da9",
   "outputs": []
  },
  {
   "metadata": {},
   "cell_type": "markdown",
   "source": "## Load the model and infer vectors",
   "id": "879689151c598baa"
  },
  {
   "metadata": {
    "ExecuteTime": {
     "end_time": "2024-05-14T08:08:36.467871Z",
     "start_time": "2024-05-14T08:08:36.272235Z"
    }
   },
   "cell_type": "code",
   "source": [
    "# Load the model\n",
    "model_name = \"../MODELS/2024-05-13/CommentedDoc2Vec_PV-DBOW-v_size_200-epochs_20-hs_0-sample_0-negative_5-min_count_2.model\"\n",
    "model = CommentedDoc2Vec.load(model_name)\n",
    "print(f\"Model {model} loaded\")"
   ],
   "id": "68e6460b0c913519",
   "execution_count": 259,
   "outputs": []
  },
  {
   "metadata": {
    "ExecuteTime": {
     "end_time": "2024-05-14T08:09:23.526999Z",
     "start_time": "2024-05-14T08:08:39.690117Z"
    }
   },
   "cell_type": "code",
   "source": [
    "# Infer vectors for the text_to_analyse\n",
    "text_to_analyse_clean[\"processed_text\"] = preprocess_text(\n",
    "    text_to_analyse_clean[\"text_to_analyse\"]\n",
    ")\n",
    "text_to_analyse_clean[\"vector\"] = text_to_analyse_clean[\"processed_text\"].apply(\n",
    "    lambda x: model.infer_vector(x.split())\n",
    ")"
   ],
   "id": "aab9f4589bfd60fa",
   "execution_count": 260,
   "outputs": []
  },
  {
   "metadata": {
    "ExecuteTime": {
     "end_time": "2024-05-14T08:09:23.550152Z",
     "start_time": "2024-05-14T08:09:23.528036Z"
    }
   },
   "cell_type": "code",
   "source": "text_to_analyse_clean.sample(10)",
   "id": "a2ddf9499bb69244",
   "execution_count": 261,
   "outputs": []
  },
  {
   "metadata": {},
   "cell_type": "markdown",
   "source": "## Calculate the similarity between the texts",
   "id": "fa6574c7550ab5e2"
  },
  {
   "metadata": {
    "ExecuteTime": {
     "end_time": "2024-05-14T08:09:23.557778Z",
     "start_time": "2024-05-14T08:09:23.550152Z"
    }
   },
   "cell_type": "code",
   "source": [
    "# Read list of errors\n",
    "errors = pd.read_csv(\"../DATA/TablaTipoErrorPostventa.csv\", sep=\";\", header=1)[\n",
    "    [\"Código\", \"CODCAR3\", \"CODCAR2\", \"DESCFAM\", \"Motivo General\"]\n",
    "]\n",
    "errors.columns = [\n",
    "    \"ID_ERROR\",\n",
    "    \"CODCAR3\",\n",
    "    \"CODCAR2\",\n",
    "    \"DESCFAM\",\n",
    "    \"DESCRIPCION\",\n",
    "]  # Rename columns\n",
    "errors[\"CODCAR2\"] = errors[\"CODCAR2\"].str.replace(\"-\", \"0\").astype(int)  # Clean CODCAR2"
   ],
   "id": "fb297aac6cb9e59b",
   "execution_count": 262,
   "outputs": []
  },
  {
   "metadata": {
    "ExecuteTime": {
     "end_time": "2024-05-14T08:09:23.621106Z",
     "start_time": "2024-05-14T08:09:23.558778Z"
    }
   },
   "cell_type": "code",
   "source": [
    "# Infer vector for errors\n",
    "errors[\"description_processed\"] = preprocess_text(errors[\"DESCRIPCION\"])\n",
    "errors[\"vector\"] = errors[\"description_processed\"].apply(\n",
    "    lambda x: model.infer_vector(x.split())\n",
    ")"
   ],
   "id": "e8ff7506bd111e33",
   "execution_count": 263,
   "outputs": []
  },
  {
   "metadata": {
    "ExecuteTime": {
     "end_time": "2024-05-14T08:09:23.635348Z",
     "start_time": "2024-05-14T08:09:23.622107Z"
    }
   },
   "cell_type": "code",
   "source": "errors",
   "id": "32527d7fa8f326d2",
   "execution_count": 264,
   "outputs": []
  },
  {
   "metadata": {
    "ExecuteTime": {
     "end_time": "2024-05-14T08:09:23.640240Z",
     "start_time": "2024-05-14T08:09:23.636349Z"
    }
   },
   "cell_type": "code",
   "source": [
    "from sklearn.metrics.pairwise import cosine_similarity\n",
    "\n",
    "\n",
    "def calculate_cosine_score(vector, vector_error):\n",
    "    return cosine_similarity(vector.reshape(1, -1), vector_error.reshape(1, -1))[0][0]\n",
    "\n",
    "\n",
    "def calculate_mean_cosine_score(vector, vector_error, n=5):\n",
    "    if vector.size == 0 or vector_error.size == 0:\n",
    "        return np.nan  # Return NaN if there's no vector to compare\n",
    "    cosine_scores = []\n",
    "    for i in range(n):\n",
    "        cosine_scores.append(calculate_cosine_score(vector, vector_error))\n",
    "    return np.mean(cosine_scores)"
   ],
   "id": "9f2d1efdfe544d83",
   "execution_count": 265,
   "outputs": []
  },
  {
   "metadata": {
    "ExecuteTime": {
     "end_time": "2024-05-14T08:13:11.987440Z",
     "start_time": "2024-05-14T08:09:23.641239Z"
    }
   },
   "cell_type": "code",
   "source": [
    "# Calculate the cosine similarity between the text_to_analyse and the errors\n",
    "for index, row in errors.iterrows():\n",
    "    # Create a condition for filtering\n",
    "    condition = text_to_analyse_clean[\"CAR3\"] == row[\"CODCAR3\"]\n",
    "    if row[\"CODCAR2\"]:\n",
    "        condition &= text_to_analyse_clean[\"CAR2\"] == row[\"CODCAR2\"]\n",
    "\n",
    "    if not text_to_analyse_clean.loc[condition, \"vector\"].empty:\n",
    "        text_to_analyse_clean.loc[condition, f'cosine_similarity_{row[\"ID_ERROR\"]}'] = (\n",
    "            text_to_analyse_clean.loc[condition, \"vector\"].apply(\n",
    "                lambda x: calculate_mean_cosine_score(x, row[\"vector\"])\n",
    "            )\n",
    "        )\n",
    "\n",
    "    print(f\"Error {row['ID_ERROR']} calculated\")"
   ],
   "id": "abb82a276f52fb10",
   "execution_count": 266,
   "outputs": []
  },
  {
   "metadata": {
    "ExecuteTime": {
     "end_time": "2024-05-14T08:13:37.679403Z",
     "start_time": "2024-05-14T08:13:37.662996Z"
    }
   },
   "cell_type": "code",
   "source": "text_to_analyse_clean.sample(10)",
   "id": "c6e26bd52385f064",
   "execution_count": 267,
   "outputs": []
  },
  {
   "metadata": {
    "ExecuteTime": {
     "end_time": "2024-05-14T08:14:41.120239Z",
     "start_time": "2024-05-14T08:14:18.363228Z"
    }
   },
   "cell_type": "code",
   "source": [
    "# Save text_to_analyse to disk\n",
    "# text_to_analyse_clean.to_csv(f\"{data_base_path}/text_to_analyse_with_errors.csv\", sep='¬', encoding='utf-8-sig', index=False)"
   ],
   "id": "2d3813e09545b3c0",
   "execution_count": 269,
   "outputs": []
  },
  {
   "metadata": {
    "ExecuteTime": {
     "end_time": "2024-05-15T11:23:26.125498Z",
     "start_time": "2024-05-15T11:23:24.002619Z"
    }
   },
   "cell_type": "code",
   "source": [
    "# Load text_to_analyse from disk\n",
    "text_to_analyse_clean = pd.read_csv(\n",
    "    f\"{data_base_path}/text_to_analyse_with_errors.csv\", sep=\"¬\", encoding=\"utf-8-sig\"\n",
    ")"
   ],
   "id": "bdddf88949009f17",
   "execution_count": 4,
   "outputs": []
  },
  {
   "metadata": {
    "ExecuteTime": {
     "end_time": "2024-05-15T11:23:29.167575Z",
     "start_time": "2024-05-15T11:23:29.091528Z"
    }
   },
   "cell_type": "code",
   "source": [
    "cosine_columns = [\n",
    "    col for col in text_to_analyse_clean.columns if \"cosine_similarity_\" in col\n",
    "]\n",
    "text_to_analyse_clean[cosine_columns] = text_to_analyse_clean[cosine_columns].fillna(\n",
    "    0\n",
    ")  # Fill NA with 0\n",
    "text_to_analyse_clean.loc[:, \"highest_score\"] = text_to_analyse_clean[\n",
    "    cosine_columns\n",
    "].max(axis=1)\n",
    "text_to_analyse_clean.loc[:, \"highest_score_error\"] = (\n",
    "    text_to_analyse_clean[cosine_columns]\n",
    "    .idxmax(axis=1)\n",
    "    .apply(lambda x: x.split(\"_\")[-1])\n",
    ")"
   ],
   "id": "275961e04f93e19b",
   "execution_count": 5,
   "outputs": []
  },
  {
   "metadata": {
    "ExecuteTime": {
     "end_time": "2024-05-15T11:23:30.800337Z",
     "start_time": "2024-05-15T11:23:30.770829Z"
    }
   },
   "cell_type": "code",
   "source": "text_to_analyse_clean.head(10)",
   "id": "f7931048c23cb44f",
   "execution_count": 6,
   "outputs": []
  },
  {
   "metadata": {
    "ExecuteTime": {
     "end_time": "2024-05-15T11:23:33.122785Z",
     "start_time": "2024-05-15T11:23:33.041871Z"
    }
   },
   "cell_type": "code",
   "source": [
    "top10_per_error = (\n",
    "    text_to_analyse_clean[\n",
    "        [\"codigo\", \"text_to_analyse\", \"highest_score\", \"highest_score_error\"]\n",
    "    ]\n",
    "    .groupby(\"highest_score_error\", group_keys=False)\n",
    "    .apply(lambda x: x.nlargest(10, \"highest_score\"))\n",
    "    .reset_index(drop=True)\n",
    ")\n",
    "\n",
    "top10_per_error.head(500)"
   ],
   "id": "36fe900fe9d5697c",
   "execution_count": 7,
   "outputs": []
  },
  {
   "metadata": {},
   "cell_type": "markdown",
   "source": "## Visualize the results",
   "id": "97784d4c0c6c2c61"
  },
  {
   "metadata": {
    "ExecuteTime": {
     "end_time": "2024-05-15T11:23:38.012467Z",
     "start_time": "2024-05-15T11:23:35.926257Z"
    }
   },
   "cell_type": "code",
   "source": [
    "results = text_to_analyse_clean[[\"vector\", \"highest_score_error\"]]\n",
    "# Convert string representations of lists to actual numpy arrays\n",
    "results[\"vector\"] = results[\"vector\"].apply(\n",
    "    lambda x: np.fromstring(x.strip(\"[]\"), sep=\" \") if isinstance(x, str) else x\n",
    ")"
   ],
   "id": "a72d5886ef5eb3",
   "execution_count": 8,
   "outputs": []
  },
  {
   "metadata": {
    "ExecuteTime": {
     "end_time": "2024-05-15T11:23:39.495142Z",
     "start_time": "2024-05-15T11:23:38.013367Z"
    }
   },
   "cell_type": "code",
   "source": [
    "# Expand each vector into its own column\n",
    "expanded_vectors = results[\"vector\"].apply(pd.Series)\n",
    "expanded_vectors.columns = [f\"vector_{i}\" for i in range(expanded_vectors.shape[1])]\n",
    "results = pd.concat([results, expanded_vectors], axis=1)"
   ],
   "id": "22e4d8ae73e18256",
   "execution_count": 9,
   "outputs": []
  },
  {
   "metadata": {
    "ExecuteTime": {
     "end_time": "2024-05-14T11:44:02.320687Z",
     "start_time": "2024-05-14T11:44:02.298341Z"
    }
   },
   "cell_type": "code",
   "source": [
    "X = results.drop([\"vector\", \"highest_score_error\"], axis=1)\n",
    "y = pd.to_numeric(results[\"highest_score_error\"], errors=\"coerce\")"
   ],
   "id": "c6fdec79047830ee",
   "execution_count": 333,
   "outputs": []
  },
  {
   "metadata": {
    "ExecuteTime": {
     "end_time": "2024-05-14T11:45:20.101387Z",
     "start_time": "2024-05-14T11:44:04.511009Z"
    }
   },
   "cell_type": "code",
   "source": [
    "from sklearn.manifold import TSNE\n",
    "\n",
    "tsne = TSNE(n_components=2, random_state=0)\n",
    "X_tsne = tsne.fit_transform(X)"
   ],
   "id": "3d1a0536b4c40f0a",
   "execution_count": 334,
   "outputs": []
  },
  {
   "metadata": {
    "ExecuteTime": {
     "end_time": "2024-05-14T11:46:57.845284Z",
     "start_time": "2024-05-14T11:46:56.997128Z"
    }
   },
   "cell_type": "code",
   "source": [
    "# Plot the results\n",
    "plt.figure(figsize=(20, 10))\n",
    "plt.scatter(X_tsne[:, 0], X_tsne[:, 1], c=y, cmap=\"tab20\")\n",
    "plt.colorbar()\n",
    "plt.show()"
   ],
   "id": "f5bdd54ecb59cf0b",
   "execution_count": 342,
   "outputs": []
  },
  {
   "metadata": {},
   "cell_type": "markdown",
   "source": "",
   "id": "822c7e711abc6fd7"
  },
  {
   "metadata": {
    "ExecuteTime": {
     "end_time": "2024-05-14T11:52:19.060024Z",
     "start_time": "2024-05-14T11:48:05.735802Z"
    }
   },
   "cell_type": "code",
   "source": [
    "# Create TSNE with 3 components\n",
    "tsne = TSNE(n_components=3, random_state=0)\n",
    "X_tsne_3d = tsne.fit_transform(X)"
   ],
   "id": "ac3e425b6d49442",
   "execution_count": 343,
   "outputs": []
  },
  {
   "metadata": {
    "ExecuteTime": {
     "end_time": "2024-05-14T12:00:39.444139Z",
     "start_time": "2024-05-14T12:00:39.380146Z"
    }
   },
   "cell_type": "code",
   "source": [
    "# Plot data in 3D\n",
    "%matplotlib qt6\n",
    "\n",
    "fig = plt.figure(figsize=(20, 10))\n",
    "ax = fig.add_subplot(111, projection=\"3d\")\n",
    "scatter = ax.scatter(\n",
    "    X_tsne_3d[:, 0], X_tsne_3d[:, 1], X_tsne_3d[:, 2], c=y, cmap=\"tab20\"\n",
    ")\n",
    "# Add legend\n",
    "plt.legend(*scatter.legend_elements(num=10), title=\"Classes\")\n",
    "plt.show()"
   ],
   "id": "1d0f26546996484a",
   "execution_count": 350,
   "outputs": []
  },
  {
   "metadata": {},
   "cell_type": "code",
   "execution_count": null,
   "source": "",
   "id": "3219340af04bdb19",
   "outputs": []
  },
  {
   "metadata": {},
   "cell_type": "code",
   "execution_count": null,
   "source": "",
   "id": "520020ca19e7411a",
   "outputs": []
  }
 ],
 "metadata": {
  "kernelspec": {
   "display_name": "Python 3",
   "language": "python",
   "name": "python3"
  },
  "language_info": {
   "codemirror_mode": {
    "name": "ipython",
    "version": 2
   },
   "file_extension": ".py",
   "mimetype": "text/x-python",
   "name": "python",
   "nbconvert_exporter": "python",
   "pygments_lexer": "ipython2",
   "version": "2.7.6"
  }
 },
 "nbformat": 4,
 "nbformat_minor": 5
}
