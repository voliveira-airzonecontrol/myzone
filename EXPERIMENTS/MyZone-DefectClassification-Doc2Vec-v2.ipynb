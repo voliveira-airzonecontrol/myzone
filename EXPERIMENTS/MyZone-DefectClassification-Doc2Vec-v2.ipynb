{
 "cells": [
  {
   "metadata": {},
   "cell_type": "markdown",
   "source": [
    "# After sales text clustering using Doc2Vec\n",
    "## Adding CODART and Characteristics from A3ERP and improving the text preprocessing"
   ],
   "id": "c3170d13a92177dd"
  },
  {
   "metadata": {},
   "cell_type": "markdown",
   "source": "## Data preprocessing (Merging the translated text)",
   "id": "a7948d9724b0c8ff"
  },
  {
   "metadata": {
    "ExecuteTime": {
     "end_time": "2024-05-29T05:28:49.440656Z",
     "start_time": "2024-05-29T05:28:32.179839Z"
    }
   },
   "cell_type": "code",
   "source": [
    "import os\n",
    "import pandas as pd\n",
    "import numpy as np\n",
    "import matplotlib.pyplot as plt\n",
    "from datetime import date\n",
    "\n",
    "pd.options.mode.chained_assignment = None\n",
    "from src.preprocessing.incidencias import Incidencias\n",
    "from src.preprocessing.articulos import Articulos\n",
    "from src.preprocessing.dataset import Dataset\n",
    "\n",
    "today_date = date.today().isoformat()\n",
    "data_version = \"2024-05-14\"\n",
    "data_base_path = f\"../DATA/processed/{data_version}\"\n",
    "model_base_path = f\"../MODELS/{today_date}\""
   ],
   "id": "534c667474c59dac",
   "outputs": [],
   "execution_count": 1
  },
  {
   "metadata": {},
   "cell_type": "markdown",
   "source": "## Load the data",
   "id": "218de97c29b240cf"
  },
  {
   "metadata": {},
   "cell_type": "code",
   "outputs": [],
   "execution_count": null,
   "source": [
    "# Get articulos\n",
    "articulos = Articulos().get_articulos().data\n",
    "# Load incidencias\n",
    "incidencias = (\n",
    "    Incidencias()\n",
    "    .get_incidencias()\n",
    "    .load_best_match(\"../DATA/fuzzy_matches_w_scores.csv\")\n",
    "    .data\n",
    ")\n",
    "\n",
    "clean_dataset = Dataset(incidencias, articulos).generate_dataset().data"
   ],
   "id": "a403a996b8413f88"
  },
  {
   "metadata": {
    "ExecuteTime": {
     "end_time": "2024-05-14T05:40:15.329869Z",
     "start_time": "2024-05-14T05:40:15.296455Z"
    }
   },
   "cell_type": "code",
   "source": [
    "# Get only the columns with the fields of interest\n",
    "text_to_analyse = clean_dataset[\n",
    "    [\n",
    "        \"desc_problema_translated\",\n",
    "        \"descripcion_translated\",\n",
    "        \"problema_translated\",\n",
    "        \"cod_articulo\",\n",
    "        \"text_to_analyse\",\n",
    "    ]\n",
    "]\n",
    "# Fill NA with empty string\n",
    "text_to_analyse.fillna(\"\", inplace=True)"
   ],
   "id": "dc06c3d9dd9902e2",
   "execution_count": 16,
   "outputs": []
  },
  {
   "metadata": {
    "ExecuteTime": {
     "end_time": "2024-05-14T05:40:31.931062Z",
     "start_time": "2024-05-14T05:40:31.921984Z"
    }
   },
   "cell_type": "code",
   "source": "text_to_analyse.sample(10)",
   "id": "c73f51f6de1460b",
   "execution_count": 27,
   "outputs": []
  },
  {
   "metadata": {},
   "cell_type": "markdown",
   "source": "## Train DocVec and save the model",
   "id": "e7b2c1173790c33a"
  },
  {
   "metadata": {
    "ExecuteTime": {
     "end_time": "2024-05-14T08:08:29.545843Z",
     "start_time": "2024-05-14T08:08:29.091119Z"
    }
   },
   "cell_type": "code",
   "source": [
    "import spacy\n",
    "\n",
    "nlp = spacy.load(\"es_core_news_sm\")\n",
    "# nlp = spacy.load('es_core_news_md')\n",
    "# nlp = spacy.load('es_core_news_sm')\n",
    "import multiprocessing\n",
    "from collections import OrderedDict\n",
    "\n",
    "import gensim.models.doc2vec\n",
    "\n",
    "assert gensim.models.doc2vec.FAST_VERSION > -1, \"This will be painfully slow otherwise\"\n",
    "from gensim.models.doc2vec import Doc2Vec, TaggedDocument"
   ],
   "id": "b525a5e3e054bc3f",
   "execution_count": 256,
   "outputs": []
  },
  {
   "metadata": {
    "ExecuteTime": {
     "end_time": "2024-05-14T08:08:29.891098Z",
     "start_time": "2024-05-14T08:08:29.887616Z"
    }
   },
   "cell_type": "code",
   "source": [
    "# Function to preprocess the text\n",
    "def preprocess_text(docs):\n",
    "    texts = [doc for doc in nlp.pipe(docs, disable=[\"ner\", \"parser\"])]\n",
    "    processed_texts = []\n",
    "    for doc in texts:\n",
    "        tokens = [\n",
    "            token.text.lower()\n",
    "            for token in doc\n",
    "            if not token.is_punct and not token.is_stop and not token.is_space\n",
    "        ]\n",
    "        processed_texts.append(\" \".join(tokens))\n",
    "    return processed_texts"
   ],
   "id": "c641ea3216522e86",
   "execution_count": 257,
   "outputs": []
  },
  {
   "metadata": {
    "ExecuteTime": {
     "end_time": "2024-05-14T08:08:30.709631Z",
     "start_time": "2024-05-14T08:08:30.706144Z"
    }
   },
   "cell_type": "code",
   "source": [
    "# Class Model with comments\n",
    "class CommentedDoc2Vec(Doc2Vec):\n",
    "    def __init__(self, comment=\"\", **kwargs):\n",
    "        super().__init__(**kwargs)\n",
    "        self.comment = comment"
   ],
   "id": "239e338675b929f1",
   "execution_count": 258,
   "outputs": []
  },
  {
   "metadata": {
    "ExecuteTime": {
     "end_time": "2024-05-14T05:55:11.004534Z",
     "start_time": "2024-05-14T05:54:28.555904Z"
    }
   },
   "cell_type": "code",
   "source": [
    "# Load train corpus from disk\n",
    "corpus = pd.read_csv(\"../DATA/processed/2024-05-13/corpus.csv\")\n",
    "corpus[\"processed_text\"] = preprocess_text(corpus[\"text_to_analyse\"])\n",
    "corpus.head()"
   ],
   "id": "d374d6a6bfea96fd",
   "execution_count": 50,
   "outputs": []
  },
  {
   "metadata": {
    "ExecuteTime": {
     "end_time": "2024-05-14T05:55:11.008406Z",
     "start_time": "2024-05-14T05:55:11.004534Z"
    }
   },
   "cell_type": "code",
   "source": [
    "common_kwargs = dict(\n",
    "    vector_size=200,\n",
    "    epochs=20,\n",
    "    min_count=2,\n",
    "    sample=0,\n",
    "    workers=multiprocessing.cpu_count(),\n",
    "    negative=5,\n",
    "    hs=0,\n",
    "    seed=0,\n",
    ")"
   ],
   "id": "d522f6c463967970",
   "execution_count": 51,
   "outputs": []
  },
  {
   "metadata": {},
   "cell_type": "code",
   "execution_count": null,
   "source": [
    "# PV-DBOW plain\n",
    "model = CommentedDoc2Vec(\n",
    "    dm=0,\n",
    "    comment=f\"PV-DBOW-\"\n",
    "    f\"v_size {common_kwargs['vector_size']}-\"\n",
    "    f\"epochs {common_kwargs['epochs']}-\"\n",
    "    f\"hs {common_kwargs['hs']}-\"\n",
    "    f\"sample {common_kwargs['sample']}-\"\n",
    "    f\"negative {common_kwargs['negative']}-\"\n",
    "    f\"min_count {common_kwargs['min_count']}\",\n",
    "    **common_kwargs,\n",
    ")"
   ],
   "id": "b2959641b2a5d120",
   "outputs": []
  },
  {
   "metadata": {},
   "cell_type": "code",
   "execution_count": null,
   "source": [
    "# Create TaggedDocument objects\n",
    "tagged_data = [\n",
    "    TaggedDocument(words=doc.split(), tags=[i])\n",
    "    for i, doc in enumerate(corpus[\"processed_text\"])\n",
    "]"
   ],
   "id": "63cbaac00c9d1d7b",
   "outputs": []
  },
  {
   "metadata": {},
   "cell_type": "code",
   "execution_count": null,
   "source": [
    "# Build the vocabulary\n",
    "model.build_vocab(tagged_data)\n",
    "print(\"Model: %s : vocabulary scanned & state initialized\" % model.comment)"
   ],
   "id": "69adfb82f5535357",
   "outputs": []
  },
  {
   "metadata": {},
   "cell_type": "code",
   "execution_count": null,
   "source": [
    "# Train the model using the Corpus\n",
    "model.train(tagged_data, total_examples=model.corpus_count, epochs=model.epochs)\n",
    "print(\"%s training completed\" % model.comment)"
   ],
   "id": "7bcaea84de265467",
   "outputs": []
  },
  {
   "metadata": {},
   "cell_type": "code",
   "execution_count": null,
   "source": [
    "# Save the model\n",
    "os.makedirs(model_base_path, exist_ok=True)\n",
    "model_name = (\n",
    "    f\"{model_base_path}/{type(model).__name__}_{model.comment.replace(' ', '_')}.model\"\n",
    ")\n",
    "model.save(model_name)\n",
    "print(f\"Model saved at {model_name}\")"
   ],
   "id": "882cae1985ab3da9",
   "outputs": []
  },
  {
   "metadata": {},
   "cell_type": "markdown",
   "source": "## Load the model and infer vectors",
   "id": "879689151c598baa"
  },
  {
   "metadata": {
    "ExecuteTime": {
     "end_time": "2024-05-14T08:08:36.467871Z",
     "start_time": "2024-05-14T08:08:36.272235Z"
    }
   },
   "cell_type": "code",
   "source": [
    "# Load the model\n",
    "model_name = \"../MODELS/2024-05-13/CommentedDoc2Vec_PV-DBOW-v_size_200-epochs_20-hs_0-sample_0-negative_5-min_count_2.model\"\n",
    "model = CommentedDoc2Vec.load(model_name)\n",
    "print(f\"Model {model} loaded\")"
   ],
   "id": "68e6460b0c913519",
   "execution_count": 259,
   "outputs": []
  },
  {
   "metadata": {
    "ExecuteTime": {
     "end_time": "2024-05-14T08:09:23.526999Z",
     "start_time": "2024-05-14T08:08:39.690117Z"
    }
   },
   "cell_type": "code",
   "source": [
    "# Infer vectors for the text_to_analyse\n",
    "text_to_analyse[\"processed_text\"] = preprocess_text(text_to_analyse[\"text_to_analyse\"])\n",
    "text_to_analyse[\"vector\"] = text_to_analyse[\"processed_text\"].apply(\n",
    "    lambda x: model.infer_vector(x.split())\n",
    ")"
   ],
   "id": "aab9f4589bfd60fa",
   "execution_count": 260,
   "outputs": []
  },
  {
   "metadata": {
    "ExecuteTime": {
     "end_time": "2024-05-14T08:09:23.550152Z",
     "start_time": "2024-05-14T08:09:23.528036Z"
    }
   },
   "cell_type": "code",
   "source": "text_to_analyse.sample(10)",
   "id": "a2ddf9499bb69244",
   "execution_count": 261,
   "outputs": []
  },
  {
   "metadata": {},
   "cell_type": "markdown",
   "source": "## Calculate the similarity between the texts",
   "id": "fa6574c7550ab5e2"
  },
  {
   "metadata": {
    "ExecuteTime": {
     "end_time": "2024-05-14T08:09:23.557778Z",
     "start_time": "2024-05-14T08:09:23.550152Z"
    }
   },
   "cell_type": "code",
   "source": [
    "# Read list of errors\n",
    "errors = pd.read_csv(\"../DATA/TablaTipoErrorPostventa.csv\", sep=\";\", header=1)[\n",
    "    [\"Código\", \"CODCAR3\", \"CODCAR2\", \"DESCFAM\", \"Motivo General\"]\n",
    "]\n",
    "errors.columns = [\n",
    "    \"ID_ERROR\",\n",
    "    \"CODCAR3\",\n",
    "    \"CODCAR2\",\n",
    "    \"DESCFAM\",\n",
    "    \"DESCRIPCION\",\n",
    "]  # Rename columns\n",
    "errors[\"CODCAR2\"] = errors[\"CODCAR2\"].str.replace(\"-\", \"0\").astype(int)  # Clean CODCAR2"
   ],
   "id": "fb297aac6cb9e59b",
   "execution_count": 262,
   "outputs": []
  },
  {
   "metadata": {
    "ExecuteTime": {
     "end_time": "2024-05-14T08:09:23.621106Z",
     "start_time": "2024-05-14T08:09:23.558778Z"
    }
   },
   "cell_type": "code",
   "source": [
    "# Infer vector for errors\n",
    "errors[\"description_processed\"] = preprocess_text(errors[\"DESCRIPCION\"])\n",
    "errors[\"vector\"] = errors[\"description_processed\"].apply(\n",
    "    lambda x: model.infer_vector(x.split())\n",
    ")"
   ],
   "id": "e8ff7506bd111e33",
   "execution_count": 263,
   "outputs": []
  },
  {
   "metadata": {
    "ExecuteTime": {
     "end_time": "2024-05-14T08:09:23.635348Z",
     "start_time": "2024-05-14T08:09:23.622107Z"
    }
   },
   "cell_type": "code",
   "source": "errors",
   "id": "32527d7fa8f326d2",
   "execution_count": 264,
   "outputs": []
  },
  {
   "metadata": {
    "ExecuteTime": {
     "end_time": "2024-05-14T08:09:23.640240Z",
     "start_time": "2024-05-14T08:09:23.636349Z"
    }
   },
   "cell_type": "code",
   "source": [
    "from sklearn.metrics.pairwise import cosine_similarity\n",
    "\n",
    "\n",
    "def calculate_cosine_score(vector, vector_error):\n",
    "    return cosine_similarity(vector.reshape(1, -1), vector_error.reshape(1, -1))[0][0]\n",
    "\n",
    "\n",
    "def calculate_mean_cosine_score(vector, vector_error, n=5):\n",
    "    if vector.size == 0 or vector_error.size == 0:\n",
    "        return np.nan  # Return NaN if there's no vector to compare\n",
    "    cosine_scores = []\n",
    "    for i in range(n):\n",
    "        cosine_scores.append(calculate_cosine_score(vector, vector_error))\n",
    "    return np.mean(cosine_scores)"
   ],
   "id": "9f2d1efdfe544d83",
   "execution_count": 265,
   "outputs": []
  },
  {
   "metadata": {
    "ExecuteTime": {
     "end_time": "2024-05-14T08:13:11.987440Z",
     "start_time": "2024-05-14T08:09:23.641239Z"
    }
   },
   "cell_type": "code",
   "source": [
    "# Calculate the cosine similarity between the text_to_analyse and the errors\n",
    "for index, row in errors.iterrows():\n",
    "    # Create a condition for filtering\n",
    "    condition = text_to_analyse[\"CAR3\"] == row[\"CODCAR3\"]\n",
    "    if row[\"CODCAR2\"]:\n",
    "        condition &= text_to_analyse[\"CAR2\"] == row[\"CODCAR2\"]\n",
    "\n",
    "    if not text_to_analyse.loc[condition, \"vector\"].empty:\n",
    "        text_to_analyse.loc[condition, f'cosine_similarity_{row[\"ID_ERROR\"]}'] = (\n",
    "            text_to_analyse.loc[condition, \"vector\"].apply(\n",
    "                lambda x: calculate_mean_cosine_score(x, row[\"vector\"])\n",
    "            )\n",
    "        )\n",
    "\n",
    "    print(f\"Error {row['ID_ERROR']} calculated\")"
   ],
   "id": "abb82a276f52fb10",
   "execution_count": 266,
   "outputs": []
  },
  {
   "metadata": {
    "ExecuteTime": {
     "end_time": "2024-05-14T08:13:37.679403Z",
     "start_time": "2024-05-14T08:13:37.662996Z"
    }
   },
   "cell_type": "code",
   "source": "text_to_analyse.sample(10)",
   "id": "c6e26bd52385f064",
   "execution_count": 267,
   "outputs": []
  },
  {
   "metadata": {
    "ExecuteTime": {
     "end_time": "2024-05-14T08:14:41.120239Z",
     "start_time": "2024-05-14T08:14:18.363228Z"
    }
   },
   "cell_type": "code",
   "source": [
    "# Save text_to_analyse to disk\n",
    "# text_to_analyse_clean.to_csv(f\"{data_base_path}/text_to_analyse_with_errors.csv\", sep='¬', encoding='utf-8-sig', index=False)"
   ],
   "id": "2d3813e09545b3c0",
   "execution_count": 269,
   "outputs": []
  },
  {
   "metadata": {
    "ExecuteTime": {
     "end_time": "2024-05-15T11:23:26.125498Z",
     "start_time": "2024-05-15T11:23:24.002619Z"
    }
   },
   "cell_type": "code",
   "source": [
    "# Load text_to_analyse from disk\n",
    "text_to_analyse_clean = pd.read_csv(\n",
    "    f\"{data_base_path}/text_to_analyse_with_errors.csv\", sep=\"¬\", encoding=\"utf-8-sig\"\n",
    ")"
   ],
   "id": "bdddf88949009f17",
   "execution_count": 4,
   "outputs": []
  },
  {
   "metadata": {
    "ExecuteTime": {
     "end_time": "2024-05-15T11:23:29.167575Z",
     "start_time": "2024-05-15T11:23:29.091528Z"
    }
   },
   "cell_type": "code",
   "source": [
    "cosine_columns = [\n",
    "    col for col in text_to_analyse_clean.columns if \"cosine_similarity_\" in col\n",
    "]\n",
    "text_to_analyse_clean[cosine_columns] = text_to_analyse_clean[cosine_columns].fillna(\n",
    "    0\n",
    ")  # Fill NA with 0\n",
    "text_to_analyse_clean.loc[:, \"highest_score\"] = text_to_analyse_clean[\n",
    "    cosine_columns\n",
    "].max(axis=1)\n",
    "text_to_analyse_clean.loc[:, \"highest_score_error\"] = (\n",
    "    text_to_analyse_clean[cosine_columns]\n",
    "    .idxmax(axis=1)\n",
    "    .apply(lambda x: x.split(\"_\")[-1])\n",
    ")"
   ],
   "id": "275961e04f93e19b",
   "execution_count": 5,
   "outputs": []
  },
  {
   "metadata": {
    "ExecuteTime": {
     "end_time": "2024-05-15T11:23:30.800337Z",
     "start_time": "2024-05-15T11:23:30.770829Z"
    }
   },
   "cell_type": "code",
   "source": "text_to_analyse_clean.head(10)",
   "id": "f7931048c23cb44f",
   "execution_count": 6,
   "outputs": []
  },
  {
   "metadata": {
    "ExecuteTime": {
     "end_time": "2024-05-15T11:23:33.122785Z",
     "start_time": "2024-05-15T11:23:33.041871Z"
    }
   },
   "cell_type": "code",
   "source": [
    "top10_per_error = (\n",
    "    text_to_analyse_clean[\n",
    "        [\"codigo\", \"text_to_analyse\", \"highest_score\", \"highest_score_error\"]\n",
    "    ]\n",
    "    .groupby(\"highest_score_error\", group_keys=False)\n",
    "    .apply(lambda x: x.nlargest(10, \"highest_score\"))\n",
    "    .reset_index(drop=True)\n",
    ")\n",
    "\n",
    "top10_per_error.head(500)"
   ],
   "id": "36fe900fe9d5697c",
   "execution_count": 7,
   "outputs": []
  },
  {
   "metadata": {},
   "cell_type": "markdown",
   "source": "## Visualize the results",
   "id": "97784d4c0c6c2c61"
  },
  {
   "metadata": {
    "ExecuteTime": {
     "end_time": "2024-05-15T11:23:38.012467Z",
     "start_time": "2024-05-15T11:23:35.926257Z"
    }
   },
   "cell_type": "code",
   "source": [
    "results = text_to_analyse_clean[[\"vector\", \"highest_score_error\"]]\n",
    "# Convert string representations of lists to actual numpy arrays\n",
    "results[\"vector\"] = results[\"vector\"].apply(\n",
    "    lambda x: np.fromstring(x.strip(\"[]\"), sep=\" \") if isinstance(x, str) else x\n",
    ")"
   ],
   "id": "a72d5886ef5eb3",
   "execution_count": 8,
   "outputs": []
  },
  {
   "metadata": {
    "ExecuteTime": {
     "end_time": "2024-05-15T11:23:39.495142Z",
     "start_time": "2024-05-15T11:23:38.013367Z"
    }
   },
   "cell_type": "code",
   "source": [
    "# Expand each vector into its own column\n",
    "expanded_vectors = results[\"vector\"].apply(pd.Series)\n",
    "expanded_vectors.columns = [f\"vector_{i}\" for i in range(expanded_vectors.shape[1])]\n",
    "results = pd.concat([results, expanded_vectors], axis=1)"
   ],
   "id": "22e4d8ae73e18256",
   "execution_count": 9,
   "outputs": []
  },
  {
   "metadata": {
    "ExecuteTime": {
     "end_time": "2024-05-14T11:44:02.320687Z",
     "start_time": "2024-05-14T11:44:02.298341Z"
    }
   },
   "cell_type": "code",
   "source": [
    "X = results.drop([\"vector\", \"highest_score_error\"], axis=1)\n",
    "y = pd.to_numeric(results[\"highest_score_error\"], errors=\"coerce\")"
   ],
   "id": "c6fdec79047830ee",
   "execution_count": 333,
   "outputs": []
  },
  {
   "metadata": {
    "ExecuteTime": {
     "end_time": "2024-05-14T11:45:20.101387Z",
     "start_time": "2024-05-14T11:44:04.511009Z"
    }
   },
   "cell_type": "code",
   "source": [
    "from sklearn.manifold import TSNE\n",
    "\n",
    "tsne = TSNE(n_components=2, random_state=0)\n",
    "X_tsne = tsne.fit_transform(X)"
   ],
   "id": "3d1a0536b4c40f0a",
   "execution_count": 334,
   "outputs": []
  },
  {
   "metadata": {
    "ExecuteTime": {
     "end_time": "2024-05-14T11:46:57.845284Z",
     "start_time": "2024-05-14T11:46:56.997128Z"
    }
   },
   "cell_type": "code",
   "source": [
    "# Plot the results\n",
    "plt.figure(figsize=(20, 10))\n",
    "plt.scatter(X_tsne[:, 0], X_tsne[:, 1], c=y, cmap=\"tab20\")\n",
    "plt.colorbar()\n",
    "plt.show()"
   ],
   "id": "f5bdd54ecb59cf0b",
   "execution_count": 342,
   "outputs": []
  },
  {
   "metadata": {},
   "cell_type": "markdown",
   "source": "",
   "id": "822c7e711abc6fd7"
  },
  {
   "metadata": {
    "ExecuteTime": {
     "end_time": "2024-05-14T11:52:19.060024Z",
     "start_time": "2024-05-14T11:48:05.735802Z"
    }
   },
   "cell_type": "code",
   "source": [
    "# Create TSNE with 3 components\n",
    "tsne = TSNE(n_components=3, random_state=0)\n",
    "X_tsne_3d = tsne.fit_transform(X)"
   ],
   "id": "ac3e425b6d49442",
   "execution_count": 343,
   "outputs": []
  },
  {
   "metadata": {
    "ExecuteTime": {
     "end_time": "2024-05-14T12:00:39.444139Z",
     "start_time": "2024-05-14T12:00:39.380146Z"
    }
   },
   "cell_type": "code",
   "source": [
    "# Plot data in 3D\n",
    "%matplotlib qt6\n",
    "\n",
    "fig = plt.figure(figsize=(20, 10))\n",
    "ax = fig.add_subplot(111, projection=\"3d\")\n",
    "scatter = ax.scatter(\n",
    "    X_tsne_3d[:, 0], X_tsne_3d[:, 1], X_tsne_3d[:, 2], c=y, cmap=\"tab20\"\n",
    ")\n",
    "# Add legend\n",
    "plt.legend(*scatter.legend_elements(num=10), title=\"Classes\")\n",
    "plt.show()"
   ],
   "id": "1d0f26546996484a",
   "execution_count": 350,
   "outputs": []
  },
  {
   "metadata": {},
   "cell_type": "code",
   "execution_count": null,
   "source": "",
   "id": "3219340af04bdb19",
   "outputs": []
  },
  {
   "metadata": {
    "ExecuteTime": {
     "end_time": "2024-05-28T13:53:47.714400Z",
     "start_time": "2024-05-28T13:53:42.140040Z"
    }
   },
   "cell_type": "code",
   "source": "from src.preprocessing.utils import pre_process_text_spacy",
   "id": "520020ca19e7411a",
   "outputs": [],
   "execution_count": 1
  },
  {
   "metadata": {
    "ExecuteTime": {
     "end_time": "2024-05-28T13:53:47.729713Z",
     "start_time": "2024-05-28T13:53:47.716371Z"
    }
   },
   "cell_type": "code",
   "source": [
    "custom_stopwords = [\n",
    "    \"funciona\",\n",
    "    \"funcionar\",\n",
    "    \"averiado\",\n",
    "    \"averiada\",\n",
    "    \"averiados\",\n",
    "    \"averiadas\",\n",
    "    \"falla\",\n",
    "    \"fallar\",\n",
    "    \"fallado\",\n",
    "    \"fallada\",\n",
    "    \"fallados\",\n",
    "    \"falladas\",\n",
    "    \"falló\",\n",
    "    \"falla\",\n",
    "    \"falló\",\n",
    "    \"fallaron\",\n",
    "    \"fallado\",\n",
    "    \"defecto\",\n",
    "    \"defectos\",\n",
    "    \"defectuoso\",\n",
    "    \"defectuosa\",\n",
    "    \"error\",\n",
    "    \"errores\",\n",
    "    \"problema\",\n",
    "    \"problemas\",\n",
    "    \"termostato\",\n",
    "    \"tto\"\n",
    "]"
   ],
   "id": "7526e6c803f04599",
   "outputs": [],
   "execution_count": 2
  },
  {
   "metadata": {
    "ExecuteTime": {
     "end_time": "2024-05-28T13:53:48.089727Z",
     "start_time": "2024-05-28T13:53:47.730705Z"
    }
   },
   "cell_type": "code",
   "source": [
    "test_str = [\n",
    "    \"El producto no funciona? 1341 Alo alo alo. AZCE6BLUECB\",\n",
    "    \"TTO. TACTO: NO RESPONDE CORRECTAMENTE EL TACTIL TTO. TACTO CABLE SUPERF. BL. TTO. TACTO: NO RESPONDE CORRECTAMENTE EL TACTIL\",\n",
    "]\n",
    "\n",
    "pre_process_text_spacy(test_str, stop_words=True, alpha=True, custom_stopwords=custom_stopwords)"
   ],
   "id": "5e13b09b24e56583",
   "outputs": [
    {
     "data": {
      "text/plain": [
       "['producto alo alo alo',\n",
       " 'tacto responde correctamente tactil tacto cable superf bl tacto responde correctamente tactil']"
      ]
     },
     "execution_count": 3,
     "metadata": {},
     "output_type": "execute_result"
    }
   ],
   "execution_count": 3
  },
  {
   "metadata": {},
   "cell_type": "code",
   "outputs": [],
   "execution_count": null,
   "source": "",
   "id": "809e6f295f0524e2"
  }
 ],
 "metadata": {
  "kernelspec": {
   "display_name": "Python 3",
   "language": "python",
   "name": "python3"
  },
  "language_info": {
   "codemirror_mode": {
    "name": "ipython",
    "version": 2
   },
   "file_extension": ".py",
   "mimetype": "text/x-python",
   "name": "python",
   "nbconvert_exporter": "python",
   "pygments_lexer": "ipython2",
   "version": "2.7.6"
  }
 },
 "nbformat": 4,
 "nbformat_minor": 5
}
