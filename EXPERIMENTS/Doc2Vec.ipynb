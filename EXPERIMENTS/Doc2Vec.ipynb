{
 "cells": [
  {
   "cell_type": "code",
   "id": "initial_id",
   "metadata": {
    "collapsed": true,
    "ExecuteTime": {
     "end_time": "2024-05-29T14:22:41.721294Z",
     "start_time": "2024-05-29T14:22:41.706149Z"
    }
   },
   "source": [
    "import pandas as pd\n",
    "import numpy as np\n",
    "import multiprocessing\n",
    "import matplotlib.pyplot as plt\n",
    "import os\n",
    "import gensim.models.doc2vec\n",
    "assert gensim.models.doc2vec.FAST_VERSION > -1, \"This will be painfully slow otherwise\"\n",
    "from gensim.models.doc2vec import Doc2Vec, TaggedDocument\n",
    "\n",
    "from src.preprocessing.utils import pre_process_text_spacy\n",
    "from src.preprocessing.corpus import Corpus\n",
    "\n",
    "pd.options.mode.chained_assignment = None"
   ],
   "outputs": [],
   "execution_count": 6
  },
  {
   "metadata": {
    "ExecuteTime": {
     "end_time": "2024-05-29T14:22:42.468812Z",
     "start_time": "2024-05-29T14:22:42.193028Z"
    }
   },
   "cell_type": "code",
   "source": "corpus = Corpus().load_corpus(\"../DATA/processed/2024-05-15/corpus_spanish_v2.csv\").data",
   "id": "7cb072b94c1ab761",
   "outputs": [],
   "execution_count": 7
  },
  {
   "metadata": {
    "ExecuteTime": {
     "end_time": "2024-05-29T14:35:46.478697Z",
     "start_time": "2024-05-29T14:32:48.034669Z"
    }
   },
   "cell_type": "code",
   "source": [
    "corpus[\"processed_text\"] = pre_process_text_spacy(\n",
    "    corpus[\"text_to_analyse\"],\n",
    "    stop_words=False,\n",
    "    punctuation=True, \n",
    "    alpha=False\n",
    ")"
   ],
   "id": "3e11cc13a1e7c07e",
   "outputs": [],
   "execution_count": 15
  },
  {
   "metadata": {},
   "cell_type": "code",
   "outputs": [],
   "execution_count": null,
   "source": [
    "kwargs = dict(\n",
    "    vector_size=200,\n",
    "    epochs=20,\n",
    "    min_count=2,\n",
    "    sample=0,\n",
    "    workers=multiprocessing.cpu_count(),\n",
    "    negative=5,\n",
    "    hs=0,\n",
    "    seed=0,\n",
    ")"
   ],
   "id": "c928494e85726eb8"
  }
 ],
 "metadata": {
  "kernelspec": {
   "display_name": "Python 3",
   "language": "python",
   "name": "python3"
  },
  "language_info": {
   "codemirror_mode": {
    "name": "ipython",
    "version": 2
   },
   "file_extension": ".py",
   "mimetype": "text/x-python",
   "name": "python",
   "nbconvert_exporter": "python",
   "pygments_lexer": "ipython2",
   "version": "2.7.6"
  }
 },
 "nbformat": 4,
 "nbformat_minor": 5
}
