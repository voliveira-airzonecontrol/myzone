{
 "cells": [
  {
   "metadata": {},
   "cell_type": "markdown",
   "source": [
    "# After sales text clustering using Doc2Vec\n",
    "## Enhanced corpus with more data"
   ],
   "id": "ac81325cae8c996"
  },
  {
   "metadata": {
    "ExecuteTime": {
     "end_time": "2024-11-14T08:29:28.383942Z",
     "start_time": "2024-11-14T08:29:27.896662Z"
    }
   },
   "cell_type": "code",
   "source": [
    "import pandas as pd\n",
    "import numpy as np\n",
    "import spacy\n",
    "\n",
    "import multiprocessing\n",
    "from datetime import date\n",
    "import matplotlib.pyplot as plt\n",
    "import os\n",
    "import gensim.models.doc2vec\n",
    "\n",
    "assert gensim.models.doc2vec.FAST_VERSION > -1, \"This will be painfully slow otherwise\"\n",
    "from gensim.models.doc2vec import Doc2Vec, TaggedDocument\n",
    "\n",
    "pd.options.mode.chained_assignment = None\n",
    "\n",
    "data_version = \"2024-05-14\"\n",
    "corpus_version = \"2024-05-15\"\n",
    "model_version = \"2024-05-15\"\n",
    "data_base_path = f\"../DATA/processed/\"\n",
    "model_base_path = f\"../MODELS/{data_version}\"\n",
    "\n",
    "nlp = spacy.load(\"es_core_news_sm\")"
   ],
   "id": "4345b432ac75d692",
   "outputs": [],
   "execution_count": 7
  },
  {
   "cell_type": "code",
   "id": "initial_id",
   "metadata": {
    "collapsed": true,
    "ExecuteTime": {
     "end_time": "2024-11-14T08:29:35.454186Z",
     "start_time": "2024-11-14T08:29:35.440653Z"
    }
   },
   "source": [
    "# Function to preprocess the text\n",
    "def preprocess_text(docs):\n",
    "    # Ensure all entries are strings\n",
    "    docs = docs.fillna(\"\").astype(str)\n",
    "    # Process the text\n",
    "    texts = [doc for doc in nlp.pipe(docs, disable=[\"ner\", \"parser\"])]\n",
    "    processed_texts = []\n",
    "    for doc in texts:\n",
    "        tokens = [\n",
    "            token.text.lower()\n",
    "            for token in doc\n",
    "            if not token.is_punct and not token.is_stop and not token.is_space\n",
    "        ]\n",
    "        processed_texts.append(\" \".join(tokens))\n",
    "    return processed_texts"
   ],
   "outputs": [],
   "execution_count": 8
  },
  {
   "metadata": {
    "ExecuteTime": {
     "end_time": "2024-11-14T08:29:37.592044Z",
     "start_time": "2024-11-14T08:29:37.577021Z"
    }
   },
   "cell_type": "code",
   "source": [
    "# Class Model with comments\n",
    "class CommentedDoc2Vec(Doc2Vec):\n",
    "    def __init__(self, comment=\"\", **kwargs):\n",
    "        super().__init__(**kwargs)\n",
    "        self.comment = comment"
   ],
   "id": "58c74121638c9ebf",
   "outputs": [],
   "execution_count": 9
  },
  {
   "metadata": {
    "ExecuteTime": {
     "end_time": "2024-11-14T08:33:04.844347Z",
     "start_time": "2024-11-14T08:29:40.060175Z"
    }
   },
   "cell_type": "code",
   "source": [
    "# Load train corpus from disk\n",
    "corpus = pd.read_csv(\"../DATA/processed/2024-05-15/corpus_spanish.csv\", sep=\"¬\")\n",
    "corpus[\"text_to_analyse\"] = (\n",
    "    corpus[\"text_to_analyse\"].fillna(\"\").astype(str)\n",
    ")  # Ensure all values are strings\n",
    "corpus[\"processed_text\"] = preprocess_text(corpus[\"text_to_analyse\"])\n",
    "corpus = corpus[corpus[\"processed_text\"] != \"\"]\n",
    "# corpus = pd.read_csv(f'../DATA/processed/{corpus_version}/corpus_processed.csv', sep='¬')\n",
    "corpus.sample(10)"
   ],
   "id": "404b2ca823e64867",
   "outputs": [
    {
     "name": "stderr",
     "output_type": "stream",
     "text": [
      "C:\\Users\\voliveira\\AppData\\Local\\Temp\\ipykernel_9016\\1303233110.py:2: ParserWarning: Falling back to the 'python' engine because the separator encoded in utf-8 is > 1 char long, and the 'c' engine does not support such separators; you can avoid this warning by specifying engine='python'.\n",
      "  corpus = pd.read_csv(\"../DATA/processed/2024-05-15/corpus_spanish.csv\", sep=\"¬\")\n"
     ]
    },
    {
     "data": {
      "text/plain": [
       "                                          text_to_analyse language  \\\n",
       "114788  Coloque o acabamento \\nverticalmentePlacez la ...       es   \n",
       "38446   El sistema traba ja de modo  \\nnorma l \\nBorne...       es   \n",
       "105686   Certifique-se de isolar o encaixe de ligação. \\n       pt   \n",
       "106083  Permite visualizar información \\nacerca de:\\n-...       es   \n",
       "75780   Communication protocol \\n Protocolo de comunic...       pt   \n",
       "168185  una programación\\nSelecciona el día de la sema...       es   \n",
       "171936  En caso de que realice un parpadeo rojo, \\nind...       es   \n",
       "113845  Para fixação na parede, execute os passos a \\n...       pt   \n",
       "51888                               Programa por defecto.       es   \n",
       "161083  - Blueface Zona: Muestra los iconos de Modo, E...       es   \n",
       "\n",
       "                                           processed_text  \n",
       "114788  coloque acabamento verticalmenteplacez garnitu...  \n",
       "38446   sistema traba ja norma l bornes circuito abier...  \n",
       "105686               certifique-se isolar encaixe ligação  \n",
       "106083  permite visualizar información acerca zona fir...  \n",
       "75780   communication protocol protocolo comunicaçãomo...  \n",
       "168185  programación selecciona semana unidad programa...  \n",
       "171936  caso realice parpadeo rojo indicará zona ocupa...  \n",
       "113845  fixação na parede execute passos seguir separe...  \n",
       "51888                                    programa defecto  \n",
       "161083  blueface zona muestra iconos eco- adapt veloci...  "
      ],
      "text/html": [
       "<div>\n",
       "<style scoped>\n",
       "    .dataframe tbody tr th:only-of-type {\n",
       "        vertical-align: middle;\n",
       "    }\n",
       "\n",
       "    .dataframe tbody tr th {\n",
       "        vertical-align: top;\n",
       "    }\n",
       "\n",
       "    .dataframe thead th {\n",
       "        text-align: right;\n",
       "    }\n",
       "</style>\n",
       "<table border=\"1\" class=\"dataframe\">\n",
       "  <thead>\n",
       "    <tr style=\"text-align: right;\">\n",
       "      <th></th>\n",
       "      <th>text_to_analyse</th>\n",
       "      <th>language</th>\n",
       "      <th>processed_text</th>\n",
       "    </tr>\n",
       "  </thead>\n",
       "  <tbody>\n",
       "    <tr>\n",
       "      <th>114788</th>\n",
       "      <td>Coloque o acabamento \\nverticalmentePlacez la ...</td>\n",
       "      <td>es</td>\n",
       "      <td>coloque acabamento verticalmenteplacez garnitu...</td>\n",
       "    </tr>\n",
       "    <tr>\n",
       "      <th>38446</th>\n",
       "      <td>El sistema traba ja de modo  \\nnorma l \\nBorne...</td>\n",
       "      <td>es</td>\n",
       "      <td>sistema traba ja norma l bornes circuito abier...</td>\n",
       "    </tr>\n",
       "    <tr>\n",
       "      <th>105686</th>\n",
       "      <td>Certifique-se de isolar o encaixe de ligação. \\n</td>\n",
       "      <td>pt</td>\n",
       "      <td>certifique-se isolar encaixe ligação</td>\n",
       "    </tr>\n",
       "    <tr>\n",
       "      <th>106083</th>\n",
       "      <td>Permite visualizar información \\nacerca de:\\n-...</td>\n",
       "      <td>es</td>\n",
       "      <td>permite visualizar información acerca zona fir...</td>\n",
       "    </tr>\n",
       "    <tr>\n",
       "      <th>75780</th>\n",
       "      <td>Communication protocol \\n Protocolo de comunic...</td>\n",
       "      <td>pt</td>\n",
       "      <td>communication protocol protocolo comunicaçãomo...</td>\n",
       "    </tr>\n",
       "    <tr>\n",
       "      <th>168185</th>\n",
       "      <td>una programación\\nSelecciona el día de la sema...</td>\n",
       "      <td>es</td>\n",
       "      <td>programación selecciona semana unidad programa...</td>\n",
       "    </tr>\n",
       "    <tr>\n",
       "      <th>171936</th>\n",
       "      <td>En caso de que realice un parpadeo rojo, \\nind...</td>\n",
       "      <td>es</td>\n",
       "      <td>caso realice parpadeo rojo indicará zona ocupa...</td>\n",
       "    </tr>\n",
       "    <tr>\n",
       "      <th>113845</th>\n",
       "      <td>Para fixação na parede, execute os passos a \\n...</td>\n",
       "      <td>pt</td>\n",
       "      <td>fixação na parede execute passos seguir separe...</td>\n",
       "    </tr>\n",
       "    <tr>\n",
       "      <th>51888</th>\n",
       "      <td>Programa por defecto.</td>\n",
       "      <td>es</td>\n",
       "      <td>programa defecto</td>\n",
       "    </tr>\n",
       "    <tr>\n",
       "      <th>161083</th>\n",
       "      <td>- Blueface Zona: Muestra los iconos de Modo, E...</td>\n",
       "      <td>es</td>\n",
       "      <td>blueface zona muestra iconos eco- adapt veloci...</td>\n",
       "    </tr>\n",
       "  </tbody>\n",
       "</table>\n",
       "</div>"
      ]
     },
     "execution_count": 10,
     "metadata": {},
     "output_type": "execute_result"
    }
   ],
   "execution_count": 10
  },
  {
   "metadata": {
    "ExecuteTime": {
     "end_time": "2024-11-14T08:33:04.859874Z",
     "start_time": "2024-11-14T08:33:04.846354Z"
    }
   },
   "cell_type": "code",
   "source": [
    "common_kwargs = dict(\n",
    "    vector_size=200,\n",
    "    epochs=20,\n",
    "    min_count=2,\n",
    "    sample=0,\n",
    "    workers=multiprocessing.cpu_count(),\n",
    "    negative=5,\n",
    "    hs=0,\n",
    "    seed=0,\n",
    ")"
   ],
   "id": "94d97156302aed0",
   "outputs": [],
   "execution_count": 11
  },
  {
   "metadata": {
    "ExecuteTime": {
     "end_time": "2024-11-14T08:33:04.875919Z",
     "start_time": "2024-11-14T08:33:04.861876Z"
    }
   },
   "cell_type": "code",
   "source": [
    "# PV-DBOW plain\n",
    "model = CommentedDoc2Vec(\n",
    "    dm=0,\n",
    "    comment=f\"PV-DBOW-\"\n",
    "    f\"v_size {common_kwargs['vector_size']}-\"\n",
    "    f\"epochs {common_kwargs['epochs']}-\"\n",
    "    f\"hs {common_kwargs['hs']}-\"\n",
    "    f\"sample {common_kwargs['sample']}-\"\n",
    "    f\"negative {common_kwargs['negative']}-\"\n",
    "    f\"min_count {common_kwargs['min_count']}-\"\n",
    "    f\"corpus {corpus_version}\",\n",
    "    **common_kwargs,\n",
    ")"
   ],
   "id": "5a1b047ed75dcbcd",
   "outputs": [],
   "execution_count": 12
  },
  {
   "metadata": {
    "ExecuteTime": {
     "end_time": "2024-11-14T08:33:06.037128Z",
     "start_time": "2024-11-14T08:33:04.878920Z"
    }
   },
   "cell_type": "code",
   "source": [
    "# Create TaggedDocument objects\n",
    "tagged_data = [\n",
    "    TaggedDocument(words=doc.split(), tags=[i])\n",
    "    for i, doc in enumerate(corpus[\"processed_text\"])\n",
    "]"
   ],
   "id": "dcd0cea9fef4fce1",
   "outputs": [],
   "execution_count": 13
  },
  {
   "metadata": {
    "ExecuteTime": {
     "end_time": "2024-11-14T08:33:07.216341Z",
     "start_time": "2024-11-14T08:33:06.039128Z"
    }
   },
   "cell_type": "code",
   "source": [
    "# Build the vocabulary\n",
    "model.build_vocab(tagged_data)\n",
    "print(\"Model: %s : vocabulary scanned & state initialized\" % model.comment)"
   ],
   "id": "d68ee625f6c23606",
   "outputs": [
    {
     "name": "stdout",
     "output_type": "stream",
     "text": [
      "Model: PV-DBOW-v_size 200-epochs 20-hs 0-sample 0-negative 5-min_count 2-corpus 2024-05-15 : vocabulary scanned & state initialized\n"
     ]
    }
   ],
   "execution_count": 14
  },
  {
   "metadata": {
    "ExecuteTime": {
     "end_time": "2024-05-15T13:56:02.869273Z",
     "start_time": "2024-05-15T13:54:50.912790Z"
    }
   },
   "cell_type": "code",
   "source": [
    "# Train the model using the Corpus\n",
    "model.train(tagged_data, total_examples=model.corpus_count, epochs=model.epochs)\n",
    "print(\"%s training completed\" % model.comment)"
   ],
   "id": "590756a610508c4d",
   "execution_count": 13,
   "outputs": []
  },
  {
   "metadata": {
    "ExecuteTime": {
     "end_time": "2024-05-15T10:45:21.722496Z",
     "start_time": "2024-05-15T10:45:21.082904Z"
    }
   },
   "cell_type": "code",
   "source": [
    "# Save the model\n",
    "os.makedirs(model_base_path, exist_ok=True)\n",
    "model_name = (\n",
    "    f\"{model_base_path}/{type(model).__name__}_{model.comment.replace(' ', '_')}.model\"\n",
    ")\n",
    "model.save(model_name)\n",
    "print(f\"Model saved at {model_name}\")"
   ],
   "id": "89e8ce738ced365a",
   "execution_count": 29,
   "outputs": []
  },
  {
   "metadata": {},
   "cell_type": "markdown",
   "source": "## Load the model and the data and infer vectors",
   "id": "8c30c4f8067d777"
  },
  {
   "metadata": {
    "ExecuteTime": {
     "end_time": "2024-11-14T08:33:40.651675Z",
     "start_time": "2024-11-14T08:33:39.405011Z"
    }
   },
   "cell_type": "code",
   "source": [
    "# Load the model\n",
    "model_name = \"../MODELS/2024-05-15/CommentedDoc2Vec_PV-DBOW-v_size_200-epochs_20-hs_0-sample_0-negative_5-min_count_2.model\"\n",
    "model = CommentedDoc2Vec.load(model_name)\n",
    "print(f\"Model {model} loaded\")"
   ],
   "id": "207b2da7f8b4257d",
   "outputs": [
    {
     "name": "stdout",
     "output_type": "stream",
     "text": [
      "Model CommentedDoc2Vec<\"PV-DBOW-v_size 200-epochs 20-hs 0-sample 0-negative 5-min_count 2\",dbow,d200,n5,mc2,t8> loaded\n"
     ]
    }
   ],
   "execution_count": 15
  },
  {
   "metadata": {
    "ExecuteTime": {
     "end_time": "2024-11-14T08:33:44.288868Z",
     "start_time": "2024-11-14T08:33:43.882516Z"
    }
   },
   "cell_type": "code",
   "source": [
    "# Load the data to analyse\n",
    "text_to_analyse_clean = pd.read_csv(\n",
    "    f\"{data_base_path}/{data_version}/text_to_analyse_clean.csv\", sep=\"¬\"\n",
    ")"
   ],
   "id": "de254ada8a6bff76",
   "outputs": [
    {
     "name": "stderr",
     "output_type": "stream",
     "text": [
      "C:\\Users\\voliveira\\AppData\\Local\\Temp\\ipykernel_9016\\3126210761.py:2: ParserWarning: Falling back to the 'python' engine because the separator encoded in utf-8 is > 1 char long, and the 'c' engine does not support such separators; you can avoid this warning by specifying engine='python'.\n",
      "  text_to_analyse_clean = pd.read_csv(\n"
     ]
    }
   ],
   "execution_count": 16
  },
  {
   "metadata": {
    "ExecuteTime": {
     "end_time": "2024-11-14T08:34:30.345789Z",
     "start_time": "2024-11-14T08:33:46.725663Z"
    }
   },
   "cell_type": "code",
   "source": [
    "# Infer vectors for the text_to_analyse\n",
    "text_to_analyse_clean[\"processed_text\"] = preprocess_text(\n",
    "    text_to_analyse_clean[\"text_to_analyse\"]\n",
    ")\n",
    "text_to_analyse_clean[\"vector\"] = text_to_analyse_clean[\"processed_text\"].apply(\n",
    "    lambda x: model.infer_vector(x.split())\n",
    ")"
   ],
   "id": "18cc8863703965ad",
   "outputs": [],
   "execution_count": 17
  },
  {
   "metadata": {
    "ExecuteTime": {
     "end_time": "2024-11-14T08:34:30.376749Z",
     "start_time": "2024-11-14T08:34:30.346759Z"
    }
   },
   "cell_type": "code",
   "source": "text_to_analyse_clean.sample(10)",
   "id": "e85b0cbeb688a26d",
   "outputs": [
    {
     "data": {
      "text/plain": [
       "           codigo  id_pieza  \\\n",
       "14327  AWDPBWHU20   45308.0   \n",
       "23454  LJIYMJDL04   81132.0   \n",
       "286    A2LKCZ5NBA     907.0   \n",
       "7104   AWZQZWZP61   21630.0   \n",
       "19877  Y2PMZ2ITAA   65204.0   \n",
       "25576  N2FXZGLJEE   92686.0   \n",
       "13811  AWXMZMXTD8   43796.0   \n",
       "24683  LMPPAWPJ99   87716.0   \n",
       "5761   M26YLPPM87   16711.0   \n",
       "13582  Z2LNAGVV75   43153.0   \n",
       "\n",
       "                                desc_problema_translated  \\\n",
       "14327                            AZCE6LITERB NO FUNCIONA   \n",
       "23454              EL TERMOSTATO NO CONSIGUE REINICIARSE   \n",
       "286    PROBLEMA RECURRENTE DESDE HACE MÁS DE 2 AÑOS\\r...   \n",
       "7104   CAMBIAR 2 GRADOS LA ZONA NO SE RESTABLECE\\r\\n1...   \n",
       "19877  PROBLEMA CON EL TERMOSTATO THINK. EL CLIENTE S...   \n",
       "25576                      PB TH RADIO + PLATINO CENTRAL   \n",
       "13811                                        pantalla hs   \n",
       "24683  No sabemos el problema que han tenido, lo han ...   \n",
       "5761   AIRZONE TERMOSTATO INTELIG. BLUEFACE 32Z (BL) ...   \n",
       "13582                    TERMOSTATO BLUEFACE SE REINICIA   \n",
       "\n",
       "                                  descripcion_translated  \\\n",
       "14327                                 TERMOSTATO LITE RB   \n",
       "23454       TERMOSTATO SMART CABLE AIRZONE BLUEFACE BL 3   \n",
       "286                                  TARJETA IP6 SERIE 3   \n",
       "7104    TERMOSTATO INTELIGENTE AIRZON COLOR NEGRO IBPRO6   \n",
       "19877                                         TERMOSTATO   \n",
       "25576                      TERMOSTATO THINK RADIO BLANCO   \n",
       "13811                                         termostato   \n",
       "24683                       PENSAR RADIO BLANCO ACUAZONE   \n",
       "5761   TERMOSTATO INTELIGENTE AIRZONE CARA AZUL 32Z (BL)   \n",
       "13582                                         TERMOSTATO   \n",
       "\n",
       "                                     problema_translated     cod_articulo  \\\n",
       "14327                           AZCE6LITERB NO FUNCIONA.      AZCE6LITERB   \n",
       "23454                         ENVIAR UN TERMOSTATO NUEVO  AZDI6BLUEFACECB   \n",
       "286                                          NO FUNCIONA      AZC3FIBPRO6   \n",
       "7104   COMPENSACIÓN DE TEMPERATURA EL TERMOSTATO NO E...  AZCE6BLUEFACECN   \n",
       "19877                               SUSTITUCION DE MANDO     AZCE6THINKRB   \n",
       "25576                                 PB TH PENSAR RADIO     AZCE6THINKRB   \n",
       "13811                           SIN CONEXIÓN EN PANTALLA   ACCEBLUEFACECN   \n",
       "24683  No sabemos el problema que han tenido, lo han ...     AZDI6THINKRB   \n",
       "5761   AIRZONE TERMOSTATO INTELIG. BLUEFACE 32Z (BL) ...  AZDI6BLUEFACECB   \n",
       "13582  EL TERMOSTATO SE REINICIA CONTINUAMENTE, TRAS ...  AZCE6BLUEFACECB   \n",
       "\n",
       "                                         text_to_analyse        CODART_A3  \\\n",
       "14327  AZCE6LITERB NO FUNCIONA TERMOSTATO LITE RB AZC...      AZCE6LITERB   \n",
       "23454  EL TERMOSTATO NO CONSIGUE REINICIARSE TERMOSTA...  AZDI6BLUEFACECB   \n",
       "286    PROBLEMA RECURRENTE DESDE HACE MÁS DE 2 AÑOS\\r...      AZC3FIBPRO6   \n",
       "7104   CAMBIAR 2 GRADOS LA ZONA NO SE RESTABLECE\\r\\n1...  AZCE6BLUEFACECN   \n",
       "19877  PROBLEMA CON EL TERMOSTATO THINK. EL CLIENTE S...     AZCE6THINKRB   \n",
       "25576  PB TH RADIO + PLATINO CENTRAL TERMOSTATO THINK...     AZCE6THINKRB   \n",
       "13811  pantalla hs termostato SIN CONEXIÓN EN PANTALL...  AZCE6BLUEFACECN   \n",
       "24683  No sabemos el problema que han tenido, lo han ...     AZDI6THINKRB   \n",
       "5761   AIRZONE TERMOSTATO INTELIG. BLUEFACE 32Z (BL) ...  AZDI6BLUEFACECB   \n",
       "13582  TERMOSTATO BLUEFACE SE REINICIA TERMOSTATO EL ...  AZCE6BLUEFACECB   \n",
       "\n",
       "       Fuzzy_Score           CODART  ... CAR1   CAR2  CAR3  CAR4  \\\n",
       "14327        100.0      AZCE6LITERB  ...  1.0  250.0  91.0   3.0   \n",
       "23454        100.0  AZDI6BLUEFACECB  ...  1.0  251.0  91.0   1.0   \n",
       "286          100.0      AZC3FIBPRO6  ...  1.0  250.0  90.0   NaN   \n",
       "7104         100.0  AZCE6BLUEFACECN  ...  1.0  250.0  91.0   1.0   \n",
       "19877        100.0     AZCE6THINKRB  ...  1.0  250.0  91.0   2.0   \n",
       "25576        100.0     AZCE6THINKRB  ...  1.0  250.0  91.0   2.0   \n",
       "13811         90.0  AZCE6BLUEFACECN  ...  1.0  250.0  91.0   1.0   \n",
       "24683        100.0     AZDI6THINKRB  ...  1.0  251.0  91.0   2.0   \n",
       "5761         100.0  AZDI6BLUEFACECB  ...  1.0  251.0  91.0   1.0   \n",
       "13582        100.0  AZCE6BLUEFACECB  ...  1.0  250.0  91.0   1.0   \n",
       "\n",
       "                DESCCAR1        DESCCAR2     DESCCAR3  DESCCAR4  \\\n",
       "14327  SISTEMAS DE ZONAS     FLEXA (CE6)  TERMOSTATOS      LITE   \n",
       "23454  SISTEMAS DE ZONAS  ACUAZONE (DI6)  TERMOSTATOS  BLUEFACE   \n",
       "286    SISTEMAS DE ZONAS     FLEXA (CE6)    CENTRALES       NaN   \n",
       "7104   SISTEMAS DE ZONAS     FLEXA (CE6)  TERMOSTATOS  BLUEFACE   \n",
       "19877  SISTEMAS DE ZONAS     FLEXA (CE6)  TERMOSTATOS     THINK   \n",
       "25576  SISTEMAS DE ZONAS     FLEXA (CE6)  TERMOSTATOS     THINK   \n",
       "13811  SISTEMAS DE ZONAS     FLEXA (CE6)  TERMOSTATOS  BLUEFACE   \n",
       "24683  SISTEMAS DE ZONAS  ACUAZONE (DI6)  TERMOSTATOS     THINK   \n",
       "5761   SISTEMAS DE ZONAS  ACUAZONE (DI6)  TERMOSTATOS  BLUEFACE   \n",
       "13582  SISTEMAS DE ZONAS     FLEXA (CE6)  TERMOSTATOS  BLUEFACE   \n",
       "\n",
       "                                          processed_text  \\\n",
       "14327  azce6literb funciona termostato lite rb azce6l...   \n",
       "23454  termostato reiniciarse termostato smart cable ...   \n",
       "286    problema recurrente 2 años intervención planif...   \n",
       "7104   cambiar 2 grados zona restablece 1 termostato ...   \n",
       "19877  problema termostato think cliente solicita cam...   \n",
       "25576  pb th radio + platino central termostato think...   \n",
       "13811  pantalla hs termostato conexión pantalla azce6...   \n",
       "24683  problema tratado directamente pensar radio bla...   \n",
       "5761   airzone termostato intelig blueface 32z bl blo...   \n",
       "13582  termostato blueface reinicia termostato termos...   \n",
       "\n",
       "                                                  vector  \n",
       "14327  [-0.08257783, 0.09332839, -0.13394175, -0.0189...  \n",
       "23454  [-0.08034343, 0.03509668, -0.03916998, -0.1248...  \n",
       "286    [-0.042891763, 0.12884247, -0.16951881, -0.046...  \n",
       "7104   [-0.055040207, 0.019157363, -0.13818328, 0.004...  \n",
       "19877  [-0.034480777, 0.08338468, -0.12941803, -0.135...  \n",
       "25576  [0.06715114, 0.2336269, 0.015827589, -0.061567...  \n",
       "13811  [-0.13532853, 0.05922585, -0.24502893, -0.1278...  \n",
       "24683  [-0.00014233572, 0.021523885, -0.062336545, -0...  \n",
       "5761   [-0.19169681, -0.0061185006, 0.014725132, -0.2...  \n",
       "13582  [-0.079074375, 0.032197904, -0.022248238, -0.2...  \n",
       "\n",
       "[10 rows x 21 columns]"
      ],
      "text/html": [
       "<div>\n",
       "<style scoped>\n",
       "    .dataframe tbody tr th:only-of-type {\n",
       "        vertical-align: middle;\n",
       "    }\n",
       "\n",
       "    .dataframe tbody tr th {\n",
       "        vertical-align: top;\n",
       "    }\n",
       "\n",
       "    .dataframe thead th {\n",
       "        text-align: right;\n",
       "    }\n",
       "</style>\n",
       "<table border=\"1\" class=\"dataframe\">\n",
       "  <thead>\n",
       "    <tr style=\"text-align: right;\">\n",
       "      <th></th>\n",
       "      <th>codigo</th>\n",
       "      <th>id_pieza</th>\n",
       "      <th>desc_problema_translated</th>\n",
       "      <th>descripcion_translated</th>\n",
       "      <th>problema_translated</th>\n",
       "      <th>cod_articulo</th>\n",
       "      <th>text_to_analyse</th>\n",
       "      <th>CODART_A3</th>\n",
       "      <th>Fuzzy_Score</th>\n",
       "      <th>CODART</th>\n",
       "      <th>...</th>\n",
       "      <th>CAR1</th>\n",
       "      <th>CAR2</th>\n",
       "      <th>CAR3</th>\n",
       "      <th>CAR4</th>\n",
       "      <th>DESCCAR1</th>\n",
       "      <th>DESCCAR2</th>\n",
       "      <th>DESCCAR3</th>\n",
       "      <th>DESCCAR4</th>\n",
       "      <th>processed_text</th>\n",
       "      <th>vector</th>\n",
       "    </tr>\n",
       "  </thead>\n",
       "  <tbody>\n",
       "    <tr>\n",
       "      <th>14327</th>\n",
       "      <td>AWDPBWHU20</td>\n",
       "      <td>45308.0</td>\n",
       "      <td>AZCE6LITERB NO FUNCIONA</td>\n",
       "      <td>TERMOSTATO LITE RB</td>\n",
       "      <td>AZCE6LITERB NO FUNCIONA.</td>\n",
       "      <td>AZCE6LITERB</td>\n",
       "      <td>AZCE6LITERB NO FUNCIONA TERMOSTATO LITE RB AZC...</td>\n",
       "      <td>AZCE6LITERB</td>\n",
       "      <td>100.0</td>\n",
       "      <td>AZCE6LITERB</td>\n",
       "      <td>...</td>\n",
       "      <td>1.0</td>\n",
       "      <td>250.0</td>\n",
       "      <td>91.0</td>\n",
       "      <td>3.0</td>\n",
       "      <td>SISTEMAS DE ZONAS</td>\n",
       "      <td>FLEXA (CE6)</td>\n",
       "      <td>TERMOSTATOS</td>\n",
       "      <td>LITE</td>\n",
       "      <td>azce6literb funciona termostato lite rb azce6l...</td>\n",
       "      <td>[-0.08257783, 0.09332839, -0.13394175, -0.0189...</td>\n",
       "    </tr>\n",
       "    <tr>\n",
       "      <th>23454</th>\n",
       "      <td>LJIYMJDL04</td>\n",
       "      <td>81132.0</td>\n",
       "      <td>EL TERMOSTATO NO CONSIGUE REINICIARSE</td>\n",
       "      <td>TERMOSTATO SMART CABLE AIRZONE BLUEFACE BL 3</td>\n",
       "      <td>ENVIAR UN TERMOSTATO NUEVO</td>\n",
       "      <td>AZDI6BLUEFACECB</td>\n",
       "      <td>EL TERMOSTATO NO CONSIGUE REINICIARSE TERMOSTA...</td>\n",
       "      <td>AZDI6BLUEFACECB</td>\n",
       "      <td>100.0</td>\n",
       "      <td>AZDI6BLUEFACECB</td>\n",
       "      <td>...</td>\n",
       "      <td>1.0</td>\n",
       "      <td>251.0</td>\n",
       "      <td>91.0</td>\n",
       "      <td>1.0</td>\n",
       "      <td>SISTEMAS DE ZONAS</td>\n",
       "      <td>ACUAZONE (DI6)</td>\n",
       "      <td>TERMOSTATOS</td>\n",
       "      <td>BLUEFACE</td>\n",
       "      <td>termostato reiniciarse termostato smart cable ...</td>\n",
       "      <td>[-0.08034343, 0.03509668, -0.03916998, -0.1248...</td>\n",
       "    </tr>\n",
       "    <tr>\n",
       "      <th>286</th>\n",
       "      <td>A2LKCZ5NBA</td>\n",
       "      <td>907.0</td>\n",
       "      <td>PROBLEMA RECURRENTE DESDE HACE MÁS DE 2 AÑOS\\r...</td>\n",
       "      <td>TARJETA IP6 SERIE 3</td>\n",
       "      <td>NO FUNCIONA</td>\n",
       "      <td>AZC3FIBPRO6</td>\n",
       "      <td>PROBLEMA RECURRENTE DESDE HACE MÁS DE 2 AÑOS\\r...</td>\n",
       "      <td>AZC3FIBPRO6</td>\n",
       "      <td>100.0</td>\n",
       "      <td>AZC3FIBPRO6</td>\n",
       "      <td>...</td>\n",
       "      <td>1.0</td>\n",
       "      <td>250.0</td>\n",
       "      <td>90.0</td>\n",
       "      <td>NaN</td>\n",
       "      <td>SISTEMAS DE ZONAS</td>\n",
       "      <td>FLEXA (CE6)</td>\n",
       "      <td>CENTRALES</td>\n",
       "      <td>NaN</td>\n",
       "      <td>problema recurrente 2 años intervención planif...</td>\n",
       "      <td>[-0.042891763, 0.12884247, -0.16951881, -0.046...</td>\n",
       "    </tr>\n",
       "    <tr>\n",
       "      <th>7104</th>\n",
       "      <td>AWZQZWZP61</td>\n",
       "      <td>21630.0</td>\n",
       "      <td>CAMBIAR 2 GRADOS LA ZONA NO SE RESTABLECE\\r\\n1...</td>\n",
       "      <td>TERMOSTATO INTELIGENTE AIRZON COLOR NEGRO IBPRO6</td>\n",
       "      <td>COMPENSACIÓN DE TEMPERATURA EL TERMOSTATO NO E...</td>\n",
       "      <td>AZCE6BLUEFACECN</td>\n",
       "      <td>CAMBIAR 2 GRADOS LA ZONA NO SE RESTABLECE\\r\\n1...</td>\n",
       "      <td>AZCE6BLUEFACECN</td>\n",
       "      <td>100.0</td>\n",
       "      <td>AZCE6BLUEFACECN</td>\n",
       "      <td>...</td>\n",
       "      <td>1.0</td>\n",
       "      <td>250.0</td>\n",
       "      <td>91.0</td>\n",
       "      <td>1.0</td>\n",
       "      <td>SISTEMAS DE ZONAS</td>\n",
       "      <td>FLEXA (CE6)</td>\n",
       "      <td>TERMOSTATOS</td>\n",
       "      <td>BLUEFACE</td>\n",
       "      <td>cambiar 2 grados zona restablece 1 termostato ...</td>\n",
       "      <td>[-0.055040207, 0.019157363, -0.13818328, 0.004...</td>\n",
       "    </tr>\n",
       "    <tr>\n",
       "      <th>19877</th>\n",
       "      <td>Y2PMZ2ITAA</td>\n",
       "      <td>65204.0</td>\n",
       "      <td>PROBLEMA CON EL TERMOSTATO THINK. EL CLIENTE S...</td>\n",
       "      <td>TERMOSTATO</td>\n",
       "      <td>SUSTITUCION DE MANDO</td>\n",
       "      <td>AZCE6THINKRB</td>\n",
       "      <td>PROBLEMA CON EL TERMOSTATO THINK. EL CLIENTE S...</td>\n",
       "      <td>AZCE6THINKRB</td>\n",
       "      <td>100.0</td>\n",
       "      <td>AZCE6THINKRB</td>\n",
       "      <td>...</td>\n",
       "      <td>1.0</td>\n",
       "      <td>250.0</td>\n",
       "      <td>91.0</td>\n",
       "      <td>2.0</td>\n",
       "      <td>SISTEMAS DE ZONAS</td>\n",
       "      <td>FLEXA (CE6)</td>\n",
       "      <td>TERMOSTATOS</td>\n",
       "      <td>THINK</td>\n",
       "      <td>problema termostato think cliente solicita cam...</td>\n",
       "      <td>[-0.034480777, 0.08338468, -0.12941803, -0.135...</td>\n",
       "    </tr>\n",
       "    <tr>\n",
       "      <th>25576</th>\n",
       "      <td>N2FXZGLJEE</td>\n",
       "      <td>92686.0</td>\n",
       "      <td>PB TH RADIO + PLATINO CENTRAL</td>\n",
       "      <td>TERMOSTATO THINK RADIO BLANCO</td>\n",
       "      <td>PB TH PENSAR RADIO</td>\n",
       "      <td>AZCE6THINKRB</td>\n",
       "      <td>PB TH RADIO + PLATINO CENTRAL TERMOSTATO THINK...</td>\n",
       "      <td>AZCE6THINKRB</td>\n",
       "      <td>100.0</td>\n",
       "      <td>AZCE6THINKRB</td>\n",
       "      <td>...</td>\n",
       "      <td>1.0</td>\n",
       "      <td>250.0</td>\n",
       "      <td>91.0</td>\n",
       "      <td>2.0</td>\n",
       "      <td>SISTEMAS DE ZONAS</td>\n",
       "      <td>FLEXA (CE6)</td>\n",
       "      <td>TERMOSTATOS</td>\n",
       "      <td>THINK</td>\n",
       "      <td>pb th radio + platino central termostato think...</td>\n",
       "      <td>[0.06715114, 0.2336269, 0.015827589, -0.061567...</td>\n",
       "    </tr>\n",
       "    <tr>\n",
       "      <th>13811</th>\n",
       "      <td>AWXMZMXTD8</td>\n",
       "      <td>43796.0</td>\n",
       "      <td>pantalla hs</td>\n",
       "      <td>termostato</td>\n",
       "      <td>SIN CONEXIÓN EN PANTALLA</td>\n",
       "      <td>ACCEBLUEFACECN</td>\n",
       "      <td>pantalla hs termostato SIN CONEXIÓN EN PANTALL...</td>\n",
       "      <td>AZCE6BLUEFACECN</td>\n",
       "      <td>90.0</td>\n",
       "      <td>AZCE6BLUEFACECN</td>\n",
       "      <td>...</td>\n",
       "      <td>1.0</td>\n",
       "      <td>250.0</td>\n",
       "      <td>91.0</td>\n",
       "      <td>1.0</td>\n",
       "      <td>SISTEMAS DE ZONAS</td>\n",
       "      <td>FLEXA (CE6)</td>\n",
       "      <td>TERMOSTATOS</td>\n",
       "      <td>BLUEFACE</td>\n",
       "      <td>pantalla hs termostato conexión pantalla azce6...</td>\n",
       "      <td>[-0.13532853, 0.05922585, -0.24502893, -0.1278...</td>\n",
       "    </tr>\n",
       "    <tr>\n",
       "      <th>24683</th>\n",
       "      <td>LMPPAWPJ99</td>\n",
       "      <td>87716.0</td>\n",
       "      <td>No sabemos el problema que han tenido, lo han ...</td>\n",
       "      <td>PENSAR RADIO BLANCO ACUAZONE</td>\n",
       "      <td>No sabemos el problema que han tenido, lo han ...</td>\n",
       "      <td>AZDI6THINKRB</td>\n",
       "      <td>No sabemos el problema que han tenido, lo han ...</td>\n",
       "      <td>AZDI6THINKRB</td>\n",
       "      <td>100.0</td>\n",
       "      <td>AZDI6THINKRB</td>\n",
       "      <td>...</td>\n",
       "      <td>1.0</td>\n",
       "      <td>251.0</td>\n",
       "      <td>91.0</td>\n",
       "      <td>2.0</td>\n",
       "      <td>SISTEMAS DE ZONAS</td>\n",
       "      <td>ACUAZONE (DI6)</td>\n",
       "      <td>TERMOSTATOS</td>\n",
       "      <td>THINK</td>\n",
       "      <td>problema tratado directamente pensar radio bla...</td>\n",
       "      <td>[-0.00014233572, 0.021523885, -0.062336545, -0...</td>\n",
       "    </tr>\n",
       "    <tr>\n",
       "      <th>5761</th>\n",
       "      <td>M26YLPPM87</td>\n",
       "      <td>16711.0</td>\n",
       "      <td>AIRZONE TERMOSTATO INTELIG. BLUEFACE 32Z (BL) ...</td>\n",
       "      <td>TERMOSTATO INTELIGENTE AIRZONE CARA AZUL 32Z (BL)</td>\n",
       "      <td>AIRZONE TERMOSTATO INTELIG. BLUEFACE 32Z (BL) ...</td>\n",
       "      <td>AZDI6BLUEFACECB</td>\n",
       "      <td>AIRZONE TERMOSTATO INTELIG. BLUEFACE 32Z (BL) ...</td>\n",
       "      <td>AZDI6BLUEFACECB</td>\n",
       "      <td>100.0</td>\n",
       "      <td>AZDI6BLUEFACECB</td>\n",
       "      <td>...</td>\n",
       "      <td>1.0</td>\n",
       "      <td>251.0</td>\n",
       "      <td>91.0</td>\n",
       "      <td>1.0</td>\n",
       "      <td>SISTEMAS DE ZONAS</td>\n",
       "      <td>ACUAZONE (DI6)</td>\n",
       "      <td>TERMOSTATOS</td>\n",
       "      <td>BLUEFACE</td>\n",
       "      <td>airzone termostato intelig blueface 32z bl blo...</td>\n",
       "      <td>[-0.19169681, -0.0061185006, 0.014725132, -0.2...</td>\n",
       "    </tr>\n",
       "    <tr>\n",
       "      <th>13582</th>\n",
       "      <td>Z2LNAGVV75</td>\n",
       "      <td>43153.0</td>\n",
       "      <td>TERMOSTATO BLUEFACE SE REINICIA</td>\n",
       "      <td>TERMOSTATO</td>\n",
       "      <td>EL TERMOSTATO SE REINICIA CONTINUAMENTE, TRAS ...</td>\n",
       "      <td>AZCE6BLUEFACECB</td>\n",
       "      <td>TERMOSTATO BLUEFACE SE REINICIA TERMOSTATO EL ...</td>\n",
       "      <td>AZCE6BLUEFACECB</td>\n",
       "      <td>100.0</td>\n",
       "      <td>AZCE6BLUEFACECB</td>\n",
       "      <td>...</td>\n",
       "      <td>1.0</td>\n",
       "      <td>250.0</td>\n",
       "      <td>91.0</td>\n",
       "      <td>1.0</td>\n",
       "      <td>SISTEMAS DE ZONAS</td>\n",
       "      <td>FLEXA (CE6)</td>\n",
       "      <td>TERMOSTATOS</td>\n",
       "      <td>BLUEFACE</td>\n",
       "      <td>termostato blueface reinicia termostato termos...</td>\n",
       "      <td>[-0.079074375, 0.032197904, -0.022248238, -0.2...</td>\n",
       "    </tr>\n",
       "  </tbody>\n",
       "</table>\n",
       "<p>10 rows × 21 columns</p>\n",
       "</div>"
      ]
     },
     "execution_count": 18,
     "metadata": {},
     "output_type": "execute_result"
    }
   ],
   "execution_count": 18
  },
  {
   "metadata": {
    "ExecuteTime": {
     "end_time": "2024-11-14T08:35:48.162741Z",
     "start_time": "2024-11-14T08:35:48.147147Z"
    }
   },
   "cell_type": "code",
   "source": "text_to_analyse_clean['vector'].iloc[0].shape",
   "id": "57383220b3f27cf9",
   "outputs": [
    {
     "data": {
      "text/plain": [
       "(200,)"
      ]
     },
     "execution_count": 20,
     "metadata": {},
     "output_type": "execute_result"
    }
   ],
   "execution_count": 20
  },
  {
   "metadata": {},
   "cell_type": "markdown",
   "source": "## Calculate the similarity between the texts",
   "id": "6d66a64ffe898e95"
  },
  {
   "metadata": {
    "ExecuteTime": {
     "end_time": "2024-05-15T13:57:51.951112Z",
     "start_time": "2024-05-15T13:57:51.936086Z"
    }
   },
   "cell_type": "code",
   "source": [
    "# Read list of errors\n",
    "errors = pd.read_csv(\"../DATA/TablaTipoErrorPostventa.csv\", sep=\";\", header=0)[\n",
    "    [\"Código\", \"CODCAR3\", \"CODCAR2\", \"DESCFAM\", \"Motivo General\", \"DESCRICION\"]\n",
    "]\n",
    "errors.columns = [\n",
    "    \"ID_ERROR\",\n",
    "    \"CODCAR3\",\n",
    "    \"CODCAR2\",\n",
    "    \"DESCFAM\",\n",
    "    \"MOTIVO\",\n",
    "    \"DESCRIPCION\",\n",
    "]  # Rename columns\n",
    "errors[\"DESCRIPCION\"] = (\n",
    "    errors[\"MOTIVO\"] + \" \" + errors[\"DESCRIPCION\"]\n",
    ")  # Concatenate MOTIVO and DESCRIPCION\n",
    "errors[\"CODCAR2\"] = errors[\"CODCAR2\"].str.replace(\"-\", \"0\").astype(int)  # Clean CODCAR2"
   ],
   "id": "ec13acedc5a090fa",
   "execution_count": 17,
   "outputs": []
  },
  {
   "metadata": {
    "ExecuteTime": {
     "end_time": "2024-05-15T13:57:52.109602Z",
     "start_time": "2024-05-15T13:57:51.953088Z"
    }
   },
   "cell_type": "code",
   "source": [
    "# Infer vector for errors\n",
    "errors[\"description_processed\"] = preprocess_text(errors[\"DESCRIPCION\"])\n",
    "errors[\"vector\"] = errors[\"description_processed\"].apply(\n",
    "    lambda x: model.infer_vector(x.split())\n",
    ")"
   ],
   "id": "2c562de6658aa0df",
   "execution_count": 18,
   "outputs": []
  },
  {
   "metadata": {
    "ExecuteTime": {
     "end_time": "2024-05-15T13:57:52.140776Z",
     "start_time": "2024-05-15T13:57:52.110602Z"
    }
   },
   "cell_type": "code",
   "source": "errors",
   "id": "e74c98888c251b10",
   "execution_count": 19,
   "outputs": []
  },
  {
   "metadata": {
    "ExecuteTime": {
     "end_time": "2024-05-15T13:58:03.208916Z",
     "start_time": "2024-05-15T13:57:52.141778Z"
    }
   },
   "cell_type": "code",
   "source": [
    "from sklearn.metrics.pairwise import cosine_similarity\n",
    "\n",
    "\n",
    "def calculate_cosine_score(vector, vector_error):\n",
    "    return cosine_similarity(vector.reshape(1, -1), vector_error.reshape(1, -1))[0][0]\n",
    "\n",
    "\n",
    "def calculate_mean_cosine_score(vector, vector_error, n=5):\n",
    "    if vector.size == 0 or vector_error.size == 0:\n",
    "        return np.nan  # Return NaN if there's no vector to compare\n",
    "    cosine_scores = []\n",
    "    for i in range(n):\n",
    "        cosine_scores.append(calculate_cosine_score(vector, vector_error))\n",
    "    return np.mean(cosine_scores)"
   ],
   "id": "dc724db1f88a32d1",
   "execution_count": 20,
   "outputs": []
  },
  {
   "metadata": {
    "ExecuteTime": {
     "end_time": "2024-05-15T14:02:43.962665Z",
     "start_time": "2024-05-15T13:58:03.209917Z"
    }
   },
   "cell_type": "code",
   "source": [
    "# Calculate the cosine similarity between the text_to_analyse and the errors\n",
    "for index, row in errors.iterrows():\n",
    "    # Create a condition for filtering\n",
    "    condition = text_to_analyse_clean[\"CAR3\"] == row[\"CODCAR3\"]\n",
    "    if row[\"CODCAR2\"]:\n",
    "        condition &= text_to_analyse_clean[\"CAR2\"] == row[\"CODCAR2\"]\n",
    "\n",
    "    if not text_to_analyse_clean.loc[condition, \"vector\"].empty:\n",
    "        text_to_analyse_clean.loc[condition, f'cosine_similarity_{row[\"ID_ERROR\"]}'] = (\n",
    "            text_to_analyse_clean.loc[condition, \"vector\"].apply(\n",
    "                lambda x: calculate_mean_cosine_score(x, row[\"vector\"])\n",
    "            )\n",
    "        )\n",
    "\n",
    "    print(f\"Error {row['ID_ERROR']} calculated\")"
   ],
   "id": "3a91f05ef3c100a7",
   "execution_count": 21,
   "outputs": []
  },
  {
   "metadata": {
    "ExecuteTime": {
     "end_time": "2024-05-15T14:02:43.992667Z",
     "start_time": "2024-05-15T14:02:43.963633Z"
    }
   },
   "cell_type": "code",
   "source": "text_to_analyse_clean.sample(10)",
   "id": "628add2ca2d52d9d",
   "execution_count": 22,
   "outputs": []
  },
  {
   "metadata": {},
   "cell_type": "code",
   "execution_count": null,
   "source": [
    "# Save text_to_analyse to disk\n",
    "# text_to_analyse_clean.to_csv(f\"{data_base_path}/text_to_analyse_with_errors.csv\", sep='¬', encoding='utf-8-sig', index=False)"
   ],
   "id": "53848039156e5a30",
   "outputs": []
  },
  {
   "metadata": {},
   "cell_type": "code",
   "execution_count": null,
   "source": [
    "# Load text_to_analyse from disk\n",
    "# text_to_analyse_clean = pd.read_csv(f\"{data_base_path}/text_to_analyse_with_errors.csv\", sep='¬', encoding='utf-8-sig')"
   ],
   "id": "11dcc448408227d2",
   "outputs": []
  },
  {
   "metadata": {
    "ExecuteTime": {
     "end_time": "2024-05-15T14:02:44.054516Z",
     "start_time": "2024-05-15T14:02:43.993639Z"
    }
   },
   "cell_type": "code",
   "source": [
    "cosine_columns = [\n",
    "    col for col in text_to_analyse_clean.columns if \"cosine_similarity_\" in col\n",
    "]\n",
    "text_to_analyse_clean[cosine_columns] = text_to_analyse_clean[cosine_columns].fillna(\n",
    "    0\n",
    ")  # Fill NA with 0\n",
    "text_to_analyse_clean.loc[:, \"highest_score\"] = text_to_analyse_clean[\n",
    "    cosine_columns\n",
    "].max(axis=1)\n",
    "text_to_analyse_clean.loc[:, \"highest_score_error\"] = (\n",
    "    text_to_analyse_clean[cosine_columns]\n",
    "    .idxmax(axis=1)\n",
    "    .apply(lambda x: x.split(\"_\")[-1])\n",
    ")"
   ],
   "id": "41b91f6e7c79e4ba",
   "execution_count": 23,
   "outputs": []
  },
  {
   "metadata": {
    "ExecuteTime": {
     "end_time": "2024-05-15T14:02:44.085023Z",
     "start_time": "2024-05-15T14:02:44.056514Z"
    }
   },
   "cell_type": "code",
   "source": "text_to_analyse_clean.head(10)",
   "id": "98fd54a30177f265",
   "execution_count": 24,
   "outputs": []
  },
  {
   "metadata": {
    "ExecuteTime": {
     "end_time": "2024-05-15T14:02:44.165029Z",
     "start_time": "2024-05-15T14:02:44.086024Z"
    }
   },
   "cell_type": "code",
   "source": [
    "top10_per_error = (\n",
    "    text_to_analyse_clean[\n",
    "        [\"codigo\", \"text_to_analyse\", \"highest_score\", \"highest_score_error\"]\n",
    "    ]\n",
    "    .groupby(\"highest_score_error\", group_keys=False)\n",
    "    .apply(lambda x: x.nlargest(10, \"highest_score\"))\n",
    "    .reset_index(drop=True)\n",
    ")\n",
    "\n",
    "top10_per_error.head(500)"
   ],
   "id": "6718f6201e738b1c",
   "execution_count": 25,
   "outputs": []
  },
  {
   "metadata": {
    "ExecuteTime": {
     "end_time": "2024-05-15T14:02:44.180996Z",
     "start_time": "2024-05-15T14:02:44.166031Z"
    }
   },
   "cell_type": "code",
   "source": [
    "text_to_analyse_clean[text_to_analyse_clean[\"codigo\"] == \"MMHSNG1V2C\"][\n",
    "    [\"codigo\", \"text_to_analyse\", \"highest_score\", \"highest_score_error\"]\n",
    "]"
   ],
   "id": "3ddc0d705a434582",
   "execution_count": 26,
   "outputs": []
  },
  {
   "metadata": {},
   "cell_type": "markdown",
   "source": " ## Visualize the results",
   "id": "d918672fc489b4b7"
  },
  {
   "metadata": {
    "ExecuteTime": {
     "end_time": "2024-05-15T10:59:41.732165Z",
     "start_time": "2024-05-15T10:59:41.718169Z"
    }
   },
   "cell_type": "code",
   "source": [
    "results = text_to_analyse_clean[[\"vector\", \"highest_score_error\"]]\n",
    "# Convert string representations of lists to actual numpy arrays\n",
    "results[\"vector\"] = results[\"vector\"].apply(\n",
    "    lambda x: np.fromstring(x.strip(\"[]\"), sep=\" \") if isinstance(x, str) else x\n",
    ")"
   ],
   "id": "aefe967281e0add2",
   "execution_count": 45,
   "outputs": []
  },
  {
   "metadata": {
    "ExecuteTime": {
     "end_time": "2024-05-15T10:59:50.726821Z",
     "start_time": "2024-05-15T10:59:47.807558Z"
    }
   },
   "cell_type": "code",
   "source": [
    "# Expand each vector into its own column\n",
    "expanded_vectors = results[\"vector\"].apply(pd.Series)\n",
    "expanded_vectors.columns = [f\"vector_{i}\" for i in range(expanded_vectors.shape[1])]\n",
    "results = pd.concat([results, expanded_vectors], axis=1)"
   ],
   "id": "2cdcd1d73abecbb4",
   "execution_count": 46,
   "outputs": []
  },
  {
   "metadata": {
    "ExecuteTime": {
     "end_time": "2024-05-15T10:59:52.529011Z",
     "start_time": "2024-05-15T10:59:52.498505Z"
    }
   },
   "cell_type": "code",
   "source": [
    "X = results.drop([\"vector\", \"highest_score_error\"], axis=1)\n",
    "y = pd.to_numeric(results[\"highest_score_error\"], errors=\"coerce\")"
   ],
   "id": "4a0847c959f56ca0",
   "execution_count": 47,
   "outputs": []
  },
  {
   "metadata": {
    "ExecuteTime": {
     "end_time": "2024-05-15T11:01:30.152724Z",
     "start_time": "2024-05-15T10:59:56.530914Z"
    }
   },
   "cell_type": "code",
   "source": [
    "from sklearn.manifold import TSNE\n",
    "\n",
    "tsne = TSNE(n_components=2, random_state=0)\n",
    "X_tsne = tsne.fit_transform(X)"
   ],
   "id": "9cb70ddbc168898",
   "execution_count": 48,
   "outputs": []
  },
  {
   "metadata": {
    "ExecuteTime": {
     "end_time": "2024-05-15T11:01:31.810231Z",
     "start_time": "2024-05-15T11:01:30.944997Z"
    }
   },
   "cell_type": "code",
   "source": [
    "# Plot the results\n",
    "plt.figure(figsize=(20, 10))\n",
    "plt.scatter(X_tsne[:, 0], X_tsne[:, 1], c=y, cmap=\"tab20\")\n",
    "plt.colorbar()\n",
    "plt.show()"
   ],
   "id": "1d2cc7ec1d723f0a",
   "execution_count": 50,
   "outputs": []
  },
  {
   "metadata": {
    "ExecuteTime": {
     "end_time": "2024-05-15T11:05:25.668666Z",
     "start_time": "2024-05-15T11:01:31.811200Z"
    }
   },
   "cell_type": "code",
   "source": [
    "# Create TSNE with 3 components\n",
    "tsne = TSNE(n_components=3, random_state=0)\n",
    "X_tsne_3d = tsne.fit_transform(X)"
   ],
   "id": "349f64eaf96fac3",
   "execution_count": 51,
   "outputs": []
  },
  {
   "metadata": {
    "ExecuteTime": {
     "end_time": "2024-05-15T11:05:29.166282Z",
     "start_time": "2024-05-15T11:05:25.669666Z"
    }
   },
   "cell_type": "code",
   "source": [
    "# Plot data in 3D\n",
    "%matplotlib qt6\n",
    "\n",
    "fig = plt.figure(figsize=(20, 10))\n",
    "ax = fig.add_subplot(111, projection=\"3d\")\n",
    "scatter = ax.scatter(\n",
    "    X_tsne_3d[:, 0], X_tsne_3d[:, 1], X_tsne_3d[:, 2], c=y, cmap=\"tab20\"\n",
    ")\n",
    "# Add legend\n",
    "plt.legend(*scatter.legend_elements(num=10), title=\"Classes\")\n",
    "plt.show()"
   ],
   "id": "c303e6f75e55dfcd",
   "execution_count": 52,
   "outputs": []
  },
  {
   "metadata": {},
   "cell_type": "code",
   "execution_count": null,
   "source": "",
   "id": "5ed89a9422d69cfd",
   "outputs": []
  }
 ],
 "metadata": {
  "kernelspec": {
   "display_name": "Python 3",
   "language": "python",
   "name": "python3"
  },
  "language_info": {
   "codemirror_mode": {
    "name": "ipython",
    "version": 2
   },
   "file_extension": ".py",
   "mimetype": "text/x-python",
   "name": "python",
   "nbconvert_exporter": "python",
   "pygments_lexer": "ipython2",
   "version": "2.7.6"
  }
 },
 "nbformat": 4,
 "nbformat_minor": 5
}
