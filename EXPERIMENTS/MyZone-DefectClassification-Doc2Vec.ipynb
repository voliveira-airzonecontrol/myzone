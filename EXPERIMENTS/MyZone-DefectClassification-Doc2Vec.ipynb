{
 "cells": [
  {
   "metadata": {},
   "cell_type": "markdown",
   "source": "# After sales text clustering using Doc2Vec",
   "id": "c3170d13a92177dd"
  },
  {
   "metadata": {},
   "cell_type": "markdown",
   "source": "## Data preprocessing (Merging the translated text)",
   "id": "a7948d9724b0c8ff"
  },
  {
   "metadata": {
    "ExecuteTime": {
     "end_time": "2024-05-22T07:50:28.116833Z",
     "start_time": "2024-05-22T07:50:26.545340Z"
    }
   },
   "cell_type": "code",
   "source": [
    "import os\n",
    "import pandas as pd\n",
    "\n",
    "pd.options.mode.chained_assignment = None\n",
    "import numpy as np\n",
    "import matplotlib.pyplot as plt\n",
    "from src.db.connections import MySQLConnector"
   ],
   "id": "534c667474c59dac",
   "execution_count": 1,
   "outputs": []
  },
  {
   "metadata": {},
   "cell_type": "markdown",
   "source": "## Load the data",
   "id": "218de97c29b240cf"
  },
  {
   "metadata": {
    "ExecuteTime": {
     "end_time": "2024-05-22T07:50:33.018785Z",
     "start_time": "2024-05-22T07:50:33.009768Z"
    }
   },
   "cell_type": "code",
   "source": [
    "# Load the data\n",
    "conn = MySQLConnector(\n",
    "    user=\"readmyzone\",\n",
    "    password=os.environ.get(\"MYSQL_PASSWORD\"),\n",
    "    host=\"192.168.2.7\",\n",
    "    port=\"3306\",\n",
    ")"
   ],
   "id": "b8f960e8d9d36f5a",
   "execution_count": 2,
   "outputs": []
  },
  {
   "metadata": {
    "ExecuteTime": {
     "end_time": "2024-05-22T07:50:41.095190Z",
     "start_time": "2024-05-22T07:50:36.142333Z"
    }
   },
   "cell_type": "code",
   "source": [
    "sav_incidencias = conn.query_data(\n",
    "    query=\"SELECT * FROM sav_incidencias\", database=\"myzone\"\n",
    ")\n",
    "sav_piezas = conn.query_data(query=\"SELECT * FROM sav_piezas\", database=\"myzone\")\n",
    "sav_estados = conn.query_data(query=\"SELECT * FROM sav_estados\", database=\"myzone\")\n",
    "sav_incidencias_tipo = conn.query_data(\n",
    "    query=\"SELECT * FROM sav_incidencias_tipo\", database=\"myzone\"\n",
    ")"
   ],
   "id": "9f3380d21dc06f50",
   "execution_count": 3,
   "outputs": []
  },
  {
   "metadata": {
    "ExecuteTime": {
     "end_time": "2024-05-08T07:41:06.058677Z",
     "start_time": "2024-05-08T07:41:05.726127Z"
    }
   },
   "cell_type": "code",
   "source": [
    "dataset = sav_incidencias.merge(\n",
    "    sav_piezas,\n",
    "    left_on=\"codigo\",\n",
    "    right_on=\"codigo_incidencia\",\n",
    "    how=\"left\",\n",
    "    suffixes=(None, \"_pieza\"),\n",
    ")\n",
    "dataset = dataset.merge(\n",
    "    sav_estados, left_on=\"estado\", right_on=\"id\", how=\"left\", suffixes=(None, \"_estado\")\n",
    ")\n",
    "dataset = dataset.merge(\n",
    "    sav_incidencias_tipo,\n",
    "    left_on=\"tipo\",\n",
    "    right_on=\"id\",\n",
    "    how=\"left\",\n",
    "    suffixes=(None, \"_tipo\"),\n",
    ")"
   ],
   "id": "3fba68b913e20271",
   "execution_count": 4,
   "outputs": []
  },
  {
   "metadata": {
    "ExecuteTime": {
     "end_time": "2024-05-08T07:41:06.083854Z",
     "start_time": "2024-05-08T07:41:06.058677Z"
    }
   },
   "cell_type": "code",
   "source": [
    "clean_dataset = dataset[(dataset[\"tipo\"] == 1) & (dataset[\"estado\"].isin([2, 6]))]"
   ],
   "id": "747b38221b0cd88a",
   "execution_count": 5,
   "outputs": []
  },
  {
   "metadata": {
    "ExecuteTime": {
     "end_time": "2024-05-08T07:41:06.251338Z",
     "start_time": "2024-05-08T07:41:06.083854Z"
    }
   },
   "cell_type": "code",
   "source": [
    "# Load from disk the text to translate dictionary\n",
    "fields_to_translate = [\"desc_problema\", \"problema\", \"descripcion\"]\n",
    "text_to_translate = {}\n",
    "for text in fields_to_translate:\n",
    "    text_to_translate[text] = pd.read_csv(\n",
    "        f\"../DATA/{text}.csv\", sep=\"¬\", encoding=\"utf-8-sig\"\n",
    "    )"
   ],
   "id": "c3937fd76dc1bf76",
   "execution_count": 6,
   "outputs": []
  },
  {
   "cell_type": "code",
   "id": "initial_id",
   "metadata": {
    "collapsed": true,
    "ExecuteTime": {
     "end_time": "2024-05-08T07:41:06.370827Z",
     "start_time": "2024-05-08T07:41:06.251338Z"
    }
   },
   "source": [
    "desc_problema_translated = pd.read_csv(\n",
    "    \"../DATA/desc_problema_translated.csv\",\n",
    "    sep=\"¬\",\n",
    "    encoding=\"utf-8-sig\",\n",
    "    engine=\"python\",\n",
    ")\n",
    "descripcion_translated = pd.read_csv(\n",
    "    \"../DATA/descripcion_translated.csv\", sep=\"¬\", encoding=\"utf-8-sig\", engine=\"python\"\n",
    ")\n",
    "problema_translated = pd.read_csv(\n",
    "    \"../DATA/problema_translated.csv\", sep=\"¬\", encoding=\"utf-8-sig\", engine=\"python\"\n",
    ")  # Data preprocessing (Merging the translated text)"
   ],
   "execution_count": 7,
   "outputs": []
  },
  {
   "metadata": {
    "ExecuteTime": {
     "end_time": "2024-05-08T07:41:06.381477Z",
     "start_time": "2024-05-08T07:41:06.370827Z"
    }
   },
   "cell_type": "code",
   "source": [
    "# Delete rows with values (desc_problema, desc_problema_translated)\n",
    "desc_problema_translated = desc_problema_translated[\n",
    "    ~desc_problema_translated[\"desc_problema_translated\"].isin(\n",
    "        [\"desc_problema_translated\"]\n",
    "    )\n",
    "]\n",
    "descripcion_translated = descripcion_translated[\n",
    "    ~descripcion_translated[\"descripcion_translated\"].isin([\"descripcion_translated\"])\n",
    "]\n",
    "problema_translated = problema_translated[\n",
    "    ~problema_translated[\"problema_translated\"].isin([\"problema_translated\"])\n",
    "]"
   ],
   "id": "5728490c1ef98641",
   "execution_count": 8,
   "outputs": []
  },
  {
   "metadata": {
    "ExecuteTime": {
     "end_time": "2024-05-08T07:41:06.391779Z",
     "start_time": "2024-05-08T07:41:06.381477Z"
    }
   },
   "cell_type": "code",
   "source": "desc_problema_translated.count()",
   "id": "964c516475bc565b",
   "execution_count": 9,
   "outputs": []
  },
  {
   "metadata": {
    "ExecuteTime": {
     "end_time": "2024-05-08T07:41:06.428104Z",
     "start_time": "2024-05-08T07:41:06.391779Z"
    }
   },
   "cell_type": "code",
   "source": [
    "# Merge the translated text with the text_to_translate dataframe\n",
    "desc_problema_translated = text_to_translate[\"desc_problema\"].merge(\n",
    "    desc_problema_translated,\n",
    "    left_on=\"desc_problema\",\n",
    "    right_on=\"desc_problema\",\n",
    "    how=\"left\",\n",
    ")\n",
    "descripcion_translated = text_to_translate[\"descripcion\"].merge(\n",
    "    descripcion_translated, left_on=\"descripcion\", right_on=\"descripcion\", how=\"left\"\n",
    ")\n",
    "problema_translated = text_to_translate[\"problema\"].merge(\n",
    "    problema_translated, left_on=\"problema\", right_on=\"problema\", how=\"left\"\n",
    ")"
   ],
   "id": "c6ef16434e7aa400",
   "execution_count": 10,
   "outputs": []
  },
  {
   "metadata": {
    "ExecuteTime": {
     "end_time": "2024-05-08T07:41:06.442136Z",
     "start_time": "2024-05-08T07:41:06.428104Z"
    }
   },
   "cell_type": "code",
   "source": [
    "# Fill NA with the original texts\n",
    "desc_problema_translated.fillna(\n",
    "    {\"desc_problema_translated\": desc_problema_translated[\"desc_problema\"]},\n",
    "    inplace=True,\n",
    ")\n",
    "descripcion_translated.fillna(\n",
    "    {\"descripcion_translated\": descripcion_translated[\"descripcion\"]}, inplace=True\n",
    ")\n",
    "problema_translated.fillna(\n",
    "    {\"problema_translated\": problema_translated[\"problema\"]}, inplace=True\n",
    ")"
   ],
   "id": "f192011f1cb44460",
   "execution_count": 11,
   "outputs": []
  },
  {
   "metadata": {
    "ExecuteTime": {
     "end_time": "2024-05-08T07:41:06.450996Z",
     "start_time": "2024-05-08T07:41:06.442136Z"
    }
   },
   "cell_type": "code",
   "source": "desc_problema_translated.head(5)",
   "id": "441411c8ce3affdc",
   "execution_count": 12,
   "outputs": []
  },
  {
   "metadata": {
    "ExecuteTime": {
     "end_time": "2024-05-08T07:41:06.838135Z",
     "start_time": "2024-05-08T07:41:06.450996Z"
    }
   },
   "cell_type": "code",
   "source": [
    "# Merge the translated text with the original dataset\n",
    "clean_dataset = clean_dataset.merge(\n",
    "    desc_problema_translated,\n",
    "    left_on=\"desc_problema\",\n",
    "    right_on=\"desc_problema\",\n",
    "    how=\"left\",\n",
    ")\n",
    "clean_dataset = clean_dataset.merge(\n",
    "    descripcion_translated, left_on=\"descripcion\", right_on=\"descripcion\", how=\"left\"\n",
    ")\n",
    "clean_dataset = clean_dataset.merge(\n",
    "    problema_translated, left_on=\"problema\", right_on=\"problema\", how=\"left\"\n",
    ")"
   ],
   "id": "614bfb6ace6e2944",
   "execution_count": 13,
   "outputs": []
  },
  {
   "metadata": {
    "ExecuteTime": {
     "end_time": "2024-05-08T07:41:06.847487Z",
     "start_time": "2024-05-08T07:41:06.838135Z"
    }
   },
   "cell_type": "code",
   "source": "clean_dataset[[\"desc_problema\"]].head(100)",
   "id": "70d9d42f4ba9cb1f",
   "execution_count": 14,
   "outputs": []
  },
  {
   "metadata": {
    "ExecuteTime": {
     "end_time": "2024-05-08T07:41:07.298762Z",
     "start_time": "2024-05-08T07:41:06.847487Z"
    }
   },
   "cell_type": "code",
   "source": [
    "clean_dataset.describe(include=\"all\")"
   ],
   "id": "e84856fdd0940ef1",
   "execution_count": 15,
   "outputs": []
  },
  {
   "metadata": {
    "ExecuteTime": {
     "end_time": "2024-05-08T07:41:07.303615Z",
     "start_time": "2024-05-08T07:41:07.298762Z"
    }
   },
   "cell_type": "code",
   "source": [
    "for column in clean_dataset.columns:\n",
    "    print(f\"Column: {column}\")"
   ],
   "id": "d6045361e36b7b87",
   "execution_count": 16,
   "outputs": []
  },
  {
   "metadata": {
    "ExecuteTime": {
     "end_time": "2024-05-08T07:41:07.337929Z",
     "start_time": "2024-05-08T07:41:07.303615Z"
    }
   },
   "cell_type": "code",
   "source": [
    "# Get only the columns with the fields of interest\n",
    "text_to_analyse = clean_dataset[\n",
    "    [\n",
    "        \"desc_problema_translated\",\n",
    "        \"descripcion_translated\",\n",
    "        \"problema_translated\",\n",
    "        \"cod_articulo\",\n",
    "    ]\n",
    "]\n",
    "# Fill NA with empty string\n",
    "text_to_analyse.fillna(\"\", inplace=True)"
   ],
   "id": "dc06c3d9dd9902e2",
   "execution_count": 17,
   "outputs": []
  },
  {
   "metadata": {
    "ExecuteTime": {
     "end_time": "2024-05-08T07:41:07.394451Z",
     "start_time": "2024-05-08T07:41:07.337929Z"
    }
   },
   "cell_type": "code",
   "source": [
    "text_to_analyse.loc[:, \"text_to_analyse\"] = (\n",
    "    text_to_analyse[\"desc_problema_translated\"]\n",
    "    + \" \"\n",
    "    + text_to_analyse[\"descripcion_translated\"]\n",
    "    + \" \"\n",
    "    + text_to_analyse[\"problema_translated\"]\n",
    "    + \" \"\n",
    "    + text_to_analyse[\"cod_articulo\"]\n",
    ")"
   ],
   "id": "1769ea0a436bf71d",
   "execution_count": 18,
   "outputs": []
  },
  {
   "metadata": {
    "ExecuteTime": {
     "end_time": "2024-05-08T07:41:07.402608Z",
     "start_time": "2024-05-08T07:41:07.394451Z"
    }
   },
   "cell_type": "code",
   "source": "text_to_analyse.head(10)",
   "id": "9476356aaf02e1d7",
   "execution_count": 19,
   "outputs": []
  },
  {
   "metadata": {
    "ExecuteTime": {
     "end_time": "2024-05-08T07:41:09.550858Z",
     "start_time": "2024-05-08T07:41:07.402608Z"
    }
   },
   "cell_type": "code",
   "source": [
    "import multiprocessing\n",
    "from collections import OrderedDict\n",
    "import gensim.models.doc2vec\n",
    "\n",
    "assert gensim.models.doc2vec.FAST_VERSION > -1, \"This will be painfully slow otherwise\"\n",
    "from gensim.models.doc2vec import Doc2Vec, TaggedDocument"
   ],
   "id": "a1b2ae336cd4755a",
   "execution_count": 20,
   "outputs": []
  },
  {
   "metadata": {
    "ExecuteTime": {
     "end_time": "2024-05-08T07:41:09.554519Z",
     "start_time": "2024-05-08T07:41:09.550858Z"
    }
   },
   "cell_type": "code",
   "source": [
    "class CommentedDoc2Vec(Doc2Vec):\n",
    "    def __init__(self, comment=\"\", **kwargs):\n",
    "        super().__init__(**kwargs)\n",
    "        self.comment = comment"
   ],
   "id": "56d88c9c6d7fb93a",
   "execution_count": 21,
   "outputs": []
  },
  {
   "metadata": {},
   "cell_type": "markdown",
   "source": "## Train DocVec and save the model",
   "id": "e7b2c1173790c33a"
  },
  {
   "metadata": {
    "ExecuteTime": {
     "end_time": "2024-05-08T06:23:30.028387Z",
     "start_time": "2024-05-08T06:23:28.302997Z"
    }
   },
   "cell_type": "code",
   "source": [
    "common_kwargs = dict(\n",
    "    vector_size=100,\n",
    "    epochs=20,\n",
    "    min_count=2,\n",
    "    sample=0,\n",
    "    workers=multiprocessing.cpu_count(),\n",
    "    negative=5,\n",
    "    hs=0,\n",
    ")\n",
    "\n",
    "# Create models\n",
    "simple_models = [\n",
    "    # PV-DBOW plain\n",
    "    CommentedDoc2Vec(dm=0, comment=\"PV-DBOW plain\", **common_kwargs),\n",
    "    # PV-DM w/ default averaging; a higher starting alpha may improve CBOW/PV-DM modes\n",
    "    CommentedDoc2Vec(\n",
    "        dm=1, window=10, alpha=0.05, comment=\"PV-DM averaging\", **common_kwargs\n",
    "    ),\n",
    "]\n",
    "\n",
    "# Create TaggedDocument objects\n",
    "tagged_data = [\n",
    "    TaggedDocument(words=doc.split(), tags=[i])\n",
    "    for i, doc in enumerate(text_to_analyse[\"text_to_analyse\"])\n",
    "]\n",
    "\n",
    "# Build the vocabulary\n",
    "for model in simple_models:\n",
    "    model.build_vocab(tagged_data)\n",
    "    print(\"%s vocabulary scanned & state initialized\" % model)"
   ],
   "id": "2beb6a13dbad0e4d",
   "execution_count": 47,
   "outputs": []
  },
  {
   "metadata": {
    "ExecuteTime": {
     "end_time": "2024-05-08T06:25:05.356550Z",
     "start_time": "2024-05-08T06:23:39.797199Z"
    }
   },
   "cell_type": "code",
   "source": [
    "# Train the models\n",
    "for model in simple_models:\n",
    "    model.train(tagged_data, total_examples=model.corpus_count, epochs=model.epochs)\n",
    "    print(\"%s training completed\" % model)"
   ],
   "id": "87a307c21b14d383",
   "execution_count": 48,
   "outputs": []
  },
  {
   "metadata": {
    "ExecuteTime": {
     "end_time": "2024-05-08T06:26:31.528466Z",
     "start_time": "2024-05-08T06:26:31.525257Z"
    }
   },
   "cell_type": "code",
   "source": [
    "for model in simple_models:\n",
    "    print(model.comment)"
   ],
   "id": "e76266b84bd0d8ea",
   "execution_count": 53,
   "outputs": []
  },
  {
   "metadata": {
    "ExecuteTime": {
     "end_time": "2024-05-08T06:26:40.610571Z",
     "start_time": "2024-05-08T06:26:40.524497Z"
    }
   },
   "cell_type": "code",
   "source": [
    "from datetime import date\n",
    "\n",
    "# Save the models\n",
    "today_date = date.today().isoformat()\n",
    "base_path = f\"../MODELS/{today_date}\"\n",
    "os.makedirs(base_path, exist_ok=True)\n",
    "for model in simple_models:\n",
    "    model_name = (\n",
    "        f\"{base_path}/{type(model).__name__}_{model.comment.replace(' ', '_')}.model\"\n",
    "    )\n",
    "    model.save(model_name)\n",
    "    print(f\"Model saved at {model_name}\")"
   ],
   "id": "dffef7197d3fdd2f",
   "execution_count": 54,
   "outputs": []
  },
  {
   "metadata": {},
   "cell_type": "markdown",
   "source": "## Load the models",
   "id": "879689151c598baa"
  },
  {
   "metadata": {
    "ExecuteTime": {
     "end_time": "2024-05-08T07:41:10.009439Z",
     "start_time": "2024-05-08T07:41:09.554519Z"
    }
   },
   "cell_type": "code",
   "source": [
    "# Load the models\n",
    "pv_dbow = f\"../MODELS/2024-05-08/CommentedDoc2Vec_PV-DBOW_plain.model\"\n",
    "pv_dm = f\"../MODELS/2024-05-08/CommentedDoc2Vec_PV-DM_averaging.model\"\n",
    "loaded_models = []\n",
    "for model in [pv_dbow, pv_dm]:\n",
    "    loaded_model = CommentedDoc2Vec.load(model)\n",
    "    loaded_models.append(loaded_model)\n",
    "    print(f\"Model loaded from {model}\")"
   ],
   "id": "68e6460b0c913519",
   "execution_count": 22,
   "outputs": []
  },
  {
   "metadata": {
    "ExecuteTime": {
     "end_time": "2024-05-08T07:41:10.014884Z",
     "start_time": "2024-05-08T07:41:10.009685Z"
    }
   },
   "cell_type": "code",
   "source": [
    "# Get the vectors\n",
    "vectors = [model.dv.vectors for model in loaded_models]"
   ],
   "id": "3cf1bc14ae9e73b6",
   "execution_count": 23,
   "outputs": []
  },
  {
   "metadata": {
    "ExecuteTime": {
     "end_time": "2024-05-08T07:41:12.543817Z",
     "start_time": "2024-05-08T07:41:12.514329Z"
    }
   },
   "cell_type": "code",
   "source": [
    "# Ensure text_to_analyse and vectors have the same length\n",
    "assert len(text_to_analyse) == len(\n",
    "    vectors[0]\n",
    "), \"Mismatched document counts between models\"\n",
    "\n",
    "# Add vectors to the text_to_analyse dataframe\n",
    "text_to_analyse.loc[:, \"PV-DBOW\"] = list(vectors[0])\n",
    "text_to_analyse.loc[:, \"PV-DM\"] = list(vectors[1])"
   ],
   "id": "4b526664622411f4",
   "execution_count": 24,
   "outputs": []
  },
  {
   "metadata": {
    "ExecuteTime": {
     "end_time": "2024-05-08T07:41:16.954587Z",
     "start_time": "2024-05-08T07:41:16.838435Z"
    }
   },
   "cell_type": "code",
   "source": [
    "# Convert the vectors into a 2D array for PCA\n",
    "vectors_pv_dbow = np.vstack(text_to_analyse[\"PV-DBOW\"])\n",
    "vectors_pv_dm = np.vstack(text_to_analyse[\"PV-DM\"])\n",
    "\n",
    "# Combine both sets of vectors\n",
    "combined_vectors = np.hstack([vectors_pv_dbow, vectors_pv_dm])"
   ],
   "id": "56d0ec3165318a2",
   "execution_count": 25,
   "outputs": []
  },
  {
   "metadata": {
    "ExecuteTime": {
     "end_time": "2024-05-08T07:47:01.215687Z",
     "start_time": "2024-05-08T07:45:35.256933Z"
    }
   },
   "cell_type": "code",
   "source": [
    "# Create a sklearn pipeline to apply a clustering algorithm\n",
    "from sklearn.pipeline import Pipeline\n",
    "from sklearn.cluster import KMeans\n",
    "from sklearn.model_selection import GridSearchCV\n",
    "\n",
    "pipeline = Pipeline([(\"kmeans\", KMeans())])\n",
    "\n",
    "# Create grid search parameters\n",
    "parameters = {\n",
    "    \"kmeans__n_clusters\": [200, 220, 240, 260, 280, 300, 320, 340, 360, 380, 400]\n",
    "}\n",
    "\n",
    "grid_search = GridSearchCV(pipeline, parameters, cv=2, n_jobs=-1, verbose=1)\n",
    "grid_search.fit(combined_vectors)"
   ],
   "id": "5d26aaa6c3844888",
   "execution_count": 32,
   "outputs": []
  },
  {
   "metadata": {
    "ExecuteTime": {
     "end_time": "2024-05-08T07:47:01.220727Z",
     "start_time": "2024-05-08T07:47:01.215687Z"
    }
   },
   "cell_type": "code",
   "source": [
    "# Check the best parameters\n",
    "grid_search.best_params_"
   ],
   "id": "2f76cc01850c7e02",
   "execution_count": 33,
   "outputs": []
  },
  {
   "metadata": {
    "ExecuteTime": {
     "end_time": "2024-05-08T07:47:07.394816Z",
     "start_time": "2024-05-08T07:47:07.348584Z"
    }
   },
   "cell_type": "code",
   "source": [
    "# Add the cluster to the dataset\n",
    "text_to_analyse[\"cluster\"] = grid_search.best_estimator_.predict(combined_vectors)"
   ],
   "id": "d0cf00bc6729951",
   "execution_count": 34,
   "outputs": []
  },
  {
   "metadata": {
    "ExecuteTime": {
     "end_time": "2024-05-08T07:47:09.542588Z",
     "start_time": "2024-05-08T07:47:09.376403Z"
    }
   },
   "cell_type": "code",
   "source": [
    "# Plot PCA of the vectors in 3 dimensions\n",
    "%matplotlib qt\n",
    "from sklearn.decomposition import PCA\n",
    "\n",
    "pca = PCA(n_components=3)\n",
    "vectors_df_pca = pca.fit_transform(vectors_pv_dbow)\n",
    "fig = plt.figure()\n",
    "ax = fig.add_subplot(111, projection=\"3d\")\n",
    "ax.scatter(\n",
    "    vectors_df_pca[:, 0],\n",
    "    vectors_df_pca[:, 1],\n",
    "    vectors_df_pca[:, 2],\n",
    "    c=text_to_analyse[\"cluster\"],\n",
    ")\n",
    "plt.title(\"PCA of the vectors\")\n",
    "plt.show()"
   ],
   "id": "5b3285370c9da908",
   "execution_count": 35,
   "outputs": []
  },
  {
   "metadata": {
    "ExecuteTime": {
     "end_time": "2024-05-08T09:18:07.431953Z",
     "start_time": "2024-05-08T09:08:56.238840Z"
    }
   },
   "cell_type": "code",
   "source": [
    "from sklearn.manifold import TSNE\n",
    "\n",
    "tsne = TSNE(n_components=3, verbose=1, perplexity=40)\n",
    "tsne_vector = tsne.fit_transform(combined_vectors)\n",
    "tsne_vector = pd.DataFrame(tsne_vector, columns=[\"TSNE1\", \"TSNE2\", \"TSNE3\"])"
   ],
   "id": "3d4b4ff91675b98e",
   "execution_count": 38,
   "outputs": []
  },
  {
   "metadata": {
    "ExecuteTime": {
     "end_time": "2024-05-08T09:18:14.545658Z",
     "start_time": "2024-05-08T09:18:14.486796Z"
    }
   },
   "cell_type": "code",
   "source": [
    "# Plot TSNE of the vectors in 3 dimensions\n",
    "fig = plt.figure()\n",
    "ax = fig.add_subplot(111, projection=\"3d\")\n",
    "ax.scatter(\n",
    "    tsne_vector[\"TSNE1\"],\n",
    "    tsne_vector[\"TSNE2\"],\n",
    "    tsne_vector[\"TSNE3\"],\n",
    "    c=text_to_analyse[\"cluster\"],\n",
    ")\n",
    "plt.title(\"TSNE of the vectors\")\n",
    "plt.show()"
   ],
   "id": "b0f125664bc44cd7",
   "execution_count": 39,
   "outputs": []
  },
  {
   "metadata": {},
   "cell_type": "markdown",
   "source": "## Tests with actual standard error text",
   "id": "714c0b0cd1066ece"
  },
  {
   "metadata": {
    "ExecuteTime": {
     "end_time": "2024-05-08T09:34:09.889734Z",
     "start_time": "2024-05-08T09:34:09.885482Z"
    }
   },
   "cell_type": "code",
   "source": [
    "# Get the most similar texts\n",
    "def get_similar_texts(text, model, topn=5):\n",
    "    similar_texts = model.dv.most_similar([model.infer_vector(text.split())], topn=topn)\n",
    "    return similar_texts"
   ],
   "id": "e7f71e0ef74fb373",
   "execution_count": 42,
   "outputs": []
  },
  {
   "metadata": {
    "ExecuteTime": {
     "end_time": "2024-05-08T12:17:01.410696Z",
     "start_time": "2024-05-08T12:17:01.393990Z"
    }
   },
   "cell_type": "code",
   "source": [
    "test_texts = [\n",
    "    \"Fallo de comunicaciones con la central El dispositivo intenta comunicar con la central, pero no la detecta. Los leds sí que parpadean.\",\n",
    "    \"Fallo de comunicaciones con la máquina, el dispositivo intenta comunicar con la maquina, pero no la detecta. Los leds sí que parpadean.\",\n",
    "    \"Unidad no arranca, las comunicaciones y los leds son correctos, pero la máquina no arranca.\",\n",
    "    \"Error apertura/cierre. No muestra error en el sistema. La compuerta o rejilla no abre ni cierra, pero no se muesrta ningún error en el sistema.\",\n",
    "]\n",
    "\n",
    "# test_text = test_texts[random.randint(0, len(test_texts)-1)]\n",
    "test_text = test_texts[3]\n",
    "\n",
    "print(f\"TARGET TEXT: {test_text} \\n\")\n",
    "\n",
    "for model in loaded_models:\n",
    "    similar_texts = get_similar_texts(test_text, model)\n",
    "    print(f\"Model: {model.comment}\")\n",
    "    for i, (index, similarity) in enumerate(similar_texts):\n",
    "        print(\n",
    "            f\"Similar text {i+1}: {text_to_analyse['text_to_analyse'][index]} with similarity {similarity}\\n\"\n",
    "        )\n",
    "    break"
   ],
   "id": "9828606422fa265b",
   "execution_count": 166,
   "outputs": []
  },
  {
   "metadata": {},
   "cell_type": "markdown",
   "source": "## Calculate the similarity between the texts",
   "id": "fa6574c7550ab5e2"
  },
  {
   "metadata": {
    "ExecuteTime": {
     "end_time": "2024-05-08T12:05:04.700081Z",
     "start_time": "2024-05-08T12:05:04.687937Z"
    }
   },
   "cell_type": "code",
   "source": [
    "# Read list of errors\n",
    "errors = pd.read_csv(\"../DATA/errors.csv\", sep=\";\")"
   ],
   "id": "fb297aac6cb9e59b",
   "execution_count": 162,
   "outputs": []
  },
  {
   "metadata": {
    "ExecuteTime": {
     "end_time": "2024-05-08T14:08:30.707207Z",
     "start_time": "2024-05-08T14:08:30.702202Z"
    }
   },
   "cell_type": "code",
   "source": [
    "from sklearn.metrics.pairwise import cosine_similarity\n",
    "\n",
    "\n",
    "def calculate_mean_cosine_score(vector, text, model, n=5):\n",
    "    cosine_scores = []\n",
    "    for i in range(n):\n",
    "        cosine_scores.append(\n",
    "            cosine_similarity(\n",
    "                vector.reshape(1, -1), model.infer_vector(text.split()).reshape(1, -1)\n",
    "            )\n",
    "        )\n",
    "    return np.mean(cosine_scores)"
   ],
   "id": "9f2d1efdfe544d83",
   "execution_count": 471,
   "outputs": []
  },
  {
   "metadata": {
    "ExecuteTime": {
     "start_time": "2024-05-08T14:23:29.166323Z"
    }
   },
   "cell_type": "code",
   "source": [
    "# Calculate the cosine similarity with all text_for_analyse for each of the errors descriptions\n",
    "for i, id_error in enumerate(errors[\"ID_ERROR\"]):\n",
    "    error_description = errors[errors[\"ID_ERROR\"] == id_error][\"DESCRIPCION\"].values[0]\n",
    "    text_to_analyse.loc[:, f\"cosine_similarity_{id_error}\"] = text_to_analyse[\n",
    "        \"PV-DBOW\"\n",
    "    ].apply(\n",
    "        lambda x: calculate_mean_cosine_score(x, error_description, loaded_models[0])\n",
    "    )\n",
    "    print(f\"Error {i+1} of {len(errors)} calculated\")"
   ],
   "id": "5c1981de4f1af5db",
   "execution_count": null,
   "outputs": []
  },
  {
   "metadata": {},
   "cell_type": "code",
   "source": [
    "# Save text_to_analyse to disk\n",
    "# text_to_analyse.to_csv(\"../DATA/text_to_analyse.csv\", sep='¬', encoding='utf-8-sig', index=False)"
   ],
   "id": "2d3813e09545b3c0",
   "execution_count": null,
   "outputs": []
  },
  {
   "metadata": {
    "ExecuteTime": {
     "end_time": "2024-05-09T05:35:43.160918Z",
     "start_time": "2024-05-09T05:35:39.383938Z"
    }
   },
   "cell_type": "code",
   "source": [
    "# Load text_to_analyse from disk\n",
    "# text_to_analyse = pd.read_csv(\"../DATA/text_to_analyse.csv\", sep='¬', encoding='utf-8-sig')"
   ],
   "id": "bdddf88949009f17",
   "execution_count": 3,
   "outputs": []
  },
  {
   "metadata": {
    "ExecuteTime": {
     "end_time": "2024-05-08T14:22:30.343515Z",
     "start_time": "2024-05-08T14:18:29.773789Z"
    }
   },
   "cell_type": "code",
   "source": [
    "text_to_analyse.loc[:, \"cosine_similarity\"] = text_to_analyse[\"PV-DBOW\"].apply(\n",
    "    lambda x: calculate_mean_cosine_score(x, test_text, loaded_models[0])\n",
    ")"
   ],
   "id": "f67371a3d1a66e1f",
   "execution_count": 479,
   "outputs": []
  },
  {
   "metadata": {
    "ExecuteTime": {
     "end_time": "2024-05-08T14:14:40.517403Z",
     "start_time": "2024-05-08T14:14:40.502756Z"
    }
   },
   "cell_type": "code",
   "source": [
    "text_to_analyse[[\"text_to_analyse\", \"cosine_similarity\"]].sort_values(\n",
    "    by=\"cosine_similarity\", ascending=False\n",
    ").head(10)"
   ],
   "id": "b8c66fb04245a951",
   "execution_count": 478,
   "outputs": []
  },
  {
   "metadata": {
    "ExecuteTime": {
     "end_time": "2024-05-09T05:42:49.425056Z",
     "start_time": "2024-05-09T05:42:49.355335Z"
    }
   },
   "cell_type": "code",
   "source": [
    "cosine_columns = [col for col in text_to_analyse.columns if \"cosine_similarity_\" in col]\n",
    "text_to_analyse.loc[:, \"highest_score\"] = text_to_analyse[cosine_columns].max(axis=1)\n",
    "text_to_analyse.loc[:, \"highest_score_error\"] = (\n",
    "    text_to_analyse[cosine_columns].idxmax(axis=1).apply(lambda x: x.split(\"_\")[-1])\n",
    ")"
   ],
   "id": "275961e04f93e19b",
   "execution_count": 18,
   "outputs": []
  },
  {
   "metadata": {
    "ExecuteTime": {
     "end_time": "2024-05-09T05:42:49.705526Z",
     "start_time": "2024-05-09T05:42:49.690933Z"
    }
   },
   "cell_type": "code",
   "source": "text_to_analyse.head(10)",
   "id": "f7931048c23cb44f",
   "execution_count": 19,
   "outputs": []
  },
  {
   "metadata": {
    "ExecuteTime": {
     "end_time": "2024-05-09T05:56:45.019428Z",
     "start_time": "2024-05-09T05:56:44.939549Z"
    }
   },
   "cell_type": "code",
   "source": [
    "top10_per_error = (\n",
    "    text_to_analyse[[\"text_to_analyse\", \"highest_score\", \"highest_score_error\"]]\n",
    "    .groupby(\"highest_score_error\", group_keys=False)\n",
    "    .apply(lambda x: x.nlargest(10, \"highest_score\"))\n",
    "    .reset_index(drop=True)\n",
    ")\n",
    "\n",
    "top10_per_error.head(500)"
   ],
   "id": "36fe900fe9d5697c",
   "execution_count": 26,
   "outputs": []
  }
 ],
 "metadata": {
  "kernelspec": {
   "display_name": "Python 3",
   "language": "python",
   "name": "python3"
  },
  "language_info": {
   "codemirror_mode": {
    "name": "ipython",
    "version": 2
   },
   "file_extension": ".py",
   "mimetype": "text/x-python",
   "name": "python",
   "nbconvert_exporter": "python",
   "pygments_lexer": "ipython2",
   "version": "2.7.6"
  }
 },
 "nbformat": 4,
 "nbformat_minor": 5
}
