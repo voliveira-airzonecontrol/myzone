{
 "cells": [
  {
   "metadata": {},
   "cell_type": "markdown",
   "source": [
    "# After sales text clustering using Transformers\n",
    "## Sentence Transformers - BERT embeddings"
   ],
   "id": "1927308d5428137a"
  },
  {
   "cell_type": "code",
   "id": "initial_id",
   "metadata": {
    "collapsed": true,
    "ExecuteTime": {
     "end_time": "2024-05-20T13:34:49.059602Z",
     "start_time": "2024-05-20T13:33:38.408918Z"
    }
   },
   "source": [
    "import pandas as pd\n",
    "from sentence_transformers import SentenceTransformer\n",
    "\n",
    "import os\n",
    "\n",
    "pd.options.mode.chained_assignment = None\n",
    "\n",
    "data_version = \"2024-05-14\"\n",
    "data_base_path = \"../DATA/processed\""
   ],
   "execution_count": 1,
   "outputs": []
  },
  {
   "metadata": {
    "ExecuteTime": {
     "end_time": "2024-05-20T13:34:49.503394Z",
     "start_time": "2024-05-20T13:34:49.063616Z"
    }
   },
   "cell_type": "code",
   "source": [
    "# Preprocess text\n",
    "def preprocess_text(text, words_to_remove=None):\n",
    "    if words_to_remove is None:\n",
    "        words_to_remove = []\n",
    "\n",
    "    text = text.lower()\n",
    "    words = text.split()\n",
    "    text = [word for word in words if word not in words_to_remove]\n",
    "    return \" \".join(text)\n",
    "\n",
    "\n",
    "# Load data\n",
    "data_path = os.path.join(data_base_path, f\"{data_version}\", \"text_to_analyse_clean.csv\")\n",
    "text_to_analyse = pd.read_csv(data_path, sep=\"¬\", engine=\"python\")\n",
    "\n",
    "words_to_remove = [\n",
    "    \"averia\",\n",
    "    \"averías\",\n",
    "    \"avería\",\n",
    "    \"defecto\",\n",
    "    \"defectos\",\n",
    "    \"error\",\n",
    "    \"errores\",\n",
    "    \"fallo\",\n",
    "    \"fallos\",\n",
    "    \"falla\",\n",
    "    \"motivo\",\n",
    "    \"motivos\",\n",
    "    \"proble\",\n",
    "    \"problema\",\n",
    "    \"problemas\",\n",
    "]\n",
    "\n",
    "text_to_analyse[\"processed_text\"] = text_to_analyse[\"text_to_analyse\"].apply(\n",
    "    preprocess_text\n",
    ")"
   ],
   "id": "882ecaf576c3c33a",
   "execution_count": 2,
   "outputs": []
  },
  {
   "metadata": {
    "ExecuteTime": {
     "end_time": "2024-05-20T13:34:49.533570Z",
     "start_time": "2024-05-20T13:34:49.504577Z"
    }
   },
   "cell_type": "code",
   "source": "text_to_analyse.head()",
   "id": "e295440604753020",
   "execution_count": 3,
   "outputs": []
  },
  {
   "metadata": {
    "ExecuteTime": {
     "end_time": "2024-05-20T13:41:19.908245Z",
     "start_time": "2024-05-20T13:34:49.535569Z"
    }
   },
   "cell_type": "code",
   "source": [
    "# Load model\n",
    "model = SentenceTransformer(\"all-mpnet-base-v2\")\n",
    "\n",
    "# Compute embeddings\n",
    "embeddings = model.encode(text_to_analyse[\"processed_text\"].tolist())\n",
    "text_to_analyse[\"embeddings\"] = embeddings.tolist()"
   ],
   "id": "62bdce24e5495787",
   "execution_count": 4,
   "outputs": []
  },
  {
   "metadata": {
    "ExecuteTime": {
     "end_time": "2024-05-20T13:41:19.924348Z",
     "start_time": "2024-05-20T13:41:19.910257Z"
    }
   },
   "cell_type": "code",
   "source": "",
   "id": "cd44b8886368a953",
   "execution_count": 4,
   "outputs": []
  },
  {
   "metadata": {
    "ExecuteTime": {
     "end_time": "2024-05-20T13:41:19.939983Z",
     "start_time": "2024-05-20T13:41:19.925030Z"
    }
   },
   "cell_type": "code",
   "source": [
    "# Load Errors\n",
    "errors = pd.read_csv(\"../DATA/TablaTipoErrorPostventa.csv\", sep=\";\", header=0)[\n",
    "    [\"Código\", \"CODCAR3\", \"CODCAR2\", \"DESCFAM\", \"Motivo General\", \"DESCRIPCION\"]\n",
    "]\n",
    "errors.columns = [\n",
    "    \"ID_ERROR\",\n",
    "    \"CODCAR3\",\n",
    "    \"CODCAR2\",\n",
    "    \"DESCFAM\",\n",
    "    \"MOTIVO\",\n",
    "    \"DESCRIPCION\",\n",
    "]  # Rename columns\n",
    "errors[\"DESCRIPCION_DETAILED\"] = errors[\n",
    "    \"MOTIVO\"\n",
    "]  # + ' ' + errors['DESCRIPCION'].fillna('') # Concatenate MOTIVO and DESCRIPCION\n",
    "errors[\"CODCAR2\"] = errors[\"CODCAR2\"].str.replace(\"-\", \"0\").astype(int)  # Clean CODCAR2"
   ],
   "id": "13248f42a89b0360",
   "execution_count": 5,
   "outputs": []
  },
  {
   "metadata": {
    "ExecuteTime": {
     "end_time": "2024-05-20T13:41:20.331924Z",
     "start_time": "2024-05-20T13:41:19.941953Z"
    }
   },
   "cell_type": "code",
   "source": [
    "# Calculate embeddings for errors\n",
    "errors[\"description_processed\"] = errors[\"DESCRIPCION_DETAILED\"].apply(preprocess_text)\n",
    "errors_embeddings = model.encode(errors[\"description_processed\"].tolist())\n",
    "errors[\"embeddings\"] = errors_embeddings.tolist()"
   ],
   "id": "58daa8e023c07bae",
   "execution_count": 6,
   "outputs": []
  },
  {
   "metadata": {
    "ExecuteTime": {
     "end_time": "2024-05-20T13:41:20.347207Z",
     "start_time": "2024-05-20T13:41:20.332995Z"
    }
   },
   "cell_type": "code",
   "source": [
    "# Calculate similarity\n",
    "from sklearn.metrics.pairwise import cosine_similarity\n",
    "\n",
    "\n",
    "def calculate_similarity(embeddings, error_embeddings):\n",
    "    return cosine_similarity([embeddings], [error_embeddings])[0][0]"
   ],
   "id": "337d58f0935bfbad",
   "execution_count": 7,
   "outputs": []
  },
  {
   "metadata": {
    "ExecuteTime": {
     "end_time": "2024-05-20T13:42:23.219222Z",
     "start_time": "2024-05-20T13:41:20.348213Z"
    }
   },
   "cell_type": "code",
   "source": [
    "# Calculate the cosine similarity between the text_to_analyse and the errors\n",
    "for index, row in errors.iterrows():\n",
    "    # Create a condition for filtering\n",
    "    condition = text_to_analyse[\"CAR3\"] == row[\"CODCAR3\"]\n",
    "    if row[\"CODCAR2\"]:\n",
    "        condition &= text_to_analyse[\"CAR2\"] == row[\"CODCAR2\"]\n",
    "\n",
    "    if not text_to_analyse.loc[condition, \"embeddings\"].empty:\n",
    "        text_to_analyse.loc[condition, f'cosine_similarity_{row[\"ID_ERROR\"]}'] = (\n",
    "            text_to_analyse.loc[condition, \"embeddings\"].apply(\n",
    "                lambda x: calculate_similarity(x, row[\"embeddings\"])\n",
    "            )\n",
    "        )\n",
    "\n",
    "    print(f\"Error {row['ID_ERROR']} calculated\")"
   ],
   "id": "7de352fb80eca3e1",
   "execution_count": 8,
   "outputs": []
  },
  {
   "metadata": {
    "ExecuteTime": {
     "end_time": "2024-05-20T13:42:23.250062Z",
     "start_time": "2024-05-20T13:42:23.220222Z"
    }
   },
   "cell_type": "code",
   "source": "text_to_analyse.sample(10)",
   "id": "7fe7665e2a132619",
   "execution_count": 9,
   "outputs": []
  },
  {
   "metadata": {
    "ExecuteTime": {
     "end_time": "2024-05-20T13:42:23.311607Z",
     "start_time": "2024-05-20T13:42:23.251062Z"
    }
   },
   "cell_type": "code",
   "source": [
    "cosine_columns = [col for col in text_to_analyse.columns if \"cosine_similarity_\" in col]\n",
    "text_to_analyse[cosine_columns] = text_to_analyse[cosine_columns].fillna(\n",
    "    0\n",
    ")  # Fill NA with 0\n",
    "text_to_analyse.loc[:, \"highest_score\"] = text_to_analyse[cosine_columns].max(axis=1)\n",
    "text_to_analyse.loc[:, \"highest_score_error\"] = (\n",
    "    text_to_analyse[cosine_columns].idxmax(axis=1).apply(lambda x: x.split(\"_\")[-1])\n",
    ")"
   ],
   "id": "7a2d1a9e033826d1",
   "execution_count": 10,
   "outputs": []
  },
  {
   "metadata": {
    "ExecuteTime": {
     "end_time": "2024-05-20T13:42:23.422785Z",
     "start_time": "2024-05-20T13:42:23.312608Z"
    }
   },
   "cell_type": "code",
   "source": [
    "errors[\"ID_ERROR\"] = errors[\"ID_ERROR\"].astype(str)\n",
    "text_to_analyse = text_to_analyse.merge(\n",
    "    errors[[\"ID_ERROR\", \"MOTIVO\"]],\n",
    "    left_on=\"highest_score_error\",\n",
    "    right_on=\"ID_ERROR\",\n",
    "    how=\"left\",\n",
    ")"
   ],
   "id": "c975a7718a1971c",
   "execution_count": 11,
   "outputs": []
  },
  {
   "metadata": {
    "ExecuteTime": {
     "end_time": "2024-05-20T13:42:23.453685Z",
     "start_time": "2024-05-20T13:42:23.424686Z"
    }
   },
   "cell_type": "code",
   "source": "text_to_analyse.sample(10)",
   "id": "3e17f1469a5e1e23",
   "execution_count": 12,
   "outputs": []
  },
  {
   "metadata": {
    "ExecuteTime": {
     "end_time": "2024-05-20T13:42:23.529635Z",
     "start_time": "2024-05-20T13:42:23.456684Z"
    }
   },
   "cell_type": "code",
   "source": [
    "top10_per_error = (\n",
    "    text_to_analyse[\n",
    "        [\"codigo\", \"text_to_analyse\", \"highest_score\", \"highest_score_error\"]\n",
    "    ]\n",
    "    .groupby(\"highest_score_error\", group_keys=False)\n",
    "    .apply(lambda x: x.nlargest(10, \"highest_score\"))\n",
    "    .reset_index(drop=True)\n",
    ")\n",
    "\n",
    "top10_per_error.head(500)"
   ],
   "id": "4308aeae84c39fc3",
   "execution_count": 13,
   "outputs": []
  },
  {
   "metadata": {
    "ExecuteTime": {
     "end_time": "2024-05-20T13:42:23.545634Z",
     "start_time": "2024-05-20T13:42:23.530635Z"
    }
   },
   "cell_type": "code",
   "source": [
    "text_to_analyse[text_to_analyse[\"codigo\"] == \"MMHSNG1V2C\"][\n",
    "    [\"codigo\", \"text_to_analyse\", \"highest_score\", \"highest_score_error\"]\n",
    "]"
   ],
   "id": "184b1cca9ea98972",
   "execution_count": 14,
   "outputs": []
  },
  {
   "metadata": {
    "ExecuteTime": {
     "end_time": "2024-05-20T13:42:23.561669Z",
     "start_time": "2024-05-20T13:42:23.546661Z"
    }
   },
   "cell_type": "code",
   "source": [
    "\"\"\"import csv\n",
    "top50_per_error = text_to_analyse[['codigo','text_to_analyse', 'highest_score', 'highest_score_error']] \\\n",
    "    .groupby('highest_score_error', group_keys=False) \\\n",
    "    .apply(lambda x: x.nlargest(50, 'highest_score')) \\\n",
    "    .reset_index(drop=True)\n",
    "\n",
    "top50_per_error.to_csv(\"../DATA/processed/2024-05-14/top50_per_error.csv\", index=False, encoding=\"utf-8\", quoting=csv.QUOTE_ALL)\"\"\""
   ],
   "id": "5e0ed5acc65de44",
   "execution_count": 15,
   "outputs": []
  },
  {
   "metadata": {},
   "cell_type": "markdown",
   "source": "# Save results in Qdrant database",
   "id": "502e61f439e3a558"
  },
  {
   "metadata": {
    "ExecuteTime": {
     "end_time": "2024-05-20T13:42:26.812616Z",
     "start_time": "2024-05-20T13:42:23.562637Z"
    }
   },
   "cell_type": "code",
   "source": [
    "from qdrant_client import QdrantClient\n",
    "from qdrant_client.http import models as qmodels\n",
    "from qdrant_client.http.models import Filter, FieldCondition, MatchValue\n",
    "\n",
    "qdrant_client = QdrantClient(\":memory:\")\n",
    "\n",
    "qdrant_client.create_collection(\n",
    "    collection_name=\"MyZone-DefectClassification\",\n",
    "    vectors_config=qmodels.VectorParams(size=768, distance=qmodels.Distance.COSINE),\n",
    ")"
   ],
   "id": "ca6bb2c5095e46a9",
   "execution_count": 16,
   "outputs": []
  },
  {
   "metadata": {
    "ExecuteTime": {
     "end_time": "2024-05-20T13:42:33.876638Z",
     "start_time": "2024-05-20T13:42:26.813641Z"
    }
   },
   "cell_type": "code",
   "source": [
    "# Insert vectors into Qdrant\n",
    "points = [\n",
    "    qmodels.PointStruct(\n",
    "        id=id,\n",
    "        vector=row[\"embeddings\"],\n",
    "        payload={\n",
    "            \"error\": row[\"highest_score_error\"],\n",
    "            \"codigo\": row[\"codigo\"],\n",
    "            \"error_description\": row[\"MOTIVO\"],\n",
    "            \"text\": row[\"text_to_analyse\"],\n",
    "            \"family\": row[\"CAR3\"],\n",
    "            \"sistema\": row[\"CAR2\"],\n",
    "        },\n",
    "    )\n",
    "    for id, row in text_to_analyse.iterrows()\n",
    "]\n",
    "\n",
    "qdrant_client.upsert(collection_name=\"MyZone-DefectClassification\", points=points)"
   ],
   "id": "71449c7736e16b3f",
   "execution_count": 17,
   "outputs": []
  },
  {
   "metadata": {
    "ExecuteTime": {
     "end_time": "2024-05-20T13:42:33.891916Z",
     "start_time": "2024-05-20T13:42:33.878639Z"
    }
   },
   "cell_type": "code",
   "source": [
    "# Define a function to search for errors\n",
    "def define_error(text, family):\n",
    "    query_embedding = model.encode(text).tolist()\n",
    "\n",
    "    # Define the filter\n",
    "    filter_condition = Filter(\n",
    "        must=[FieldCondition(key=\"family\", match=MatchValue(value=int(family)))]\n",
    "    )\n",
    "\n",
    "    search_result = qdrant_client.search(\n",
    "        collection_name=\"MyZone-DefectClassification\",\n",
    "        query_vector=query_embedding,\n",
    "        limit=20,\n",
    "        query_filter=filter_condition,\n",
    "    )\n",
    "    df = pd.DataFrame(\n",
    "        [\n",
    "            (result.payload[\"error_description\"], result.score)\n",
    "            for result in search_result\n",
    "        ],\n",
    "        columns=[\"Error\", \"Score\"],\n",
    "    )\n",
    "\n",
    "    group = df.groupby(\"Error\").max().sort_values(by=\"Score\", ascending=False)\n",
    "\n",
    "    # total = group[1].sum()\n",
    "    # group['percentage'] = group[group[1] > 0.2][1].apply(lambda x: x/total)\n",
    "\n",
    "    return group[\"Score\"].to_dict()"
   ],
   "id": "fd9d6bfc2871ba5e",
   "execution_count": 18,
   "outputs": []
  },
  {
   "metadata": {
    "ExecuteTime": {
     "end_time": "2024-05-20T13:42:34.520220Z",
     "start_time": "2024-05-20T13:42:33.892916Z"
    }
   },
   "cell_type": "code",
   "source": "define_error(\"Fallo de la pantalla\", \"91\")",
   "id": "7a8ab571fb5a8e53",
   "execution_count": 19,
   "outputs": []
  },
  {
   "metadata": {
    "ExecuteTime": {
     "end_time": "2024-05-20T13:42:39.633503Z",
     "start_time": "2024-05-20T13:42:34.521220Z"
    }
   },
   "cell_type": "code",
   "source": [
    "import gradio as gr\n",
    "\n",
    "# Create the Gradio interface\n",
    "iface = gr.Interface(\n",
    "    fn=define_error,\n",
    "    inputs=[\n",
    "        gr.Textbox(\n",
    "            lines=1,\n",
    "            placeholder=\"Enter error description here\",\n",
    "            label=\"Error Description\",\n",
    "            value=\"Fallo de la pantalla\",\n",
    "        ),\n",
    "        gr.Textbox(\n",
    "            lines=1, placeholder=\"Product Family\", label=\"Product Family\", value=\"91\"\n",
    "        ),\n",
    "    ],\n",
    "    outputs=gr.Label(num_top_classes=5),\n",
    "    title=\"Error probability calculator\",\n",
    "    description=\"Enter error description and the product family to get the most probable error.\",\n",
    ")\n",
    "\n",
    "# Launch the interface\n",
    "iface.launch()"
   ],
   "id": "6e0bb9d544dcd0da",
   "execution_count": 20,
   "outputs": []
  },
  {
   "metadata": {
    "ExecuteTime": {
     "end_time": "2024-05-20T13:42:39.648501Z",
     "start_time": "2024-05-20T13:42:39.634474Z"
    }
   },
   "cell_type": "code",
   "source": "",
   "id": "5dc5c4468e4a7980",
   "execution_count": 20,
   "outputs": []
  },
  {
   "metadata": {},
   "cell_type": "markdown",
   "source": "## Evaluate the model",
   "id": "89943bbebc558200"
  },
  {
   "metadata": {
    "ExecuteTime": {
     "end_time": "2024-05-20T14:04:21.420887Z",
     "start_time": "2024-05-20T14:04:21.398252Z"
    }
   },
   "cell_type": "code",
   "source": [
    "# Separate the data into train and test\n",
    "test_dataset_ids = pd.read_csv(\"../DATA/processed/test_dataset_ids.csv\")\n",
    "test_dataset = text_to_analyse[\n",
    "    text_to_analyse[\"codigo\"].isin(test_dataset_ids[\"codigo\"])\n",
    "]"
   ],
   "id": "c83e88cac520c4a8",
   "execution_count": 21,
   "outputs": []
  },
  {
   "metadata": {
    "ExecuteTime": {
     "end_time": "2024-05-20T14:04:21.577357Z",
     "start_time": "2024-05-20T14:04:21.564327Z"
    }
   },
   "cell_type": "code",
   "source": [
    "test_dataset = test_dataset.merge(test_dataset_ids, on=\"codigo\", how=\"inner\")\n",
    "test_dataset[\"ERROR_POSTVENTA\"] = test_dataset[\"ERROR_POSTVENTA\"].astype(str)\n",
    "test_dataset[\"highest_score_error\"] = test_dataset[\"highest_score_error\"].astype(str)"
   ],
   "id": "141d136977d39809",
   "execution_count": 22,
   "outputs": []
  },
  {
   "metadata": {
    "ExecuteTime": {
     "end_time": "2024-05-20T14:05:13.409446Z",
     "start_time": "2024-05-20T14:05:13.399452Z"
    }
   },
   "cell_type": "code",
   "source": [
    "test_dataset[[\"highest_score_error\", \"ERROR_POSTVENTA\"]]"
   ],
   "id": "f2e3e9f36c447b39",
   "execution_count": 26,
   "outputs": []
  },
  {
   "metadata": {
    "ExecuteTime": {
     "end_time": "2024-05-20T14:04:23.620690Z",
     "start_time": "2024-05-20T14:04:23.578830Z"
    }
   },
   "cell_type": "code",
   "source": [
    "from sklearn.metrics import classification_report\n",
    "\n",
    "print(\n",
    "    classification_report(\n",
    "        test_dataset[\"ERROR_POSTVENTA\"], test_dataset[\"highest_score_error\"]\n",
    "    )\n",
    ")"
   ],
   "id": "6f9e9f1ef5d7ebd1",
   "execution_count": 24,
   "outputs": []
  },
  {
   "metadata": {
    "ExecuteTime": {
     "end_time": "2024-05-20T14:04:28.182491Z",
     "start_time": "2024-05-20T14:04:28.164325Z"
    }
   },
   "cell_type": "code",
   "source": "test_dataset.count()",
   "id": "8dbaf75e036050a6",
   "execution_count": 25,
   "outputs": []
  },
  {
   "metadata": {},
   "cell_type": "code",
   "execution_count": null,
   "source": "",
   "id": "7bc0a9c37f4e7b35",
   "outputs": []
  }
 ],
 "metadata": {
  "kernelspec": {
   "display_name": "Python 3",
   "language": "python",
   "name": "python3"
  },
  "language_info": {
   "codemirror_mode": {
    "name": "ipython",
    "version": 2
   },
   "file_extension": ".py",
   "mimetype": "text/x-python",
   "name": "python",
   "nbconvert_exporter": "python",
   "pygments_lexer": "ipython2",
   "version": "2.7.6"
  }
 },
 "nbformat": 4,
 "nbformat_minor": 5
}
