{
 "cells": [
  {
   "cell_type": "code",
   "id": "initial_id",
   "metadata": {
    "collapsed": true,
    "ExecuteTime": {
     "end_time": "2024-05-07T05:42:42.108051Z",
     "start_time": "2024-05-07T05:42:38.992708Z"
    }
   },
   "source": [
    "import os\n",
    "import time\n",
    "\n",
    "import pandas as pd\n",
    "import numpy as np\n",
    "import matplotlib.pyplot as plt\n",
    "from sqlalchemy import create_engine"
   ],
   "execution_count": 1,
   "outputs": []
  },
  {
   "metadata": {
    "ExecuteTime": {
     "end_time": "2024-05-07T05:44:18.379903Z",
     "start_time": "2024-05-07T05:44:18.363446Z"
    }
   },
   "cell_type": "code",
   "source": [
    "def query_data(query):\n",
    "    \"\"\"\n",
    "    Function to query data from the database using sqlalchemy\n",
    "    :param query:\n",
    "    :return: pd.DataFrame\n",
    "\n",
    "    Connection parameters:\n",
    "    user = readmyzone\n",
    "    password = (get from environment variable MYSQL_PASSWORD)\n",
    "    host = 192.168.2.7\n",
    "    port = 3306\n",
    "    \"\"\"\n",
    "\n",
    "    # Create the connection string\n",
    "    user = \"readmyzone\"\n",
    "    password = os.environ.get(\"MYSQL_PASSWORD\")\n",
    "    host = \"192.168.2.7\"\n",
    "    port = \"3306\"\n",
    "    db = \"myzone\"\n",
    "    connection_string = f\"mysql+pymysql://{user}:{password}@{host}:{port}/{db}\"\n",
    "\n",
    "    # Create the engine\n",
    "    engine = create_engine(connection_string)\n",
    "\n",
    "    try:\n",
    "        # Query the data\n",
    "        data = pd.read_sql(query, engine)\n",
    "    except Exception as e:\n",
    "        print(e)\n",
    "        data = None\n",
    "\n",
    "    return data"
   ],
   "id": "60af2537d4b0e24b",
   "execution_count": 7,
   "outputs": []
  },
  {
   "metadata": {},
   "cell_type": "markdown",
   "source": "# Load the data",
   "id": "2aa4973760588c72"
  },
  {
   "metadata": {
    "ExecuteTime": {
     "end_time": "2024-05-07T05:44:24.978198Z",
     "start_time": "2024-05-07T05:44:21.311872Z"
    }
   },
   "cell_type": "code",
   "source": [
    "sav_incidencias = query_data(\"SELECT * FROM sav_incidencias\")\n",
    "sav_piezas = query_data(\"SELECT * FROM sav_piezas\")\n",
    "sav_estados = query_data(\"SELECT * FROM sav_estados\")\n",
    "sav_incidencias_tipo = query_data(\"SELECT * FROM sav_incidencias_tipo\")"
   ],
   "id": "920177cce2e4335e",
   "execution_count": 8,
   "outputs": []
  },
  {
   "metadata": {
    "ExecuteTime": {
     "end_time": "2024-05-07T05:44:33.076167Z",
     "start_time": "2024-05-07T05:44:32.729362Z"
    }
   },
   "cell_type": "code",
   "source": [
    "dataset = sav_incidencias.merge(\n",
    "    sav_piezas,\n",
    "    left_on=\"codigo\",\n",
    "    right_on=\"codigo_incidencia\",\n",
    "    how=\"left\",\n",
    "    suffixes=(None, \"_pieza\"),\n",
    ")\n",
    "dataset = dataset.merge(\n",
    "    sav_estados, left_on=\"estado\", right_on=\"id\", how=\"left\", suffixes=(None, \"_estado\")\n",
    ")\n",
    "dataset = dataset.merge(\n",
    "    sav_incidencias_tipo,\n",
    "    left_on=\"tipo\",\n",
    "    right_on=\"id\",\n",
    "    how=\"left\",\n",
    "    suffixes=(None, \"_tipo\"),\n",
    ")"
   ],
   "id": "b4ea61fe7917d372",
   "execution_count": 9,
   "outputs": []
  },
  {
   "metadata": {
    "ExecuteTime": {
     "end_time": "2024-05-07T05:44:33.164393Z",
     "start_time": "2024-05-07T05:44:33.135003Z"
    }
   },
   "cell_type": "code",
   "source": [
    "clean_dataset = dataset[(dataset[\"tipo\"] == 1) & (dataset[\"estado\"].isin([2, 6]))]"
   ],
   "id": "dd863b9ecb69b7fb",
   "execution_count": 10,
   "outputs": []
  },
  {
   "metadata": {
    "ExecuteTime": {
     "end_time": "2024-05-07T05:44:33.665960Z",
     "start_time": "2024-05-07T05:44:33.557298Z"
    }
   },
   "cell_type": "code",
   "source": [
    "dataset_incidencias = sav_incidencias.merge(\n",
    "    sav_estados, left_on=\"estado\", right_on=\"id\", how=\"left\", suffixes=(None, \"_estado\")\n",
    ")\n",
    "dataset_incidencias = dataset_incidencias.merge(\n",
    "    sav_incidencias_tipo,\n",
    "    left_on=\"tipo\",\n",
    "    right_on=\"id\",\n",
    "    how=\"left\",\n",
    "    suffixes=(None, \"_tipo\"),\n",
    ")"
   ],
   "id": "f4c75ac8ca2c869d",
   "execution_count": 11,
   "outputs": []
  },
  {
   "metadata": {},
   "cell_type": "markdown",
   "source": "# EDA",
   "id": "24e87ae59506092a"
  },
  {
   "metadata": {
    "ExecuteTime": {
     "end_time": "2024-05-07T05:44:36.536884Z",
     "start_time": "2024-05-07T05:44:36.510994Z"
    }
   },
   "cell_type": "code",
   "source": "dataset.head(50)",
   "id": "37fb98ee37cf4640",
   "execution_count": 12,
   "outputs": []
  },
  {
   "metadata": {
    "ExecuteTime": {
     "end_time": "2024-05-07T05:44:40.030837Z",
     "start_time": "2024-05-07T05:44:39.997872Z"
    }
   },
   "cell_type": "code",
   "source": [
    "groupby = (\n",
    "    dataset.groupby([\"titulo_es_tipo\", \"titulo_es\"])\n",
    "    .size()\n",
    "    .rename(\"count\")\n",
    "    .reset_index()\n",
    ")\n",
    "groupby[\"%\"] = groupby[\"count\"] / groupby[\"count\"].sum() * 100\n",
    "groupby"
   ],
   "id": "b1f2c639d4be5248",
   "execution_count": 13,
   "outputs": []
  },
  {
   "metadata": {
    "ExecuteTime": {
     "end_time": "2024-05-07T05:44:43.021840Z",
     "start_time": "2024-05-07T05:44:42.024759Z"
    }
   },
   "cell_type": "code",
   "source": [
    "group_inc_tipo = (\n",
    "    dataset_incidencias.groupby(\"titulo_es_tipo\")\n",
    "    .size()\n",
    "    .to_frame()\n",
    "    .rename(columns={0: \"count\"})\n",
    "    .sort_values(\"count\", ascending=False)\n",
    ")\n",
    "group_inc_estado = (\n",
    "    dataset_incidencias.groupby(\"titulo_es\")\n",
    "    .size()\n",
    "    .to_frame()\n",
    "    .rename(columns={0: \"count\"})\n",
    "    .sort_values(\"count\", ascending=False)\n",
    ")\n",
    "\n",
    "# Create a subplot and plot both graphs in the same figure\n",
    "fig, axs = plt.subplots(1, 2, figsize=(20, 10))\n",
    "axs[0].pie(\n",
    "    group_inc_tipo[\"count\"],\n",
    "    labels=group_inc_tipo.index,\n",
    "    autopct=\"%1.1f%%\",\n",
    "    startangle=90,\n",
    ")\n",
    "axs[0].set_title(\"Number of incidents by type\")\n",
    "axs[1].pie(\n",
    "    group_inc_estado[\"count\"],\n",
    "    labels=group_inc_estado.index,\n",
    "    autopct=\"%1.1f%%\",\n",
    "    startangle=90,\n",
    ")\n",
    "axs[1].set_title(\"Number of incidents by state\")\n",
    "plt.show()"
   ],
   "id": "96628dd3ec366674",
   "execution_count": 14,
   "outputs": []
  },
  {
   "metadata": {
    "ExecuteTime": {
     "end_time": "2024-05-07T05:44:45.516919Z",
     "start_time": "2024-05-07T05:44:45.328336Z"
    }
   },
   "cell_type": "code",
   "source": [
    "group_pieces_tipo = (\n",
    "    dataset.groupby(\"titulo_es_tipo\")\n",
    "    .size()\n",
    "    .to_frame()\n",
    "    .rename(columns={0: \"count\"})\n",
    "    .sort_values(\"count\", ascending=False)\n",
    ")\n",
    "group_pieces_estado = (\n",
    "    dataset.groupby(\"titulo_es\")\n",
    "    .size()\n",
    "    .to_frame()\n",
    "    .rename(columns={0: \"count\"})\n",
    "    .sort_values(\"count\", ascending=False)\n",
    ")\n",
    "\n",
    "# Create a subplot and plot both graphs in the same figure\n",
    "fig, axs = plt.subplots(1, 2, figsize=(20, 10))\n",
    "axs[0].pie(\n",
    "    group_pieces_tipo[\"count\"],\n",
    "    labels=group_pieces_tipo.index,\n",
    "    autopct=\"%1.1f%%\",\n",
    "    startangle=90,\n",
    ")\n",
    "axs[0].set_title(\"Number of pieces by type\")\n",
    "axs[1].pie(\n",
    "    group_pieces_estado[\"count\"],\n",
    "    labels=group_pieces_estado.index,\n",
    "    autopct=\"%1.1f%%\",\n",
    "    startangle=90,\n",
    ")\n",
    "axs[1].set_title(\"Number of pieces by state\")\n",
    "plt.show()"
   ],
   "id": "6847887efba86985",
   "execution_count": 15,
   "outputs": []
  },
  {
   "metadata": {
    "ExecuteTime": {
     "end_time": "2024-05-07T05:45:13.667399Z",
     "start_time": "2024-05-07T05:45:13.161344Z"
    }
   },
   "cell_type": "code",
   "source": [
    "# Plot the X products with more incidents\n",
    "X = 20\n",
    "group_articulo = (\n",
    "    clean_dataset.groupby(\"cod_articulo\")\n",
    "    .size()\n",
    "    .to_frame()\n",
    "    .rename(columns={0: \"count\"})\n",
    "    .sort_values(\"count\", ascending=False)\n",
    "    .head(X)\n",
    ")\n",
    "group_articulo[\"cumsum\"] = group_articulo[\"count\"].cumsum()\n",
    "group_articulo[\"%\"] = (\n",
    "    group_articulo[\"cumsum\"] / dataset.groupby(\"cod_articulo\").size().sum() * 100\n",
    ")\n",
    "\n",
    "# Plot the number of incidents\n",
    "plt.figure(figsize=(20, 6))\n",
    "plt.bar(group_articulo.index, group_articulo[\"count\"], zorder=2)\n",
    "plt.ylabel(\"Number of incidents\")\n",
    "plt.xlabel(\"Product\")\n",
    "plt.grid(zorder=0)\n",
    "plt.xticks(rotation=90)\n",
    "\n",
    "# Plot the % of total\n",
    "plt.twinx()\n",
    "plt.plot(group_articulo.index, group_articulo[\"%\"], color=\"red\", marker=\"o\", zorder=3)\n",
    "for i in range(X):\n",
    "    plt.text(\n",
    "        group_articulo.index[i],\n",
    "        group_articulo[\"%\"].iloc[i],\n",
    "        f\"{group_articulo['%'].iloc[i]:.2f}%\",\n",
    "        ha=\"center\",\n",
    "        va=\"bottom\",\n",
    "    )\n",
    "plt.title(f\"Top {X} products with more incidents\")\n",
    "plt.grid(False)\n",
    "plt.ylabel(\"% of total\")\n",
    "plt.show()"
   ],
   "id": "7a067eb6c5328348",
   "execution_count": 17,
   "outputs": []
  },
  {
   "metadata": {},
   "cell_type": "markdown",
   "source": "# Data preprocessing (Translating the text fields)",
   "id": "f007f721ed735987"
  },
  {
   "metadata": {
    "ExecuteTime": {
     "end_time": "2024-05-07T05:45:23.886913Z",
     "start_time": "2024-05-07T05:45:23.870697Z"
    }
   },
   "cell_type": "code",
   "source": [
    "from deep_translator import GoogleTranslator\n",
    "from langdetect import detect\n",
    "from langdetect import DetectorFactory\n",
    "\n",
    "DetectorFactory.seed = 0"
   ],
   "id": "1f6997c469d5781f",
   "execution_count": 18,
   "outputs": []
  },
  {
   "metadata": {
    "ExecuteTime": {
     "end_time": "2024-05-07T05:45:24.300426Z",
     "start_time": "2024-05-07T05:45:24.260654Z"
    }
   },
   "cell_type": "code",
   "source": [
    "fields_to_translate = [\"desc_problema\", \"problema\", \"descripcion\"]\n",
    "text_to_translate = {}\n",
    "\n",
    "# text_to_translate = clean_dataset[fields_to_translate]\n",
    "for field in fields_to_translate:\n",
    "    text_to_translate[field] = pd.DataFrame(\n",
    "        clean_dataset[field].unique(), columns=[field]\n",
    "    )"
   ],
   "id": "bc57cd85925db81e",
   "execution_count": 19,
   "outputs": []
  },
  {
   "metadata": {
    "ExecuteTime": {
     "end_time": "2024-05-06T05:45:08.572203Z",
     "start_time": "2024-05-06T05:39:46.336402Z"
    }
   },
   "cell_type": "code",
   "source": [
    "# Detect language of the texts\n",
    "def detect_language(text):\n",
    "    if len(str(text)) < 5:\n",
    "        return \"Too short\"\n",
    "\n",
    "    try:\n",
    "        return \"es\" if str(text) == \"\" else detect(str(text).lower())\n",
    "    except Exception as e:\n",
    "        return \"Error\"\n",
    "\n",
    "\n",
    "for field in fields_to_translate:\n",
    "    text_to_translate[field][f\"{field}_lg\"] = text_to_translate[field][field].apply(\n",
    "        detect_language\n",
    "    )"
   ],
   "id": "322421fba9af1801",
   "execution_count": 16,
   "outputs": []
  },
  {
   "metadata": {
    "ExecuteTime": {
     "end_time": "2024-05-06T05:46:56.775499Z",
     "start_time": "2024-05-06T05:46:56.007694Z"
    }
   },
   "cell_type": "code",
   "source": [
    "# Plot the number of texts by language\n",
    "lang = text_to_translate[\"desc_problema\"][\"desc_problema_lg\"].value_counts()\n",
    "plt.figure(figsize=(20, 6))\n",
    "plt.bar(lang.index, lang.values, zorder=2)\n",
    "for i in range(len(lang)):\n",
    "    plt.text(\n",
    "        lang.index[i],\n",
    "        lang.values[i],\n",
    "        lang.values[i],\n",
    "        ha=\"center\",\n",
    "        va=\"bottom\",\n",
    "        zorder=2,\n",
    "    )\n",
    "plt.ylabel(\"Number of texts\")\n",
    "plt.xlabel(\"Language\")\n",
    "plt.title(\"Number of texts by language for the 'desc_problema' field\")\n",
    "plt.grid(zorder=0)\n",
    "plt.twinx()\n",
    "plt.plot(\n",
    "    lang.index, lang.cumsum() / lang.sum() * 100, color=\"red\", marker=\"o\", zorder=2\n",
    ")\n",
    "plt.grid(False)\n",
    "for i in range(5):\n",
    "    plt.text(\n",
    "        lang.index[i],\n",
    "        lang.cumsum().iloc[i] / lang.sum() * 100,\n",
    "        f\"{lang.cumsum().iloc[i] / lang.sum() * 100:.2f}%\",\n",
    "        ha=\"center\",\n",
    "        va=\"bottom\",\n",
    "        zorder=2,\n",
    "    )\n",
    "plt.ylabel(\"% of total\")\n",
    "plt.ylim(0, 105)\n",
    "plt.show()"
   ],
   "id": "57ce6ec1f6754346",
   "execution_count": 25,
   "outputs": []
  },
  {
   "metadata": {
    "ExecuteTime": {
     "end_time": "2024-05-06T06:12:27.552143Z",
     "start_time": "2024-05-06T06:12:27.520541Z"
    }
   },
   "cell_type": "code",
   "source": [
    "aux = 0\n",
    "for text in text_to_translate.keys():\n",
    "    print(\n",
    "        f\"Lenght of filtered dataframe: {len(text_to_translate[text][~text_to_translate[text][f'{text}_lg'].isin(['es','Error','Too short'])])}\"\n",
    "    )\n",
    "    aux += (\n",
    "        text_to_translate[text][\n",
    "            ~text_to_translate[text][f\"{text}_lg\"].isin([\"es\", \"Error\", \"Too short\"])\n",
    "        ][text]\n",
    "        .apply(lambda x: len(str(x)))\n",
    "        .sum()\n",
    "    )\n",
    "print(f\"Total number of characters to translate: {aux}\")"
   ],
   "id": "e05ec7a00d71bb59",
   "execution_count": 45,
   "outputs": []
  },
  {
   "metadata": {
    "ExecuteTime": {
     "end_time": "2024-05-06T06:28:33.783546Z",
     "start_time": "2024-05-06T06:28:33.615535Z"
    }
   },
   "cell_type": "code",
   "source": [
    "# Save in disk the text to translate dictionary to avoid reprocessing\n",
    "for text in text_to_translate.keys():\n",
    "    text_to_translate[text].to_csv(\n",
    "        f\"../DATA/{text}.csv\", sep=\"¬\", encoding=\"utf-8-sig\", index=False\n",
    "    )"
   ],
   "id": "e7c528c65f48a87a",
   "execution_count": 68,
   "outputs": []
  },
  {
   "metadata": {
    "ExecuteTime": {
     "end_time": "2024-05-07T05:46:48.136076Z",
     "start_time": "2024-05-07T05:46:47.931540Z"
    }
   },
   "cell_type": "code",
   "source": [
    "# Load from disk the text to translate dictionary\n",
    "text_to_translate = {}\n",
    "for text in fields_to_translate:\n",
    "    text_to_translate[text] = pd.read_csv(\n",
    "        f\"../DATA/{text}.csv\", sep=\"¬\", encoding=\"utf-8-sig\"\n",
    "    )"
   ],
   "id": "3b1ea9006d33c35f",
   "execution_count": 20,
   "outputs": []
  },
  {
   "metadata": {
    "ExecuteTime": {
     "end_time": "2024-05-06T07:43:28.919037Z",
     "start_time": "2024-05-06T07:43:28.913683Z"
    }
   },
   "cell_type": "code",
   "source": [
    "from tqdm import tqdm\n",
    "\n",
    "\n",
    "def translate_in_batches(df, columns_to_translate, batch_size=10):\n",
    "    \"\"\"\n",
    "    Function to translate the text in batches.\n",
    "    It uses the Google Translator API to translate the text.\n",
    "    It writes the translated text to a csv file.\n",
    "    :param df: dataframe with the text to translate\n",
    "    :param columns_to_translate: columns to translate\n",
    "    :param batch_size: size of the batch to translate\n",
    "    :return: None\n",
    "    \"\"\"\n",
    "    for column in columns_to_translate:\n",
    "        total_rows = len(df)\n",
    "        with tqdm(total=total_rows) as pbar:\n",
    "            for i in range(0, total_rows, batch_size):\n",
    "                batch = df.iloc[i : i + batch_size][column].tolist()\n",
    "                try:\n",
    "                    translations = GoogleTranslator(\n",
    "                        source=\"auto\", target=\"es\"\n",
    "                    ).translate_batch(batch)\n",
    "                    # Test if csv file exists, if not created it and add the translated text to it\n",
    "                    if not os.path.exists(f\"{column}_trasnlated.csv\"):\n",
    "                        pd.DataFrame(\n",
    "                            {column: batch, f\"{column}_translated\": translations}\n",
    "                        ).to_csv(\n",
    "                            f\"../DATA/{column}_translated.csv\",\n",
    "                            mode=\"a\",\n",
    "                            index=False,\n",
    "                            sep=\"¬\",\n",
    "                            encoding=\"utf-8-sig\",\n",
    "                            lineterminator=\"\\n\",\n",
    "                        )\n",
    "                    else:\n",
    "                        pd.DataFrame(\n",
    "                            {column: batch, f\"{column}_translated\": translations}\n",
    "                        ).to_csv(\n",
    "                            f\"../DATA/{column}_translated.csv\",\n",
    "                            mode=\"a\",\n",
    "                            header=False,\n",
    "                            index=False,\n",
    "                            sep=\"¬\",\n",
    "                            encoding=\"utf-8-sig\",\n",
    "                            lineterminator=\"\\n\",\n",
    "                        )\n",
    "                    pbar.update(len(batch))\n",
    "                except Exception as e:\n",
    "                    print(f\"Error occurred during translation: {e}\")"
   ],
   "id": "42213fe74778f68a",
   "execution_count": 92,
   "outputs": []
  },
  {
   "metadata": {
    "ExecuteTime": {
     "end_time": "2024-05-06T06:37:19.899747Z",
     "start_time": "2024-05-06T06:37:16.624023Z"
    }
   },
   "cell_type": "code",
   "source": [
    "# Translate texts that are not spanish text\n",
    "for text in text_to_translate.keys():\n",
    "    translate_in_batches(\n",
    "        text_to_translate[text][\n",
    "            ~text_to_translate[text][f\"{text}_lg\"].isin([\"es\", \"Error\", \"Too short\"])\n",
    "        ],\n",
    "        [text],\n",
    "    )"
   ],
   "id": "1c2e43dd705f0608",
   "execution_count": 74,
   "outputs": []
  },
  {
   "metadata": {},
   "cell_type": "markdown",
   "source": "### The analysis will continue in the notebook MyZone-DefectClassification",
   "id": "a7ea9cc4db09be16"
  }
 ],
 "metadata": {
  "kernelspec": {
   "display_name": "Python 3",
   "language": "python",
   "name": "python3"
  },
  "language_info": {
   "codemirror_mode": {
    "name": "ipython",
    "version": 2
   },
   "file_extension": ".py",
   "mimetype": "text/x-python",
   "name": "python",
   "nbconvert_exporter": "python",
   "pygments_lexer": "ipython2",
   "version": "2.7.6"
  }
 },
 "nbformat": 4,
 "nbformat_minor": 5
}
