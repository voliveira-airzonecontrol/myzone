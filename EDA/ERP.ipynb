{
 "cells": [
  {
   "cell_type": "code",
   "id": "initial_id",
   "metadata": {
    "collapsed": true,
    "ExecuteTime": {
     "end_time": "2024-05-21T07:23:18.041762Z",
     "start_time": "2024-05-21T07:23:14.978705Z"
    }
   },
   "source": [
    "# import the necessary packages for SQL server connection\n",
    "import os\n",
    "import pandas as pd\n",
    "import matplotlib.pyplot as plt\n",
    "import numpy as np\n",
    "import seaborn as sns\n",
    "from src.db.connections import SqlServerConnector"
   ],
   "execution_count": 5,
   "outputs": []
  },
  {
   "metadata": {},
   "cell_type": "markdown",
   "source": "# Load and Pre-process Data",
   "id": "981a6276dc40427a"
  },
  {
   "metadata": {
    "ExecuteTime": {
     "end_time": "2024-05-21T07:23:24.827875Z",
     "start_time": "2024-05-21T07:23:24.818856Z"
    }
   },
   "cell_type": "code",
   "source": [
    "conn = SqlConnector(\n",
    "    user=\"voliveira\",\n",
    "    password=os.environ.get(\"SQL_PASSWORD\"),\n",
    "    host=\"ROMPETECHOS\",\n",
    "    port=\"53373\",\n",
    ")"
   ],
   "id": "be677050ba300d34",
   "execution_count": 6,
   "outputs": []
  },
  {
   "metadata": {
    "ExecuteTime": {
     "end_time": "2024-05-21T07:29:30.650456Z",
     "start_time": "2024-05-21T07:23:27.276320Z"
    }
   },
   "cell_type": "code",
   "source": [
    "# Query data from the database\n",
    "cabe_airzone = conn.query_data(\n",
    "    query=f\"SELECT * FROM dbo.CABEALBV\", database=\"Airzone\", instance=\"REPLICA\"\n",
    ")\n",
    "\n",
    "lin_airzone = conn.query_data(\n",
    "    query=f\"SELECT * FROM dbo.LINEALBA\", database=\"Airzone\", instance=\"REPLICA\"\n",
    ")\n",
    "\n",
    "cabe_airzone_france = conn.query_data(\n",
    "    query=f\"SELECT * FROM dbo.CABEALBV\", database=\"AirzoneFrance\", instance=\"REPLICA\"\n",
    ")\n",
    "\n",
    "lin_airzone_france = conn.query_data(\n",
    "    query=f\"SELECT * FROM dbo.LINEALBA\", database=\"AirzoneFrance\", instance=\"REPLICA\"\n",
    ")\n",
    "\n",
    "cabe_airzone_italia = conn.query_data(\n",
    "    query=f\"SELECT * FROM dbo.CABEALBV\", database=\"AirzoneItalia\", instance=\"REPLICA\"\n",
    ")\n",
    "\n",
    "lin_airzone_italia = conn.query_data(\n",
    "    query=f\"SELECT * FROM dbo.LINEALBA\", database=\"AirzoneItalia\", instance=\"REPLICA\"\n",
    ")\n",
    "\n",
    "cabe_airzone_usa = conn.query_data(\n",
    "    query=f\"SELECT * FROM dbo.CABEALBV\", database=\"AirzoneUsa\", instance=\"REPLICA\"\n",
    ")\n",
    "\n",
    "lin_airzone_usa = conn.query_data(\n",
    "    query=f\"SELECT * FROM dbo.LINEALBA\", database=\"AirzoneUsa\", instance=\"REPLICA\"\n",
    ")\n",
    "\n",
    "cabe_airzone_altra = conn.query_data(\n",
    "    query=f\"SELECT * FROM dbo.CABEALBV\", database=\"Altra\", instance=\"REPLICA\"\n",
    ")\n",
    "\n",
    "lin_airzone_altra = conn.query_data(\n",
    "    query=f\"SELECT * FROM dbo.LINEALBA\", database=\"Altra\", instance=\"REPLICA\"\n",
    ")"
   ],
   "id": "d0a6af8a5ccfb150",
   "execution_count": 7,
   "outputs": []
  },
  {
   "metadata": {},
   "cell_type": "code",
   "execution_count": null,
   "source": [
    "# Add one column to each dataframe to identify the country\n",
    "cabe_airzone[\"Country\"] = \"Spain\"\n",
    "cabe_airzone_france[\"Country\"] = \"France\"\n",
    "cabe_airzone_italia[\"Country\"] = \"Italia\"\n",
    "cabe_airzone_usa[\"Country\"] = \"USA\"\n",
    "cabe_airzone_altra[\"Country\"] = \"Altra\""
   ],
   "id": "c7ca170344477d63",
   "outputs": []
  },
  {
   "metadata": {},
   "cell_type": "code",
   "execution_count": null,
   "source": [
    "# Add month and year colulmns based on FECHA to cabe dataframes\n",
    "cabe_airzone[\"FECHA\"] = pd.to_datetime(cabe_airzone[\"FECHA\"])\n",
    "cabe_airzone[\"Month\"] = cabe_airzone[\"FECHA\"].dt.month\n",
    "cabe_airzone[\"Year\"] = cabe_airzone[\"FECHA\"].dt.year\n",
    "cabe_airzone_france[\"FECHA\"] = pd.to_datetime(cabe_airzone_france[\"FECHA\"])\n",
    "cabe_airzone_france[\"Month\"] = cabe_airzone_france[\"FECHA\"].dt.month\n",
    "cabe_airzone_france[\"Year\"] = cabe_airzone_france[\"FECHA\"].dt.year\n",
    "cabe_airzone_italia[\"FECHA\"] = pd.to_datetime(cabe_airzone_italia[\"FECHA\"])\n",
    "cabe_airzone_italia[\"Month\"] = cabe_airzone_italia[\"FECHA\"].dt.month\n",
    "cabe_airzone_italia[\"Year\"] = cabe_airzone_italia[\"FECHA\"].dt.year\n",
    "cabe_airzone_usa[\"FECHA\"] = pd.to_datetime(cabe_airzone_usa[\"FECHA\"])\n",
    "cabe_airzone_usa[\"Month\"] = cabe_airzone_usa[\"FECHA\"].dt.month\n",
    "cabe_airzone_usa[\"Year\"] = cabe_airzone_usa[\"FECHA\"].dt.year\n",
    "cabe_airzone_altra[\"FECHA\"] = pd.to_datetime(cabe_airzone_altra[\"FECHA\"])\n",
    "cabe_airzone_altra[\"Month\"] = cabe_airzone_altra[\"FECHA\"].dt.month\n",
    "cabe_airzone_altra[\"Year\"] = cabe_airzone_altra[\"FECHA\"].dt.year"
   ],
   "id": "8f9c0daedd7b1c60",
   "outputs": []
  },
  {
   "metadata": {
    "ExecuteTime": {
     "end_time": "2024-05-03T10:13:56.184907Z",
     "start_time": "2024-05-03T10:13:56.163372Z"
    }
   },
   "cell_type": "code",
   "source": [
    "# Check if the dataframes has the same columns\n",
    "# Print the columns that are in cabe_airzone but that are not in cabe_airzone_france\n",
    "print(\"Columns in cabe_airzone that are not in cabe_airzone_france:\")\n",
    "print(set(cabe_airzone.columns) - set(cabe_airzone_france.columns))\n",
    "print(\"Columns in cabe_airzone_italia that are not in cabe_airzone_france:\")\n",
    "print(set(cabe_airzone_france.columns) - set(cabe_airzone_italia.columns))\n",
    "print(\"Columns in cabe_airzone_usa that are not in cabe_airzone_italia:\")\n",
    "print(set(cabe_airzone_italia.columns) - set(cabe_airzone_usa.columns))\n",
    "print(\"Columns in cabe_airzone_altra that are not in cabe_airzone_usa:\")\n",
    "print(set(cabe_airzone_usa.columns) - set(cabe_airzone_altra.columns))\n",
    "print(\"Columns in cabe_airzone_usa that are not in cabe_airzone_altra:\")\n",
    "print(set(cabe_airzone_altra.columns) - set(cabe_airzone_usa.columns))"
   ],
   "id": "a170f0287bb6fb23",
   "execution_count": 100,
   "outputs": []
  },
  {
   "metadata": {
    "ExecuteTime": {
     "end_time": "2024-05-03T10:15:47.444960Z",
     "start_time": "2024-05-03T10:14:49.741690Z"
    }
   },
   "cell_type": "code",
   "source": [
    "# Concat all cabe and lin dataframes\n",
    "cabe = pd.concat(\n",
    "    [\n",
    "        cabe_airzone,\n",
    "        cabe_airzone_france,\n",
    "        cabe_airzone_italia,\n",
    "        cabe_airzone_usa,\n",
    "        cabe_airzone_altra,\n",
    "    ]\n",
    ")\n",
    "lineas = pd.concat(\n",
    "    [\n",
    "        lin_airzone,\n",
    "        lin_airzone_france,\n",
    "        lin_airzone_italia,\n",
    "        lin_airzone_usa,\n",
    "        lin_airzone_altra,\n",
    "    ]\n",
    ")"
   ],
   "id": "c7ea3a26e88db7d6",
   "execution_count": 103,
   "outputs": []
  },
  {
   "metadata": {
    "ExecuteTime": {
     "end_time": "2024-05-03T10:21:50.095325Z",
     "start_time": "2024-05-03T10:21:49.538376Z"
    }
   },
   "cell_type": "code",
   "source": [
    "# Clean SERIES field\n",
    "cabe[\"SERIE\"] = cabe[\"SERIE\"].str.strip()"
   ],
   "id": "2ad9f53978a2fe66",
   "execution_count": 106,
   "outputs": []
  },
  {
   "metadata": {
    "ExecuteTime": {
     "end_time": "2024-05-03T10:16:37.678998Z",
     "start_time": "2024-05-03T10:16:33.646393Z"
    }
   },
   "cell_type": "code",
   "source": [
    "cabe.describe(include=\"all\")"
   ],
   "id": "3bbdc168b2238f76",
   "execution_count": 104,
   "outputs": []
  },
  {
   "metadata": {
    "ExecuteTime": {
     "end_time": "2024-05-03T11:09:36.713701Z",
     "start_time": "2024-05-03T11:08:44.904784Z"
    }
   },
   "cell_type": "code",
   "source": [
    "lineas.describe(include=\"all\")"
   ],
   "id": "57da00ce8a896dc9",
   "execution_count": 134,
   "outputs": []
  },
  {
   "metadata": {
    "ExecuteTime": {
     "end_time": "2024-05-03T10:22:32.168136Z",
     "start_time": "2024-05-03T10:22:32.009611Z"
    }
   },
   "cell_type": "code",
   "source": [
    "cabe[\"SERIE\"].unique()"
   ],
   "id": "ea772ea76b1b2419",
   "execution_count": 107,
   "outputs": []
  },
  {
   "metadata": {
    "ExecuteTime": {
     "end_time": "2024-05-03T10:35:25.452311Z",
     "start_time": "2024-05-03T10:35:25.422127Z"
    }
   },
   "cell_type": "code",
   "source": [
    "# Define some constants\n",
    "SALES_CODES = [\"1\", \"2\", \"C\", \"FA\", \"A\"]\n",
    "AFTER_SALES_CODE = [\"3\", \"6\", \"FR\", \"FV\"]"
   ],
   "id": "21b8174fd9ce3445",
   "execution_count": 108,
   "outputs": []
  },
  {
   "metadata": {
    "ExecuteTime": {
     "end_time": "2024-05-03T10:43:23.616123Z",
     "start_time": "2024-05-03T10:41:00.970753Z"
    }
   },
   "cell_type": "code",
   "source": [
    "# Check the variables in memory\n",
    "import sys\n",
    "\n",
    "\n",
    "def get_size(obj):\n",
    "    return sys.getsizeof(obj)\n",
    "\n",
    "\n",
    "variables = globals().copy()\n",
    "for name, var in variables.items():\n",
    "    print(f\"{name}: {get_size(var)} bytes\")"
   ],
   "id": "b1f3eef40844c42b",
   "execution_count": 109,
   "outputs": []
  },
  {
   "metadata": {},
   "cell_type": "code",
   "execution_count": null,
   "source": [
    "# Clean memory\n",
    "del (\n",
    "    cabe_airzone,\n",
    "    lin_airzone,\n",
    "    cabe_airzone_france,\n",
    "    lin_airzone_france,\n",
    "    cabe_airzone_italia,\n",
    "    lin_airzone_italia,\n",
    "    cabe_airzone_usa,\n",
    "    lin_airzone_usa,\n",
    "    cabe_airzone_altra,\n",
    "    lin_airzone_altra,\n",
    ")"
   ],
   "id": "e7ba636b8ef6eab7",
   "outputs": []
  },
  {
   "metadata": {},
   "cell_type": "markdown",
   "source": "# Cabecera's analysis",
   "id": "4ddd8fa1a9f4b87"
  },
  {
   "metadata": {
    "ExecuteTime": {
     "end_time": "2024-05-03T11:14:13.272560Z",
     "start_time": "2024-05-03T11:14:13.124725Z"
    }
   },
   "cell_type": "code",
   "source": [
    "\"\"\"# Add year and month columns based on FECHA to cabe dataframe\n",
    "cabe['FECHA'] = pd.to_datetime(cabe['FECHA'])\n",
    "cabe['Month'] = cabe['FECHA'].dt.month\n",
    "cabe['Year'] = cabe['FECHA'].dt.year\"\"\""
   ],
   "id": "8167824f2df056fa",
   "execution_count": 136,
   "outputs": []
  },
  {
   "metadata": {
    "ExecuteTime": {
     "end_time": "2024-05-03T11:14:48.251880Z",
     "start_time": "2024-05-03T11:14:46.088277Z"
    }
   },
   "cell_type": "code",
   "source": [
    "cabe_sales = cabe[\n",
    "    cabe[\"SERIE\"].isin(SALES_CODES)\n",
    "]  # Filter the data to get only the sales data\n",
    "cabe_after_sales = cabe[\n",
    "    cabe[\"SERIE\"].isin(AFTER_SALES_CODE)\n",
    "]  # Filter the data to get only the after sales data"
   ],
   "id": "171974742f1b4689",
   "execution_count": 137,
   "outputs": []
  },
  {
   "metadata": {
    "ExecuteTime": {
     "end_time": "2024-05-03T11:44:59.971331Z",
     "start_time": "2024-05-03T11:44:59.507663Z"
    }
   },
   "cell_type": "code",
   "source": [
    "# Plot number of sales by country\n",
    "plt.figure(figsize=(20, 6))\n",
    "sns.countplot(\n",
    "    x=\"Country\", data=cabe_sales, order=cabe_sales[\"Country\"].value_counts().index\n",
    ")\n",
    "for i in range(cabe_sales[\"Country\"].nunique()):\n",
    "    plt.text(\n",
    "        i,\n",
    "        cabe_sales[\"Country\"].value_counts().values[i],\n",
    "        cabe_sales[\"Country\"].value_counts().values[i],\n",
    "        ha=\"center\",\n",
    "        va=\"bottom\",\n",
    "    )\n",
    "plt.title(\"Number of sales by country\")\n",
    "plt.show()"
   ],
   "id": "3966d0a38d79e079",
   "execution_count": 175,
   "outputs": []
  },
  {
   "metadata": {
    "ExecuteTime": {
     "end_time": "2024-05-03T11:44:59.506661Z",
     "start_time": "2024-05-03T11:44:59.254261Z"
    }
   },
   "cell_type": "code",
   "source": [
    "# Plot sum of BASE by country\n",
    "sum_base = (\n",
    "    cabe_sales.groupby(\"Country\")[\"BASE\"]\n",
    "    .sum()\n",
    "    .sort_values(ascending=False)\n",
    "    .to_frame()\n",
    "    .reset_index()\n",
    ")\n",
    "plt.figure(figsize=(20, 6))\n",
    "sns.barplot(x=\"Country\", y=\"BASE\", data=sum_base)\n",
    "for i in range(sum_base.shape[0]):\n",
    "    plt.text(\n",
    "        i, sum_base[\"BASE\"][i], f\"{sum_base['BASE'][i]:,.0f}\", ha=\"center\", va=\"bottom\"\n",
    "    )\n",
    "plt.title(\"Sum of BASE by country\")\n",
    "plt.show()"
   ],
   "id": "9901e03be233b91c",
   "execution_count": 174,
   "outputs": []
  },
  {
   "metadata": {
    "ExecuteTime": {
     "end_time": "2024-05-03T11:44:59.253259Z",
     "start_time": "2024-05-03T11:44:58.754178Z"
    }
   },
   "cell_type": "code",
   "source": [
    "# Create subplot with two columns and online and Plot pie chart of sales and after sales by country\n",
    "fig, ax = plt.subplots(1, 2, figsize=(20, 10))\n",
    "cabe_sales.groupby(\"Country\").size().sort_values(ascending=False).plot.pie(\n",
    "    ax=ax[0], autopct=\"%1.1f%%\", startangle=90, legend=True\n",
    ")\n",
    "ax[0].set_title(\"Count of Sales Albaranes by country\")\n",
    "cabe_after_sales.groupby(\"Country\").size().sort_values(ascending=False).plot.pie(\n",
    "    ax=ax[1], autopct=\"%1.1f%%\", startangle=90, legend=True\n",
    ")\n",
    "ax[1].set_title(\"Count of After sales Albaranes by country\")\n",
    "plt.show()"
   ],
   "id": "ce60172f840b123c",
   "execution_count": 173,
   "outputs": []
  },
  {
   "metadata": {
    "ExecuteTime": {
     "end_time": "2024-05-03T11:44:23.757022Z",
     "start_time": "2024-05-03T11:44:22.144546Z"
    }
   },
   "cell_type": "code",
   "source": [
    "# Plot sum of BASE by month\n",
    "sum_base_month = cabe_sales.groupby([\"Year\", \"Month\"])[\"BASE\"].sum().to_frame()\n",
    "plt.figure(figsize=(20, 6))\n",
    "sns.barplot(x=\"Month\", y=\"BASE\", hue=\"Year\", data=sum_base_month)\n",
    "plt.title(\"Sum of BASE by month\")\n",
    "plt.show()"
   ],
   "id": "ac2972a95665d164",
   "execution_count": 172,
   "outputs": []
  },
  {
   "metadata": {
    "ExecuteTime": {
     "end_time": "2024-05-03T11:40:39.836608Z",
     "start_time": "2024-05-03T11:40:39.517918Z"
    }
   },
   "cell_type": "code",
   "source": [
    "sum_base_month_sales = cabe_sales.groupby([\"Year\", \"Month\"])[\"BASE\"].sum().to_frame()\n",
    "sum_base_month_sales[:-1].plot(figsize=(20, 6))\n",
    "plt.title(\"Sum of BASE for Sales by month\")\n",
    "plt.show()"
   ],
   "id": "2a75a89c6ef4f179",
   "execution_count": 168,
   "outputs": []
  },
  {
   "metadata": {
    "ExecuteTime": {
     "end_time": "2024-05-03T11:40:40.034961Z",
     "start_time": "2024-05-03T11:40:39.838180Z"
    }
   },
   "cell_type": "code",
   "source": [
    "sum_base_month_after_sales = (\n",
    "    cabe_after_sales.groupby([\"Year\", \"Month\"])[\"BASE\"].sum().to_frame()\n",
    ")\n",
    "sum_base_month_after_sales[:-1].plot(figsize=(20, 6), c=\"r\")\n",
    "plt.title(\"Sum of BASE for After Sales by month\")\n",
    "plt.show()"
   ],
   "id": "6a3f14008f424734",
   "execution_count": 169,
   "outputs": []
  },
  {
   "metadata": {
    "ExecuteTime": {
     "end_time": "2024-05-03T11:41:10.781273Z",
     "start_time": "2024-05-03T11:41:10.496796Z"
    }
   },
   "cell_type": "code",
   "source": [
    "sum_base_month = sum_base_month_sales.merge(\n",
    "    sum_base_month_after_sales,\n",
    "    how=\"outer\",\n",
    "    on=[\"Year\", \"Month\"],\n",
    "    suffixes=(\"_sales\", \"_after_sales\"),\n",
    ")\n",
    "sum_base_month[:-1].plot(figsize=(20, 6))\n",
    "plt.title(\"Sum of BASE for Sales and After Sales by month\")\n",
    "plt.show()"
   ],
   "id": "f53ea25f331fb9b8",
   "execution_count": 171,
   "outputs": []
  },
  {
   "metadata": {},
   "cell_type": "code",
   "execution_count": null,
   "source": "",
   "id": "798a64d2d39aa67f",
   "outputs": []
  },
  {
   "metadata": {},
   "cell_type": "markdown",
   "source": "# Query list of errors",
   "id": "744b053f82d4395e"
  },
  {
   "metadata": {
    "ExecuteTime": {
     "end_time": "2024-05-08T12:04:46.847995Z",
     "start_time": "2024-05-08T12:04:46.802510Z"
    }
   },
   "cell_type": "code",
   "source": [
    "# Query data from the database\n",
    "errors = query_data(\"SELECT * FROM dbo.AZ_ERRORES_POSTVENTA\", \"Altra\")\n",
    "# Save the data to a csv file\n",
    "errors.to_csv(\"../DATA/errors.csv\", index=False, sep=\";\")"
   ],
   "id": "e79c11d3963ed59b",
   "execution_count": 5,
   "outputs": []
  },
  {
   "metadata": {
    "ExecuteTime": {
     "end_time": "2024-05-08T14:24:03.477885Z",
     "start_time": "2024-05-08T14:24:03.465941Z"
    }
   },
   "cell_type": "code",
   "source": [
    "errors.describe(include=\"all\")"
   ],
   "id": "c3adf287fa733bbf",
   "execution_count": 7,
   "outputs": []
  },
  {
   "metadata": {},
   "cell_type": "markdown",
   "source": "# Lineas's analysis",
   "id": "46e8680fb64e11f3"
  },
  {
   "metadata": {
    "ExecuteTime": {
     "end_time": "2024-05-03T11:54:50.338372Z",
     "start_time": "2024-05-03T11:54:50.046409Z"
    }
   },
   "cell_type": "code",
   "source": [
    "# Merge cabe and lineas dataframes\n",
    "lineas = lineas.merge(cabe[[\"IDALBV\", \"SERIE\", \"Country\"]], on=\"IDALBV\", how=\"left\")\n",
    "\n",
    "lineas_sales = lineas[\n",
    "    lineas[\"SERIE\"].isin(SALES_CODES)\n",
    "]  # Filter the data to get only the sales data\n",
    "lineas_after_sales = lineas[\n",
    "    lineas[\"SERIE\"].isin(AFTER_SALES_CODE)\n",
    "]  # Filter the data to get only the after sales data"
   ],
   "id": "c9946cd7b36cb178",
   "execution_count": 176,
   "outputs": []
  },
  {
   "metadata": {},
   "cell_type": "code",
   "execution_count": null,
   "source": "",
   "id": "411c408b97329d57",
   "outputs": []
  }
 ],
 "metadata": {
  "kernelspec": {
   "display_name": "Python 3",
   "language": "python",
   "name": "python3"
  },
  "language_info": {
   "codemirror_mode": {
    "name": "ipython",
    "version": 2
   },
   "file_extension": ".py",
   "mimetype": "text/x-python",
   "name": "python",
   "nbconvert_exporter": "python",
   "pygments_lexer": "ipython2",
   "version": "2.7.6"
  }
 },
 "nbformat": 4,
 "nbformat_minor": 5
}
