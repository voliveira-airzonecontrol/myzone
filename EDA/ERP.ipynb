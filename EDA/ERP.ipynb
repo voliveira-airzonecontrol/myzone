{
 "cells": [
  {
   "cell_type": "code",
   "id": "initial_id",
   "metadata": {
    "collapsed": true,
    "ExecuteTime": {
     "end_time": "2024-05-03T07:18:54.277088Z",
     "start_time": "2024-05-03T07:18:54.264015Z"
    }
   },
   "source": [
    "# import the necessary packages for SQL server connection\n",
    "import os\n",
    "from sqlalchemy import create_engine\n",
    "import pandas as pd\n",
    "import matplotlib.pyplot as plt\n",
    "import numpy as np\n",
    "import seaborn as sns"
   ],
   "outputs": [],
   "execution_count": 2
  },
  {
   "metadata": {
    "ExecuteTime": {
     "end_time": "2024-05-03T07:19:35.734976Z",
     "start_time": "2024-05-03T07:19:35.726508Z"
    }
   },
   "cell_type": "code",
   "source": [
    "def query_data(query, database):\n",
    "    r\"\"\"\n",
    "    Function to query data from a SQL database\n",
    "    :param query: \n",
    "    :param database: \n",
    "    :return: pd.DataFrame\n",
    "    \n",
    "        Connection parameters:\n",
    "        - user: voliveira\n",
    "        - password: (get password from environment variable SQL_PASSWORD)\n",
    "        - host: ROMPETECHOS\\REPLICA\n",
    "        - port: 53373\n",
    "    \"\"\"\n",
    "    # create the connection string\n",
    "    user = 'voliveira'\n",
    "    password = os.environ.get('SQL_PASSWORD')\n",
    "    host = r'ROMPETECHOS\\REPLICA'\n",
    "    port = '53373'\n",
    "    conn_str = f'mssql+pyodbc://{user}:{password}@{host}:{port}/{database}?driver=ODBC+Driver+17+for+SQL+Server'\n",
    "    \n",
    "    # create the connection\n",
    "    engine = create_engine(conn_str)\n",
    "    \n",
    "    # query the data\n",
    "    try:\n",
    "        data = pd.read_sql(query, engine)\n",
    "    except Exception as e:\n",
    "        print(f'Error: {e}')\n",
    "        data = None\n",
    "    \n",
    "    return data"
   ],
   "id": "10e5ee41be030d7a",
   "outputs": [],
   "execution_count": 6
  },
  {
   "metadata": {
    "ExecuteTime": {
     "end_time": "2024-05-03T07:21:54.946520Z",
     "start_time": "2024-05-03T07:21:53.788158Z"
    }
   },
   "cell_type": "code",
   "source": "cabe_airzone = query_data('SELECT * FROM dbo.CABEALBV', 'Airzone')",
   "id": "d0a6af8a5ccfb150",
   "outputs": [
    {
     "name": "stdout",
     "output_type": "stream",
     "text": [
      "Error: (pyodbc.InterfaceError) ('IM002', '[IM002] [Microsoft][Administrador de controladores ODBC] No se encuentra el nombre del origen de datos y no se especificó ningún controlador predeterminado (0) (SQLDriverConnect)')\n",
      "(Background on this error at: https://sqlalche.me/e/20/rvf5)\n"
     ]
    }
   ],
   "execution_count": 7
  }
 ],
 "metadata": {
  "kernelspec": {
   "display_name": "Python 3",
   "language": "python",
   "name": "python3"
  },
  "language_info": {
   "codemirror_mode": {
    "name": "ipython",
    "version": 2
   },
   "file_extension": ".py",
   "mimetype": "text/x-python",
   "name": "python",
   "nbconvert_exporter": "python",
   "pygments_lexer": "ipython2",
   "version": "2.7.6"
  }
 },
 "nbformat": 4,
 "nbformat_minor": 5
}
