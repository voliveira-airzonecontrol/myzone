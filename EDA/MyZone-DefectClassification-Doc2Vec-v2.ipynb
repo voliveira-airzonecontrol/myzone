{
 "cells": [
  {
   "metadata": {},
   "cell_type": "markdown",
   "source": [
    "# After sales text clustering using Doc2Vec\n",
    "## Adding CODART and Characteristics from A3ERP and improving the text preprocessing"
   ],
   "id": "c3170d13a92177dd"
  },
  {
   "metadata": {},
   "cell_type": "markdown",
   "source": "## Data preprocessing (Merging the translated text)",
   "id": "a7948d9724b0c8ff"
  },
  {
   "metadata": {
    "ExecuteTime": {
     "end_time": "2024-05-15T11:23:13.478243Z",
     "start_time": "2024-05-15T11:23:13.460275Z"
    }
   },
   "cell_type": "code",
   "source": [
    "import pandas as pd\n",
    "import numpy as np\n",
    "import matplotlib.pyplot as plt\n",
    "from sqlalchemy import create_engine\n",
    "from datetime import date\n",
    "import os\n",
    "pd.options.mode.chained_assignment = None\n",
    "\n",
    "\n",
    "today_date = date.today().isoformat()\n",
    "data_version = '2024-05-14'\n",
    "data_base_path = f\"../DATA/processed/{data_version}\"\n",
    "model_base_path = f\"../MODELS/{today_date}\"\n"
   ],
   "id": "534c667474c59dac",
   "execution_count": 3,
   "outputs": []
  },
  {
   "metadata": {
    "ExecuteTime": {
     "end_time": "2024-05-14T05:40:10.011957Z",
     "start_time": "2024-05-14T05:40:10.007889Z"
    }
   },
   "cell_type": "code",
   "source": [
    "def query_data(query):\n",
    "    \"\"\"\n",
    "    Function to query data from the database using sqlalchemy\n",
    "    :param query: \n",
    "    :return: pd.DataFrame\n",
    "    \n",
    "    Connection parameters:\n",
    "    user = readmyzone\n",
    "    password = (get from environment variable MYSQL_PASSWORD)\n",
    "    host = 192.168.2.7\n",
    "    port = 3306\n",
    "    \"\"\"\n",
    "    \n",
    "    # Create the connection string\n",
    "    user = 'readmyzone'\n",
    "    password = os.environ.get('MYSQL_PASSWORD')\n",
    "    host = '192.168.2.7'\n",
    "    port = '3306'\n",
    "    db = 'myzone'\n",
    "    connection_string = f'mysql+pymysql://{user}:{password}@{host}:{port}/{db}'\n",
    "    \n",
    "    # Create the engine\n",
    "    engine = create_engine(connection_string)\n",
    "    \n",
    "    try:\n",
    "        # Query the data\n",
    "        data = pd.read_sql(query, engine)\n",
    "    except Exception as e:\n",
    "        print(e)\n",
    "        data = None\n",
    "    \n",
    "    return data"
   ],
   "id": "3c4813864c62b44",
   "execution_count": 2,
   "outputs": []
  },
  {
   "metadata": {},
   "cell_type": "markdown",
   "source": "## Load the data",
   "id": "218de97c29b240cf"
  },
  {
   "metadata": {
    "ExecuteTime": {
     "end_time": "2024-05-14T05:40:13.423985Z",
     "start_time": "2024-05-14T05:40:10.011957Z"
    }
   },
   "cell_type": "code",
   "source": [
    "sav_incidencias = query_data('SELECT * FROM sav_incidencias')\n",
    "sav_piezas = query_data('SELECT * FROM sav_piezas')\n",
    "sav_estados = query_data('SELECT * FROM sav_estados')\n",
    "sav_incidencias_tipo = query_data('SELECT * FROM sav_incidencias_tipo')"
   ],
   "id": "9f3380d21dc06f50",
   "execution_count": 3,
   "outputs": []
  },
  {
   "metadata": {
    "ExecuteTime": {
     "end_time": "2024-05-14T05:40:13.793373Z",
     "start_time": "2024-05-14T05:40:13.428057Z"
    }
   },
   "cell_type": "code",
   "source": [
    "dataset = sav_incidencias.merge(sav_piezas, left_on='codigo', right_on='codigo_incidencia', how='left', suffixes=(None, '_pieza'))\n",
    "dataset = dataset.merge(sav_estados, left_on='estado', right_on='id', how='left', suffixes=(None, '_estado'))\n",
    "dataset = dataset.merge(sav_incidencias_tipo, left_on='tipo', right_on='id', how='left', suffixes=(None, '_tipo'))"
   ],
   "id": "3fba68b913e20271",
   "execution_count": 4,
   "outputs": []
  },
  {
   "metadata": {
    "ExecuteTime": {
     "end_time": "2024-05-14T05:40:14.303782Z",
     "start_time": "2024-05-14T05:40:13.793373Z"
    }
   },
   "cell_type": "code",
   "source": [
    "dataset['modification_date'] = pd.to_datetime(dataset['modification_date'], errors='coerce')\n",
    "clean_dataset = dataset[(dataset[\"tipo\"] == 1) & (dataset[\"estado\"].isin([2,6])) & (dataset['modification_date'] < '2024-05-09')]"
   ],
   "id": "747b38221b0cd88a",
   "execution_count": 5,
   "outputs": []
  },
  {
   "metadata": {
    "ExecuteTime": {
     "end_time": "2024-05-14T05:40:14.470969Z",
     "start_time": "2024-05-14T05:40:14.304461Z"
    }
   },
   "cell_type": "code",
   "source": [
    "# Load from disk the text to translate dictionary\n",
    "fields_to_translate = [\"desc_problema\", \"problema\", \"descripcion\"]\n",
    "text_to_translate = {}\n",
    "for text in fields_to_translate:\n",
    "    text_to_translate[text] = pd.read_csv(f\"../DATA/{text}.csv\", sep='¬', encoding='utf-8-sig')"
   ],
   "id": "c3937fd76dc1bf76",
   "execution_count": 6,
   "outputs": []
  },
  {
   "cell_type": "code",
   "id": "initial_id",
   "metadata": {
    "collapsed": true,
    "ExecuteTime": {
     "end_time": "2024-05-14T05:40:14.592176Z",
     "start_time": "2024-05-14T05:40:14.471476Z"
    }
   },
   "source": [
    "desc_problema_translated = pd.read_csv(\"../DATA/desc_problema_translated.csv\", sep='¬', encoding='utf-8-sig', engine='python')\n",
    "descripcion_translated = pd.read_csv(\"../DATA/descripcion_translated.csv\", sep='¬', encoding='utf-8-sig', engine='python')\n",
    "problema_translated = pd.read_csv(\"../DATA/problema_translated.csv\", sep='¬', encoding='utf-8-sig', engine='python')# Data preprocessing (Merging the translated text)"
   ],
   "execution_count": 7,
   "outputs": []
  },
  {
   "metadata": {
    "ExecuteTime": {
     "end_time": "2024-05-14T05:40:14.603058Z",
     "start_time": "2024-05-14T05:40:14.592176Z"
    }
   },
   "cell_type": "code",
   "source": [
    "# Delete rows with values (desc_problema, desc_problema_translated)\n",
    "desc_problema_translated = desc_problema_translated[~desc_problema_translated[\"desc_problema_translated\"].isin([\"desc_problema_translated\"])]\n",
    "descripcion_translated = descripcion_translated[~descripcion_translated[\"descripcion_translated\"].isin([\"descripcion_translated\"])]\n",
    "problema_translated = problema_translated[~problema_translated[\"problema_translated\"].isin([\"problema_translated\"])]"
   ],
   "id": "5728490c1ef98641",
   "execution_count": 8,
   "outputs": []
  },
  {
   "metadata": {
    "ExecuteTime": {
     "end_time": "2024-05-14T05:40:14.613758Z",
     "start_time": "2024-05-14T05:40:14.603058Z"
    }
   },
   "cell_type": "code",
   "source": "desc_problema_translated.count()",
   "id": "964c516475bc565b",
   "execution_count": 9,
   "outputs": []
  },
  {
   "metadata": {
    "ExecuteTime": {
     "end_time": "2024-05-14T05:40:14.652625Z",
     "start_time": "2024-05-14T05:40:14.614764Z"
    }
   },
   "cell_type": "code",
   "source": [
    "# Merge the translated text with the text_to_translate dataframe\n",
    "desc_problema_translated = text_to_translate[\"desc_problema\"].merge(desc_problema_translated, left_on=\"desc_problema\", right_on=\"desc_problema\", how=\"left\")\n",
    "descripcion_translated = text_to_translate[\"descripcion\"].merge(descripcion_translated, left_on=\"descripcion\", right_on=\"descripcion\", how=\"left\")\n",
    "problema_translated = text_to_translate[\"problema\"].merge(problema_translated, left_on=\"problema\", right_on=\"problema\", how=\"left\")"
   ],
   "id": "c6ef16434e7aa400",
   "execution_count": 10,
   "outputs": []
  },
  {
   "metadata": {
    "ExecuteTime": {
     "end_time": "2024-05-14T05:40:14.666203Z",
     "start_time": "2024-05-14T05:40:14.652625Z"
    }
   },
   "cell_type": "code",
   "source": [
    "# Fill NA with the original texts\n",
    "desc_problema_translated.fillna({\"desc_problema_translated\": desc_problema_translated[\"desc_problema\"]}, inplace=True)\n",
    "descripcion_translated.fillna({\"descripcion_translated\": descripcion_translated[\"descripcion\"]}, inplace=True)\n",
    "problema_translated.fillna({\"problema_translated\": problema_translated[\"problema\"]}, inplace=True)"
   ],
   "id": "f192011f1cb44460",
   "execution_count": 11,
   "outputs": []
  },
  {
   "metadata": {
    "ExecuteTime": {
     "end_time": "2024-05-14T05:40:14.675252Z",
     "start_time": "2024-05-14T05:40:14.666322Z"
    }
   },
   "cell_type": "code",
   "source": "desc_problema_translated.head(5)",
   "id": "441411c8ce3affdc",
   "execution_count": 12,
   "outputs": []
  },
  {
   "metadata": {
    "ExecuteTime": {
     "end_time": "2024-05-14T05:40:14.991826Z",
     "start_time": "2024-05-14T05:40:14.675252Z"
    }
   },
   "cell_type": "code",
   "source": [
    "# Merge the translated text with the original dataset\n",
    "clean_dataset = clean_dataset.merge(desc_problema_translated, left_on=\"desc_problema\", right_on=\"desc_problema\", how=\"left\")\n",
    "clean_dataset = clean_dataset.merge(descripcion_translated, left_on=\"descripcion\", right_on=\"descripcion\", how=\"left\")\n",
    "clean_dataset = clean_dataset.merge(problema_translated, left_on=\"problema\", right_on=\"problema\", how=\"left\")"
   ],
   "id": "614bfb6ace6e2944",
   "execution_count": 13,
   "outputs": []
  },
  {
   "metadata": {
    "ExecuteTime": {
     "end_time": "2024-05-14T05:40:15.291755Z",
     "start_time": "2024-05-14T05:40:14.991826Z"
    }
   },
   "cell_type": "code",
   "source": "clean_dataset.describe(include='all')",
   "id": "e84856fdd0940ef1",
   "execution_count": 14,
   "outputs": []
  },
  {
   "metadata": {
    "ExecuteTime": {
     "end_time": "2024-05-14T05:40:15.296455Z",
     "start_time": "2024-05-14T05:40:15.291831Z"
    }
   },
   "cell_type": "code",
   "source": [
    "for column in clean_dataset.columns:\n",
    "    print(f\"Column: {column}\")"
   ],
   "id": "d6045361e36b7b87",
   "execution_count": 15,
   "outputs": []
  },
  {
   "metadata": {
    "ExecuteTime": {
     "end_time": "2024-05-14T05:40:15.329869Z",
     "start_time": "2024-05-14T05:40:15.296455Z"
    }
   },
   "cell_type": "code",
   "source": [
    "# Get only the columns with the fields of interest\n",
    "text_to_analyse = clean_dataset[['codigo','id_pieza','desc_problema_translated','descripcion_translated','problema_translated','cod_articulo']]\n",
    "# Fill NA with empty string\n",
    "text_to_analyse.fillna(\"\", inplace=True)"
   ],
   "id": "dc06c3d9dd9902e2",
   "execution_count": 16,
   "outputs": []
  },
  {
   "metadata": {
    "ExecuteTime": {
     "end_time": "2024-05-14T05:40:15.378153Z",
     "start_time": "2024-05-14T05:40:15.329869Z"
    }
   },
   "cell_type": "code",
   "source": "text_to_analyse.loc[:, 'text_to_analyse'] = text_to_analyse['desc_problema_translated'] + ' ' + text_to_analyse['descripcion_translated'] + ' ' + text_to_analyse['problema_translated'] + ' ' + text_to_analyse['cod_articulo']",
   "id": "1769ea0a436bf71d",
   "execution_count": 17,
   "outputs": []
  },
  {
   "metadata": {
    "ExecuteTime": {
     "end_time": "2024-05-14T05:40:15.386525Z",
     "start_time": "2024-05-14T05:40:15.378153Z"
    }
   },
   "cell_type": "code",
   "source": "text_to_analyse.head(10)",
   "id": "9476356aaf02e1d7",
   "execution_count": 18,
   "outputs": []
  },
  {
   "metadata": {},
   "cell_type": "markdown",
   "source": "## Add CODART from A3ERP",
   "id": "af61703f1b992a94"
  },
  {
   "metadata": {
    "ExecuteTime": {
     "end_time": "2024-05-14T05:40:16.123711Z",
     "start_time": "2024-05-14T05:40:15.387531Z"
    }
   },
   "cell_type": "code",
   "source": [
    "import pyodbc\n",
    "# Def function to connect with sql server using pyodbc and query data\n",
    "def query_data_a3(query,database):\n",
    "    r\"\"\"\n",
    "    Function to query data from a SQL database\n",
    "    :param query: \n",
    "    :param database: \n",
    "    :return: pd.DataFrame\n",
    "    \n",
    "        Connection parameters:\n",
    "        - user: voliveira\n",
    "        - password: (get password from environment variable SQL_PASSWORD)\n",
    "        - host: ROMPETECHOS\\REPLICA\n",
    "        - port: 53373\n",
    "    \"\"\"\n",
    "    # Create the connection string\n",
    "    user = 'voliveira'\n",
    "    password = os.environ.get('SQL_PASSWORD')\n",
    "    host = r'ROMPETECHOS'\n",
    "    instance = 'REPLICA'\n",
    "    port = '53373'\n",
    "    conn_str = f\"DRIVER=SQL Server;SERVER={host}\\\\{instance},{port};DATABASE={database};UID={user};PWD={password}\"\n",
    "\n",
    "    # Create the connection\n",
    "    try:\n",
    "        conn = pyodbc.connect(conn_str)\n",
    "    except Exception as e:\n",
    "        print(f'Error creating connection: {e}')\n",
    "        return None\n",
    "    \n",
    "    # query the data\n",
    "    try:\n",
    "        data = pd.read_sql(query, conn)\n",
    "    except Exception as e:\n",
    "        print(f'Error: {e}')\n",
    "        data = None\n",
    "        \n",
    "    return data"
   ],
   "id": "c4e2c00c0a944031",
   "execution_count": 19,
   "outputs": []
  },
  {
   "metadata": {
    "ExecuteTime": {
     "end_time": "2024-05-14T05:40:16.550298Z",
     "start_time": "2024-05-14T05:40:16.124717Z"
    }
   },
   "cell_type": "code",
   "source": [
    "# Query the data from A3ERP\n",
    "articulos = query_data_a3(f'SELECT CODART, DESCART, CAR1, CAR2, CAR3, CAR4 FROM dbo.ARTICULO','Altra')\n",
    "caracteristicas = query_data_a3(f'SELECT * FROM dbo.CARACTERISTICAS;','Altra')"
   ],
   "id": "283da6bc8497f2ce",
   "execution_count": 20,
   "outputs": []
  },
  {
   "metadata": {
    "ExecuteTime": {
     "end_time": "2024-05-14T05:40:16.560377Z",
     "start_time": "2024-05-14T05:40:16.551305Z"
    }
   },
   "cell_type": "code",
   "source": "articulos.sample(10)",
   "id": "892e209fec40d110",
   "execution_count": 21,
   "outputs": []
  },
  {
   "metadata": {
    "ExecuteTime": {
     "end_time": "2024-05-14T05:40:16.567422Z",
     "start_time": "2024-05-14T05:40:16.560377Z"
    }
   },
   "cell_type": "code",
   "source": "caracteristicas.sample(10)",
   "id": "2871b4d2b92d842f",
   "execution_count": 22,
   "outputs": []
  },
  {
   "metadata": {
    "ExecuteTime": {
     "end_time": "2024-05-14T05:40:16.877121Z",
     "start_time": "2024-05-14T05:40:16.567477Z"
    }
   },
   "cell_type": "code",
   "source": [
    "def get_unique_caracteristicas(numcar):\n",
    "    return caracteristicas[(caracteristicas['NUMCAR'] == numcar) & (caracteristicas['TIPCAR'] == 'A')][['CODCAR', 'DESCCAR']]\n",
    "\n",
    "\n",
    "\n",
    "# Merging the characteristics with the articles\n",
    "articulos = articulos\\\n",
    "    .merge(get_unique_caracteristicas(1), left_on='CAR1', right_on='CODCAR', how='left', suffixes=(None, '1'))\n",
    "articulos = articulos\\\n",
    "    .merge(get_unique_caracteristicas(2), left_on='CAR2', right_on='CODCAR', how='left', suffixes=(None, '2'))\n",
    "articulos = articulos\\\n",
    "    .merge(get_unique_caracteristicas(3), left_on='CAR3', right_on='CODCAR', how='left', suffixes=(None, '3'))\n",
    "articulos = articulos\\\n",
    "    .merge(get_unique_caracteristicas(4), left_on='CAR4', right_on='CODCAR', how='left', suffixes=(None, '4'))\n",
    "\n",
    "# Clean usuless columns\n",
    "articulos = articulos.drop(['CODCAR', 'CODCAR2', 'CODCAR3', 'CODCAR4'], axis=1)\n",
    "# Rename to match patterns\n",
    "articulos = articulos.rename(columns={'DESCCAR': 'DESCCAR1'})"
   ],
   "id": "41a2a886e70c9f15",
   "execution_count": 23,
   "outputs": []
  },
  {
   "metadata": {
    "ExecuteTime": {
     "end_time": "2024-05-14T05:40:16.889665Z",
     "start_time": "2024-05-14T05:40:16.877121Z"
    }
   },
   "cell_type": "code",
   "source": "articulos.sample(10)",
   "id": "b66ed834e1c113e7",
   "execution_count": 24,
   "outputs": []
  },
  {
   "metadata": {
    "ExecuteTime": {
     "end_time": "2024-05-14T05:40:20.482584Z",
     "start_time": "2024-05-14T05:40:16.890669Z"
    }
   },
   "cell_type": "code",
   "source": [
    "from thefuzz import process, fuzz\n",
    "\n",
    "def find_best_match(cod, codart_list, return_score=True):\n",
    "    best_match, score = process.extractOne(cod, codart_list, scorer=fuzz.token_set_ratio)\n",
    "    return (best_match, score) if return_score else best_match"
   ],
   "id": "f4258c8bb9b8516",
   "execution_count": 25,
   "outputs": []
  },
  {
   "metadata": {
    "ExecuteTime": {
     "end_time": "2024-05-14T05:40:31.643029Z",
     "start_time": "2024-05-14T05:40:31.481664Z"
    }
   },
   "cell_type": "code",
   "source": [
    "\"\"\"# Add the CODART to the text_to_analyse dataframe\n",
    "text_to_analyse[['CODART_A3','Fuzzy_Score']] = (text_to_analyse['cod_articulo']\n",
    "                                                .apply(lambda x: pd.Series(find_best_match(x, articulos['CODART'].values))))\n",
    "\n",
    "# Save to disk\n",
    "text_to_analyse[['cod_articulo','CODART_A3','Fuzzy_Score']].to_csv(\"../DATA/fuzzy_matches_w_scores.csv\", sep='¬', encoding='utf-8-sig', index=False)\"\"\"\n",
    "\n",
    "# Load fuzzy matches from disk\n",
    "fuzzy_matches = pd.read_csv(\"../DATA/fuzzy_matches_w_scores.csv\", sep='¬', encoding='utf-8-sig')\n",
    "fuzzy_matches.drop_duplicates(inplace=True)\n",
    "\n",
    "# Merge the fuzzy matches with the text_to_analyse dataframe\n",
    "text_to_analyse = text_to_analyse.merge(fuzzy_matches, left_on='cod_articulo', right_on='cod_articulo', how='left')"
   ],
   "id": "5120904ab1682936",
   "execution_count": 26,
   "outputs": []
  },
  {
   "metadata": {
    "ExecuteTime": {
     "end_time": "2024-05-14T05:40:31.931062Z",
     "start_time": "2024-05-14T05:40:31.921984Z"
    }
   },
   "cell_type": "code",
   "source": "text_to_analyse.sample(10)",
   "id": "c73f51f6de1460b",
   "execution_count": 27,
   "outputs": []
  },
  {
   "metadata": {
    "ExecuteTime": {
     "end_time": "2024-05-14T05:40:33.792162Z",
     "start_time": "2024-05-14T05:40:33.785624Z"
    }
   },
   "cell_type": "code",
   "source": [
    "# Count the number of NaN values in column CODART_A3\n",
    "text_to_analyse['CODART_A3'].isna().sum()"
   ],
   "id": "b210af0f25b796f5",
   "execution_count": 28,
   "outputs": []
  },
  {
   "metadata": {
    "ExecuteTime": {
     "end_time": "2024-05-14T05:40:34.533235Z",
     "start_time": "2024-05-14T05:40:34.499203Z"
    }
   },
   "cell_type": "code",
   "source": [
    "# Fill NA with 0\n",
    "text_to_analyse.fillna('0', inplace=True)"
   ],
   "id": "2edf5298798cc60a",
   "execution_count": 29,
   "outputs": []
  },
  {
   "metadata": {
    "ExecuteTime": {
     "end_time": "2024-05-14T05:40:36.502063Z",
     "start_time": "2024-05-14T05:40:36.441556Z"
    }
   },
   "cell_type": "code",
   "source": [
    "# Clean the text_to_analyse dataframe\n",
    "#text_to_analyse = text_to_analyse[text_to_analyse['CODART_A3'] != '0']\n",
    "#text_to_analyse = text_to_analyse[text_to_analyse['CODART_A3'].notna()]\n",
    "text_to_analyse = text_to_analyse[text_to_analyse['text_to_analyse'].str.len() > 25]\n",
    "# Clean rows with only NO FUNCIONA in text_to_analyse\n",
    "text_to_analyse = text_to_analyse[text_to_analyse['text_to_analyse'].str.replace('NO FUNCIONA', '').str.len() > 25]\n",
    "text_to_analyse.head()"
   ],
   "id": "8f0cf8120dd08c7f",
   "execution_count": 30,
   "outputs": []
  },
  {
   "metadata": {
    "ExecuteTime": {
     "end_time": "2024-05-14T05:40:38.709455Z",
     "start_time": "2024-05-14T05:40:38.651667Z"
    }
   },
   "cell_type": "code",
   "source": [
    "# Merge the text_to_analyse with the articulos dataframe\n",
    "text_to_analyse = text_to_analyse.merge(articulos, left_on='CODART_A3', right_on='CODART', how='left')\n",
    "text_to_analyse.head()"
   ],
   "id": "52966a3b38620c4c",
   "execution_count": 31,
   "outputs": []
  },
  {
   "metadata": {
    "ExecuteTime": {
     "end_time": "2024-05-14T05:40:39.297900Z",
     "start_time": "2024-05-14T05:40:39.151697Z"
    }
   },
   "cell_type": "code",
   "source": [
    "text_to_analyse = text_to_analyse.fillna('')\n",
    "text_to_analyse = text_to_analyse.copy()\n",
    "text_to_analyse['text_to_analyse'] = text_to_analyse['desc_problema_translated'] + \\\n",
    "                           ' ' + text_to_analyse['descripcion_translated'] + \\\n",
    "                           ' ' + text_to_analyse['problema_translated'] + \\\n",
    "                           ' ' + text_to_analyse['CODART_A3']\n",
    "\n",
    "text_to_analyse.head(10)"
   ],
   "id": "d9d14fd7ed23961c",
   "execution_count": 32,
   "outputs": []
  },
  {
   "metadata": {
    "ExecuteTime": {
     "end_time": "2024-05-13T14:17:31.672820Z",
     "start_time": "2024-05-13T14:17:30.789824Z"
    }
   },
   "cell_type": "code",
   "source": [
    "# Save to disk\n",
    "os.makedirs(data_base_path, exist_ok=True)\n",
    "text_to_analyse.to_csv(f\"{data_base_path}/text_to_analyse.csv\", sep='¬', encoding='utf-8-sig', index=False)"
   ],
   "id": "894b3c42e16c544c",
   "execution_count": 33,
   "outputs": []
  },
  {
   "metadata": {
    "ExecuteTime": {
     "end_time": "2024-05-14T05:40:47.845924Z",
     "start_time": "2024-05-14T05:40:47.311839Z"
    }
   },
   "cell_type": "code",
   "source": [
    "# Load from disk\n",
    "text_to_analyse = pd.read_csv(f\"../DATA/processed/2024-05-13/text_to_analyse.csv\", sep='¬', encoding='utf-8-sig')\n",
    "text_to_analyse.head()"
   ],
   "id": "bd9aa667b1288f0",
   "execution_count": 33,
   "outputs": []
  },
  {
   "metadata": {},
   "cell_type": "markdown",
   "source": "",
   "id": "94ac5dba8a132333"
  },
  {
   "metadata": {
    "ExecuteTime": {
     "end_time": "2024-05-14T05:40:54.093385Z",
     "start_time": "2024-05-14T05:40:52.823364Z"
    }
   },
   "cell_type": "code",
   "source": [
    "group_by_family = text_to_analyse.groupby('DESCCAR3').size().sort_values(ascending=False)\n",
    "cummulative_percentage = group_by_family.cumsum() / group_by_family.sum() * 100\n",
    "\n",
    "# Bars\n",
    "plt.figure(figsize=(20, 8))\n",
    "plt.bar(group_by_family.index, group_by_family.values, zorder=2)\n",
    "plt.xticks(rotation=90)\n",
    "plt.xlabel('Family')\n",
    "plt.ylabel('Number of problems')\n",
    "plt.title('Number of problems by family')\n",
    "plt.grid(zorder=0)\n",
    "\n",
    "# Cumulative percentage\n",
    "plt.twinx()\n",
    "plt.plot(cummulative_percentage, color='red', marker='o', zorder=2)\n",
    "plt.ylabel('Cumulative percentage')\n",
    "# plot the point labels\n",
    "for i in range(15):\n",
    "    plt.text(i, cummulative_percentage.values[i], f\"{cummulative_percentage.values[i]:.2f}\", ha='center', va='bottom', zorder=3)\n",
    "plt.grid(False)\n",
    "\n",
    "plt.show()"
   ],
   "id": "f7470d3326f80aef",
   "execution_count": 34,
   "outputs": []
  },
  {
   "metadata": {
    "ExecuteTime": {
     "end_time": "2024-05-14T10:18:16.633189Z",
     "start_time": "2024-05-14T10:18:16.629323Z"
    }
   },
   "cell_type": "code",
   "source": [
    "# Define the families to remove\n",
    "special_families = ['REEMPLAZOS','PACKS']\n",
    "meanless_families = ['DOCUMENTACION','EXPOSITORES','TOBERAS','MP_CONSUMIBLES', 'OBS_CENTRALIZADO', 'MP_ELECTRONICA', \n",
    "                     'MP_TERMINADOS/SEMI', 'MP_MECANICOS', 'OBS_REJILLA MOTORIZADA', \n",
    "                     'OBS_COMUNES', 'OBS_DISTRIBUIDO', \n",
    "                     'DOCUMENTACION', 'OBS_DIFUSOR SIN REGULACIÓN', 'EXPOSITORES', \n",
    "                     'OBS_OTROS', 'MP_SERVICIOS', 'MP_I+D', 'OBS_REJILLA SIN REGULACIÓN', \n",
    "                     'OBS_PANTALLAS GRAFICAS', 'OBS_IB PRO USA', 'Soporte técnico', \n",
    "                     'PUESTA EN MARCHA', 'MP_DIFUSION', 'OBS_ALARMAS TÉCNICAS', \n",
    "                     'MP_CHAPAS', 'MP_CABLE', 'OBS_CABLE', 'MP_MOTORES', 'MERCHANDISING', \n",
    "                     'OBS_ZONEPAD', 'OBS_COMUNICACIONES', 'OBS_DIFUSOR MOTORIZADO', \n",
    "                     'OBS_CAJA DE MEZCLA', 'OBS_ANTREE']"
   ],
   "id": "200a56d4aeeed070",
   "execution_count": 291,
   "outputs": []
  },
  {
   "metadata": {
    "ExecuteTime": {
     "end_time": "2024-05-14T05:44:44.520574Z",
     "start_time": "2024-05-14T05:44:44.504929Z"
    }
   },
   "cell_type": "code",
   "source": [
    "# Remove the meanless families\n",
    "text_to_analyse_clean = text_to_analyse[~text_to_analyse['DESCCAR3'].isin(meanless_families)]\n",
    "text_to_analyse_clean = text_to_analyse_clean[~text_to_analyse['DESCCAR3'].isin(special_families)]"
   ],
   "id": "4337f60353750465",
   "execution_count": 37,
   "outputs": []
  },
  {
   "metadata": {
    "ExecuteTime": {
     "end_time": "2024-05-14T05:47:42.462437Z",
     "start_time": "2024-05-14T05:47:42.444694Z"
    }
   },
   "cell_type": "code",
   "source": [
    "# Clean low similariy scores\n",
    "threshold = 85\n",
    "text_to_analyse_clean = text_to_analyse_clean[text_to_analyse_clean['Fuzzy_Score'] >= threshold]"
   ],
   "id": "91a174e3cf81adf4",
   "execution_count": 40,
   "outputs": []
  },
  {
   "metadata": {
    "ExecuteTime": {
     "end_time": "2024-05-14T11:11:10.311024Z",
     "start_time": "2024-05-14T11:11:10.307119Z"
    }
   },
   "cell_type": "code",
   "source": [
    "\"\"\"count_meanless_families = text_to_analyse[text_to_analyse['DESCCAR3'].isin(meanless_families)]['codigo'].count()\n",
    "count_special_families = text_to_analyse[text_to_analyse['DESCCAR3'].isin(special_families)]['codigo'].count()\n",
    "\n",
    "teste = text_to_analyse[~text_to_analyse['DESCCAR3'].isin(meanless_families)]\n",
    "teste = teste[~teste['DESCCAR3'].isin(special_families)]\n",
    "\n",
    "count_fuzzy = teste[teste['Fuzzy_Score'] < 85]['codigo'].count()\n",
    "\n",
    "count_total = count_meanless_families + count_fuzzy\n",
    "\n",
    "\n",
    "print(f\"Total rows before cleaning: {text_to_analyse.shape[0]}\")\n",
    "print(f\"Total rows after cleaning cod articulo: {text_to_analyse_clean.shape[0]+count_special_families}\")\n",
    "print(f\"Total rows with bad cod articulo: {count_total}\")\n",
    "print(f\"Percentage of rows with bad cod articulo: {count_total / (text_to_analyse.shape[0]-count_special_families) * 100:.2f}%\")\n",
    "print(f\"Total rows after cleaning families: {text_to_analyse_clean.shape[0]}\")\n",
    "print(f\"Total 'REEMPLAZOS'+'PACKS': {count_special_families}\")\n",
    "print(f\"Percentage of 'REEMPLAZOS'+'PACKS': {count_special_families / text_to_analyse_clean.shape[0] * 100:.2f}%\")\"\"\"\n",
    "\n",
    "\"\"\"\"\"\"\n",
    "# Total rows before cleaning: 35732\n",
    "# Total rows after cleaning cod articulo: 31269\n",
    "# Total rows with bad cod articulo: 4463\n",
    "# Percentage of rows with bad cod articulo: 14.82%\n",
    "# Total rows after cleaning families: 25661\n",
    "# Total 'REEMPLAZOS'+'PACKS': 5608\n",
    "# Percentage of 'REEMPLAZOS'+'PACKS': 21.85%"
   ],
   "id": "43152066e3c300d0",
   "execution_count": 315,
   "outputs": []
  },
  {
   "metadata": {
    "ExecuteTime": {
     "end_time": "2024-05-14T05:52:56.688179Z",
     "start_time": "2024-05-14T05:52:56.240049Z"
    }
   },
   "cell_type": "code",
   "source": [
    "## Save to disk\n",
    "#os.makedirs(data_base_path, exist_ok=True)\n",
    "#text_to_analyse_clean.to_csv(f\"{data_base_path}/text_to_analyse_clean.csv\", sep='¬', encoding='utf-8-sig', index=False)"
   ],
   "id": "c4cd01ba2da66fa8",
   "execution_count": 46,
   "outputs": []
  },
  {
   "metadata": {
    "ExecuteTime": {
     "end_time": "2024-05-14T08:08:06.413806Z",
     "start_time": "2024-05-14T08:08:06.097015Z"
    }
   },
   "cell_type": "code",
   "source": [
    "# Load from disk\n",
    "text_to_analyse_clean = pd.read_csv(f\"{data_base_path}/text_to_analyse_clean.csv\", sep='¬', encoding='utf-8-sig')"
   ],
   "id": "c07307f42bcd07b6",
   "execution_count": 255,
   "outputs": []
  },
  {
   "metadata": {},
   "cell_type": "markdown",
   "source": "## Train DocVec and save the model",
   "id": "e7b2c1173790c33a"
  },
  {
   "metadata": {
    "ExecuteTime": {
     "end_time": "2024-05-14T08:08:29.545843Z",
     "start_time": "2024-05-14T08:08:29.091119Z"
    }
   },
   "cell_type": "code",
   "source": [
    "import spacy\n",
    "nlp = spacy.load('es_core_news_sm')\n",
    "# nlp = spacy.load('es_core_news_md')\n",
    "# nlp = spacy.load('es_core_news_sm')\n",
    "import multiprocessing\n",
    "from collections import OrderedDict\n",
    "import gensim.models.doc2vec\n",
    "assert gensim.models.doc2vec.FAST_VERSION > -1, \"This will be painfully slow otherwise\"\n",
    "from gensim.models.doc2vec import Doc2Vec, TaggedDocument"
   ],
   "id": "b525a5e3e054bc3f",
   "execution_count": 256,
   "outputs": []
  },
  {
   "metadata": {
    "ExecuteTime": {
     "end_time": "2024-05-14T08:08:29.891098Z",
     "start_time": "2024-05-14T08:08:29.887616Z"
    }
   },
   "cell_type": "code",
   "source": [
    "# Function to preprocess the text\n",
    "def preprocess_text(docs):\n",
    "    texts = [doc for doc in nlp.pipe(docs, disable=[\"ner\", \"parser\"])] \n",
    "    processed_texts = []\n",
    "    for doc in texts:\n",
    "        tokens = [token.text.lower() for token in doc if not token.is_punct and not token.is_stop and not token.is_space]\n",
    "        processed_texts.append(' '.join(tokens))\n",
    "    return processed_texts"
   ],
   "id": "c641ea3216522e86",
   "execution_count": 257,
   "outputs": []
  },
  {
   "metadata": {
    "ExecuteTime": {
     "end_time": "2024-05-14T08:08:30.709631Z",
     "start_time": "2024-05-14T08:08:30.706144Z"
    }
   },
   "cell_type": "code",
   "source": [
    "# Class Model with comments\n",
    "class CommentedDoc2Vec(Doc2Vec):\n",
    "    def __init__(self, comment=\"\", **kwargs):\n",
    "        super().__init__(**kwargs)\n",
    "        self.comment = comment"
   ],
   "id": "239e338675b929f1",
   "execution_count": 258,
   "outputs": []
  },
  {
   "metadata": {
    "ExecuteTime": {
     "end_time": "2024-05-14T05:55:11.004534Z",
     "start_time": "2024-05-14T05:54:28.555904Z"
    }
   },
   "cell_type": "code",
   "source": [
    "# Load train corpus from disk\n",
    "corpus = pd.read_csv('../DATA/processed/2024-05-13/corpus.csv')\n",
    "corpus['processed_text'] = preprocess_text(corpus['text_to_analyse'])\n",
    "corpus.head()"
   ],
   "id": "d374d6a6bfea96fd",
   "execution_count": 50,
   "outputs": []
  },
  {
   "metadata": {
    "ExecuteTime": {
     "end_time": "2024-05-14T05:55:11.008406Z",
     "start_time": "2024-05-14T05:55:11.004534Z"
    }
   },
   "cell_type": "code",
   "source": [
    "common_kwargs = dict(\n",
    "    vector_size=200, \n",
    "    epochs=20, \n",
    "    min_count=2,\n",
    "    sample=0, \n",
    "    workers=multiprocessing.cpu_count(), \n",
    "    negative=5, \n",
    "    hs=0,\n",
    "    seed=0\n",
    ")"
   ],
   "id": "d522f6c463967970",
   "execution_count": 51,
   "outputs": []
  },
  {
   "metadata": {},
   "cell_type": "code",
   "execution_count": null,
   "source": [
    "# PV-DBOW plain\n",
    "model = CommentedDoc2Vec(\n",
    "    dm=0, \n",
    "    comment=f\"PV-DBOW-\"\n",
    "            f\"v_size {common_kwargs['vector_size']}-\"\n",
    "            f\"epochs {common_kwargs['epochs']}-\"\n",
    "            f\"hs {common_kwargs['hs']}-\"\n",
    "            f\"sample {common_kwargs['sample']}-\"\n",
    "            f\"negative {common_kwargs['negative']}-\"\n",
    "            f\"min_count {common_kwargs['min_count']}\",\n",
    "    **common_kwargs\n",
    ")"
   ],
   "id": "b2959641b2a5d120",
   "outputs": []
  },
  {
   "metadata": {},
   "cell_type": "code",
   "execution_count": null,
   "source": [
    "# Create TaggedDocument objects\n",
    "tagged_data = [TaggedDocument(words=doc.split(), tags=[i]) for i, doc in enumerate(corpus['processed_text'])]"
   ],
   "id": "63cbaac00c9d1d7b",
   "outputs": []
  },
  {
   "metadata": {},
   "cell_type": "code",
   "execution_count": null,
   "source": [
    "# Build the vocabulary\n",
    "model.build_vocab(tagged_data)\n",
    "print(\"Model: %s : vocabulary scanned & state initialized\" % model.comment)"
   ],
   "id": "69adfb82f5535357",
   "outputs": []
  },
  {
   "metadata": {},
   "cell_type": "code",
   "execution_count": null,
   "source": [
    "# Train the model using the Corpus\n",
    "model.train(tagged_data, total_examples=model.corpus_count, epochs=model.epochs)\n",
    "print(\"%s training completed\" % model.comment)"
   ],
   "id": "7bcaea84de265467",
   "outputs": []
  },
  {
   "metadata": {},
   "cell_type": "code",
   "execution_count": null,
   "source": [
    "# Save the model\n",
    "os.makedirs(model_base_path, exist_ok=True)\n",
    "model_name = f\"{model_base_path}/{type(model).__name__}_{model.comment.replace(' ', '_')}.model\"\n",
    "model.save(model_name)\n",
    "print(f\"Model saved at {model_name}\")"
   ],
   "id": "882cae1985ab3da9",
   "outputs": []
  },
  {
   "metadata": {},
   "cell_type": "markdown",
   "source": "## Load the model and infer vectors",
   "id": "879689151c598baa"
  },
  {
   "metadata": {
    "ExecuteTime": {
     "end_time": "2024-05-14T08:08:36.467871Z",
     "start_time": "2024-05-14T08:08:36.272235Z"
    }
   },
   "cell_type": "code",
   "source": [
    "# Load the model\n",
    "model_name = \"../MODELS/2024-05-13/CommentedDoc2Vec_PV-DBOW-v_size_200-epochs_20-hs_0-sample_0-negative_5-min_count_2.model\"\n",
    "model = CommentedDoc2Vec.load(model_name)\n",
    "print(f'Model {model} loaded')"
   ],
   "id": "68e6460b0c913519",
   "execution_count": 259,
   "outputs": []
  },
  {
   "metadata": {
    "ExecuteTime": {
     "end_time": "2024-05-14T08:09:23.526999Z",
     "start_time": "2024-05-14T08:08:39.690117Z"
    }
   },
   "cell_type": "code",
   "source": [
    "# Infer vectors for the text_to_analyse\n",
    "text_to_analyse_clean['processed_text'] = preprocess_text(text_to_analyse_clean['text_to_analyse'])\n",
    "text_to_analyse_clean['vector'] = text_to_analyse_clean['processed_text'].apply(lambda x: model.infer_vector(x.split()))"
   ],
   "id": "aab9f4589bfd60fa",
   "execution_count": 260,
   "outputs": []
  },
  {
   "metadata": {
    "ExecuteTime": {
     "end_time": "2024-05-14T08:09:23.550152Z",
     "start_time": "2024-05-14T08:09:23.528036Z"
    }
   },
   "cell_type": "code",
   "source": "text_to_analyse_clean.sample(10)",
   "id": "a2ddf9499bb69244",
   "execution_count": 261,
   "outputs": []
  },
  {
   "metadata": {},
   "cell_type": "markdown",
   "source": "## Calculate the similarity between the texts",
   "id": "fa6574c7550ab5e2"
  },
  {
   "metadata": {
    "ExecuteTime": {
     "end_time": "2024-05-14T08:09:23.557778Z",
     "start_time": "2024-05-14T08:09:23.550152Z"
    }
   },
   "cell_type": "code",
   "source": [
    "# Read list of errors\n",
    "errors = pd.read_csv(\"../DATA/TablaTipoErrorPostventa.csv\", sep=';', header=1)[['Código','CODCAR3','CODCAR2','DESCFAM','Motivo General']]\n",
    "errors.columns = ['ID_ERROR','CODCAR3','CODCAR2','DESCFAM','DESCRIPCION'] # Rename columns\n",
    "errors['CODCAR2'] = errors['CODCAR2'].str.replace('-','0').astype(int) # Clean CODCAR2"
   ],
   "id": "fb297aac6cb9e59b",
   "execution_count": 262,
   "outputs": []
  },
  {
   "metadata": {
    "ExecuteTime": {
     "end_time": "2024-05-14T08:09:23.621106Z",
     "start_time": "2024-05-14T08:09:23.558778Z"
    }
   },
   "cell_type": "code",
   "source": [
    "# Infer vector for errors\n",
    "errors['description_processed'] = preprocess_text(errors['DESCRIPCION'])\n",
    "errors['vector'] = errors['description_processed'] .apply(lambda x: model.infer_vector(x.split()))"
   ],
   "id": "e8ff7506bd111e33",
   "execution_count": 263,
   "outputs": []
  },
  {
   "metadata": {
    "ExecuteTime": {
     "end_time": "2024-05-14T08:09:23.635348Z",
     "start_time": "2024-05-14T08:09:23.622107Z"
    }
   },
   "cell_type": "code",
   "source": "errors",
   "id": "32527d7fa8f326d2",
   "execution_count": 264,
   "outputs": []
  },
  {
   "metadata": {
    "ExecuteTime": {
     "end_time": "2024-05-14T08:09:23.640240Z",
     "start_time": "2024-05-14T08:09:23.636349Z"
    }
   },
   "cell_type": "code",
   "source": [
    "from sklearn.metrics.pairwise import cosine_similarity\n",
    "\n",
    "def calculate_cosine_score(vector, vector_error):\n",
    "    return cosine_similarity(vector.reshape(1, -1), vector_error.reshape(1, -1))[0][0]\n",
    "\n",
    "def calculate_mean_cosine_score(vector, vector_error, n=5):\n",
    "    if vector.size == 0 or vector_error.size == 0:\n",
    "        return np.nan  # Return NaN if there's no vector to compare\n",
    "    cosine_scores = []\n",
    "    for i in range(n):\n",
    "        cosine_scores.append(\n",
    "            calculate_cosine_score(vector, vector_error)\n",
    "        )\n",
    "    return np.mean(cosine_scores)"
   ],
   "id": "9f2d1efdfe544d83",
   "execution_count": 265,
   "outputs": []
  },
  {
   "metadata": {
    "ExecuteTime": {
     "end_time": "2024-05-14T08:13:11.987440Z",
     "start_time": "2024-05-14T08:09:23.641239Z"
    }
   },
   "cell_type": "code",
   "source": [
    "# Calculate the cosine similarity between the text_to_analyse and the errors\n",
    "for index, row in errors.iterrows():\n",
    "    # Create a condition for filtering\n",
    "    condition = (text_to_analyse_clean['CAR3'] == row['CODCAR3'])\n",
    "    if row['CODCAR2']:\n",
    "        condition &= (text_to_analyse_clean['CAR2'] == row['CODCAR2'])\n",
    "    \n",
    "    if not text_to_analyse_clean.loc[condition, 'vector'].empty:\n",
    "        text_to_analyse_clean.loc[condition, f'cosine_similarity_{row[\"ID_ERROR\"]}'] = text_to_analyse_clean.loc[condition, 'vector'].apply(lambda x: calculate_mean_cosine_score(x, row['vector']))\n",
    "    \n",
    "    print(f\"Error {row['ID_ERROR']} calculated\")"
   ],
   "id": "abb82a276f52fb10",
   "execution_count": 266,
   "outputs": []
  },
  {
   "metadata": {
    "ExecuteTime": {
     "end_time": "2024-05-14T08:13:37.679403Z",
     "start_time": "2024-05-14T08:13:37.662996Z"
    }
   },
   "cell_type": "code",
   "source": "text_to_analyse_clean.sample(10)",
   "id": "c6e26bd52385f064",
   "execution_count": 267,
   "outputs": []
  },
  {
   "metadata": {
    "ExecuteTime": {
     "end_time": "2024-05-14T08:14:41.120239Z",
     "start_time": "2024-05-14T08:14:18.363228Z"
    }
   },
   "cell_type": "code",
   "source": [
    "# Save text_to_analyse to disk\n",
    "#text_to_analyse_clean.to_csv(f\"{data_base_path}/text_to_analyse_with_errors.csv\", sep='¬', encoding='utf-8-sig', index=False)"
   ],
   "id": "2d3813e09545b3c0",
   "execution_count": 269,
   "outputs": []
  },
  {
   "metadata": {
    "ExecuteTime": {
     "end_time": "2024-05-15T11:23:26.125498Z",
     "start_time": "2024-05-15T11:23:24.002619Z"
    }
   },
   "cell_type": "code",
   "source": [
    "# Load text_to_analyse from disk\n",
    "text_to_analyse_clean = pd.read_csv(f\"{data_base_path}/text_to_analyse_with_errors.csv\", sep='¬', encoding='utf-8-sig')"
   ],
   "id": "bdddf88949009f17",
   "execution_count": 4,
   "outputs": []
  },
  {
   "metadata": {
    "ExecuteTime": {
     "end_time": "2024-05-15T11:23:29.167575Z",
     "start_time": "2024-05-15T11:23:29.091528Z"
    }
   },
   "cell_type": "code",
   "source": [
    "cosine_columns = [col for col in text_to_analyse_clean.columns if 'cosine_similarity_' in col]\n",
    "text_to_analyse_clean[cosine_columns] = text_to_analyse_clean[cosine_columns].fillna(0) # Fill NA with 0\n",
    "text_to_analyse_clean.loc[:, 'highest_score'] = text_to_analyse_clean[cosine_columns].max(axis=1)\n",
    "text_to_analyse_clean.loc[:, 'highest_score_error'] = text_to_analyse_clean[cosine_columns].idxmax(axis=1).apply(lambda x: x.split('_')[-1])"
   ],
   "id": "275961e04f93e19b",
   "execution_count": 5,
   "outputs": []
  },
  {
   "metadata": {
    "ExecuteTime": {
     "end_time": "2024-05-15T11:23:30.800337Z",
     "start_time": "2024-05-15T11:23:30.770829Z"
    }
   },
   "cell_type": "code",
   "source": "text_to_analyse_clean.head(10)",
   "id": "f7931048c23cb44f",
   "execution_count": 6,
   "outputs": []
  },
  {
   "metadata": {
    "ExecuteTime": {
     "end_time": "2024-05-15T11:23:33.122785Z",
     "start_time": "2024-05-15T11:23:33.041871Z"
    }
   },
   "cell_type": "code",
   "source": [
    "top10_per_error = text_to_analyse_clean[['codigo','text_to_analyse', 'highest_score', 'highest_score_error']] \\\n",
    "    .groupby('highest_score_error', group_keys=False) \\\n",
    "    .apply(lambda x: x.nlargest(10, 'highest_score')) \\\n",
    "    .reset_index(drop=True)\n",
    "\n",
    "top10_per_error.head(500)"
   ],
   "id": "36fe900fe9d5697c",
   "execution_count": 7,
   "outputs": []
  },
  {
   "metadata": {},
   "cell_type": "markdown",
   "source": "## Visualize the results",
   "id": "97784d4c0c6c2c61"
  },
  {
   "metadata": {
    "ExecuteTime": {
     "end_time": "2024-05-15T11:23:38.012467Z",
     "start_time": "2024-05-15T11:23:35.926257Z"
    }
   },
   "cell_type": "code",
   "source": [
    "results = text_to_analyse_clean[['vector', 'highest_score_error']]\n",
    "# Convert string representations of lists to actual numpy arrays\n",
    "results['vector'] = results['vector'].apply(lambda x: np.fromstring(x.strip(\"[]\"), sep=' ') if isinstance(x, str) else x)"
   ],
   "id": "a72d5886ef5eb3",
   "execution_count": 8,
   "outputs": []
  },
  {
   "metadata": {
    "ExecuteTime": {
     "end_time": "2024-05-15T11:23:39.495142Z",
     "start_time": "2024-05-15T11:23:38.013367Z"
    }
   },
   "cell_type": "code",
   "source": [
    "# Expand each vector into its own column\n",
    "expanded_vectors = results['vector'].apply(pd.Series)\n",
    "expanded_vectors.columns = [f'vector_{i}' for i in range(expanded_vectors.shape[1])]\n",
    "results = pd.concat([results, expanded_vectors], axis=1)"
   ],
   "id": "22e4d8ae73e18256",
   "execution_count": 9,
   "outputs": []
  },
  {
   "metadata": {
    "ExecuteTime": {
     "end_time": "2024-05-14T11:44:02.320687Z",
     "start_time": "2024-05-14T11:44:02.298341Z"
    }
   },
   "cell_type": "code",
   "source": [
    "X = results.drop(['vector', 'highest_score_error'], axis=1)\n",
    "y = pd.to_numeric(results['highest_score_error'], errors='coerce')"
   ],
   "id": "c6fdec79047830ee",
   "execution_count": 333,
   "outputs": []
  },
  {
   "metadata": {
    "ExecuteTime": {
     "end_time": "2024-05-14T11:45:20.101387Z",
     "start_time": "2024-05-14T11:44:04.511009Z"
    }
   },
   "cell_type": "code",
   "source": [
    "from sklearn.manifold import TSNE\n",
    "\n",
    "tsne = TSNE(n_components=2, random_state=0)\n",
    "X_tsne = tsne.fit_transform(X)"
   ],
   "id": "3d1a0536b4c40f0a",
   "execution_count": 334,
   "outputs": []
  },
  {
   "metadata": {
    "ExecuteTime": {
     "end_time": "2024-05-14T11:46:57.845284Z",
     "start_time": "2024-05-14T11:46:56.997128Z"
    }
   },
   "cell_type": "code",
   "source": [
    "# Plot the results\n",
    "plt.figure(figsize=(20, 10))\n",
    "plt.scatter(X_tsne[:,0], X_tsne[:,1], c=y, cmap='tab20')\n",
    "plt.colorbar()\n",
    "plt.show()"
   ],
   "id": "f5bdd54ecb59cf0b",
   "execution_count": 342,
   "outputs": []
  },
  {
   "metadata": {},
   "cell_type": "markdown",
   "source": "",
   "id": "822c7e711abc6fd7"
  },
  {
   "metadata": {
    "ExecuteTime": {
     "end_time": "2024-05-14T11:52:19.060024Z",
     "start_time": "2024-05-14T11:48:05.735802Z"
    }
   },
   "cell_type": "code",
   "source": [
    "# Create TSNE with 3 components\n",
    "tsne = TSNE(n_components=3, random_state=0)\n",
    "X_tsne_3d = tsne.fit_transform(X)"
   ],
   "id": "ac3e425b6d49442",
   "execution_count": 343,
   "outputs": []
  },
  {
   "metadata": {
    "ExecuteTime": {
     "end_time": "2024-05-14T12:00:39.444139Z",
     "start_time": "2024-05-14T12:00:39.380146Z"
    }
   },
   "cell_type": "code",
   "source": [
    "# Plot data in 3D\n",
    "%matplotlib qt6\n",
    "\n",
    "fig = plt.figure(figsize=(20, 10))\n",
    "ax = fig.add_subplot(111, projection='3d')\n",
    "scatter = ax.scatter(X_tsne_3d[:,0], X_tsne_3d[:,1], X_tsne_3d[:,2], c=y, cmap='tab20')\n",
    "# Add legend\n",
    "plt.legend(*scatter.legend_elements(num=10), title=\"Classes\")\n",
    "plt.show()"
   ],
   "id": "1d0f26546996484a",
   "execution_count": 350,
   "outputs": []
  },
  {
   "metadata": {},
   "cell_type": "code",
   "execution_count": null,
   "source": "",
   "id": "3219340af04bdb19",
   "outputs": []
  },
  {
   "metadata": {},
   "cell_type": "code",
   "execution_count": null,
   "source": "",
   "id": "520020ca19e7411a",
   "outputs": []
  }
 ],
 "metadata": {
  "kernelspec": {
   "display_name": "Python 3",
   "language": "python",
   "name": "python3"
  },
  "language_info": {
   "codemirror_mode": {
    "name": "ipython",
    "version": 2
   },
   "file_extension": ".py",
   "mimetype": "text/x-python",
   "name": "python",
   "nbconvert_exporter": "python",
   "pygments_lexer": "ipython2",
   "version": "2.7.6"
  }
 },
 "nbformat": 4,
 "nbformat_minor": 5
}
