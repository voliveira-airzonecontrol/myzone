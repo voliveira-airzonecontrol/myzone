{
 "cells": [
  {
   "metadata": {},
   "cell_type": "markdown",
   "source": "# Tests",
   "id": "a76e9bc40b159456"
  },
  {
   "cell_type": "code",
   "id": "initial_id",
   "metadata": {
    "collapsed": true,
    "ExecuteTime": {
     "end_time": "2024-05-16T14:03:18.571678Z",
     "start_time": "2024-05-16T14:03:06.542691Z"
    }
   },
   "source": [
    "from sentence_transformers import SentenceTransformer, util\n",
    "\n",
    "model = SentenceTransformer(\"multi-qa-MiniLM-L6-cos-v1\")\n",
    "\n",
    "query_embedding = model.encode(\"How big is London\")\n",
    "passage_embedding = model.encode([\"Es una ciudad muy grande\", \"My name is Vitor\"])\n",
    "\n",
    "print(\"Similarity:\", util.dot_score(query_embedding, passage_embedding))"
   ],
   "execution_count": 5,
   "outputs": []
  },
  {
   "metadata": {
    "ExecuteTime": {
     "end_time": "2024-05-16T14:03:23.162855Z",
     "start_time": "2024-05-16T14:03:23.144800Z"
    }
   },
   "cell_type": "code",
   "source": "model",
   "id": "d84ac55ca5a57b3f",
   "execution_count": 6,
   "outputs": []
  },
  {
   "metadata": {
    "ExecuteTime": {
     "end_time": "2024-05-16T14:03:26.976867Z",
     "start_time": "2024-05-16T14:03:25.052324Z"
    }
   },
   "cell_type": "code",
   "source": "model2 = SentenceTransformer(\"multi-qa-mpnet-base-cos-v1\")",
   "id": "d6328737cf8dd212",
   "execution_count": 7,
   "outputs": []
  },
  {
   "metadata": {
    "ExecuteTime": {
     "end_time": "2024-05-16T14:03:36.739146Z",
     "start_time": "2024-05-16T14:03:36.515788Z"
    }
   },
   "cell_type": "code",
   "source": [
    "query_embedding = model2.encode(\"How big is London\")\n",
    "passage_embedding = model2.encode(\n",
    "    [\"Es una ciudad muy grande\", \"My name is Vitor\", \"London is a big city\"]\n",
    ")\n",
    "\n",
    "print(\"Similarity:\", util.dot_score(query_embedding, passage_embedding))"
   ],
   "id": "d07eb18b348613dd",
   "execution_count": 8,
   "outputs": []
  },
  {
   "metadata": {
    "ExecuteTime": {
     "end_time": "2024-05-16T14:03:39.532392Z",
     "start_time": "2024-05-16T14:03:39.526812Z"
    }
   },
   "cell_type": "code",
   "source": "query_embedding.shape",
   "id": "a03832bcb4387545",
   "execution_count": 9,
   "outputs": []
  },
  {
   "metadata": {
    "ExecuteTime": {
     "end_time": "2024-05-16T14:03:41.344825Z",
     "start_time": "2024-05-16T14:03:41.244583Z"
    }
   },
   "cell_type": "code",
   "source": [
    "incidencias_embedding = model2.encode(\n",
    "    [\n",
    "        \"PANTALLA TACTIL NO VA BIEN.  PANTALLA TACTIL NO FUNCIONA CORRECTAMENTE. AZC3BLUEFECOSB\"\n",
    "    ]\n",
    ")\n",
    "\n",
    "errors_embedding = model2.encode(\n",
    "    [\n",
    "        \"Fallo de comunicaciones El termostato no comunica con la central o no se puede asociar.\",\n",
    "        \"Fallo de pantalla Hay un fallo estético en la pantalla, no se representan bien las imágenes.\",\n",
    "        \"No funciona el táctil El termostato representa imágenes y reacciona cuando se quita y pone alimentación, pero las pulsaciones funcionan mal o no funcionan\",\n",
    "    ]\n",
    ")"
   ],
   "id": "20e1f39694b39b8d",
   "execution_count": 10,
   "outputs": []
  },
  {
   "metadata": {
    "ExecuteTime": {
     "end_time": "2024-05-16T14:03:43.239564Z",
     "start_time": "2024-05-16T14:03:43.222994Z"
    }
   },
   "cell_type": "code",
   "source": [
    "def calculate_cosine_similarity(embeddings):\n",
    "    return util.pytorch_cos_sim(embeddings[0], embeddings[1])\n",
    "\n",
    "\n",
    "for error in errors_embedding:\n",
    "    print(calculate_cosine_similarity([incidencias_embedding[0], error]))"
   ],
   "id": "e06ba13d266f7bb5",
   "execution_count": 11,
   "outputs": []
  },
  {
   "metadata": {
    "ExecuteTime": {
     "end_time": "2024-05-16T10:57:25.819659Z",
     "start_time": "2024-05-16T10:57:19.457987Z"
    }
   },
   "cell_type": "code",
   "source": [
    "model = SentenceTransformer(\"all-MiniLM-L6-v2\")\n",
    "\n",
    "# Our sentences we like to encode\n",
    "sentences = [\n",
    "    \"This framework generates embeddings for each input sentence\",\n",
    "    \"Sentences are passed as a list of strings.\",\n",
    "    \"The quick brown fox jumps over the lazy dog.\",\n",
    "]\n",
    "\n",
    "# Sentences are encoded by calling model.encode()\n",
    "embeddings = model.encode(sentences)\n",
    "\n",
    "# Print the embeddings\n",
    "for sentence, embedding in zip(sentences, embeddings):\n",
    "    print(\"Sentence:\", sentence)\n",
    "    print(\"Embedding:\", embedding)\n",
    "    print(\"\")"
   ],
   "id": "4c22bdffe93e8f3c",
   "execution_count": 23,
   "outputs": []
  },
  {
   "metadata": {
    "ExecuteTime": {
     "end_time": "2024-05-16T14:02:19.885875Z",
     "start_time": "2024-05-16T14:02:14.603127Z"
    }
   },
   "cell_type": "code",
   "source": [
    "import pandas as pd\n",
    "\n",
    "corpus = pd.read_csv(\n",
    "    \"../DATA/processed/2024-05-15/corpus_spanish.csv\", sep=\"¬\", engine=\"python\"\n",
    ")\n",
    "\n",
    "corpus.head()"
   ],
   "id": "48691451ecc60231",
   "execution_count": 2,
   "outputs": []
  },
  {
   "metadata": {
    "ExecuteTime": {
     "end_time": "2024-05-16T14:08:37.669927Z",
     "start_time": "2024-05-16T14:06:32.181601Z"
    }
   },
   "cell_type": "code",
   "source": [
    "df = corpus.sample(5000)\n",
    "\n",
    "teste = model2.encode(df[\"text_to_analyse\"].tolist())"
   ],
   "id": "265306d10e6e69a4",
   "execution_count": 13,
   "outputs": []
  },
  {
   "metadata": {
    "ExecuteTime": {
     "end_time": "2024-05-16T14:08:37.685626Z",
     "start_time": "2024-05-16T14:08:37.670905Z"
    }
   },
   "cell_type": "code",
   "source": [
    "import torch\n",
    "\n",
    "# Check if CUDA is available\n",
    "if torch.cuda.is_available():\n",
    "    print(\"GPU is available\")\n",
    "    # Get the name of the GPU\n",
    "    print(\"GPU name:\", torch.cuda.get_device_name(0))\n",
    "    # Print number of GPUs available\n",
    "    print(\"Number of GPUs available:\", torch.cuda.device_count())\n",
    "else:\n",
    "    print(\"GPU is not available\")"
   ],
   "id": "6bdbbec450254fa9",
   "execution_count": 14,
   "outputs": []
  },
  {
   "metadata": {},
   "cell_type": "code",
   "execution_count": null,
   "source": "",
   "id": "d48c8cea673d8fb3",
   "outputs": []
  }
 ],
 "metadata": {
  "kernelspec": {
   "display_name": "Python 3",
   "language": "python",
   "name": "python3"
  },
  "language_info": {
   "codemirror_mode": {
    "name": "ipython",
    "version": 2
   },
   "file_extension": ".py",
   "mimetype": "text/x-python",
   "name": "python",
   "nbconvert_exporter": "python",
   "pygments_lexer": "ipython2",
   "version": "2.7.6"
  }
 },
 "nbformat": 4,
 "nbformat_minor": 5
}
