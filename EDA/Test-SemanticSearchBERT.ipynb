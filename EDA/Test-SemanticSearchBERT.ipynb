{
 "cells": [
  {
   "metadata": {},
   "cell_type": "markdown",
   "source": "# Tests",
   "id": "a76e9bc40b159456"
  },
  {
   "cell_type": "code",
   "id": "initial_id",
   "metadata": {
    "collapsed": true,
    "ExecuteTime": {
     "end_time": "2024-05-16T14:03:18.571678Z",
     "start_time": "2024-05-16T14:03:06.542691Z"
    }
   },
   "source": [
    "from sentence_transformers import SentenceTransformer, util\n",
    "\n",
    "model = SentenceTransformer(\"multi-qa-MiniLM-L6-cos-v1\")\n",
    "\n",
    "query_embedding = model.encode(\"How big is London\")\n",
    "passage_embedding = model.encode([\n",
    "    \"Es una ciudad muy grande\",\n",
    "    \"My name is Vitor\"\n",
    "])\n",
    "\n",
    "print(\"Similarity:\", util.dot_score(query_embedding, passage_embedding))"
   ],
   "outputs": [
    {
     "name": "stderr",
     "output_type": "stream",
     "text": [
      "C:\\Users\\voliveira\\OneDrive - Corporacion Empresarial Altra SL\\00-Proyectos\\myzone\\.venv\\lib\\site-packages\\huggingface_hub\\file_download.py:1132: FutureWarning: `resume_download` is deprecated and will be removed in version 1.0.0. Downloads always resume when possible. If you want to force a new download, use `force_download=True`.\n",
      "  warnings.warn(\n",
      "C:\\Users\\voliveira\\OneDrive - Corporacion Empresarial Altra SL\\00-Proyectos\\myzone\\.venv\\lib\\site-packages\\huggingface_hub\\file_download.py:1132: FutureWarning: `resume_download` is deprecated and will be removed in version 1.0.0. Downloads always resume when possible. If you want to force a new download, use `force_download=True`.\n",
      "  warnings.warn(\n"
     ]
    },
    {
     "name": "stdout",
     "output_type": "stream",
     "text": [
      "Similarity: tensor([[ 0.0906, -0.0839]])\n"
     ]
    }
   ],
   "execution_count": 5
  },
  {
   "metadata": {
    "ExecuteTime": {
     "end_time": "2024-05-16T14:03:23.162855Z",
     "start_time": "2024-05-16T14:03:23.144800Z"
    }
   },
   "cell_type": "code",
   "source": "model",
   "id": "d84ac55ca5a57b3f",
   "outputs": [
    {
     "data": {
      "text/plain": [
       "SentenceTransformer(\n",
       "  (0): Transformer({'max_seq_length': 512, 'do_lower_case': False}) with Transformer model: BertModel \n",
       "  (1): Pooling({'word_embedding_dimension': 384, 'pooling_mode_cls_token': False, 'pooling_mode_mean_tokens': True, 'pooling_mode_max_tokens': False, 'pooling_mode_mean_sqrt_len_tokens': False, 'pooling_mode_weightedmean_tokens': False, 'pooling_mode_lasttoken': False, 'include_prompt': True})\n",
       "  (2): Normalize()\n",
       ")"
      ]
     },
     "execution_count": 6,
     "metadata": {},
     "output_type": "execute_result"
    }
   ],
   "execution_count": 6
  },
  {
   "metadata": {
    "ExecuteTime": {
     "end_time": "2024-05-16T14:03:26.976867Z",
     "start_time": "2024-05-16T14:03:25.052324Z"
    }
   },
   "cell_type": "code",
   "source": "model2 = SentenceTransformer(\"multi-qa-mpnet-base-cos-v1\")",
   "id": "d6328737cf8dd212",
   "outputs": [
    {
     "name": "stderr",
     "output_type": "stream",
     "text": [
      "C:\\Users\\voliveira\\OneDrive - Corporacion Empresarial Altra SL\\00-Proyectos\\myzone\\.venv\\lib\\site-packages\\huggingface_hub\\file_download.py:1132: FutureWarning: `resume_download` is deprecated and will be removed in version 1.0.0. Downloads always resume when possible. If you want to force a new download, use `force_download=True`.\n",
      "  warnings.warn(\n"
     ]
    }
   ],
   "execution_count": 7
  },
  {
   "metadata": {
    "ExecuteTime": {
     "end_time": "2024-05-16T14:03:36.739146Z",
     "start_time": "2024-05-16T14:03:36.515788Z"
    }
   },
   "cell_type": "code",
   "source": [
    "query_embedding = model2.encode(\"How big is London\")\n",
    "passage_embedding = model2.encode([\n",
    "    \"Es una ciudad muy grande\",\n",
    "    \"My name is Vitor\",\n",
    "    \"London is a big city\"\n",
    "])\n",
    "\n",
    "print(\"Similarity:\", util.dot_score(query_embedding, passage_embedding))"
   ],
   "id": "d07eb18b348613dd",
   "outputs": [
    {
     "name": "stdout",
     "output_type": "stream",
     "text": [
      "Similarity: tensor([[ 0.2261, -0.0325,  0.8085]])\n"
     ]
    }
   ],
   "execution_count": 8
  },
  {
   "metadata": {
    "ExecuteTime": {
     "end_time": "2024-05-16T14:03:39.532392Z",
     "start_time": "2024-05-16T14:03:39.526812Z"
    }
   },
   "cell_type": "code",
   "source": "query_embedding.shape",
   "id": "a03832bcb4387545",
   "outputs": [
    {
     "data": {
      "text/plain": [
       "(768,)"
      ]
     },
     "execution_count": 9,
     "metadata": {},
     "output_type": "execute_result"
    }
   ],
   "execution_count": 9
  },
  {
   "metadata": {
    "ExecuteTime": {
     "end_time": "2024-05-16T14:03:41.344825Z",
     "start_time": "2024-05-16T14:03:41.244583Z"
    }
   },
   "cell_type": "code",
   "source": [
    "incidencias_embedding = model2.encode([\n",
    "    \"PANTALLA TACTIL NO VA BIEN.  PANTALLA TACTIL NO FUNCIONA CORRECTAMENTE. AZC3BLUEFECOSB\"\n",
    "])\n",
    "\n",
    "errors_embedding = model2.encode([\n",
    "    \"Fallo de comunicaciones El termostato no comunica con la central o no se puede asociar.\",\n",
    "    \"Fallo de pantalla Hay un fallo estético en la pantalla, no se representan bien las imágenes.\",\n",
    "    \"No funciona el táctil El termostato representa imágenes y reacciona cuando se quita y pone alimentación, pero las pulsaciones funcionan mal o no funcionan\"\n",
    "])"
   ],
   "id": "20e1f39694b39b8d",
   "outputs": [],
   "execution_count": 10
  },
  {
   "metadata": {
    "ExecuteTime": {
     "end_time": "2024-05-16T14:03:43.239564Z",
     "start_time": "2024-05-16T14:03:43.222994Z"
    }
   },
   "cell_type": "code",
   "source": [
    "def calculate_cosine_similarity(embeddings):\n",
    "    return util.pytorch_cos_sim(embeddings[0], embeddings[1])\n",
    "\n",
    "for error in errors_embedding:\n",
    "    print(calculate_cosine_similarity([incidencias_embedding[0], error]))"
   ],
   "id": "e06ba13d266f7bb5",
   "outputs": [
    {
     "name": "stdout",
     "output_type": "stream",
     "text": [
      "tensor([[0.3446]])\n",
      "tensor([[0.4416]])\n",
      "tensor([[0.5958]])\n"
     ]
    }
   ],
   "execution_count": 11
  },
  {
   "metadata": {
    "ExecuteTime": {
     "end_time": "2024-05-16T10:57:25.819659Z",
     "start_time": "2024-05-16T10:57:19.457987Z"
    }
   },
   "cell_type": "code",
   "source": [
    "model = SentenceTransformer(\"all-MiniLM-L6-v2\")\n",
    "\n",
    "# Our sentences we like to encode\n",
    "sentences = [\n",
    "    \"This framework generates embeddings for each input sentence\",\n",
    "    \"Sentences are passed as a list of strings.\",\n",
    "    \"The quick brown fox jumps over the lazy dog.\",\n",
    "]\n",
    "\n",
    "# Sentences are encoded by calling model.encode()\n",
    "embeddings = model.encode(sentences)\n",
    "\n",
    "# Print the embeddings\n",
    "for sentence, embedding in zip(sentences, embeddings):\n",
    "    print(\"Sentence:\", sentence)\n",
    "    print(\"Embedding:\", embedding)\n",
    "    print(\"\")"
   ],
   "id": "4c22bdffe93e8f3c",
   "outputs": [
    {
     "data": {
      "text/plain": [
       "modules.json:   0%|          | 0.00/349 [00:00<?, ?B/s]"
      ],
      "application/vnd.jupyter.widget-view+json": {
       "version_major": 2,
       "version_minor": 0,
       "model_id": "6c3eaf853e2546efaea04970e40ef6f6"
      }
     },
     "metadata": {},
     "output_type": "display_data"
    },
    {
     "name": "stderr",
     "output_type": "stream",
     "text": [
      "C:\\Users\\voliveira\\OneDrive - Corporacion Empresarial Altra SL\\00-Proyectos\\myzone\\.venv\\lib\\site-packages\\huggingface_hub\\file_download.py:157: UserWarning: `huggingface_hub` cache-system uses symlinks by default to efficiently store duplicated files but your machine does not support them in C:\\Users\\voliveira\\.cache\\huggingface\\hub\\models--sentence-transformers--all-MiniLM-L6-v2. Caching files will still work but in a degraded version that might require more space on your disk. This warning can be disabled by setting the `HF_HUB_DISABLE_SYMLINKS_WARNING` environment variable. For more details, see https://huggingface.co/docs/huggingface_hub/how-to-cache#limitations.\n",
      "To support symlinks on Windows, you either need to activate Developer Mode or to run Python as an administrator. In order to see activate developer mode, see this article: https://docs.microsoft.com/en-us/windows/apps/get-started/enable-your-device-for-development\n",
      "  warnings.warn(message)\n"
     ]
    },
    {
     "data": {
      "text/plain": [
       "config_sentence_transformers.json:   0%|          | 0.00/116 [00:00<?, ?B/s]"
      ],
      "application/vnd.jupyter.widget-view+json": {
       "version_major": 2,
       "version_minor": 0,
       "model_id": "c08f928f306d4494b76abc8332b0ff75"
      }
     },
     "metadata": {},
     "output_type": "display_data"
    },
    {
     "data": {
      "text/plain": [
       "README.md:   0%|          | 0.00/10.7k [00:00<?, ?B/s]"
      ],
      "application/vnd.jupyter.widget-view+json": {
       "version_major": 2,
       "version_minor": 0,
       "model_id": "3d256daec8be4fd19e0ac3c250b3c666"
      }
     },
     "metadata": {},
     "output_type": "display_data"
    },
    {
     "data": {
      "text/plain": [
       "sentence_bert_config.json:   0%|          | 0.00/53.0 [00:00<?, ?B/s]"
      ],
      "application/vnd.jupyter.widget-view+json": {
       "version_major": 2,
       "version_minor": 0,
       "model_id": "6017c6675dc64b5cb579f8cdb04a0e44"
      }
     },
     "metadata": {},
     "output_type": "display_data"
    },
    {
     "data": {
      "text/plain": [
       "config.json:   0%|          | 0.00/612 [00:00<?, ?B/s]"
      ],
      "application/vnd.jupyter.widget-view+json": {
       "version_major": 2,
       "version_minor": 0,
       "model_id": "8e2353f7688f4b5e9368d73573435480"
      }
     },
     "metadata": {},
     "output_type": "display_data"
    },
    {
     "data": {
      "text/plain": [
       "model.safetensors:   0%|          | 0.00/90.9M [00:00<?, ?B/s]"
      ],
      "application/vnd.jupyter.widget-view+json": {
       "version_major": 2,
       "version_minor": 0,
       "model_id": "ee289bb1418d4959b7aa68000af8b048"
      }
     },
     "metadata": {},
     "output_type": "display_data"
    },
    {
     "data": {
      "text/plain": [
       "tokenizer_config.json:   0%|          | 0.00/350 [00:00<?, ?B/s]"
      ],
      "application/vnd.jupyter.widget-view+json": {
       "version_major": 2,
       "version_minor": 0,
       "model_id": "926bbf6661d746819642e8231023774d"
      }
     },
     "metadata": {},
     "output_type": "display_data"
    },
    {
     "data": {
      "text/plain": [
       "vocab.txt:   0%|          | 0.00/232k [00:00<?, ?B/s]"
      ],
      "application/vnd.jupyter.widget-view+json": {
       "version_major": 2,
       "version_minor": 0,
       "model_id": "6a1999e1840e41e986178c2bb200d1fd"
      }
     },
     "metadata": {},
     "output_type": "display_data"
    },
    {
     "data": {
      "text/plain": [
       "tokenizer.json:   0%|          | 0.00/466k [00:00<?, ?B/s]"
      ],
      "application/vnd.jupyter.widget-view+json": {
       "version_major": 2,
       "version_minor": 0,
       "model_id": "7af025ace81a4e99a55606b09e06c5d8"
      }
     },
     "metadata": {},
     "output_type": "display_data"
    },
    {
     "data": {
      "text/plain": [
       "special_tokens_map.json:   0%|          | 0.00/112 [00:00<?, ?B/s]"
      ],
      "application/vnd.jupyter.widget-view+json": {
       "version_major": 2,
       "version_minor": 0,
       "model_id": "f225a5316e8e4cfeaa44e075a5c138cc"
      }
     },
     "metadata": {},
     "output_type": "display_data"
    },
    {
     "data": {
      "text/plain": [
       "1_Pooling/config.json:   0%|          | 0.00/190 [00:00<?, ?B/s]"
      ],
      "application/vnd.jupyter.widget-view+json": {
       "version_major": 2,
       "version_minor": 0,
       "model_id": "03578e65c74c435a95c13abfeecc7711"
      }
     },
     "metadata": {},
     "output_type": "display_data"
    },
    {
     "name": "stdout",
     "output_type": "stream",
     "text": [
      "Sentence: This framework generates embeddings for each input sentence\n",
      "Embedding: [-1.37173459e-02 -4.28515412e-02 -1.56286340e-02  1.40537703e-02\n",
      "  3.95537764e-02  1.21796280e-01  2.94333491e-02 -3.17523852e-02\n",
      "  3.54959704e-02 -7.93140084e-02  1.75878387e-02 -4.04369757e-02\n",
      "  4.97259349e-02  2.54912414e-02 -7.18700737e-02  8.14968944e-02\n",
      "  1.47069071e-03  4.79626954e-02 -4.50336002e-02 -9.92174894e-02\n",
      " -2.81769615e-02  6.45046234e-02  4.44670618e-02 -4.76217046e-02\n",
      " -3.52952294e-02  4.38671671e-02 -5.28565831e-02  4.33065463e-04\n",
      "  1.01921521e-01  1.64072327e-02  3.26996520e-02 -3.45987007e-02\n",
      "  1.21339504e-02  7.94870779e-02  4.58343048e-03  1.57778189e-02\n",
      " -9.68203321e-03  2.87625566e-02 -5.05806170e-02 -1.55793717e-02\n",
      " -2.87906509e-02 -9.62281413e-03  3.15556787e-02  2.27348804e-02\n",
      "  8.71449709e-02 -3.85027379e-02 -8.84718746e-02 -8.75498634e-03\n",
      " -2.12343261e-02  2.08923612e-02 -9.02077630e-02 -5.25732227e-02\n",
      " -1.05638895e-02  2.88310833e-02 -1.61454976e-02  6.17839349e-03\n",
      " -1.23234838e-02 -1.07336966e-02  2.83353608e-02 -5.28567657e-02\n",
      " -3.58618274e-02 -5.97989410e-02 -1.09055117e-02  2.91566495e-02\n",
      "  7.97979385e-02 -3.27876362e-04  6.83497824e-03  1.32718673e-02\n",
      " -4.24619913e-02  1.87656842e-02 -9.89234447e-02  2.09049657e-02\n",
      " -8.69605914e-02 -1.50152138e-02 -4.86201532e-02  8.04414749e-02\n",
      " -3.67698609e-03 -6.65044338e-02  1.14556789e-01 -3.04228868e-02\n",
      "  2.96631698e-02 -2.80695558e-02  4.64990027e-02 -2.25513857e-02\n",
      "  8.54223147e-02  3.15446779e-02  7.34541714e-02 -2.21862029e-02\n",
      " -5.29678836e-02  1.27130132e-02 -5.27340211e-02 -1.06188737e-01\n",
      "  7.04731718e-02  2.76736543e-02 -8.05531740e-02  2.39649750e-02\n",
      " -2.65125334e-02 -2.17330866e-02  4.35275733e-02  4.84711900e-02\n",
      " -2.37067416e-02  2.85768043e-02  1.11846156e-01 -6.34935945e-02\n",
      " -1.58318467e-02 -2.26169862e-02 -1.31027522e-02 -1.62064598e-03\n",
      " -3.60929184e-02 -9.78297219e-02 -4.67729233e-02  1.76271722e-02\n",
      " -3.97491939e-02 -1.76410715e-04  3.39628011e-02 -2.09633373e-02\n",
      "  6.33660099e-03 -2.59411074e-02  8.10410604e-02  6.14393651e-02\n",
      " -5.44594647e-03  6.48276284e-02 -1.16844051e-01  2.36860756e-02\n",
      " -1.32058654e-02 -1.12476513e-01  1.90049130e-02 -1.74661287e-34\n",
      "  5.58949746e-02  1.94244329e-02  4.65438962e-02  5.18645830e-02\n",
      "  3.89390588e-02  3.40541005e-02 -4.32114229e-02  7.90637210e-02\n",
      " -9.79530290e-02 -1.27441138e-02 -2.91870758e-02  1.02052400e-02\n",
      "  1.88115966e-02  1.08942546e-01  6.63465112e-02 -5.35295233e-02\n",
      " -3.29228938e-02  4.69826870e-02  2.28883140e-02  2.74114478e-02\n",
      " -2.91982945e-02  3.12706567e-02 -2.22850479e-02 -1.02282204e-01\n",
      " -2.79116314e-02  1.13792773e-02  9.06309187e-02 -4.75414582e-02\n",
      " -1.00718960e-01 -1.23232054e-02 -7.96928853e-02 -1.44636435e-02\n",
      " -7.76400715e-02 -7.66923465e-03  9.73955356e-03  2.24205013e-02\n",
      "  7.77268037e-02 -3.17154266e-03  2.11537424e-02 -3.30393910e-02\n",
      "  9.55249649e-03 -3.73011865e-02  2.61360332e-02 -9.79085267e-03\n",
      " -6.31505325e-02  5.77436620e-03 -3.80030945e-02  1.29685104e-02\n",
      " -1.82499755e-02 -1.56282969e-02 -1.23362127e-03  5.55579141e-02\n",
      "  1.13082744e-04 -5.61256185e-02  7.40165263e-02  1.84452105e-02\n",
      " -2.66368557e-02  1.31951682e-02  7.50086382e-02 -2.46797260e-02\n",
      " -3.24006155e-02 -1.57675277e-02 -8.03518202e-03 -5.61318034e-03\n",
      "  1.05687957e-02  3.26165673e-03 -3.91989760e-02 -9.38677415e-02\n",
      "  1.14227176e-01  6.57304972e-02 -4.72633690e-02  1.45087894e-02\n",
      " -3.54490206e-02 -3.37761678e-02 -5.15506230e-02 -3.81002622e-03\n",
      " -5.15036471e-02 -5.93429320e-02 -1.69413991e-03  7.42107779e-02\n",
      " -4.20091487e-02 -7.19975308e-02  3.17250229e-02 -1.66303627e-02\n",
      "  3.96980206e-03 -6.52750880e-02  2.77391020e-02 -7.51648992e-02\n",
      "  2.27456018e-02 -3.91368493e-02  1.54315941e-02 -5.54908626e-02\n",
      "  1.23318965e-02 -2.59520561e-02  6.66423663e-02 -6.91258591e-34\n",
      "  3.31629068e-02  8.47929120e-02 -6.65583983e-02  3.33541296e-02\n",
      "  4.71611973e-03  1.35361860e-02 -5.38693964e-02  9.20694172e-02\n",
      " -2.96876486e-02  3.16219591e-02 -2.37497184e-02  1.98770966e-02\n",
      "  1.03446245e-01 -9.06947255e-02  6.30628271e-03  1.42886257e-02\n",
      "  1.19293835e-02  6.43723458e-03  4.20104600e-02  1.25344489e-02\n",
      "  3.93019319e-02  5.35691939e-02 -4.30749804e-02  6.10432401e-02\n",
      " -5.39537505e-05  6.91682696e-02  1.05520217e-02  1.22111812e-02\n",
      " -7.23185465e-02  2.50469483e-02 -5.18371016e-02 -4.36562374e-02\n",
      " -6.71818554e-02  1.34828612e-02 -7.25888982e-02  7.04170484e-03\n",
      "  6.58939630e-02  1.08994693e-02 -2.60008173e-03  5.49968705e-02\n",
      "  5.06966338e-02  3.27948518e-02 -6.68833107e-02  6.45557716e-02\n",
      " -2.52075512e-02 -2.92572007e-02 -1.16696671e-01  3.24064456e-02\n",
      "  5.85858338e-02 -3.51756625e-02 -7.15240613e-02  2.24936157e-02\n",
      " -1.00786708e-01 -4.74544950e-02 -7.61962831e-02 -5.87166436e-02\n",
      "  4.21138518e-02 -7.47213811e-02  1.98468175e-02 -3.36502027e-03\n",
      " -5.29736541e-02  2.74729505e-02  3.45736630e-02 -6.11846782e-02\n",
      "  1.06364787e-01 -9.64120254e-02 -4.55945022e-02  1.51489684e-02\n",
      " -5.13524190e-03 -6.64447919e-02  4.31721322e-02 -1.10405684e-02\n",
      " -9.80250817e-03  7.53783137e-02 -1.49571365e-02 -4.80208471e-02\n",
      "  5.80726750e-02 -2.43896618e-02 -2.23137680e-02 -4.36992422e-02\n",
      "  5.12054041e-02 -3.28626148e-02  1.08763278e-01  6.08926602e-02\n",
      "  3.30792321e-03  5.53820282e-02  8.43201056e-02  1.27087692e-02\n",
      "  3.84465568e-02  6.52325600e-02 -2.94683930e-02  5.08005470e-02\n",
      " -2.09348034e-02  1.46135643e-01  2.25561243e-02 -1.77227744e-08\n",
      " -5.02672680e-02 -2.79198808e-04 -1.00328632e-01  2.42811404e-02\n",
      " -7.54043311e-02 -3.79140191e-02  3.96049693e-02  3.10079921e-02\n",
      " -9.05701984e-03 -6.50411919e-02  4.05453071e-02  4.83390242e-02\n",
      " -4.56962548e-02  4.76007396e-03  2.64361757e-03  9.35613960e-02\n",
      " -4.02599759e-02  3.27401906e-02  1.18298270e-02  5.54344654e-02\n",
      "  1.48052260e-01  7.21189231e-02  2.76986917e-04  1.68651119e-02\n",
      "  8.34879652e-03 -8.76153912e-03 -1.33649679e-02  6.14237003e-02\n",
      "  1.57168135e-02  6.94961250e-02  1.08622042e-02  6.08018301e-02\n",
      " -5.33421449e-02 -3.47924232e-02 -3.36272232e-02  6.93906844e-02\n",
      "  1.22988001e-02 -1.45237371e-01 -2.06971983e-03 -4.61132489e-02\n",
      "  3.72748100e-03 -5.59354573e-03 -1.00659817e-01 -4.45953235e-02\n",
      "  5.40921465e-02  4.98890830e-03  1.49534438e-02 -8.26059803e-02\n",
      "  6.26631081e-02 -5.01909060e-03 -4.81857806e-02 -3.53991203e-02\n",
      "  9.03389137e-03 -2.42337845e-02  5.66267706e-02  2.51529105e-02\n",
      " -1.70708857e-02 -1.24780368e-02  3.19518112e-02  1.38421003e-02\n",
      " -1.55814886e-02  1.00178234e-01  1.23657212e-01 -4.22967002e-02]\n",
      "\n",
      "Sentence: Sentences are passed as a list of strings.\n",
      "Embedding: [ 5.27336933e-02  4.32318673e-02  3.61105427e-02  2.49037202e-02\n",
      " -3.18217203e-02  8.56121182e-02  1.00559041e-01 -3.25879519e-04\n",
      " -7.95467477e-03 -1.02866367e-02  7.99226910e-02 -3.69750964e-03\n",
      "  1.58450566e-02 -1.71047803e-02  3.88790928e-02  5.36492579e-02\n",
      " -4.13697064e-02 -3.45896110e-02 -5.21711521e-02 -8.84021968e-02\n",
      "  1.09089002e-01  1.21932842e-01 -3.52748334e-02 -2.57841835e-04\n",
      "  7.84657337e-03  6.79677129e-02 -6.68065995e-02 -4.10249643e-02\n",
      "  5.65332547e-02  3.14729735e-02 -6.76587299e-02 -1.63551178e-02\n",
      "  1.75629556e-02  9.38708559e-02  3.51654440e-02  4.92808223e-02\n",
      "  5.53637743e-03  4.63132001e-03 -1.69769283e-02  1.86951756e-02\n",
      " -7.64708151e-04 -1.33785708e-02 -1.93546452e-02  3.75266299e-02\n",
      "  3.31074186e-02  3.30037288e-02 -9.97695774e-02  9.32226982e-03\n",
      " -4.62145321e-02 -7.28295818e-02 -1.17939480e-01  1.68711171e-02\n",
      " -4.50052284e-02  5.44833615e-02 -2.35478897e-02  1.35294050e-02\n",
      " -6.29336527e-03  2.44625788e-02  7.49857456e-04 -6.31986037e-02\n",
      " -7.00880289e-02 -6.74544871e-02 -5.36089279e-02  5.34728654e-02\n",
      "  2.36838665e-02 -3.82900983e-02  1.70318019e-02 -3.47456662e-03\n",
      " -4.97623198e-02  4.69146594e-02 -6.38150126e-02  5.90595603e-02\n",
      " -4.79824133e-02  5.33204302e-02 -2.35416498e-02  5.23147956e-02\n",
      "  5.51644564e-02 -5.96524589e-02  3.99730392e-02 -4.09988780e-03\n",
      " -6.93783909e-02 -9.37108994e-02  2.79780384e-02 -1.87254278e-03\n",
      " -1.15838200e-02  1.53247295e-02 -3.35158147e-02 -2.85107233e-02\n",
      " -4.51585986e-02  5.63116260e-02 -1.73100289e-02 -1.63049310e-01\n",
      "  6.71576858e-02  1.68774202e-02  6.83513528e-04  4.38610390e-02\n",
      " -4.58115228e-02 -2.86392458e-02  2.06141658e-02  4.25725244e-02\n",
      "  5.94040193e-03  2.27601603e-02  1.01740085e-01 -1.01955589e-02\n",
      " -1.28383934e-01 -3.36669907e-02  4.58723493e-02 -8.83989707e-02\n",
      "  1.94751844e-02 -1.09049790e-01 -6.45519868e-02  2.43210085e-02\n",
      "  1.33222574e-02 -4.57514562e-02 -1.11546274e-02 -2.79222764e-02\n",
      "  3.12192994e-03  1.80839542e-02  4.51751687e-02  6.81834072e-02\n",
      "  2.41836458e-02  2.71261148e-02 -2.32220329e-02  2.02990230e-02\n",
      " -2.26743966e-02 -7.10224807e-02  1.03668952e-02 -5.32993677e-33\n",
      " -2.48132041e-03 -2.49162912e-02 -4.09019180e-03  5.97417005e-04\n",
      " -7.10304752e-02  6.42460864e-03 -5.47947064e-02  1.38400346e-02\n",
      "  9.88857727e-03  1.66615415e-02 -3.80024128e-02 -6.42352030e-02\n",
      "  2.60054301e-02  7.26585388e-02  4.80333306e-02  2.84219719e-02\n",
      "  1.92853175e-02  2.97631491e-02  1.63129065e-02 -2.27082614e-03\n",
      "  5.24388626e-03  7.52400905e-02  5.31216301e-02 -7.87323415e-02\n",
      " -8.90178680e-02 -4.25193459e-02  3.14719677e-02 -3.71072479e-02\n",
      " -4.66762781e-02  1.99641511e-02 -3.25138271e-02 -8.07248950e-02\n",
      " -1.50107150e-03  7.30887130e-02  3.74437459e-02  8.78450200e-02\n",
      "  2.22192481e-02 -6.84013637e-03  4.31920476e-02 -2.30317544e-02\n",
      " -2.27839239e-02 -2.02929731e-02  2.25613862e-02  3.61972377e-02\n",
      "  3.82261463e-02 -6.08123932e-03 -8.55051205e-02  4.15120311e-02\n",
      "  5.86005338e-02  5.35101369e-02  3.37858014e-02  2.34713871e-02\n",
      " -3.13543603e-02 -2.76514329e-03  8.23986009e-02  4.00196165e-02\n",
      " -6.05487078e-03  2.66349297e-02 -1.37411375e-02  7.37907961e-02\n",
      "  1.21370973e-02  8.48617777e-02  6.04430176e-02 -7.76810898e-03\n",
      "  5.01834266e-02  3.01185586e-02 -5.36096729e-02 -3.98767591e-02\n",
      "  8.79551768e-02  1.57618783e-02 -9.30398703e-02 -3.64017993e-04\n",
      " -6.08764030e-02  7.29243085e-02 -2.51338296e-02  8.97995289e-03\n",
      " -1.72031168e-02 -9.36409160e-02  3.77472118e-02  3.16041149e-02\n",
      " -2.19627712e-02 -8.36896449e-02  8.68684240e-03  1.03664704e-01\n",
      " -4.80157211e-02 -3.46825011e-02  5.50491214e-02 -1.19219422e-01\n",
      "  1.19327847e-02 -4.50582616e-02 -1.20500214e-02 -4.66399752e-02\n",
      " -1.76352225e-02 -3.40278335e-02  4.84981500e-02  5.50440474e-34\n",
      "  3.36474478e-02  8.44808966e-02 -9.45969075e-02  7.32912868e-02\n",
      "  1.31888203e-02 -3.39392722e-02  8.36569443e-03  1.55477766e-02\n",
      "  4.35770862e-02  8.51598848e-03 -1.01282626e-01  6.23877486e-03\n",
      " -2.27505285e-02 -5.31402938e-02  5.87161705e-02 -1.53996062e-03\n",
      " -1.07740797e-02  2.93556117e-02  7.27637392e-03  1.08229620e-02\n",
      " -5.25550209e-02  1.11768149e-01 -4.72696200e-02  4.59363312e-02\n",
      " -1.86531451e-02  5.79829328e-04  8.50137230e-03 -5.84530532e-02\n",
      "  6.27389597e-03  1.12837749e-02  4.62691649e-04 -3.87033820e-02\n",
      " -2.75805760e-02  7.52377659e-02 -5.07079735e-02 -3.56769301e-02\n",
      "  1.23615474e-01  5.47363097e-03 -2.65071914e-02  3.57867107e-02\n",
      "  7.11810738e-02  3.50674503e-02  2.88744420e-02  1.28443995e-02\n",
      " -3.21054533e-02 -2.93011125e-02 -1.05688170e-01 -8.35452136e-03\n",
      " -6.94196997e-03  3.02650072e-02 -2.48497166e-02 -2.87981797e-03\n",
      " -5.87562993e-02 -4.00361493e-02 -4.26774994e-02  1.14073083e-02\n",
      " -6.34078383e-02 -5.51724508e-02  1.90893505e-02 -2.90443730e-02\n",
      " -1.11708805e-01  4.18174677e-02  5.18649817e-02 -7.59538934e-02\n",
      "  1.08018227e-01 -9.00834203e-02 -5.47995120e-02 -1.34793771e-02\n",
      " -1.21058263e-02 -1.27252102e-01  1.01745653e-03 -9.17767659e-02\n",
      " -1.21994570e-01  7.26526417e-03 -5.52967973e-02 -6.90480545e-02\n",
      " -2.92202234e-02 -4.74990942e-02 -5.00903614e-02 -3.08312792e-02\n",
      "  6.66937605e-02 -4.12976779e-02  3.19938473e-02  5.67243174e-02\n",
      "  1.47849023e-02 -1.99294165e-02  1.25358701e-02  2.80579533e-02\n",
      "  2.38071708e-03  6.98228180e-02 -5.63900545e-03 -8.29182658e-03\n",
      "  5.36760017e-02  8.41686204e-02 -4.32570130e-02 -2.08507505e-08\n",
      " -6.85700551e-02 -3.52834426e-02 -6.68677315e-02  4.23025452e-02\n",
      " -2.03677211e-02  1.60979629e-02 -2.02760659e-02 -2.40814015e-02\n",
      " -5.10439165e-02 -8.98790453e-03  5.68126589e-02  3.62296142e-02\n",
      " -4.81254645e-02 -4.11119908e-02  1.32205635e-02  2.88369115e-02\n",
      " -1.54924225e-02 -2.08417163e-03 -1.48258060e-02  4.46827486e-02\n",
      "  2.27633025e-02 -1.46720512e-02 -1.13843225e-01  2.37485580e-02\n",
      " -2.89476430e-03  5.64751886e-02 -2.10810825e-02  1.04228869e-01\n",
      " -2.06729583e-03  1.07635289e-01  1.08925045e-01  8.60840157e-02\n",
      " -5.58894826e-03 -5.47317192e-02 -1.37456795e-02  3.48070040e-02\n",
      "  5.43779768e-02 -1.04884483e-01  7.06657618e-02  3.19594219e-02\n",
      "  3.08890827e-02  3.73338200e-02 -1.12586483e-01  7.87942261e-02\n",
      "  8.07020888e-02 -5.70011139e-02 -2.34731585e-02 -4.42549028e-02\n",
      " -1.93561465e-02 -5.12016602e-02 -1.10231368e-02  1.16473483e-02\n",
      "  4.96454909e-02 -3.55480090e-02  2.76385192e-02  2.98672752e-03\n",
      "  2.64827032e-02 -4.03546020e-02  1.78050017e-04 -4.52193208e-02\n",
      "  6.14330620e-02  7.96021074e-02  8.64435658e-02 -4.38522287e-02]\n",
      "\n",
      "Sentence: The quick brown fox jumps over the lazy dog.\n",
      "Embedding: [ 4.39335294e-02  5.89343868e-02  4.81784344e-02  7.75481090e-02\n",
      "  2.67443880e-02 -3.76295634e-02 -2.60511460e-03 -5.99430390e-02\n",
      " -2.49601365e-03  2.20728386e-02  4.80259918e-02  5.57553358e-02\n",
      " -3.89453992e-02 -2.66167726e-02  7.69341644e-03 -2.62376312e-02\n",
      " -3.64160538e-02 -3.78161371e-02  7.40781501e-02 -4.95050400e-02\n",
      " -5.85217252e-02 -6.36196807e-02  3.24349850e-02  2.20085252e-02\n",
      " -7.10637420e-02 -3.31577845e-02 -6.94104210e-02 -5.00374176e-02\n",
      "  7.46268034e-02 -1.11133784e-01 -1.23063521e-02  3.77456620e-02\n",
      " -2.80313138e-02  1.45353470e-02 -3.15585919e-02 -8.05836320e-02\n",
      "  5.83525673e-02  2.59003299e-03  3.92802171e-02  2.57695634e-02\n",
      "  4.98505756e-02 -1.75624911e-03 -4.55298126e-02  2.92607639e-02\n",
      " -1.02017261e-01  5.22287339e-02 -7.90899619e-02 -1.02857659e-02\n",
      "  9.20246169e-03  1.30732320e-02 -4.04777341e-02 -2.77925003e-02\n",
      "  1.24667836e-02  6.72833025e-02  6.81248009e-02 -7.57120922e-03\n",
      " -6.09941781e-03 -4.23776880e-02  5.17816059e-02 -1.56707577e-02\n",
      "  9.56359692e-03  4.12390605e-02  2.14959290e-02  1.04293171e-02\n",
      "  2.73349173e-02  1.87062379e-02 -2.69607622e-02 -7.00541958e-02\n",
      " -1.04700506e-01 -1.89873483e-03  1.77016538e-02 -5.74725270e-02\n",
      " -1.44223068e-02  4.70428669e-04  2.33228109e-03 -2.51920596e-02\n",
      "  4.93004136e-02 -5.09610251e-02  6.31983206e-02  1.49164749e-02\n",
      " -2.70767137e-02 -4.52875495e-02 -4.90594245e-02  3.74940597e-02\n",
      "  3.84579971e-02  1.56902778e-03  3.09922211e-02  2.01630630e-02\n",
      " -1.24363443e-02 -3.06720044e-02 -2.78819297e-02 -6.89182729e-02\n",
      " -5.13677485e-02  2.14795973e-02  1.15747005e-02  1.25409674e-03\n",
      "  1.88765880e-02 -4.42318767e-02 -4.49817292e-02 -3.41872801e-03\n",
      "  1.31131457e-02  2.00099405e-02  1.21099733e-01  2.31075268e-02\n",
      " -2.20159367e-02 -3.28846797e-02 -3.15514253e-03  1.17858268e-04\n",
      "  9.91498455e-02  1.65238921e-02 -4.69671562e-03 -1.45367049e-02\n",
      " -3.71077401e-03  9.65136513e-02  2.85908338e-02  2.13481840e-02\n",
      " -7.17645735e-02 -2.41142064e-02 -4.40940559e-02 -1.07346892e-01\n",
      "  6.79945797e-02  1.30466819e-01 -7.97029510e-02  6.79509528e-03\n",
      " -2.37511508e-02 -4.61636409e-02 -2.99651045e-02 -3.69409973e-33\n",
      "  7.30969757e-02 -2.20171455e-02 -8.61464813e-02 -7.14379400e-02\n",
      " -6.36742264e-02 -7.21863583e-02 -5.93042420e-03 -2.33641490e-02\n",
      " -2.83658076e-02  4.77434769e-02 -8.06176439e-02 -1.56475289e-03\n",
      "  1.38443867e-02 -2.86236126e-02 -3.35386656e-02 -1.13777518e-01\n",
      " -9.17635113e-03 -1.08101238e-02  3.23195979e-02  5.88380843e-02\n",
      "  3.34208496e-02  1.07987963e-01 -3.72713096e-02 -2.96770856e-02\n",
      "  5.17190099e-02 -2.25339271e-02 -6.96090832e-02 -2.14475486e-02\n",
      " -2.33410802e-02  4.82199863e-02 -3.58766280e-02 -4.68991213e-02\n",
      " -3.97873409e-02  1.10813245e-01 -1.43007226e-02 -1.18464492e-01\n",
      "  5.82915321e-02 -6.25889227e-02 -2.94041466e-02  6.03238270e-02\n",
      " -2.44410615e-03  1.60116330e-02  2.67233793e-02  2.49530207e-02\n",
      " -6.49319068e-02 -1.06801875e-02  2.81465147e-02  1.03564095e-02\n",
      " -6.63584098e-04  1.98186245e-02 -3.04288212e-02  6.28421316e-03\n",
      "  5.15268035e-02 -4.75375056e-02 -6.44421577e-02  9.55031961e-02\n",
      "  7.55858049e-02 -2.81574223e-02 -3.49966101e-02  1.01816408e-01\n",
      "  1.98732391e-02 -3.68036628e-02  2.93525285e-03 -5.00745438e-02\n",
      "  1.50932148e-01 -6.16079830e-02 -8.58812630e-02  7.13991094e-03\n",
      " -1.33065935e-02  7.80405551e-02  1.75250787e-02  4.21279408e-02\n",
      "  3.57939638e-02 -1.32950455e-01  3.56970653e-02 -2.03117225e-02\n",
      "  1.24910120e-02 -3.80355269e-02  4.91543449e-02 -1.56540908e-02\n",
      "  1.21418267e-01 -8.08644518e-02 -4.68782261e-02  4.10843007e-02\n",
      " -1.84318405e-02  6.69690669e-02  4.33598273e-03  2.27315482e-02\n",
      " -1.36428662e-02 -4.53238375e-02 -3.92829552e-02 -6.29889965e-03\n",
      "  5.29609993e-02 -3.69064622e-02  7.11676627e-02  2.33343306e-33\n",
      "  1.05231367e-01 -4.81874347e-02  6.95919245e-02  6.56976253e-02\n",
      " -4.65149209e-02  5.14492355e-02 -1.24474792e-02  3.20871994e-02\n",
      " -9.23356190e-02  5.00933081e-02 -3.28876376e-02  1.39138885e-02\n",
      " -8.70264834e-04 -4.90905670e-03  1.03946410e-01  3.21614410e-04\n",
      "  5.28110340e-02 -1.17990365e-02  2.31565610e-02  1.31768016e-02\n",
      " -5.25962524e-02  3.26702446e-02  3.08699877e-04  6.41129017e-02\n",
      "  3.88501026e-02  5.88008538e-02  8.29792991e-02 -1.88149586e-02\n",
      " -2.26377696e-02 -1.00473650e-01 -3.83752435e-02 -5.88081442e-02\n",
      "  1.82420737e-03 -4.26995195e-02  2.50195283e-02  6.40059933e-02\n",
      " -3.77482995e-02 -6.83901366e-03 -2.54605245e-03 -9.76043120e-02\n",
      "  1.88475680e-02 -8.83232045e-04  1.73612051e-02  7.10790604e-02\n",
      "  3.30392756e-02  6.93420880e-03 -5.60523011e-02  5.14634997e-02\n",
      " -4.29542400e-02  4.60077338e-02 -8.78831930e-03  3.17289121e-02\n",
      "  4.93965670e-02  2.95190010e-02 -5.05192913e-02 -5.43187037e-02\n",
      "  1.49953077e-04 -2.76614651e-02  3.46878953e-02 -2.10890267e-02\n",
      "  1.38060143e-02  2.99887005e-02  1.39744580e-02 -4.26470721e-03\n",
      " -1.50337163e-02 -8.76095742e-02 -6.85053915e-02 -4.28141691e-02\n",
      "  7.76945427e-02 -7.10285604e-02 -7.37689715e-03  2.13727094e-02\n",
      "  1.35562634e-02 -7.90465027e-02  5.47665916e-03  8.30663219e-02\n",
      "  1.14148013e-01  1.80760561e-03  8.75491053e-02 -4.16045152e-02\n",
      "  1.55416308e-02 -1.01206675e-02 -7.32437661e-03  1.07966298e-02\n",
      " -6.62816986e-02  3.98414172e-02 -1.16711520e-01  6.42994121e-02\n",
      "  4.02920358e-02 -6.54741675e-02  1.95052680e-02  8.09995756e-02\n",
      "  5.36464117e-02  7.67969862e-02 -1.34852696e-02 -1.76919048e-08\n",
      " -4.43935208e-02  9.20644123e-03 -8.79590362e-02  4.26921546e-02\n",
      "  7.31364563e-02  1.68427285e-02 -4.03263047e-02  1.85131747e-02\n",
      "  8.44172463e-02 -3.74476761e-02  3.02996151e-02  2.90642157e-02\n",
      "  6.36878833e-02  2.89750043e-02 -1.47269974e-02  1.77542865e-02\n",
      " -3.36895436e-02  1.73160806e-02  3.37875150e-02  1.76826090e-01\n",
      " -1.75533518e-02 -6.03077710e-02 -1.43395094e-02 -2.38536187e-02\n",
      " -4.45531011e-02 -2.89850403e-02 -8.96776095e-02 -1.75940082e-03\n",
      " -2.61485893e-02  5.93999168e-03 -5.18355370e-02  8.57279897e-02\n",
      " -8.18399042e-02  8.35439656e-03  4.00790200e-02  4.17764299e-02\n",
      "  1.04573593e-01 -2.86565511e-03  1.96691155e-02  5.81047265e-03\n",
      "  1.33253271e-02  4.51001152e-02 -2.17587873e-02 -1.39493234e-02\n",
      " -6.86992332e-02 -2.94112437e-03 -3.10765207e-02 -1.05854459e-01\n",
      "  6.91624209e-02 -4.24115136e-02 -4.67682593e-02 -3.64750959e-02\n",
      "  4.50399630e-02  6.09816760e-02 -6.56561852e-02 -5.45642199e-03\n",
      " -1.86226647e-02 -6.31485060e-02 -3.87436561e-02  3.46733890e-02\n",
      "  5.55458181e-02  5.21628037e-02  5.61065637e-02  1.02063917e-01]\n",
      "\n"
     ]
    }
   ],
   "execution_count": 23
  },
  {
   "metadata": {
    "ExecuteTime": {
     "end_time": "2024-05-16T14:02:19.885875Z",
     "start_time": "2024-05-16T14:02:14.603127Z"
    }
   },
   "cell_type": "code",
   "source": [
    "import pandas as pd\n",
    "\n",
    "corpus = pd.read_csv(\"../DATA/processed/2024-05-15/corpus_spanish.csv\", sep='¬', engine='python')\n",
    "\n",
    "corpus.head()"
   ],
   "id": "48691451ecc60231",
   "outputs": [
    {
     "data": {
      "text/plain": [
       "                                     text_to_analyse language\n",
       "0              NO FUNCIONA  NO FUNCIONA AZC3TACTOCSB       pt\n",
       "1  DESDE PULSADORES NO SE PUEDE SUBIR LA PERSIANA...       pt\n",
       "2  REJILLA MOTORIZADA DEFECTUOSA, SUSTITUIR  Rafa...       es\n",
       "3  Error al pedir la pasarela, a última hora hubo...       es\n",
       "4  EL TERMOSTATO RADIO E QUEDA BLOQUEADO. SE CONF...       pt"
      ],
      "text/html": [
       "<div>\n",
       "<style scoped>\n",
       "    .dataframe tbody tr th:only-of-type {\n",
       "        vertical-align: middle;\n",
       "    }\n",
       "\n",
       "    .dataframe tbody tr th {\n",
       "        vertical-align: top;\n",
       "    }\n",
       "\n",
       "    .dataframe thead th {\n",
       "        text-align: right;\n",
       "    }\n",
       "</style>\n",
       "<table border=\"1\" class=\"dataframe\">\n",
       "  <thead>\n",
       "    <tr style=\"text-align: right;\">\n",
       "      <th></th>\n",
       "      <th>text_to_analyse</th>\n",
       "      <th>language</th>\n",
       "    </tr>\n",
       "  </thead>\n",
       "  <tbody>\n",
       "    <tr>\n",
       "      <th>0</th>\n",
       "      <td>NO FUNCIONA  NO FUNCIONA AZC3TACTOCSB</td>\n",
       "      <td>pt</td>\n",
       "    </tr>\n",
       "    <tr>\n",
       "      <th>1</th>\n",
       "      <td>DESDE PULSADORES NO SE PUEDE SUBIR LA PERSIANA...</td>\n",
       "      <td>pt</td>\n",
       "    </tr>\n",
       "    <tr>\n",
       "      <th>2</th>\n",
       "      <td>REJILLA MOTORIZADA DEFECTUOSA, SUSTITUIR  Rafa...</td>\n",
       "      <td>es</td>\n",
       "    </tr>\n",
       "    <tr>\n",
       "      <th>3</th>\n",
       "      <td>Error al pedir la pasarela, a última hora hubo...</td>\n",
       "      <td>es</td>\n",
       "    </tr>\n",
       "    <tr>\n",
       "      <th>4</th>\n",
       "      <td>EL TERMOSTATO RADIO E QUEDA BLOQUEADO. SE CONF...</td>\n",
       "      <td>pt</td>\n",
       "    </tr>\n",
       "  </tbody>\n",
       "</table>\n",
       "</div>"
      ]
     },
     "execution_count": 2,
     "metadata": {},
     "output_type": "execute_result"
    }
   ],
   "execution_count": 2
  },
  {
   "metadata": {
    "ExecuteTime": {
     "end_time": "2024-05-16T14:08:37.669927Z",
     "start_time": "2024-05-16T14:06:32.181601Z"
    }
   },
   "cell_type": "code",
   "source": [
    "df = corpus.sample(5000)\n",
    "\n",
    "teste = model2.encode(df['text_to_analyse'].tolist())"
   ],
   "id": "265306d10e6e69a4",
   "outputs": [],
   "execution_count": 13
  },
  {
   "metadata": {
    "ExecuteTime": {
     "end_time": "2024-05-16T14:08:37.685626Z",
     "start_time": "2024-05-16T14:08:37.670905Z"
    }
   },
   "cell_type": "code",
   "source": [
    "import torch\n",
    "\n",
    "# Check if CUDA is available\n",
    "if torch.cuda.is_available():\n",
    "    print(\"GPU is available\")\n",
    "    # Get the name of the GPU\n",
    "    print(\"GPU name:\", torch.cuda.get_device_name(0))\n",
    "    # Print number of GPUs available\n",
    "    print(\"Number of GPUs available:\", torch.cuda.device_count())\n",
    "else:\n",
    "    print(\"GPU is not available\")"
   ],
   "id": "6bdbbec450254fa9",
   "outputs": [
    {
     "name": "stdout",
     "output_type": "stream",
     "text": [
      "GPU is available\n",
      "GPU name: Quadro P620\n",
      "Number of GPUs available: 1\n"
     ]
    }
   ],
   "execution_count": 14
  },
  {
   "metadata": {},
   "cell_type": "code",
   "outputs": [],
   "execution_count": null,
   "source": "",
   "id": "d48c8cea673d8fb3"
  }
 ],
 "metadata": {
  "kernelspec": {
   "display_name": "Python 3",
   "language": "python",
   "name": "python3"
  },
  "language_info": {
   "codemirror_mode": {
    "name": "ipython",
    "version": 2
   },
   "file_extension": ".py",
   "mimetype": "text/x-python",
   "name": "python",
   "nbconvert_exporter": "python",
   "pygments_lexer": "ipython2",
   "version": "2.7.6"
  }
 },
 "nbformat": 4,
 "nbformat_minor": 5
}
