{
 "cells": [
  {
   "metadata": {},
   "cell_type": "markdown",
   "source": "# After sales text clustering using TF-IDF and KMeans",
   "id": "16a6e2b476dd030e"
  },
  {
   "metadata": {},
   "cell_type": "markdown",
   "source": "## Data preprocessing (Merging the translated text)",
   "id": "a7948d9724b0c8ff"
  },
  {
   "metadata": {
    "ExecuteTime": {
     "end_time": "2024-05-07T06:41:25.341439Z",
     "start_time": "2024-05-07T06:41:25.175382Z"
    }
   },
   "cell_type": "code",
   "source": [
    "import os\n",
    "import pandas as pd\n",
    "import matplotlib.pyplot as plt\n",
    "from sqlalchemy import create_engine"
   ],
   "id": "534c667474c59dac",
   "execution_count": 2,
   "outputs": []
  },
  {
   "metadata": {
    "ExecuteTime": {
     "end_time": "2024-05-07T06:41:26.890939Z",
     "start_time": "2024-05-07T06:41:26.873040Z"
    }
   },
   "cell_type": "code",
   "source": [
    "def query_data(query):\n",
    "    \"\"\"\n",
    "    Function to query data from the database using sqlalchemy\n",
    "    :param query:\n",
    "    :return: pd.DataFrame\n",
    "\n",
    "    Connection parameters:\n",
    "    user = readmyzone\n",
    "    password = (get from environment variable MYSQL_PASSWORD)\n",
    "    host = 192.168.2.7\n",
    "    port = 3306\n",
    "    \"\"\"\n",
    "\n",
    "    # Create the connection string\n",
    "    user = \"readmyzone\"\n",
    "    password = os.environ.get(\"MYSQL_PASSWORD\")\n",
    "    host = \"192.168.2.7\"\n",
    "    port = \"3306\"\n",
    "    db = \"myzone\"\n",
    "    connection_string = f\"mysql+pymysql://{user}:{password}@{host}:{port}/{db}\"\n",
    "\n",
    "    # Create the engine\n",
    "    engine = create_engine(connection_string)\n",
    "\n",
    "    try:\n",
    "        # Query the data\n",
    "        data = pd.read_sql(query, engine)\n",
    "    except Exception as e:\n",
    "        print(e)\n",
    "        data = None\n",
    "\n",
    "    return data"
   ],
   "id": "3c4813864c62b44",
   "execution_count": 3,
   "outputs": []
  },
  {
   "metadata": {},
   "cell_type": "markdown",
   "source": "# Load the data",
   "id": "218de97c29b240cf"
  },
  {
   "metadata": {
    "ExecuteTime": {
     "end_time": "2024-05-07T06:41:47.729061Z",
     "start_time": "2024-05-07T06:41:44.381734Z"
    }
   },
   "cell_type": "code",
   "source": [
    "sav_incidencias = query_data(\"SELECT * FROM sav_incidencias\")\n",
    "sav_piezas = query_data(\"SELECT * FROM sav_piezas\")\n",
    "sav_estados = query_data(\"SELECT * FROM sav_estados\")\n",
    "sav_incidencias_tipo = query_data(\"SELECT * FROM sav_incidencias_tipo\")"
   ],
   "id": "9f3380d21dc06f50",
   "execution_count": 4,
   "outputs": []
  },
  {
   "metadata": {
    "ExecuteTime": {
     "end_time": "2024-05-07T06:41:51.926550Z",
     "start_time": "2024-05-07T06:41:51.570140Z"
    }
   },
   "cell_type": "code",
   "source": [
    "dataset = sav_incidencias.merge(\n",
    "    sav_piezas,\n",
    "    left_on=\"codigo\",\n",
    "    right_on=\"codigo_incidencia\",\n",
    "    how=\"left\",\n",
    "    suffixes=(None, \"_pieza\"),\n",
    ")\n",
    "dataset = dataset.merge(\n",
    "    sav_estados, left_on=\"estado\", right_on=\"id\", how=\"left\", suffixes=(None, \"_estado\")\n",
    ")\n",
    "dataset = dataset.merge(\n",
    "    sav_incidencias_tipo,\n",
    "    left_on=\"tipo\",\n",
    "    right_on=\"id\",\n",
    "    how=\"left\",\n",
    "    suffixes=(None, \"_tipo\"),\n",
    ")"
   ],
   "id": "3fba68b913e20271",
   "execution_count": 5,
   "outputs": []
  },
  {
   "metadata": {
    "ExecuteTime": {
     "end_time": "2024-05-07T06:41:52.497508Z",
     "start_time": "2024-05-07T06:41:52.467072Z"
    }
   },
   "cell_type": "code",
   "source": [
    "clean_dataset = dataset[(dataset[\"tipo\"] == 1) & (dataset[\"estado\"].isin([2, 6]))]"
   ],
   "id": "747b38221b0cd88a",
   "execution_count": 6,
   "outputs": []
  },
  {
   "metadata": {
    "ExecuteTime": {
     "end_time": "2024-05-07T06:41:53.484685Z",
     "start_time": "2024-05-07T06:41:53.280604Z"
    }
   },
   "cell_type": "code",
   "source": [
    "# Load from disk the text to translate dictionary\n",
    "fields_to_translate = [\"desc_problema\", \"problema\", \"descripcion\"]\n",
    "text_to_translate = {}\n",
    "for text in fields_to_translate:\n",
    "    text_to_translate[text] = pd.read_csv(\n",
    "        f\"../DATA/{text}.csv\", sep=\"¬\", encoding=\"utf-8-sig\"\n",
    "    )"
   ],
   "id": "c3937fd76dc1bf76",
   "execution_count": 7,
   "outputs": []
  },
  {
   "cell_type": "code",
   "id": "initial_id",
   "metadata": {
    "collapsed": true,
    "ExecuteTime": {
     "end_time": "2024-05-07T06:41:55.733085Z",
     "start_time": "2024-05-07T06:41:55.600494Z"
    }
   },
   "source": [
    "desc_problema_translated = pd.read_csv(\n",
    "    \"../DATA/desc_problema_translated.csv\",\n",
    "    sep=\"¬\",\n",
    "    encoding=\"utf-8-sig\",\n",
    "    engine=\"python\",\n",
    ")\n",
    "descripcion_translated = pd.read_csv(\n",
    "    \"../DATA/descripcion_translated.csv\", sep=\"¬\", encoding=\"utf-8-sig\", engine=\"python\"\n",
    ")\n",
    "problema_translated = pd.read_csv(\n",
    "    \"../DATA/problema_translated.csv\", sep=\"¬\", encoding=\"utf-8-sig\", engine=\"python\"\n",
    ")  # Data preprocessing (Merging the translated text)"
   ],
   "execution_count": 8,
   "outputs": []
  },
  {
   "metadata": {
    "ExecuteTime": {
     "end_time": "2024-05-07T06:41:59.370970Z",
     "start_time": "2024-05-07T06:41:59.348245Z"
    }
   },
   "cell_type": "code",
   "source": [
    "# Delete rows with values (desc_problema, desc_problema_translated)\n",
    "desc_problema_translated = desc_problema_translated[\n",
    "    ~desc_problema_translated[\"desc_problema_translated\"].isin(\n",
    "        [\"desc_problema_translated\"]\n",
    "    )\n",
    "]\n",
    "descripcion_translated = descripcion_translated[\n",
    "    ~descripcion_translated[\"descripcion_translated\"].isin([\"descripcion_translated\"])\n",
    "]\n",
    "problema_translated = problema_translated[\n",
    "    ~problema_translated[\"problema_translated\"].isin([\"problema_translated\"])\n",
    "]"
   ],
   "id": "5728490c1ef98641",
   "execution_count": 9,
   "outputs": []
  },
  {
   "metadata": {
    "ExecuteTime": {
     "end_time": "2024-05-07T06:42:00.810930Z",
     "start_time": "2024-05-07T06:42:00.799366Z"
    }
   },
   "cell_type": "code",
   "source": "desc_problema_translated.count()",
   "id": "964c516475bc565b",
   "execution_count": 10,
   "outputs": []
  },
  {
   "metadata": {
    "ExecuteTime": {
     "end_time": "2024-05-07T06:42:02.463289Z",
     "start_time": "2024-05-07T06:42:02.416613Z"
    }
   },
   "cell_type": "code",
   "source": [
    "# Merge the translated text with the text_to_translate dataframe\n",
    "desc_problema_translated = text_to_translate[\"desc_problema\"].merge(\n",
    "    desc_problema_translated,\n",
    "    left_on=\"desc_problema\",\n",
    "    right_on=\"desc_problema\",\n",
    "    how=\"left\",\n",
    ")\n",
    "descripcion_translated = text_to_translate[\"descripcion\"].merge(\n",
    "    descripcion_translated, left_on=\"descripcion\", right_on=\"descripcion\", how=\"left\"\n",
    ")\n",
    "problema_translated = text_to_translate[\"problema\"].merge(\n",
    "    problema_translated, left_on=\"problema\", right_on=\"problema\", how=\"left\"\n",
    ")"
   ],
   "id": "c6ef16434e7aa400",
   "execution_count": 11,
   "outputs": []
  },
  {
   "metadata": {
    "ExecuteTime": {
     "end_time": "2024-05-07T06:42:03.012337Z",
     "start_time": "2024-05-07T06:42:02.990564Z"
    }
   },
   "cell_type": "code",
   "source": [
    "# Fill NA with the original texts\n",
    "desc_problema_translated.fillna(\n",
    "    {\"desc_problema_translated\": desc_problema_translated[\"desc_problema\"]},\n",
    "    inplace=True,\n",
    ")\n",
    "descripcion_translated.fillna(\n",
    "    {\"descripcion_translated\": descripcion_translated[\"descripcion\"]}, inplace=True\n",
    ")\n",
    "problema_translated.fillna(\n",
    "    {\"problema_translated\": problema_translated[\"problema\"]}, inplace=True\n",
    ")"
   ],
   "id": "f192011f1cb44460",
   "execution_count": 12,
   "outputs": []
  },
  {
   "metadata": {
    "ExecuteTime": {
     "end_time": "2024-05-07T06:42:04.176673Z",
     "start_time": "2024-05-07T06:42:04.157479Z"
    }
   },
   "cell_type": "code",
   "source": "desc_problema_translated.head(5)",
   "id": "441411c8ce3affdc",
   "execution_count": 13,
   "outputs": []
  },
  {
   "metadata": {
    "ExecuteTime": {
     "end_time": "2024-05-07T06:42:08.931819Z",
     "start_time": "2024-05-07T06:42:08.601113Z"
    }
   },
   "cell_type": "code",
   "source": [
    "# Merge the translated text with the original dataset\n",
    "clean_dataset = clean_dataset.merge(\n",
    "    desc_problema_translated,\n",
    "    left_on=\"desc_problema\",\n",
    "    right_on=\"desc_problema\",\n",
    "    how=\"left\",\n",
    ")\n",
    "clean_dataset = clean_dataset.merge(\n",
    "    descripcion_translated, left_on=\"descripcion\", right_on=\"descripcion\", how=\"left\"\n",
    ")\n",
    "clean_dataset = clean_dataset.merge(\n",
    "    problema_translated, left_on=\"problema\", right_on=\"problema\", how=\"left\"\n",
    ")"
   ],
   "id": "614bfb6ace6e2944",
   "execution_count": 14,
   "outputs": []
  },
  {
   "metadata": {
    "ExecuteTime": {
     "end_time": "2024-05-07T06:42:10.027404Z",
     "start_time": "2024-05-07T06:42:10.019341Z"
    }
   },
   "cell_type": "code",
   "source": "clean_dataset[[\"desc_problema\"]].head(100)",
   "id": "70d9d42f4ba9cb1f",
   "execution_count": 15,
   "outputs": []
  },
  {
   "metadata": {
    "ExecuteTime": {
     "end_time": "2024-05-07T06:42:12.061978Z",
     "start_time": "2024-05-07T06:42:11.711472Z"
    }
   },
   "cell_type": "code",
   "source": [
    "clean_dataset.describe(include=\"all\")"
   ],
   "id": "e84856fdd0940ef1",
   "execution_count": 16,
   "outputs": []
  },
  {
   "metadata": {
    "ExecuteTime": {
     "end_time": "2024-05-07T06:42:14.279092Z",
     "start_time": "2024-05-07T06:42:14.271544Z"
    }
   },
   "cell_type": "code",
   "source": [
    "for column in clean_dataset.columns:\n",
    "    print(f\"Column: {column}\")"
   ],
   "id": "d6045361e36b7b87",
   "execution_count": 17,
   "outputs": []
  },
  {
   "metadata": {
    "ExecuteTime": {
     "end_time": "2024-05-07T09:34:53.303880Z",
     "start_time": "2024-05-07T09:34:53.275927Z"
    }
   },
   "cell_type": "code",
   "source": [
    "# Get only the columns with the fields of interest\n",
    "text_to_analyse = clean_dataset[\n",
    "    [\n",
    "        \"desc_problema_translated\",\n",
    "        \"descripcion_translated\",\n",
    "        \"problema_translated\",\n",
    "        \"cod_articulo\",\n",
    "    ]\n",
    "]\n",
    "# Fill NA with empty string\n",
    "text_to_analyse.fillna(\"\", inplace=True)"
   ],
   "id": "dc06c3d9dd9902e2",
   "execution_count": 58,
   "outputs": []
  },
  {
   "metadata": {
    "ExecuteTime": {
     "end_time": "2024-05-07T09:35:04.701738Z",
     "start_time": "2024-05-07T09:35:04.649498Z"
    }
   },
   "cell_type": "code",
   "source": [
    "text_to_analyse.loc[:, \"text_to_analyse\"] = (\n",
    "    text_to_analyse[\"desc_problema_translated\"]\n",
    "    + \" \"\n",
    "    + text_to_analyse[\"descripcion_translated\"]\n",
    "    + \" \"\n",
    "    + text_to_analyse[\"problema_translated\"]\n",
    "    + \" \"\n",
    "    + text_to_analyse[\"cod_articulo\"]\n",
    ")"
   ],
   "id": "1769ea0a436bf71d",
   "execution_count": 59,
   "outputs": []
  },
  {
   "metadata": {
    "ExecuteTime": {
     "end_time": "2024-05-07T09:35:06.342986Z",
     "start_time": "2024-05-07T09:35:06.336636Z"
    }
   },
   "cell_type": "code",
   "source": "text_to_analyse.head(10)",
   "id": "9476356aaf02e1d7",
   "execution_count": 60,
   "outputs": []
  },
  {
   "metadata": {},
   "cell_type": "markdown",
   "source": "## Apply TF-IDF and KMeans clustering",
   "id": "581df2c51a1f9a0f"
  },
  {
   "metadata": {
    "ExecuteTime": {
     "end_time": "2024-05-07T09:35:17.286340Z",
     "start_time": "2024-05-07T09:35:17.106637Z"
    }
   },
   "cell_type": "code",
   "source": [
    "import nltk\n",
    "from nltk.corpus import stopwords\n",
    "from nltk.tokenize import word_tokenize\n",
    "from nltk.stem import SnowballStemmer\n",
    "import string\n",
    "\n",
    "# Download the stopwords and punkt\n",
    "nltk.download(\"stopwords\")\n",
    "nltk.download(\"punkt\")\n",
    "\n",
    "\n",
    "def pre_process_text(text):\n",
    "    \"\"\"\n",
    "    Function to preprocess the text\n",
    "    Use nltk library to preprocess the text and return the preprocessed text\n",
    "    Tokenize the text, remove stopwords, remove punctuation, lowercase the text\n",
    "    :param text: text to preprocess\n",
    "    :return: preprocessed text\n",
    "    \"\"\"\n",
    "    try:\n",
    "        text = str(text)  # Convert all entries to string\n",
    "    except Exception as e:\n",
    "        print(f\"Error occurred during text conversion: {e}\")\n",
    "        return \"\"\n",
    "    # Create the stopwords list\n",
    "    stop_words = set(stopwords.words(\"spanish\"))\n",
    "    # Create the stemmer\n",
    "    stemmer = SnowballStemmer(\"spanish\")\n",
    "    # Tokenize the text\n",
    "    tokens = word_tokenize(text)\n",
    "    # print(f'After tokenizer: {tokens}')\n",
    "    # Remove the stopwords\n",
    "    tokens = [word for word in tokens if word.lower() not in stop_words]\n",
    "    # print(f'After remove stop words: {tokens}')\n",
    "    # Remove the punctuation\n",
    "    tokens = [word for word in tokens if word not in string.punctuation]\n",
    "    # print(f'After remove punctuation: {tokens}')\n",
    "    # Lowercase the text\n",
    "    tokens = [word.lower() for word in tokens]\n",
    "    # print(f'After lowercase words: {tokens}')\n",
    "    # Stem the words\n",
    "    tokens = [stemmer.stem(word) for word in tokens]\n",
    "    # print(f'After Stemmer: {tokens}')\n",
    "    return \" \".join(tokens)"
   ],
   "id": "efbbfdc8de96b940",
   "execution_count": 61,
   "outputs": []
  },
  {
   "metadata": {
    "ExecuteTime": {
     "end_time": "2024-05-07T09:35:17.929110Z",
     "start_time": "2024-05-07T09:35:17.921634Z"
    }
   },
   "cell_type": "code",
   "source": [
    "example_text = \"Hola, esto es un ejemplo de texto que vamos a preprocesar para testear\"\n",
    "pre_process_text(example_text)"
   ],
   "id": "52b88152cf13e4b1",
   "execution_count": 62,
   "outputs": []
  },
  {
   "metadata": {
    "ExecuteTime": {
     "end_time": "2024-05-07T09:35:53.169487Z",
     "start_time": "2024-05-07T09:35:21.422823Z"
    }
   },
   "cell_type": "code",
   "source": [
    "from sklearn.feature_extraction.text import TfidfVectorizer\n",
    "\n",
    "vectorizer = TfidfVectorizer(\n",
    "    lowercase=False, preprocessor=pre_process_text, min_df=0.01, max_df=0.99\n",
    ")\n",
    "vector = vectorizer.fit_transform(text_to_analyse[\"text_to_analyse\"])\n",
    "vector = pd.DataFrame(vector.toarray(), columns=vectorizer.get_feature_names_out())"
   ],
   "id": "962c350dc831d119",
   "execution_count": 63,
   "outputs": []
  },
  {
   "metadata": {
    "ExecuteTime": {
     "end_time": "2024-05-07T09:35:53.203845Z",
     "start_time": "2024-05-07T09:35:53.170486Z"
    }
   },
   "cell_type": "code",
   "source": "vector.sum().sort_values(ascending=False)",
   "id": "6226f73836f93224",
   "execution_count": 64,
   "outputs": []
  },
  {
   "metadata": {
    "ExecuteTime": {
     "end_time": "2024-05-07T09:36:14.679799Z",
     "start_time": "2024-05-07T09:36:13.602832Z"
    }
   },
   "cell_type": "code",
   "source": [
    "# Create a cloud of words with the most common words\n",
    "from wordcloud import WordCloud\n",
    "\n",
    "wordcloud = WordCloud(\n",
    "    width=800, height=400, background_color=\"white\"\n",
    ").generate_from_frequencies(vector.sum().to_dict())\n",
    "plt.figure(figsize=(20, 10))\n",
    "plt.imshow(wordcloud, interpolation=\"bilinear\")\n",
    "plt.axis(\"off\")\n",
    "plt.show()"
   ],
   "id": "459cb3cb7ab1adbc",
   "execution_count": 66,
   "outputs": []
  },
  {
   "metadata": {
    "ExecuteTime": {
     "end_time": "2024-05-07T09:36:20.239363Z",
     "start_time": "2024-05-07T09:36:18.983757Z"
    }
   },
   "cell_type": "code",
   "source": [
    "# Use PCA to reduce the dimensionality of the data\n",
    "from sklearn.decomposition import PCA\n",
    "\n",
    "pca = PCA(n_components=3)\n",
    "pca_vector = pca.fit_transform(vector)\n",
    "pca_vector = pd.DataFrame(pca_vector, columns=[\"PC1\", \"PC2\", \"PC3\"])\n",
    "\n",
    "plt.figure(figsize=(20, 10))\n",
    "plt.scatter(pca_vector[\"PC1\"], pca_vector[\"PC2\"], c=pca_vector[\"PC3\"], cmap=\"viridis\")\n",
    "plt.xlabel(\"PC1\")\n",
    "plt.ylabel(\"PC2\")\n",
    "plt.title(\"PCA of the text data\")\n",
    "plt.show()"
   ],
   "id": "9de20c6a6bc8d909",
   "execution_count": 67,
   "outputs": []
  },
  {
   "metadata": {
    "ExecuteTime": {
     "end_time": "2024-05-07T09:37:34.062238Z",
     "start_time": "2024-05-07T09:37:34.005441Z"
    }
   },
   "cell_type": "code",
   "source": [
    "# Plotting in 3D\n",
    "%matplotlib qt\n",
    "fig = plt.figure(figsize=(20, 10))\n",
    "ax = fig.add_subplot(111, projection=\"3d\")\n",
    "ax.scatter(\n",
    "    pca_vector[\"PC1\"],\n",
    "    pca_vector[\"PC2\"],\n",
    "    pca_vector[\"PC3\"],\n",
    "    c=pca_vector[\"PC3\"],\n",
    "    cmap=\"viridis\",\n",
    ")\n",
    "ax.set_xlabel(\"PC1\")\n",
    "ax.set_ylabel(\"PC2\")\n",
    "ax.set_zlabel(\"PC3\")\n",
    "plt.title(\"PCA of the text data\")\n",
    "plt.show()"
   ],
   "id": "215fbc5ba68023fb",
   "execution_count": 68,
   "outputs": []
  },
  {
   "metadata": {
    "ExecuteTime": {
     "end_time": "2024-05-07T09:38:36.217709Z",
     "start_time": "2024-05-07T09:38:36.214016Z"
    }
   },
   "cell_type": "code",
   "source": "%matplotlib inline",
   "id": "68f342465091d19",
   "execution_count": 69,
   "outputs": []
  },
  {
   "metadata": {
    "ExecuteTime": {
     "end_time": "2024-05-07T09:45:18.439526Z",
     "start_time": "2024-05-07T09:38:40.533568Z"
    }
   },
   "cell_type": "code",
   "source": [
    "# Use another dimensionality reduction technique\n",
    "from sklearn.manifold import TSNE\n",
    "\n",
    "tsne = TSNE(n_components=3)\n",
    "tsne_vector = tsne.fit_transform(vector)\n",
    "tsne_vector = pd.DataFrame(tsne_vector, columns=[\"TSNE1\", \"TSNE2\", \"TSNE3\"])"
   ],
   "id": "f56e513d66285658",
   "execution_count": 70,
   "outputs": []
  },
  {
   "metadata": {
    "ExecuteTime": {
     "end_time": "2024-05-07T09:45:18.491006Z",
     "start_time": "2024-05-07T09:45:18.440524Z"
    }
   },
   "cell_type": "code",
   "source": [
    "%matplotlib qt\n",
    "fig = plt.figure(figsize=(20, 10))\n",
    "ax = fig.add_subplot(111, projection=\"3d\")\n",
    "ax.scatter(\n",
    "    tsne_vector[\"TSNE1\"],\n",
    "    tsne_vector[\"TSNE2\"],\n",
    "    tsne_vector[\"TSNE3\"],\n",
    "    c=tsne_vector[\"TSNE3\"],\n",
    "    cmap=\"viridis\",\n",
    ")\n",
    "ax.set_xlabel(\"TSNE1\")\n",
    "ax.set_ylabel(\"TSNE2\")\n",
    "ax.set_zlabel(\"TSNE3\")\n",
    "plt.title(\"TSNE of the text data\")\n",
    "plt.show()"
   ],
   "id": "6ea7e32f39eb73f7",
   "execution_count": 71,
   "outputs": []
  },
  {
   "metadata": {
    "ExecuteTime": {
     "end_time": "2024-05-07T06:55:13.407760Z",
     "start_time": "2024-05-07T06:55:13.403760Z"
    }
   },
   "cell_type": "code",
   "source": "%matplotlib inline",
   "id": "9e71bd3cb172297a",
   "execution_count": 38,
   "outputs": []
  },
  {
   "metadata": {
    "ExecuteTime": {
     "end_time": "2024-05-07T09:52:22.194324Z",
     "start_time": "2024-05-07T09:52:02.211371Z"
    }
   },
   "cell_type": "code",
   "source": [
    "# Create a sklearn pipeline to apply a clustering algorithm\n",
    "from sklearn.pipeline import Pipeline\n",
    "from sklearn.cluster import KMeans\n",
    "from sklearn.model_selection import GridSearchCV\n",
    "\n",
    "pipeline = Pipeline([(\"kmeans\", KMeans())])\n",
    "\n",
    "# Create grid search parameters\n",
    "parameters = {\n",
    "    \"kmeans__n_clusters\": [\n",
    "        75,\n",
    "        80,\n",
    "        95,\n",
    "        100,\n",
    "        105,\n",
    "        110,\n",
    "        115,\n",
    "        120,\n",
    "        130,\n",
    "        140,\n",
    "        150,\n",
    "        160,\n",
    "        170,\n",
    "        180,\n",
    "        190,\n",
    "        200,\n",
    "    ]\n",
    "}\n",
    "\n",
    "grid_search = GridSearchCV(pipeline, parameters, cv=2, n_jobs=-1, verbose=1)\n",
    "grid_search.fit(vector)"
   ],
   "id": "3281bc7c2d92b9e5",
   "execution_count": 78,
   "outputs": []
  },
  {
   "metadata": {
    "ExecuteTime": {
     "end_time": "2024-05-07T09:52:22.200118Z",
     "start_time": "2024-05-07T09:52:22.195324Z"
    }
   },
   "cell_type": "code",
   "source": [
    "# Check the best parameters\n",
    "grid_search.best_params_"
   ],
   "id": "ecf20b99e85e28d4",
   "execution_count": 79,
   "outputs": []
  },
  {
   "metadata": {
    "ExecuteTime": {
     "end_time": "2024-05-07T09:52:29.974723Z",
     "start_time": "2024-05-07T09:52:29.937597Z"
    }
   },
   "cell_type": "code",
   "source": [
    "# Add the cluster to the dataset\n",
    "text_to_analyse[\"cluster\"] = grid_search.best_estimator_.predict(vector)"
   ],
   "id": "d1cac2607a3e5542",
   "execution_count": 80,
   "outputs": []
  },
  {
   "metadata": {
    "ExecuteTime": {
     "end_time": "2024-05-07T09:48:13.459804Z",
     "start_time": "2024-05-07T09:48:13.135447Z"
    }
   },
   "cell_type": "code",
   "source": [
    "# Plot the clusters\n",
    "%matplotlib qt\n",
    "\n",
    "# Plotting code\n",
    "fig = plt.figure(figsize=(20, 10))\n",
    "ax = fig.add_subplot(111, projection=\"3d\")\n",
    "ax.scatter(\n",
    "    pca_vector[\"PC1\"],\n",
    "    pca_vector[\"PC2\"],\n",
    "    pca_vector[\"PC3\"],\n",
    "    c=text_to_analyse[\"cluster\"],\n",
    "    cmap=\"viridis\",\n",
    ")\n",
    "ax.set_xlabel(\"PC1\")\n",
    "ax.set_ylabel(\"PC2\")\n",
    "ax.set_zlabel(\"PC3\")\n",
    "plt.title(\"PCA of the text data\")\n",
    "plt.show()"
   ],
   "id": "1a7473ae1b81ad43",
   "execution_count": 75,
   "outputs": []
  },
  {
   "metadata": {
    "ExecuteTime": {
     "end_time": "2024-05-07T09:52:32.281314Z",
     "start_time": "2024-05-07T09:52:32.214731Z"
    }
   },
   "cell_type": "code",
   "source": [
    "# Plot the clusters\n",
    "%matplotlib qt\n",
    "\n",
    "# Plotting code\n",
    "fig = plt.figure(figsize=(20, 10))\n",
    "ax = fig.add_subplot(111, projection=\"3d\")\n",
    "ax.scatter(\n",
    "    tsne_vector[\"TSNE1\"],\n",
    "    tsne_vector[\"TSNE2\"],\n",
    "    tsne_vector[\"TSNE3\"],\n",
    "    c=text_to_analyse[\"cluster\"],\n",
    "    cmap=\"viridis\",\n",
    ")\n",
    "ax.set_xlabel(\"TSNE1\")\n",
    "ax.set_ylabel(\"TSNE2\")\n",
    "ax.set_zlabel(\"TSNE3\")\n",
    "plt.title(\"After sales text clustering\")\n",
    "plt.show()"
   ],
   "id": "990c99b27b7f0b8f",
   "execution_count": 81,
   "outputs": []
  },
  {
   "metadata": {
    "ExecuteTime": {
     "end_time": "2024-05-07T07:22:02.455719Z",
     "start_time": "2024-05-07T07:22:02.452462Z"
    }
   },
   "cell_type": "code",
   "source": "%matplotlib inline",
   "id": "ffcbc61ff00905c0",
   "execution_count": 52,
   "outputs": []
  },
  {
   "metadata": {
    "ExecuteTime": {
     "end_time": "2024-05-07T09:54:25.042921Z",
     "start_time": "2024-05-07T09:54:25.035686Z"
    }
   },
   "cell_type": "code",
   "source": "text_to_analyse.head(10)",
   "id": "cf35e5667f0c1f58",
   "execution_count": 82,
   "outputs": []
  },
  {
   "metadata": {
    "ExecuteTime": {
     "end_time": "2024-05-07T09:54:30.773284Z",
     "start_time": "2024-05-07T09:54:30.767275Z"
    }
   },
   "cell_type": "code",
   "source": [
    "text_to_analyse[text_to_analyse[\"cluster\"] == 1][\"problema_translated\"]"
   ],
   "id": "8c1f9882b3a20c8f",
   "execution_count": 83,
   "outputs": []
  },
  {
   "metadata": {
    "ExecuteTime": {
     "end_time": "2024-05-07T09:54:35.183244Z",
     "start_time": "2024-05-07T09:54:35.163123Z"
    }
   },
   "cell_type": "code",
   "source": [
    "# Create a temporary column 'temp_index' to assign a unique row identifier within each cluster\n",
    "text_to_analyse[\"temp_index\"] = text_to_analyse.groupby(\"cluster\").cumcount()\n",
    "\n",
    "# Pivot the DataFrame\n",
    "pivoted_df = text_to_analyse.pivot(\n",
    "    index=\"temp_index\", columns=\"cluster\", values=\"text_to_analyse\"\n",
    ")\n",
    "\n",
    "# Optionally, if you don't want the multi-level index that comes from pivoting\n",
    "pivoted_df.columns = [f\"Cluster_{int(col)}\" for col in pivoted_df.columns]\n",
    "\n",
    "# Drop the index if it is irrelevant\n",
    "pivoted_df.reset_index(drop=True, inplace=True)"
   ],
   "id": "dcd4a61d4173f329",
   "execution_count": 84,
   "outputs": []
  },
  {
   "metadata": {
    "ExecuteTime": {
     "end_time": "2024-05-07T09:54:35.933369Z",
     "start_time": "2024-05-07T09:54:35.909983Z"
    }
   },
   "cell_type": "code",
   "source": "pivoted_df.head(50)",
   "id": "e8af3f77cd65fd5b",
   "execution_count": 85,
   "outputs": []
  },
  {
   "metadata": {
    "ExecuteTime": {
     "end_time": "2024-05-07T09:31:22.077703Z",
     "start_time": "2024-05-07T09:31:22.065856Z"
    }
   },
   "cell_type": "code",
   "source": "clean_dataset.head()",
   "id": "60d3ef1cb6e5ed6e",
   "execution_count": 57,
   "outputs": []
  },
  {
   "metadata": {
    "ExecuteTime": {
     "end_time": "2024-05-07T09:29:56.201661Z",
     "start_time": "2024-05-07T09:29:56.187785Z"
    }
   },
   "cell_type": "code",
   "source": [
    "clean_dataset.groupby([\"cod_articulo\"]).size().sort_values(ascending=False)"
   ],
   "id": "9b332a9c49be8d9a",
   "execution_count": 56,
   "outputs": []
  }
 ],
 "metadata": {
  "kernelspec": {
   "display_name": "Python 3",
   "language": "python",
   "name": "python3"
  },
  "language_info": {
   "codemirror_mode": {
    "name": "ipython",
    "version": 2
   },
   "file_extension": ".py",
   "mimetype": "text/x-python",
   "name": "python",
   "nbconvert_exporter": "python",
   "pygments_lexer": "ipython2",
   "version": "2.7.6"
  }
 },
 "nbformat": 4,
 "nbformat_minor": 5
}
