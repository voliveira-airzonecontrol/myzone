{
 "cells": [
  {
   "cell_type": "code",
   "id": "initial_id",
   "metadata": {
    "collapsed": true,
    "ExecuteTime": {
     "end_time": "2024-05-22T14:11:40.563853Z",
     "start_time": "2024-05-22T14:11:39.282191Z"
    }
   },
   "source": [
    "import os\n",
    "\n",
    "import pandas as pd\n",
    "from src.db.connections import SqlServerConnector"
   ],
   "outputs": [],
   "execution_count": 1
  },
  {
   "metadata": {},
   "cell_type": "markdown",
   "source": [
    "### Campos utiles\n",
    "- Descripción del ticket: content\n",
    "- Fecha de creación: createdate\n",
    "- "
   ],
   "id": "70ace902b0530c56"
  },
  {
   "metadata": {
    "ExecuteTime": {
     "end_time": "2024-05-22T05:33:58.936791Z",
     "start_time": "2024-05-22T05:33:54.380267Z"
    }
   },
   "cell_type": "code",
   "source": [
    "# Load data\n",
    "conn = SqlServerConnector(\n",
    "    user='Juanmanuel3228 ',\n",
    "    password=os.getenv('HUBSPOT_PASSWORD'),\n",
    "    host='datawarehouse-io-eur.database.windows.net',\n",
    "    port='1433'\n",
    ")\n",
    "\n",
    "query = \"\"\"\n",
    "SELECT * \n",
    "    FROM dbo.Ticket t\n",
    "    WHERE t.hs_pipeline = '31353452'\n",
    "    AND t.createdate > '2024-04-15'\n",
    "    AND t.garantia___tipo_error_postventa is not null;\n",
    "\"\"\"\n",
    "\n",
    "tickets = conn.query_data(\n",
    "    query=query,\n",
    "    database='Juanmanuel2700'\n",
    ")"
   ],
   "id": "5d4f45b239e45720",
   "execution_count": 2,
   "outputs": []
  },
  {
   "metadata": {
    "ExecuteTime": {
     "end_time": "2024-05-22T05:34:40.179521Z",
     "start_time": "2024-05-22T05:34:40.165497Z"
    }
   },
   "cell_type": "code",
   "source": "tickets.count()",
   "id": "e54476e8fb650157",
   "execution_count": 3,
   "outputs": []
  },
  {
   "metadata": {
    "ExecuteTime": {
     "end_time": "2024-05-22T05:35:10.615501Z",
     "start_time": "2024-05-22T05:35:10.585519Z"
    }
   },
   "cell_type": "code",
   "source": [
    "columns_of_interest = [\n",
    "    'TicketId', \n",
    "    'tl_code_ticket',\n",
    "    'hs_pipeline',\n",
    "    'hs_pipeline_stage',\n",
    "    'createdate',\n",
    "    'garantia___referencia_de_la_incidencia_my_zone'\n",
    "]\n",
    "\n",
    "values_of_interest = [\n",
    "    \n",
    "    'garantia___tipo_error_postventa',\n",
    "    's_n',\n",
    "    'garantia_2___tipo_error_postventa', \n",
    "    'garantia_2___s_n', \n",
    "    'garantia_3___tipo_error_postventa', \n",
    "    'garantia_3___s_n',\n",
    "    'garantia_4___tipo_error_postventa', \n",
    "    'garantia_4___s_n',\n",
    "    'garantia_5___tipo_error_postventa', \n",
    "    'garantia_5___s_n', \n",
    "    'garantia_6___tipo_error_postventa', \n",
    "    'garantia_6___s_n', \n",
    "    'garantia_7___tipo_error_postventa',\n",
    "    'garantia_7___s_n'\n",
    "]\n",
    "\n",
    "tickets_clean = tickets[columns_of_interest + values_of_interest]\n",
    "\n",
    "tickets_clean.sample(10)"
   ],
   "id": "24e2ab1b6f5c6a72",
   "execution_count": 4,
   "outputs": []
  },
  {
   "metadata": {
    "ExecuteTime": {
     "end_time": "2024-05-22T05:35:15.776657Z",
     "start_time": "2024-05-22T05:35:15.763145Z"
    }
   },
   "cell_type": "code",
   "source": "tickets_clean.count()",
   "id": "1b291236f10a6b20",
   "execution_count": 5,
   "outputs": []
  },
  {
   "metadata": {
    "ExecuteTime": {
     "end_time": "2024-05-22T05:35:21.240570Z",
     "start_time": "2024-05-22T05:35:21.212168Z"
    }
   },
   "cell_type": "code",
   "source": "tickets_clean[tickets_clean['garantia_2___s_n'].isna() & tickets_clean['s_n'].isna() & ~tickets_clean['garantia___tipo_error_postventa'].isna() & ~tickets_clean['garantia_2___tipo_error_postventa'].isna()]",
   "id": "5c2f06188bf822e",
   "execution_count": 6,
   "outputs": []
  },
  {
   "metadata": {
    "ExecuteTime": {
     "end_time": "2024-05-22T05:35:28.989744Z",
     "start_time": "2024-05-22T05:35:28.960129Z"
    }
   },
   "cell_type": "code",
   "source": "tickets_melted = pd.melt(tickets_clean, id_vars=columns_of_interest, value_vars=values_of_interest).dropna(subset=['value'])",
   "id": "df65f12384bd4483",
   "execution_count": 7,
   "outputs": []
  },
  {
   "metadata": {
    "ExecuteTime": {
     "end_time": "2024-05-22T05:42:17.450949Z",
     "start_time": "2024-05-22T05:42:17.431931Z"
    }
   },
   "cell_type": "code",
   "source": "tickets_melted.groupby('variable')['value'].size().sort_values(ascending=False)",
   "id": "a25117d174f54879",
   "execution_count": 17,
   "outputs": []
  },
  {
   "metadata": {
    "ExecuteTime": {
     "end_time": "2024-05-22T05:35:30.185853Z",
     "start_time": "2024-05-22T05:35:30.167338Z"
    }
   },
   "cell_type": "code",
   "source": [
    "sn_columns = [\n",
    "    's_n',\n",
    "    'garantia_2___s_n', \n",
    "    'garantia_3___s_n',\n",
    "    'garantia_4___s_n',\n",
    "    'garantia_5___s_n', \n",
    "    'garantia_6___s_n', \n",
    "    'garantia_7___s_n'\n",
    "]\n",
    "\n",
    "error_type_columns = [\n",
    "    'garantia___tipo_error_postventa',\n",
    "    'garantia_2___tipo_error_postventa', \n",
    "    'garantia_3___tipo_error_postventa', \n",
    "    'garantia_4___tipo_error_postventa', \n",
    "    'garantia_5___tipo_error_postventa', \n",
    "    'garantia_6___tipo_error_postventa', \n",
    "    'garantia_7___tipo_error_postventa',\n",
    "]\n",
    "\n",
    "grouped = tickets_melted[tickets_melted['variable'].isin(sn_columns)].groupby(['variable'])['value'].size().sort_values(ascending=False).to_frame()\n",
    "total = grouped.sum()\n",
    "\n",
    "grouped['%'] = grouped / total\n",
    "grouped['cumm %'] = grouped['%'].cumsum()\n",
    "grouped"
   ],
   "id": "7dbc7a49f49c488b",
   "execution_count": 8,
   "outputs": []
  },
  {
   "metadata": {
    "ExecuteTime": {
     "end_time": "2024-05-22T05:35:32.457624Z",
     "start_time": "2024-05-22T05:35:32.444433Z"
    }
   },
   "cell_type": "code",
   "source": "tickets_melted[tickets_melted['variable'].isin(sn_columns)]",
   "id": "829f0d5fc3f45ab3",
   "execution_count": 9,
   "outputs": []
  },
  {
   "metadata": {
    "ExecuteTime": {
     "end_time": "2024-05-22T05:56:57.380112Z",
     "start_time": "2024-05-22T05:56:57.364992Z"
    }
   },
   "cell_type": "code",
   "source": "teste = tickets_melted.copy()",
   "id": "e84550264fbe4625",
   "execution_count": 33,
   "outputs": []
  },
  {
   "metadata": {
    "ExecuteTime": {
     "end_time": "2024-05-22T05:56:57.395575Z",
     "start_time": "2024-05-22T05:56:57.382042Z"
    }
   },
   "cell_type": "code",
   "source": "teste",
   "id": "116da7f41ed6b297",
   "execution_count": 34,
   "outputs": []
  },
  {
   "metadata": {
    "ExecuteTime": {
     "end_time": "2024-05-22T05:56:57.411609Z",
     "start_time": "2024-05-22T05:56:57.396578Z"
    }
   },
   "cell_type": "code",
   "source": "teste[teste['variable'].isin(sn_columns)].groupby('variable')['value'].size().sort_values(ascending=False)",
   "id": "4735ab021fd654f3",
   "execution_count": 35,
   "outputs": []
  },
  {
   "metadata": {
    "ExecuteTime": {
     "end_time": "2024-05-22T05:56:57.442160Z",
     "start_time": "2024-05-22T05:56:57.412615Z"
    }
   },
   "cell_type": "code",
   "source": [
    "def define_pieza(X):\n",
    "    if X in ['s_n', 'garantia___tipo_error_postventa']:\n",
    "        return 1\n",
    "    elif X in ['garantia_2___s_n', 'garantia_2___tipo_error_postventa']:\n",
    "        return 2\n",
    "    elif X in ['garantia_3___s_n', 'garantia_3___tipo_error_postventa']:\n",
    "        return 3\n",
    "    elif X in ['garantia_4___s_n', 'garantia_4___tipo_error_postventa']:\n",
    "        return 4\n",
    "    elif X in ['garantia_5___s_n', 'garantia_5___tipo_error_postventa']:\n",
    "        return 5\n",
    "    elif X in ['garantia_6___s_n', 'garantia_6___tipo_error_postventa']:\n",
    "        return 6\n",
    "    elif X in ['garantia_7___s_n', 'garantia_7___tipo_error_postventa']:\n",
    "        return 7\n",
    "    else:\n",
    "        'unknown'\n",
    "\n",
    "def solve_names(X):\n",
    "    if X in sn_columns:\n",
    "        return 'serial_number'\n",
    "    elif X in error_type_columns:\n",
    "        return 'error_type'\n",
    "    return 'unknown'\n",
    "\n",
    "teste['pieza'] = teste['variable'].apply(define_pieza)\n",
    "teste['variable2'] = teste['variable'].apply(solve_names)\n",
    "teste.sample(10)"
   ],
   "id": "969f4dace517331d",
   "execution_count": 36,
   "outputs": []
  },
  {
   "metadata": {
    "ExecuteTime": {
     "end_time": "2024-05-22T05:58:31.483678Z",
     "start_time": "2024-05-22T05:58:31.468447Z"
    }
   },
   "cell_type": "code",
   "source": "teste",
   "id": "32073b66c80b1bbb",
   "execution_count": 39,
   "outputs": []
  },
  {
   "metadata": {
    "ExecuteTime": {
     "end_time": "2024-05-22T05:57:08.436997Z",
     "start_time": "2024-05-22T05:57:08.422420Z"
    }
   },
   "cell_type": "code",
   "source": "teste.groupby('pieza')['value'].size().sort_values(ascending=False)",
   "id": "125c5abb77ffa23",
   "execution_count": 38,
   "outputs": []
  },
  {
   "metadata": {
    "ExecuteTime": {
     "end_time": "2024-05-22T05:51:57.697952Z",
     "start_time": "2024-05-22T05:51:57.685424Z"
    }
   },
   "cell_type": "code",
   "source": [
    "tickets_final = pd.pivot(\n",
    "    teste,\n",
    "    index=['TicketId', 'tl_code_ticket', 'hs_pipeline', 'hs_pipeline_stage', 'createdate', 'garantia___referencia_de_la_incidencia_my_zone','pieza'],\n",
    "    columns='variable',\n",
    "    values='value'\n",
    ").reset_index()\n",
    "\n",
    "tickets_final['total_piezas'] = tickets_final.groupby('TicketId')['TicketId'].transform('count')"
   ],
   "id": "3bc7a83c616a7e9a",
   "execution_count": 22,
   "outputs": []
  },
  {
   "metadata": {
    "ExecuteTime": {
     "end_time": "2024-05-22T05:51:58.694156Z",
     "start_time": "2024-05-22T05:51:58.677995Z"
    }
   },
   "cell_type": "code",
   "source": "tickets_final.groupby('total_piezas')['TicketId'].count()",
   "id": "231bf64ad07dde31",
   "execution_count": 23,
   "outputs": []
  },
  {
   "metadata": {},
   "cell_type": "code",
   "execution_count": null,
   "source": "",
   "id": "7722c959c38e8e32",
   "outputs": []
  }
 ],
 "metadata": {
  "kernelspec": {
   "display_name": "Python 3",
   "language": "python",
   "name": "python3"
  },
  "language_info": {
   "codemirror_mode": {
    "name": "ipython",
    "version": 2
   },
   "file_extension": ".py",
   "mimetype": "text/x-python",
   "name": "python",
   "nbconvert_exporter": "python",
   "pygments_lexer": "ipython2",
   "version": "2.7.6"
  }
 },
 "nbformat": 4,
 "nbformat_minor": 5
}
