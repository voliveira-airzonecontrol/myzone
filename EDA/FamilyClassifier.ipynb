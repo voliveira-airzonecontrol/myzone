{
 "cells": [
  {
   "metadata": {},
   "cell_type": "markdown",
   "source": "# Articulo's Family Classifier\n",
   "id": "e2d591e6d8016399"
  },
  {
   "cell_type": "code",
   "id": "initial_id",
   "metadata": {
    "collapsed": true,
    "ExecuteTime": {
     "end_time": "2024-05-13T11:47:29.764730Z",
     "start_time": "2024-05-13T11:47:27.935848Z"
    }
   },
   "source": [
    "from sklearn.svm import SVC\n",
    "from sklearn.model_selection import train_test_split\n",
    "from sklearn.metrics import classification_report, confusion_matrix, accuracy_score, f1_score, precision_score, recall_score\n",
    "from sklearn.preprocessing import StandardScaler, MinMaxScaler\n",
    "from sklearn.pipeline import Pipeline\n",
    "from sklearn.model_selection import GridSearchCV\n",
    "\n",
    "import pandas as pd\n",
    "import numpy as np\n",
    "import matplotlib.pyplot as plt\n",
    "import seaborn as sns"
   ],
   "outputs": [],
   "execution_count": 34
  },
  {
   "metadata": {},
   "cell_type": "markdown",
   "source": "### Load Data",
   "id": "812eb3cadaf20550"
  },
  {
   "metadata": {
    "ExecuteTime": {
     "end_time": "2024-05-13T11:47:31.429392Z",
     "start_time": "2024-05-13T11:47:30.806183Z"
    }
   },
   "cell_type": "code",
   "source": [
    "data_version = '2024-05-13'\n",
    "data_path = f'../DATA/processed/{data_version}/text_to_analyse.csv'\n",
    "text_to_analyse = pd.read_csv(data_path, sep='¬', encoding='utf-8-sig')"
   ],
   "id": "5b476cf21681035a",
   "outputs": [
    {
     "name": "stderr",
     "output_type": "stream",
     "text": [
      "C:\\Users\\voliveira\\AppData\\Local\\Temp\\ipykernel_3812\\3185300555.py:3: ParserWarning: Falling back to the 'python' engine because the separator encoded in utf-8 is > 1 char long, and the 'c' engine does not support such separators; you can avoid this warning by specifying engine='python'.\n",
      "  text_to_analyse = pd.read_csv(data_path, sep='¬', encoding='utf-8-sig')\n"
     ]
    }
   ],
   "execution_count": 35
  },
  {
   "metadata": {},
   "cell_type": "code",
   "outputs": [],
   "execution_count": null,
   "source": "",
   "id": "2377f88f5a382571"
  },
  {
   "metadata": {},
   "cell_type": "code",
   "outputs": [],
   "execution_count": null,
   "source": "",
   "id": "60d9fc376407380"
  },
  {
   "metadata": {},
   "cell_type": "code",
   "outputs": [],
   "execution_count": null,
   "source": "",
   "id": "3bd594f125cd3bd3"
  },
  {
   "metadata": {},
   "cell_type": "code",
   "outputs": [],
   "execution_count": null,
   "source": "",
   "id": "d3443426bc3cb53c"
  },
  {
   "metadata": {},
   "cell_type": "code",
   "outputs": [],
   "execution_count": null,
   "source": "",
   "id": "8f2d51cff3205065"
  },
  {
   "metadata": {},
   "cell_type": "code",
   "outputs": [],
   "execution_count": null,
   "source": "",
   "id": "e02450afb73cdedc"
  },
  {
   "metadata": {},
   "cell_type": "code",
   "outputs": [],
   "execution_count": null,
   "source": "",
   "id": "7238025c6438c2a7"
  },
  {
   "metadata": {},
   "cell_type": "markdown",
   "source": "### Data Preprocessing and Model Training",
   "id": "ce48497d1c648f89"
  },
  {
   "metadata": {
    "ExecuteTime": {
     "end_time": "2024-05-13T11:01:17.743886Z",
     "start_time": "2024-05-13T11:01:16.441306Z"
    }
   },
   "cell_type": "code",
   "source": [
    "import spacy\n",
    "import pandas as pd\n",
    "import multiprocessing\n",
    "nlp = spacy.load('es_core_news_sm')\n",
    "# nlp = spacy.load('es_core_news_md')\n",
    "# nlp = spacy.load('es_core_news_sm')\n",
    "import gensim.models.doc2vec\n",
    "assert gensim.models.doc2vec.FAST_VERSION > -1, \"This will be painfully slow otherwise\"\n",
    "from gensim.models.doc2vec import Doc2Vec, TaggedDocument"
   ],
   "id": "71b61f06f40b6ed6",
   "outputs": [],
   "execution_count": 5
  },
  {
   "metadata": {
    "ExecuteTime": {
     "end_time": "2024-05-13T10:51:05.091369Z",
     "start_time": "2024-05-13T10:51:05.086248Z"
    }
   },
   "cell_type": "code",
   "source": [
    "def preprocess_text(docs):\n",
    "    texts = [doc for doc in nlp.pipe(docs, disable=[\"ner\", \"parser\"])] \n",
    "    processed_texts = []\n",
    "    for doc in texts:\n",
    "        tokens = [token.text.lower() for token in doc if not token.is_punct and not token.is_stop and not token.is_space]\n",
    "        processed_texts.append(' '.join(tokens))\n",
    "    return processed_texts"
   ],
   "id": "af2f219d1fc5d4e2",
   "outputs": [],
   "execution_count": 2
  },
  {
   "metadata": {
    "ExecuteTime": {
     "end_time": "2024-05-13T11:46:06.952236Z",
     "start_time": "2024-05-13T11:45:23.256578Z"
    }
   },
   "cell_type": "code",
   "source": [
    "corpus = pd.read_csv('../DATA/processed/2024-05-13/corpus.csv')\n",
    "corpus['processed_text'] = preprocess_text(corpus['text_to_analyse'])\n",
    "corpus.head()"
   ],
   "id": "3f96e68ef1ee1e6c",
   "outputs": [
    {
     "data": {
      "text/plain": [
       "                                     text_to_analyse  \\\n",
       "0  INDICAN EXCLUSIVAMENTE QUE SE HA ESTROPEADO LA...   \n",
       "1              NO FUNCIONA  NO FUNCIONA AZC3TACTOCSB   \n",
       "2  AZATACTORSB SE HA QUEDADO BLOQUEADO. NO PERMIT...   \n",
       "3  DESDE PULSADORES NO SE PUEDE SUBIR LA PERSIANA...   \n",
       "4  REJILLA MOTORIZADA DEFECTUOSA, SUSTITUIR  Rafa...   \n",
       "\n",
       "                                      processed_text  \n",
       "0  indican exclusivamente estropeado iban instala...  \n",
       "1                     funciona funciona azc3tactocsb  \n",
       "2  azatactorsb quedado bloqueado permite encender...  \n",
       "3  pulsadores subir persianas bajar comprobado en...  \n",
       "4  rejilla motorizada defectuosa sustituir rafael...  "
      ],
      "text/html": [
       "<div>\n",
       "<style scoped>\n",
       "    .dataframe tbody tr th:only-of-type {\n",
       "        vertical-align: middle;\n",
       "    }\n",
       "\n",
       "    .dataframe tbody tr th {\n",
       "        vertical-align: top;\n",
       "    }\n",
       "\n",
       "    .dataframe thead th {\n",
       "        text-align: right;\n",
       "    }\n",
       "</style>\n",
       "<table border=\"1\" class=\"dataframe\">\n",
       "  <thead>\n",
       "    <tr style=\"text-align: right;\">\n",
       "      <th></th>\n",
       "      <th>text_to_analyse</th>\n",
       "      <th>processed_text</th>\n",
       "    </tr>\n",
       "  </thead>\n",
       "  <tbody>\n",
       "    <tr>\n",
       "      <th>0</th>\n",
       "      <td>INDICAN EXCLUSIVAMENTE QUE SE HA ESTROPEADO LA...</td>\n",
       "      <td>indican exclusivamente estropeado iban instala...</td>\n",
       "    </tr>\n",
       "    <tr>\n",
       "      <th>1</th>\n",
       "      <td>NO FUNCIONA  NO FUNCIONA AZC3TACTOCSB</td>\n",
       "      <td>funciona funciona azc3tactocsb</td>\n",
       "    </tr>\n",
       "    <tr>\n",
       "      <th>2</th>\n",
       "      <td>AZATACTORSB SE HA QUEDADO BLOQUEADO. NO PERMIT...</td>\n",
       "      <td>azatactorsb quedado bloqueado permite encender...</td>\n",
       "    </tr>\n",
       "    <tr>\n",
       "      <th>3</th>\n",
       "      <td>DESDE PULSADORES NO SE PUEDE SUBIR LA PERSIANA...</td>\n",
       "      <td>pulsadores subir persianas bajar comprobado en...</td>\n",
       "    </tr>\n",
       "    <tr>\n",
       "      <th>4</th>\n",
       "      <td>REJILLA MOTORIZADA DEFECTUOSA, SUSTITUIR  Rafa...</td>\n",
       "      <td>rejilla motorizada defectuosa sustituir rafael...</td>\n",
       "    </tr>\n",
       "  </tbody>\n",
       "</table>\n",
       "</div>"
      ]
     },
     "execution_count": 28,
     "metadata": {},
     "output_type": "execute_result"
    }
   ],
   "execution_count": 28
  },
  {
   "metadata": {
    "ExecuteTime": {
     "end_time": "2024-05-13T11:46:45.552985Z",
     "start_time": "2024-05-13T11:46:44.837632Z"
    }
   },
   "cell_type": "code",
   "source": [
    "common_kwargs = dict(\n",
    "    vector_size=200, \n",
    "    epochs=20, \n",
    "    min_count=2,\n",
    "    sample=0, \n",
    "    workers=multiprocessing.cpu_count(), \n",
    "    negative=5, \n",
    "    hs=0,\n",
    "    seed=0\n",
    ")\n",
    "\n",
    "class CommentedDoc2Vec(Doc2Vec):\n",
    "    def __init__(self, comment=\"\", **kwargs):\n",
    "        super().__init__(**kwargs)\n",
    "        self.comment = comment\n",
    "        \n",
    "# PV-DBOW plain\n",
    "model = CommentedDoc2Vec(\n",
    "    dm=0, \n",
    "    comment=f\"PV-DBOW-\"\n",
    "            f\"v_size {common_kwargs[\"vector_size\"]}-\"\n",
    "            f\"epochs {common_kwargs['epochs']}-\"\n",
    "            f\"hs {common_kwargs['hs']}-\"\n",
    "            f\"sample {common_kwargs['sample']}-\"\n",
    "            f\"negative {common_kwargs['negative']}-\"\n",
    "            f\"min_count {common_kwargs['min_count']}\",\n",
    "    **common_kwargs\n",
    ")\n",
    "\n",
    "# Create TaggedDocument objects\n",
    "tagged_data = [TaggedDocument(words=doc.split(), tags=[i]) for i, doc in enumerate(corpus['processed_text'])]\n",
    "\n",
    "model.build_vocab(tagged_data)\n",
    "print(\"Model: %s : vocabulary scanned & state initialized\" % model.comment)"
   ],
   "id": "117c338f7cf8b0f9",
   "outputs": [
    {
     "name": "stdout",
     "output_type": "stream",
     "text": [
      "Model: PV-DBOW-v_size 200-epochs 20-hs 0-sample 0-negative 5-min_count 2 : vocabulary scanned & state initialized\n"
     ]
    }
   ],
   "execution_count": 30
  },
  {
   "metadata": {
    "ExecuteTime": {
     "end_time": "2024-05-13T11:47:09.076562Z",
     "start_time": "2024-05-13T11:46:46.453064Z"
    }
   },
   "cell_type": "code",
   "source": [
    "model.train(tagged_data, total_examples=model.corpus_count, epochs=model.epochs)\n",
    "print(\"%s training completed\" % model.comment)"
   ],
   "id": "966f3eb9683ce54c",
   "outputs": [
    {
     "name": "stdout",
     "output_type": "stream",
     "text": [
      "PV-DBOW-v_size 200-epochs 20-hs 0-sample 0-negative 5-min_count 2 training completed\n"
     ]
    }
   ],
   "execution_count": 31
  },
  {
   "metadata": {
    "ExecuteTime": {
     "end_time": "2024-05-13T11:47:14.136112Z",
     "start_time": "2024-05-13T11:47:14.062902Z"
    }
   },
   "cell_type": "code",
   "source": [
    "from datetime import date\n",
    "import os\n",
    "\n",
    "# Save the model\n",
    "today_date = date.today().isoformat()\n",
    "base_path = f\"../MODELS/{today_date}\"\n",
    "os.makedirs(base_path, exist_ok=True)\n",
    "model_name = f\"{base_path}/{type(model).__name__}_{model.comment.replace(' ', '_')}.model\"\n",
    "model.save(model_name)\n",
    "print(f\"Model saved at {model_name}\")"
   ],
   "id": "2fe9f1abea4a6dbb",
   "outputs": [
    {
     "name": "stdout",
     "output_type": "stream",
     "text": [
      "Model saved at ../MODELS/2024-05-13/CommentedDoc2Vec_PV-DBOW-v_size_200-epochs_20-hs_0-sample_0-negative_5-min_count_2.model\n"
     ]
    }
   ],
   "execution_count": 32
  },
  {
   "metadata": {
    "ExecuteTime": {
     "end_time": "2024-05-13T11:47:15.606908Z",
     "start_time": "2024-05-13T11:47:15.432158Z"
    }
   },
   "cell_type": "code",
   "source": [
    "# Load the model\n",
    "model_name = \"../MODELS/2024-05-13/CommentedDoc2Vec_PV-DBOW-v_size_200-epochs_20-hs_0-sample_0-negative_5-min_count_2.model\"\n",
    "model = CommentedDoc2Vec.load(model_name)\n",
    "print(f'Model {model} loaded')"
   ],
   "id": "f379de1fb633a5a9",
   "outputs": [
    {
     "name": "stdout",
     "output_type": "stream",
     "text": [
      "Model CommentedDoc2Vec<\"PV-DBOW-v_size 200-epochs 20-hs 0-sample 0-negative 5-min_count 2\",dbow,d200,n5,mc2,t8> loaded\n"
     ]
    }
   ],
   "execution_count": 33
  },
  {
   "metadata": {},
   "cell_type": "code",
   "outputs": [],
   "execution_count": null,
   "source": "",
   "id": "54d7acfa769cd8a8"
  },
  {
   "metadata": {},
   "cell_type": "markdown",
   "source": "### Infer Vectors for all texts",
   "id": "a42d717a9ff4eb46"
  },
  {
   "metadata": {
    "ExecuteTime": {
     "end_time": "2024-05-13T11:49:16.994080Z",
     "start_time": "2024-05-13T11:48:36.647450Z"
    }
   },
   "cell_type": "code",
   "source": "text_to_analyse['processed_text'] = preprocess_text(text_to_analyse['text_to_analyse'])",
   "id": "5619fa8b0b7e1696",
   "outputs": [],
   "execution_count": 36
  },
  {
   "metadata": {
    "ExecuteTime": {
     "end_time": "2024-05-13T12:02:23.727332Z",
     "start_time": "2024-05-13T12:01:59.634660Z"
    }
   },
   "cell_type": "code",
   "source": [
    "text_to_analyse['vector'] = text_to_analyse['processed_text'].apply(lambda x: model.infer_vector(x.split()))\n",
    "text_to_analyse.head()"
   ],
   "id": "5a4ce59950d9d8ad",
   "outputs": [
    {
     "data": {
      "text/plain": [
       "       codigo  id_pieza                           desc_problema_translated  \\\n",
       "0  YZ2YZZUU16      70.0  INDICAN EXCLUSIVAMENTE QUE SE HA ESTROPEADO LA...   \n",
       "1  ZP2CZZYVBD      71.0  AZATACTORSB SE HA QUEDADO BLOQUEADO. NO PERMIT...   \n",
       "2  YPUEA5WZ10      67.0  DESDE PULSADORES NO SE PUEDE SUBIR LA PERSIANA...   \n",
       "3  ZPWBA5ETF7      72.0           REJILLA MOTORIZADA DEFECTUOSA, SUSTITUIR   \n",
       "4  ZP2CAPUAA9      74.0  MODULO DE FANCOIL  DA PROBLEMAS LAS COMUNICACI...   \n",
       "\n",
       "    descripcion_translated                                problema_translated  \\\n",
       "0  MODULO ALARMAS TECNICAS  INDICAN SE HA  ESTROPEADO EN LA INSTALACION Y ...   \n",
       "1                      NaN  TACTO BLOQUEADO. NO ENCIENDE-APAGA NI DEJA CAM...   \n",
       "2       MODELO 2 PERSIANAS  UNA DE LAS 2 PERSIANAS NO FUNCIONA CON PULSADO...   \n",
       "3                      NaN  Rafael  el viernes llego mi pedido nº 23349 pa...   \n",
       "4             AZAMFANCOILC                      MODULO DE FANCOIL DE ZONA 32Z   \n",
       "\n",
       "      cod_articulo                                    text_to_analyse  \\\n",
       "0             MATS  INDICAN EXCLUSIVAMENTE QUE SE HA ESTROPEADO LA...   \n",
       "1      AZATACTORSB  AZATACTORSB SE HA QUEDADO BLOQUEADO. NO PERMIT...   \n",
       "2             PER2  DESDE PULSADORES NO SE PUEDE SUBIR LA PERSIANA...   \n",
       "3  RINT040015BKMTE  REJILLA MOTORIZADA DEFECTUOSA, SUSTITUIR  Rafa...   \n",
       "4     AZAMFANCOILC  MODULO DE FANCOIL  DA PROBLEMAS LAS COMUNICACI...   \n",
       "\n",
       "         CODART_A3           CODART  \\\n",
       "0             MATS             MATS   \n",
       "1      AZATACTORSB      AZATACTORSB   \n",
       "2             PER2             PER2   \n",
       "3  RINT040015BKMTE  RINT040015BKMTE   \n",
       "4     AZAMFANCOILC     AZAMFANCOILC   \n",
       "\n",
       "                                             DESCART  CAR1   CAR2  CAR3  CAR4  \\\n",
       "0           Central de alarmas técnicas multifunción   3.0  265.0  94.0   NaN   \n",
       "1   Termostato Tacto superficie radio (AZA) - Blanco   1.0  251.0  91.0   4.0   \n",
       "2      Módulo de control de 2 persianas con pulsador   3.0  265.0  94.0   NaN   \n",
       "3  Rejilla Inteligente doble Airzone motorizada 4...   1.0  264.0  31.0  92.0   \n",
       "4      Módulo de zona fancoil cableado Airzone (AZA)   1.0  251.0  95.0   NaN   \n",
       "\n",
       "            DESCCAR1             DESCCAR2            DESCCAR3 DESCCAR4  \\\n",
       "0            AT HOME              AT HOME  MODULOS DE CONTROL      NaN   \n",
       "1  SISTEMAS DE ZONAS       ACUAZONE (DI6)         TERMOSTATOS    TACTO   \n",
       "2            AT HOME              AT HOME  MODULOS DE CONTROL      NaN   \n",
       "3  SISTEMAS DE ZONAS  DIFUSION MOTORIZADA            REJILLAS     RINT   \n",
       "4  SISTEMAS DE ZONAS       ACUAZONE (DI6)     MODULOS DE ZONA      NaN   \n",
       "\n",
       "                                      processed_text  \\\n",
       "0  indican exclusivamente estropeado iban instala...   \n",
       "1  azatactorsb quedado bloqueado permite encender...   \n",
       "2  pulsadores subir persianas bajar comprobado en...   \n",
       "3  rejilla motorizada defectuosa sustituir rafael...   \n",
       "4  modulo fancoil problemas comunicaciones instal...   \n",
       "\n",
       "                                              vector  \n",
       "0  [0.12356957, 0.2817981, -0.21627194, 0.3047181...  \n",
       "1  [-0.13428089, 0.25504455, -0.405886, 0.1774784...  \n",
       "2  [0.027900798, 0.06624766, -0.036185164, 0.0084...  \n",
       "3  [-0.19870485, -0.015116236, -0.035871435, 0.01...  \n",
       "4  [-0.11851523, 0.17887713, -0.23689334, 0.15147...  "
      ],
      "text/html": [
       "<div>\n",
       "<style scoped>\n",
       "    .dataframe tbody tr th:only-of-type {\n",
       "        vertical-align: middle;\n",
       "    }\n",
       "\n",
       "    .dataframe tbody tr th {\n",
       "        vertical-align: top;\n",
       "    }\n",
       "\n",
       "    .dataframe thead th {\n",
       "        text-align: right;\n",
       "    }\n",
       "</style>\n",
       "<table border=\"1\" class=\"dataframe\">\n",
       "  <thead>\n",
       "    <tr style=\"text-align: right;\">\n",
       "      <th></th>\n",
       "      <th>codigo</th>\n",
       "      <th>id_pieza</th>\n",
       "      <th>desc_problema_translated</th>\n",
       "      <th>descripcion_translated</th>\n",
       "      <th>problema_translated</th>\n",
       "      <th>cod_articulo</th>\n",
       "      <th>text_to_analyse</th>\n",
       "      <th>CODART_A3</th>\n",
       "      <th>CODART</th>\n",
       "      <th>DESCART</th>\n",
       "      <th>CAR1</th>\n",
       "      <th>CAR2</th>\n",
       "      <th>CAR3</th>\n",
       "      <th>CAR4</th>\n",
       "      <th>DESCCAR1</th>\n",
       "      <th>DESCCAR2</th>\n",
       "      <th>DESCCAR3</th>\n",
       "      <th>DESCCAR4</th>\n",
       "      <th>processed_text</th>\n",
       "      <th>vector</th>\n",
       "    </tr>\n",
       "  </thead>\n",
       "  <tbody>\n",
       "    <tr>\n",
       "      <th>0</th>\n",
       "      <td>YZ2YZZUU16</td>\n",
       "      <td>70.0</td>\n",
       "      <td>INDICAN EXCLUSIVAMENTE QUE SE HA ESTROPEADO LA...</td>\n",
       "      <td>MODULO ALARMAS TECNICAS</td>\n",
       "      <td>INDICAN SE HA  ESTROPEADO EN LA INSTALACION Y ...</td>\n",
       "      <td>MATS</td>\n",
       "      <td>INDICAN EXCLUSIVAMENTE QUE SE HA ESTROPEADO LA...</td>\n",
       "      <td>MATS</td>\n",
       "      <td>MATS</td>\n",
       "      <td>Central de alarmas técnicas multifunción</td>\n",
       "      <td>3.0</td>\n",
       "      <td>265.0</td>\n",
       "      <td>94.0</td>\n",
       "      <td>NaN</td>\n",
       "      <td>AT HOME</td>\n",
       "      <td>AT HOME</td>\n",
       "      <td>MODULOS DE CONTROL</td>\n",
       "      <td>NaN</td>\n",
       "      <td>indican exclusivamente estropeado iban instala...</td>\n",
       "      <td>[0.12356957, 0.2817981, -0.21627194, 0.3047181...</td>\n",
       "    </tr>\n",
       "    <tr>\n",
       "      <th>1</th>\n",
       "      <td>ZP2CZZYVBD</td>\n",
       "      <td>71.0</td>\n",
       "      <td>AZATACTORSB SE HA QUEDADO BLOQUEADO. NO PERMIT...</td>\n",
       "      <td>NaN</td>\n",
       "      <td>TACTO BLOQUEADO. NO ENCIENDE-APAGA NI DEJA CAM...</td>\n",
       "      <td>AZATACTORSB</td>\n",
       "      <td>AZATACTORSB SE HA QUEDADO BLOQUEADO. NO PERMIT...</td>\n",
       "      <td>AZATACTORSB</td>\n",
       "      <td>AZATACTORSB</td>\n",
       "      <td>Termostato Tacto superficie radio (AZA) - Blanco</td>\n",
       "      <td>1.0</td>\n",
       "      <td>251.0</td>\n",
       "      <td>91.0</td>\n",
       "      <td>4.0</td>\n",
       "      <td>SISTEMAS DE ZONAS</td>\n",
       "      <td>ACUAZONE (DI6)</td>\n",
       "      <td>TERMOSTATOS</td>\n",
       "      <td>TACTO</td>\n",
       "      <td>azatactorsb quedado bloqueado permite encender...</td>\n",
       "      <td>[-0.13428089, 0.25504455, -0.405886, 0.1774784...</td>\n",
       "    </tr>\n",
       "    <tr>\n",
       "      <th>2</th>\n",
       "      <td>YPUEA5WZ10</td>\n",
       "      <td>67.0</td>\n",
       "      <td>DESDE PULSADORES NO SE PUEDE SUBIR LA PERSIANA...</td>\n",
       "      <td>MODELO 2 PERSIANAS</td>\n",
       "      <td>UNA DE LAS 2 PERSIANAS NO FUNCIONA CON PULSADO...</td>\n",
       "      <td>PER2</td>\n",
       "      <td>DESDE PULSADORES NO SE PUEDE SUBIR LA PERSIANA...</td>\n",
       "      <td>PER2</td>\n",
       "      <td>PER2</td>\n",
       "      <td>Módulo de control de 2 persianas con pulsador</td>\n",
       "      <td>3.0</td>\n",
       "      <td>265.0</td>\n",
       "      <td>94.0</td>\n",
       "      <td>NaN</td>\n",
       "      <td>AT HOME</td>\n",
       "      <td>AT HOME</td>\n",
       "      <td>MODULOS DE CONTROL</td>\n",
       "      <td>NaN</td>\n",
       "      <td>pulsadores subir persianas bajar comprobado en...</td>\n",
       "      <td>[0.027900798, 0.06624766, -0.036185164, 0.0084...</td>\n",
       "    </tr>\n",
       "    <tr>\n",
       "      <th>3</th>\n",
       "      <td>ZPWBA5ETF7</td>\n",
       "      <td>72.0</td>\n",
       "      <td>REJILLA MOTORIZADA DEFECTUOSA, SUSTITUIR</td>\n",
       "      <td>NaN</td>\n",
       "      <td>Rafael  el viernes llego mi pedido nº 23349 pa...</td>\n",
       "      <td>RINT040015BKMTE</td>\n",
       "      <td>REJILLA MOTORIZADA DEFECTUOSA, SUSTITUIR  Rafa...</td>\n",
       "      <td>RINT040015BKMTE</td>\n",
       "      <td>RINT040015BKMTE</td>\n",
       "      <td>Rejilla Inteligente doble Airzone motorizada 4...</td>\n",
       "      <td>1.0</td>\n",
       "      <td>264.0</td>\n",
       "      <td>31.0</td>\n",
       "      <td>92.0</td>\n",
       "      <td>SISTEMAS DE ZONAS</td>\n",
       "      <td>DIFUSION MOTORIZADA</td>\n",
       "      <td>REJILLAS</td>\n",
       "      <td>RINT</td>\n",
       "      <td>rejilla motorizada defectuosa sustituir rafael...</td>\n",
       "      <td>[-0.19870485, -0.015116236, -0.035871435, 0.01...</td>\n",
       "    </tr>\n",
       "    <tr>\n",
       "      <th>4</th>\n",
       "      <td>ZP2CAPUAA9</td>\n",
       "      <td>74.0</td>\n",
       "      <td>MODULO DE FANCOIL  DA PROBLEMAS LAS COMUNICACI...</td>\n",
       "      <td>AZAMFANCOILC</td>\n",
       "      <td>MODULO DE FANCOIL DE ZONA 32Z</td>\n",
       "      <td>AZAMFANCOILC</td>\n",
       "      <td>MODULO DE FANCOIL  DA PROBLEMAS LAS COMUNICACI...</td>\n",
       "      <td>AZAMFANCOILC</td>\n",
       "      <td>AZAMFANCOILC</td>\n",
       "      <td>Módulo de zona fancoil cableado Airzone (AZA)</td>\n",
       "      <td>1.0</td>\n",
       "      <td>251.0</td>\n",
       "      <td>95.0</td>\n",
       "      <td>NaN</td>\n",
       "      <td>SISTEMAS DE ZONAS</td>\n",
       "      <td>ACUAZONE (DI6)</td>\n",
       "      <td>MODULOS DE ZONA</td>\n",
       "      <td>NaN</td>\n",
       "      <td>modulo fancoil problemas comunicaciones instal...</td>\n",
       "      <td>[-0.11851523, 0.17887713, -0.23689334, 0.15147...</td>\n",
       "    </tr>\n",
       "  </tbody>\n",
       "</table>\n",
       "</div>"
      ]
     },
     "execution_count": 46,
     "metadata": {},
     "output_type": "execute_result"
    }
   ],
   "execution_count": 46
  },
  {
   "metadata": {
    "ExecuteTime": {
     "end_time": "2024-05-13T12:03:22.112800Z",
     "start_time": "2024-05-13T12:03:22.078625Z"
    }
   },
   "cell_type": "code",
   "source": "text_to_analyse.sample(20)[['text_to_analyse', 'processed_text', 'vector']]",
   "id": "e379b2bba9b63261",
   "outputs": [
    {
     "data": {
      "text/plain": [
       "                                         text_to_analyse  \\\n",
       "29882   MOTOR COMPUERTA CIRCULAR REG. CAUDAL IONIZACI...   \n",
       "17785  3 TERMOSTATOS BLUEFACE AZDI6BLUEFACECB QUEDAN ...   \n",
       "15688  Se queda la pantalla en negro. Termostato inte...   \n",
       "2750   línea directa de expedientes 14246 carta línea...   \n",
       "1993   Rejilla motorizada no abre rejilla triple moto...   \n",
       "23461  STech254930\\r\\nBOLETO N° 57829 Antena de radio...   \n",
       "5682   Ha dejado de funcionar MODULO DE 2 PERSIANAS C...   \n",
       "30201  GARANTIA REJILLA RINT030015BKMRE S/N: 000D2KTX...   \n",
       "13990  DOS BLUEFACE FLEXA3.0, UNO ESTÁ CON LA PANTALL...   \n",
       "19908  LA PASARELA DE COMUNICACIÓN DE MITSUBITSHI ELE...   \n",
       "30153    BOLETO 230901492 AZCE6IBPRO6E Central de sis...   \n",
       "4573   NO FUNCIONA EL TACTIL BALNCO CABLE LITE NO FUN...   \n",
       "13458  Tenemos un motor de compuerta defectuoso, enví...   \n",
       "22856  ACTUALIZACIÓN DE SOFTWARE MEDIANTE TARJETA WIF...   \n",
       "28884  NO CONECTA CON EL HUB MODULO GESTION DE MODO N...   \n",
       "29134  VER BOLETO  VER BOLETO TMICORD- T MAESTRO INNO...   \n",
       "10496  SAV PENSAR EN LA RADIO SAV AZCE6THINKRB Termos...   \n",
       "3308   Se bloquea AZCE6BLUEFACECCB Se bloquea C100060...   \n",
       "21111  DEVOLUCIÓN DE MATERIAL DE ASISTENCIA  LA TEMPE...   \n",
       "6596   no funciona PASARELA FUJITSU NO FUNCIONA AZX6Q...   \n",
       "\n",
       "                                          processed_text  \\\n",
       "29882  motor compuerta circular reg caudal ionizacion...   \n",
       "17785  3 termostatos blueface azdi6bluefacecb quedan ...   \n",
       "15688  queda pantalla negro termostato inteligente bl...   \n",
       "2750   línea directa expedientes 14246 carta línea di...   \n",
       "1993   rejilla motorizada abre rejilla triple motoriz...   \n",
       "23461  stech254930 boleto n ° 57829 antena radio repu...   \n",
       "5682   dejado funcionar modulo 2 persianas pulsador d...   \n",
       "30201  garantia rejilla rint030015bkmre s n 000d2ktx ...   \n",
       "13990  blueface flexa3.0 pantalla blanco responde tac...   \n",
       "19908  pasarela comunicación mitsubitshi electric com...   \n",
       "30153  boleto 230901492 azce6ibpro6e central sistema ...   \n",
       "4573   funciona tactil balnco cable lite funciona tac...   \n",
       "13458  motor compuerta defectuoso envíenos motor reen...   \n",
       "22856  actualización software tarjeta wifi carta wifi...   \n",
       "28884  conecta hub modulo gestion conecta hub azx6ccp...   \n",
       "29134  boleto boleto tmicord- t maestro innobus cordl...   \n",
       "10496  sav pensar radio sav azce6thinkrb termostato r...   \n",
       "3308   bloquea azce6bluefaceccb bloquea c1000600 film...   \n",
       "21111  devolución material asistencia temperatura sie...   \n",
       "6596   funciona pasarela fujitsu funciona azx6qadaptf...   \n",
       "\n",
       "                                                  vector  \n",
       "29882  [-0.047765613, -0.051677246, 0.091167524, 0.00...  \n",
       "17785  [-0.27117088, 0.038511176, -0.090029016, 0.000...  \n",
       "15688  [-0.18633457, 0.025378177, -0.15584484, 0.0938...  \n",
       "2750   [-0.10982038, 0.057893682, -0.11215552, 0.2319...  \n",
       "1993   [-0.090225615, -0.018484138, -0.042217854, 0.0...  \n",
       "23461  [-0.1481104, 0.014739713, -0.16474682, -0.0703...  \n",
       "5682   [0.015113751, 0.21781668, -0.39325976, -0.0775...  \n",
       "30201  [-0.015580032, -0.23742937, -0.048506454, 0.09...  \n",
       "13990  [-0.45100603, 0.43577302, 0.011986234, 0.12945...  \n",
       "19908  [0.029071387, 0.04472198, -0.13551548, 0.17923...  \n",
       "30153  [-0.036002386, 0.040140573, -0.14548759, 0.137...  \n",
       "4573   [-0.24384794, 0.21698184, -0.19516407, 0.15805...  \n",
       "13458  [0.08495038, 0.0348188, 0.27204305, 0.06211743...  \n",
       "22856  [-0.22290294, -0.04849317, 0.027375918, 0.2855...  \n",
       "28884  [0.05237555, 0.111216076, -0.36625814, 0.10903...  \n",
       "29134  [0.13405247, 0.092933916, -0.2392869, -0.01143...  \n",
       "10496  [-0.24840894, 0.13912788, -0.028030908, 0.2184...  \n",
       "3308   [-0.009108022, 0.064805955, -0.012015533, 0.01...  \n",
       "21111  [-0.37278202, -0.06575694, -0.027782638, 0.199...  \n",
       "6596   [-0.20235744, 0.06889822, -0.12418462, 0.05933...  "
      ],
      "text/html": [
       "<div>\n",
       "<style scoped>\n",
       "    .dataframe tbody tr th:only-of-type {\n",
       "        vertical-align: middle;\n",
       "    }\n",
       "\n",
       "    .dataframe tbody tr th {\n",
       "        vertical-align: top;\n",
       "    }\n",
       "\n",
       "    .dataframe thead th {\n",
       "        text-align: right;\n",
       "    }\n",
       "</style>\n",
       "<table border=\"1\" class=\"dataframe\">\n",
       "  <thead>\n",
       "    <tr style=\"text-align: right;\">\n",
       "      <th></th>\n",
       "      <th>text_to_analyse</th>\n",
       "      <th>processed_text</th>\n",
       "      <th>vector</th>\n",
       "    </tr>\n",
       "  </thead>\n",
       "  <tbody>\n",
       "    <tr>\n",
       "      <th>29882</th>\n",
       "      <td>MOTOR COMPUERTA CIRCULAR REG. CAUDAL IONIZACI...</td>\n",
       "      <td>motor compuerta circular reg caudal ionizacion...</td>\n",
       "      <td>[-0.047765613, -0.051677246, 0.091167524, 0.00...</td>\n",
       "    </tr>\n",
       "    <tr>\n",
       "      <th>17785</th>\n",
       "      <td>3 TERMOSTATOS BLUEFACE AZDI6BLUEFACECB QUEDAN ...</td>\n",
       "      <td>3 termostatos blueface azdi6bluefacecb quedan ...</td>\n",
       "      <td>[-0.27117088, 0.038511176, -0.090029016, 0.000...</td>\n",
       "    </tr>\n",
       "    <tr>\n",
       "      <th>15688</th>\n",
       "      <td>Se queda la pantalla en negro. Termostato inte...</td>\n",
       "      <td>queda pantalla negro termostato inteligente bl...</td>\n",
       "      <td>[-0.18633457, 0.025378177, -0.15584484, 0.0938...</td>\n",
       "    </tr>\n",
       "    <tr>\n",
       "      <th>2750</th>\n",
       "      <td>línea directa de expedientes 14246 carta línea...</td>\n",
       "      <td>línea directa expedientes 14246 carta línea di...</td>\n",
       "      <td>[-0.10982038, 0.057893682, -0.11215552, 0.2319...</td>\n",
       "    </tr>\n",
       "    <tr>\n",
       "      <th>1993</th>\n",
       "      <td>Rejilla motorizada no abre rejilla triple moto...</td>\n",
       "      <td>rejilla motorizada abre rejilla triple motoriz...</td>\n",
       "      <td>[-0.090225615, -0.018484138, -0.042217854, 0.0...</td>\n",
       "    </tr>\n",
       "    <tr>\n",
       "      <th>23461</th>\n",
       "      <td>STech254930\\r\\nBOLETO N° 57829 Antena de radio...</td>\n",
       "      <td>stech254930 boleto n ° 57829 antena radio repu...</td>\n",
       "      <td>[-0.1481104, 0.014739713, -0.16474682, -0.0703...</td>\n",
       "    </tr>\n",
       "    <tr>\n",
       "      <th>5682</th>\n",
       "      <td>Ha dejado de funcionar MODULO DE 2 PERSIANAS C...</td>\n",
       "      <td>dejado funcionar modulo 2 persianas pulsador d...</td>\n",
       "      <td>[0.015113751, 0.21781668, -0.39325976, -0.0775...</td>\n",
       "    </tr>\n",
       "    <tr>\n",
       "      <th>30201</th>\n",
       "      <td>GARANTIA REJILLA RINT030015BKMRE S/N: 000D2KTX...</td>\n",
       "      <td>garantia rejilla rint030015bkmre s n 000d2ktx ...</td>\n",
       "      <td>[-0.015580032, -0.23742937, -0.048506454, 0.09...</td>\n",
       "    </tr>\n",
       "    <tr>\n",
       "      <th>13990</th>\n",
       "      <td>DOS BLUEFACE FLEXA3.0, UNO ESTÁ CON LA PANTALL...</td>\n",
       "      <td>blueface flexa3.0 pantalla blanco responde tac...</td>\n",
       "      <td>[-0.45100603, 0.43577302, 0.011986234, 0.12945...</td>\n",
       "    </tr>\n",
       "    <tr>\n",
       "      <th>19908</th>\n",
       "      <td>LA PASARELA DE COMUNICACIÓN DE MITSUBITSHI ELE...</td>\n",
       "      <td>pasarela comunicación mitsubitshi electric com...</td>\n",
       "      <td>[0.029071387, 0.04472198, -0.13551548, 0.17923...</td>\n",
       "    </tr>\n",
       "    <tr>\n",
       "      <th>30153</th>\n",
       "      <td>BOLETO 230901492 AZCE6IBPRO6E Central de sis...</td>\n",
       "      <td>boleto 230901492 azce6ibpro6e central sistema ...</td>\n",
       "      <td>[-0.036002386, 0.040140573, -0.14548759, 0.137...</td>\n",
       "    </tr>\n",
       "    <tr>\n",
       "      <th>4573</th>\n",
       "      <td>NO FUNCIONA EL TACTIL BALNCO CABLE LITE NO FUN...</td>\n",
       "      <td>funciona tactil balnco cable lite funciona tac...</td>\n",
       "      <td>[-0.24384794, 0.21698184, -0.19516407, 0.15805...</td>\n",
       "    </tr>\n",
       "    <tr>\n",
       "      <th>13458</th>\n",
       "      <td>Tenemos un motor de compuerta defectuoso, enví...</td>\n",
       "      <td>motor compuerta defectuoso envíenos motor reen...</td>\n",
       "      <td>[0.08495038, 0.0348188, 0.27204305, 0.06211743...</td>\n",
       "    </tr>\n",
       "    <tr>\n",
       "      <th>22856</th>\n",
       "      <td>ACTUALIZACIÓN DE SOFTWARE MEDIANTE TARJETA WIF...</td>\n",
       "      <td>actualización software tarjeta wifi carta wifi...</td>\n",
       "      <td>[-0.22290294, -0.04849317, 0.027375918, 0.2855...</td>\n",
       "    </tr>\n",
       "    <tr>\n",
       "      <th>28884</th>\n",
       "      <td>NO CONECTA CON EL HUB MODULO GESTION DE MODO N...</td>\n",
       "      <td>conecta hub modulo gestion conecta hub azx6ccp...</td>\n",
       "      <td>[0.05237555, 0.111216076, -0.36625814, 0.10903...</td>\n",
       "    </tr>\n",
       "    <tr>\n",
       "      <th>29134</th>\n",
       "      <td>VER BOLETO  VER BOLETO TMICORD- T MAESTRO INNO...</td>\n",
       "      <td>boleto boleto tmicord- t maestro innobus cordl...</td>\n",
       "      <td>[0.13405247, 0.092933916, -0.2392869, -0.01143...</td>\n",
       "    </tr>\n",
       "    <tr>\n",
       "      <th>10496</th>\n",
       "      <td>SAV PENSAR EN LA RADIO SAV AZCE6THINKRB Termos...</td>\n",
       "      <td>sav pensar radio sav azce6thinkrb termostato r...</td>\n",
       "      <td>[-0.24840894, 0.13912788, -0.028030908, 0.2184...</td>\n",
       "    </tr>\n",
       "    <tr>\n",
       "      <th>3308</th>\n",
       "      <td>Se bloquea AZCE6BLUEFACECCB Se bloquea C100060...</td>\n",
       "      <td>bloquea azce6bluefaceccb bloquea c1000600 film...</td>\n",
       "      <td>[-0.009108022, 0.064805955, -0.012015533, 0.01...</td>\n",
       "    </tr>\n",
       "    <tr>\n",
       "      <th>21111</th>\n",
       "      <td>DEVOLUCIÓN DE MATERIAL DE ASISTENCIA  LA TEMPE...</td>\n",
       "      <td>devolución material asistencia temperatura sie...</td>\n",
       "      <td>[-0.37278202, -0.06575694, -0.027782638, 0.199...</td>\n",
       "    </tr>\n",
       "    <tr>\n",
       "      <th>6596</th>\n",
       "      <td>no funciona PASARELA FUJITSU NO FUNCIONA AZX6Q...</td>\n",
       "      <td>funciona pasarela fujitsu funciona azx6qadaptf...</td>\n",
       "      <td>[-0.20235744, 0.06889822, -0.12418462, 0.05933...</td>\n",
       "    </tr>\n",
       "  </tbody>\n",
       "</table>\n",
       "</div>"
      ]
     },
     "execution_count": 47,
     "metadata": {},
     "output_type": "execute_result"
    }
   ],
   "execution_count": 47
  }
 ],
 "metadata": {
  "kernelspec": {
   "display_name": "Python 3",
   "language": "python",
   "name": "python3"
  },
  "language_info": {
   "codemirror_mode": {
    "name": "ipython",
    "version": 2
   },
   "file_extension": ".py",
   "mimetype": "text/x-python",
   "name": "python",
   "nbconvert_exporter": "python",
   "pygments_lexer": "ipython2",
   "version": "2.7.6"
  }
 },
 "nbformat": 4,
 "nbformat_minor": 5
}
