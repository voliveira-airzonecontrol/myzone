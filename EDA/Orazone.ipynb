{
 "cells": [
  {
   "cell_type": "code",
   "id": "initial_id",
   "metadata": {
    "collapsed": true,
    "ExecuteTime": {
     "end_time": "2024-05-22T13:30:49.962923Z",
     "start_time": "2024-05-22T13:30:49.020301Z"
    }
   },
   "source": [
    "import os\n",
    "import pandas as pd\n",
    "from src.db.connections import OracleConnector"
   ],
   "execution_count": 1,
   "outputs": []
  },
  {
   "metadata": {
    "ExecuteTime": {
     "end_time": "2024-05-22T13:30:51.930592Z",
     "start_time": "2024-05-22T13:30:50.480491Z"
    }
   },
   "cell_type": "code",
   "source": [
    "conn = OracleConnector(\n",
    "    user=\"voliveira\",\n",
    "    password=os.getenv(\"ORACLE_PASSWORD\"),\n",
    "    host=\"192.168.0.49\",\n",
    "    port=\"1521\",\n",
    ")\n",
    "\n",
    "# Example\n",
    "articulos = conn.query_data(query=\"SELECT * FROM AIRZONE.ARTICULOS\", database=\"ORCL\")"
   ],
   "id": "5a1dd6cf0a02a242",
   "execution_count": 2,
   "outputs": []
  },
  {
   "metadata": {
    "ExecuteTime": {
     "end_time": "2024-05-22T13:31:06.140644Z",
     "start_time": "2024-05-22T13:31:06.114Z"
    }
   },
   "cell_type": "code",
   "source": "articulos.sample(10)",
   "id": "d19daa92fa44153",
   "execution_count": 3,
   "outputs": []
  },
  {
   "metadata": {},
   "cell_type": "code",
   "execution_count": null,
   "source": "",
   "id": "66cc02ffe9268bc9",
   "outputs": []
  }
 ],
 "metadata": {
  "kernelspec": {
   "display_name": "Python 3",
   "language": "python",
   "name": "python3"
  },
  "language_info": {
   "codemirror_mode": {
    "name": "ipython",
    "version": 2
   },
   "file_extension": ".py",
   "mimetype": "text/x-python",
   "name": "python",
   "nbconvert_exporter": "python",
   "pygments_lexer": "ipython2",
   "version": "2.7.6"
  }
 },
 "nbformat": 4,
 "nbformat_minor": 5
}
