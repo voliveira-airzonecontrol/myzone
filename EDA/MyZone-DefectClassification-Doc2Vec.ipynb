{
 "cells": [
  {
   "metadata": {},
   "cell_type": "markdown",
   "source": "# After sales text clustering using Doc2Vec",
   "id": "c3170d13a92177dd"
  },
  {
   "metadata": {},
   "cell_type": "markdown",
   "source": "## Data preprocessing (Merging the translated text)",
   "id": "a7948d9724b0c8ff"
  },
  {
   "metadata": {
    "ExecuteTime": {
     "end_time": "2024-05-09T05:35:21.556603Z",
     "start_time": "2024-05-09T05:35:18.461862Z"
    }
   },
   "cell_type": "code",
   "source": [
    "import os\n",
    "import pandas as pd\n",
    "pd.options.mode.chained_assignment = None\n",
    "import numpy as np\n",
    "import matplotlib.pyplot as plt\n",
    "from sqlalchemy import create_engine"
   ],
   "id": "534c667474c59dac",
   "outputs": [],
   "execution_count": 2
  },
  {
   "metadata": {
    "ExecuteTime": {
     "end_time": "2024-05-08T07:41:02.177063Z",
     "start_time": "2024-05-08T07:41:02.170971Z"
    }
   },
   "cell_type": "code",
   "source": [
    "def query_data(query):\n",
    "    \"\"\"\n",
    "    Function to query data from the database using sqlalchemy\n",
    "    :param query: \n",
    "    :return: pd.DataFrame\n",
    "    \n",
    "    Connection parameters:\n",
    "    user = readmyzone\n",
    "    password = (get from environment variable MYSQL_PASSWORD)\n",
    "    host = 192.168.2.7\n",
    "    port = 3306\n",
    "    \"\"\"\n",
    "    \n",
    "    # Create the connection string\n",
    "    user = 'readmyzone'\n",
    "    password = os.environ.get('MYSQL_PASSWORD')\n",
    "    host = '192.168.2.7'\n",
    "    port = '3306'\n",
    "    db = 'myzone'\n",
    "    connection_string = f'mysql+pymysql://{user}:{password}@{host}:{port}/{db}'\n",
    "    \n",
    "    # Create the engine\n",
    "    engine = create_engine(connection_string)\n",
    "    \n",
    "    try:\n",
    "        # Query the data\n",
    "        data = pd.read_sql(query, engine)\n",
    "    except Exception as e:\n",
    "        print(e)\n",
    "        data = None\n",
    "    \n",
    "    return data"
   ],
   "id": "3c4813864c62b44",
   "outputs": [],
   "execution_count": 2
  },
  {
   "metadata": {},
   "cell_type": "markdown",
   "source": "## Load the data",
   "id": "218de97c29b240cf"
  },
  {
   "metadata": {
    "ExecuteTime": {
     "end_time": "2024-05-08T07:41:05.726127Z",
     "start_time": "2024-05-08T07:41:02.178072Z"
    }
   },
   "cell_type": "code",
   "source": [
    "sav_incidencias = query_data('SELECT * FROM sav_incidencias')\n",
    "sav_piezas = query_data('SELECT * FROM sav_piezas')\n",
    "sav_estados = query_data('SELECT * FROM sav_estados')\n",
    "sav_incidencias_tipo = query_data('SELECT * FROM sav_incidencias_tipo')"
   ],
   "id": "9f3380d21dc06f50",
   "outputs": [],
   "execution_count": 3
  },
  {
   "metadata": {
    "ExecuteTime": {
     "end_time": "2024-05-08T07:41:06.058677Z",
     "start_time": "2024-05-08T07:41:05.726127Z"
    }
   },
   "cell_type": "code",
   "source": [
    "dataset = sav_incidencias.merge(sav_piezas, left_on='codigo', right_on='codigo_incidencia', how='left', suffixes=(None, '_pieza'))\n",
    "dataset = dataset.merge(sav_estados, left_on='estado', right_on='id', how='left', suffixes=(None, '_estado'))\n",
    "dataset = dataset.merge(sav_incidencias_tipo, left_on='tipo', right_on='id', how='left', suffixes=(None, '_tipo'))"
   ],
   "id": "3fba68b913e20271",
   "outputs": [],
   "execution_count": 4
  },
  {
   "metadata": {
    "ExecuteTime": {
     "end_time": "2024-05-08T07:41:06.083854Z",
     "start_time": "2024-05-08T07:41:06.058677Z"
    }
   },
   "cell_type": "code",
   "source": "clean_dataset = dataset[(dataset[\"tipo\"] == 1) & (dataset[\"estado\"].isin([2,6]))]",
   "id": "747b38221b0cd88a",
   "outputs": [],
   "execution_count": 5
  },
  {
   "metadata": {
    "ExecuteTime": {
     "end_time": "2024-05-08T07:41:06.251338Z",
     "start_time": "2024-05-08T07:41:06.083854Z"
    }
   },
   "cell_type": "code",
   "source": [
    "# Load from disk the text to translate dictionary\n",
    "fields_to_translate = [\"desc_problema\", \"problema\", \"descripcion\"]\n",
    "text_to_translate = {}\n",
    "for text in fields_to_translate:\n",
    "    text_to_translate[text] = pd.read_csv(f\"../DATA/{text}.csv\", sep='¬', encoding='utf-8-sig')"
   ],
   "id": "c3937fd76dc1bf76",
   "outputs": [
    {
     "name": "stderr",
     "output_type": "stream",
     "text": [
      "C:\\Users\\voliveira\\AppData\\Local\\Temp\\ipykernel_12524\\1421433580.py:5: ParserWarning: Falling back to the 'python' engine because the separator encoded in utf-8 is > 1 char long, and the 'c' engine does not support such separators; you can avoid this warning by specifying engine='python'.\n",
      "  text_to_translate[text] = pd.read_csv(f\"../DATA/{text}.csv\", sep='¬', encoding='utf-8-sig')\n",
      "C:\\Users\\voliveira\\AppData\\Local\\Temp\\ipykernel_12524\\1421433580.py:5: ParserWarning: Falling back to the 'python' engine because the separator encoded in utf-8 is > 1 char long, and the 'c' engine does not support such separators; you can avoid this warning by specifying engine='python'.\n",
      "  text_to_translate[text] = pd.read_csv(f\"../DATA/{text}.csv\", sep='¬', encoding='utf-8-sig')\n",
      "C:\\Users\\voliveira\\AppData\\Local\\Temp\\ipykernel_12524\\1421433580.py:5: ParserWarning: Falling back to the 'python' engine because the separator encoded in utf-8 is > 1 char long, and the 'c' engine does not support such separators; you can avoid this warning by specifying engine='python'.\n",
      "  text_to_translate[text] = pd.read_csv(f\"../DATA/{text}.csv\", sep='¬', encoding='utf-8-sig')\n"
     ]
    }
   ],
   "execution_count": 6
  },
  {
   "cell_type": "code",
   "id": "initial_id",
   "metadata": {
    "collapsed": true,
    "ExecuteTime": {
     "end_time": "2024-05-08T07:41:06.370827Z",
     "start_time": "2024-05-08T07:41:06.251338Z"
    }
   },
   "source": [
    "desc_problema_translated = pd.read_csv(\"../DATA/desc_problema_translated.csv\", sep='¬', encoding='utf-8-sig', engine='python')\n",
    "descripcion_translated = pd.read_csv(\"../DATA/descripcion_translated.csv\", sep='¬', encoding='utf-8-sig', engine='python')\n",
    "problema_translated = pd.read_csv(\"../DATA/problema_translated.csv\", sep='¬', encoding='utf-8-sig', engine='python')# Data preprocessing (Merging the translated text)"
   ],
   "outputs": [],
   "execution_count": 7
  },
  {
   "metadata": {
    "ExecuteTime": {
     "end_time": "2024-05-08T07:41:06.381477Z",
     "start_time": "2024-05-08T07:41:06.370827Z"
    }
   },
   "cell_type": "code",
   "source": [
    "# Delete rows with values (desc_problema, desc_problema_translated)\n",
    "desc_problema_translated = desc_problema_translated[~desc_problema_translated[\"desc_problema_translated\"].isin([\"desc_problema_translated\"])]\n",
    "descripcion_translated = descripcion_translated[~descripcion_translated[\"descripcion_translated\"].isin([\"descripcion_translated\"])]\n",
    "problema_translated = problema_translated[~problema_translated[\"problema_translated\"].isin([\"problema_translated\"])]"
   ],
   "id": "5728490c1ef98641",
   "outputs": [],
   "execution_count": 8
  },
  {
   "metadata": {
    "ExecuteTime": {
     "end_time": "2024-05-08T07:41:06.391779Z",
     "start_time": "2024-05-08T07:41:06.381477Z"
    }
   },
   "cell_type": "code",
   "source": "desc_problema_translated.count()",
   "id": "964c516475bc565b",
   "outputs": [
    {
     "data": {
      "text/plain": [
       "desc_problema               18099\n",
       "desc_problema_translated    18099\n",
       "dtype: int64"
      ]
     },
     "execution_count": 9,
     "metadata": {},
     "output_type": "execute_result"
    }
   ],
   "execution_count": 9
  },
  {
   "metadata": {
    "ExecuteTime": {
     "end_time": "2024-05-08T07:41:06.428104Z",
     "start_time": "2024-05-08T07:41:06.391779Z"
    }
   },
   "cell_type": "code",
   "source": [
    "# Merge the translated text with the text_to_translate dataframe\n",
    "desc_problema_translated = text_to_translate[\"desc_problema\"].merge(desc_problema_translated, left_on=\"desc_problema\", right_on=\"desc_problema\", how=\"left\")\n",
    "descripcion_translated = text_to_translate[\"descripcion\"].merge(descripcion_translated, left_on=\"descripcion\", right_on=\"descripcion\", how=\"left\")\n",
    "problema_translated = text_to_translate[\"problema\"].merge(problema_translated, left_on=\"problema\", right_on=\"problema\", how=\"left\")"
   ],
   "id": "c6ef16434e7aa400",
   "outputs": [],
   "execution_count": 10
  },
  {
   "metadata": {
    "ExecuteTime": {
     "end_time": "2024-05-08T07:41:06.442136Z",
     "start_time": "2024-05-08T07:41:06.428104Z"
    }
   },
   "cell_type": "code",
   "source": [
    "# Fill NA with the original texts\n",
    "desc_problema_translated.fillna({\"desc_problema_translated\": desc_problema_translated[\"desc_problema\"]}, inplace=True)\n",
    "descripcion_translated.fillna({\"descripcion_translated\": descripcion_translated[\"descripcion\"]}, inplace=True)\n",
    "problema_translated.fillna({\"problema_translated\": problema_translated[\"problema\"]}, inplace=True)"
   ],
   "id": "f192011f1cb44460",
   "outputs": [],
   "execution_count": 11
  },
  {
   "metadata": {
    "ExecuteTime": {
     "end_time": "2024-05-08T07:41:06.450996Z",
     "start_time": "2024-05-08T07:41:06.442136Z"
    }
   },
   "cell_type": "code",
   "source": "desc_problema_translated.head(5)",
   "id": "441411c8ce3affdc",
   "outputs": [
    {
     "data": {
      "text/plain": [
       "                                       desc_problema desc_problema_lg  \\\n",
       "0  INDICAN EXCLUSIVAMENTE QUE SE HA ESTROPEADO LA...               es   \n",
       "1                                        NO FUNCIONA               es   \n",
       "2  AZATACTORSB SE HA QUEDADO BLOQUEADO. NO PERMIT...               es   \n",
       "3  DESDE PULSADORES NO SE PUEDE SUBIR LA PERSIANA...               es   \n",
       "4           REJILLA MOTORIZADA DEFECTUOSA, SUSTITUIR               es   \n",
       "\n",
       "                            desc_problema_translated  \n",
       "0  INDICAN EXCLUSIVAMENTE QUE SE HA ESTROPEADO LA...  \n",
       "1                                        NO FUNCIONA  \n",
       "2  AZATACTORSB SE HA QUEDADO BLOQUEADO. NO PERMIT...  \n",
       "3  DESDE PULSADORES NO SE PUEDE SUBIR LA PERSIANA...  \n",
       "4           REJILLA MOTORIZADA DEFECTUOSA, SUSTITUIR  "
      ],
      "text/html": [
       "<div>\n",
       "<style scoped>\n",
       "    .dataframe tbody tr th:only-of-type {\n",
       "        vertical-align: middle;\n",
       "    }\n",
       "\n",
       "    .dataframe tbody tr th {\n",
       "        vertical-align: top;\n",
       "    }\n",
       "\n",
       "    .dataframe thead th {\n",
       "        text-align: right;\n",
       "    }\n",
       "</style>\n",
       "<table border=\"1\" class=\"dataframe\">\n",
       "  <thead>\n",
       "    <tr style=\"text-align: right;\">\n",
       "      <th></th>\n",
       "      <th>desc_problema</th>\n",
       "      <th>desc_problema_lg</th>\n",
       "      <th>desc_problema_translated</th>\n",
       "    </tr>\n",
       "  </thead>\n",
       "  <tbody>\n",
       "    <tr>\n",
       "      <th>0</th>\n",
       "      <td>INDICAN EXCLUSIVAMENTE QUE SE HA ESTROPEADO LA...</td>\n",
       "      <td>es</td>\n",
       "      <td>INDICAN EXCLUSIVAMENTE QUE SE HA ESTROPEADO LA...</td>\n",
       "    </tr>\n",
       "    <tr>\n",
       "      <th>1</th>\n",
       "      <td>NO FUNCIONA</td>\n",
       "      <td>es</td>\n",
       "      <td>NO FUNCIONA</td>\n",
       "    </tr>\n",
       "    <tr>\n",
       "      <th>2</th>\n",
       "      <td>AZATACTORSB SE HA QUEDADO BLOQUEADO. NO PERMIT...</td>\n",
       "      <td>es</td>\n",
       "      <td>AZATACTORSB SE HA QUEDADO BLOQUEADO. NO PERMIT...</td>\n",
       "    </tr>\n",
       "    <tr>\n",
       "      <th>3</th>\n",
       "      <td>DESDE PULSADORES NO SE PUEDE SUBIR LA PERSIANA...</td>\n",
       "      <td>es</td>\n",
       "      <td>DESDE PULSADORES NO SE PUEDE SUBIR LA PERSIANA...</td>\n",
       "    </tr>\n",
       "    <tr>\n",
       "      <th>4</th>\n",
       "      <td>REJILLA MOTORIZADA DEFECTUOSA, SUSTITUIR</td>\n",
       "      <td>es</td>\n",
       "      <td>REJILLA MOTORIZADA DEFECTUOSA, SUSTITUIR</td>\n",
       "    </tr>\n",
       "  </tbody>\n",
       "</table>\n",
       "</div>"
      ]
     },
     "execution_count": 12,
     "metadata": {},
     "output_type": "execute_result"
    }
   ],
   "execution_count": 12
  },
  {
   "metadata": {
    "ExecuteTime": {
     "end_time": "2024-05-08T07:41:06.838135Z",
     "start_time": "2024-05-08T07:41:06.450996Z"
    }
   },
   "cell_type": "code",
   "source": [
    "# Merge the translated text with the original dataset\n",
    "clean_dataset = clean_dataset.merge(desc_problema_translated, left_on=\"desc_problema\", right_on=\"desc_problema\", how=\"left\")\n",
    "clean_dataset = clean_dataset.merge(descripcion_translated, left_on=\"descripcion\", right_on=\"descripcion\", how=\"left\")\n",
    "clean_dataset = clean_dataset.merge(problema_translated, left_on=\"problema\", right_on=\"problema\", how=\"left\")"
   ],
   "id": "614bfb6ace6e2944",
   "outputs": [],
   "execution_count": 13
  },
  {
   "metadata": {
    "ExecuteTime": {
     "end_time": "2024-05-08T07:41:06.847487Z",
     "start_time": "2024-05-08T07:41:06.838135Z"
    }
   },
   "cell_type": "code",
   "source": "clean_dataset[[\"desc_problema\"]].head(100)",
   "id": "70d9d42f4ba9cb1f",
   "outputs": [
    {
     "data": {
      "text/plain": [
       "                                        desc_problema\n",
       "0   INDICAN EXCLUSIVAMENTE QUE SE HA ESTROPEADO LA...\n",
       "1                                         NO FUNCIONA\n",
       "2   AZATACTORSB SE HA QUEDADO BLOQUEADO. NO PERMIT...\n",
       "3   DESDE PULSADORES NO SE PUEDE SUBIR LA PERSIANA...\n",
       "4            REJILLA MOTORIZADA DEFECTUOSA, SUSTITUIR\n",
       "..                                                ...\n",
       "95  por favor sacar este material a mi nombre, es ...\n",
       "96  por favor sacar este material a mi nombre, es ...\n",
       "97  Pasarela Daikin: unos 3 minutos despues de arr...\n",
       "98  Rejilla no funciona. Enviar una nueva retirar ...\n",
       "99  No funciona correctamente y le da error el sis...\n",
       "\n",
       "[100 rows x 1 columns]"
      ],
      "text/html": [
       "<div>\n",
       "<style scoped>\n",
       "    .dataframe tbody tr th:only-of-type {\n",
       "        vertical-align: middle;\n",
       "    }\n",
       "\n",
       "    .dataframe tbody tr th {\n",
       "        vertical-align: top;\n",
       "    }\n",
       "\n",
       "    .dataframe thead th {\n",
       "        text-align: right;\n",
       "    }\n",
       "</style>\n",
       "<table border=\"1\" class=\"dataframe\">\n",
       "  <thead>\n",
       "    <tr style=\"text-align: right;\">\n",
       "      <th></th>\n",
       "      <th>desc_problema</th>\n",
       "    </tr>\n",
       "  </thead>\n",
       "  <tbody>\n",
       "    <tr>\n",
       "      <th>0</th>\n",
       "      <td>INDICAN EXCLUSIVAMENTE QUE SE HA ESTROPEADO LA...</td>\n",
       "    </tr>\n",
       "    <tr>\n",
       "      <th>1</th>\n",
       "      <td>NO FUNCIONA</td>\n",
       "    </tr>\n",
       "    <tr>\n",
       "      <th>2</th>\n",
       "      <td>AZATACTORSB SE HA QUEDADO BLOQUEADO. NO PERMIT...</td>\n",
       "    </tr>\n",
       "    <tr>\n",
       "      <th>3</th>\n",
       "      <td>DESDE PULSADORES NO SE PUEDE SUBIR LA PERSIANA...</td>\n",
       "    </tr>\n",
       "    <tr>\n",
       "      <th>4</th>\n",
       "      <td>REJILLA MOTORIZADA DEFECTUOSA, SUSTITUIR</td>\n",
       "    </tr>\n",
       "    <tr>\n",
       "      <th>...</th>\n",
       "      <td>...</td>\n",
       "    </tr>\n",
       "    <tr>\n",
       "      <th>95</th>\n",
       "      <td>por favor sacar este material a mi nombre, es ...</td>\n",
       "    </tr>\n",
       "    <tr>\n",
       "      <th>96</th>\n",
       "      <td>por favor sacar este material a mi nombre, es ...</td>\n",
       "    </tr>\n",
       "    <tr>\n",
       "      <th>97</th>\n",
       "      <td>Pasarela Daikin: unos 3 minutos despues de arr...</td>\n",
       "    </tr>\n",
       "    <tr>\n",
       "      <th>98</th>\n",
       "      <td>Rejilla no funciona. Enviar una nueva retirar ...</td>\n",
       "    </tr>\n",
       "    <tr>\n",
       "      <th>99</th>\n",
       "      <td>No funciona correctamente y le da error el sis...</td>\n",
       "    </tr>\n",
       "  </tbody>\n",
       "</table>\n",
       "<p>100 rows × 1 columns</p>\n",
       "</div>"
      ]
     },
     "execution_count": 14,
     "metadata": {},
     "output_type": "execute_result"
    }
   ],
   "execution_count": 14
  },
  {
   "metadata": {
    "ExecuteTime": {
     "end_time": "2024-05-08T07:41:07.298762Z",
     "start_time": "2024-05-08T07:41:06.847487Z"
    }
   },
   "cell_type": "code",
   "source": "clean_dataset.describe(include='all')",
   "id": "e84856fdd0940ef1",
   "outputs": [
    {
     "data": {
      "text/plain": [
       "                  id        web_id      codigo        creation_date  \\\n",
       "count   44921.000000  44921.000000       44921                44921   \n",
       "unique           NaN           NaN       34755                34712   \n",
       "top              NaN           NaN  MPMAMZZN0E  2023-11-19 14:06:28   \n",
       "freq             NaN           NaN          38                   38   \n",
       "mean    31104.991274      1.636540         NaN                  NaN   \n",
       "min         5.000000      1.000000         NaN                  NaN   \n",
       "25%     17440.000000      1.000000         NaN                  NaN   \n",
       "50%     32141.000000      2.000000         NaN                  NaN   \n",
       "75%     45202.000000      2.000000         NaN                  NaN   \n",
       "max     58847.000000      5.000000         NaN                  NaN   \n",
       "std     16606.497447      0.566204         NaN                  NaN   \n",
       "\n",
       "          modification_date    company_id       user_id  \\\n",
       "count                 44921  44921.000000  44921.000000   \n",
       "unique                28509           NaN           NaN   \n",
       "top     0000-00-00 00:00:00           NaN           NaN   \n",
       "freq                   7736           NaN           NaN   \n",
       "mean                    NaN   1342.788785   2711.198704   \n",
       "min                     NaN      0.000000      1.000000   \n",
       "25%                     NaN    242.000000    469.000000   \n",
       "50%                     NaN    492.000000   1965.000000   \n",
       "75%                     NaN   1955.000000   4241.000000   \n",
       "max                     NaN   7667.000000  10289.000000   \n",
       "std                     NaN   1727.668528   2559.112591   \n",
       "\n",
       "                      ref_cliente  portes_airzone   devaluacion  ...  \\\n",
       "count                       44899    44921.000000  44921.000000  ...   \n",
       "unique                      29872             NaN           NaN  ...   \n",
       "top     RESO MATERIALE ASSISTENZE             NaN           NaN  ...   \n",
       "freq                          278             NaN           NaN  ...   \n",
       "mean                          NaN        0.999265      0.000445  ...   \n",
       "min                           NaN        0.000000      0.000000  ...   \n",
       "25%                           NaN        1.000000      0.000000  ...   \n",
       "50%                           NaN        1.000000      0.000000  ...   \n",
       "75%                           NaN        1.000000      0.000000  ...   \n",
       "max                           NaN        1.000000     20.000000  ...   \n",
       "std                           NaN        0.027094      0.094364  ...   \n",
       "\n",
       "       titulo_en_tipo titulo_fr_tipo titulo_it_tipo titulo_pt_tipo  \\\n",
       "count           44921          44921          44921              0   \n",
       "unique              1              1              1              0   \n",
       "top         guarantee       garantie       garanzia            NaN   \n",
       "freq            44921          44921          44921            NaN   \n",
       "mean              NaN            NaN            NaN            NaN   \n",
       "min               NaN            NaN            NaN            NaN   \n",
       "25%               NaN            NaN            NaN            NaN   \n",
       "50%               NaN            NaN            NaN            NaN   \n",
       "75%               NaN            NaN            NaN            NaN   \n",
       "max               NaN            NaN            NaN            NaN   \n",
       "std               NaN            NaN            NaN            NaN   \n",
       "\n",
       "        desc_problema_lg  desc_problema_translated descripcion_lg  \\\n",
       "count              42132                     42132          35132   \n",
       "unique                33                     28048             33   \n",
       "top                   es               NO FUNCIONA             en   \n",
       "freq               15028                       538           8609   \n",
       "mean                 NaN                       NaN            NaN   \n",
       "min                  NaN                       NaN            NaN   \n",
       "25%                  NaN                       NaN            NaN   \n",
       "50%                  NaN                       NaN            NaN   \n",
       "75%                  NaN                       NaN            NaN   \n",
       "max                  NaN                       NaN            NaN   \n",
       "std                  NaN                       NaN            NaN   \n",
       "\n",
       "        descripcion_translated  problema_lg problema_translated  \n",
       "count                    33316        44847               43031  \n",
       "unique                   11382           33               29737  \n",
       "top                 TERMOSTATO           es         NO FUNCIONA  \n",
       "freq                       735        14395                 952  \n",
       "mean                       NaN          NaN                 NaN  \n",
       "min                        NaN          NaN                 NaN  \n",
       "25%                        NaN          NaN                 NaN  \n",
       "50%                        NaN          NaN                 NaN  \n",
       "75%                        NaN          NaN                 NaN  \n",
       "max                        NaN          NaN                 NaN  \n",
       "std                        NaN          NaN                 NaN  \n",
       "\n",
       "[11 rows x 59 columns]"
      ],
      "text/html": [
       "<div>\n",
       "<style scoped>\n",
       "    .dataframe tbody tr th:only-of-type {\n",
       "        vertical-align: middle;\n",
       "    }\n",
       "\n",
       "    .dataframe tbody tr th {\n",
       "        vertical-align: top;\n",
       "    }\n",
       "\n",
       "    .dataframe thead th {\n",
       "        text-align: right;\n",
       "    }\n",
       "</style>\n",
       "<table border=\"1\" class=\"dataframe\">\n",
       "  <thead>\n",
       "    <tr style=\"text-align: right;\">\n",
       "      <th></th>\n",
       "      <th>id</th>\n",
       "      <th>web_id</th>\n",
       "      <th>codigo</th>\n",
       "      <th>creation_date</th>\n",
       "      <th>modification_date</th>\n",
       "      <th>company_id</th>\n",
       "      <th>user_id</th>\n",
       "      <th>ref_cliente</th>\n",
       "      <th>portes_airzone</th>\n",
       "      <th>devaluacion</th>\n",
       "      <th>...</th>\n",
       "      <th>titulo_en_tipo</th>\n",
       "      <th>titulo_fr_tipo</th>\n",
       "      <th>titulo_it_tipo</th>\n",
       "      <th>titulo_pt_tipo</th>\n",
       "      <th>desc_problema_lg</th>\n",
       "      <th>desc_problema_translated</th>\n",
       "      <th>descripcion_lg</th>\n",
       "      <th>descripcion_translated</th>\n",
       "      <th>problema_lg</th>\n",
       "      <th>problema_translated</th>\n",
       "    </tr>\n",
       "  </thead>\n",
       "  <tbody>\n",
       "    <tr>\n",
       "      <th>count</th>\n",
       "      <td>44921.000000</td>\n",
       "      <td>44921.000000</td>\n",
       "      <td>44921</td>\n",
       "      <td>44921</td>\n",
       "      <td>44921</td>\n",
       "      <td>44921.000000</td>\n",
       "      <td>44921.000000</td>\n",
       "      <td>44899</td>\n",
       "      <td>44921.000000</td>\n",
       "      <td>44921.000000</td>\n",
       "      <td>...</td>\n",
       "      <td>44921</td>\n",
       "      <td>44921</td>\n",
       "      <td>44921</td>\n",
       "      <td>0</td>\n",
       "      <td>42132</td>\n",
       "      <td>42132</td>\n",
       "      <td>35132</td>\n",
       "      <td>33316</td>\n",
       "      <td>44847</td>\n",
       "      <td>43031</td>\n",
       "    </tr>\n",
       "    <tr>\n",
       "      <th>unique</th>\n",
       "      <td>NaN</td>\n",
       "      <td>NaN</td>\n",
       "      <td>34755</td>\n",
       "      <td>34712</td>\n",
       "      <td>28509</td>\n",
       "      <td>NaN</td>\n",
       "      <td>NaN</td>\n",
       "      <td>29872</td>\n",
       "      <td>NaN</td>\n",
       "      <td>NaN</td>\n",
       "      <td>...</td>\n",
       "      <td>1</td>\n",
       "      <td>1</td>\n",
       "      <td>1</td>\n",
       "      <td>0</td>\n",
       "      <td>33</td>\n",
       "      <td>28048</td>\n",
       "      <td>33</td>\n",
       "      <td>11382</td>\n",
       "      <td>33</td>\n",
       "      <td>29737</td>\n",
       "    </tr>\n",
       "    <tr>\n",
       "      <th>top</th>\n",
       "      <td>NaN</td>\n",
       "      <td>NaN</td>\n",
       "      <td>MPMAMZZN0E</td>\n",
       "      <td>2023-11-19 14:06:28</td>\n",
       "      <td>0000-00-00 00:00:00</td>\n",
       "      <td>NaN</td>\n",
       "      <td>NaN</td>\n",
       "      <td>RESO MATERIALE ASSISTENZE</td>\n",
       "      <td>NaN</td>\n",
       "      <td>NaN</td>\n",
       "      <td>...</td>\n",
       "      <td>guarantee</td>\n",
       "      <td>garantie</td>\n",
       "      <td>garanzia</td>\n",
       "      <td>NaN</td>\n",
       "      <td>es</td>\n",
       "      <td>NO FUNCIONA</td>\n",
       "      <td>en</td>\n",
       "      <td>TERMOSTATO</td>\n",
       "      <td>es</td>\n",
       "      <td>NO FUNCIONA</td>\n",
       "    </tr>\n",
       "    <tr>\n",
       "      <th>freq</th>\n",
       "      <td>NaN</td>\n",
       "      <td>NaN</td>\n",
       "      <td>38</td>\n",
       "      <td>38</td>\n",
       "      <td>7736</td>\n",
       "      <td>NaN</td>\n",
       "      <td>NaN</td>\n",
       "      <td>278</td>\n",
       "      <td>NaN</td>\n",
       "      <td>NaN</td>\n",
       "      <td>...</td>\n",
       "      <td>44921</td>\n",
       "      <td>44921</td>\n",
       "      <td>44921</td>\n",
       "      <td>NaN</td>\n",
       "      <td>15028</td>\n",
       "      <td>538</td>\n",
       "      <td>8609</td>\n",
       "      <td>735</td>\n",
       "      <td>14395</td>\n",
       "      <td>952</td>\n",
       "    </tr>\n",
       "    <tr>\n",
       "      <th>mean</th>\n",
       "      <td>31104.991274</td>\n",
       "      <td>1.636540</td>\n",
       "      <td>NaN</td>\n",
       "      <td>NaN</td>\n",
       "      <td>NaN</td>\n",
       "      <td>1342.788785</td>\n",
       "      <td>2711.198704</td>\n",
       "      <td>NaN</td>\n",
       "      <td>0.999265</td>\n",
       "      <td>0.000445</td>\n",
       "      <td>...</td>\n",
       "      <td>NaN</td>\n",
       "      <td>NaN</td>\n",
       "      <td>NaN</td>\n",
       "      <td>NaN</td>\n",
       "      <td>NaN</td>\n",
       "      <td>NaN</td>\n",
       "      <td>NaN</td>\n",
       "      <td>NaN</td>\n",
       "      <td>NaN</td>\n",
       "      <td>NaN</td>\n",
       "    </tr>\n",
       "    <tr>\n",
       "      <th>min</th>\n",
       "      <td>5.000000</td>\n",
       "      <td>1.000000</td>\n",
       "      <td>NaN</td>\n",
       "      <td>NaN</td>\n",
       "      <td>NaN</td>\n",
       "      <td>0.000000</td>\n",
       "      <td>1.000000</td>\n",
       "      <td>NaN</td>\n",
       "      <td>0.000000</td>\n",
       "      <td>0.000000</td>\n",
       "      <td>...</td>\n",
       "      <td>NaN</td>\n",
       "      <td>NaN</td>\n",
       "      <td>NaN</td>\n",
       "      <td>NaN</td>\n",
       "      <td>NaN</td>\n",
       "      <td>NaN</td>\n",
       "      <td>NaN</td>\n",
       "      <td>NaN</td>\n",
       "      <td>NaN</td>\n",
       "      <td>NaN</td>\n",
       "    </tr>\n",
       "    <tr>\n",
       "      <th>25%</th>\n",
       "      <td>17440.000000</td>\n",
       "      <td>1.000000</td>\n",
       "      <td>NaN</td>\n",
       "      <td>NaN</td>\n",
       "      <td>NaN</td>\n",
       "      <td>242.000000</td>\n",
       "      <td>469.000000</td>\n",
       "      <td>NaN</td>\n",
       "      <td>1.000000</td>\n",
       "      <td>0.000000</td>\n",
       "      <td>...</td>\n",
       "      <td>NaN</td>\n",
       "      <td>NaN</td>\n",
       "      <td>NaN</td>\n",
       "      <td>NaN</td>\n",
       "      <td>NaN</td>\n",
       "      <td>NaN</td>\n",
       "      <td>NaN</td>\n",
       "      <td>NaN</td>\n",
       "      <td>NaN</td>\n",
       "      <td>NaN</td>\n",
       "    </tr>\n",
       "    <tr>\n",
       "      <th>50%</th>\n",
       "      <td>32141.000000</td>\n",
       "      <td>2.000000</td>\n",
       "      <td>NaN</td>\n",
       "      <td>NaN</td>\n",
       "      <td>NaN</td>\n",
       "      <td>492.000000</td>\n",
       "      <td>1965.000000</td>\n",
       "      <td>NaN</td>\n",
       "      <td>1.000000</td>\n",
       "      <td>0.000000</td>\n",
       "      <td>...</td>\n",
       "      <td>NaN</td>\n",
       "      <td>NaN</td>\n",
       "      <td>NaN</td>\n",
       "      <td>NaN</td>\n",
       "      <td>NaN</td>\n",
       "      <td>NaN</td>\n",
       "      <td>NaN</td>\n",
       "      <td>NaN</td>\n",
       "      <td>NaN</td>\n",
       "      <td>NaN</td>\n",
       "    </tr>\n",
       "    <tr>\n",
       "      <th>75%</th>\n",
       "      <td>45202.000000</td>\n",
       "      <td>2.000000</td>\n",
       "      <td>NaN</td>\n",
       "      <td>NaN</td>\n",
       "      <td>NaN</td>\n",
       "      <td>1955.000000</td>\n",
       "      <td>4241.000000</td>\n",
       "      <td>NaN</td>\n",
       "      <td>1.000000</td>\n",
       "      <td>0.000000</td>\n",
       "      <td>...</td>\n",
       "      <td>NaN</td>\n",
       "      <td>NaN</td>\n",
       "      <td>NaN</td>\n",
       "      <td>NaN</td>\n",
       "      <td>NaN</td>\n",
       "      <td>NaN</td>\n",
       "      <td>NaN</td>\n",
       "      <td>NaN</td>\n",
       "      <td>NaN</td>\n",
       "      <td>NaN</td>\n",
       "    </tr>\n",
       "    <tr>\n",
       "      <th>max</th>\n",
       "      <td>58847.000000</td>\n",
       "      <td>5.000000</td>\n",
       "      <td>NaN</td>\n",
       "      <td>NaN</td>\n",
       "      <td>NaN</td>\n",
       "      <td>7667.000000</td>\n",
       "      <td>10289.000000</td>\n",
       "      <td>NaN</td>\n",
       "      <td>1.000000</td>\n",
       "      <td>20.000000</td>\n",
       "      <td>...</td>\n",
       "      <td>NaN</td>\n",
       "      <td>NaN</td>\n",
       "      <td>NaN</td>\n",
       "      <td>NaN</td>\n",
       "      <td>NaN</td>\n",
       "      <td>NaN</td>\n",
       "      <td>NaN</td>\n",
       "      <td>NaN</td>\n",
       "      <td>NaN</td>\n",
       "      <td>NaN</td>\n",
       "    </tr>\n",
       "    <tr>\n",
       "      <th>std</th>\n",
       "      <td>16606.497447</td>\n",
       "      <td>0.566204</td>\n",
       "      <td>NaN</td>\n",
       "      <td>NaN</td>\n",
       "      <td>NaN</td>\n",
       "      <td>1727.668528</td>\n",
       "      <td>2559.112591</td>\n",
       "      <td>NaN</td>\n",
       "      <td>0.027094</td>\n",
       "      <td>0.094364</td>\n",
       "      <td>...</td>\n",
       "      <td>NaN</td>\n",
       "      <td>NaN</td>\n",
       "      <td>NaN</td>\n",
       "      <td>NaN</td>\n",
       "      <td>NaN</td>\n",
       "      <td>NaN</td>\n",
       "      <td>NaN</td>\n",
       "      <td>NaN</td>\n",
       "      <td>NaN</td>\n",
       "      <td>NaN</td>\n",
       "    </tr>\n",
       "  </tbody>\n",
       "</table>\n",
       "<p>11 rows × 59 columns</p>\n",
       "</div>"
      ]
     },
     "execution_count": 15,
     "metadata": {},
     "output_type": "execute_result"
    }
   ],
   "execution_count": 15
  },
  {
   "metadata": {
    "ExecuteTime": {
     "end_time": "2024-05-08T07:41:07.303615Z",
     "start_time": "2024-05-08T07:41:07.298762Z"
    }
   },
   "cell_type": "code",
   "source": [
    "for column in clean_dataset.columns:\n",
    "    print(f\"Column: {column}\")"
   ],
   "id": "d6045361e36b7b87",
   "outputs": [
    {
     "name": "stdout",
     "output_type": "stream",
     "text": [
      "Column: id\n",
      "Column: web_id\n",
      "Column: codigo\n",
      "Column: creation_date\n",
      "Column: modification_date\n",
      "Column: company_id\n",
      "Column: user_id\n",
      "Column: ref_cliente\n",
      "Column: portes_airzone\n",
      "Column: devaluacion\n",
      "Column: pedido_sage\n",
      "Column: abono_sage\n",
      "Column: pedido_a3\n",
      "Column: abono_a3\n",
      "Column: tipo\n",
      "Column: estado\n",
      "Column: personaaz\n",
      "Column: dire_envio_id\n",
      "Column: dire_recogida_id\n",
      "Column: peso3\n",
      "Column: volumen3\n",
      "Column: estadofr\n",
      "Column: c_mail\n",
      "Column: c_tel\n",
      "Column: c_obs\n",
      "Column: accepted_client\n",
      "Column: desc_problema\n",
      "Column: codigo_incidencia\n",
      "Column: id_pieza\n",
      "Column: user_id_pieza\n",
      "Column: cod_articulo\n",
      "Column: descripcion\n",
      "Column: num_serie\n",
      "Column: factura_albaran\n",
      "Column: problema\n",
      "Column: is_replacement\n",
      "Column: creation_date_pieza\n",
      "Column: modification_date_pieza\n",
      "Column: id_estado\n",
      "Column: ref\n",
      "Column: color\n",
      "Column: valor\n",
      "Column: titulo_es\n",
      "Column: titulo_en\n",
      "Column: titulo_fr\n",
      "Column: titulo_it\n",
      "Column: titulo_pt\n",
      "Column: id_tipo\n",
      "Column: titulo_es_tipo\n",
      "Column: titulo_en_tipo\n",
      "Column: titulo_fr_tipo\n",
      "Column: titulo_it_tipo\n",
      "Column: titulo_pt_tipo\n",
      "Column: desc_problema_lg\n",
      "Column: desc_problema_translated\n",
      "Column: descripcion_lg\n",
      "Column: descripcion_translated\n",
      "Column: problema_lg\n",
      "Column: problema_translated\n"
     ]
    }
   ],
   "execution_count": 16
  },
  {
   "metadata": {
    "ExecuteTime": {
     "end_time": "2024-05-08T07:41:07.337929Z",
     "start_time": "2024-05-08T07:41:07.303615Z"
    }
   },
   "cell_type": "code",
   "source": [
    "# Get only the columns with the fields of interest\n",
    "text_to_analyse = clean_dataset[['desc_problema_translated','descripcion_translated','problema_translated','cod_articulo']]\n",
    "# Fill NA with empty string\n",
    "text_to_analyse.fillna(\"\", inplace=True)"
   ],
   "id": "dc06c3d9dd9902e2",
   "outputs": [
    {
     "name": "stderr",
     "output_type": "stream",
     "text": [
      "C:\\Users\\voliveira\\AppData\\Local\\Temp\\ipykernel_12524\\3066680078.py:4: SettingWithCopyWarning: \n",
      "A value is trying to be set on a copy of a slice from a DataFrame\n",
      "\n",
      "See the caveats in the documentation: https://pandas.pydata.org/pandas-docs/stable/user_guide/indexing.html#returning-a-view-versus-a-copy\n",
      "  text_to_analyse.fillna(\"\", inplace=True)\n"
     ]
    }
   ],
   "execution_count": 17
  },
  {
   "metadata": {
    "ExecuteTime": {
     "end_time": "2024-05-08T07:41:07.394451Z",
     "start_time": "2024-05-08T07:41:07.337929Z"
    }
   },
   "cell_type": "code",
   "source": "text_to_analyse.loc[:, 'text_to_analyse'] = text_to_analyse['desc_problema_translated'] + ' ' + text_to_analyse['descripcion_translated'] + ' ' + text_to_analyse['problema_translated'] + ' ' + text_to_analyse['cod_articulo']",
   "id": "1769ea0a436bf71d",
   "outputs": [
    {
     "name": "stderr",
     "output_type": "stream",
     "text": [
      "C:\\Users\\voliveira\\AppData\\Local\\Temp\\ipykernel_12524\\2023409095.py:1: SettingWithCopyWarning: \n",
      "A value is trying to be set on a copy of a slice from a DataFrame.\n",
      "Try using .loc[row_indexer,col_indexer] = value instead\n",
      "\n",
      "See the caveats in the documentation: https://pandas.pydata.org/pandas-docs/stable/user_guide/indexing.html#returning-a-view-versus-a-copy\n",
      "  text_to_analyse.loc[:, 'text_to_analyse'] = text_to_analyse['desc_problema_translated'] + ' ' + text_to_analyse['descripcion_translated'] + ' ' + text_to_analyse['problema_translated'] + ' ' + text_to_analyse['cod_articulo']\n"
     ]
    }
   ],
   "execution_count": 18
  },
  {
   "metadata": {
    "ExecuteTime": {
     "end_time": "2024-05-08T07:41:07.402608Z",
     "start_time": "2024-05-08T07:41:07.394451Z"
    }
   },
   "cell_type": "code",
   "source": "text_to_analyse.head(10)",
   "id": "9476356aaf02e1d7",
   "outputs": [
    {
     "data": {
      "text/plain": [
       "                            desc_problema_translated  \\\n",
       "0  INDICAN EXCLUSIVAMENTE QUE SE HA ESTROPEADO LA...   \n",
       "1                                        NO FUNCIONA   \n",
       "2  AZATACTORSB SE HA QUEDADO BLOQUEADO. NO PERMIT...   \n",
       "3  DESDE PULSADORES NO SE PUEDE SUBIR LA PERSIANA...   \n",
       "4           REJILLA MOTORIZADA DEFECTUOSA, SUSTITUIR   \n",
       "5  MODULO DE FANCOIL  DA PROBLEMAS LAS COMUNICACI...   \n",
       "6  MODULO DE FANCOIL NO SACA 7V POR EL BUS EN VEZ...   \n",
       "7  Error al pedir la pasarela, a última hora hubo...   \n",
       "8  SE HAN CAMBIADO LAS TAPAS TRASERAS VARIAS VECE...   \n",
       "9  SE HAN CAMBIADO LAS TAPAS TRASERAS VARIAS VECE...   \n",
       "\n",
       "          descripcion_translated  \\\n",
       "0        MODULO ALARMAS TECNICAS   \n",
       "1                                  \n",
       "2                                  \n",
       "3             MODELO 2 PERSIANAS   \n",
       "4                                  \n",
       "5                   AZAMFANCOILC   \n",
       "6  MODULO DE FANCOIL DE ZONA 32Z   \n",
       "7      Pasarela Mitsubishi Heavy   \n",
       "8                                  \n",
       "9                                  \n",
       "\n",
       "                                 problema_translated     cod_articulo  \\\n",
       "0  INDICAN SE HA  ESTROPEADO EN LA INSTALACION Y ...             MATS   \n",
       "1                                        NO FUNCIONA     AZC3TACTOCSB   \n",
       "2  TACTO BLOQUEADO. NO ENCIENDE-APAGA NI DEJA CAM...      AZATACTORSB   \n",
       "3  UNA DE LAS 2 PERSIANAS NO FUNCIONA CON PULSADO...             PER2   \n",
       "4  Rafael  el viernes llego mi pedido nº 23349 pa...  RINT040015BKMTE   \n",
       "5                      MODULO DE FANCOIL DE ZONA 32Z     AZAMFANCOILC   \n",
       "6  SE DETECTA QUE EL BLUEFACE AL ENCENDERLO, SE Q...     AZAMFANCOILC   \n",
       "7  Error comercial, por cambio de última hora en ...     AZXEQADAPMHI   \n",
       "8      SE ROMPEN TAPAS TRASERAS. CAMBIAR TERMOSTATO.   AZC3BLUEFECOSB   \n",
       "9              5 UNIDADES. SE ROMPEN TAPAS TRASERAS.     AZC3TACTOCSB   \n",
       "\n",
       "                                     text_to_analyse  \n",
       "0  INDICAN EXCLUSIVAMENTE QUE SE HA ESTROPEADO LA...  \n",
       "1              NO FUNCIONA  NO FUNCIONA AZC3TACTOCSB  \n",
       "2  AZATACTORSB SE HA QUEDADO BLOQUEADO. NO PERMIT...  \n",
       "3  DESDE PULSADORES NO SE PUEDE SUBIR LA PERSIANA...  \n",
       "4  REJILLA MOTORIZADA DEFECTUOSA, SUSTITUIR  Rafa...  \n",
       "5  MODULO DE FANCOIL  DA PROBLEMAS LAS COMUNICACI...  \n",
       "6  MODULO DE FANCOIL NO SACA 7V POR EL BUS EN VEZ...  \n",
       "7  Error al pedir la pasarela, a última hora hubo...  \n",
       "8  SE HAN CAMBIADO LAS TAPAS TRASERAS VARIAS VECE...  \n",
       "9  SE HAN CAMBIADO LAS TAPAS TRASERAS VARIAS VECE...  "
      ],
      "text/html": [
       "<div>\n",
       "<style scoped>\n",
       "    .dataframe tbody tr th:only-of-type {\n",
       "        vertical-align: middle;\n",
       "    }\n",
       "\n",
       "    .dataframe tbody tr th {\n",
       "        vertical-align: top;\n",
       "    }\n",
       "\n",
       "    .dataframe thead th {\n",
       "        text-align: right;\n",
       "    }\n",
       "</style>\n",
       "<table border=\"1\" class=\"dataframe\">\n",
       "  <thead>\n",
       "    <tr style=\"text-align: right;\">\n",
       "      <th></th>\n",
       "      <th>desc_problema_translated</th>\n",
       "      <th>descripcion_translated</th>\n",
       "      <th>problema_translated</th>\n",
       "      <th>cod_articulo</th>\n",
       "      <th>text_to_analyse</th>\n",
       "    </tr>\n",
       "  </thead>\n",
       "  <tbody>\n",
       "    <tr>\n",
       "      <th>0</th>\n",
       "      <td>INDICAN EXCLUSIVAMENTE QUE SE HA ESTROPEADO LA...</td>\n",
       "      <td>MODULO ALARMAS TECNICAS</td>\n",
       "      <td>INDICAN SE HA  ESTROPEADO EN LA INSTALACION Y ...</td>\n",
       "      <td>MATS</td>\n",
       "      <td>INDICAN EXCLUSIVAMENTE QUE SE HA ESTROPEADO LA...</td>\n",
       "    </tr>\n",
       "    <tr>\n",
       "      <th>1</th>\n",
       "      <td>NO FUNCIONA</td>\n",
       "      <td></td>\n",
       "      <td>NO FUNCIONA</td>\n",
       "      <td>AZC3TACTOCSB</td>\n",
       "      <td>NO FUNCIONA  NO FUNCIONA AZC3TACTOCSB</td>\n",
       "    </tr>\n",
       "    <tr>\n",
       "      <th>2</th>\n",
       "      <td>AZATACTORSB SE HA QUEDADO BLOQUEADO. NO PERMIT...</td>\n",
       "      <td></td>\n",
       "      <td>TACTO BLOQUEADO. NO ENCIENDE-APAGA NI DEJA CAM...</td>\n",
       "      <td>AZATACTORSB</td>\n",
       "      <td>AZATACTORSB SE HA QUEDADO BLOQUEADO. NO PERMIT...</td>\n",
       "    </tr>\n",
       "    <tr>\n",
       "      <th>3</th>\n",
       "      <td>DESDE PULSADORES NO SE PUEDE SUBIR LA PERSIANA...</td>\n",
       "      <td>MODELO 2 PERSIANAS</td>\n",
       "      <td>UNA DE LAS 2 PERSIANAS NO FUNCIONA CON PULSADO...</td>\n",
       "      <td>PER2</td>\n",
       "      <td>DESDE PULSADORES NO SE PUEDE SUBIR LA PERSIANA...</td>\n",
       "    </tr>\n",
       "    <tr>\n",
       "      <th>4</th>\n",
       "      <td>REJILLA MOTORIZADA DEFECTUOSA, SUSTITUIR</td>\n",
       "      <td></td>\n",
       "      <td>Rafael  el viernes llego mi pedido nº 23349 pa...</td>\n",
       "      <td>RINT040015BKMTE</td>\n",
       "      <td>REJILLA MOTORIZADA DEFECTUOSA, SUSTITUIR  Rafa...</td>\n",
       "    </tr>\n",
       "    <tr>\n",
       "      <th>5</th>\n",
       "      <td>MODULO DE FANCOIL  DA PROBLEMAS LAS COMUNICACI...</td>\n",
       "      <td>AZAMFANCOILC</td>\n",
       "      <td>MODULO DE FANCOIL DE ZONA 32Z</td>\n",
       "      <td>AZAMFANCOILC</td>\n",
       "      <td>MODULO DE FANCOIL  DA PROBLEMAS LAS COMUNICACI...</td>\n",
       "    </tr>\n",
       "    <tr>\n",
       "      <th>6</th>\n",
       "      <td>MODULO DE FANCOIL NO SACA 7V POR EL BUS EN VEZ...</td>\n",
       "      <td>MODULO DE FANCOIL DE ZONA 32Z</td>\n",
       "      <td>SE DETECTA QUE EL BLUEFACE AL ENCENDERLO, SE Q...</td>\n",
       "      <td>AZAMFANCOILC</td>\n",
       "      <td>MODULO DE FANCOIL NO SACA 7V POR EL BUS EN VEZ...</td>\n",
       "    </tr>\n",
       "    <tr>\n",
       "      <th>7</th>\n",
       "      <td>Error al pedir la pasarela, a última hora hubo...</td>\n",
       "      <td>Pasarela Mitsubishi Heavy</td>\n",
       "      <td>Error comercial, por cambio de última hora en ...</td>\n",
       "      <td>AZXEQADAPMHI</td>\n",
       "      <td>Error al pedir la pasarela, a última hora hubo...</td>\n",
       "    </tr>\n",
       "    <tr>\n",
       "      <th>8</th>\n",
       "      <td>SE HAN CAMBIADO LAS TAPAS TRASERAS VARIAS VECE...</td>\n",
       "      <td></td>\n",
       "      <td>SE ROMPEN TAPAS TRASERAS. CAMBIAR TERMOSTATO.</td>\n",
       "      <td>AZC3BLUEFECOSB</td>\n",
       "      <td>SE HAN CAMBIADO LAS TAPAS TRASERAS VARIAS VECE...</td>\n",
       "    </tr>\n",
       "    <tr>\n",
       "      <th>9</th>\n",
       "      <td>SE HAN CAMBIADO LAS TAPAS TRASERAS VARIAS VECE...</td>\n",
       "      <td></td>\n",
       "      <td>5 UNIDADES. SE ROMPEN TAPAS TRASERAS.</td>\n",
       "      <td>AZC3TACTOCSB</td>\n",
       "      <td>SE HAN CAMBIADO LAS TAPAS TRASERAS VARIAS VECE...</td>\n",
       "    </tr>\n",
       "  </tbody>\n",
       "</table>\n",
       "</div>"
      ]
     },
     "execution_count": 19,
     "metadata": {},
     "output_type": "execute_result"
    }
   ],
   "execution_count": 19
  },
  {
   "metadata": {
    "ExecuteTime": {
     "end_time": "2024-05-08T07:41:09.550858Z",
     "start_time": "2024-05-08T07:41:07.402608Z"
    }
   },
   "cell_type": "code",
   "source": [
    "import multiprocessing\n",
    "from collections import OrderedDict\n",
    "import gensim.models.doc2vec\n",
    "assert gensim.models.doc2vec.FAST_VERSION > -1, \"This will be painfully slow otherwise\"\n",
    "from gensim.models.doc2vec import Doc2Vec, TaggedDocument"
   ],
   "id": "a1b2ae336cd4755a",
   "outputs": [],
   "execution_count": 20
  },
  {
   "metadata": {
    "ExecuteTime": {
     "end_time": "2024-05-08T07:41:09.554519Z",
     "start_time": "2024-05-08T07:41:09.550858Z"
    }
   },
   "cell_type": "code",
   "source": [
    "class CommentedDoc2Vec(Doc2Vec):\n",
    "    def __init__(self, comment=\"\", **kwargs):\n",
    "        super().__init__(**kwargs)\n",
    "        self.comment = comment"
   ],
   "id": "56d88c9c6d7fb93a",
   "outputs": [],
   "execution_count": 21
  },
  {
   "metadata": {},
   "cell_type": "markdown",
   "source": "## Train DocVec and save the model",
   "id": "e7b2c1173790c33a"
  },
  {
   "metadata": {
    "ExecuteTime": {
     "end_time": "2024-05-08T06:23:30.028387Z",
     "start_time": "2024-05-08T06:23:28.302997Z"
    }
   },
   "cell_type": "code",
   "source": [
    "common_kwargs = dict(\n",
    "    vector_size=100, epochs=20, min_count=2,\n",
    "    sample=0, workers=multiprocessing.cpu_count(), negative=5, hs=0,\n",
    ")\n",
    "\n",
    "# Create models\n",
    "simple_models = [\n",
    "    # PV-DBOW plain\n",
    "    CommentedDoc2Vec(dm=0, comment=\"PV-DBOW plain\",**common_kwargs),\n",
    "    # PV-DM w/ default averaging; a higher starting alpha may improve CBOW/PV-DM modes\n",
    "    CommentedDoc2Vec(dm=1, window=10, alpha=0.05, comment=\"PV-DM averaging\", **common_kwargs),\n",
    "]\n",
    "\n",
    "# Create TaggedDocument objects\n",
    "tagged_data = [TaggedDocument(words=doc.split(), tags=[i]) for i, doc in enumerate(text_to_analyse['text_to_analyse'])]\n",
    "\n",
    "# Build the vocabulary\n",
    "for model in simple_models:\n",
    "    model.build_vocab(tagged_data)\n",
    "    print(\"%s vocabulary scanned & state initialized\" % model)"
   ],
   "id": "2beb6a13dbad0e4d",
   "outputs": [
    {
     "name": "stdout",
     "output_type": "stream",
     "text": [
      "CommentedDoc2Vec<\"PV-DBOW plain\",dbow,d100,n5,mc2,t8> vocabulary scanned & state initialized\n",
      "CommentedDoc2Vec<\"PV-DM w/ averaging\",dm/m,d100,n5,w10,mc2,t8> vocabulary scanned & state initialized\n"
     ]
    }
   ],
   "execution_count": 47
  },
  {
   "metadata": {
    "ExecuteTime": {
     "end_time": "2024-05-08T06:25:05.356550Z",
     "start_time": "2024-05-08T06:23:39.797199Z"
    }
   },
   "cell_type": "code",
   "source": [
    "# Train the models\n",
    "for model in simple_models:\n",
    "    model.train(tagged_data, total_examples=model.corpus_count, epochs=model.epochs)\n",
    "    print(\"%s training completed\" % model)"
   ],
   "id": "87a307c21b14d383",
   "outputs": [
    {
     "name": "stdout",
     "output_type": "stream",
     "text": [
      "CommentedDoc2Vec<\"PV-DBOW plain\",dbow,d100,n5,mc2,t8> training completed\n",
      "CommentedDoc2Vec<\"PV-DM w/ averaging\",dm/m,d100,n5,w10,mc2,t8> training completed\n"
     ]
    }
   ],
   "execution_count": 48
  },
  {
   "metadata": {
    "ExecuteTime": {
     "end_time": "2024-05-08T06:26:31.528466Z",
     "start_time": "2024-05-08T06:26:31.525257Z"
    }
   },
   "cell_type": "code",
   "source": [
    "for model in simple_models:\n",
    "    print(model.comment)"
   ],
   "id": "e76266b84bd0d8ea",
   "outputs": [
    {
     "name": "stdout",
     "output_type": "stream",
     "text": [
      "PV-DBOW plain\n",
      "PV-DM averaging\n"
     ]
    }
   ],
   "execution_count": 53
  },
  {
   "metadata": {
    "ExecuteTime": {
     "end_time": "2024-05-08T06:26:40.610571Z",
     "start_time": "2024-05-08T06:26:40.524497Z"
    }
   },
   "cell_type": "code",
   "source": [
    "from datetime import date\n",
    "# Save the models\n",
    "today_date = date.today().isoformat()\n",
    "base_path = f\"../MODELS/{today_date}\"\n",
    "os.makedirs(base_path, exist_ok=True)\n",
    "for model in simple_models:\n",
    "    model_name = f\"{base_path}/{type(model).__name__}_{model.comment.replace(' ', '_')}.model\"\n",
    "    model.save(model_name)\n",
    "    print(f\"Model saved at {model_name}\")"
   ],
   "id": "dffef7197d3fdd2f",
   "outputs": [
    {
     "name": "stdout",
     "output_type": "stream",
     "text": [
      "Model saved at ../MODELS/2024-05-08/CommentedDoc2Vec_PV-DBOW_plain.model\n",
      "Model saved at ../MODELS/2024-05-08/CommentedDoc2Vec_PV-DM_averaging.model\n"
     ]
    }
   ],
   "execution_count": 54
  },
  {
   "metadata": {},
   "cell_type": "markdown",
   "source": "## Load the models",
   "id": "879689151c598baa"
  },
  {
   "metadata": {
    "ExecuteTime": {
     "end_time": "2024-05-08T07:41:10.009439Z",
     "start_time": "2024-05-08T07:41:09.554519Z"
    }
   },
   "cell_type": "code",
   "source": [
    "# Load the models\n",
    "pv_dbow = f\"../MODELS/2024-05-08/CommentedDoc2Vec_PV-DBOW_plain.model\"\n",
    "pv_dm = f\"../MODELS/2024-05-08/CommentedDoc2Vec_PV-DM_averaging.model\"\n",
    "loaded_models = []\n",
    "for model in [pv_dbow, pv_dm]:\n",
    "    loaded_model = CommentedDoc2Vec.load(model)\n",
    "    loaded_models.append(loaded_model)\n",
    "    print(f\"Model loaded from {model}\")"
   ],
   "id": "68e6460b0c913519",
   "outputs": [
    {
     "name": "stdout",
     "output_type": "stream",
     "text": [
      "Model loaded from ../MODELS/2024-05-08/CommentedDoc2Vec_PV-DBOW_plain.model\n",
      "Model loaded from ../MODELS/2024-05-08/CommentedDoc2Vec_PV-DM_averaging.model\n"
     ]
    }
   ],
   "execution_count": 22
  },
  {
   "metadata": {
    "ExecuteTime": {
     "end_time": "2024-05-08T07:41:10.014884Z",
     "start_time": "2024-05-08T07:41:10.009685Z"
    }
   },
   "cell_type": "code",
   "source": [
    "# Get the vectors\n",
    "vectors = [model.dv.vectors for model in loaded_models]"
   ],
   "id": "3cf1bc14ae9e73b6",
   "outputs": [],
   "execution_count": 23
  },
  {
   "metadata": {
    "ExecuteTime": {
     "end_time": "2024-05-08T07:41:12.543817Z",
     "start_time": "2024-05-08T07:41:12.514329Z"
    }
   },
   "cell_type": "code",
   "source": [
    "# Ensure text_to_analyse and vectors have the same length\n",
    "assert len(text_to_analyse) == len(vectors[0]), \"Mismatched document counts between models\"\n",
    "\n",
    "# Add vectors to the text_to_analyse dataframe\n",
    "text_to_analyse.loc[:, 'PV-DBOW'] = list(vectors[0])\n",
    "text_to_analyse.loc[:, 'PV-DM'] = list(vectors[1])"
   ],
   "id": "4b526664622411f4",
   "outputs": [
    {
     "name": "stderr",
     "output_type": "stream",
     "text": [
      "C:\\Users\\voliveira\\AppData\\Local\\Temp\\ipykernel_12524\\648719079.py:5: SettingWithCopyWarning: \n",
      "A value is trying to be set on a copy of a slice from a DataFrame.\n",
      "Try using .loc[row_indexer,col_indexer] = value instead\n",
      "\n",
      "See the caveats in the documentation: https://pandas.pydata.org/pandas-docs/stable/user_guide/indexing.html#returning-a-view-versus-a-copy\n",
      "  text_to_analyse.loc[:, 'PV-DBOW'] = list(vectors[0])\n",
      "C:\\Users\\voliveira\\AppData\\Local\\Temp\\ipykernel_12524\\648719079.py:6: SettingWithCopyWarning: \n",
      "A value is trying to be set on a copy of a slice from a DataFrame.\n",
      "Try using .loc[row_indexer,col_indexer] = value instead\n",
      "\n",
      "See the caveats in the documentation: https://pandas.pydata.org/pandas-docs/stable/user_guide/indexing.html#returning-a-view-versus-a-copy\n",
      "  text_to_analyse.loc[:, 'PV-DM'] = list(vectors[1])\n"
     ]
    }
   ],
   "execution_count": 24
  },
  {
   "metadata": {
    "ExecuteTime": {
     "end_time": "2024-05-08T07:41:16.954587Z",
     "start_time": "2024-05-08T07:41:16.838435Z"
    }
   },
   "cell_type": "code",
   "source": [
    "# Convert the vectors into a 2D array for PCA\n",
    "vectors_pv_dbow = np.vstack(text_to_analyse['PV-DBOW'])\n",
    "vectors_pv_dm = np.vstack(text_to_analyse['PV-DM'])\n",
    "\n",
    "# Combine both sets of vectors\n",
    "combined_vectors = np.hstack([vectors_pv_dbow, vectors_pv_dm])"
   ],
   "id": "56d0ec3165318a2",
   "outputs": [],
   "execution_count": 25
  },
  {
   "metadata": {
    "ExecuteTime": {
     "end_time": "2024-05-08T07:47:01.215687Z",
     "start_time": "2024-05-08T07:45:35.256933Z"
    }
   },
   "cell_type": "code",
   "source": [
    "# Create a sklearn pipeline to apply a clustering algorithm\n",
    "from sklearn.pipeline import Pipeline\n",
    "from sklearn.cluster import KMeans\n",
    "from sklearn.model_selection import GridSearchCV\n",
    "\n",
    "pipeline = Pipeline([\n",
    "    ('kmeans', KMeans())\n",
    "])\n",
    "\n",
    "# Create grid search parameters\n",
    "parameters = {\n",
    "    'kmeans__n_clusters': [200, 220, 240, 260, 280, 300, 320, 340, 360, 380, 400]\n",
    "}\n",
    "\n",
    "grid_search = GridSearchCV(pipeline, parameters, cv=2, n_jobs=-1, verbose=1)\n",
    "grid_search.fit(combined_vectors)"
   ],
   "id": "5d26aaa6c3844888",
   "outputs": [
    {
     "name": "stdout",
     "output_type": "stream",
     "text": [
      "Fitting 2 folds for each of 11 candidates, totalling 22 fits\n"
     ]
    },
    {
     "data": {
      "text/plain": [
       "GridSearchCV(cv=2, estimator=Pipeline(steps=[('kmeans', KMeans())]), n_jobs=-1,\n",
       "             param_grid={'kmeans__n_clusters': [200, 220, 240, 260, 280, 300,\n",
       "                                                320, 340, 360, 380, 400]},\n",
       "             verbose=1)"
      ],
      "text/html": [
       "<style>#sk-container-id-2 {\n",
       "  /* Definition of color scheme common for light and dark mode */\n",
       "  --sklearn-color-text: black;\n",
       "  --sklearn-color-line: gray;\n",
       "  /* Definition of color scheme for unfitted estimators */\n",
       "  --sklearn-color-unfitted-level-0: #fff5e6;\n",
       "  --sklearn-color-unfitted-level-1: #f6e4d2;\n",
       "  --sklearn-color-unfitted-level-2: #ffe0b3;\n",
       "  --sklearn-color-unfitted-level-3: chocolate;\n",
       "  /* Definition of color scheme for fitted estimators */\n",
       "  --sklearn-color-fitted-level-0: #f0f8ff;\n",
       "  --sklearn-color-fitted-level-1: #d4ebff;\n",
       "  --sklearn-color-fitted-level-2: #b3dbfd;\n",
       "  --sklearn-color-fitted-level-3: cornflowerblue;\n",
       "\n",
       "  /* Specific color for light theme */\n",
       "  --sklearn-color-text-on-default-background: var(--sg-text-color, var(--theme-code-foreground, var(--jp-content-font-color1, black)));\n",
       "  --sklearn-color-background: var(--sg-background-color, var(--theme-background, var(--jp-layout-color0, white)));\n",
       "  --sklearn-color-border-box: var(--sg-text-color, var(--theme-code-foreground, var(--jp-content-font-color1, black)));\n",
       "  --sklearn-color-icon: #696969;\n",
       "\n",
       "  @media (prefers-color-scheme: dark) {\n",
       "    /* Redefinition of color scheme for dark theme */\n",
       "    --sklearn-color-text-on-default-background: var(--sg-text-color, var(--theme-code-foreground, var(--jp-content-font-color1, white)));\n",
       "    --sklearn-color-background: var(--sg-background-color, var(--theme-background, var(--jp-layout-color0, #111)));\n",
       "    --sklearn-color-border-box: var(--sg-text-color, var(--theme-code-foreground, var(--jp-content-font-color1, white)));\n",
       "    --sklearn-color-icon: #878787;\n",
       "  }\n",
       "}\n",
       "\n",
       "#sk-container-id-2 {\n",
       "  color: var(--sklearn-color-text);\n",
       "}\n",
       "\n",
       "#sk-container-id-2 pre {\n",
       "  padding: 0;\n",
       "}\n",
       "\n",
       "#sk-container-id-2 input.sk-hidden--visually {\n",
       "  border: 0;\n",
       "  clip: rect(1px 1px 1px 1px);\n",
       "  clip: rect(1px, 1px, 1px, 1px);\n",
       "  height: 1px;\n",
       "  margin: -1px;\n",
       "  overflow: hidden;\n",
       "  padding: 0;\n",
       "  position: absolute;\n",
       "  width: 1px;\n",
       "}\n",
       "\n",
       "#sk-container-id-2 div.sk-dashed-wrapped {\n",
       "  border: 1px dashed var(--sklearn-color-line);\n",
       "  margin: 0 0.4em 0.5em 0.4em;\n",
       "  box-sizing: border-box;\n",
       "  padding-bottom: 0.4em;\n",
       "  background-color: var(--sklearn-color-background);\n",
       "}\n",
       "\n",
       "#sk-container-id-2 div.sk-container {\n",
       "  /* jupyter's `normalize.less` sets `[hidden] { display: none; }`\n",
       "     but bootstrap.min.css set `[hidden] { display: none !important; }`\n",
       "     so we also need the `!important` here to be able to override the\n",
       "     default hidden behavior on the sphinx rendered scikit-learn.org.\n",
       "     See: https://github.com/scikit-learn/scikit-learn/issues/21755 */\n",
       "  display: inline-block !important;\n",
       "  position: relative;\n",
       "}\n",
       "\n",
       "#sk-container-id-2 div.sk-text-repr-fallback {\n",
       "  display: none;\n",
       "}\n",
       "\n",
       "div.sk-parallel-item,\n",
       "div.sk-serial,\n",
       "div.sk-item {\n",
       "  /* draw centered vertical line to link estimators */\n",
       "  background-image: linear-gradient(var(--sklearn-color-text-on-default-background), var(--sklearn-color-text-on-default-background));\n",
       "  background-size: 2px 100%;\n",
       "  background-repeat: no-repeat;\n",
       "  background-position: center center;\n",
       "}\n",
       "\n",
       "/* Parallel-specific style estimator block */\n",
       "\n",
       "#sk-container-id-2 div.sk-parallel-item::after {\n",
       "  content: \"\";\n",
       "  width: 100%;\n",
       "  border-bottom: 2px solid var(--sklearn-color-text-on-default-background);\n",
       "  flex-grow: 1;\n",
       "}\n",
       "\n",
       "#sk-container-id-2 div.sk-parallel {\n",
       "  display: flex;\n",
       "  align-items: stretch;\n",
       "  justify-content: center;\n",
       "  background-color: var(--sklearn-color-background);\n",
       "  position: relative;\n",
       "}\n",
       "\n",
       "#sk-container-id-2 div.sk-parallel-item {\n",
       "  display: flex;\n",
       "  flex-direction: column;\n",
       "}\n",
       "\n",
       "#sk-container-id-2 div.sk-parallel-item:first-child::after {\n",
       "  align-self: flex-end;\n",
       "  width: 50%;\n",
       "}\n",
       "\n",
       "#sk-container-id-2 div.sk-parallel-item:last-child::after {\n",
       "  align-self: flex-start;\n",
       "  width: 50%;\n",
       "}\n",
       "\n",
       "#sk-container-id-2 div.sk-parallel-item:only-child::after {\n",
       "  width: 0;\n",
       "}\n",
       "\n",
       "/* Serial-specific style estimator block */\n",
       "\n",
       "#sk-container-id-2 div.sk-serial {\n",
       "  display: flex;\n",
       "  flex-direction: column;\n",
       "  align-items: center;\n",
       "  background-color: var(--sklearn-color-background);\n",
       "  padding-right: 1em;\n",
       "  padding-left: 1em;\n",
       "}\n",
       "\n",
       "\n",
       "/* Toggleable style: style used for estimator/Pipeline/ColumnTransformer box that is\n",
       "clickable and can be expanded/collapsed.\n",
       "- Pipeline and ColumnTransformer use this feature and define the default style\n",
       "- Estimators will overwrite some part of the style using the `sk-estimator` class\n",
       "*/\n",
       "\n",
       "/* Pipeline and ColumnTransformer style (default) */\n",
       "\n",
       "#sk-container-id-2 div.sk-toggleable {\n",
       "  /* Default theme specific background. It is overwritten whether we have a\n",
       "  specific estimator or a Pipeline/ColumnTransformer */\n",
       "  background-color: var(--sklearn-color-background);\n",
       "}\n",
       "\n",
       "/* Toggleable label */\n",
       "#sk-container-id-2 label.sk-toggleable__label {\n",
       "  cursor: pointer;\n",
       "  display: block;\n",
       "  width: 100%;\n",
       "  margin-bottom: 0;\n",
       "  padding: 0.5em;\n",
       "  box-sizing: border-box;\n",
       "  text-align: center;\n",
       "}\n",
       "\n",
       "#sk-container-id-2 label.sk-toggleable__label-arrow:before {\n",
       "  /* Arrow on the left of the label */\n",
       "  content: \"▸\";\n",
       "  float: left;\n",
       "  margin-right: 0.25em;\n",
       "  color: var(--sklearn-color-icon);\n",
       "}\n",
       "\n",
       "#sk-container-id-2 label.sk-toggleable__label-arrow:hover:before {\n",
       "  color: var(--sklearn-color-text);\n",
       "}\n",
       "\n",
       "/* Toggleable content - dropdown */\n",
       "\n",
       "#sk-container-id-2 div.sk-toggleable__content {\n",
       "  max-height: 0;\n",
       "  max-width: 0;\n",
       "  overflow: hidden;\n",
       "  text-align: left;\n",
       "  /* unfitted */\n",
       "  background-color: var(--sklearn-color-unfitted-level-0);\n",
       "}\n",
       "\n",
       "#sk-container-id-2 div.sk-toggleable__content.fitted {\n",
       "  /* fitted */\n",
       "  background-color: var(--sklearn-color-fitted-level-0);\n",
       "}\n",
       "\n",
       "#sk-container-id-2 div.sk-toggleable__content pre {\n",
       "  margin: 0.2em;\n",
       "  border-radius: 0.25em;\n",
       "  color: var(--sklearn-color-text);\n",
       "  /* unfitted */\n",
       "  background-color: var(--sklearn-color-unfitted-level-0);\n",
       "}\n",
       "\n",
       "#sk-container-id-2 div.sk-toggleable__content.fitted pre {\n",
       "  /* unfitted */\n",
       "  background-color: var(--sklearn-color-fitted-level-0);\n",
       "}\n",
       "\n",
       "#sk-container-id-2 input.sk-toggleable__control:checked~div.sk-toggleable__content {\n",
       "  /* Expand drop-down */\n",
       "  max-height: 200px;\n",
       "  max-width: 100%;\n",
       "  overflow: auto;\n",
       "}\n",
       "\n",
       "#sk-container-id-2 input.sk-toggleable__control:checked~label.sk-toggleable__label-arrow:before {\n",
       "  content: \"▾\";\n",
       "}\n",
       "\n",
       "/* Pipeline/ColumnTransformer-specific style */\n",
       "\n",
       "#sk-container-id-2 div.sk-label input.sk-toggleable__control:checked~label.sk-toggleable__label {\n",
       "  color: var(--sklearn-color-text);\n",
       "  background-color: var(--sklearn-color-unfitted-level-2);\n",
       "}\n",
       "\n",
       "#sk-container-id-2 div.sk-label.fitted input.sk-toggleable__control:checked~label.sk-toggleable__label {\n",
       "  background-color: var(--sklearn-color-fitted-level-2);\n",
       "}\n",
       "\n",
       "/* Estimator-specific style */\n",
       "\n",
       "/* Colorize estimator box */\n",
       "#sk-container-id-2 div.sk-estimator input.sk-toggleable__control:checked~label.sk-toggleable__label {\n",
       "  /* unfitted */\n",
       "  background-color: var(--sklearn-color-unfitted-level-2);\n",
       "}\n",
       "\n",
       "#sk-container-id-2 div.sk-estimator.fitted input.sk-toggleable__control:checked~label.sk-toggleable__label {\n",
       "  /* fitted */\n",
       "  background-color: var(--sklearn-color-fitted-level-2);\n",
       "}\n",
       "\n",
       "#sk-container-id-2 div.sk-label label.sk-toggleable__label,\n",
       "#sk-container-id-2 div.sk-label label {\n",
       "  /* The background is the default theme color */\n",
       "  color: var(--sklearn-color-text-on-default-background);\n",
       "}\n",
       "\n",
       "/* On hover, darken the color of the background */\n",
       "#sk-container-id-2 div.sk-label:hover label.sk-toggleable__label {\n",
       "  color: var(--sklearn-color-text);\n",
       "  background-color: var(--sklearn-color-unfitted-level-2);\n",
       "}\n",
       "\n",
       "/* Label box, darken color on hover, fitted */\n",
       "#sk-container-id-2 div.sk-label.fitted:hover label.sk-toggleable__label.fitted {\n",
       "  color: var(--sklearn-color-text);\n",
       "  background-color: var(--sklearn-color-fitted-level-2);\n",
       "}\n",
       "\n",
       "/* Estimator label */\n",
       "\n",
       "#sk-container-id-2 div.sk-label label {\n",
       "  font-family: monospace;\n",
       "  font-weight: bold;\n",
       "  display: inline-block;\n",
       "  line-height: 1.2em;\n",
       "}\n",
       "\n",
       "#sk-container-id-2 div.sk-label-container {\n",
       "  text-align: center;\n",
       "}\n",
       "\n",
       "/* Estimator-specific */\n",
       "#sk-container-id-2 div.sk-estimator {\n",
       "  font-family: monospace;\n",
       "  border: 1px dotted var(--sklearn-color-border-box);\n",
       "  border-radius: 0.25em;\n",
       "  box-sizing: border-box;\n",
       "  margin-bottom: 0.5em;\n",
       "  /* unfitted */\n",
       "  background-color: var(--sklearn-color-unfitted-level-0);\n",
       "}\n",
       "\n",
       "#sk-container-id-2 div.sk-estimator.fitted {\n",
       "  /* fitted */\n",
       "  background-color: var(--sklearn-color-fitted-level-0);\n",
       "}\n",
       "\n",
       "/* on hover */\n",
       "#sk-container-id-2 div.sk-estimator:hover {\n",
       "  /* unfitted */\n",
       "  background-color: var(--sklearn-color-unfitted-level-2);\n",
       "}\n",
       "\n",
       "#sk-container-id-2 div.sk-estimator.fitted:hover {\n",
       "  /* fitted */\n",
       "  background-color: var(--sklearn-color-fitted-level-2);\n",
       "}\n",
       "\n",
       "/* Specification for estimator info (e.g. \"i\" and \"?\") */\n",
       "\n",
       "/* Common style for \"i\" and \"?\" */\n",
       "\n",
       ".sk-estimator-doc-link,\n",
       "a:link.sk-estimator-doc-link,\n",
       "a:visited.sk-estimator-doc-link {\n",
       "  float: right;\n",
       "  font-size: smaller;\n",
       "  line-height: 1em;\n",
       "  font-family: monospace;\n",
       "  background-color: var(--sklearn-color-background);\n",
       "  border-radius: 1em;\n",
       "  height: 1em;\n",
       "  width: 1em;\n",
       "  text-decoration: none !important;\n",
       "  margin-left: 1ex;\n",
       "  /* unfitted */\n",
       "  border: var(--sklearn-color-unfitted-level-1) 1pt solid;\n",
       "  color: var(--sklearn-color-unfitted-level-1);\n",
       "}\n",
       "\n",
       ".sk-estimator-doc-link.fitted,\n",
       "a:link.sk-estimator-doc-link.fitted,\n",
       "a:visited.sk-estimator-doc-link.fitted {\n",
       "  /* fitted */\n",
       "  border: var(--sklearn-color-fitted-level-1) 1pt solid;\n",
       "  color: var(--sklearn-color-fitted-level-1);\n",
       "}\n",
       "\n",
       "/* On hover */\n",
       "div.sk-estimator:hover .sk-estimator-doc-link:hover,\n",
       ".sk-estimator-doc-link:hover,\n",
       "div.sk-label-container:hover .sk-estimator-doc-link:hover,\n",
       ".sk-estimator-doc-link:hover {\n",
       "  /* unfitted */\n",
       "  background-color: var(--sklearn-color-unfitted-level-3);\n",
       "  color: var(--sklearn-color-background);\n",
       "  text-decoration: none;\n",
       "}\n",
       "\n",
       "div.sk-estimator.fitted:hover .sk-estimator-doc-link.fitted:hover,\n",
       ".sk-estimator-doc-link.fitted:hover,\n",
       "div.sk-label-container:hover .sk-estimator-doc-link.fitted:hover,\n",
       ".sk-estimator-doc-link.fitted:hover {\n",
       "  /* fitted */\n",
       "  background-color: var(--sklearn-color-fitted-level-3);\n",
       "  color: var(--sklearn-color-background);\n",
       "  text-decoration: none;\n",
       "}\n",
       "\n",
       "/* Span, style for the box shown on hovering the info icon */\n",
       ".sk-estimator-doc-link span {\n",
       "  display: none;\n",
       "  z-index: 9999;\n",
       "  position: relative;\n",
       "  font-weight: normal;\n",
       "  right: .2ex;\n",
       "  padding: .5ex;\n",
       "  margin: .5ex;\n",
       "  width: min-content;\n",
       "  min-width: 20ex;\n",
       "  max-width: 50ex;\n",
       "  color: var(--sklearn-color-text);\n",
       "  box-shadow: 2pt 2pt 4pt #999;\n",
       "  /* unfitted */\n",
       "  background: var(--sklearn-color-unfitted-level-0);\n",
       "  border: .5pt solid var(--sklearn-color-unfitted-level-3);\n",
       "}\n",
       "\n",
       ".sk-estimator-doc-link.fitted span {\n",
       "  /* fitted */\n",
       "  background: var(--sklearn-color-fitted-level-0);\n",
       "  border: var(--sklearn-color-fitted-level-3);\n",
       "}\n",
       "\n",
       ".sk-estimator-doc-link:hover span {\n",
       "  display: block;\n",
       "}\n",
       "\n",
       "/* \"?\"-specific style due to the `<a>` HTML tag */\n",
       "\n",
       "#sk-container-id-2 a.estimator_doc_link {\n",
       "  float: right;\n",
       "  font-size: 1rem;\n",
       "  line-height: 1em;\n",
       "  font-family: monospace;\n",
       "  background-color: var(--sklearn-color-background);\n",
       "  border-radius: 1rem;\n",
       "  height: 1rem;\n",
       "  width: 1rem;\n",
       "  text-decoration: none;\n",
       "  /* unfitted */\n",
       "  color: var(--sklearn-color-unfitted-level-1);\n",
       "  border: var(--sklearn-color-unfitted-level-1) 1pt solid;\n",
       "}\n",
       "\n",
       "#sk-container-id-2 a.estimator_doc_link.fitted {\n",
       "  /* fitted */\n",
       "  border: var(--sklearn-color-fitted-level-1) 1pt solid;\n",
       "  color: var(--sklearn-color-fitted-level-1);\n",
       "}\n",
       "\n",
       "/* On hover */\n",
       "#sk-container-id-2 a.estimator_doc_link:hover {\n",
       "  /* unfitted */\n",
       "  background-color: var(--sklearn-color-unfitted-level-3);\n",
       "  color: var(--sklearn-color-background);\n",
       "  text-decoration: none;\n",
       "}\n",
       "\n",
       "#sk-container-id-2 a.estimator_doc_link.fitted:hover {\n",
       "  /* fitted */\n",
       "  background-color: var(--sklearn-color-fitted-level-3);\n",
       "}\n",
       "</style><div id=\"sk-container-id-2\" class=\"sk-top-container\"><div class=\"sk-text-repr-fallback\"><pre>GridSearchCV(cv=2, estimator=Pipeline(steps=[(&#x27;kmeans&#x27;, KMeans())]), n_jobs=-1,\n",
       "             param_grid={&#x27;kmeans__n_clusters&#x27;: [200, 220, 240, 260, 280, 300,\n",
       "                                                320, 340, 360, 380, 400]},\n",
       "             verbose=1)</pre><b>In a Jupyter environment, please rerun this cell to show the HTML representation or trust the notebook. <br />On GitHub, the HTML representation is unable to render, please try loading this page with nbviewer.org.</b></div><div class=\"sk-container\" hidden><div class=\"sk-item sk-dashed-wrapped\"><div class=\"sk-label-container\"><div class=\"sk-label fitted sk-toggleable\"><input class=\"sk-toggleable__control sk-hidden--visually\" id=\"sk-estimator-id-4\" type=\"checkbox\" ><label for=\"sk-estimator-id-4\" class=\"sk-toggleable__label fitted sk-toggleable__label-arrow fitted\">&nbsp;&nbsp;GridSearchCV<a class=\"sk-estimator-doc-link fitted\" rel=\"noreferrer\" target=\"_blank\" href=\"https://scikit-learn.org/1.4/modules/generated/sklearn.model_selection.GridSearchCV.html\">?<span>Documentation for GridSearchCV</span></a><span class=\"sk-estimator-doc-link fitted\">i<span>Fitted</span></span></label><div class=\"sk-toggleable__content fitted\"><pre>GridSearchCV(cv=2, estimator=Pipeline(steps=[(&#x27;kmeans&#x27;, KMeans())]), n_jobs=-1,\n",
       "             param_grid={&#x27;kmeans__n_clusters&#x27;: [200, 220, 240, 260, 280, 300,\n",
       "                                                320, 340, 360, 380, 400]},\n",
       "             verbose=1)</pre></div> </div></div><div class=\"sk-parallel\"><div class=\"sk-parallel-item\"><div class=\"sk-item\"><div class=\"sk-label-container\"><div class=\"sk-label fitted sk-toggleable\"><input class=\"sk-toggleable__control sk-hidden--visually\" id=\"sk-estimator-id-5\" type=\"checkbox\" ><label for=\"sk-estimator-id-5\" class=\"sk-toggleable__label fitted sk-toggleable__label-arrow fitted\">estimator: Pipeline</label><div class=\"sk-toggleable__content fitted\"><pre>Pipeline(steps=[(&#x27;kmeans&#x27;, KMeans())])</pre></div> </div></div><div class=\"sk-serial\"><div class=\"sk-item\"><div class=\"sk-serial\"><div class=\"sk-item\"><div class=\"sk-estimator fitted sk-toggleable\"><input class=\"sk-toggleable__control sk-hidden--visually\" id=\"sk-estimator-id-6\" type=\"checkbox\" ><label for=\"sk-estimator-id-6\" class=\"sk-toggleable__label fitted sk-toggleable__label-arrow fitted\">&nbsp;KMeans<a class=\"sk-estimator-doc-link fitted\" rel=\"noreferrer\" target=\"_blank\" href=\"https://scikit-learn.org/1.4/modules/generated/sklearn.cluster.KMeans.html\">?<span>Documentation for KMeans</span></a></label><div class=\"sk-toggleable__content fitted\"><pre>KMeans()</pre></div> </div></div></div></div></div></div></div></div></div></div></div>"
      ]
     },
     "execution_count": 32,
     "metadata": {},
     "output_type": "execute_result"
    }
   ],
   "execution_count": 32
  },
  {
   "metadata": {
    "ExecuteTime": {
     "end_time": "2024-05-08T07:47:01.220727Z",
     "start_time": "2024-05-08T07:47:01.215687Z"
    }
   },
   "cell_type": "code",
   "source": [
    "# Check the best parameters\n",
    "grid_search.best_params_"
   ],
   "id": "2f76cc01850c7e02",
   "outputs": [
    {
     "data": {
      "text/plain": [
       "{'kmeans__n_clusters': 360}"
      ]
     },
     "execution_count": 33,
     "metadata": {},
     "output_type": "execute_result"
    }
   ],
   "execution_count": 33
  },
  {
   "metadata": {
    "ExecuteTime": {
     "end_time": "2024-05-08T07:47:07.394816Z",
     "start_time": "2024-05-08T07:47:07.348584Z"
    }
   },
   "cell_type": "code",
   "source": [
    "# Add the cluster to the dataset\n",
    "text_to_analyse['cluster'] = grid_search.best_estimator_.predict(combined_vectors)"
   ],
   "id": "d0cf00bc6729951",
   "outputs": [
    {
     "name": "stderr",
     "output_type": "stream",
     "text": [
      "C:\\Users\\voliveira\\AppData\\Local\\Temp\\ipykernel_12524\\384863070.py:2: SettingWithCopyWarning: \n",
      "A value is trying to be set on a copy of a slice from a DataFrame.\n",
      "Try using .loc[row_indexer,col_indexer] = value instead\n",
      "\n",
      "See the caveats in the documentation: https://pandas.pydata.org/pandas-docs/stable/user_guide/indexing.html#returning-a-view-versus-a-copy\n",
      "  text_to_analyse['cluster'] = grid_search.best_estimator_.predict(combined_vectors)\n"
     ]
    }
   ],
   "execution_count": 34
  },
  {
   "metadata": {
    "ExecuteTime": {
     "end_time": "2024-05-08T07:47:09.542588Z",
     "start_time": "2024-05-08T07:47:09.376403Z"
    }
   },
   "cell_type": "code",
   "source": [
    "# Plot PCA of the vectors in 3 dimensions\n",
    "%matplotlib qt\n",
    "from sklearn.decomposition import PCA\n",
    "pca = PCA(n_components=3)\n",
    "vectors_df_pca = pca.fit_transform(vectors_pv_dbow)\n",
    "fig = plt.figure()\n",
    "ax = fig.add_subplot(111, projection='3d')\n",
    "ax.scatter(vectors_df_pca[:, 0], vectors_df_pca[:, 1], vectors_df_pca[:, 2], c=text_to_analyse['cluster'])\n",
    "plt.title(\"PCA of the vectors\")\n",
    "plt.show()"
   ],
   "id": "5b3285370c9da908",
   "outputs": [],
   "execution_count": 35
  },
  {
   "metadata": {
    "ExecuteTime": {
     "end_time": "2024-05-08T09:18:07.431953Z",
     "start_time": "2024-05-08T09:08:56.238840Z"
    }
   },
   "cell_type": "code",
   "source": [
    "from sklearn.manifold import TSNE\n",
    "\n",
    "tsne = TSNE(n_components=3, verbose=1, perplexity=40)\n",
    "tsne_vector = tsne.fit_transform(combined_vectors)\n",
    "tsne_vector = pd.DataFrame(tsne_vector, columns=['TSNE1', 'TSNE2', 'TSNE3'])"
   ],
   "id": "3d4b4ff91675b98e",
   "outputs": [
    {
     "name": "stdout",
     "output_type": "stream",
     "text": [
      "[t-SNE] Computing 121 nearest neighbors...\n",
      "[t-SNE] Indexed 44921 samples in 0.005s...\n",
      "[t-SNE] Computed neighbors for 44921 samples in 5.612s...\n",
      "[t-SNE] Computed conditional probabilities for sample 1000 / 44921\n",
      "[t-SNE] Computed conditional probabilities for sample 2000 / 44921\n",
      "[t-SNE] Computed conditional probabilities for sample 3000 / 44921\n",
      "[t-SNE] Computed conditional probabilities for sample 4000 / 44921\n",
      "[t-SNE] Computed conditional probabilities for sample 5000 / 44921\n",
      "[t-SNE] Computed conditional probabilities for sample 6000 / 44921\n",
      "[t-SNE] Computed conditional probabilities for sample 7000 / 44921\n",
      "[t-SNE] Computed conditional probabilities for sample 8000 / 44921\n",
      "[t-SNE] Computed conditional probabilities for sample 9000 / 44921\n",
      "[t-SNE] Computed conditional probabilities for sample 10000 / 44921\n",
      "[t-SNE] Computed conditional probabilities for sample 11000 / 44921\n",
      "[t-SNE] Computed conditional probabilities for sample 12000 / 44921\n",
      "[t-SNE] Computed conditional probabilities for sample 13000 / 44921\n",
      "[t-SNE] Computed conditional probabilities for sample 14000 / 44921\n",
      "[t-SNE] Computed conditional probabilities for sample 15000 / 44921\n",
      "[t-SNE] Computed conditional probabilities for sample 16000 / 44921\n",
      "[t-SNE] Computed conditional probabilities for sample 17000 / 44921\n",
      "[t-SNE] Computed conditional probabilities for sample 18000 / 44921\n",
      "[t-SNE] Computed conditional probabilities for sample 19000 / 44921\n",
      "[t-SNE] Computed conditional probabilities for sample 20000 / 44921\n",
      "[t-SNE] Computed conditional probabilities for sample 21000 / 44921\n",
      "[t-SNE] Computed conditional probabilities for sample 22000 / 44921\n",
      "[t-SNE] Computed conditional probabilities for sample 23000 / 44921\n",
      "[t-SNE] Computed conditional probabilities for sample 24000 / 44921\n",
      "[t-SNE] Computed conditional probabilities for sample 25000 / 44921\n",
      "[t-SNE] Computed conditional probabilities for sample 26000 / 44921\n",
      "[t-SNE] Computed conditional probabilities for sample 27000 / 44921\n",
      "[t-SNE] Computed conditional probabilities for sample 28000 / 44921\n",
      "[t-SNE] Computed conditional probabilities for sample 29000 / 44921\n",
      "[t-SNE] Computed conditional probabilities for sample 30000 / 44921\n",
      "[t-SNE] Computed conditional probabilities for sample 31000 / 44921\n",
      "[t-SNE] Computed conditional probabilities for sample 32000 / 44921\n",
      "[t-SNE] Computed conditional probabilities for sample 33000 / 44921\n",
      "[t-SNE] Computed conditional probabilities for sample 34000 / 44921\n",
      "[t-SNE] Computed conditional probabilities for sample 35000 / 44921\n",
      "[t-SNE] Computed conditional probabilities for sample 36000 / 44921\n",
      "[t-SNE] Computed conditional probabilities for sample 37000 / 44921\n",
      "[t-SNE] Computed conditional probabilities for sample 38000 / 44921\n",
      "[t-SNE] Computed conditional probabilities for sample 39000 / 44921\n",
      "[t-SNE] Computed conditional probabilities for sample 40000 / 44921\n",
      "[t-SNE] Computed conditional probabilities for sample 41000 / 44921\n",
      "[t-SNE] Computed conditional probabilities for sample 42000 / 44921\n",
      "[t-SNE] Computed conditional probabilities for sample 43000 / 44921\n",
      "[t-SNE] Computed conditional probabilities for sample 44000 / 44921\n",
      "[t-SNE] Computed conditional probabilities for sample 44921 / 44921\n",
      "[t-SNE] Mean sigma: 0.320982\n",
      "[t-SNE] KL divergence after 250 iterations with early exaggeration: 104.929871\n",
      "[t-SNE] KL divergence after 1000 iterations: 2.975816\n"
     ]
    }
   ],
   "execution_count": 38
  },
  {
   "metadata": {
    "ExecuteTime": {
     "end_time": "2024-05-08T09:18:14.545658Z",
     "start_time": "2024-05-08T09:18:14.486796Z"
    }
   },
   "cell_type": "code",
   "source": [
    "# Plot TSNE of the vectors in 3 dimensions\n",
    "fig = plt.figure()\n",
    "ax = fig.add_subplot(111, projection='3d')\n",
    "ax.scatter(tsne_vector['TSNE1'], tsne_vector['TSNE2'], tsne_vector['TSNE3'], c=text_to_analyse['cluster'])\n",
    "plt.title(\"TSNE of the vectors\")\n",
    "plt.show()"
   ],
   "id": "b0f125664bc44cd7",
   "outputs": [],
   "execution_count": 39
  },
  {
   "metadata": {},
   "cell_type": "markdown",
   "source": "## Tests with actual standard error text",
   "id": "714c0b0cd1066ece"
  },
  {
   "metadata": {
    "ExecuteTime": {
     "end_time": "2024-05-08T09:34:09.889734Z",
     "start_time": "2024-05-08T09:34:09.885482Z"
    }
   },
   "cell_type": "code",
   "source": [
    "# Get the most similar texts\n",
    "def get_similar_texts(text, model, topn=5):\n",
    "    similar_texts = model.dv.most_similar([model.infer_vector(text.split())], topn=topn)\n",
    "    return similar_texts"
   ],
   "id": "e7f71e0ef74fb373",
   "outputs": [],
   "execution_count": 42
  },
  {
   "metadata": {
    "ExecuteTime": {
     "end_time": "2024-05-08T12:17:01.410696Z",
     "start_time": "2024-05-08T12:17:01.393990Z"
    }
   },
   "cell_type": "code",
   "source": [
    "test_texts = [\n",
    "    \"Fallo de comunicaciones con la central El dispositivo intenta comunicar con la central, pero no la detecta. Los leds sí que parpadean.\",\n",
    "    \"Fallo de comunicaciones con la máquina, el dispositivo intenta comunicar con la maquina, pero no la detecta. Los leds sí que parpadean.\",\n",
    "    \"Unidad no arranca, las comunicaciones y los leds son correctos, pero la máquina no arranca.\",\n",
    "    \"Error apertura/cierre. No muestra error en el sistema. La compuerta o rejilla no abre ni cierra, pero no se muesrta ningún error en el sistema.\"\n",
    "]\n",
    "\n",
    "#test_text = test_texts[random.randint(0, len(test_texts)-1)]\n",
    "test_text = test_texts[3]\n",
    "\n",
    "print(f'TARGET TEXT: {test_text} \\n')\n",
    "\n",
    "for model in loaded_models:\n",
    "    similar_texts = get_similar_texts(test_text, model)\n",
    "    print(f\"Model: {model.comment}\")\n",
    "    for i, (index, similarity) in enumerate(similar_texts):\n",
    "        print(f\"Similar text {i+1}: {text_to_analyse['text_to_analyse'][index]} with similarity {similarity}\\n\")\n",
    "    break"
   ],
   "id": "9828606422fa265b",
   "outputs": [
    {
     "name": "stdout",
     "output_type": "stream",
     "text": [
      "TARGET TEXT: Error apertura/cierre. No muestra error en el sistema. La compuerta o rejilla no abre ni cierra, pero no se muesrta ningún error en el sistema. \n",
      "\n",
      "Model: PV-DBOW plain\n",
      "Similar text 1: La compuerta falla al abrir/cerrar, no funciona correctamente Compuerta motorizada de 300x150 La compuerta motorizada no funciona correctamente, se bloquea Compuerta motori with similarity 0.8232545256614685\n",
      "\n",
      "Similar text 2: error cuando da corriente no carga BLUFACE error cuando da corriente no carga AZDI6BLUFACECB with similarity 0.8144838213920593\n",
      "\n",
      "Similar text 3: No abre la rejilla Rejilla motorizada La rejilla no se abre CR300X150 with similarity 0.8122820854187012\n",
      "\n",
      "Similar text 4:   No se abre CPM200ION with similarity 0.8110448718070984\n",
      "\n",
      "Similar text 5: motor compuerta no funciona compuerta motorizada motor en mal estado no funciona cr350x150 with similarity 0.8095138072967529\n",
      "\n"
     ]
    }
   ],
   "execution_count": 166
  },
  {
   "metadata": {},
   "cell_type": "markdown",
   "source": "## Calculate the similarity between the texts",
   "id": "fa6574c7550ab5e2"
  },
  {
   "metadata": {
    "ExecuteTime": {
     "end_time": "2024-05-08T12:05:04.700081Z",
     "start_time": "2024-05-08T12:05:04.687937Z"
    }
   },
   "cell_type": "code",
   "source": [
    "# Read list of errors\n",
    "errors = pd.read_csv(\"../DATA/errors.csv\", sep=';')"
   ],
   "id": "fb297aac6cb9e59b",
   "outputs": [],
   "execution_count": 162
  },
  {
   "metadata": {
    "ExecuteTime": {
     "end_time": "2024-05-08T14:08:30.707207Z",
     "start_time": "2024-05-08T14:08:30.702202Z"
    }
   },
   "cell_type": "code",
   "source": [
    "from sklearn.metrics.pairwise import cosine_similarity\n",
    "\n",
    "def calculate_mean_cosine_score(vector, text, model, n=5):\n",
    "    cosine_scores = []\n",
    "    for i in range(n):\n",
    "        cosine_scores.append(\n",
    "            cosine_similarity(vector.reshape(1, -1), model.infer_vector(text.split()).reshape(1, -1))\n",
    "        )\n",
    "    return np.mean(cosine_scores)"
   ],
   "id": "9f2d1efdfe544d83",
   "outputs": [],
   "execution_count": 471
  },
  {
   "metadata": {
    "jupyter": {
     "is_executing": true
    },
    "ExecuteTime": {
     "start_time": "2024-05-08T14:23:29.166323Z"
    }
   },
   "cell_type": "code",
   "source": [
    "# Calculate the cosine similarity with all text_for_analyse for each of the errors descriptions\n",
    "for i, id_error in enumerate(errors['ID_ERROR']):\n",
    "    error_description = errors[errors['ID_ERROR'] == id_error]['DESCRIPCION'].values[0]\n",
    "    text_to_analyse.loc[:, f'cosine_similarity_{id_error}'] = text_to_analyse['PV-DBOW'].apply(lambda x: calculate_mean_cosine_score(x, error_description, loaded_models[0]))\n",
    "    print(f\"Error {i+1} of {len(errors)} calculated\")"
   ],
   "id": "5c1981de4f1af5db",
   "outputs": [
    {
     "name": "stderr",
     "output_type": "stream",
     "text": [
      "C:\\Users\\voliveira\\AppData\\Local\\Temp\\ipykernel_12524\\2247710291.py:4: SettingWithCopyWarning: \n",
      "A value is trying to be set on a copy of a slice from a DataFrame.\n",
      "Try using .loc[row_indexer,col_indexer] = value instead\n",
      "\n",
      "See the caveats in the documentation: https://pandas.pydata.org/pandas-docs/stable/user_guide/indexing.html#returning-a-view-versus-a-copy\n",
      "  text_to_analyse.loc[:, f'cosine_similarity_{id_error}'] = text_to_analyse['PV-DBOW'].apply(lambda x: calculate_mean_cosine_score(x, error_description, loaded_models[0]))\n"
     ]
    },
    {
     "name": "stdout",
     "output_type": "stream",
     "text": [
      "Error 1 of 75 calculated\n"
     ]
    },
    {
     "name": "stderr",
     "output_type": "stream",
     "text": [
      "C:\\Users\\voliveira\\AppData\\Local\\Temp\\ipykernel_12524\\2247710291.py:4: SettingWithCopyWarning: \n",
      "A value is trying to be set on a copy of a slice from a DataFrame.\n",
      "Try using .loc[row_indexer,col_indexer] = value instead\n",
      "\n",
      "See the caveats in the documentation: https://pandas.pydata.org/pandas-docs/stable/user_guide/indexing.html#returning-a-view-versus-a-copy\n",
      "  text_to_analyse.loc[:, f'cosine_similarity_{id_error}'] = text_to_analyse['PV-DBOW'].apply(lambda x: calculate_mean_cosine_score(x, error_description, loaded_models[0]))\n"
     ]
    },
    {
     "name": "stdout",
     "output_type": "stream",
     "text": [
      "Error 2 of 75 calculated\n"
     ]
    },
    {
     "name": "stderr",
     "output_type": "stream",
     "text": [
      "C:\\Users\\voliveira\\AppData\\Local\\Temp\\ipykernel_12524\\2247710291.py:4: SettingWithCopyWarning: \n",
      "A value is trying to be set on a copy of a slice from a DataFrame.\n",
      "Try using .loc[row_indexer,col_indexer] = value instead\n",
      "\n",
      "See the caveats in the documentation: https://pandas.pydata.org/pandas-docs/stable/user_guide/indexing.html#returning-a-view-versus-a-copy\n",
      "  text_to_analyse.loc[:, f'cosine_similarity_{id_error}'] = text_to_analyse['PV-DBOW'].apply(lambda x: calculate_mean_cosine_score(x, error_description, loaded_models[0]))\n"
     ]
    },
    {
     "name": "stdout",
     "output_type": "stream",
     "text": [
      "Error 3 of 75 calculated\n"
     ]
    },
    {
     "name": "stderr",
     "output_type": "stream",
     "text": [
      "C:\\Users\\voliveira\\AppData\\Local\\Temp\\ipykernel_12524\\2247710291.py:4: SettingWithCopyWarning: \n",
      "A value is trying to be set on a copy of a slice from a DataFrame.\n",
      "Try using .loc[row_indexer,col_indexer] = value instead\n",
      "\n",
      "See the caveats in the documentation: https://pandas.pydata.org/pandas-docs/stable/user_guide/indexing.html#returning-a-view-versus-a-copy\n",
      "  text_to_analyse.loc[:, f'cosine_similarity_{id_error}'] = text_to_analyse['PV-DBOW'].apply(lambda x: calculate_mean_cosine_score(x, error_description, loaded_models[0]))\n"
     ]
    },
    {
     "name": "stdout",
     "output_type": "stream",
     "text": [
      "Error 4 of 75 calculated\n"
     ]
    },
    {
     "name": "stderr",
     "output_type": "stream",
     "text": [
      "C:\\Users\\voliveira\\AppData\\Local\\Temp\\ipykernel_12524\\2247710291.py:4: SettingWithCopyWarning: \n",
      "A value is trying to be set on a copy of a slice from a DataFrame.\n",
      "Try using .loc[row_indexer,col_indexer] = value instead\n",
      "\n",
      "See the caveats in the documentation: https://pandas.pydata.org/pandas-docs/stable/user_guide/indexing.html#returning-a-view-versus-a-copy\n",
      "  text_to_analyse.loc[:, f'cosine_similarity_{id_error}'] = text_to_analyse['PV-DBOW'].apply(lambda x: calculate_mean_cosine_score(x, error_description, loaded_models[0]))\n"
     ]
    },
    {
     "name": "stdout",
     "output_type": "stream",
     "text": [
      "Error 5 of 75 calculated\n"
     ]
    },
    {
     "name": "stderr",
     "output_type": "stream",
     "text": [
      "C:\\Users\\voliveira\\AppData\\Local\\Temp\\ipykernel_12524\\2247710291.py:4: SettingWithCopyWarning: \n",
      "A value is trying to be set on a copy of a slice from a DataFrame.\n",
      "Try using .loc[row_indexer,col_indexer] = value instead\n",
      "\n",
      "See the caveats in the documentation: https://pandas.pydata.org/pandas-docs/stable/user_guide/indexing.html#returning-a-view-versus-a-copy\n",
      "  text_to_analyse.loc[:, f'cosine_similarity_{id_error}'] = text_to_analyse['PV-DBOW'].apply(lambda x: calculate_mean_cosine_score(x, error_description, loaded_models[0]))\n"
     ]
    },
    {
     "name": "stdout",
     "output_type": "stream",
     "text": [
      "Error 6 of 75 calculated\n"
     ]
    },
    {
     "name": "stderr",
     "output_type": "stream",
     "text": [
      "C:\\Users\\voliveira\\AppData\\Local\\Temp\\ipykernel_12524\\2247710291.py:4: SettingWithCopyWarning: \n",
      "A value is trying to be set on a copy of a slice from a DataFrame.\n",
      "Try using .loc[row_indexer,col_indexer] = value instead\n",
      "\n",
      "See the caveats in the documentation: https://pandas.pydata.org/pandas-docs/stable/user_guide/indexing.html#returning-a-view-versus-a-copy\n",
      "  text_to_analyse.loc[:, f'cosine_similarity_{id_error}'] = text_to_analyse['PV-DBOW'].apply(lambda x: calculate_mean_cosine_score(x, error_description, loaded_models[0]))\n"
     ]
    },
    {
     "name": "stdout",
     "output_type": "stream",
     "text": [
      "Error 7 of 75 calculated\n"
     ]
    },
    {
     "name": "stderr",
     "output_type": "stream",
     "text": [
      "C:\\Users\\voliveira\\AppData\\Local\\Temp\\ipykernel_12524\\2247710291.py:4: SettingWithCopyWarning: \n",
      "A value is trying to be set on a copy of a slice from a DataFrame.\n",
      "Try using .loc[row_indexer,col_indexer] = value instead\n",
      "\n",
      "See the caveats in the documentation: https://pandas.pydata.org/pandas-docs/stable/user_guide/indexing.html#returning-a-view-versus-a-copy\n",
      "  text_to_analyse.loc[:, f'cosine_similarity_{id_error}'] = text_to_analyse['PV-DBOW'].apply(lambda x: calculate_mean_cosine_score(x, error_description, loaded_models[0]))\n"
     ]
    },
    {
     "name": "stdout",
     "output_type": "stream",
     "text": [
      "Error 8 of 75 calculated\n"
     ]
    },
    {
     "name": "stderr",
     "output_type": "stream",
     "text": [
      "C:\\Users\\voliveira\\AppData\\Local\\Temp\\ipykernel_12524\\2247710291.py:4: SettingWithCopyWarning: \n",
      "A value is trying to be set on a copy of a slice from a DataFrame.\n",
      "Try using .loc[row_indexer,col_indexer] = value instead\n",
      "\n",
      "See the caveats in the documentation: https://pandas.pydata.org/pandas-docs/stable/user_guide/indexing.html#returning-a-view-versus-a-copy\n",
      "  text_to_analyse.loc[:, f'cosine_similarity_{id_error}'] = text_to_analyse['PV-DBOW'].apply(lambda x: calculate_mean_cosine_score(x, error_description, loaded_models[0]))\n"
     ]
    },
    {
     "name": "stdout",
     "output_type": "stream",
     "text": [
      "Error 9 of 75 calculated\n"
     ]
    },
    {
     "name": "stderr",
     "output_type": "stream",
     "text": [
      "C:\\Users\\voliveira\\AppData\\Local\\Temp\\ipykernel_12524\\2247710291.py:4: SettingWithCopyWarning: \n",
      "A value is trying to be set on a copy of a slice from a DataFrame.\n",
      "Try using .loc[row_indexer,col_indexer] = value instead\n",
      "\n",
      "See the caveats in the documentation: https://pandas.pydata.org/pandas-docs/stable/user_guide/indexing.html#returning-a-view-versus-a-copy\n",
      "  text_to_analyse.loc[:, f'cosine_similarity_{id_error}'] = text_to_analyse['PV-DBOW'].apply(lambda x: calculate_mean_cosine_score(x, error_description, loaded_models[0]))\n"
     ]
    },
    {
     "name": "stdout",
     "output_type": "stream",
     "text": [
      "Error 10 of 75 calculated\n"
     ]
    },
    {
     "name": "stderr",
     "output_type": "stream",
     "text": [
      "C:\\Users\\voliveira\\AppData\\Local\\Temp\\ipykernel_12524\\2247710291.py:4: SettingWithCopyWarning: \n",
      "A value is trying to be set on a copy of a slice from a DataFrame.\n",
      "Try using .loc[row_indexer,col_indexer] = value instead\n",
      "\n",
      "See the caveats in the documentation: https://pandas.pydata.org/pandas-docs/stable/user_guide/indexing.html#returning-a-view-versus-a-copy\n",
      "  text_to_analyse.loc[:, f'cosine_similarity_{id_error}'] = text_to_analyse['PV-DBOW'].apply(lambda x: calculate_mean_cosine_score(x, error_description, loaded_models[0]))\n"
     ]
    },
    {
     "name": "stdout",
     "output_type": "stream",
     "text": [
      "Error 11 of 75 calculated\n"
     ]
    },
    {
     "name": "stderr",
     "output_type": "stream",
     "text": [
      "C:\\Users\\voliveira\\AppData\\Local\\Temp\\ipykernel_12524\\2247710291.py:4: SettingWithCopyWarning: \n",
      "A value is trying to be set on a copy of a slice from a DataFrame.\n",
      "Try using .loc[row_indexer,col_indexer] = value instead\n",
      "\n",
      "See the caveats in the documentation: https://pandas.pydata.org/pandas-docs/stable/user_guide/indexing.html#returning-a-view-versus-a-copy\n",
      "  text_to_analyse.loc[:, f'cosine_similarity_{id_error}'] = text_to_analyse['PV-DBOW'].apply(lambda x: calculate_mean_cosine_score(x, error_description, loaded_models[0]))\n"
     ]
    },
    {
     "name": "stdout",
     "output_type": "stream",
     "text": [
      "Error 12 of 75 calculated\n"
     ]
    },
    {
     "name": "stderr",
     "output_type": "stream",
     "text": [
      "C:\\Users\\voliveira\\AppData\\Local\\Temp\\ipykernel_12524\\2247710291.py:4: SettingWithCopyWarning: \n",
      "A value is trying to be set on a copy of a slice from a DataFrame.\n",
      "Try using .loc[row_indexer,col_indexer] = value instead\n",
      "\n",
      "See the caveats in the documentation: https://pandas.pydata.org/pandas-docs/stable/user_guide/indexing.html#returning-a-view-versus-a-copy\n",
      "  text_to_analyse.loc[:, f'cosine_similarity_{id_error}'] = text_to_analyse['PV-DBOW'].apply(lambda x: calculate_mean_cosine_score(x, error_description, loaded_models[0]))\n"
     ]
    },
    {
     "name": "stdout",
     "output_type": "stream",
     "text": [
      "Error 13 of 75 calculated\n"
     ]
    },
    {
     "name": "stderr",
     "output_type": "stream",
     "text": [
      "C:\\Users\\voliveira\\AppData\\Local\\Temp\\ipykernel_12524\\2247710291.py:4: SettingWithCopyWarning: \n",
      "A value is trying to be set on a copy of a slice from a DataFrame.\n",
      "Try using .loc[row_indexer,col_indexer] = value instead\n",
      "\n",
      "See the caveats in the documentation: https://pandas.pydata.org/pandas-docs/stable/user_guide/indexing.html#returning-a-view-versus-a-copy\n",
      "  text_to_analyse.loc[:, f'cosine_similarity_{id_error}'] = text_to_analyse['PV-DBOW'].apply(lambda x: calculate_mean_cosine_score(x, error_description, loaded_models[0]))\n"
     ]
    },
    {
     "name": "stdout",
     "output_type": "stream",
     "text": [
      "Error 14 of 75 calculated\n"
     ]
    },
    {
     "name": "stderr",
     "output_type": "stream",
     "text": [
      "C:\\Users\\voliveira\\AppData\\Local\\Temp\\ipykernel_12524\\2247710291.py:4: SettingWithCopyWarning: \n",
      "A value is trying to be set on a copy of a slice from a DataFrame.\n",
      "Try using .loc[row_indexer,col_indexer] = value instead\n",
      "\n",
      "See the caveats in the documentation: https://pandas.pydata.org/pandas-docs/stable/user_guide/indexing.html#returning-a-view-versus-a-copy\n",
      "  text_to_analyse.loc[:, f'cosine_similarity_{id_error}'] = text_to_analyse['PV-DBOW'].apply(lambda x: calculate_mean_cosine_score(x, error_description, loaded_models[0]))\n"
     ]
    },
    {
     "name": "stdout",
     "output_type": "stream",
     "text": [
      "Error 15 of 75 calculated\n"
     ]
    },
    {
     "name": "stderr",
     "output_type": "stream",
     "text": [
      "C:\\Users\\voliveira\\AppData\\Local\\Temp\\ipykernel_12524\\2247710291.py:4: SettingWithCopyWarning: \n",
      "A value is trying to be set on a copy of a slice from a DataFrame.\n",
      "Try using .loc[row_indexer,col_indexer] = value instead\n",
      "\n",
      "See the caveats in the documentation: https://pandas.pydata.org/pandas-docs/stable/user_guide/indexing.html#returning-a-view-versus-a-copy\n",
      "  text_to_analyse.loc[:, f'cosine_similarity_{id_error}'] = text_to_analyse['PV-DBOW'].apply(lambda x: calculate_mean_cosine_score(x, error_description, loaded_models[0]))\n"
     ]
    },
    {
     "name": "stdout",
     "output_type": "stream",
     "text": [
      "Error 16 of 75 calculated\n"
     ]
    },
    {
     "name": "stderr",
     "output_type": "stream",
     "text": [
      "C:\\Users\\voliveira\\AppData\\Local\\Temp\\ipykernel_12524\\2247710291.py:4: SettingWithCopyWarning: \n",
      "A value is trying to be set on a copy of a slice from a DataFrame.\n",
      "Try using .loc[row_indexer,col_indexer] = value instead\n",
      "\n",
      "See the caveats in the documentation: https://pandas.pydata.org/pandas-docs/stable/user_guide/indexing.html#returning-a-view-versus-a-copy\n",
      "  text_to_analyse.loc[:, f'cosine_similarity_{id_error}'] = text_to_analyse['PV-DBOW'].apply(lambda x: calculate_mean_cosine_score(x, error_description, loaded_models[0]))\n"
     ]
    },
    {
     "name": "stdout",
     "output_type": "stream",
     "text": [
      "Error 17 of 75 calculated\n"
     ]
    },
    {
     "name": "stderr",
     "output_type": "stream",
     "text": [
      "C:\\Users\\voliveira\\AppData\\Local\\Temp\\ipykernel_12524\\2247710291.py:4: SettingWithCopyWarning: \n",
      "A value is trying to be set on a copy of a slice from a DataFrame.\n",
      "Try using .loc[row_indexer,col_indexer] = value instead\n",
      "\n",
      "See the caveats in the documentation: https://pandas.pydata.org/pandas-docs/stable/user_guide/indexing.html#returning-a-view-versus-a-copy\n",
      "  text_to_analyse.loc[:, f'cosine_similarity_{id_error}'] = text_to_analyse['PV-DBOW'].apply(lambda x: calculate_mean_cosine_score(x, error_description, loaded_models[0]))\n"
     ]
    },
    {
     "name": "stdout",
     "output_type": "stream",
     "text": [
      "Error 18 of 75 calculated\n"
     ]
    },
    {
     "name": "stderr",
     "output_type": "stream",
     "text": [
      "C:\\Users\\voliveira\\AppData\\Local\\Temp\\ipykernel_12524\\2247710291.py:4: SettingWithCopyWarning: \n",
      "A value is trying to be set on a copy of a slice from a DataFrame.\n",
      "Try using .loc[row_indexer,col_indexer] = value instead\n",
      "\n",
      "See the caveats in the documentation: https://pandas.pydata.org/pandas-docs/stable/user_guide/indexing.html#returning-a-view-versus-a-copy\n",
      "  text_to_analyse.loc[:, f'cosine_similarity_{id_error}'] = text_to_analyse['PV-DBOW'].apply(lambda x: calculate_mean_cosine_score(x, error_description, loaded_models[0]))\n"
     ]
    },
    {
     "name": "stdout",
     "output_type": "stream",
     "text": [
      "Error 19 of 75 calculated\n"
     ]
    },
    {
     "name": "stderr",
     "output_type": "stream",
     "text": [
      "C:\\Users\\voliveira\\AppData\\Local\\Temp\\ipykernel_12524\\2247710291.py:4: SettingWithCopyWarning: \n",
      "A value is trying to be set on a copy of a slice from a DataFrame.\n",
      "Try using .loc[row_indexer,col_indexer] = value instead\n",
      "\n",
      "See the caveats in the documentation: https://pandas.pydata.org/pandas-docs/stable/user_guide/indexing.html#returning-a-view-versus-a-copy\n",
      "  text_to_analyse.loc[:, f'cosine_similarity_{id_error}'] = text_to_analyse['PV-DBOW'].apply(lambda x: calculate_mean_cosine_score(x, error_description, loaded_models[0]))\n"
     ]
    },
    {
     "name": "stdout",
     "output_type": "stream",
     "text": [
      "Error 20 of 75 calculated\n"
     ]
    },
    {
     "name": "stderr",
     "output_type": "stream",
     "text": [
      "C:\\Users\\voliveira\\AppData\\Local\\Temp\\ipykernel_12524\\2247710291.py:4: SettingWithCopyWarning: \n",
      "A value is trying to be set on a copy of a slice from a DataFrame.\n",
      "Try using .loc[row_indexer,col_indexer] = value instead\n",
      "\n",
      "See the caveats in the documentation: https://pandas.pydata.org/pandas-docs/stable/user_guide/indexing.html#returning-a-view-versus-a-copy\n",
      "  text_to_analyse.loc[:, f'cosine_similarity_{id_error}'] = text_to_analyse['PV-DBOW'].apply(lambda x: calculate_mean_cosine_score(x, error_description, loaded_models[0]))\n"
     ]
    },
    {
     "name": "stdout",
     "output_type": "stream",
     "text": [
      "Error 21 of 75 calculated\n"
     ]
    },
    {
     "name": "stderr",
     "output_type": "stream",
     "text": [
      "C:\\Users\\voliveira\\AppData\\Local\\Temp\\ipykernel_12524\\2247710291.py:4: SettingWithCopyWarning: \n",
      "A value is trying to be set on a copy of a slice from a DataFrame.\n",
      "Try using .loc[row_indexer,col_indexer] = value instead\n",
      "\n",
      "See the caveats in the documentation: https://pandas.pydata.org/pandas-docs/stable/user_guide/indexing.html#returning-a-view-versus-a-copy\n",
      "  text_to_analyse.loc[:, f'cosine_similarity_{id_error}'] = text_to_analyse['PV-DBOW'].apply(lambda x: calculate_mean_cosine_score(x, error_description, loaded_models[0]))\n"
     ]
    },
    {
     "name": "stdout",
     "output_type": "stream",
     "text": [
      "Error 22 of 75 calculated\n"
     ]
    },
    {
     "name": "stderr",
     "output_type": "stream",
     "text": [
      "C:\\Users\\voliveira\\AppData\\Local\\Temp\\ipykernel_12524\\2247710291.py:4: SettingWithCopyWarning: \n",
      "A value is trying to be set on a copy of a slice from a DataFrame.\n",
      "Try using .loc[row_indexer,col_indexer] = value instead\n",
      "\n",
      "See the caveats in the documentation: https://pandas.pydata.org/pandas-docs/stable/user_guide/indexing.html#returning-a-view-versus-a-copy\n",
      "  text_to_analyse.loc[:, f'cosine_similarity_{id_error}'] = text_to_analyse['PV-DBOW'].apply(lambda x: calculate_mean_cosine_score(x, error_description, loaded_models[0]))\n"
     ]
    },
    {
     "name": "stdout",
     "output_type": "stream",
     "text": [
      "Error 23 of 75 calculated\n"
     ]
    },
    {
     "name": "stderr",
     "output_type": "stream",
     "text": [
      "C:\\Users\\voliveira\\AppData\\Local\\Temp\\ipykernel_12524\\2247710291.py:4: SettingWithCopyWarning: \n",
      "A value is trying to be set on a copy of a slice from a DataFrame.\n",
      "Try using .loc[row_indexer,col_indexer] = value instead\n",
      "\n",
      "See the caveats in the documentation: https://pandas.pydata.org/pandas-docs/stable/user_guide/indexing.html#returning-a-view-versus-a-copy\n",
      "  text_to_analyse.loc[:, f'cosine_similarity_{id_error}'] = text_to_analyse['PV-DBOW'].apply(lambda x: calculate_mean_cosine_score(x, error_description, loaded_models[0]))\n"
     ]
    },
    {
     "name": "stdout",
     "output_type": "stream",
     "text": [
      "Error 24 of 75 calculated\n"
     ]
    },
    {
     "name": "stderr",
     "output_type": "stream",
     "text": [
      "C:\\Users\\voliveira\\AppData\\Local\\Temp\\ipykernel_12524\\2247710291.py:4: SettingWithCopyWarning: \n",
      "A value is trying to be set on a copy of a slice from a DataFrame.\n",
      "Try using .loc[row_indexer,col_indexer] = value instead\n",
      "\n",
      "See the caveats in the documentation: https://pandas.pydata.org/pandas-docs/stable/user_guide/indexing.html#returning-a-view-versus-a-copy\n",
      "  text_to_analyse.loc[:, f'cosine_similarity_{id_error}'] = text_to_analyse['PV-DBOW'].apply(lambda x: calculate_mean_cosine_score(x, error_description, loaded_models[0]))\n"
     ]
    },
    {
     "name": "stdout",
     "output_type": "stream",
     "text": [
      "Error 25 of 75 calculated\n"
     ]
    },
    {
     "name": "stderr",
     "output_type": "stream",
     "text": [
      "C:\\Users\\voliveira\\AppData\\Local\\Temp\\ipykernel_12524\\2247710291.py:4: SettingWithCopyWarning: \n",
      "A value is trying to be set on a copy of a slice from a DataFrame.\n",
      "Try using .loc[row_indexer,col_indexer] = value instead\n",
      "\n",
      "See the caveats in the documentation: https://pandas.pydata.org/pandas-docs/stable/user_guide/indexing.html#returning-a-view-versus-a-copy\n",
      "  text_to_analyse.loc[:, f'cosine_similarity_{id_error}'] = text_to_analyse['PV-DBOW'].apply(lambda x: calculate_mean_cosine_score(x, error_description, loaded_models[0]))\n"
     ]
    },
    {
     "name": "stdout",
     "output_type": "stream",
     "text": [
      "Error 26 of 75 calculated\n"
     ]
    }
   ],
   "execution_count": null
  },
  {
   "metadata": {
    "jupyter": {
     "is_executing": true
    }
   },
   "cell_type": "code",
   "source": [
    "# Save text_to_analyse to disk\n",
    "# text_to_analyse.to_csv(\"../DATA/text_to_analyse.csv\", sep='¬', encoding='utf-8-sig', index=False)"
   ],
   "id": "2d3813e09545b3c0",
   "outputs": [],
   "execution_count": null
  },
  {
   "metadata": {
    "ExecuteTime": {
     "end_time": "2024-05-09T05:35:43.160918Z",
     "start_time": "2024-05-09T05:35:39.383938Z"
    }
   },
   "cell_type": "code",
   "source": [
    "# Load text_to_analyse from disk\n",
    "# text_to_analyse = pd.read_csv(\"../DATA/text_to_analyse.csv\", sep='¬', encoding='utf-8-sig')"
   ],
   "id": "bdddf88949009f17",
   "outputs": [
    {
     "name": "stderr",
     "output_type": "stream",
     "text": [
      "C:\\Users\\voliveira\\AppData\\Local\\Temp\\ipykernel_5440\\1623396620.py:2: ParserWarning: Falling back to the 'python' engine because the separator encoded in utf-8 is > 1 char long, and the 'c' engine does not support such separators; you can avoid this warning by specifying engine='python'.\n",
      "  text_to_analyse = pd.read_csv(\"../DATA/text_to_analyse.csv\", sep='¬', encoding='utf-8-sig')\n"
     ]
    }
   ],
   "execution_count": 3
  },
  {
   "metadata": {
    "ExecuteTime": {
     "end_time": "2024-05-08T14:22:30.343515Z",
     "start_time": "2024-05-08T14:18:29.773789Z"
    }
   },
   "cell_type": "code",
   "source": [
    "text_to_analyse.loc[:,'cosine_similarity'] = text_to_analyse['PV-DBOW'] \\\n",
    "    .apply(lambda x: calculate_mean_cosine_score(x, test_text, loaded_models[0]))"
   ],
   "id": "f67371a3d1a66e1f",
   "outputs": [],
   "execution_count": 479
  },
  {
   "metadata": {
    "ExecuteTime": {
     "end_time": "2024-05-08T14:14:40.517403Z",
     "start_time": "2024-05-08T14:14:40.502756Z"
    }
   },
   "cell_type": "code",
   "source": [
    "text_to_analyse[['text_to_analyse','cosine_similarity']] \\\n",
    "    .sort_values(by='cosine_similarity', ascending=False) \\\n",
    "    .head(10)"
   ],
   "id": "b8c66fb04245a951",
   "outputs": [
    {
     "data": {
      "text/plain": [
       "                                                                                                                                                                                                                 text_to_analyse  \\\n",
       "10493                                                                                                                                                      No abre la rejilla Rejilla motorizada La rejilla no se abre CR300X150   \n",
       "7878                                                La compuerta falla al abrir/cerrar, no funciona correctamente Compuerta motorizada de 300x150 La compuerta motorizada no funciona correctamente, se bloquea Compuerta motori   \n",
       "15293                                                                                                                               error cuando da corriente no carga BLUFACE error cuando da corriente no carga AZDI6BLUFACECB   \n",
       "13662                                                                 La persiana de 1 compuerta motorizada está rota en el eje Zona de aire plenaria La persiana de una compuerta motorizada está rota en el eje AZEZ6MELBS01M6   \n",
       "38475                                                                                                                                 motor compuerta no funciona compuerta motorizada motor en mal estado no funciona cr350x150   \n",
       "32401                                                                    La rejilla no funciona y vuelve loco al resto del sistema Rejilla inteligente La rejilla no funciona y vuelve loco al resto del sistema Rint 300x150MTE   \n",
       "27432  Rejilla P/N: RINT060015BKMRE - S/N: 000C4YF1. La rejilla no se abre ni se cierra.  Solicitamos el recambio del motor MOTOR REJILLA La rejilla no se abre ni se cierra.  Solicitamos el recambio del motor RINT060015BKMRE   \n",
       "35564                                                                                                                                                                                                       No se abre CPM200ION   \n",
       "1504                                                                      Apertura de la rejilla al instalarla en el techo. Los clips no sujetan, se abre solo. REJILLA 800x600 RRFR No se puede cerrar la puerta. RRFR080060BTX   \n",
       "6925                                                                                                              La rejilla inteligente no se abre. Rejilla inteligente 300x150 Rejilla inteligente no se abre. RINT030015BKMTE   \n",
       "\n",
       "       cosine_similarity  \n",
       "10493           0.822334  \n",
       "7878            0.819627  \n",
       "15293           0.818195  \n",
       "13662           0.815587  \n",
       "38475           0.813199  \n",
       "32401           0.806855  \n",
       "27432           0.805893  \n",
       "35564           0.804834  \n",
       "1504            0.803322  \n",
       "6925            0.800364  "
      ],
      "text/html": [
       "<div>\n",
       "<style scoped>\n",
       "    .dataframe tbody tr th:only-of-type {\n",
       "        vertical-align: middle;\n",
       "    }\n",
       "\n",
       "    .dataframe tbody tr th {\n",
       "        vertical-align: top;\n",
       "    }\n",
       "\n",
       "    .dataframe thead th {\n",
       "        text-align: right;\n",
       "    }\n",
       "</style>\n",
       "<table border=\"1\" class=\"dataframe\">\n",
       "  <thead>\n",
       "    <tr style=\"text-align: right;\">\n",
       "      <th></th>\n",
       "      <th>text_to_analyse</th>\n",
       "      <th>cosine_similarity</th>\n",
       "    </tr>\n",
       "  </thead>\n",
       "  <tbody>\n",
       "    <tr>\n",
       "      <th>10493</th>\n",
       "      <td>No abre la rejilla Rejilla motorizada La rejilla no se abre CR300X150</td>\n",
       "      <td>0.822334</td>\n",
       "    </tr>\n",
       "    <tr>\n",
       "      <th>7878</th>\n",
       "      <td>La compuerta falla al abrir/cerrar, no funciona correctamente Compuerta motorizada de 300x150 La compuerta motorizada no funciona correctamente, se bloquea Compuerta motori</td>\n",
       "      <td>0.819627</td>\n",
       "    </tr>\n",
       "    <tr>\n",
       "      <th>15293</th>\n",
       "      <td>error cuando da corriente no carga BLUFACE error cuando da corriente no carga AZDI6BLUFACECB</td>\n",
       "      <td>0.818195</td>\n",
       "    </tr>\n",
       "    <tr>\n",
       "      <th>13662</th>\n",
       "      <td>La persiana de 1 compuerta motorizada está rota en el eje Zona de aire plenaria La persiana de una compuerta motorizada está rota en el eje AZEZ6MELBS01M6</td>\n",
       "      <td>0.815587</td>\n",
       "    </tr>\n",
       "    <tr>\n",
       "      <th>38475</th>\n",
       "      <td>motor compuerta no funciona compuerta motorizada motor en mal estado no funciona cr350x150</td>\n",
       "      <td>0.813199</td>\n",
       "    </tr>\n",
       "    <tr>\n",
       "      <th>32401</th>\n",
       "      <td>La rejilla no funciona y vuelve loco al resto del sistema Rejilla inteligente La rejilla no funciona y vuelve loco al resto del sistema Rint 300x150MTE</td>\n",
       "      <td>0.806855</td>\n",
       "    </tr>\n",
       "    <tr>\n",
       "      <th>27432</th>\n",
       "      <td>Rejilla P/N: RINT060015BKMRE - S/N: 000C4YF1. La rejilla no se abre ni se cierra.  Solicitamos el recambio del motor MOTOR REJILLA La rejilla no se abre ni se cierra.  Solicitamos el recambio del motor RINT060015BKMRE</td>\n",
       "      <td>0.805893</td>\n",
       "    </tr>\n",
       "    <tr>\n",
       "      <th>35564</th>\n",
       "      <td>No se abre CPM200ION</td>\n",
       "      <td>0.804834</td>\n",
       "    </tr>\n",
       "    <tr>\n",
       "      <th>1504</th>\n",
       "      <td>Apertura de la rejilla al instalarla en el techo. Los clips no sujetan, se abre solo. REJILLA 800x600 RRFR No se puede cerrar la puerta. RRFR080060BTX</td>\n",
       "      <td>0.803322</td>\n",
       "    </tr>\n",
       "    <tr>\n",
       "      <th>6925</th>\n",
       "      <td>La rejilla inteligente no se abre. Rejilla inteligente 300x150 Rejilla inteligente no se abre. RINT030015BKMTE</td>\n",
       "      <td>0.800364</td>\n",
       "    </tr>\n",
       "  </tbody>\n",
       "</table>\n",
       "</div>"
      ]
     },
     "execution_count": 478,
     "metadata": {},
     "output_type": "execute_result"
    }
   ],
   "execution_count": 478
  },
  {
   "metadata": {
    "ExecuteTime": {
     "end_time": "2024-05-09T05:42:49.425056Z",
     "start_time": "2024-05-09T05:42:49.355335Z"
    }
   },
   "cell_type": "code",
   "source": [
    "cosine_columns = [col for col in text_to_analyse.columns if 'cosine_similarity_' in col]\n",
    "text_to_analyse.loc[:, 'highest_score'] = text_to_analyse[cosine_columns].max(axis=1)\n",
    "text_to_analyse.loc[:, 'highest_score_error'] = text_to_analyse[cosine_columns].idxmax(axis=1).apply(lambda x: x.split('_')[-1])"
   ],
   "id": "275961e04f93e19b",
   "outputs": [],
   "execution_count": 18
  },
  {
   "metadata": {
    "ExecuteTime": {
     "end_time": "2024-05-09T05:42:49.705526Z",
     "start_time": "2024-05-09T05:42:49.690933Z"
    }
   },
   "cell_type": "code",
   "source": "text_to_analyse.head(10)",
   "id": "f7931048c23cb44f",
   "outputs": [
    {
     "data": {
      "text/plain": [
       "                            desc_problema_translated  \\\n",
       "0  INDICAN EXCLUSIVAMENTE QUE SE HA ESTROPEADO LA...   \n",
       "1                                        NO FUNCIONA   \n",
       "2  AZATACTORSB SE HA QUEDADO BLOQUEADO. NO PERMIT...   \n",
       "3  DESDE PULSADORES NO SE PUEDE SUBIR LA PERSIANA...   \n",
       "4           REJILLA MOTORIZADA DEFECTUOSA, SUSTITUIR   \n",
       "5  MODULO DE FANCOIL  DA PROBLEMAS LAS COMUNICACI...   \n",
       "6  MODULO DE FANCOIL NO SACA 7V POR EL BUS EN VEZ...   \n",
       "7  Error al pedir la pasarela, a última hora hubo...   \n",
       "8  SE HAN CAMBIADO LAS TAPAS TRASERAS VARIAS VECE...   \n",
       "9  SE HAN CAMBIADO LAS TAPAS TRASERAS VARIAS VECE...   \n",
       "\n",
       "          descripcion_translated  \\\n",
       "0        MODULO ALARMAS TECNICAS   \n",
       "1                            NaN   \n",
       "2                            NaN   \n",
       "3             MODELO 2 PERSIANAS   \n",
       "4                            NaN   \n",
       "5                   AZAMFANCOILC   \n",
       "6  MODULO DE FANCOIL DE ZONA 32Z   \n",
       "7      Pasarela Mitsubishi Heavy   \n",
       "8                            NaN   \n",
       "9                            NaN   \n",
       "\n",
       "                                 problema_translated     cod_articulo  \\\n",
       "0  INDICAN SE HA  ESTROPEADO EN LA INSTALACION Y ...             MATS   \n",
       "1                                        NO FUNCIONA     AZC3TACTOCSB   \n",
       "2  TACTO BLOQUEADO. NO ENCIENDE-APAGA NI DEJA CAM...      AZATACTORSB   \n",
       "3  UNA DE LAS 2 PERSIANAS NO FUNCIONA CON PULSADO...             PER2   \n",
       "4  Rafael  el viernes llego mi pedido nº 23349 pa...  RINT040015BKMTE   \n",
       "5                      MODULO DE FANCOIL DE ZONA 32Z     AZAMFANCOILC   \n",
       "6  SE DETECTA QUE EL BLUEFACE AL ENCENDERLO, SE Q...     AZAMFANCOILC   \n",
       "7  Error comercial, por cambio de última hora en ...     AZXEQADAPMHI   \n",
       "8      SE ROMPEN TAPAS TRASERAS. CAMBIAR TERMOSTATO.   AZC3BLUEFECOSB   \n",
       "9              5 UNIDADES. SE ROMPEN TAPAS TRASERAS.     AZC3TACTOCSB   \n",
       "\n",
       "                                     text_to_analyse  \\\n",
       "0  INDICAN EXCLUSIVAMENTE QUE SE HA ESTROPEADO LA...   \n",
       "1              NO FUNCIONA  NO FUNCIONA AZC3TACTOCSB   \n",
       "2  AZATACTORSB SE HA QUEDADO BLOQUEADO. NO PERMIT...   \n",
       "3  DESDE PULSADORES NO SE PUEDE SUBIR LA PERSIANA...   \n",
       "4  REJILLA MOTORIZADA DEFECTUOSA, SUSTITUIR  Rafa...   \n",
       "5  MODULO DE FANCOIL  DA PROBLEMAS LAS COMUNICACI...   \n",
       "6  MODULO DE FANCOIL NO SACA 7V POR EL BUS EN VEZ...   \n",
       "7  Error al pedir la pasarela, a última hora hubo...   \n",
       "8  SE HAN CAMBIADO LAS TAPAS TRASERAS VARIAS VECE...   \n",
       "9  SE HAN CAMBIADO LAS TAPAS TRASERAS VARIAS VECE...   \n",
       "\n",
       "                                             PV-DBOW  \\\n",
       "0  [ 0.02292479 -0.21365319 -0.19756609  0.305030...   \n",
       "1  [-0.05360986 -0.3043402  -0.07687344 -0.023034...   \n",
       "2  [-1.01469740e-01 -3.59431654e-01 -3.63641046e-...   \n",
       "3  [-0.22625495 -0.27601463 -0.14876926  0.216895...   \n",
       "4  [-0.05795009 -0.30249217 -0.01555946 -0.156779...   \n",
       "5  [ 0.15441857 -0.63806075  0.02751571  0.398508...   \n",
       "6  [ 0.11285342 -0.56048167 -0.09949385  0.374581...   \n",
       "7  [ 0.14691335 -0.47134426  0.07787238  0.030501...   \n",
       "8  [ 0.0945986  -0.44374052 -0.02086731  0.254979...   \n",
       "9  [ 0.11505522 -0.42948332 -0.03061972  0.228920...   \n",
       "\n",
       "                                               PV-DM  cluster  \\\n",
       "0  [ 2.7738678e-01  1.9454908e+00 -1.0628538e+00 ...      348   \n",
       "1  [-0.13926362 -0.00577123  0.00343576 -0.034550...      128   \n",
       "2  [-0.40210313  0.33901432 -0.12698448  0.062674...      310   \n",
       "3  [ 0.11031126  0.12480639  0.8863437   0.130832...      230   \n",
       "4  [-2.64278650e-01 -1.75095573e-01  6.62560701e-...       91   \n",
       "5  [-0.4844401   0.09746525  0.689053    0.443628...      118   \n",
       "6  [-1.2038625  -0.0567566  -0.1218907  -0.382796...      209   \n",
       "7  [ 5.1617138e-02  1.3685622e+00  4.3865690e-01 ...      304   \n",
       "8  [-0.51640475  0.6481779   0.16102794 -0.514311...      214   \n",
       "9  [-0.6939791   0.54678166  0.26473445 -0.338831...      214   \n",
       "\n",
       "   cosine_similarity  cosine_similarity_1.1  ...  cosine_similarity_5.2  \\\n",
       "0           0.289285               0.353848  ...               0.375369   \n",
       "1           0.482504               0.491677  ...               0.524526   \n",
       "2           0.342568               0.315643  ...               0.429952   \n",
       "3           0.217849               0.374128  ...               0.388664   \n",
       "4           0.486409               0.505680  ...               0.431077   \n",
       "5           0.299898               0.311907  ...               0.335267   \n",
       "6           0.350422               0.320102  ...               0.280600   \n",
       "7           0.600040               0.709797  ...               0.644453   \n",
       "8           0.262732               0.409268  ...               0.401019   \n",
       "9           0.256015               0.387654  ...               0.390971   \n",
       "\n",
       "   cosine_similarity_5.3  cosine_similarity_6.1  cosine_similarity_6.2  \\\n",
       "0               0.402441              -0.007065               0.587309   \n",
       "1               0.526625              -0.023983               0.717873   \n",
       "2               0.357951              -0.054398               0.592114   \n",
       "3               0.367513              -0.082243               0.553798   \n",
       "4               0.522106               0.170490               0.496958   \n",
       "5               0.394561               0.004328               0.557293   \n",
       "6               0.344231              -0.116912               0.547864   \n",
       "7               0.623907               0.125570               0.593102   \n",
       "8               0.384124              -0.032623               0.604275   \n",
       "9               0.386645              -0.013545               0.602241   \n",
       "\n",
       "   cosine_similarity_7.1  cosine_similarity_7.2  cosine_similarity_7.3  \\\n",
       "0               0.475844               0.323344               0.385080   \n",
       "1               0.566660               0.486015               0.574202   \n",
       "2               0.457750               0.293253               0.368031   \n",
       "3               0.437993               0.242106               0.368806   \n",
       "4               0.551200               0.433052               0.579487   \n",
       "5               0.444822               0.295023               0.372670   \n",
       "6               0.457761               0.304932               0.403356   \n",
       "7               0.548408               0.658222               0.659335   \n",
       "8               0.540758               0.333147               0.366548   \n",
       "9               0.535466               0.314000               0.369151   \n",
       "\n",
       "   cosine_similarity_7.4  highest_score  highest_score_error  \n",
       "0               0.335893       0.587309                  6.2  \n",
       "1               0.580762       0.763922                 3.61  \n",
       "2               0.405849       0.661779                 3.21  \n",
       "3               0.317617       0.553798                  6.2  \n",
       "4               0.489847       0.589575                 3.29  \n",
       "5               0.308548       0.557293                  6.2  \n",
       "6               0.293523       0.547864                  6.2  \n",
       "7               0.690858       0.734234                  1.2  \n",
       "8               0.342346       0.604275                  6.2  \n",
       "9               0.329442       0.602241                  6.2  \n",
       "\n",
       "[10 rows x 86 columns]"
      ],
      "text/html": [
       "<div>\n",
       "<style scoped>\n",
       "    .dataframe tbody tr th:only-of-type {\n",
       "        vertical-align: middle;\n",
       "    }\n",
       "\n",
       "    .dataframe tbody tr th {\n",
       "        vertical-align: top;\n",
       "    }\n",
       "\n",
       "    .dataframe thead th {\n",
       "        text-align: right;\n",
       "    }\n",
       "</style>\n",
       "<table border=\"1\" class=\"dataframe\">\n",
       "  <thead>\n",
       "    <tr style=\"text-align: right;\">\n",
       "      <th></th>\n",
       "      <th>desc_problema_translated</th>\n",
       "      <th>descripcion_translated</th>\n",
       "      <th>problema_translated</th>\n",
       "      <th>cod_articulo</th>\n",
       "      <th>text_to_analyse</th>\n",
       "      <th>PV-DBOW</th>\n",
       "      <th>PV-DM</th>\n",
       "      <th>cluster</th>\n",
       "      <th>cosine_similarity</th>\n",
       "      <th>cosine_similarity_1.1</th>\n",
       "      <th>...</th>\n",
       "      <th>cosine_similarity_5.2</th>\n",
       "      <th>cosine_similarity_5.3</th>\n",
       "      <th>cosine_similarity_6.1</th>\n",
       "      <th>cosine_similarity_6.2</th>\n",
       "      <th>cosine_similarity_7.1</th>\n",
       "      <th>cosine_similarity_7.2</th>\n",
       "      <th>cosine_similarity_7.3</th>\n",
       "      <th>cosine_similarity_7.4</th>\n",
       "      <th>highest_score</th>\n",
       "      <th>highest_score_error</th>\n",
       "    </tr>\n",
       "  </thead>\n",
       "  <tbody>\n",
       "    <tr>\n",
       "      <th>0</th>\n",
       "      <td>INDICAN EXCLUSIVAMENTE QUE SE HA ESTROPEADO LA...</td>\n",
       "      <td>MODULO ALARMAS TECNICAS</td>\n",
       "      <td>INDICAN SE HA  ESTROPEADO EN LA INSTALACION Y ...</td>\n",
       "      <td>MATS</td>\n",
       "      <td>INDICAN EXCLUSIVAMENTE QUE SE HA ESTROPEADO LA...</td>\n",
       "      <td>[ 0.02292479 -0.21365319 -0.19756609  0.305030...</td>\n",
       "      <td>[ 2.7738678e-01  1.9454908e+00 -1.0628538e+00 ...</td>\n",
       "      <td>348</td>\n",
       "      <td>0.289285</td>\n",
       "      <td>0.353848</td>\n",
       "      <td>...</td>\n",
       "      <td>0.375369</td>\n",
       "      <td>0.402441</td>\n",
       "      <td>-0.007065</td>\n",
       "      <td>0.587309</td>\n",
       "      <td>0.475844</td>\n",
       "      <td>0.323344</td>\n",
       "      <td>0.385080</td>\n",
       "      <td>0.335893</td>\n",
       "      <td>0.587309</td>\n",
       "      <td>6.2</td>\n",
       "    </tr>\n",
       "    <tr>\n",
       "      <th>1</th>\n",
       "      <td>NO FUNCIONA</td>\n",
       "      <td>NaN</td>\n",
       "      <td>NO FUNCIONA</td>\n",
       "      <td>AZC3TACTOCSB</td>\n",
       "      <td>NO FUNCIONA  NO FUNCIONA AZC3TACTOCSB</td>\n",
       "      <td>[-0.05360986 -0.3043402  -0.07687344 -0.023034...</td>\n",
       "      <td>[-0.13926362 -0.00577123  0.00343576 -0.034550...</td>\n",
       "      <td>128</td>\n",
       "      <td>0.482504</td>\n",
       "      <td>0.491677</td>\n",
       "      <td>...</td>\n",
       "      <td>0.524526</td>\n",
       "      <td>0.526625</td>\n",
       "      <td>-0.023983</td>\n",
       "      <td>0.717873</td>\n",
       "      <td>0.566660</td>\n",
       "      <td>0.486015</td>\n",
       "      <td>0.574202</td>\n",
       "      <td>0.580762</td>\n",
       "      <td>0.763922</td>\n",
       "      <td>3.61</td>\n",
       "    </tr>\n",
       "    <tr>\n",
       "      <th>2</th>\n",
       "      <td>AZATACTORSB SE HA QUEDADO BLOQUEADO. NO PERMIT...</td>\n",
       "      <td>NaN</td>\n",
       "      <td>TACTO BLOQUEADO. NO ENCIENDE-APAGA NI DEJA CAM...</td>\n",
       "      <td>AZATACTORSB</td>\n",
       "      <td>AZATACTORSB SE HA QUEDADO BLOQUEADO. NO PERMIT...</td>\n",
       "      <td>[-1.01469740e-01 -3.59431654e-01 -3.63641046e-...</td>\n",
       "      <td>[-0.40210313  0.33901432 -0.12698448  0.062674...</td>\n",
       "      <td>310</td>\n",
       "      <td>0.342568</td>\n",
       "      <td>0.315643</td>\n",
       "      <td>...</td>\n",
       "      <td>0.429952</td>\n",
       "      <td>0.357951</td>\n",
       "      <td>-0.054398</td>\n",
       "      <td>0.592114</td>\n",
       "      <td>0.457750</td>\n",
       "      <td>0.293253</td>\n",
       "      <td>0.368031</td>\n",
       "      <td>0.405849</td>\n",
       "      <td>0.661779</td>\n",
       "      <td>3.21</td>\n",
       "    </tr>\n",
       "    <tr>\n",
       "      <th>3</th>\n",
       "      <td>DESDE PULSADORES NO SE PUEDE SUBIR LA PERSIANA...</td>\n",
       "      <td>MODELO 2 PERSIANAS</td>\n",
       "      <td>UNA DE LAS 2 PERSIANAS NO FUNCIONA CON PULSADO...</td>\n",
       "      <td>PER2</td>\n",
       "      <td>DESDE PULSADORES NO SE PUEDE SUBIR LA PERSIANA...</td>\n",
       "      <td>[-0.22625495 -0.27601463 -0.14876926  0.216895...</td>\n",
       "      <td>[ 0.11031126  0.12480639  0.8863437   0.130832...</td>\n",
       "      <td>230</td>\n",
       "      <td>0.217849</td>\n",
       "      <td>0.374128</td>\n",
       "      <td>...</td>\n",
       "      <td>0.388664</td>\n",
       "      <td>0.367513</td>\n",
       "      <td>-0.082243</td>\n",
       "      <td>0.553798</td>\n",
       "      <td>0.437993</td>\n",
       "      <td>0.242106</td>\n",
       "      <td>0.368806</td>\n",
       "      <td>0.317617</td>\n",
       "      <td>0.553798</td>\n",
       "      <td>6.2</td>\n",
       "    </tr>\n",
       "    <tr>\n",
       "      <th>4</th>\n",
       "      <td>REJILLA MOTORIZADA DEFECTUOSA, SUSTITUIR</td>\n",
       "      <td>NaN</td>\n",
       "      <td>Rafael  el viernes llego mi pedido nº 23349 pa...</td>\n",
       "      <td>RINT040015BKMTE</td>\n",
       "      <td>REJILLA MOTORIZADA DEFECTUOSA, SUSTITUIR  Rafa...</td>\n",
       "      <td>[-0.05795009 -0.30249217 -0.01555946 -0.156779...</td>\n",
       "      <td>[-2.64278650e-01 -1.75095573e-01  6.62560701e-...</td>\n",
       "      <td>91</td>\n",
       "      <td>0.486409</td>\n",
       "      <td>0.505680</td>\n",
       "      <td>...</td>\n",
       "      <td>0.431077</td>\n",
       "      <td>0.522106</td>\n",
       "      <td>0.170490</td>\n",
       "      <td>0.496958</td>\n",
       "      <td>0.551200</td>\n",
       "      <td>0.433052</td>\n",
       "      <td>0.579487</td>\n",
       "      <td>0.489847</td>\n",
       "      <td>0.589575</td>\n",
       "      <td>3.29</td>\n",
       "    </tr>\n",
       "    <tr>\n",
       "      <th>5</th>\n",
       "      <td>MODULO DE FANCOIL  DA PROBLEMAS LAS COMUNICACI...</td>\n",
       "      <td>AZAMFANCOILC</td>\n",
       "      <td>MODULO DE FANCOIL DE ZONA 32Z</td>\n",
       "      <td>AZAMFANCOILC</td>\n",
       "      <td>MODULO DE FANCOIL  DA PROBLEMAS LAS COMUNICACI...</td>\n",
       "      <td>[ 0.15441857 -0.63806075  0.02751571  0.398508...</td>\n",
       "      <td>[-0.4844401   0.09746525  0.689053    0.443628...</td>\n",
       "      <td>118</td>\n",
       "      <td>0.299898</td>\n",
       "      <td>0.311907</td>\n",
       "      <td>...</td>\n",
       "      <td>0.335267</td>\n",
       "      <td>0.394561</td>\n",
       "      <td>0.004328</td>\n",
       "      <td>0.557293</td>\n",
       "      <td>0.444822</td>\n",
       "      <td>0.295023</td>\n",
       "      <td>0.372670</td>\n",
       "      <td>0.308548</td>\n",
       "      <td>0.557293</td>\n",
       "      <td>6.2</td>\n",
       "    </tr>\n",
       "    <tr>\n",
       "      <th>6</th>\n",
       "      <td>MODULO DE FANCOIL NO SACA 7V POR EL BUS EN VEZ...</td>\n",
       "      <td>MODULO DE FANCOIL DE ZONA 32Z</td>\n",
       "      <td>SE DETECTA QUE EL BLUEFACE AL ENCENDERLO, SE Q...</td>\n",
       "      <td>AZAMFANCOILC</td>\n",
       "      <td>MODULO DE FANCOIL NO SACA 7V POR EL BUS EN VEZ...</td>\n",
       "      <td>[ 0.11285342 -0.56048167 -0.09949385  0.374581...</td>\n",
       "      <td>[-1.2038625  -0.0567566  -0.1218907  -0.382796...</td>\n",
       "      <td>209</td>\n",
       "      <td>0.350422</td>\n",
       "      <td>0.320102</td>\n",
       "      <td>...</td>\n",
       "      <td>0.280600</td>\n",
       "      <td>0.344231</td>\n",
       "      <td>-0.116912</td>\n",
       "      <td>0.547864</td>\n",
       "      <td>0.457761</td>\n",
       "      <td>0.304932</td>\n",
       "      <td>0.403356</td>\n",
       "      <td>0.293523</td>\n",
       "      <td>0.547864</td>\n",
       "      <td>6.2</td>\n",
       "    </tr>\n",
       "    <tr>\n",
       "      <th>7</th>\n",
       "      <td>Error al pedir la pasarela, a última hora hubo...</td>\n",
       "      <td>Pasarela Mitsubishi Heavy</td>\n",
       "      <td>Error comercial, por cambio de última hora en ...</td>\n",
       "      <td>AZXEQADAPMHI</td>\n",
       "      <td>Error al pedir la pasarela, a última hora hubo...</td>\n",
       "      <td>[ 0.14691335 -0.47134426  0.07787238  0.030501...</td>\n",
       "      <td>[ 5.1617138e-02  1.3685622e+00  4.3865690e-01 ...</td>\n",
       "      <td>304</td>\n",
       "      <td>0.600040</td>\n",
       "      <td>0.709797</td>\n",
       "      <td>...</td>\n",
       "      <td>0.644453</td>\n",
       "      <td>0.623907</td>\n",
       "      <td>0.125570</td>\n",
       "      <td>0.593102</td>\n",
       "      <td>0.548408</td>\n",
       "      <td>0.658222</td>\n",
       "      <td>0.659335</td>\n",
       "      <td>0.690858</td>\n",
       "      <td>0.734234</td>\n",
       "      <td>1.2</td>\n",
       "    </tr>\n",
       "    <tr>\n",
       "      <th>8</th>\n",
       "      <td>SE HAN CAMBIADO LAS TAPAS TRASERAS VARIAS VECE...</td>\n",
       "      <td>NaN</td>\n",
       "      <td>SE ROMPEN TAPAS TRASERAS. CAMBIAR TERMOSTATO.</td>\n",
       "      <td>AZC3BLUEFECOSB</td>\n",
       "      <td>SE HAN CAMBIADO LAS TAPAS TRASERAS VARIAS VECE...</td>\n",
       "      <td>[ 0.0945986  -0.44374052 -0.02086731  0.254979...</td>\n",
       "      <td>[-0.51640475  0.6481779   0.16102794 -0.514311...</td>\n",
       "      <td>214</td>\n",
       "      <td>0.262732</td>\n",
       "      <td>0.409268</td>\n",
       "      <td>...</td>\n",
       "      <td>0.401019</td>\n",
       "      <td>0.384124</td>\n",
       "      <td>-0.032623</td>\n",
       "      <td>0.604275</td>\n",
       "      <td>0.540758</td>\n",
       "      <td>0.333147</td>\n",
       "      <td>0.366548</td>\n",
       "      <td>0.342346</td>\n",
       "      <td>0.604275</td>\n",
       "      <td>6.2</td>\n",
       "    </tr>\n",
       "    <tr>\n",
       "      <th>9</th>\n",
       "      <td>SE HAN CAMBIADO LAS TAPAS TRASERAS VARIAS VECE...</td>\n",
       "      <td>NaN</td>\n",
       "      <td>5 UNIDADES. SE ROMPEN TAPAS TRASERAS.</td>\n",
       "      <td>AZC3TACTOCSB</td>\n",
       "      <td>SE HAN CAMBIADO LAS TAPAS TRASERAS VARIAS VECE...</td>\n",
       "      <td>[ 0.11505522 -0.42948332 -0.03061972  0.228920...</td>\n",
       "      <td>[-0.6939791   0.54678166  0.26473445 -0.338831...</td>\n",
       "      <td>214</td>\n",
       "      <td>0.256015</td>\n",
       "      <td>0.387654</td>\n",
       "      <td>...</td>\n",
       "      <td>0.390971</td>\n",
       "      <td>0.386645</td>\n",
       "      <td>-0.013545</td>\n",
       "      <td>0.602241</td>\n",
       "      <td>0.535466</td>\n",
       "      <td>0.314000</td>\n",
       "      <td>0.369151</td>\n",
       "      <td>0.329442</td>\n",
       "      <td>0.602241</td>\n",
       "      <td>6.2</td>\n",
       "    </tr>\n",
       "  </tbody>\n",
       "</table>\n",
       "<p>10 rows × 86 columns</p>\n",
       "</div>"
      ]
     },
     "execution_count": 19,
     "metadata": {},
     "output_type": "execute_result"
    }
   ],
   "execution_count": 19
  },
  {
   "metadata": {
    "ExecuteTime": {
     "end_time": "2024-05-09T05:56:45.019428Z",
     "start_time": "2024-05-09T05:56:44.939549Z"
    }
   },
   "cell_type": "code",
   "source": [
    "top10_per_error = text_to_analyse[['text_to_analyse', 'highest_score', 'highest_score_error']] \\\n",
    "    .groupby('highest_score_error', group_keys=False) \\\n",
    "    .apply(lambda x: x.nlargest(10, 'highest_score')) \\\n",
    "    .reset_index(drop=True)\n",
    "\n",
    "top10_per_error.head(500)"
   ],
   "id": "36fe900fe9d5697c",
   "outputs": [
    {
     "name": "stderr",
     "output_type": "stream",
     "text": [
      "C:\\Users\\voliveira\\AppData\\Local\\Temp\\ipykernel_5440\\2591246674.py:3: DeprecationWarning: DataFrameGroupBy.apply operated on the grouping columns. This behavior is deprecated, and in a future version of pandas the grouping columns will be excluded from the operation. Either pass `include_groups=False` to exclude the groupings or explicitly select the grouping columns after groupby to silence this warning.\n",
      "  .apply(lambda x: x.nlargest(10, 'highest_score')) \\\n"
     ]
    },
    {
     "data": {
      "text/plain": [
       "                                       text_to_analyse  highest_score  \\\n",
       "0    Problema en el mazo de cables en una caja regi...       0.904523   \n",
       "1      Faltan conectores en el dispositivo. AZPV0P1...       0.899310   \n",
       "2                        Falta en el kit AZPV6WIRE2514       0.888198   \n",
       "3    dañado durante el transporte  traznsport dañad...       0.879552   \n",
       "4    dañado durante el transporte  transporte dañad...       0.879184   \n",
       "..                                                 ...            ...   \n",
       "495  problema del servomotor  servo motor AZ PV 0 M...       0.878018   \n",
       "496  motor HS  Prueba HS del motor realizada azpv6m...       0.875286   \n",
       "497  motor del amortiguador defectuoso  motor defec...       0.873244   \n",
       "498  Eje del motor y cubierta del gabinete. Panel c...       0.870889   \n",
       "499  problema del motor  problema del motor azpv6ca...       0.869198   \n",
       "\n",
       "    highest_score_error  \n",
       "0                   1.1  \n",
       "1                   1.1  \n",
       "2                   1.1  \n",
       "3                   1.1  \n",
       "4                   1.1  \n",
       "..                  ...  \n",
       "495                4.04  \n",
       "496                4.04  \n",
       "497                4.04  \n",
       "498                4.04  \n",
       "499                4.04  \n",
       "\n",
       "[500 rows x 3 columns]"
      ],
      "text/html": [
       "<div>\n",
       "<style scoped>\n",
       "    .dataframe tbody tr th:only-of-type {\n",
       "        vertical-align: middle;\n",
       "    }\n",
       "\n",
       "    .dataframe tbody tr th {\n",
       "        vertical-align: top;\n",
       "    }\n",
       "\n",
       "    .dataframe thead th {\n",
       "        text-align: right;\n",
       "    }\n",
       "</style>\n",
       "<table border=\"1\" class=\"dataframe\">\n",
       "  <thead>\n",
       "    <tr style=\"text-align: right;\">\n",
       "      <th></th>\n",
       "      <th>text_to_analyse</th>\n",
       "      <th>highest_score</th>\n",
       "      <th>highest_score_error</th>\n",
       "    </tr>\n",
       "  </thead>\n",
       "  <tbody>\n",
       "    <tr>\n",
       "      <th>0</th>\n",
       "      <td>Problema en el mazo de cables en una caja regi...</td>\n",
       "      <td>0.904523</td>\n",
       "      <td>1.1</td>\n",
       "    </tr>\n",
       "    <tr>\n",
       "      <th>1</th>\n",
       "      <td>Faltan conectores en el dispositivo. AZPV0P1...</td>\n",
       "      <td>0.899310</td>\n",
       "      <td>1.1</td>\n",
       "    </tr>\n",
       "    <tr>\n",
       "      <th>2</th>\n",
       "      <td>Falta en el kit AZPV6WIRE2514</td>\n",
       "      <td>0.888198</td>\n",
       "      <td>1.1</td>\n",
       "    </tr>\n",
       "    <tr>\n",
       "      <th>3</th>\n",
       "      <td>dañado durante el transporte  traznsport dañad...</td>\n",
       "      <td>0.879552</td>\n",
       "      <td>1.1</td>\n",
       "    </tr>\n",
       "    <tr>\n",
       "      <th>4</th>\n",
       "      <td>dañado durante el transporte  transporte dañad...</td>\n",
       "      <td>0.879184</td>\n",
       "      <td>1.1</td>\n",
       "    </tr>\n",
       "    <tr>\n",
       "      <th>...</th>\n",
       "      <td>...</td>\n",
       "      <td>...</td>\n",
       "      <td>...</td>\n",
       "    </tr>\n",
       "    <tr>\n",
       "      <th>495</th>\n",
       "      <td>problema del servomotor  servo motor AZ PV 0 M...</td>\n",
       "      <td>0.878018</td>\n",
       "      <td>4.04</td>\n",
       "    </tr>\n",
       "    <tr>\n",
       "      <th>496</th>\n",
       "      <td>motor HS  Prueba HS del motor realizada azpv6m...</td>\n",
       "      <td>0.875286</td>\n",
       "      <td>4.04</td>\n",
       "    </tr>\n",
       "    <tr>\n",
       "      <th>497</th>\n",
       "      <td>motor del amortiguador defectuoso  motor defec...</td>\n",
       "      <td>0.873244</td>\n",
       "      <td>4.04</td>\n",
       "    </tr>\n",
       "    <tr>\n",
       "      <th>498</th>\n",
       "      <td>Eje del motor y cubierta del gabinete. Panel c...</td>\n",
       "      <td>0.870889</td>\n",
       "      <td>4.04</td>\n",
       "    </tr>\n",
       "    <tr>\n",
       "      <th>499</th>\n",
       "      <td>problema del motor  problema del motor azpv6ca...</td>\n",
       "      <td>0.869198</td>\n",
       "      <td>4.04</td>\n",
       "    </tr>\n",
       "  </tbody>\n",
       "</table>\n",
       "<p>500 rows × 3 columns</p>\n",
       "</div>"
      ]
     },
     "execution_count": 26,
     "metadata": {},
     "output_type": "execute_result"
    }
   ],
   "execution_count": 26
  }
 ],
 "metadata": {
  "kernelspec": {
   "display_name": "Python 3",
   "language": "python",
   "name": "python3"
  },
  "language_info": {
   "codemirror_mode": {
    "name": "ipython",
    "version": 2
   },
   "file_extension": ".py",
   "mimetype": "text/x-python",
   "name": "python",
   "nbconvert_exporter": "python",
   "pygments_lexer": "ipython2",
   "version": "2.7.6"
  }
 },
 "nbformat": 4,
 "nbformat_minor": 5
}
