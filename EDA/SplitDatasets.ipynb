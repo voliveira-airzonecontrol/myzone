{
 "cells": [
  {
   "metadata": {},
   "cell_type": "markdown",
   "source": "# Split datasets into training and testing",
   "id": "51b6283247bff0d0"
  },
  {
   "metadata": {
    "ExecuteTime": {
     "end_time": "2024-05-20T13:27:19.571245Z",
     "start_time": "2024-05-20T13:26:40.888397Z"
    }
   },
   "cell_type": "code",
   "source": [
    "import os\n",
    "import pandas as pd\n",
    "from sqlalchemy import create_engine"
   ],
   "id": "84555ec347fce97b",
   "execution_count": 1,
   "outputs": []
  },
  {
   "cell_type": "code",
   "id": "initial_id",
   "metadata": {
    "collapsed": true,
    "ExecuteTime": {
     "end_time": "2024-05-20T13:27:19.586615Z",
     "start_time": "2024-05-20T13:27:19.573295Z"
    }
   },
   "source": [
    "def query_data(query):\n",
    "    \"\"\"\n",
    "    Function to query data from the database using sqlalchemy\n",
    "    :param query:\n",
    "    :return: pd.DataFrame\n",
    "\n",
    "    Connection parameters:\n",
    "    user = readmyzone\n",
    "    password = (get from environment variable MYSQL_PASSWORD)\n",
    "    host = 192.168.2.7\n",
    "    port = 3306\n",
    "    \"\"\"\n",
    "\n",
    "    # Create the connection string\n",
    "    user = \"readmyzone\"\n",
    "    password = os.environ.get(\"MYSQL_PASSWORD\")\n",
    "    host = \"192.168.2.7\"\n",
    "    port = \"3306\"\n",
    "    db = \"myzone\"\n",
    "    connection_string = f\"mysql+pymysql://{user}:{password}@{host}:{port}/{db}\"\n",
    "\n",
    "    # Create the engine\n",
    "    engine = create_engine(connection_string)\n",
    "\n",
    "    try:\n",
    "        # Query the data\n",
    "        data = pd.read_sql(query, engine)\n",
    "    except Exception as e:\n",
    "        print(e)\n",
    "        data = None\n",
    "\n",
    "    return data"
   ],
   "execution_count": 2,
   "outputs": []
  },
  {
   "metadata": {
    "ExecuteTime": {
     "end_time": "2024-05-20T13:27:23.572196Z",
     "start_time": "2024-05-20T13:27:19.587617Z"
    }
   },
   "cell_type": "code",
   "source": [
    "sav_incidencias = query_data(\"SELECT * FROM sav_incidencias\")\n",
    "sav_piezas = query_data(\"SELECT * FROM sav_piezas\")\n",
    "sav_estados = query_data(\"SELECT * FROM sav_estados\")\n",
    "sav_incidencias_tipo = query_data(\"SELECT * FROM sav_incidencias_tipo\")"
   ],
   "id": "e50d5943b22e5937",
   "execution_count": 3,
   "outputs": []
  },
  {
   "metadata": {
    "ExecuteTime": {
     "end_time": "2024-05-20T13:27:23.887327Z",
     "start_time": "2024-05-20T13:27:23.575200Z"
    }
   },
   "cell_type": "code",
   "source": [
    "dataset = sav_incidencias.merge(\n",
    "    sav_piezas,\n",
    "    left_on=\"codigo\",\n",
    "    right_on=\"codigo_incidencia\",\n",
    "    how=\"left\",\n",
    "    suffixes=(None, \"_pieza\"),\n",
    ")\n",
    "dataset = dataset.merge(\n",
    "    sav_estados, left_on=\"estado\", right_on=\"id\", how=\"left\", suffixes=(None, \"_estado\")\n",
    ")\n",
    "dataset = dataset.merge(\n",
    "    sav_incidencias_tipo,\n",
    "    left_on=\"tipo\",\n",
    "    right_on=\"id\",\n",
    "    how=\"left\",\n",
    "    suffixes=(None, \"_tipo\"),\n",
    ")"
   ],
   "id": "9e96c19b3cca4571",
   "execution_count": 4,
   "outputs": []
  },
  {
   "metadata": {
    "ExecuteTime": {
     "end_time": "2024-05-20T14:23:36.519160Z",
     "start_time": "2024-05-20T14:23:36.448676Z"
    }
   },
   "cell_type": "code",
   "source": [
    "dataset[\"modification_date\"] = pd.to_datetime(\n",
    "    dataset[\"modification_date\"], errors=\"coerce\"\n",
    ")\n",
    "dataset[\"creation_date\"] = pd.to_datetime(dataset[\"creation_date\"], errors=\"coerce\")\n",
    "clean_dataset = dataset[\n",
    "    (dataset[\"tipo\"] == 1)\n",
    "    & (dataset[\"estado\"].isin([2, 6]))\n",
    "    & (dataset[\"modification_date\"] < \"2024-05-09\")\n",
    "]"
   ],
   "id": "f0cd08b3ecb7accf",
   "execution_count": 78,
   "outputs": []
  },
  {
   "metadata": {
    "ExecuteTime": {
     "end_time": "2024-05-20T14:23:38.603826Z",
     "start_time": "2024-05-20T14:23:38.304934Z"
    }
   },
   "cell_type": "code",
   "source": [
    "# Load from disk the text to translate dictionary\n",
    "fields_to_translate = [\"desc_problema\", \"problema\", \"descripcion\"]\n",
    "text_to_translate = {}\n",
    "for text in fields_to_translate:\n",
    "    text_to_translate[text] = pd.read_csv(\n",
    "        f\"../DATA/{text}.csv\", sep=\"¬\", encoding=\"utf-8-sig\"\n",
    "    )"
   ],
   "id": "c6ffb6f84f27ffba",
   "execution_count": 79,
   "outputs": []
  },
  {
   "metadata": {
    "ExecuteTime": {
     "end_time": "2024-05-20T14:23:38.746338Z",
     "start_time": "2024-05-20T14:23:38.604826Z"
    }
   },
   "cell_type": "code",
   "source": [
    "desc_problema_translated = pd.read_csv(\n",
    "    \"../DATA/desc_problema_translated.csv\",\n",
    "    sep=\"¬\",\n",
    "    encoding=\"utf-8-sig\",\n",
    "    engine=\"python\",\n",
    ")\n",
    "descripcion_translated = pd.read_csv(\n",
    "    \"../DATA/descripcion_translated.csv\", sep=\"¬\", encoding=\"utf-8-sig\", engine=\"python\"\n",
    ")\n",
    "problema_translated = pd.read_csv(\n",
    "    \"../DATA/problema_translated.csv\", sep=\"¬\", encoding=\"utf-8-sig\", engine=\"python\"\n",
    ")  # Data preprocessing (Merging the translated text)"
   ],
   "id": "489562f02c5451d8",
   "execution_count": 80,
   "outputs": []
  },
  {
   "metadata": {
    "ExecuteTime": {
     "end_time": "2024-05-20T14:23:40.914731Z",
     "start_time": "2024-05-20T14:23:40.901277Z"
    }
   },
   "cell_type": "code",
   "source": [
    "# Delete rows with values (desc_problema, desc_problema_translated)\n",
    "desc_problema_translated = desc_problema_translated[\n",
    "    ~desc_problema_translated[\"desc_problema_translated\"].isin(\n",
    "        [\"desc_problema_translated\"]\n",
    "    )\n",
    "]\n",
    "descripcion_translated = descripcion_translated[\n",
    "    ~descripcion_translated[\"descripcion_translated\"].isin([\"descripcion_translated\"])\n",
    "]\n",
    "problema_translated = problema_translated[\n",
    "    ~problema_translated[\"problema_translated\"].isin([\"problema_translated\"])\n",
    "]"
   ],
   "id": "a699ad1b175c123b",
   "execution_count": 81,
   "outputs": []
  },
  {
   "metadata": {
    "ExecuteTime": {
     "end_time": "2024-05-20T14:23:40.930705Z",
     "start_time": "2024-05-20T14:23:40.915701Z"
    }
   },
   "cell_type": "code",
   "source": "desc_problema_translated.count()",
   "id": "cb3a964e290fa5b",
   "execution_count": 82,
   "outputs": []
  },
  {
   "metadata": {
    "ExecuteTime": {
     "end_time": "2024-05-20T14:23:40.978217Z",
     "start_time": "2024-05-20T14:23:40.932700Z"
    }
   },
   "cell_type": "code",
   "source": [
    "# Merge the translated text with the text_to_translate dataframe\n",
    "desc_problema_translated = text_to_translate[\"desc_problema\"].merge(\n",
    "    desc_problema_translated,\n",
    "    left_on=\"desc_problema\",\n",
    "    right_on=\"desc_problema\",\n",
    "    how=\"left\",\n",
    ")\n",
    "descripcion_translated = text_to_translate[\"descripcion\"].merge(\n",
    "    descripcion_translated, left_on=\"descripcion\", right_on=\"descripcion\", how=\"left\"\n",
    ")\n",
    "problema_translated = text_to_translate[\"problema\"].merge(\n",
    "    problema_translated, left_on=\"problema\", right_on=\"problema\", how=\"left\"\n",
    ")"
   ],
   "id": "91bfc7d9e24be2de",
   "execution_count": 83,
   "outputs": []
  },
  {
   "metadata": {
    "ExecuteTime": {
     "end_time": "2024-05-20T14:23:42.780904Z",
     "start_time": "2024-05-20T14:23:42.750787Z"
    }
   },
   "cell_type": "code",
   "source": [
    "# Fill NA with the original texts\n",
    "desc_problema_translated.fillna(\n",
    "    {\"desc_problema_translated\": desc_problema_translated[\"desc_problema\"]},\n",
    "    inplace=True,\n",
    ")\n",
    "descripcion_translated.fillna(\n",
    "    {\"descripcion_translated\": descripcion_translated[\"descripcion\"]}, inplace=True\n",
    ")\n",
    "problema_translated.fillna(\n",
    "    {\"problema_translated\": problema_translated[\"problema\"]}, inplace=True\n",
    ")"
   ],
   "id": "df55d6c1995476b8",
   "execution_count": 84,
   "outputs": []
  },
  {
   "metadata": {
    "ExecuteTime": {
     "end_time": "2024-05-20T14:23:42.795904Z",
     "start_time": "2024-05-20T14:23:42.781905Z"
    }
   },
   "cell_type": "code",
   "source": "desc_problema_translated.head(5)",
   "id": "f13a29db394fce60",
   "execution_count": 85,
   "outputs": []
  },
  {
   "metadata": {
    "ExecuteTime": {
     "end_time": "2024-05-20T14:23:44.948359Z",
     "start_time": "2024-05-20T14:23:44.666003Z"
    }
   },
   "cell_type": "code",
   "source": [
    "# Merge the translated text with the original dataset\n",
    "clean_dataset = clean_dataset.merge(\n",
    "    desc_problema_translated,\n",
    "    left_on=\"desc_problema\",\n",
    "    right_on=\"desc_problema\",\n",
    "    how=\"left\",\n",
    ")\n",
    "clean_dataset = clean_dataset.merge(\n",
    "    descripcion_translated, left_on=\"descripcion\", right_on=\"descripcion\", how=\"left\"\n",
    ")\n",
    "clean_dataset = clean_dataset.merge(\n",
    "    problema_translated, left_on=\"problema\", right_on=\"problema\", how=\"left\"\n",
    ")"
   ],
   "id": "21add054a88c4c39",
   "execution_count": 86,
   "outputs": []
  },
  {
   "metadata": {
    "ExecuteTime": {
     "end_time": "2024-05-20T14:23:45.332373Z",
     "start_time": "2024-05-20T14:23:44.949282Z"
    }
   },
   "cell_type": "code",
   "source": [
    "clean_dataset.describe(include=\"all\")"
   ],
   "id": "ebc3a045fb47b64c",
   "execution_count": 87,
   "outputs": []
  },
  {
   "metadata": {
    "ExecuteTime": {
     "end_time": "2024-05-20T14:23:47.420421Z",
     "start_time": "2024-05-20T14:23:47.406421Z"
    }
   },
   "cell_type": "code",
   "source": [
    "for column in clean_dataset.columns:\n",
    "    print(f\"Column: {column}\")"
   ],
   "id": "a8a7e6b8b613a5ed",
   "execution_count": 88,
   "outputs": []
  },
  {
   "metadata": {
    "ExecuteTime": {
     "end_time": "2024-05-20T14:23:49.041973Z",
     "start_time": "2024-05-20T14:23:48.995011Z"
    }
   },
   "cell_type": "code",
   "source": [
    "train_dataset = clean_dataset[clean_dataset[\"creation_date\"] < \"2024-04-16\"]\n",
    "test_dataset = clean_dataset[clean_dataset[\"creation_date\"] >= \"2024-04-16\"]"
   ],
   "id": "565b6a5c0d3dd0d5",
   "execution_count": 89,
   "outputs": []
  },
  {
   "metadata": {
    "ExecuteTime": {
     "end_time": "2024-05-20T14:23:50.863518Z",
     "start_time": "2024-05-20T14:23:50.847521Z"
    }
   },
   "cell_type": "code",
   "source": [
    "train_dataset[\"codigo\"].size, test_dataset[\"codigo\"].size"
   ],
   "id": "ebefff1fdf18a725",
   "execution_count": 90,
   "outputs": []
  },
  {
   "metadata": {
    "ExecuteTime": {
     "end_time": "2024-05-20T14:23:52.729228Z",
     "start_time": "2024-05-20T14:23:52.635643Z"
    }
   },
   "cell_type": "code",
   "source": [
    "test_dataset.describe(include=\"all\")"
   ],
   "id": "46ff2f73fe3be0b8",
   "execution_count": 91,
   "outputs": []
  },
  {
   "metadata": {
    "ExecuteTime": {
     "end_time": "2024-05-20T14:23:59.922533Z",
     "start_time": "2024-05-20T14:23:59.893491Z"
    }
   },
   "cell_type": "code",
   "source": "test_dataset.sample(10)",
   "id": "c43fe10dc96c5a48",
   "execution_count": 92,
   "outputs": []
  },
  {
   "metadata": {
    "ExecuteTime": {
     "end_time": "2024-05-20T14:24:01.996156Z",
     "start_time": "2024-05-20T14:24:01.981253Z"
    }
   },
   "cell_type": "code",
   "source": [
    "test_dataset[test_dataset[\"pedido_a3\"].isna()]"
   ],
   "id": "4d0fc360936cf382",
   "execution_count": 93,
   "outputs": []
  },
  {
   "metadata": {},
   "cell_type": "markdown",
   "source": "## Load data from A3",
   "id": "52bc440b0c443897"
  },
  {
   "metadata": {
    "ExecuteTime": {
     "end_time": "2024-05-20T14:17:04.320413Z",
     "start_time": "2024-05-20T14:17:04.309954Z"
    }
   },
   "cell_type": "code",
   "source": [
    "import pyodbc\n",
    "\n",
    "\n",
    "# Def function to connect with sql server using pyodbc and query data\n",
    "def query_data_a3(query, database):\n",
    "    r\"\"\"\n",
    "    Function to query data from a SQL database\n",
    "    :param query:\n",
    "    :param database:\n",
    "    :return: pd.DataFrame\n",
    "\n",
    "        Connection parameters:\n",
    "        - user: voliveira\n",
    "        - password: (get password from environment variable SQL_PASSWORD)\n",
    "        - host: ROMPETECHOS\\REPLICA\n",
    "        - port: 53373\n",
    "    \"\"\"\n",
    "    # Create the connection string\n",
    "    user = \"voliveira\"\n",
    "    password = os.environ.get(\"SQL_PASSWORD\")\n",
    "    host = r\"ROMPETECHOS\"\n",
    "    instance = \"REPLICA\"\n",
    "    port = \"53373\"\n",
    "    conn_str = f\"DRIVER=SQL Server;SERVER={host}\\\\{instance},{port};DATABASE={database};UID={user};PWD={password}\"\n",
    "\n",
    "    # Create the connection\n",
    "    try:\n",
    "        conn = pyodbc.connect(conn_str)\n",
    "    except Exception as e:\n",
    "        print(f\"Error creating connection: {e}\")\n",
    "        return None\n",
    "\n",
    "    # query the data\n",
    "    try:\n",
    "        data = pd.read_sql(query, conn)\n",
    "    except Exception as e:\n",
    "        print(f\"Error: {e}\")\n",
    "        data = None\n",
    "\n",
    "    return data"
   ],
   "id": "4f9ff4149433e817",
   "execution_count": 47,
   "outputs": []
  },
  {
   "metadata": {
    "ExecuteTime": {
     "end_time": "2024-05-20T14:18:24.860058Z",
     "start_time": "2024-05-20T14:17:05.966517Z"
    }
   },
   "cell_type": "code",
   "source": [
    "# Query data from the database\n",
    "cabe_airzone = query_data_a3(f\"SELECT * FROM dbo.CABEPEDV\", \"Airzone\")\n",
    "cabe_airzone_france = query_data_a3(f\"SELECT * FROM dbo.CABEPEDV\", \"AirzoneFrance\")\n",
    "cabe_airzone_italia = query_data_a3(f\"SELECT * FROM dbo.CABEPEDV\", \"AirzoneItalia\")\n",
    "cabe_airzone_usa = query_data_a3(f\"SELECT * FROM dbo.CABEPEDV\", \"AirzoneUsa\")\n",
    "cabe_airzone_altra = query_data_a3(f\"SELECT * FROM dbo.CABEPEDV\", \"Altra\")\n",
    "\n",
    "# Query only lines with IDPEDV not null (exclude PEDC)\n",
    "lin_airzone = query_data_a3(\n",
    "    f\"SELECT * FROM dbo.LINEPEDI WHERE IDPEDV IS NOT NULL\", \"Airzone\"\n",
    ")\n",
    "lin_airzone_france = query_data_a3(\n",
    "    f\"SELECT * FROM dbo.LINEPEDI WHERE IDPEDV IS NOT NULL\", \"AirzoneFrance\"\n",
    ")\n",
    "lin_airzone_italia = query_data_a3(\n",
    "    f\"SELECT * FROM dbo.LINEPEDI WHERE IDPEDV IS NOT NULL\", \"AirzoneItalia\"\n",
    ")\n",
    "lin_airzone_usa = query_data_a3(\n",
    "    f\"SELECT * FROM dbo.LINEPEDI WHERE IDPEDV IS NOT NULL\", \"AirzoneUsa\"\n",
    ")\n",
    "lin_airzone_altra = query_data_a3(\n",
    "    f\"SELECT * FROM dbo.LINEPEDI WHERE IDPEDV IS NOT NULL\", \"Altra\"\n",
    ")"
   ],
   "id": "4545ad4f0567fcd2",
   "execution_count": 48,
   "outputs": []
  },
  {
   "metadata": {
    "ExecuteTime": {
     "end_time": "2024-05-20T14:18:24.875582Z",
     "start_time": "2024-05-20T14:18:24.860968Z"
    }
   },
   "cell_type": "code",
   "source": [
    "# Add one column to each dataframe to identify the country\n",
    "cabe_airzone[\"Country\"] = \"Spain\"\n",
    "cabe_airzone_france[\"Country\"] = \"France\"\n",
    "cabe_airzone_italia[\"Country\"] = \"Italia\"\n",
    "cabe_airzone_usa[\"Country\"] = \"USA\"\n",
    "cabe_airzone_altra[\"Country\"] = \"Altra\""
   ],
   "id": "d2aeb99b0eec27cf",
   "execution_count": 49,
   "outputs": []
  },
  {
   "metadata": {
    "ExecuteTime": {
     "end_time": "2024-05-20T14:18:25.049047Z",
     "start_time": "2024-05-20T14:18:24.877611Z"
    }
   },
   "cell_type": "code",
   "source": [
    "# Add month and year colulmns based on FECHA to cabe dataframes\n",
    "cabe_airzone[\"FECHA\"] = pd.to_datetime(cabe_airzone[\"FECHA\"])\n",
    "cabe_airzone[\"Month\"] = cabe_airzone[\"FECHA\"].dt.month\n",
    "cabe_airzone[\"Year\"] = cabe_airzone[\"FECHA\"].dt.year\n",
    "cabe_airzone_france[\"FECHA\"] = pd.to_datetime(cabe_airzone_france[\"FECHA\"])\n",
    "cabe_airzone_france[\"Month\"] = cabe_airzone_france[\"FECHA\"].dt.month\n",
    "cabe_airzone_france[\"Year\"] = cabe_airzone_france[\"FECHA\"].dt.year\n",
    "cabe_airzone_italia[\"FECHA\"] = pd.to_datetime(cabe_airzone_italia[\"FECHA\"])\n",
    "cabe_airzone_italia[\"Month\"] = cabe_airzone_italia[\"FECHA\"].dt.month\n",
    "cabe_airzone_italia[\"Year\"] = cabe_airzone_italia[\"FECHA\"].dt.year\n",
    "cabe_airzone_usa[\"FECHA\"] = pd.to_datetime(cabe_airzone_usa[\"FECHA\"])\n",
    "cabe_airzone_usa[\"Month\"] = cabe_airzone_usa[\"FECHA\"].dt.month\n",
    "cabe_airzone_usa[\"Year\"] = cabe_airzone_usa[\"FECHA\"].dt.year\n",
    "cabe_airzone_altra[\"FECHA\"] = pd.to_datetime(cabe_airzone_altra[\"FECHA\"])\n",
    "cabe_airzone_altra[\"Month\"] = cabe_airzone_altra[\"FECHA\"].dt.month\n",
    "cabe_airzone_altra[\"Year\"] = cabe_airzone_altra[\"FECHA\"].dt.year"
   ],
   "id": "9e672c4cb470041d",
   "execution_count": 50,
   "outputs": []
  },
  {
   "metadata": {
    "ExecuteTime": {
     "end_time": "2024-05-20T14:18:25.064961Z",
     "start_time": "2024-05-20T14:18:25.049948Z"
    }
   },
   "cell_type": "code",
   "source": [
    "# Check if the dataframes has the same columns\n",
    "# Print the columns that are in cabe_airzone but that are not in cabe_airzone_france\n",
    "print(\"Columns in cabe_airzone that are not in cabe_airzone_france:\")\n",
    "print(set(cabe_airzone.columns) - set(cabe_airzone_france.columns))\n",
    "print(\"Columns in cabe_airzone_france that are not in cabe_airzone_italia:\")\n",
    "print(set(cabe_airzone_france.columns) - set(cabe_airzone_italia.columns))\n",
    "print(\"Columns in cabe_airzone_italia that are not in cabe_airzone_usa:\")\n",
    "print(set(cabe_airzone_italia.columns) - set(cabe_airzone_usa.columns))\n",
    "print(\"Columns in cabe_airzone_usa that are not in cabe_airzone_altra:\")\n",
    "print(set(cabe_airzone_usa.columns) - set(cabe_airzone_altra.columns))\n",
    "print(\"Columns in cabe_airzone_altra that are not in cabe_airzone_usa:\")\n",
    "print(set(cabe_airzone_altra.columns) - set(cabe_airzone_usa.columns))"
   ],
   "id": "646bdf13c0897e7d",
   "execution_count": 51,
   "outputs": []
  },
  {
   "metadata": {
    "ExecuteTime": {
     "end_time": "2024-05-20T14:18:30.317144Z",
     "start_time": "2024-05-20T14:18:25.065948Z"
    }
   },
   "cell_type": "code",
   "source": [
    "# Concat all cabe and lin dataframes\n",
    "cabe = pd.concat(\n",
    "    [\n",
    "        cabe_airzone,\n",
    "        cabe_airzone_france,\n",
    "        cabe_airzone_italia,\n",
    "        cabe_airzone_usa,\n",
    "        cabe_airzone_altra,\n",
    "    ]\n",
    ")\n",
    "lineas = pd.concat(\n",
    "    [\n",
    "        lin_airzone,\n",
    "        lin_airzone_france,\n",
    "        lin_airzone_italia,\n",
    "        lin_airzone_usa,\n",
    "        lin_airzone_altra,\n",
    "    ]\n",
    ")"
   ],
   "id": "af7f4b00269e6835",
   "execution_count": 52,
   "outputs": []
  },
  {
   "metadata": {
    "ExecuteTime": {
     "end_time": "2024-05-20T14:18:30.396149Z",
     "start_time": "2024-05-20T14:18:30.318172Z"
    }
   },
   "cell_type": "code",
   "source": [
    "# Clean SERIES field\n",
    "cabe[\"SERIE\"] = cabe[\"SERIE\"].str.strip()"
   ],
   "id": "cf6c3a3476d2f716",
   "execution_count": 53,
   "outputs": []
  },
  {
   "metadata": {
    "ExecuteTime": {
     "end_time": "2024-05-20T14:18:30.412148Z",
     "start_time": "2024-05-20T14:18:30.397067Z"
    }
   },
   "cell_type": "code",
   "source": [
    "# Define some constants\n",
    "SALES_CODES = [\"1\", \"2\", \"C\", \"FA\", \"A\"]\n",
    "AFTER_SALES_CODE = [\"3\", \"6\", \"FR\", \"FV\"]"
   ],
   "id": "1c568f502887bc6f",
   "execution_count": 54,
   "outputs": []
  },
  {
   "metadata": {
    "ExecuteTime": {
     "end_time": "2024-05-20T14:18:30.744758Z",
     "start_time": "2024-05-20T14:18:30.413081Z"
    }
   },
   "cell_type": "code",
   "source": [
    "# Clean memory\n",
    "del (\n",
    "    cabe_airzone,\n",
    "    lin_airzone,\n",
    "    cabe_airzone_france,\n",
    "    lin_airzone_france,\n",
    "    cabe_airzone_italia,\n",
    "    lin_airzone_italia,\n",
    "    cabe_airzone_usa,\n",
    "    lin_airzone_usa,\n",
    "    cabe_airzone_altra,\n",
    "    lin_airzone_altra,\n",
    ")"
   ],
   "id": "36f62675144867",
   "execution_count": 55,
   "outputs": []
  },
  {
   "metadata": {
    "ExecuteTime": {
     "end_time": "2024-05-20T14:18:38.548058Z",
     "start_time": "2024-05-20T14:18:30.746761Z"
    }
   },
   "cell_type": "code",
   "source": [
    "# Merge the cabe and lineas dataframes\n",
    "pedidos = lineas[~lineas[\"IDPEDV\"].isna()].merge(cabe, on=\"IDPEDV\", how=\"left\")\n",
    "pedidos[\"count\"] = pedidos.groupby(\"IDPEDV\")[\"IDPEDV\"].transform(\"count\")"
   ],
   "id": "dc9cdf67154ac737",
   "execution_count": 56,
   "outputs": []
  },
  {
   "metadata": {
    "ExecuteTime": {
     "end_time": "2024-05-20T14:18:38.611095Z",
     "start_time": "2024-05-20T14:18:38.549072Z"
    }
   },
   "cell_type": "code",
   "source": "pedidos.sample(10)",
   "id": "1f2ae2b45506398a",
   "execution_count": 57,
   "outputs": []
  },
  {
   "metadata": {
    "ExecuteTime": {
     "end_time": "2024-05-20T14:18:39.718826Z",
     "start_time": "2024-05-20T14:18:38.612065Z"
    }
   },
   "cell_type": "code",
   "source": [
    "pedidos = pedidos[pedidos[\"count\"] == 1]"
   ],
   "id": "dd34557465136d60",
   "execution_count": 58,
   "outputs": []
  },
  {
   "metadata": {
    "ExecuteTime": {
     "end_time": "2024-05-20T14:24:22.774096Z",
     "start_time": "2024-05-20T14:24:22.724282Z"
    }
   },
   "cell_type": "code",
   "source": [
    "# Make sure that the IDPEDV and pedido_a3 are the same dtype\n",
    "pedidos[\"NUMDOC\"] = pedidos[\"NUMDOC\"].astype(int)\n",
    "pedidos[\"NUMDOC\"] = pedidos[\"NUMDOC\"].astype(str)\n",
    "test_dataset[\"pedido_a3\"] = (\n",
    "    test_dataset[\"pedido_a3\"].astype(str).str.extract(r\"(\\d{8})\")\n",
    ")\n",
    "# Merge the test dataset with the cabe_sales dataset\n",
    "test_dataset = test_dataset.merge(\n",
    "    pedidos[[\"NUMDOC\", \"ERROR_POSTVENTA_y\"]],\n",
    "    left_on=\"pedido_a3\",\n",
    "    right_on=\"NUMDOC\",\n",
    "    how=\"left\",\n",
    ")"
   ],
   "id": "2d188d9bd01a710",
   "execution_count": 94,
   "outputs": []
  },
  {
   "metadata": {
    "ExecuteTime": {
     "end_time": "2024-05-20T14:24:24.208347Z",
     "start_time": "2024-05-20T14:24:24.129284Z"
    }
   },
   "cell_type": "code",
   "source": [
    "test_dataset.describe(include=\"all\")"
   ],
   "id": "7693f1eff151811d",
   "execution_count": 95,
   "outputs": []
  },
  {
   "metadata": {
    "ExecuteTime": {
     "end_time": "2024-05-20T14:24:24.549436Z",
     "start_time": "2024-05-20T14:24:24.537669Z"
    }
   },
   "cell_type": "code",
   "source": [
    "test_dataset_ids = test_dataset[~test_dataset[\"ERROR_POSTVENTA_y\"].isna()][\n",
    "    [\"codigo\", \"NUMDOC\", \"ERROR_POSTVENTA_y\"]\n",
    "]\n",
    "test_dataset_ids.columns = [\"codigo\", \"NUMDOC\", \"ERROR_POSTVENTA\"]"
   ],
   "id": "5697c8e8653e8f0a",
   "execution_count": 96,
   "outputs": []
  },
  {
   "metadata": {
    "ExecuteTime": {
     "end_time": "2024-05-20T14:24:26.475131Z",
     "start_time": "2024-05-20T14:24:26.461557Z"
    }
   },
   "cell_type": "code",
   "source": [
    "test_dataset_ids.to_csv(\"../DATA/processed/test_dataset_ids.csv\")"
   ],
   "id": "47f1243a1cba8f82",
   "execution_count": 97,
   "outputs": []
  },
  {
   "metadata": {
    "ExecuteTime": {
     "end_time": "2024-05-20T14:24:26.491073Z",
     "start_time": "2024-05-20T14:24:26.476057Z"
    }
   },
   "cell_type": "code",
   "source": [
    "total = test_dataset_ids.groupby(\"ERROR_POSTVENTA\")[\"codigo\"].count().sum()\n",
    "group = (\n",
    "    test_dataset_ids.groupby(\"ERROR_POSTVENTA\")[\"codigo\"]\n",
    "    .count()\n",
    "    .sort_values(ascending=False)\n",
    "    .to_frame()\n",
    ")\n",
    "group[\"%\"] = group.apply(lambda x: (x / total) * 100)\n",
    "group[\"cumulative %\"] = group[\"%\"].cumsum()\n",
    "group"
   ],
   "id": "6715e6166716fcd4",
   "execution_count": 98,
   "outputs": []
  },
  {
   "metadata": {
    "ExecuteTime": {
     "end_time": "2024-05-20T14:24:26.854132Z",
     "start_time": "2024-05-20T14:24:26.493040Z"
    }
   },
   "cell_type": "code",
   "source": [
    "# Plot the distribution of the ERROR_POSTVENTA\n",
    "import matplotlib.pyplot as plt\n",
    "\n",
    "plt.figure(figsize=(20, 6))\n",
    "plt.bar(group.index, group[\"codigo\"])\n",
    "plt.xlabel(\"ERROR_POSTVENTA\")\n",
    "plt.ylabel(\"Count\")\n",
    "plt.xticks(rotation=90)\n",
    "plt.title(\"Distribution of the ERROR_POSTVENTA field in Test dataset\")\n",
    "\n",
    "plt.twinx()\n",
    "plt.plot(group.index, group[\"cumulative %\"], color=\"red\", marker=\"o\")\n",
    "# data labels\n",
    "for i in range(group.shape[0]):\n",
    "    plt.text(\n",
    "        i, group[\"cumulative %\"][i], f'{group[\"cumulative %\"][i]:.2f}', ha=\"center\"\n",
    "    )\n",
    "    if i > 5:\n",
    "        break\n",
    "plt.ylabel(\"%\")\n",
    "plt.show()"
   ],
   "id": "2bd19c2354a46862",
   "execution_count": 99,
   "outputs": []
  },
  {
   "metadata": {
    "ExecuteTime": {
     "end_time": "2024-05-20T14:28:49.488003Z",
     "start_time": "2024-05-20T14:28:49.466892Z"
    }
   },
   "cell_type": "code",
   "source": [
    "test_dataset[[\"codigo\", \"num_serie\"]]"
   ],
   "id": "64bd9b01b1b1781e",
   "execution_count": 104,
   "outputs": []
  }
 ],
 "metadata": {
  "kernelspec": {
   "display_name": "Python 3",
   "language": "python",
   "name": "python3"
  },
  "language_info": {
   "codemirror_mode": {
    "name": "ipython",
    "version": 2
   },
   "file_extension": ".py",
   "mimetype": "text/x-python",
   "name": "python",
   "nbconvert_exporter": "python",
   "pygments_lexer": "ipython2",
   "version": "2.7.6"
  }
 },
 "nbformat": 4,
 "nbformat_minor": 5
}
