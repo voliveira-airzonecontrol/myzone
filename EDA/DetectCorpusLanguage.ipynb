{
 "cells": [
  {
   "cell_type": "code",
   "id": "initial_id",
   "metadata": {
    "collapsed": true,
    "ExecuteTime": {
     "end_time": "2024-11-14T14:34:06.818738Z",
     "start_time": "2024-11-14T14:34:06.802655Z"
    }
   },
   "source": [
    "from langdetect import detect\n",
    "import pandas as pd\n",
    "from langdetect import DetectorFactory\n",
    "\n",
    "DetectorFactory.seed = 0\n",
    "\n",
    "data_version = \"2024-05-15\"\n",
    "data_base_path = f\"../DATA/processed/{data_version}/\""
   ],
   "outputs": [],
   "execution_count": 2
  },
  {
   "metadata": {
    "ExecuteTime": {
     "end_time": "2024-11-14T14:34:11.068768Z",
     "start_time": "2024-11-14T14:34:08.691730Z"
    }
   },
   "cell_type": "code",
   "source": [
    "# Load corpus\n",
    "corpus = pd.read_csv(data_base_path + \"corpus.csv\", sep=\"¬\", engine=\"python\")"
   ],
   "id": "8b7d905a55122582",
   "outputs": [],
   "execution_count": 3
  },
  {
   "metadata": {
    "ExecuteTime": {
     "start_time": "2024-11-14T14:34:13.281808Z"
    }
   },
   "cell_type": "code",
   "source": [
    "def detect_language(text):\n",
    "    try:\n",
    "        return detect(text)\n",
    "    except:\n",
    "        return \"unknown\"\n",
    "\n",
    "\n",
    "corpus[\"language\"] = corpus[\"text_to_analyse\"].apply(detect_language)"
   ],
   "id": "c186b5d42a02bd16",
   "outputs": [],
   "execution_count": null
  },
  {
   "metadata": {
    "ExecuteTime": {
     "end_time": "2024-05-16T11:04:12.788392Z",
     "start_time": "2024-05-16T11:04:12.741539Z"
    }
   },
   "cell_type": "code",
   "source": "corpus.sample(10)",
   "id": "a34a797af2e71726",
   "execution_count": 4,
   "outputs": []
  },
  {
   "metadata": {
    "ExecuteTime": {
     "end_time": "2024-05-16T11:27:16.647286Z",
     "start_time": "2024-05-16T11:27:16.600372Z"
    }
   },
   "cell_type": "code",
   "source": [
    "corpus[\"language\"].value_counts()"
   ],
   "id": "704cf1566d217a82",
   "execution_count": 5,
   "outputs": []
  },
  {
   "metadata": {
    "ExecuteTime": {
     "end_time": "2024-05-16T11:27:46.169949Z",
     "start_time": "2024-05-16T11:27:45.454996Z"
    }
   },
   "cell_type": "code",
   "source": [
    "corpus = corpus[corpus[\"language\"].isin([\"es\", \"pt\"])]\n",
    "corpus.to_csv(data_base_path + \"corpus_spanish.csv\", sep=\"¬\", index=False)"
   ],
   "id": "8e267a5928442b4a",
   "execution_count": 6,
   "outputs": []
  },
  {
   "metadata": {},
   "cell_type": "code",
   "execution_count": null,
   "source": "",
   "id": "df1b6f0adad8c",
   "outputs": []
  }
 ],
 "metadata": {
  "kernelspec": {
   "display_name": "Python 3",
   "language": "python",
   "name": "python3"
  },
  "language_info": {
   "codemirror_mode": {
    "name": "ipython",
    "version": 2
   },
   "file_extension": ".py",
   "mimetype": "text/x-python",
   "name": "python",
   "nbconvert_exporter": "python",
   "pygments_lexer": "ipython2",
   "version": "2.7.6"
  }
 },
 "nbformat": 4,
 "nbformat_minor": 5
}
