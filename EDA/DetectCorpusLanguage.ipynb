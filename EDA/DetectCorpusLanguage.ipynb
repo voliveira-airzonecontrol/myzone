{
 "cells": [
  {
   "cell_type": "code",
   "id": "initial_id",
   "metadata": {
    "collapsed": true,
    "ExecuteTime": {
     "end_time": "2024-05-16T10:13:15.212773Z",
     "start_time": "2024-05-16T10:13:12.522625Z"
    }
   },
   "source": [
    "from langdetect import detect\n",
    "import pandas as pd\n",
    "from langdetect import DetectorFactory\n",
    "DetectorFactory.seed = 0\n",
    "\n",
    "data_version = '2024-05-15'\n",
    "data_base_path = f'../DATA/processed/{data_version}/'"
   ],
   "outputs": [],
   "execution_count": 1
  },
  {
   "metadata": {
    "ExecuteTime": {
     "end_time": "2024-05-16T10:13:17.813839Z",
     "start_time": "2024-05-16T10:13:15.213982Z"
    }
   },
   "cell_type": "code",
   "source": [
    "# Load corpus\n",
    "corpus = pd.read_csv(data_base_path + 'corpus.csv', sep='¬', engine='python')"
   ],
   "id": "8b7d905a55122582",
   "outputs": [],
   "execution_count": 2
  },
  {
   "metadata": {
    "ExecuteTime": {
     "end_time": "2024-05-16T11:04:12.741539Z",
     "start_time": "2024-05-16T10:13:17.815139Z"
    }
   },
   "cell_type": "code",
   "source": [
    "def detect_language(text):\n",
    "    try:\n",
    "        return detect(text)\n",
    "    except:\n",
    "        return 'unknown'\n",
    "    \n",
    "corpus['language'] = corpus['text_to_analyse'].apply(detect_language)"
   ],
   "id": "c186b5d42a02bd16",
   "outputs": [],
   "execution_count": 3
  },
  {
   "metadata": {
    "ExecuteTime": {
     "end_time": "2024-05-16T11:04:12.788392Z",
     "start_time": "2024-05-16T11:04:12.741539Z"
    }
   },
   "cell_type": "code",
   "source": "corpus.sample(10)",
   "id": "a34a797af2e71726",
   "outputs": [
    {
     "data": {
      "text/plain": [
       "                                          text_to_analyse language\n",
       "424337  13 \\n Compr obación de configuración inicial  ...       es\n",
       "294500  Attention : l’unité doit être alimentée par un...       it\n",
       "314652  No caso da conexão do Webserver Cloud (AZX6WEB...       pt\n",
       "131528  La diode LED témoin de l’activité du microcont...       fr\n",
       "535649  POLICY  \\nPRECAUTIONS  \\nFor your security, an...       en\n",
       "515329  The Webserver HUB will report the system speed...       en\n",
       "628885   Heat Pump Changeover Master controls up to 1...       en\n",
       "448786  Affiché lorsque cette fonctionnalité est activ...       fr\n",
       "482845  (ES) Nota: No suministrar alimentación eléctri...       es\n",
       "249932                                                 3.  unknown"
      ],
      "text/html": [
       "<div>\n",
       "<style scoped>\n",
       "    .dataframe tbody tr th:only-of-type {\n",
       "        vertical-align: middle;\n",
       "    }\n",
       "\n",
       "    .dataframe tbody tr th {\n",
       "        vertical-align: top;\n",
       "    }\n",
       "\n",
       "    .dataframe thead th {\n",
       "        text-align: right;\n",
       "    }\n",
       "</style>\n",
       "<table border=\"1\" class=\"dataframe\">\n",
       "  <thead>\n",
       "    <tr style=\"text-align: right;\">\n",
       "      <th></th>\n",
       "      <th>text_to_analyse</th>\n",
       "      <th>language</th>\n",
       "    </tr>\n",
       "  </thead>\n",
       "  <tbody>\n",
       "    <tr>\n",
       "      <th>424337</th>\n",
       "      <td>13 \\n Compr obación de configuración inicial  ...</td>\n",
       "      <td>es</td>\n",
       "    </tr>\n",
       "    <tr>\n",
       "      <th>294500</th>\n",
       "      <td>Attention : l’unité doit être alimentée par un...</td>\n",
       "      <td>it</td>\n",
       "    </tr>\n",
       "    <tr>\n",
       "      <th>314652</th>\n",
       "      <td>No caso da conexão do Webserver Cloud (AZX6WEB...</td>\n",
       "      <td>pt</td>\n",
       "    </tr>\n",
       "    <tr>\n",
       "      <th>131528</th>\n",
       "      <td>La diode LED témoin de l’activité du microcont...</td>\n",
       "      <td>fr</td>\n",
       "    </tr>\n",
       "    <tr>\n",
       "      <th>535649</th>\n",
       "      <td>POLICY  \\nPRECAUTIONS  \\nFor your security, an...</td>\n",
       "      <td>en</td>\n",
       "    </tr>\n",
       "    <tr>\n",
       "      <th>515329</th>\n",
       "      <td>The Webserver HUB will report the system speed...</td>\n",
       "      <td>en</td>\n",
       "    </tr>\n",
       "    <tr>\n",
       "      <th>628885</th>\n",
       "      <td> Heat Pump Changeover Master controls up to 1...</td>\n",
       "      <td>en</td>\n",
       "    </tr>\n",
       "    <tr>\n",
       "      <th>448786</th>\n",
       "      <td>Affiché lorsque cette fonctionnalité est activ...</td>\n",
       "      <td>fr</td>\n",
       "    </tr>\n",
       "    <tr>\n",
       "      <th>482845</th>\n",
       "      <td>(ES) Nota: No suministrar alimentación eléctri...</td>\n",
       "      <td>es</td>\n",
       "    </tr>\n",
       "    <tr>\n",
       "      <th>249932</th>\n",
       "      <td>3.</td>\n",
       "      <td>unknown</td>\n",
       "    </tr>\n",
       "  </tbody>\n",
       "</table>\n",
       "</div>"
      ]
     },
     "execution_count": 4,
     "metadata": {},
     "output_type": "execute_result"
    }
   ],
   "execution_count": 4
  },
  {
   "metadata": {
    "ExecuteTime": {
     "end_time": "2024-05-16T11:27:16.647286Z",
     "start_time": "2024-05-16T11:27:16.600372Z"
    }
   },
   "cell_type": "code",
   "source": "corpus['language'].value_counts()",
   "id": "704cf1566d217a82",
   "outputs": [
    {
     "data": {
      "text/plain": [
       "language\n",
       "es         126133\n",
       "en         123453\n",
       "fr          89075\n",
       "it          79614\n",
       "unknown     78976\n",
       "de          60320\n",
       "pt          55496\n",
       "no          11062\n",
       "ca           5977\n",
       "hu           5687\n",
       "nl           4741\n",
       "sv           4560\n",
       "so           4449\n",
       "pl           3885\n",
       "lt           3762\n",
       "lv           3726\n",
       "id           3672\n",
       "vi           3243\n",
       "da           2540\n",
       "ro           2480\n",
       "cy           1304\n",
       "tl           1209\n",
       "cs           1194\n",
       "af            992\n",
       "et            881\n",
       "sk            766\n",
       "sl            576\n",
       "hr            510\n",
       "fi            391\n",
       "sw            244\n",
       "sq            208\n",
       "tr            147\n",
       "uk            123\n",
       "bg             20\n",
       "el             14\n",
       "mk             13\n",
       "ko             12\n",
       "Name: count, dtype: int64"
      ]
     },
     "execution_count": 5,
     "metadata": {},
     "output_type": "execute_result"
    }
   ],
   "execution_count": 5
  },
  {
   "metadata": {
    "ExecuteTime": {
     "end_time": "2024-05-16T11:27:46.169949Z",
     "start_time": "2024-05-16T11:27:45.454996Z"
    }
   },
   "cell_type": "code",
   "source": [
    "corpus = corpus[corpus['language'].isin(['es','pt'])]\n",
    "corpus.to_csv(data_base_path + 'corpus_spanish.csv', sep='¬', index=False)"
   ],
   "id": "8e267a5928442b4a",
   "outputs": [],
   "execution_count": 6
  },
  {
   "metadata": {},
   "cell_type": "code",
   "outputs": [],
   "execution_count": null,
   "source": "",
   "id": "df1b6f0adad8c"
  }
 ],
 "metadata": {
  "kernelspec": {
   "display_name": "Python 3",
   "language": "python",
   "name": "python3"
  },
  "language_info": {
   "codemirror_mode": {
    "name": "ipython",
    "version": 2
   },
   "file_extension": ".py",
   "mimetype": "text/x-python",
   "name": "python",
   "nbconvert_exporter": "python",
   "pygments_lexer": "ipython2",
   "version": "2.7.6"
  }
 },
 "nbformat": 4,
 "nbformat_minor": 5
}
