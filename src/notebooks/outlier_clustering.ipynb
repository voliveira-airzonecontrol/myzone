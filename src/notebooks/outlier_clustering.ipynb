{
 "cells": [
  {
   "cell_type": "code",
   "id": "initial_id",
   "metadata": {
    "collapsed": true,
    "ExecuteTime": {
     "end_time": "2025-01-09T12:36:24.957853Z",
     "start_time": "2025-01-09T12:36:09.855026Z"
    }
   },
   "source": [
    "from src.training.model import TransformerClassifier\n",
    "from src.utils import load_config\n",
    "\n",
    "import pandas as pd\n",
    "import numpy as np\n",
    "\n",
    "from sklearn.cluster import DBSCAN\n",
    "from sklearn.metrics import silhouette_score\n",
    "from sklearn.model_selection import ParameterGrid\n",
    "from sklearn.metrics.pairwise import cosine_similarity"
   ],
   "outputs": [],
   "execution_count": 1
  },
  {
   "metadata": {
    "ExecuteTime": {
     "end_time": "2025-01-09T12:36:24.979140Z",
     "start_time": "2025-01-09T12:36:24.958862Z"
    }
   },
   "cell_type": "code",
   "source": [
    "# Load config\n",
    "env = \"prod\"\n",
    "model_type = \"BERT\"\n",
    "\n",
    "training_config = load_config(\n",
    "    file_name=\"training_config\", env=env, folder=\"../../config\"\n",
    ")"
   ],
   "id": "81e68999e349cf5b",
   "outputs": [],
   "execution_count": 2
  },
  {
   "metadata": {
    "ExecuteTime": {
     "end_time": "2025-01-09T12:36:24.983430Z",
     "start_time": "2025-01-09T12:36:24.980147Z"
    }
   },
   "cell_type": "code",
   "source": [
    "input_dataset = f\"../../output_data/{env}/supervised_dataset.parquet\"\n",
    "input_outliers = (\n",
    "    f\"../../output_reports/{env}/outlier_detection/detected_outliers.parquet\"\n",
    ")"
   ],
   "id": "49d79380a0a996f8",
   "outputs": [],
   "execution_count": 3
  },
  {
   "metadata": {
    "ExecuteTime": {
     "end_time": "2025-01-09T12:36:27.341905Z",
     "start_time": "2025-01-09T12:36:26.970300Z"
    }
   },
   "cell_type": "code",
   "source": [
    "known_classes = pd.read_parquet(input_dataset)\n",
    "outliers_found = pd.read_parquet(input_outliers)"
   ],
   "id": "b8f2ed7ac775476e",
   "outputs": [],
   "execution_count": 4
  },
  {
   "metadata": {
    "ExecuteTime": {
     "end_time": "2025-01-09T12:36:27.346030Z",
     "start_time": "2025-01-09T12:36:27.342911Z"
    }
   },
   "cell_type": "code",
   "source": [
    "features = training_config.training[model_type].features\n",
    "target = training_config.training[model_type].target"
   ],
   "id": "abde89d3dba49343",
   "outputs": [],
   "execution_count": 5
  },
  {
   "metadata": {
    "ExecuteTime": {
     "end_time": "2025-01-09T12:36:27.488752Z",
     "start_time": "2025-01-09T12:36:27.484378Z"
    }
   },
   "cell_type": "code",
   "source": [
    "known_classes = known_classes[[features, target]]\n",
    "outliers_found = outliers_found[[features, target]]"
   ],
   "id": "47cd547b252609a1",
   "outputs": [],
   "execution_count": 6
  },
  {
   "metadata": {
    "ExecuteTime": {
     "end_time": "2025-01-09T12:36:28.856380Z",
     "start_time": "2025-01-09T12:36:28.853576Z"
    }
   },
   "cell_type": "code",
   "source": "num_labels = known_classes[target].nunique()",
   "id": "cc6a1e13ce256632",
   "outputs": [],
   "execution_count": 7
  },
  {
   "metadata": {
    "ExecuteTime": {
     "end_time": "2025-01-09T12:36:29.321715Z",
     "start_time": "2025-01-09T12:36:29.120028Z"
    }
   },
   "cell_type": "code",
   "source": [
    "clf = TransformerClassifier(\n",
    "    model_name=None,\n",
    "    num_labels=num_labels,\n",
    "    local_model_path=\"../../output_models/prod/trained_model\",\n",
    ")"
   ],
   "id": "a96d402aaaf699ca",
   "outputs": [],
   "execution_count": 8
  },
  {
   "metadata": {},
   "cell_type": "markdown",
   "source": "# Get embeddings for known classes and outliers",
   "id": "4b5169a6fea1818d"
  },
  {
   "metadata": {
    "ExecuteTime": {
     "end_time": "2025-01-09T12:54:56.232033Z",
     "start_time": "2025-01-09T12:36:31.212544Z"
    }
   },
   "cell_type": "code",
   "source": [
    "# Generate embeddings for all rows\n",
    "embeddings = clf.get_embeddings(known_classes[features].values)\n",
    "known_classes[\"embeddings\"] = [e for e in embeddings]"
   ],
   "id": "878646d13c35bf22",
   "outputs": [],
   "execution_count": 9
  },
  {
   "metadata": {
    "ExecuteTime": {
     "end_time": "2025-01-09T12:56:06.423759Z",
     "start_time": "2025-01-09T12:54:56.232033Z"
    }
   },
   "cell_type": "code",
   "source": [
    "# Generate embeddings for all rows\n",
    "embeddings = clf.get_embeddings(outliers_found[features].values)\n",
    "outliers_found[\"embeddings\"] = [e for e in embeddings]"
   ],
   "id": "18bea00966bb770b",
   "outputs": [],
   "execution_count": 10
  },
  {
   "metadata": {},
   "cell_type": "markdown",
   "source": "# Find centroids for known classes and outliers",
   "id": "b50d13a371905a47"
  },
  {
   "metadata": {
    "ExecuteTime": {
     "end_time": "2025-01-09T12:56:06.427922Z",
     "start_time": "2025-01-09T12:56:06.423759Z"
    }
   },
   "cell_type": "code",
   "source": [
    "def find_centroids(df, target_column):\n",
    "    \"\"\"Find the centroid of the embeddings for each class in the target_column\"\"\"\n",
    "    return df.groupby(target_column)[\"embeddings\"].apply(\n",
    "        lambda group: np.mean(np.vstack(group), axis=0)\n",
    "    )"
   ],
   "id": "413525262aefea1f",
   "outputs": [],
   "execution_count": 11
  },
  {
   "metadata": {
    "ExecuteTime": {
     "end_time": "2025-01-09T12:56:06.437535Z",
     "start_time": "2025-01-09T12:56:06.427922Z"
    }
   },
   "cell_type": "code",
   "source": "centroids = find_centroids(known_classes, target)",
   "id": "b3a44ce5adff81f8",
   "outputs": [],
   "execution_count": 12
  },
  {
   "metadata": {},
   "cell_type": "markdown",
   "source": "# Find mean distance of each row to the centroids of known classes",
   "id": "95cebd1408d072e2"
  },
  {
   "metadata": {
    "ExecuteTime": {
     "end_time": "2025-01-09T12:56:06.442427Z",
     "start_time": "2025-01-09T12:56:06.437535Z"
    }
   },
   "cell_type": "code",
   "source": [
    "from sklearn.metrics.pairwise import cosine_distances\n",
    "\n",
    "\n",
    "def find_distance_to_centroids(\n",
    "    df, centroids, target_column=\"label\", embedding_column=\"embeddings\"\n",
    "):\n",
    "    \"\"\"\n",
    "    Find the cosine distance of each row's embedding to the centroid of its class.\n",
    "\n",
    "    Parameters:\n",
    "        df (pd.DataFrame): The DataFrame containing embeddings and target classes.\n",
    "        centroids (pd.Series): A series where the index is the class and the value is the centroid embedding.\n",
    "        target_column (str): The column name in df representing the target classes.\n",
    "        embedding_column (str): The column name in df representing the embeddings.\n",
    "\n",
    "    Returns:\n",
    "        pd.Series: A series containing the cosine distance for each row in the DataFrame.\n",
    "    \"\"\"\n",
    "    # Convert centroids to a dictionary for efficient lookup\n",
    "    centroids_dict = centroids.to_dict()\n",
    "\n",
    "    def compute_distance(row):\n",
    "        # Retrieve the centroid for the row's class\n",
    "        centroid = centroids_dict[row[target_column]]\n",
    "        # Compute cosine similarity\n",
    "        distance = cosine_distances([row[embedding_column]], [centroid])[0][0]\n",
    "        return distance\n",
    "\n",
    "    # Apply the distance computation for each row\n",
    "    return df.apply(compute_distance, axis=1)"
   ],
   "id": "f1ce17d9b71543eb",
   "outputs": [],
   "execution_count": 13
  },
  {
   "metadata": {
    "ExecuteTime": {
     "end_time": "2025-01-09T12:56:06.881712Z",
     "start_time": "2025-01-09T12:56:06.442427Z"
    }
   },
   "cell_type": "code",
   "source": [
    "known_classes[\"distance_to_centroids\"] = find_distance_to_centroids(\n",
    "    known_classes, centroids\n",
    ")"
   ],
   "id": "3aac25670f21afeb",
   "outputs": [],
   "execution_count": 14
  },
  {
   "metadata": {
    "ExecuteTime": {
     "end_time": "2025-01-09T12:56:06.886408Z",
     "start_time": "2025-01-09T12:56:06.881712Z"
    }
   },
   "cell_type": "code",
   "source": [
    "# Calculate mean distance from centroids of each known classes\n",
    "mean_distance = known_classes.groupby(target)[\"distance_to_centroids\"].mean()"
   ],
   "id": "76d345c7249e69e9",
   "outputs": [],
   "execution_count": 15
  },
  {
   "metadata": {
    "ExecuteTime": {
     "end_time": "2025-01-09T12:56:06.891469Z",
     "start_time": "2025-01-09T12:56:06.886408Z"
    }
   },
   "cell_type": "code",
   "source": [
    "known_classes_info = centroids.to_frame(\"centroid\").join(\n",
    "    mean_distance.to_frame(\"mean_distance\")\n",
    ")"
   ],
   "id": "9b97150e1c9cc3ee",
   "outputs": [],
   "execution_count": 16
  },
  {
   "metadata": {
    "ExecuteTime": {
     "end_time": "2025-01-09T12:56:06.903772Z",
     "start_time": "2025-01-09T12:56:06.891469Z"
    }
   },
   "cell_type": "code",
   "source": "known_classes_info",
   "id": "a890fa1872b31b56",
   "outputs": [
    {
     "data": {
      "text/plain": [
       "                                                centroid  mean_distance\n",
       "label                                                                  \n",
       "0      [0.64499325, -0.7603027, -0.45246407, 0.201125...       0.083344\n",
       "1      [0.87599444, -0.9251018, 0.071074955, -0.77208...       0.120259"
      ],
      "text/html": [
       "<div>\n",
       "<style scoped>\n",
       "    .dataframe tbody tr th:only-of-type {\n",
       "        vertical-align: middle;\n",
       "    }\n",
       "\n",
       "    .dataframe tbody tr th {\n",
       "        vertical-align: top;\n",
       "    }\n",
       "\n",
       "    .dataframe thead th {\n",
       "        text-align: right;\n",
       "    }\n",
       "</style>\n",
       "<table border=\"1\" class=\"dataframe\">\n",
       "  <thead>\n",
       "    <tr style=\"text-align: right;\">\n",
       "      <th></th>\n",
       "      <th>centroid</th>\n",
       "      <th>mean_distance</th>\n",
       "    </tr>\n",
       "    <tr>\n",
       "      <th>label</th>\n",
       "      <th></th>\n",
       "      <th></th>\n",
       "    </tr>\n",
       "  </thead>\n",
       "  <tbody>\n",
       "    <tr>\n",
       "      <th>0</th>\n",
       "      <td>[0.64499325, -0.7603027, -0.45246407, 0.201125...</td>\n",
       "      <td>0.083344</td>\n",
       "    </tr>\n",
       "    <tr>\n",
       "      <th>1</th>\n",
       "      <td>[0.87599444, -0.9251018, 0.071074955, -0.77208...</td>\n",
       "      <td>0.120259</td>\n",
       "    </tr>\n",
       "  </tbody>\n",
       "</table>\n",
       "</div>"
      ]
     },
     "execution_count": 17,
     "metadata": {},
     "output_type": "execute_result"
    }
   ],
   "execution_count": 17
  },
  {
   "metadata": {},
   "cell_type": "markdown",
   "source": "# Clustering of outliers",
   "id": "df90a211cd226f3f"
  },
  {
   "metadata": {
    "ExecuteTime": {
     "end_time": "2025-01-09T12:56:06.910306Z",
     "start_time": "2025-01-09T12:56:06.903772Z"
    }
   },
   "cell_type": "code",
   "source": [
    "def perform_dbscan_grid_search(embeddings, param_grid):\n",
    "    \"\"\"\n",
    "    Perform grid search to find the best DBSCAN parameters using silhouette score.\n",
    "\n",
    "    Parameters:\n",
    "        embeddings (np.ndarray): Array of text embeddings to cluster.\n",
    "        param_grid (dict): Dictionary of parameters for DBSCAN.\n",
    "\n",
    "    Returns:\n",
    "        dict: Best parameters and the corresponding silhouette score.\n",
    "        DBSCAN: Fitted DBSCAN model with best parameters.\n",
    "    \"\"\"\n",
    "    best_score = -1  # Silhouette score ranges from -1 to 1\n",
    "    best_params = None\n",
    "    best_model = None\n",
    "\n",
    "    for params in ParameterGrid(param_grid):\n",
    "        # Train DBSCAN model with the current set of parameters\n",
    "        model = DBSCAN(**params)\n",
    "        labels = model.fit_predict(embeddings)\n",
    "\n",
    "        # Log intermediate results\n",
    "        num_clusters = len(set(labels)) - (1 if -1 in labels else 0)\n",
    "\n",
    "        # Only calculate silhouette score if there are at least 2 clusters\n",
    "        if num_clusters > 1:\n",
    "            score = silhouette_score(embeddings, labels)\n",
    "            if score > best_score:\n",
    "                best_score = score\n",
    "                best_params = params\n",
    "                best_model = model\n",
    "\n",
    "    if best_model is None:\n",
    "        print(\"No valid clustering found. Adjust parameters or check the data.\")\n",
    "    return {\"best_params\": best_params, \"best_score\": best_score}, best_model"
   ],
   "id": "501b287bb949fc35",
   "outputs": [],
   "execution_count": 18
  },
  {
   "metadata": {
    "ExecuteTime": {
     "end_time": "2025-01-09T12:56:48.835806Z",
     "start_time": "2025-01-09T12:56:06.910306Z"
    }
   },
   "cell_type": "code",
   "source": [
    "# Example dataset: Replace this with your text embeddings\n",
    "embeddings = np.vstack(outliers_found[\"embeddings\"])\n",
    "\n",
    "# Define a parameter grid for DBSCAN\n",
    "param_grid = {\n",
    "    \"eps\": np.arange(0.1, 20, 0.1),\n",
    "    \"min_samples\": range(2, 20, 1),\n",
    "    \"metric\": [\"cosine\", \"euclidean\"],\n",
    "}\n",
    "\n",
    "# Perform grid search\n",
    "results, best_model = perform_dbscan_grid_search(embeddings, param_grid)\n",
    "\n",
    "# Display results\n",
    "print(\"Best Parameters:\", results[\"best_params\"])\n",
    "print(\"Best Silhouette Score:\", results[\"best_score\"])\n",
    "\n",
    "# Retrieve cluster labels from the best model\n",
    "cluster_labels = best_model.labels_\n",
    "print(\"Cluster Labels:\", cluster_labels)"
   ],
   "id": "72e44e87fd4f849a",
   "outputs": [
    {
     "name": "stdout",
     "output_type": "stream",
     "text": [
      "Best Parameters: {'eps': 15.6, 'metric': 'euclidean', 'min_samples': 13}\n",
      "Best Silhouette Score: 0.24065837\n",
      "Cluster Labels: [ 0  0  1  0 -1  0  1  1  0  1 -1  0  0  0  0 -1 -1  0  0  0  0  0  0 -1\n",
      "  0  0  0  0  0  1  0  0  0  0  0  0  0  1  0  0  0  0  0  0  0 -1  0  0\n",
      "  1  0  0  0  0  0  0  0  0  0  0  0  0  0  1  0  0  0  0  0  0  0  0  0\n",
      "  0  0  1  0  0  0 -1 -1  1  0  0  0  0  0  0  0  0  0]\n"
     ]
    }
   ],
   "execution_count": 19
  },
  {
   "metadata": {
    "ExecuteTime": {
     "end_time": "2025-01-09T12:56:48.840247Z",
     "start_time": "2025-01-09T12:56:48.835806Z"
    }
   },
   "cell_type": "code",
   "source": "outliers_found[\"cluster\"] = cluster_labels",
   "id": "49ea850afda939b2",
   "outputs": [],
   "execution_count": 20
  },
  {
   "metadata": {
    "ExecuteTime": {
     "end_time": "2025-01-09T12:56:48.845927Z",
     "start_time": "2025-01-09T12:56:48.840247Z"
    }
   },
   "cell_type": "code",
   "source": "outliers_centroids = find_centroids(outliers_found, \"cluster\")",
   "id": "7d79745296f45848",
   "outputs": [],
   "execution_count": 21
  },
  {
   "metadata": {
    "ExecuteTime": {
     "end_time": "2025-01-09T12:56:48.886510Z",
     "start_time": "2025-01-09T12:56:48.845927Z"
    }
   },
   "cell_type": "code",
   "source": [
    "outliers_found[\"distance_to_centroids\"] = find_distance_to_centroids(\n",
    "    outliers_found, outliers_centroids, target_column=\"cluster\"\n",
    ")"
   ],
   "id": "6c5373126575c9d6",
   "outputs": [],
   "execution_count": 22
  },
  {
   "metadata": {
    "ExecuteTime": {
     "end_time": "2025-01-09T12:56:48.892571Z",
     "start_time": "2025-01-09T12:56:48.886510Z"
    }
   },
   "cell_type": "code",
   "source": [
    "outliers_info = outliers_centroids.to_frame(\"centroid\").join(\n",
    "    outliers_found.groupby(\"cluster\")[\"distance_to_centroids\"]\n",
    "    .mean()\n",
    "    .to_frame(\"mean_distance\")\n",
    ")"
   ],
   "id": "45162c7564d0ae65",
   "outputs": [],
   "execution_count": 23
  },
  {
   "metadata": {
    "ExecuteTime": {
     "end_time": "2025-01-09T12:56:48.901624Z",
     "start_time": "2025-01-09T12:56:48.892571Z"
    }
   },
   "cell_type": "code",
   "source": "outliers_info",
   "id": "1e63bf88cd7a3219",
   "outputs": [
    {
     "data": {
      "text/plain": [
       "                                                  centroid  mean_distance\n",
       "cluster                                                                  \n",
       "-1       [0.95425683, -0.82077795, -0.0175265, -0.61728...       0.165599\n",
       " 0       [0.7502181, -0.6801476, -0.2928251, 0.01186235...       0.144231\n",
       " 1       [0.8247813, -0.833732, 0.051665276, -1.0820456...       0.136255"
      ],
      "text/html": [
       "<div>\n",
       "<style scoped>\n",
       "    .dataframe tbody tr th:only-of-type {\n",
       "        vertical-align: middle;\n",
       "    }\n",
       "\n",
       "    .dataframe tbody tr th {\n",
       "        vertical-align: top;\n",
       "    }\n",
       "\n",
       "    .dataframe thead th {\n",
       "        text-align: right;\n",
       "    }\n",
       "</style>\n",
       "<table border=\"1\" class=\"dataframe\">\n",
       "  <thead>\n",
       "    <tr style=\"text-align: right;\">\n",
       "      <th></th>\n",
       "      <th>centroid</th>\n",
       "      <th>mean_distance</th>\n",
       "    </tr>\n",
       "    <tr>\n",
       "      <th>cluster</th>\n",
       "      <th></th>\n",
       "      <th></th>\n",
       "    </tr>\n",
       "  </thead>\n",
       "  <tbody>\n",
       "    <tr>\n",
       "      <th>-1</th>\n",
       "      <td>[0.95425683, -0.82077795, -0.0175265, -0.61728...</td>\n",
       "      <td>0.165599</td>\n",
       "    </tr>\n",
       "    <tr>\n",
       "      <th>0</th>\n",
       "      <td>[0.7502181, -0.6801476, -0.2928251, 0.01186235...</td>\n",
       "      <td>0.144231</td>\n",
       "    </tr>\n",
       "    <tr>\n",
       "      <th>1</th>\n",
       "      <td>[0.8247813, -0.833732, 0.051665276, -1.0820456...</td>\n",
       "      <td>0.136255</td>\n",
       "    </tr>\n",
       "  </tbody>\n",
       "</table>\n",
       "</div>"
      ]
     },
     "execution_count": 24,
     "metadata": {},
     "output_type": "execute_result"
    }
   ],
   "execution_count": 24
  },
  {
   "metadata": {
    "ExecuteTime": {
     "end_time": "2025-01-09T12:56:48.909612Z",
     "start_time": "2025-01-09T12:56:48.901624Z"
    }
   },
   "cell_type": "code",
   "source": "known_classes_info",
   "id": "a752c532a0da7d3c",
   "outputs": [
    {
     "data": {
      "text/plain": [
       "                                                centroid  mean_distance\n",
       "label                                                                  \n",
       "0      [0.64499325, -0.7603027, -0.45246407, 0.201125...       0.083344\n",
       "1      [0.87599444, -0.9251018, 0.071074955, -0.77208...       0.120259"
      ],
      "text/html": [
       "<div>\n",
       "<style scoped>\n",
       "    .dataframe tbody tr th:only-of-type {\n",
       "        vertical-align: middle;\n",
       "    }\n",
       "\n",
       "    .dataframe tbody tr th {\n",
       "        vertical-align: top;\n",
       "    }\n",
       "\n",
       "    .dataframe thead th {\n",
       "        text-align: right;\n",
       "    }\n",
       "</style>\n",
       "<table border=\"1\" class=\"dataframe\">\n",
       "  <thead>\n",
       "    <tr style=\"text-align: right;\">\n",
       "      <th></th>\n",
       "      <th>centroid</th>\n",
       "      <th>mean_distance</th>\n",
       "    </tr>\n",
       "    <tr>\n",
       "      <th>label</th>\n",
       "      <th></th>\n",
       "      <th></th>\n",
       "    </tr>\n",
       "  </thead>\n",
       "  <tbody>\n",
       "    <tr>\n",
       "      <th>0</th>\n",
       "      <td>[0.64499325, -0.7603027, -0.45246407, 0.201125...</td>\n",
       "      <td>0.083344</td>\n",
       "    </tr>\n",
       "    <tr>\n",
       "      <th>1</th>\n",
       "      <td>[0.87599444, -0.9251018, 0.071074955, -0.77208...</td>\n",
       "      <td>0.120259</td>\n",
       "    </tr>\n",
       "  </tbody>\n",
       "</table>\n",
       "</div>"
      ]
     },
     "execution_count": 25,
     "metadata": {},
     "output_type": "execute_result"
    }
   ],
   "execution_count": 25
  },
  {
   "metadata": {},
   "cell_type": "markdown",
   "source": "# Calculate distance of outliers to known classes centroids",
   "id": "b17f1c5e57b08255"
  },
  {
   "metadata": {
    "ExecuteTime": {
     "end_time": "2025-01-09T12:57:03.934115Z",
     "start_time": "2025-01-09T12:57:03.925333Z"
    }
   },
   "cell_type": "code",
   "source": [
    "def cluster_and_find_new_class(\n",
    "    df_outliers: pd.DataFrame, known_class_info: pd.DataFrame\n",
    "):\n",
    "    \"\"\"\n",
    "    Cluster the outliers and find new classes based on the distance to known class centroids.\n",
    "\n",
    "    :param df_outliers: DataFrame containing outlier embeddings and their cluster labels.\n",
    "                        Must contain a column 'embeddings' with embeddings as numpy arrays.\n",
    "    :param known_class_info: DataFrame containing known class centroids.\n",
    "                             Must contain columns 'centroid' with centroids as numpy arrays.\n",
    "    :return: Updated DataFrame with new columns 'new_class' and 'special_case'.\n",
    "    \"\"\"\n",
    "\n",
    "    # Extract embeddings from the outlier DataFrame\n",
    "    emb_outliers = np.stack(df_outliers[\"embeddings\"].values, axis=0)\n",
    "\n",
    "    # Initialize new columns\n",
    "    df_outliers[\"new_class\"] = False  # default\n",
    "    df_outliers[\"special_case\"] = False  # default\n",
    "\n",
    "    # Known class centroids as a numpy array\n",
    "    known_centroids = np.stack(\n",
    "        known_class_info[\"centroid\"].values, axis=0\n",
    "    )  # shape (num_classes, embedding_dim)\n",
    "\n",
    "    # Iterate over unique clusters in the outliers DataFrame\n",
    "    unique_clusters = df_outliers[\"cluster\"].unique()\n",
    "    for cl_id in unique_clusters:\n",
    "        if cl_id == -1:\n",
    "            # DBSCAN assigns -1 to noise\n",
    "            df_outliers.loc[df_outliers[\"cluster\"] == -1, \"special_case\"] = True\n",
    "            continue\n",
    "\n",
    "        # Extract embeddings for the current cluster\n",
    "        mask = df_outliers[\"cluster\"] == cl_id\n",
    "        cluster_emb = emb_outliers[mask]\n",
    "\n",
    "        # Compute the centroid of the cluster\n",
    "        centroid = cluster_emb.mean(axis=0, keepdims=True)  # shape (1, embedding_dim)\n",
    "\n",
    "        # Compute cosine distances to known class centroids\n",
    "        distances = cosine_distances(centroid, known_centroids)[\n",
    "            0\n",
    "        ]  # shape (num_classes,)\n",
    "\n",
    "        # Find the minimum distance\n",
    "        min_distance = np.min(distances)\n",
    "        min_distance_class = known_class_info.index[np.argmin(distances)]\n",
    "        distance_threshold = known_class_info.loc[min_distance_class, \"mean_distance\"]\n",
    "\n",
    "        print(\n",
    "            f\"Cluster {cl_id}: Min distance = {min_distance:.4f} to class {min_distance_class} and threshold = {distance_threshold:.4f}\"\n",
    "        )\n",
    "\n",
    "        # If the minimum distance exceeds the threshold, label the cluster as a new class\n",
    "        if min_distance > distance_threshold:\n",
    "            df_outliers.loc[mask, \"new_class\"] = True\n",
    "            print(f\"Cluster {cl_id} is a new class\")\n",
    "        else:\n",
    "            print(f\"Cluster {cl_id} is an existing class\")\n",
    "\n",
    "    return df_outliers"
   ],
   "id": "97c1dab513c0397f",
   "outputs": [],
   "execution_count": 26
  },
  {
   "metadata": {
    "ExecuteTime": {
     "end_time": "2025-01-09T12:58:00.893208Z",
     "start_time": "2025-01-09T12:58:00.874621Z"
    }
   },
   "cell_type": "code",
   "source": "new_class = cluster_and_find_new_class(outliers_found, known_classes_info)",
   "id": "a6a9a7f81a9ccf25",
   "outputs": [
    {
     "name": "stdout",
     "output_type": "stream",
     "text": [
      "Cluster 0: Min distance = 0.2214 to class 0 and threshold = 0.0833\n",
      "Cluster 0 is a new class\n",
      "Cluster 1: Min distance = 0.1004 to class 1 and threshold = 0.1203\n",
      "Cluster 1 is an existing class\n"
     ]
    }
   ],
   "execution_count": 31
  },
  {
   "metadata": {
    "ExecuteTime": {
     "end_time": "2025-01-09T12:58:03.098733Z",
     "start_time": "2025-01-09T12:58:03.083124Z"
    }
   },
   "cell_type": "code",
   "source": "new_class.groupby([\"cluster\", \"label\"]).size()",
   "id": "d0e69d6195f57c5f",
   "outputs": [
    {
     "data": {
      "text/plain": [
       "cluster  label\n",
       "-1       0         1\n",
       "         1         4\n",
       "         2         3\n",
       " 0       0        12\n",
       "         1         5\n",
       "         2        55\n",
       " 1       1         4\n",
       "         2         6\n",
       "dtype: int64"
      ]
     },
     "execution_count": 32,
     "metadata": {},
     "output_type": "execute_result"
    }
   ],
   "execution_count": 32
  },
  {
   "metadata": {
    "ExecuteTime": {
     "end_time": "2025-01-09T12:58:05.687435Z",
     "start_time": "2025-01-09T12:58:05.672243Z"
    }
   },
   "cell_type": "code",
   "source": "new_class.groupby([\"label\", \"new_class\"]).size()",
   "id": "3a6ae6a3a742a6f2",
   "outputs": [
    {
     "data": {
      "text/plain": [
       "label  new_class\n",
       "0      False         1\n",
       "       True         12\n",
       "1      False         8\n",
       "       True          5\n",
       "2      False         9\n",
       "       True         55\n",
       "dtype: int64"
      ]
     },
     "execution_count": 33,
     "metadata": {},
     "output_type": "execute_result"
    }
   ],
   "execution_count": 33
  },
  {
   "metadata": {
    "ExecuteTime": {
     "end_time": "2025-01-09T12:58:09.300754Z",
     "start_time": "2025-01-09T12:58:09.279649Z"
    }
   },
   "cell_type": "code",
   "source": "new_class[new_class[\"new_class\"] == True]",
   "id": "c9312ccb0658f596",
   "outputs": [
    {
     "data": {
      "text/plain": [
       "                            processed_text_to_analyse  label  \\\n",
       "0   pantalla congelada lengua emparejar bateria ca...      0   \n",
       "1   pensar pantalla quita blueface pantalla bloque...      1   \n",
       "3   pantallas bloqueadas tacto responde pantalla p...      0   \n",
       "5   termostato funciona pantalla digital completam...      0   \n",
       "8   1 2 blueface funciona funciona normalmente pan...      1   \n",
       "..                                                ...    ...   \n",
       "85  visto linea directa comunicacion caja registra...      2   \n",
       "86  numero archivo linea directa 240300921 sustitu...      2   \n",
       "87  numero archivo linea directa 240300921 sustitu...      2   \n",
       "88  2 mandos distancia defectuosos comunicaciones ...      2   \n",
       "89   senal termostato.dist.monocromo 32 z.radio senal      2   \n",
       "\n",
       "                                           embeddings  cluster  \\\n",
       "0   [1.1179554, -0.7045866, -0.112711154, -0.06192...        0   \n",
       "1   [1.2228342, -0.9498797, -0.33459154, -0.356697...        0   \n",
       "3   [1.3592331, -0.79204917, -0.3811632, -0.202186...        0   \n",
       "5   [1.1948981, -1.3508228, -0.07576577, -0.814956...        0   \n",
       "8   [0.9113356, -1.0912932, -0.43760234, 0.0765032...        0   \n",
       "..                                                ...      ...   \n",
       "85  [1.073865, -0.55823165, -0.92930335, 0.4183844...        0   \n",
       "86  [0.71984005, -0.7580546, -0.2647118, 0.4971769...        0   \n",
       "87  [0.9775894, -0.89244354, -0.17828754, 0.163492...        0   \n",
       "88  [1.2192621, -0.9650607, -0.021704776, 0.369362...        0   \n",
       "89  [0.18585794, -0.89737886, -0.8850561, -0.04352...        0   \n",
       "\n",
       "    distance_to_centroids  new_class  special_case  \n",
       "0                0.146103       True         False  \n",
       "1                0.096628       True         False  \n",
       "3                0.155741       True         False  \n",
       "5                0.392237       True         False  \n",
       "8                0.221131       True         False  \n",
       "..                    ...        ...           ...  \n",
       "85               0.158515       True         False  \n",
       "86               0.101424       True         False  \n",
       "87               0.101483       True         False  \n",
       "88               0.165564       True         False  \n",
       "89               0.139340       True         False  \n",
       "\n",
       "[72 rows x 7 columns]"
      ],
      "text/html": [
       "<div>\n",
       "<style scoped>\n",
       "    .dataframe tbody tr th:only-of-type {\n",
       "        vertical-align: middle;\n",
       "    }\n",
       "\n",
       "    .dataframe tbody tr th {\n",
       "        vertical-align: top;\n",
       "    }\n",
       "\n",
       "    .dataframe thead th {\n",
       "        text-align: right;\n",
       "    }\n",
       "</style>\n",
       "<table border=\"1\" class=\"dataframe\">\n",
       "  <thead>\n",
       "    <tr style=\"text-align: right;\">\n",
       "      <th></th>\n",
       "      <th>processed_text_to_analyse</th>\n",
       "      <th>label</th>\n",
       "      <th>embeddings</th>\n",
       "      <th>cluster</th>\n",
       "      <th>distance_to_centroids</th>\n",
       "      <th>new_class</th>\n",
       "      <th>special_case</th>\n",
       "    </tr>\n",
       "  </thead>\n",
       "  <tbody>\n",
       "    <tr>\n",
       "      <th>0</th>\n",
       "      <td>pantalla congelada lengua emparejar bateria ca...</td>\n",
       "      <td>0</td>\n",
       "      <td>[1.1179554, -0.7045866, -0.112711154, -0.06192...</td>\n",
       "      <td>0</td>\n",
       "      <td>0.146103</td>\n",
       "      <td>True</td>\n",
       "      <td>False</td>\n",
       "    </tr>\n",
       "    <tr>\n",
       "      <th>1</th>\n",
       "      <td>pensar pantalla quita blueface pantalla bloque...</td>\n",
       "      <td>1</td>\n",
       "      <td>[1.2228342, -0.9498797, -0.33459154, -0.356697...</td>\n",
       "      <td>0</td>\n",
       "      <td>0.096628</td>\n",
       "      <td>True</td>\n",
       "      <td>False</td>\n",
       "    </tr>\n",
       "    <tr>\n",
       "      <th>3</th>\n",
       "      <td>pantallas bloqueadas tacto responde pantalla p...</td>\n",
       "      <td>0</td>\n",
       "      <td>[1.3592331, -0.79204917, -0.3811632, -0.202186...</td>\n",
       "      <td>0</td>\n",
       "      <td>0.155741</td>\n",
       "      <td>True</td>\n",
       "      <td>False</td>\n",
       "    </tr>\n",
       "    <tr>\n",
       "      <th>5</th>\n",
       "      <td>termostato funciona pantalla digital completam...</td>\n",
       "      <td>0</td>\n",
       "      <td>[1.1948981, -1.3508228, -0.07576577, -0.814956...</td>\n",
       "      <td>0</td>\n",
       "      <td>0.392237</td>\n",
       "      <td>True</td>\n",
       "      <td>False</td>\n",
       "    </tr>\n",
       "    <tr>\n",
       "      <th>8</th>\n",
       "      <td>1 2 blueface funciona funciona normalmente pan...</td>\n",
       "      <td>1</td>\n",
       "      <td>[0.9113356, -1.0912932, -0.43760234, 0.0765032...</td>\n",
       "      <td>0</td>\n",
       "      <td>0.221131</td>\n",
       "      <td>True</td>\n",
       "      <td>False</td>\n",
       "    </tr>\n",
       "    <tr>\n",
       "      <th>...</th>\n",
       "      <td>...</td>\n",
       "      <td>...</td>\n",
       "      <td>...</td>\n",
       "      <td>...</td>\n",
       "      <td>...</td>\n",
       "      <td>...</td>\n",
       "      <td>...</td>\n",
       "    </tr>\n",
       "    <tr>\n",
       "      <th>85</th>\n",
       "      <td>visto linea directa comunicacion caja registra...</td>\n",
       "      <td>2</td>\n",
       "      <td>[1.073865, -0.55823165, -0.92930335, 0.4183844...</td>\n",
       "      <td>0</td>\n",
       "      <td>0.158515</td>\n",
       "      <td>True</td>\n",
       "      <td>False</td>\n",
       "    </tr>\n",
       "    <tr>\n",
       "      <th>86</th>\n",
       "      <td>numero archivo linea directa 240300921 sustitu...</td>\n",
       "      <td>2</td>\n",
       "      <td>[0.71984005, -0.7580546, -0.2647118, 0.4971769...</td>\n",
       "      <td>0</td>\n",
       "      <td>0.101424</td>\n",
       "      <td>True</td>\n",
       "      <td>False</td>\n",
       "    </tr>\n",
       "    <tr>\n",
       "      <th>87</th>\n",
       "      <td>numero archivo linea directa 240300921 sustitu...</td>\n",
       "      <td>2</td>\n",
       "      <td>[0.9775894, -0.89244354, -0.17828754, 0.163492...</td>\n",
       "      <td>0</td>\n",
       "      <td>0.101483</td>\n",
       "      <td>True</td>\n",
       "      <td>False</td>\n",
       "    </tr>\n",
       "    <tr>\n",
       "      <th>88</th>\n",
       "      <td>2 mandos distancia defectuosos comunicaciones ...</td>\n",
       "      <td>2</td>\n",
       "      <td>[1.2192621, -0.9650607, -0.021704776, 0.369362...</td>\n",
       "      <td>0</td>\n",
       "      <td>0.165564</td>\n",
       "      <td>True</td>\n",
       "      <td>False</td>\n",
       "    </tr>\n",
       "    <tr>\n",
       "      <th>89</th>\n",
       "      <td>senal termostato.dist.monocromo 32 z.radio senal</td>\n",
       "      <td>2</td>\n",
       "      <td>[0.18585794, -0.89737886, -0.8850561, -0.04352...</td>\n",
       "      <td>0</td>\n",
       "      <td>0.139340</td>\n",
       "      <td>True</td>\n",
       "      <td>False</td>\n",
       "    </tr>\n",
       "  </tbody>\n",
       "</table>\n",
       "<p>72 rows × 7 columns</p>\n",
       "</div>"
      ]
     },
     "execution_count": 34,
     "metadata": {},
     "output_type": "execute_result"
    }
   ],
   "execution_count": 34
  },
  {
   "metadata": {
    "ExecuteTime": {
     "end_time": "2025-01-09T14:34:37.821799Z",
     "start_time": "2025-01-09T14:34:37.808651Z"
    }
   },
   "cell_type": "code",
   "source": [
    "print(\n",
    "    f\"Total new classes found:  {len(new_class[new_class[\"new_class\"]][\"cluster\"].unique())}\"\n",
    ")"
   ],
   "id": "d3f7ee4315d8a555",
   "outputs": [
    {
     "name": "stdout",
     "output_type": "stream",
     "text": [
      "Total new classes found:  1\n"
     ]
    }
   ],
   "execution_count": 58
  },
  {
   "metadata": {
    "ExecuteTime": {
     "end_time": "2025-01-09T15:32:55.657142Z",
     "start_time": "2025-01-09T15:32:55.629035Z"
    }
   },
   "cell_type": "code",
   "source": [
    "from src.clustering.utils import ensure_output_folder\n",
    "\n",
    "ensure_output_folder(f\"../../output_reports/{env}/clustering\")\n",
    "new_class.to_parquet(f\"../../output_reports/{env}/clustering/temp_new_class.parquet\")"
   ],
   "id": "85ff4aaf6984ba46",
   "outputs": [],
   "execution_count": 103
  },
  {
   "metadata": {
    "ExecuteTime": {
     "end_time": "2025-01-09T14:45:28.853303Z",
     "start_time": "2025-01-09T14:45:28.215839Z"
    }
   },
   "cell_type": "code",
   "source": [
    "import importlib\n",
    "from src.clustering import utils  # Import the module\n",
    "\n",
    "importlib.reload(utils)  # Reload the module\n",
    "\n",
    "# Now you can access the updated function\n",
    "from src.clustering.utils import save_all_reports_and_plots\n",
    "\n",
    "paths = save_all_reports_and_plots(\n",
    "    embeddings=embeddings,\n",
    "    labels=cluster_labels,\n",
    "    centroids=outliers_centroids,\n",
    "    outliers=outliers_found,\n",
    "    outliers_info=outliers_info,\n",
    "    output_folder=f\"../../output_reports/{env}/\",\n",
    ")"
   ],
   "id": "2652fd4b52204893",
   "outputs": [],
   "execution_count": 68
  },
  {
   "metadata": {
    "ExecuteTime": {
     "end_time": "2025-01-09T14:36:08.178468Z",
     "start_time": "2025-01-09T14:36:08.171869Z"
    }
   },
   "cell_type": "code",
   "source": "outliers_centroids",
   "id": "cfb6ed9f18e4a0be",
   "outputs": [
    {
     "data": {
      "text/plain": [
       "cluster\n",
       "-1    [0.95425683, -0.82077795, -0.0175265, -0.61728...\n",
       " 0    [0.7502181, -0.6801476, -0.2928251, 0.01186235...\n",
       " 1    [0.8247813, -0.833732, 0.051665276, -1.0820456...\n",
       "Name: embeddings, dtype: object"
      ]
     },
     "execution_count": 59,
     "metadata": {},
     "output_type": "execute_result"
    }
   ],
   "execution_count": 59
  },
  {
   "metadata": {},
   "cell_type": "code",
   "outputs": [],
   "execution_count": null,
   "source": "",
   "id": "efca1269ada09d9"
  },
  {
   "metadata": {},
   "cell_type": "markdown",
   "source": "# Metrics",
   "id": "4524bfed2ea80200"
  },
  {
   "metadata": {
    "ExecuteTime": {
     "end_time": "2025-01-09T14:52:38.231545Z",
     "start_time": "2025-01-09T14:52:38.215415Z"
    }
   },
   "cell_type": "code",
   "source": [
    "cluster_df = (\n",
    "    new_class.groupby([\"cluster\", \"label\"]).size().to_frame(\"count\").reset_index()\n",
    ")\n",
    "new_class_df = (\n",
    "    new_class.groupby([\"label\", \"new_class\"]).size().to_frame(\"count\").reset_index()\n",
    ")"
   ],
   "id": "6bc317bbc319615a",
   "outputs": [],
   "execution_count": 83
  },
  {
   "metadata": {
    "ExecuteTime": {
     "end_time": "2025-01-09T14:53:39.470608Z",
     "start_time": "2025-01-09T14:53:39.463450Z"
    }
   },
   "cell_type": "code",
   "source": "cluster_df",
   "id": "c1f3649419ef757",
   "outputs": [
    {
     "data": {
      "text/plain": [
       "   cluster  label  count\n",
       "0       -1      0      1\n",
       "1       -1      1      4\n",
       "2       -1      2      3\n",
       "3        0      0     12\n",
       "4        0      1      5\n",
       "5        0      2     55\n",
       "6        1      1      4\n",
       "7        1      2      6"
      ],
      "text/html": [
       "<div>\n",
       "<style scoped>\n",
       "    .dataframe tbody tr th:only-of-type {\n",
       "        vertical-align: middle;\n",
       "    }\n",
       "\n",
       "    .dataframe tbody tr th {\n",
       "        vertical-align: top;\n",
       "    }\n",
       "\n",
       "    .dataframe thead th {\n",
       "        text-align: right;\n",
       "    }\n",
       "</style>\n",
       "<table border=\"1\" class=\"dataframe\">\n",
       "  <thead>\n",
       "    <tr style=\"text-align: right;\">\n",
       "      <th></th>\n",
       "      <th>cluster</th>\n",
       "      <th>label</th>\n",
       "      <th>count</th>\n",
       "    </tr>\n",
       "  </thead>\n",
       "  <tbody>\n",
       "    <tr>\n",
       "      <th>0</th>\n",
       "      <td>-1</td>\n",
       "      <td>0</td>\n",
       "      <td>1</td>\n",
       "    </tr>\n",
       "    <tr>\n",
       "      <th>1</th>\n",
       "      <td>-1</td>\n",
       "      <td>1</td>\n",
       "      <td>4</td>\n",
       "    </tr>\n",
       "    <tr>\n",
       "      <th>2</th>\n",
       "      <td>-1</td>\n",
       "      <td>2</td>\n",
       "      <td>3</td>\n",
       "    </tr>\n",
       "    <tr>\n",
       "      <th>3</th>\n",
       "      <td>0</td>\n",
       "      <td>0</td>\n",
       "      <td>12</td>\n",
       "    </tr>\n",
       "    <tr>\n",
       "      <th>4</th>\n",
       "      <td>0</td>\n",
       "      <td>1</td>\n",
       "      <td>5</td>\n",
       "    </tr>\n",
       "    <tr>\n",
       "      <th>5</th>\n",
       "      <td>0</td>\n",
       "      <td>2</td>\n",
       "      <td>55</td>\n",
       "    </tr>\n",
       "    <tr>\n",
       "      <th>6</th>\n",
       "      <td>1</td>\n",
       "      <td>1</td>\n",
       "      <td>4</td>\n",
       "    </tr>\n",
       "    <tr>\n",
       "      <th>7</th>\n",
       "      <td>1</td>\n",
       "      <td>2</td>\n",
       "      <td>6</td>\n",
       "    </tr>\n",
       "  </tbody>\n",
       "</table>\n",
       "</div>"
      ]
     },
     "execution_count": 86,
     "metadata": {},
     "output_type": "execute_result"
    }
   ],
   "execution_count": 86
  },
  {
   "metadata": {
    "ExecuteTime": {
     "end_time": "2025-01-09T14:52:38.679328Z",
     "start_time": "2025-01-09T14:52:38.672481Z"
    }
   },
   "cell_type": "code",
   "source": "new_class_df",
   "id": "7a138591055270e2",
   "outputs": [
    {
     "data": {
      "text/plain": [
       "   label  new_class  count\n",
       "0      0      False      1\n",
       "1      0       True     12\n",
       "2      1      False      8\n",
       "3      1       True      5\n",
       "4      2      False      9\n",
       "5      2       True     55"
      ],
      "text/html": [
       "<div>\n",
       "<style scoped>\n",
       "    .dataframe tbody tr th:only-of-type {\n",
       "        vertical-align: middle;\n",
       "    }\n",
       "\n",
       "    .dataframe tbody tr th {\n",
       "        vertical-align: top;\n",
       "    }\n",
       "\n",
       "    .dataframe thead th {\n",
       "        text-align: right;\n",
       "    }\n",
       "</style>\n",
       "<table border=\"1\" class=\"dataframe\">\n",
       "  <thead>\n",
       "    <tr style=\"text-align: right;\">\n",
       "      <th></th>\n",
       "      <th>label</th>\n",
       "      <th>new_class</th>\n",
       "      <th>count</th>\n",
       "    </tr>\n",
       "  </thead>\n",
       "  <tbody>\n",
       "    <tr>\n",
       "      <th>0</th>\n",
       "      <td>0</td>\n",
       "      <td>False</td>\n",
       "      <td>1</td>\n",
       "    </tr>\n",
       "    <tr>\n",
       "      <th>1</th>\n",
       "      <td>0</td>\n",
       "      <td>True</td>\n",
       "      <td>12</td>\n",
       "    </tr>\n",
       "    <tr>\n",
       "      <th>2</th>\n",
       "      <td>1</td>\n",
       "      <td>False</td>\n",
       "      <td>8</td>\n",
       "    </tr>\n",
       "    <tr>\n",
       "      <th>3</th>\n",
       "      <td>1</td>\n",
       "      <td>True</td>\n",
       "      <td>5</td>\n",
       "    </tr>\n",
       "    <tr>\n",
       "      <th>4</th>\n",
       "      <td>2</td>\n",
       "      <td>False</td>\n",
       "      <td>9</td>\n",
       "    </tr>\n",
       "    <tr>\n",
       "      <th>5</th>\n",
       "      <td>2</td>\n",
       "      <td>True</td>\n",
       "      <td>55</td>\n",
       "    </tr>\n",
       "  </tbody>\n",
       "</table>\n",
       "</div>"
      ]
     },
     "execution_count": 84,
     "metadata": {},
     "output_type": "execute_result"
    }
   ],
   "execution_count": 84
  },
  {
   "metadata": {
    "ExecuteTime": {
     "end_time": "2025-01-09T15:26:14.951266Z",
     "start_time": "2025-01-09T15:26:14.934054Z"
    }
   },
   "cell_type": "code",
   "source": [
    "from matplotlib import pyplot as plt\n",
    "\n",
    "# Calculate TP, FP, FN\n",
    "TP = new_class_df[(new_class_df[\"new_class\"] == True) & (new_class_df[\"label\"] == 2)][\n",
    "    \"count\"\n",
    "].sum()\n",
    "FP = new_class_df[(new_class_df[\"new_class\"] == True) & (new_class_df[\"label\"] != 2)][\n",
    "    \"count\"\n",
    "].sum()\n",
    "FN = new_class_df[(new_class_df[\"new_class\"] == False) & (new_class_df[\"label\"] == 2)][\n",
    "    \"count\"\n",
    "].sum()\n",
    "\n",
    "# Contamination Rate (Noise in new class)\n",
    "noise_as_new_class = cluster_df[\n",
    "    (cluster_df[\"cluster\"] == -1) & (cluster_df[\"label\"] == 2)\n",
    "][\"count\"].sum()\n",
    "total_new_class = new_class_df[new_class_df[\"new_class\"] == True][\"count\"].sum()\n",
    "contamination_rate = noise_as_new_class / total_new_class if total_new_class > 0 else 0\n",
    "\n",
    "# Precision, Recall, F1-Score\n",
    "precision = TP / (TP + FP) if (TP + FP) > 0 else 0\n",
    "recall = TP / (TP + FN) if (TP + FN) > 0 else 0\n",
    "f1_score = (\n",
    "    2 * (precision * recall) / (precision + recall) if (precision + recall) > 0 else 0\n",
    ")\n",
    "\n",
    "# Print values\n",
    "print(f\"TP: {TP}\")\n",
    "print(f\"FP: {FP}\")\n",
    "print(f\"FN: {FN}\")\n",
    "print(f\"Total New Class: {total_new_class}\")\n",
    "print(f\"Noise as New Class: {noise_as_new_class}\")\n",
    "\n",
    "\n",
    "# Print Metrics\n",
    "print(f\"Precision: {precision:.2f}\")\n",
    "print(f\"Recall: {recall:.2f}\")\n",
    "print(f\"F1-Score: {f1_score:.2f}\")\n",
    "print(f\"Contamination Rate: {contamination_rate:.2f}\")"
   ],
   "id": "ff60e0889b4ee7b4",
   "outputs": [
    {
     "name": "stdout",
     "output_type": "stream",
     "text": [
      "TP: 55\n",
      "FP: 17\n",
      "FN: 9\n",
      "Total New Class: 72\n",
      "Noise as New Class: 3\n",
      "Precision: 0.76\n",
      "Recall: 0.86\n",
      "F1-Score: 0.81\n",
      "Contamination Rate: 0.04\n"
     ]
    }
   ],
   "execution_count": 100
  },
  {
   "metadata": {
    "ExecuteTime": {
     "end_time": "2025-01-09T15:26:32.095524Z",
     "start_time": "2025-01-09T15:26:31.852324Z"
    }
   },
   "cell_type": "code",
   "source": [
    "# Visualization\n",
    "# 1. Precision, Recall, F1-Score Bar Chart\n",
    "plt.figure(figsize=(8, 5))\n",
    "metrics = [\"Precision\", \"Recall\", \"F1-Score\"]\n",
    "values = [precision, recall, f1_score]\n",
    "plt.bar(metrics, values)\n",
    "plt.ylim(0, 1)\n",
    "plt.title(\"Clustering Metrics\", fontsize=14)\n",
    "plt.ylabel(\"Score\", fontsize=12)\n",
    "plt.show()\n",
    "\n",
    "# 2. Contamination Rate Pie Chart\n",
    "plt.figure(figsize=(6, 6))\n",
    "labels = [\"Noise as New Class\", \"Valid New Class\"]\n",
    "sizes = [noise_as_new_class, total_new_class - noise_as_new_class]\n",
    "plt.pie(sizes, labels=labels, autopct=\"%1.1f%%\", startangle=90)\n",
    "plt.title(\"Contamination Rate in New Class\", fontsize=14)\n",
    "plt.show()\n",
    "\n",
    "# 3. New Class Distribution\n",
    "plt.figure(figsize=(8, 5))\n",
    "new_class_labels = [\"Not New Class\", \"True New Class\"]\n",
    "counts = [\n",
    "    new_class_df[new_class_df[\"new_class\"] == False][\"count\"].sum(),\n",
    "    new_class_df[new_class_df[\"new_class\"] == True][\"count\"].sum(),\n",
    "]\n",
    "plt.bar(new_class_labels, counts)\n",
    "plt.title(\"New Class Distribution\", fontsize=14)\n",
    "plt.ylabel(\"Number of Instances\", fontsize=12)\n",
    "plt.show()"
   ],
   "id": "a89c39730da1eaa9",
   "outputs": [
    {
     "data": {
      "text/plain": [
       "<Figure size 800x500 with 1 Axes>"
      ],
      "image/png": "[encoded data removed]"
     },
     "metadata": {},
     "output_type": "display_data"
    },
    {
     "data": {
      "text/plain": [
       "<Figure size 600x600 with 1 Axes>"
      ],
      "image/png": "[encoded data removed]"
     },
     "metadata": {},
     "output_type": "display_data"
    },
    {
     "data": {
      "text/plain": [
       "<Figure size 800x500 with 1 Axes>"
      ],
      "image/png": "[encoded data removed]"
     },
     "metadata": {},
     "output_type": "display_data"
    }
   ],
   "execution_count": 102
  },
  {
   "metadata": {},
   "cell_type": "code",
   "outputs": [],
   "execution_count": null,
   "source": "",
   "id": "f72a477defcade3"
  }
 ],
 "metadata": {
  "kernelspec": {
   "display_name": "Python 3",
   "language": "python",
   "name": "python3"
  },
  "language_info": {
   "codemirror_mode": {
    "name": "ipython",
    "version": 2
   },
   "file_extension": ".py",
   "mimetype": "text/x-python",
   "name": "python",
   "nbconvert_exporter": "python",
   "pygments_lexer": "ipython2",
   "version": "2.7.6"
  }
 },
 "nbformat": 4,
 "nbformat_minor": 5
}
