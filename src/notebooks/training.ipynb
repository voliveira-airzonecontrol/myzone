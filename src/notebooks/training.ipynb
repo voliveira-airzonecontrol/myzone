{
 "cells": [
  {
   "cell_type": "code",
   "id": "initial_id",
   "metadata": {
    "collapsed": true,
    "ExecuteTime": {
     "end_time": "2025-01-19T08:33:59.523266Z",
     "start_time": "2025-01-19T08:33:49.744007Z"
    }
   },
   "source": [
    "from src.training.model import TransformerClassifier\n",
    "import pandas as pd\n",
    "\n",
    "from sklearn.model_selection import train_test_split\n",
    "from src.utils import load_config"
   ],
   "outputs": [],
   "execution_count": 1
  },
  {
   "cell_type": "code",
   "source": [
    "# Load config\n",
    "env = \"prod\"\n",
    "model_type = \"BERT\"\n",
    "\n",
    "training_config = load_config(\n",
    "    file_name=\"training_config\", env=env, folder=\"../../config\"\n",
    ")"
   ],
   "metadata": {
    "collapsed": false,
    "ExecuteTime": {
     "end_time": "2025-01-19T08:33:59.558061Z",
     "start_time": "2025-01-19T08:33:59.525358Z"
    }
   },
   "id": "879733ee7ccda4ba",
   "outputs": [],
   "execution_count": 2
  },
  {
   "cell_type": "markdown",
   "source": [
    "# Load the data"
   ],
   "metadata": {
    "collapsed": false
   },
   "id": "4238a6ffbe50b29b"
  },
  {
   "cell_type": "code",
   "source": [
    "df = pd.read_parquet(\"../../output_data/prod/supervised_dataset.parquet\")"
   ],
   "metadata": {
    "collapsed": false,
    "ExecuteTime": {
     "end_time": "2025-01-19T08:33:59.696921Z",
     "start_time": "2025-01-19T08:33:59.559075Z"
    }
   },
   "id": "9135d8c9258a4f0c",
   "outputs": [],
   "execution_count": 3
  },
  {
   "cell_type": "code",
   "source": [
    "df.sample(10)"
   ],
   "metadata": {
    "collapsed": false,
    "ExecuteTime": {
     "end_time": "2025-01-19T08:33:59.728752Z",
     "start_time": "2025-01-19T08:33:59.697977Z"
    }
   },
   "id": "7b37ddce13862c44",
   "outputs": [
    {
     "data": {
      "text/plain": "           codigo  id_pieza        CODART_A3  CAR3  \\\n14402  MJAYM5TIFC     72399     AZCE6THINKRB    91   \n7078   ZMPMAGTTFB     49441  AZCE6BLUEFACECB    91   \n3488   Z3BSBMTT4A     39510      AZRA6LITERB    91   \n6592   A2XTZWPS34     48103  AZCE6BLUEFACECB    91   \n2770   MWLQLM1NF7     37525  AZCE6BLUEFACECN    91   \n9581   A2XLY2EB2B     56885  AZCE6BLUEFACECB    91   \n4835   ZMHOBGDR74     43354  AZCE6BLUEFACECB    91   \n5192   BGPMZM1WE1     44230     AZCE6THINKRB    91   \n4728   BW5SAM1RB9     43094  AZUN6BLUEFACECB    91   \n3993   Z3BKZW1V92     41013     AZCE6THINKCB    91   \n\n                                         text_to_analyse  \\\n14402  Pantalla bloqueada, no se puede controlar la t...   \n7078   La pantalla del termostato se congela y se pon...   \n3488   devolucion LITE RADIO, SISTEMA 365RADIANT, por...   \n6592   Mal funcionamiento del termostato AIRZONE Blue...   \n2770   PANTALLA NEGRA CARA AZUL NEGRO EL CLIENTE LLAM...   \n9581   Buenos días, _x000D_\\nEl cliente tiene un term...   \n4835   LA PANTALLA NO SE VE BIEN - LA PANTALLA DEL BL...   \n5192   2 mandos a distancia HS, pantalla congelada  l...   \n4728   SE ENVIA PARA CAMBIO EN GARANTIA DE 3 AZUN6BLU...   \n3993   TTO AVERIADO AZCE6THINKCB- ERROR EN PANTALLA 1...   \n\n                               processed_text_to_analyse  label  \\\n14402  pantalla bloqueada controlar temperatura radio...      0   \n7078   pantalla termostato congela pone roja remoto c...      0   \n3488   devolucion lite radio sistema 365radiant aviso...      0   \n6592   funcionamiento termostato airzone blueface vis...      1   \n2770   pantalla negra cara azul negro cliente llamo l...      1   \n9581   cliente termostato fundido led sale raya azul ...      1   \n4835                    pantalla ve pantalla blueface ve      1   \n5192   2 mandos distancia hs pantalla congelada panta...      0   \n4728   envia cambio garantia 3 azun6bluefacecb f00h45...      1   \n3993   tto averiado azce6thinkcb- error pantalla 1 ne...      1   \n\n       similarity_prediction Ground_truth  \n14402                    303          301  \n7078                     303          301  \n3488                     305          301  \n6592                     303          303  \n2770                     303          303  \n9581                     303          303  \n4835                     303          303  \n5192                     303          301  \n4728                     303          303  \n3993                     303          303  ",
      "text/html": "<div>\n<style scoped>\n    .dataframe tbody tr th:only-of-type {\n        vertical-align: middle;\n    }\n\n    .dataframe tbody tr th {\n        vertical-align: top;\n    }\n\n    .dataframe thead th {\n        text-align: right;\n    }\n</style>\n<table border=\"1\" class=\"dataframe\">\n  <thead>\n    <tr style=\"text-align: right;\">\n      <th></th>\n      <th>codigo</th>\n      <th>id_pieza</th>\n      <th>CODART_A3</th>\n      <th>CAR3</th>\n      <th>text_to_analyse</th>\n      <th>processed_text_to_analyse</th>\n      <th>label</th>\n      <th>similarity_prediction</th>\n      <th>Ground_truth</th>\n    </tr>\n  </thead>\n  <tbody>\n    <tr>\n      <th>14402</th>\n      <td>MJAYM5TIFC</td>\n      <td>72399</td>\n      <td>AZCE6THINKRB</td>\n      <td>91</td>\n      <td>Pantalla bloqueada, no se puede controlar la t...</td>\n      <td>pantalla bloqueada controlar temperatura radio...</td>\n      <td>0</td>\n      <td>303</td>\n      <td>301</td>\n    </tr>\n    <tr>\n      <th>7078</th>\n      <td>ZMPMAGTTFB</td>\n      <td>49441</td>\n      <td>AZCE6BLUEFACECB</td>\n      <td>91</td>\n      <td>La pantalla del termostato se congela y se pon...</td>\n      <td>pantalla termostato congela pone roja remoto c...</td>\n      <td>0</td>\n      <td>303</td>\n      <td>301</td>\n    </tr>\n    <tr>\n      <th>3488</th>\n      <td>Z3BSBMTT4A</td>\n      <td>39510</td>\n      <td>AZRA6LITERB</td>\n      <td>91</td>\n      <td>devolucion LITE RADIO, SISTEMA 365RADIANT, por...</td>\n      <td>devolucion lite radio sistema 365radiant aviso...</td>\n      <td>0</td>\n      <td>305</td>\n      <td>301</td>\n    </tr>\n    <tr>\n      <th>6592</th>\n      <td>A2XTZWPS34</td>\n      <td>48103</td>\n      <td>AZCE6BLUEFACECB</td>\n      <td>91</td>\n      <td>Mal funcionamiento del termostato AIRZONE Blue...</td>\n      <td>funcionamiento termostato airzone blueface vis...</td>\n      <td>1</td>\n      <td>303</td>\n      <td>303</td>\n    </tr>\n    <tr>\n      <th>2770</th>\n      <td>MWLQLM1NF7</td>\n      <td>37525</td>\n      <td>AZCE6BLUEFACECN</td>\n      <td>91</td>\n      <td>PANTALLA NEGRA CARA AZUL NEGRO EL CLIENTE LLAM...</td>\n      <td>pantalla negra cara azul negro cliente llamo l...</td>\n      <td>1</td>\n      <td>303</td>\n      <td>303</td>\n    </tr>\n    <tr>\n      <th>9581</th>\n      <td>A2XLY2EB2B</td>\n      <td>56885</td>\n      <td>AZCE6BLUEFACECB</td>\n      <td>91</td>\n      <td>Buenos días, _x000D_\\nEl cliente tiene un term...</td>\n      <td>cliente termostato fundido led sale raya azul ...</td>\n      <td>1</td>\n      <td>303</td>\n      <td>303</td>\n    </tr>\n    <tr>\n      <th>4835</th>\n      <td>ZMHOBGDR74</td>\n      <td>43354</td>\n      <td>AZCE6BLUEFACECB</td>\n      <td>91</td>\n      <td>LA PANTALLA NO SE VE BIEN - LA PANTALLA DEL BL...</td>\n      <td>pantalla ve pantalla blueface ve</td>\n      <td>1</td>\n      <td>303</td>\n      <td>303</td>\n    </tr>\n    <tr>\n      <th>5192</th>\n      <td>BGPMZM1WE1</td>\n      <td>44230</td>\n      <td>AZCE6THINKRB</td>\n      <td>91</td>\n      <td>2 mandos a distancia HS, pantalla congelada  l...</td>\n      <td>2 mandos distancia hs pantalla congelada panta...</td>\n      <td>0</td>\n      <td>303</td>\n      <td>301</td>\n    </tr>\n    <tr>\n      <th>4728</th>\n      <td>BW5SAM1RB9</td>\n      <td>43094</td>\n      <td>AZUN6BLUEFACECB</td>\n      <td>91</td>\n      <td>SE ENVIA PARA CAMBIO EN GARANTIA DE 3 AZUN6BLU...</td>\n      <td>envia cambio garantia 3 azun6bluefacecb f00h45...</td>\n      <td>1</td>\n      <td>303</td>\n      <td>303</td>\n    </tr>\n    <tr>\n      <th>3993</th>\n      <td>Z3BKZW1V92</td>\n      <td>41013</td>\n      <td>AZCE6THINKCB</td>\n      <td>91</td>\n      <td>TTO AVERIADO AZCE6THINKCB- ERROR EN PANTALLA 1...</td>\n      <td>tto averiado azce6thinkcb- error pantalla 1 ne...</td>\n      <td>1</td>\n      <td>303</td>\n      <td>303</td>\n    </tr>\n  </tbody>\n</table>\n</div>"
     },
     "execution_count": 4,
     "metadata": {},
     "output_type": "execute_result"
    }
   ],
   "execution_count": 4
  },
  {
   "cell_type": "code",
   "source": [
    "X = df[[\"processed_text_to_analyse\", \"label\"]]"
   ],
   "metadata": {
    "collapsed": false,
    "ExecuteTime": {
     "end_time": "2025-01-19T08:33:59.739538Z",
     "start_time": "2025-01-19T08:33:59.730865Z"
    }
   },
   "id": "7e994d96b2942c68",
   "outputs": [],
   "execution_count": 5
  },
  {
   "cell_type": "code",
   "source": [
    "X.shape"
   ],
   "metadata": {
    "collapsed": false,
    "ExecuteTime": {
     "end_time": "2025-01-19T08:33:59.784954Z",
     "start_time": "2025-01-19T08:33:59.741662Z"
    }
   },
   "id": "8bc63becb6feafd8",
   "outputs": [
    {
     "data": {
      "text/plain": "(1395, 2)"
     },
     "execution_count": 6,
     "metadata": {},
     "output_type": "execute_result"
    }
   ],
   "execution_count": 6
  },
  {
   "cell_type": "code",
   "source": [
    "X[\"label\"].value_counts()"
   ],
   "metadata": {
    "collapsed": false,
    "ExecuteTime": {
     "end_time": "2025-01-19T08:33:59.801038Z",
     "start_time": "2025-01-19T08:33:59.789356Z"
    }
   },
   "id": "859e91b0fbf0b899",
   "outputs": [
    {
     "data": {
      "text/plain": "label\n0    781\n1    614\nName: count, dtype: int64"
     },
     "execution_count": 7,
     "metadata": {},
     "output_type": "execute_result"
    }
   ],
   "execution_count": 7
  },
  {
   "cell_type": "code",
   "source": [
    "num_labels = X[\"label\"].nunique()"
   ],
   "metadata": {
    "collapsed": false,
    "ExecuteTime": {
     "end_time": "2025-01-19T08:33:59.810318Z",
     "start_time": "2025-01-19T08:33:59.803192Z"
    }
   },
   "id": "a7367d52792ee5a8",
   "outputs": [],
   "execution_count": 8
  },
  {
   "cell_type": "markdown",
   "source": [
    "# Split the data"
   ],
   "metadata": {
    "collapsed": false
   },
   "id": "e8fdcccb4e9edf8e"
  },
  {
   "cell_type": "code",
   "source": [
    "X_train, X_test, y_train, y_test = train_test_split(\n",
    "    # X.drop(columns=[training_config.training[model_type].target]),\n",
    "    X[training_config.training[model_type].features],\n",
    "    X[training_config.training[model_type].target],\n",
    "    test_size=training_config.training[model_type].test_size,\n",
    "    random_state=training_config.training.random_state,\n",
    "    stratify=X[training_config.training[model_type].target],\n",
    ")\n",
    "X_train, X_val, y_train, y_val = train_test_split(\n",
    "    X_train,\n",
    "    y_train,\n",
    "    test_size=training_config.training[model_type].val_size,\n",
    "    random_state=training_config.training.random_state,\n",
    "    stratify=y_train,\n",
    ")\n",
    "X_test, X_cp, y_test, y_cp = train_test_split(\n",
    "    X_test,\n",
    "    y_test,\n",
    "    test_size=training_config.training[model_type].cp_size,\n",
    "    random_state=training_config.training.random_state,\n",
    "    stratify=y_test,\n",
    ")"
   ],
   "metadata": {
    "collapsed": false,
    "ExecuteTime": {
     "end_time": "2025-01-19T08:33:59.831709Z",
     "start_time": "2025-01-19T08:33:59.812390Z"
    }
   },
   "id": "48e277662a787508",
   "outputs": [],
   "execution_count": 9
  },
  {
   "cell_type": "code",
   "source": [
    "X_train.shape, X_val.shape, X_test.shape, X_cp.shape"
   ],
   "metadata": {
    "collapsed": false,
    "ExecuteTime": {
     "end_time": "2025-01-19T08:33:59.842283Z",
     "start_time": "2025-01-19T08:33:59.833813Z"
    }
   },
   "id": "feb36d5a1a7679db",
   "outputs": [
    {
     "data": {
      "text/plain": "((889,), (157,), (174,), (175,))"
     },
     "execution_count": 10,
     "metadata": {},
     "output_type": "execute_result"
    }
   ],
   "execution_count": 10
  },
  {
   "cell_type": "code",
   "source": [
    "# Upsample the minority class\n",
    "from sklearn.utils import resample\n",
    "\n",
    "X_upsampled = X_train.copy().to_frame()\n",
    "X_upsampled[training_config.training[model_type].target] = y_train\n",
    "\n",
    "# Separate majority and minority classes\n",
    "df_majority = X_upsampled[X_upsampled[training_config.training[model_type].target] == 0]\n",
    "df_minority = X_upsampled[X_upsampled[training_config.training[model_type].target] == 1]\n",
    "\n",
    "# Upsample minority class\n",
    "df_minority_upsampled = resample(\n",
    "    df_minority,\n",
    "    replace=True,\n",
    "    n_samples=df_majority.shape[0],\n",
    "    random_state=42,\n",
    ")\n",
    "\n",
    "# Combine majority class with upsampled minority class\n",
    "df_upsampled = pd.concat([df_majority, df_minority_upsampled])\n",
    "\n",
    "# Display new class counts\n",
    "X_train = df_upsampled[training_config.training[model_type].features]\n",
    "y_train = df_upsampled[training_config.training[model_type].target]"
   ],
   "metadata": {
    "collapsed": false,
    "ExecuteTime": {
     "end_time": "2025-01-19T08:33:59.861235Z",
     "start_time": "2025-01-19T08:33:59.844429Z"
    }
   },
   "id": "b9a629ad5894e671",
   "outputs": [],
   "execution_count": 11
  },
  {
   "cell_type": "code",
   "source": [
    "y_train.value_counts()"
   ],
   "metadata": {
    "collapsed": false,
    "ExecuteTime": {
     "end_time": "2025-01-19T08:33:59.873809Z",
     "start_time": "2025-01-19T08:33:59.863320Z"
    }
   },
   "id": "94e61b623215fbce",
   "outputs": [
    {
     "data": {
      "text/plain": "label\n0    498\n1    498\nName: count, dtype: int64"
     },
     "execution_count": 12,
     "metadata": {},
     "output_type": "execute_result"
    }
   ],
   "execution_count": 12
  },
  {
   "cell_type": "code",
   "source": [
    "y_val.value_counts()"
   ],
   "metadata": {
    "collapsed": false,
    "ExecuteTime": {
     "end_time": "2025-01-19T08:33:59.884813Z",
     "start_time": "2025-01-19T08:33:59.875890Z"
    }
   },
   "id": "ff3180c9ae60276c",
   "outputs": [
    {
     "data": {
      "text/plain": "label\n0    88\n1    69\nName: count, dtype: int64"
     },
     "execution_count": 13,
     "metadata": {},
     "output_type": "execute_result"
    }
   ],
   "execution_count": 13
  },
  {
   "cell_type": "code",
   "source": [
    "y_test.value_counts()"
   ],
   "metadata": {
    "collapsed": false,
    "ExecuteTime": {
     "end_time": "2025-01-19T08:33:59.896077Z",
     "start_time": "2025-01-19T08:33:59.886927Z"
    }
   },
   "id": "7d169e39ab08c423",
   "outputs": [
    {
     "data": {
      "text/plain": "label\n0    97\n1    77\nName: count, dtype: int64"
     },
     "execution_count": 14,
     "metadata": {},
     "output_type": "execute_result"
    }
   ],
   "execution_count": 14
  },
  {
   "cell_type": "code",
   "source": [
    "y_cp.value_counts()"
   ],
   "metadata": {
    "collapsed": false,
    "ExecuteTime": {
     "end_time": "2025-01-19T08:33:59.906746Z",
     "start_time": "2025-01-19T08:33:59.898226Z"
    }
   },
   "id": "787856ad5757cc3b",
   "outputs": [
    {
     "data": {
      "text/plain": "label\n0    98\n1    77\nName: count, dtype: int64"
     },
     "execution_count": 15,
     "metadata": {},
     "output_type": "execute_result"
    }
   ],
   "execution_count": 15
  },
  {
   "cell_type": "markdown",
   "source": [
    "# Train the model"
   ],
   "metadata": {
    "collapsed": false
   },
   "id": "b1b2f00721320665"
  },
  {
   "cell_type": "code",
   "source": [
    "clf = TransformerClassifier(\n",
    "    model_name=\"dtorber/bert-base-spanish-wwm-cased_K4\",\n",
    "    num_labels=num_labels,\n",
    ")"
   ],
   "metadata": {
    "collapsed": false,
    "ExecuteTime": {
     "end_time": "2025-01-19T08:34:03.392393Z",
     "start_time": "2025-01-19T08:33:59.908868Z"
    }
   },
   "id": "1439d8592f4c3867",
   "outputs": [],
   "execution_count": 16
  },
  {
   "cell_type": "code",
   "source": [
    "\"\"\"# Train the model\n",
    "_ = clf.fit(\n",
    "    X=X_train,\n",
    "    y=y_train,\n",
    "    eval_X=X_val,\n",
    "    eval_y=y_val,\n",
    "    learning_rate=2e-5,\n",
    "    num_train_epochs=50,\n",
    "    per_device_train_batch_size=16,\n",
    "    per_device_eval_batch_size=16,\n",
    "    early_stopping_patience=10,\n",
    "    # freeze_layers_prefix=[\"bert.embeddings\", \"bert.encoder\"],\n",
    "    # freeze_layers_prefix=[\"bert.embeddings\"] + [f\"bert.encoder.layer.{i}\" for i in range(1, 9)],\n",
    ")\"\"\"\n",
    "\n",
    "clf = clf.fit(\n",
    "    X=X_train,\n",
    "    y=y_train,\n",
    "    eval_X=X_val,\n",
    "    eval_y=y_val,\n",
    "    learning_rate=2e-5,\n",
    "    num_train_epochs=10,\n",
    "    per_device_train_batch_size=16,\n",
    "    per_device_eval_batch_size=16,\n",
    "    early_stopping_patience=2,\n",
    "    # freeze_layers_prefix=[\"bert.embeddings\", \"bert.encoder\"],\n",
    "    # freeze_layers_prefix=[\"bert.embeddings\"] + [f\"bert.encoder.layer.{i}\" for i in range(1, 9)],\n",
    ")"
   ],
   "metadata": {
    "collapsed": false,
    "ExecuteTime": {
     "end_time": "2025-01-19T12:06:52.837604Z",
     "start_time": "2025-01-19T08:34:03.393396Z"
    }
   },
   "id": "a16f34a93b1d3d1f",
   "outputs": [
    {
     "data": {
      "text/plain": "<IPython.core.display.HTML object>",
      "text/html": "\n    <div>\n      \n      <progress value='252' max='630' style='width:300px; height:20px; vertical-align: middle;'></progress>\n      [252/630 3:31:42 < 5:20:06, 0.02 it/s, Epoch 4/10]\n    </div>\n    <table border=\"1\" class=\"dataframe\">\n  <thead>\n <tr style=\"text-align: left;\">\n      <th>Epoch</th>\n      <th>Training Loss</th>\n      <th>Validation Loss</th>\n    </tr>\n  </thead>\n  <tbody>\n    <tr>\n      <td>1</td>\n      <td>0.335000</td>\n      <td>0.186696</td>\n    </tr>\n    <tr>\n      <td>2</td>\n      <td>0.161700</td>\n      <td>0.167935</td>\n    </tr>\n    <tr>\n      <td>3</td>\n      <td>0.212900</td>\n      <td>0.211222</td>\n    </tr>\n    <tr>\n      <td>4</td>\n      <td>0.072100</td>\n      <td>0.232127</td>\n    </tr>\n  </tbody>\n</table><p>"
     },
     "metadata": {},
     "output_type": "display_data"
    }
   ],
   "execution_count": 17
  },
  {
   "cell_type": "code",
   "source": [
    "clf.model.save_pretrained(\"../../output_models/prod/model_3\")\n",
    "clf.tokenizer.save_pretrained(\"../../output_models/prod/model_3\")"
   ],
   "metadata": {
    "collapsed": false,
    "ExecuteTime": {
     "end_time": "2025-01-19T12:07:05.651886Z",
     "start_time": "2025-01-19T12:07:05.157249Z"
    }
   },
   "id": "10b2477ca6628b4a",
   "outputs": [
    {
     "data": {
      "text/plain": "('../../output_models/prod/model_3\\\\tokenizer_config.json',\n '../../output_models/prod/model_3\\\\special_tokens_map.json',\n '../../output_models/prod/model_3\\\\vocab.txt',\n '../../output_models/prod/model_3\\\\added_tokens.json',\n '../../output_models/prod/model_3\\\\tokenizer.json')"
     },
     "execution_count": 18,
     "metadata": {},
     "output_type": "execute_result"
    }
   ],
   "execution_count": 18
  },
  {
   "cell_type": "code",
   "source": [
    "clf = TransformerClassifier(\n",
    "    model_name=None,\n",
    "    num_labels=num_labels,\n",
    "    local_model_path=\"../../output_models/prod/model_3\",\n",
    ")"
   ],
   "metadata": {
    "collapsed": false,
    "ExecuteTime": {
     "end_time": "2025-01-19T12:07:11.171396Z",
     "start_time": "2025-01-19T12:07:09.367853Z"
    }
   },
   "id": "dfcbe175afab64fe",
   "outputs": [],
   "execution_count": 19
  },
  {
   "cell_type": "code",
   "source": [
    "# Evaluate the model\n",
    "from sklearn.metrics import classification_report\n",
    "\n",
    "val_texts_list = X_test.tolist()  # Convert to a list if necessary\n",
    "predictions = clf.predict(val_texts_list)"
   ],
   "metadata": {
    "collapsed": false,
    "ExecuteTime": {
     "end_time": "2025-01-19T12:09:43.438397Z",
     "start_time": "2025-01-19T12:07:13.284799Z"
    }
   },
   "id": "f20280bb52c856bc",
   "outputs": [
    {
     "data": {
      "text/plain": "<IPython.core.display.HTML object>",
      "text/html": ""
     },
     "metadata": {},
     "output_type": "display_data"
    }
   ],
   "execution_count": 20
  },
  {
   "cell_type": "code",
   "source": [
    "print(classification_report(y_test, predictions))"
   ],
   "metadata": {
    "collapsed": false,
    "ExecuteTime": {
     "end_time": "2025-01-19T12:09:43.496170Z",
     "start_time": "2025-01-19T12:09:43.441753Z"
    }
   },
   "id": "7a89e51fbf43deb",
   "outputs": [
    {
     "name": "stdout",
     "output_type": "stream",
     "text": [
      "              precision    recall  f1-score   support\n",
      "\n",
      "           0       0.90      0.88      0.89        97\n",
      "           1       0.85      0.88      0.87        77\n",
      "\n",
      "    accuracy                           0.88       174\n",
      "   macro avg       0.88      0.88      0.88       174\n",
      "weighted avg       0.88      0.88      0.88       174\n"
     ]
    }
   ],
   "execution_count": 21
  },
  {
   "metadata": {
    "ExecuteTime": {
     "end_time": "2025-01-19T12:10:20.397888Z",
     "start_time": "2025-01-19T12:10:20.084057Z"
    }
   },
   "cell_type": "code",
   "source": [
    "# Print the confusion matrix\n",
    "from sklearn.metrics import confusion_matrix\n",
    "import seaborn as sns\n",
    "import matplotlib.pyplot as plt\n",
    "\n",
    "cm = confusion_matrix(y_test, predictions)\n",
    "fig = plt.figure(figsize=(10, 10))\n",
    "sns.heatmap(cm, annot=True, fmt=\"d\", cmap=\"Blues\")\n",
    "plt.xlabel(\"Predicted\")\n",
    "plt.ylabel(\"Actual\")\n",
    "plt.show()"
   ],
   "id": "623d6e855f986fa7",
   "outputs": [
    {
     "data": {
      "text/plain": "<Figure size 1000x1000 with 2 Axes>",
      "image/png": "[encoded data removed]"
     },
     "metadata": {},
     "output_type": "display_data"
    }
   ],
   "execution_count": 22
  },
  {
   "cell_type": "code",
   "source": [
    "# Create a dataframe with the predictions\n",
    "df_predictions = pd.DataFrame(\n",
    "    {\n",
    "        \"text_to_analyse\": X_test,\n",
    "        \"label\": y_test,\n",
    "        \"prediction\": predictions,\n",
    "    }\n",
    ")\n",
    "df_predictions"
   ],
   "metadata": {
    "collapsed": false,
    "ExecuteTime": {
     "end_time": "2025-01-17T06:30:25.193697Z",
     "start_time": "2025-01-17T06:30:25.167342Z"
    }
   },
   "id": "8457f7487bb1239a",
   "outputs": [
    {
     "data": {
      "text/plain": [
       "                                                                                                                                                                                                                              text_to_analyse  \\\n",
       "16331                                                                                                                                                  termostato ibpro6 monocromo airzone think radio b 230902828 tto bloqueado test bateria   \n",
       "17238                                                                                                   azce6thinkrb sn f016f87 permanece atascado bateria cambiar bateria azce6thinkrb sn f016f87 permanece atascado bateria cambiar bateria   \n",
       "1007                                                                                                  funcionan blueface pantalla bloqueada pantalla azul arranca quedan termostato cable inteligente airzone blueface bl 3 enviar termostato   \n",
       "7085                                                                                                                                                   pantalla termostato congela pone roja remoto control remoto congela pantalla pone roja   \n",
       "170                                                                                                                                                                                               pantalla queda blanco pantalla queda blanco   \n",
       "...                                                                                                                                                                                                                                       ...   \n",
       "6921   vivienda sistema acuazone actualmente termostato azdi6bluefacecb pantalla azul logotipo \\\"airzone\\ vivienda 4 blueface colocados comprobado resto habitaciones termostato funciona termostato cable inteligente sustitucion termostato   \n",
       "4833                                                                                                                                                                                            pantalla funciona cara azul pantalla funciona   \n",
       "7556                                                                                                                                                                                                    cara azul pantalla azul entrada 43661   \n",
       "1634                                                                                                                                          blueface responde queda pillado termostato cara azul termostato blueface responde queda pillado   \n",
       "7586                                                                                                                                         blueface pone pantalla verde reacciona termostato azul termostato queda pantalla verde reacciona   \n",
       "\n",
       "       label  prediction  \n",
       "16331      0           0  \n",
       "17238      0           0  \n",
       "1007       1           1  \n",
       "7085       0           0  \n",
       "170        1           1  \n",
       "...      ...         ...  \n",
       "6921       1           1  \n",
       "4833       1           1  \n",
       "7556       1           1  \n",
       "1634       0           0  \n",
       "7586       1           1  \n",
       "\n",
       "[174 rows x 3 columns]"
      ],
      "text/html": [
       "<div>\n",
       "<style scoped>\n",
       "    .dataframe tbody tr th:only-of-type {\n",
       "        vertical-align: middle;\n",
       "    }\n",
       "\n",
       "    .dataframe tbody tr th {\n",
       "        vertical-align: top;\n",
       "    }\n",
       "\n",
       "    .dataframe thead th {\n",
       "        text-align: right;\n",
       "    }\n",
       "</style>\n",
       "<table border=\"1\" class=\"dataframe\">\n",
       "  <thead>\n",
       "    <tr style=\"text-align: right;\">\n",
       "      <th></th>\n",
       "      <th>text_to_analyse</th>\n",
       "      <th>label</th>\n",
       "      <th>prediction</th>\n",
       "    </tr>\n",
       "  </thead>\n",
       "  <tbody>\n",
       "    <tr>\n",
       "      <th>16331</th>\n",
       "      <td>termostato ibpro6 monocromo airzone think radio b 230902828 tto bloqueado test bateria</td>\n",
       "      <td>0</td>\n",
       "      <td>0</td>\n",
       "    </tr>\n",
       "    <tr>\n",
       "      <th>17238</th>\n",
       "      <td>azce6thinkrb sn f016f87 permanece atascado bateria cambiar bateria azce6thinkrb sn f016f87 permanece atascado bateria cambiar bateria</td>\n",
       "      <td>0</td>\n",
       "      <td>0</td>\n",
       "    </tr>\n",
       "    <tr>\n",
       "      <th>1007</th>\n",
       "      <td>funcionan blueface pantalla bloqueada pantalla azul arranca quedan termostato cable inteligente airzone blueface bl 3 enviar termostato</td>\n",
       "      <td>1</td>\n",
       "      <td>1</td>\n",
       "    </tr>\n",
       "    <tr>\n",
       "      <th>7085</th>\n",
       "      <td>pantalla termostato congela pone roja remoto control remoto congela pantalla pone roja</td>\n",
       "      <td>0</td>\n",
       "      <td>0</td>\n",
       "    </tr>\n",
       "    <tr>\n",
       "      <th>170</th>\n",
       "      <td>pantalla queda blanco pantalla queda blanco</td>\n",
       "      <td>1</td>\n",
       "      <td>1</td>\n",
       "    </tr>\n",
       "    <tr>\n",
       "      <th>...</th>\n",
       "      <td>...</td>\n",
       "      <td>...</td>\n",
       "      <td>...</td>\n",
       "    </tr>\n",
       "    <tr>\n",
       "      <th>6921</th>\n",
       "      <td>vivienda sistema acuazone actualmente termostato azdi6bluefacecb pantalla azul logotipo \\\"airzone\\ vivienda 4 blueface colocados comprobado resto habitaciones termostato funciona termostato cable inteligente sustitucion termostato</td>\n",
       "      <td>1</td>\n",
       "      <td>1</td>\n",
       "    </tr>\n",
       "    <tr>\n",
       "      <th>4833</th>\n",
       "      <td>pantalla funciona cara azul pantalla funciona</td>\n",
       "      <td>1</td>\n",
       "      <td>1</td>\n",
       "    </tr>\n",
       "    <tr>\n",
       "      <th>7556</th>\n",
       "      <td>cara azul pantalla azul entrada 43661</td>\n",
       "      <td>1</td>\n",
       "      <td>1</td>\n",
       "    </tr>\n",
       "    <tr>\n",
       "      <th>1634</th>\n",
       "      <td>blueface responde queda pillado termostato cara azul termostato blueface responde queda pillado</td>\n",
       "      <td>0</td>\n",
       "      <td>0</td>\n",
       "    </tr>\n",
       "    <tr>\n",
       "      <th>7586</th>\n",
       "      <td>blueface pone pantalla verde reacciona termostato azul termostato queda pantalla verde reacciona</td>\n",
       "      <td>1</td>\n",
       "      <td>1</td>\n",
       "    </tr>\n",
       "  </tbody>\n",
       "</table>\n",
       "<p>174 rows × 3 columns</p>\n",
       "</div>"
      ]
     },
     "execution_count": 24,
     "metadata": {},
     "output_type": "execute_result"
    }
   ],
   "execution_count": 24
  },
  {
   "metadata": {
    "ExecuteTime": {
     "end_time": "2025-01-17T06:30:38.344491Z",
     "start_time": "2025-01-17T06:30:38.326126Z"
    }
   },
   "cell_type": "code",
   "source": [
    "df_predictions[df_predictions[\"label\"] != df_predictions[\"prediction\"]]"
   ],
   "id": "937d47193aede3fd",
   "outputs": [
    {
     "data": {
      "text/plain": [
       "                                                                                                                                                                                                                                                                                                      text_to_analyse  \\\n",
       "12488                                                                                                                                                                                                            funciona pantalla responde termostato airzone think 8z radio azce6thinkrb funciona pantalla responde   \n",
       "880                                                                                                                                                                                   termostatos encienden.se queda pantalla negro termostato color airzone blueface 32z termostato enciende.se queda pantalla negro   \n",
       "17748                                                                                                                                                                                                                               pantalla congela reemplaza bateria termostato reparar pantalla reemplazar bateria   \n",
       "18348                                                                                                                                                                                    termostato funciona pantalla digital completamente negra termostato termostato funciona pantalla digital completamente negra   \n",
       "4272                             ventilador parada muestran control remoto frio calor proporcionamos control remoto cliente reemplazo funciona correctamente mando distancia blue face negro simplemente pare ventilador disponible frio calor proporcionamos control remoto cliente reemplazo funciona correctamente   \n",
       "612                                                                                                                                                                                                                                                                  reso flexa 3 blueface cara azul funciona display   \n",
       "3495                                                                                                                                                                    webserver viene utilizado vincular sistema blueface queda pantalla blancp blueface blanco termostato blueface queda pantalla bloqueada blanco   \n",
       "248                                                                                                                                                                         liquido termostato blueface disuelto crea manchas termostato cable inteligente airzone blueface blan liquido termostato blueface disuelto   \n",
       "485                                                                                                                                                                              indicaciones cliente imagen termostato ve floja temperatura deja subas termostato zona pl necesitamos reparacion garantia reposicion   \n",
       "11731                                                                                                                                                                                             tto azce6thinkcb averiado pantalla bloqueada tto azce6thinkcb averiado tto azce6thinkcb averiado pantalla bloqueada   \n",
       "7025                                                                                                                                                                                                                                                       fallo pantalla pantalla bloqueada cara azul fallo pantalla   \n",
       "3729                                                                                                                                                                                           mezclan pantallas deja configurarlo termostato acuazona bluface cambio garantia conversacion mantenida telefonicamente   \n",
       "401                                                                                                                                                                                                                                            pantalla queda bloqueada iluminada cara azul queda iluminado bloqueado   \n",
       "6450                                                                                                                                                                                                                      termostato lineas tinta pantallas queda parado reacciona tti piensa radio blanco comentario   \n",
       "17633                                                                                                                                                                                                                                                                                   pantalla negra pantalla negra   \n",
       "8410                                                                                                                                                                                                                control remoto enciende apaga control remoto esclavo control remoto enciende apaga aleatoriamente   \n",
       "12970                                                                                                                                                                                                   azce6thinkkrb x 2 pantalla congelada problema lectura pantalla ilegible termostato think azce6thinkkrb x 2 hs   \n",
       "7873   motivo termostato responde continuamente pulsador iluminado verde cambiado estancia funciona perfectamente solcitamos sustitucion garantia termostato lite acuazone blanco termostato esponde continuamente pulsador iluminado verde cambiado estancia funciona perfectamente solicitamos sustitucion garantia   \n",
       "576                                                                                                                                                                                                                                               pantalla responde termostato azul termostato funciona correctamente   \n",
       "1552                                              control remoto pantalla tactil toma informacion pantalla tactil funciona prueba realizada sitio control remoto ok mando distancia bleuface blanco control remoto pantalla tactil toma informacion pantalla tactil funciona prueba realizada sitio control remoto ok   \n",
       "\n",
       "       label  prediction  \n",
       "12488      0           1  \n",
       "880        0           1  \n",
       "17748      0           1  \n",
       "18348      0           1  \n",
       "4272       1           0  \n",
       "612        1           0  \n",
       "3495       1           0  \n",
       "248        1           0  \n",
       "485        1           0  \n",
       "11731      0           1  \n",
       "7025       0           1  \n",
       "3729       1           0  \n",
       "401        0           1  \n",
       "6450       1           0  \n",
       "17633      0           1  \n",
       "8410       1           0  \n",
       "12970      0           1  \n",
       "7873       0           1  \n",
       "576        0           1  \n",
       "1552       1           0  "
      ],
      "text/html": [
       "<div>\n",
       "<style scoped>\n",
       "    .dataframe tbody tr th:only-of-type {\n",
       "        vertical-align: middle;\n",
       "    }\n",
       "\n",
       "    .dataframe tbody tr th {\n",
       "        vertical-align: top;\n",
       "    }\n",
       "\n",
       "    .dataframe thead th {\n",
       "        text-align: right;\n",
       "    }\n",
       "</style>\n",
       "<table border=\"1\" class=\"dataframe\">\n",
       "  <thead>\n",
       "    <tr style=\"text-align: right;\">\n",
       "      <th></th>\n",
       "      <th>text_to_analyse</th>\n",
       "      <th>label</th>\n",
       "      <th>prediction</th>\n",
       "    </tr>\n",
       "  </thead>\n",
       "  <tbody>\n",
       "    <tr>\n",
       "      <th>12488</th>\n",
       "      <td>funciona pantalla responde termostato airzone think 8z radio azce6thinkrb funciona pantalla responde</td>\n",
       "      <td>0</td>\n",
       "      <td>1</td>\n",
       "    </tr>\n",
       "    <tr>\n",
       "      <th>880</th>\n",
       "      <td>termostatos encienden.se queda pantalla negro termostato color airzone blueface 32z termostato enciende.se queda pantalla negro</td>\n",
       "      <td>0</td>\n",
       "      <td>1</td>\n",
       "    </tr>\n",
       "    <tr>\n",
       "      <th>17748</th>\n",
       "      <td>pantalla congela reemplaza bateria termostato reparar pantalla reemplazar bateria</td>\n",
       "      <td>0</td>\n",
       "      <td>1</td>\n",
       "    </tr>\n",
       "    <tr>\n",
       "      <th>18348</th>\n",
       "      <td>termostato funciona pantalla digital completamente negra termostato termostato funciona pantalla digital completamente negra</td>\n",
       "      <td>0</td>\n",
       "      <td>1</td>\n",
       "    </tr>\n",
       "    <tr>\n",
       "      <th>4272</th>\n",
       "      <td>ventilador parada muestran control remoto frio calor proporcionamos control remoto cliente reemplazo funciona correctamente mando distancia blue face negro simplemente pare ventilador disponible frio calor proporcionamos control remoto cliente reemplazo funciona correctamente</td>\n",
       "      <td>1</td>\n",
       "      <td>0</td>\n",
       "    </tr>\n",
       "    <tr>\n",
       "      <th>612</th>\n",
       "      <td>reso flexa 3 blueface cara azul funciona display</td>\n",
       "      <td>1</td>\n",
       "      <td>0</td>\n",
       "    </tr>\n",
       "    <tr>\n",
       "      <th>3495</th>\n",
       "      <td>webserver viene utilizado vincular sistema blueface queda pantalla blancp blueface blanco termostato blueface queda pantalla bloqueada blanco</td>\n",
       "      <td>1</td>\n",
       "      <td>0</td>\n",
       "    </tr>\n",
       "    <tr>\n",
       "      <th>248</th>\n",
       "      <td>liquido termostato blueface disuelto crea manchas termostato cable inteligente airzone blueface blan liquido termostato blueface disuelto</td>\n",
       "      <td>1</td>\n",
       "      <td>0</td>\n",
       "    </tr>\n",
       "    <tr>\n",
       "      <th>485</th>\n",
       "      <td>indicaciones cliente imagen termostato ve floja temperatura deja subas termostato zona pl necesitamos reparacion garantia reposicion</td>\n",
       "      <td>1</td>\n",
       "      <td>0</td>\n",
       "    </tr>\n",
       "    <tr>\n",
       "      <th>11731</th>\n",
       "      <td>tto azce6thinkcb averiado pantalla bloqueada tto azce6thinkcb averiado tto azce6thinkcb averiado pantalla bloqueada</td>\n",
       "      <td>0</td>\n",
       "      <td>1</td>\n",
       "    </tr>\n",
       "    <tr>\n",
       "      <th>7025</th>\n",
       "      <td>fallo pantalla pantalla bloqueada cara azul fallo pantalla</td>\n",
       "      <td>0</td>\n",
       "      <td>1</td>\n",
       "    </tr>\n",
       "    <tr>\n",
       "      <th>3729</th>\n",
       "      <td>mezclan pantallas deja configurarlo termostato acuazona bluface cambio garantia conversacion mantenida telefonicamente</td>\n",
       "      <td>1</td>\n",
       "      <td>0</td>\n",
       "    </tr>\n",
       "    <tr>\n",
       "      <th>401</th>\n",
       "      <td>pantalla queda bloqueada iluminada cara azul queda iluminado bloqueado</td>\n",
       "      <td>0</td>\n",
       "      <td>1</td>\n",
       "    </tr>\n",
       "    <tr>\n",
       "      <th>6450</th>\n",
       "      <td>termostato lineas tinta pantallas queda parado reacciona tti piensa radio blanco comentario</td>\n",
       "      <td>1</td>\n",
       "      <td>0</td>\n",
       "    </tr>\n",
       "    <tr>\n",
       "      <th>17633</th>\n",
       "      <td>pantalla negra pantalla negra</td>\n",
       "      <td>0</td>\n",
       "      <td>1</td>\n",
       "    </tr>\n",
       "    <tr>\n",
       "      <th>8410</th>\n",
       "      <td>control remoto enciende apaga control remoto esclavo control remoto enciende apaga aleatoriamente</td>\n",
       "      <td>1</td>\n",
       "      <td>0</td>\n",
       "    </tr>\n",
       "    <tr>\n",
       "      <th>12970</th>\n",
       "      <td>azce6thinkkrb x 2 pantalla congelada problema lectura pantalla ilegible termostato think azce6thinkkrb x 2 hs</td>\n",
       "      <td>0</td>\n",
       "      <td>1</td>\n",
       "    </tr>\n",
       "    <tr>\n",
       "      <th>7873</th>\n",
       "      <td>motivo termostato responde continuamente pulsador iluminado verde cambiado estancia funciona perfectamente solcitamos sustitucion garantia termostato lite acuazone blanco termostato esponde continuamente pulsador iluminado verde cambiado estancia funciona perfectamente solicitamos sustitucion garantia</td>\n",
       "      <td>0</td>\n",
       "      <td>1</td>\n",
       "    </tr>\n",
       "    <tr>\n",
       "      <th>576</th>\n",
       "      <td>pantalla responde termostato azul termostato funciona correctamente</td>\n",
       "      <td>0</td>\n",
       "      <td>1</td>\n",
       "    </tr>\n",
       "    <tr>\n",
       "      <th>1552</th>\n",
       "      <td>control remoto pantalla tactil toma informacion pantalla tactil funciona prueba realizada sitio control remoto ok mando distancia bleuface blanco control remoto pantalla tactil toma informacion pantalla tactil funciona prueba realizada sitio control remoto ok</td>\n",
       "      <td>1</td>\n",
       "      <td>0</td>\n",
       "    </tr>\n",
       "  </tbody>\n",
       "</table>\n",
       "</div>"
      ]
     },
     "execution_count": 25,
     "metadata": {},
     "output_type": "execute_result"
    }
   ],
   "execution_count": 25
  },
  {
   "metadata": {
    "ExecuteTime": {
     "end_time": "2025-01-17T06:33:36.484846Z",
     "start_time": "2025-01-17T06:33:36.471015Z"
    }
   },
   "cell_type": "code",
   "source": [
    "df.loc[df_predictions[df_predictions[\"label\"] != df_predictions[\"prediction\"]].index]"
   ],
   "id": "f7398bc9e629a87",
   "outputs": [
    {
     "data": {
      "text/plain": [
       "           codigo  id_pieza        CODART_A3  CAR3  \\\n",
       "12488  AMXKYGOA6B     66270     AZCE6THINKRB    91   \n",
       "880    LWRSLNBTDB     32413  AZDI6BLUEFACECB    91   \n",
       "17748  MJEYMJZI20     84938     AZCE6THINKRN    91   \n",
       "18348  LMJPAGLP00     87314     AZCE6THINKRB    91   \n",
       "4272   AWDRZWHS2E     41713  AZCE6BLUEFACECN    91   \n",
       "612    MMZPNGXP88     31614  AZCE6BLUEFACECB    91   \n",
       "3495   B2PQZMZX33     39540  AZCE6BLUEFACECB    91   \n",
       "248    MGPTM2TU40     30370  AZDI6BLUEFACECB    91   \n",
       "485    M2LOMW9Q7F     31136        ZONAPLXTB    91   \n",
       "11731  ZWTNAWAZ09     63517     AZCE6THINKCB    91   \n",
       "7025   B29TBMLU70     49287  AZCE6BLUEFACECB    91   \n",
       "3729   BG9KBWXXDA     40137  AZDI6BLUEFACECB    91   \n",
       "401    KMZTL2TUF7     30887  AZCE6BLUEFACECB    91   \n",
       "6450   BM5TZM1X43     47725     AZCE6THINKRB    91   \n",
       "17633  MPWEMPHP70     84541     AZCE6THINKRB    91   \n",
       "8410   ZWPJAGCB6B     53142      AZCE6LITECB    91   \n",
       "12970  NJIYNJZJ68     67708     AZCE6THINKRB    91   \n",
       "7873   AWVKYGOY8E     51504      AZDI6LITECB    91   \n",
       "576    M2HSMM9Q01     31483  AZCE6BLUEFACECB    91   \n",
       "1552   MMHXNGXT46     34159  AZCE6BLUEFACECB    91   \n",
       "\n",
       "                                                                                                                                                                                                                                                                                                                                                                                                                   text_to_analyse  \\\n",
       "12488                                                                                                                                                                                                                                                                                                   NO FUNCIONA, LA PANTALLA NO RESPONDE. TERMOSTATO AIRZONE THINK 8Z RADIO AZCE6THINKRB NO FUNCIONA, LA PANTALLA NO RESPONDE.   \n",
       "880                                                                                                                                                                                                                                                                             LOS TERMOSTATOS NO ENCIENDEN.SE QUEDA PANTALLA EN NEGRO TERMOSTATO COLOR AIRZONE BLUEFACE 32Z TERMOSTATO NO ENCIENDE.SE QUEDA LA PANTALLA EN NEGRO   \n",
       "17748                                                                                                                                                                                                                                                                                                                      LA PANTALLA SE CONGELA Y SE REEMPLAZA LA BATERÍA TERMOSTATO REPARAR LA PANTALLA Y REEMPLAZAR LA BATERÍA   \n",
       "18348                                                                                                                                                                                                                                                                      el termostato ya no funciona _x000D_\\npantalla digital completamente negra TERMOSTATO EL TERMOSTATO YA NO FUNCIONA PANTALLA DIGITAL COMPLETAMENTE NEGRA   \n",
       "4272   Solo modo ventilador y parada se muestran en el control remoto (sin modo frío ni calor). Proporcionamos un control remoto a nuestro cliente: después del reemplazo, todo funciona correctamente. Mando a distancia BLUE FACE NEGRO Simplemente pare y modo ventilador disponible (sin modo frío ni calor). Le proporcionamos un nuevo control remoto a nuestro cliente, después del reemplazo, todo funciona correctamente.   \n",
       "612                                                                                                                                                                                                                                                                                                                                                                         Reso Flexa 3 y Blueface. CARA AZUL no funciona display   \n",
       "3495                                                                                                                                                                                                                       Webserver viene como utilizado y no se puede vincular al sistema_x000D_\\n_x000D_\\nBlueface se queda la pantalla en blancp BLUEFACE BLANCO Termostato Blueface se queda la pantalla bloqueada en blanco.   \n",
       "248                                                                                                                                                                                                                                                          EL LIQUIDO DEL TERMOSTATO BLUEFACE SE HA DISUELTO Y CREA MANCHAS TERMOSTATO CABLE INTELIGENTE AIRZONE BLUEFACE BLAN EL LIQUIDO DEL TERMOSTATO BLUEFACE SE HA DISUELTO   \n",
       "485                                                                                                                                                                                                                             SEGUN INDICACIONES DEL CLIENTE: La imagen del termostato se ve muy floja y la temperatura no deja que la subas. TERMOSTATO DE ZONA PL. NECESITAMOS REPARACION  EN GARANTIA O REPOSICION DEL MISMO.   \n",
       "11731                                                                                                                                                                                                                                                                                                        TTO AZCE6THINKCB AVERIADO. PANTALLA BLOQUEADA TTO AZCE6THINKCB AVERIADO TTO AZCE6THINKCB AVERIADO. PANTALLA BLOQUEADA   \n",
       "7025                                                                                                                                                                                                                                                                                                                                                             Fallo de pantalla, pantalla bloqueada CARA AZUL FALLO DE PANTALLA   \n",
       "3729                                                                                                                                                                                                                                                                                   Se mezclan las pantallas y no deja configurarlo TERMOSTATO ACUAZONA BLUFACE CAMBIO EN GARANTIA SEGUN CONVERSACION MANTENIDA TELEFONICAMENTE   \n",
       "401                                                                                                                                                                                                                                                                                                                                            La pantalla se queda bloqueada e iluminada CARA AZUL Se queda iluminado y bloqueado   \n",
       "6450                                                                                                                                                                                                                                                                                      El termostato tiene lineas de tinta en la pantallas y se queda parado. No reacciona TTI PIENSA EN RADIO BLANCO SEGÚN COMENTARIO ANTERIOR   \n",
       "17633                                                                                                                                                                                                                                                                                                                                                                                               PANTALLA NEGRA  PANTALLA NEGRA   \n",
       "8410                                                                                                                                                                                                                                                                                                El control remoto se enciende y luego se apaga. control remoto esclavo El control remoto se enciende y se apaga aleatoriamente   \n",
       "12970                                                                                                                                                                                                                                                                                                   AZCE6THINKKRB x 2_x000D_\\nPantalla congelada/problema de lectura (pantalla ilegible) Termostato Think AZCE6THINKKRB x 2 HS   \n",
       "7873          MOTIVO: EL TERMOSTÁTO  NO RESPONDE, ESTA CONTINUAMENTE CON PULSADOR ILUMINADO EN VERDE. HEMOS CAMBIADO POR OTRO DE OTRA ESTANCIA Y FUNCIONA PERFECTAMENTE. SOLCITAMOS SUSTITUCIÓN EN GARANTÍA. TERMOSTATO LITE ACUAZONE BLANCO EL TERMOSTATO NO ESPONDE, ESTA CONTINUAMENTE CON PULSADOR ILUMINADO EN VERDE. HEMOS CAMBIADO POR OTRO DE OTRA ESTANCIA Y FUNCIONA PERFECTAMENTE. SOLICITAMOS SUSTITUCIÓN EN GARANTÍA.   \n",
       "576                                                                                                                                                                                                                                                                                                                                    parece que la pantalla no responde TERMOSTATO AZUL TERMOSTATO QUE NO FUNCIONA CORRECTAMENTE   \n",
       "1552                                                                           El control remoto con pantalla táctil no toma la información (La pantalla táctil no funciona) Prueba realizada en sitio con un control remoto nuevo: ok. Mando a distancia Bleuface Blanco El control remoto con pantalla táctil no toma la información (La pantalla táctil no funciona) Prueba realizada en sitio con un control remoto nuevo: ok.   \n",
       "\n",
       "                                                                                                                                                                                                                                                                                            processed_text_to_analyse  \\\n",
       "12488                                                                                                                                                                                                            funciona pantalla responde termostato airzone think 8z radio azce6thinkrb funciona pantalla responde   \n",
       "880                                                                                                                                                                                   termostatos encienden.se queda pantalla negro termostato color airzone blueface 32z termostato enciende.se queda pantalla negro   \n",
       "17748                                                                                                                                                                                                                               pantalla congela reemplaza bateria termostato reparar pantalla reemplazar bateria   \n",
       "18348                                                                                                                                                                                    termostato funciona pantalla digital completamente negra termostato termostato funciona pantalla digital completamente negra   \n",
       "4272                             ventilador parada muestran control remoto frio calor proporcionamos control remoto cliente reemplazo funciona correctamente mando distancia blue face negro simplemente pare ventilador disponible frio calor proporcionamos control remoto cliente reemplazo funciona correctamente   \n",
       "612                                                                                                                                                                                                                                                                  reso flexa 3 blueface cara azul funciona display   \n",
       "3495                                                                                                                                                                    webserver viene utilizado vincular sistema blueface queda pantalla blancp blueface blanco termostato blueface queda pantalla bloqueada blanco   \n",
       "248                                                                                                                                                                         liquido termostato blueface disuelto crea manchas termostato cable inteligente airzone blueface blan liquido termostato blueface disuelto   \n",
       "485                                                                                                                                                                              indicaciones cliente imagen termostato ve floja temperatura deja subas termostato zona pl necesitamos reparacion garantia reposicion   \n",
       "11731                                                                                                                                                                                             tto azce6thinkcb averiado pantalla bloqueada tto azce6thinkcb averiado tto azce6thinkcb averiado pantalla bloqueada   \n",
       "7025                                                                                                                                                                                                                                                       fallo pantalla pantalla bloqueada cara azul fallo pantalla   \n",
       "3729                                                                                                                                                                                           mezclan pantallas deja configurarlo termostato acuazona bluface cambio garantia conversacion mantenida telefonicamente   \n",
       "401                                                                                                                                                                                                                                            pantalla queda bloqueada iluminada cara azul queda iluminado bloqueado   \n",
       "6450                                                                                                                                                                                                                      termostato lineas tinta pantallas queda parado reacciona tti piensa radio blanco comentario   \n",
       "17633                                                                                                                                                                                                                                                                                   pantalla negra pantalla negra   \n",
       "8410                                                                                                                                                                                                                control remoto enciende apaga control remoto esclavo control remoto enciende apaga aleatoriamente   \n",
       "12970                                                                                                                                                                                                   azce6thinkkrb x 2 pantalla congelada problema lectura pantalla ilegible termostato think azce6thinkkrb x 2 hs   \n",
       "7873   motivo termostato responde continuamente pulsador iluminado verde cambiado estancia funciona perfectamente solcitamos sustitucion garantia termostato lite acuazone blanco termostato esponde continuamente pulsador iluminado verde cambiado estancia funciona perfectamente solicitamos sustitucion garantia   \n",
       "576                                                                                                                                                                                                                                               pantalla responde termostato azul termostato funciona correctamente   \n",
       "1552                                              control remoto pantalla tactil toma informacion pantalla tactil funciona prueba realizada sitio control remoto ok mando distancia bleuface blanco control remoto pantalla tactil toma informacion pantalla tactil funciona prueba realizada sitio control remoto ok   \n",
       "\n",
       "       label  similarity_prediction Ground_truth  \n",
       "12488      0                    303          301  \n",
       "880        0                    301          301  \n",
       "17748      0                    303          301  \n",
       "18348      0                    303          301  \n",
       "4272       1                    301          303  \n",
       "612        1                    303          303  \n",
       "3495       1                    301          303  \n",
       "248        1                    301          303  \n",
       "485        1                    305          303  \n",
       "11731      0                    303          301  \n",
       "7025       0                    303          301  \n",
       "3729       1                    301          303  \n",
       "401        0                    303          301  \n",
       "6450       1                    303          303  \n",
       "17633      0                    303          301  \n",
       "8410       1                    304          303  \n",
       "12970      0                    303          301  \n",
       "7873       0                    301          301  \n",
       "576        0                    303          301  \n",
       "1552       1                    304          303  "
      ],
      "text/html": [
       "<div>\n",
       "<style scoped>\n",
       "    .dataframe tbody tr th:only-of-type {\n",
       "        vertical-align: middle;\n",
       "    }\n",
       "\n",
       "    .dataframe tbody tr th {\n",
       "        vertical-align: top;\n",
       "    }\n",
       "\n",
       "    .dataframe thead th {\n",
       "        text-align: right;\n",
       "    }\n",
       "</style>\n",
       "<table border=\"1\" class=\"dataframe\">\n",
       "  <thead>\n",
       "    <tr style=\"text-align: right;\">\n",
       "      <th></th>\n",
       "      <th>codigo</th>\n",
       "      <th>id_pieza</th>\n",
       "      <th>CODART_A3</th>\n",
       "      <th>CAR3</th>\n",
       "      <th>text_to_analyse</th>\n",
       "      <th>processed_text_to_analyse</th>\n",
       "      <th>label</th>\n",
       "      <th>similarity_prediction</th>\n",
       "      <th>Ground_truth</th>\n",
       "    </tr>\n",
       "  </thead>\n",
       "  <tbody>\n",
       "    <tr>\n",
       "      <th>12488</th>\n",
       "      <td>AMXKYGOA6B</td>\n",
       "      <td>66270</td>\n",
       "      <td>AZCE6THINKRB</td>\n",
       "      <td>91</td>\n",
       "      <td>NO FUNCIONA, LA PANTALLA NO RESPONDE. TERMOSTATO AIRZONE THINK 8Z RADIO AZCE6THINKRB NO FUNCIONA, LA PANTALLA NO RESPONDE.</td>\n",
       "      <td>funciona pantalla responde termostato airzone think 8z radio azce6thinkrb funciona pantalla responde</td>\n",
       "      <td>0</td>\n",
       "      <td>303</td>\n",
       "      <td>301</td>\n",
       "    </tr>\n",
       "    <tr>\n",
       "      <th>880</th>\n",
       "      <td>LWRSLNBTDB</td>\n",
       "      <td>32413</td>\n",
       "      <td>AZDI6BLUEFACECB</td>\n",
       "      <td>91</td>\n",
       "      <td>LOS TERMOSTATOS NO ENCIENDEN.SE QUEDA PANTALLA EN NEGRO TERMOSTATO COLOR AIRZONE BLUEFACE 32Z TERMOSTATO NO ENCIENDE.SE QUEDA LA PANTALLA EN NEGRO</td>\n",
       "      <td>termostatos encienden.se queda pantalla negro termostato color airzone blueface 32z termostato enciende.se queda pantalla negro</td>\n",
       "      <td>0</td>\n",
       "      <td>301</td>\n",
       "      <td>301</td>\n",
       "    </tr>\n",
       "    <tr>\n",
       "      <th>17748</th>\n",
       "      <td>MJEYMJZI20</td>\n",
       "      <td>84938</td>\n",
       "      <td>AZCE6THINKRN</td>\n",
       "      <td>91</td>\n",
       "      <td>LA PANTALLA SE CONGELA Y SE REEMPLAZA LA BATERÍA TERMOSTATO REPARAR LA PANTALLA Y REEMPLAZAR LA BATERÍA</td>\n",
       "      <td>pantalla congela reemplaza bateria termostato reparar pantalla reemplazar bateria</td>\n",
       "      <td>0</td>\n",
       "      <td>303</td>\n",
       "      <td>301</td>\n",
       "    </tr>\n",
       "    <tr>\n",
       "      <th>18348</th>\n",
       "      <td>LMJPAGLP00</td>\n",
       "      <td>87314</td>\n",
       "      <td>AZCE6THINKRB</td>\n",
       "      <td>91</td>\n",
       "      <td>el termostato ya no funciona _x000D_\\npantalla digital completamente negra TERMOSTATO EL TERMOSTATO YA NO FUNCIONA PANTALLA DIGITAL COMPLETAMENTE NEGRA</td>\n",
       "      <td>termostato funciona pantalla digital completamente negra termostato termostato funciona pantalla digital completamente negra</td>\n",
       "      <td>0</td>\n",
       "      <td>303</td>\n",
       "      <td>301</td>\n",
       "    </tr>\n",
       "    <tr>\n",
       "      <th>4272</th>\n",
       "      <td>AWDRZWHS2E</td>\n",
       "      <td>41713</td>\n",
       "      <td>AZCE6BLUEFACECN</td>\n",
       "      <td>91</td>\n",
       "      <td>Solo modo ventilador y parada se muestran en el control remoto (sin modo frío ni calor). Proporcionamos un control remoto a nuestro cliente: después del reemplazo, todo funciona correctamente. Mando a distancia BLUE FACE NEGRO Simplemente pare y modo ventilador disponible (sin modo frío ni calor). Le proporcionamos un nuevo control remoto a nuestro cliente, después del reemplazo, todo funciona correctamente.</td>\n",
       "      <td>ventilador parada muestran control remoto frio calor proporcionamos control remoto cliente reemplazo funciona correctamente mando distancia blue face negro simplemente pare ventilador disponible frio calor proporcionamos control remoto cliente reemplazo funciona correctamente</td>\n",
       "      <td>1</td>\n",
       "      <td>301</td>\n",
       "      <td>303</td>\n",
       "    </tr>\n",
       "    <tr>\n",
       "      <th>612</th>\n",
       "      <td>MMZPNGXP88</td>\n",
       "      <td>31614</td>\n",
       "      <td>AZCE6BLUEFACECB</td>\n",
       "      <td>91</td>\n",
       "      <td>Reso Flexa 3 y Blueface. CARA AZUL no funciona display</td>\n",
       "      <td>reso flexa 3 blueface cara azul funciona display</td>\n",
       "      <td>1</td>\n",
       "      <td>303</td>\n",
       "      <td>303</td>\n",
       "    </tr>\n",
       "    <tr>\n",
       "      <th>3495</th>\n",
       "      <td>B2PQZMZX33</td>\n",
       "      <td>39540</td>\n",
       "      <td>AZCE6BLUEFACECB</td>\n",
       "      <td>91</td>\n",
       "      <td>Webserver viene como utilizado y no se puede vincular al sistema_x000D_\\n_x000D_\\nBlueface se queda la pantalla en blancp BLUEFACE BLANCO Termostato Blueface se queda la pantalla bloqueada en blanco.</td>\n",
       "      <td>webserver viene utilizado vincular sistema blueface queda pantalla blancp blueface blanco termostato blueface queda pantalla bloqueada blanco</td>\n",
       "      <td>1</td>\n",
       "      <td>301</td>\n",
       "      <td>303</td>\n",
       "    </tr>\n",
       "    <tr>\n",
       "      <th>248</th>\n",
       "      <td>MGPTM2TU40</td>\n",
       "      <td>30370</td>\n",
       "      <td>AZDI6BLUEFACECB</td>\n",
       "      <td>91</td>\n",
       "      <td>EL LIQUIDO DEL TERMOSTATO BLUEFACE SE HA DISUELTO Y CREA MANCHAS TERMOSTATO CABLE INTELIGENTE AIRZONE BLUEFACE BLAN EL LIQUIDO DEL TERMOSTATO BLUEFACE SE HA DISUELTO</td>\n",
       "      <td>liquido termostato blueface disuelto crea manchas termostato cable inteligente airzone blueface blan liquido termostato blueface disuelto</td>\n",
       "      <td>1</td>\n",
       "      <td>301</td>\n",
       "      <td>303</td>\n",
       "    </tr>\n",
       "    <tr>\n",
       "      <th>485</th>\n",
       "      <td>M2LOMW9Q7F</td>\n",
       "      <td>31136</td>\n",
       "      <td>ZONAPLXTB</td>\n",
       "      <td>91</td>\n",
       "      <td>SEGUN INDICACIONES DEL CLIENTE: La imagen del termostato se ve muy floja y la temperatura no deja que la subas. TERMOSTATO DE ZONA PL. NECESITAMOS REPARACION  EN GARANTIA O REPOSICION DEL MISMO.</td>\n",
       "      <td>indicaciones cliente imagen termostato ve floja temperatura deja subas termostato zona pl necesitamos reparacion garantia reposicion</td>\n",
       "      <td>1</td>\n",
       "      <td>305</td>\n",
       "      <td>303</td>\n",
       "    </tr>\n",
       "    <tr>\n",
       "      <th>11731</th>\n",
       "      <td>ZWTNAWAZ09</td>\n",
       "      <td>63517</td>\n",
       "      <td>AZCE6THINKCB</td>\n",
       "      <td>91</td>\n",
       "      <td>TTO AZCE6THINKCB AVERIADO. PANTALLA BLOQUEADA TTO AZCE6THINKCB AVERIADO TTO AZCE6THINKCB AVERIADO. PANTALLA BLOQUEADA</td>\n",
       "      <td>tto azce6thinkcb averiado pantalla bloqueada tto azce6thinkcb averiado tto azce6thinkcb averiado pantalla bloqueada</td>\n",
       "      <td>0</td>\n",
       "      <td>303</td>\n",
       "      <td>301</td>\n",
       "    </tr>\n",
       "    <tr>\n",
       "      <th>7025</th>\n",
       "      <td>B29TBMLU70</td>\n",
       "      <td>49287</td>\n",
       "      <td>AZCE6BLUEFACECB</td>\n",
       "      <td>91</td>\n",
       "      <td>Fallo de pantalla, pantalla bloqueada CARA AZUL FALLO DE PANTALLA</td>\n",
       "      <td>fallo pantalla pantalla bloqueada cara azul fallo pantalla</td>\n",
       "      <td>0</td>\n",
       "      <td>303</td>\n",
       "      <td>301</td>\n",
       "    </tr>\n",
       "    <tr>\n",
       "      <th>3729</th>\n",
       "      <td>BG9KBWXXDA</td>\n",
       "      <td>40137</td>\n",
       "      <td>AZDI6BLUEFACECB</td>\n",
       "      <td>91</td>\n",
       "      <td>Se mezclan las pantallas y no deja configurarlo TERMOSTATO ACUAZONA BLUFACE CAMBIO EN GARANTIA SEGUN CONVERSACION MANTENIDA TELEFONICAMENTE</td>\n",
       "      <td>mezclan pantallas deja configurarlo termostato acuazona bluface cambio garantia conversacion mantenida telefonicamente</td>\n",
       "      <td>1</td>\n",
       "      <td>301</td>\n",
       "      <td>303</td>\n",
       "    </tr>\n",
       "    <tr>\n",
       "      <th>401</th>\n",
       "      <td>KMZTL2TUF7</td>\n",
       "      <td>30887</td>\n",
       "      <td>AZCE6BLUEFACECB</td>\n",
       "      <td>91</td>\n",
       "      <td>La pantalla se queda bloqueada e iluminada CARA AZUL Se queda iluminado y bloqueado</td>\n",
       "      <td>pantalla queda bloqueada iluminada cara azul queda iluminado bloqueado</td>\n",
       "      <td>0</td>\n",
       "      <td>303</td>\n",
       "      <td>301</td>\n",
       "    </tr>\n",
       "    <tr>\n",
       "      <th>6450</th>\n",
       "      <td>BM5TZM1X43</td>\n",
       "      <td>47725</td>\n",
       "      <td>AZCE6THINKRB</td>\n",
       "      <td>91</td>\n",
       "      <td>El termostato tiene lineas de tinta en la pantallas y se queda parado. No reacciona TTI PIENSA EN RADIO BLANCO SEGÚN COMENTARIO ANTERIOR</td>\n",
       "      <td>termostato lineas tinta pantallas queda parado reacciona tti piensa radio blanco comentario</td>\n",
       "      <td>1</td>\n",
       "      <td>303</td>\n",
       "      <td>303</td>\n",
       "    </tr>\n",
       "    <tr>\n",
       "      <th>17633</th>\n",
       "      <td>MPWEMPHP70</td>\n",
       "      <td>84541</td>\n",
       "      <td>AZCE6THINKRB</td>\n",
       "      <td>91</td>\n",
       "      <td>PANTALLA NEGRA  PANTALLA NEGRA</td>\n",
       "      <td>pantalla negra pantalla negra</td>\n",
       "      <td>0</td>\n",
       "      <td>303</td>\n",
       "      <td>301</td>\n",
       "    </tr>\n",
       "    <tr>\n",
       "      <th>8410</th>\n",
       "      <td>ZWPJAGCB6B</td>\n",
       "      <td>53142</td>\n",
       "      <td>AZCE6LITECB</td>\n",
       "      <td>91</td>\n",
       "      <td>El control remoto se enciende y luego se apaga. control remoto esclavo El control remoto se enciende y se apaga aleatoriamente</td>\n",
       "      <td>control remoto enciende apaga control remoto esclavo control remoto enciende apaga aleatoriamente</td>\n",
       "      <td>1</td>\n",
       "      <td>304</td>\n",
       "      <td>303</td>\n",
       "    </tr>\n",
       "    <tr>\n",
       "      <th>12970</th>\n",
       "      <td>NJIYNJZJ68</td>\n",
       "      <td>67708</td>\n",
       "      <td>AZCE6THINKRB</td>\n",
       "      <td>91</td>\n",
       "      <td>AZCE6THINKKRB x 2_x000D_\\nPantalla congelada/problema de lectura (pantalla ilegible) Termostato Think AZCE6THINKKRB x 2 HS</td>\n",
       "      <td>azce6thinkkrb x 2 pantalla congelada problema lectura pantalla ilegible termostato think azce6thinkkrb x 2 hs</td>\n",
       "      <td>0</td>\n",
       "      <td>303</td>\n",
       "      <td>301</td>\n",
       "    </tr>\n",
       "    <tr>\n",
       "      <th>7873</th>\n",
       "      <td>AWVKYGOY8E</td>\n",
       "      <td>51504</td>\n",
       "      <td>AZDI6LITECB</td>\n",
       "      <td>91</td>\n",
       "      <td>MOTIVO: EL TERMOSTÁTO  NO RESPONDE, ESTA CONTINUAMENTE CON PULSADOR ILUMINADO EN VERDE. HEMOS CAMBIADO POR OTRO DE OTRA ESTANCIA Y FUNCIONA PERFECTAMENTE. SOLCITAMOS SUSTITUCIÓN EN GARANTÍA. TERMOSTATO LITE ACUAZONE BLANCO EL TERMOSTATO NO ESPONDE, ESTA CONTINUAMENTE CON PULSADOR ILUMINADO EN VERDE. HEMOS CAMBIADO POR OTRO DE OTRA ESTANCIA Y FUNCIONA PERFECTAMENTE. SOLICITAMOS SUSTITUCIÓN EN GARANTÍA.</td>\n",
       "      <td>motivo termostato responde continuamente pulsador iluminado verde cambiado estancia funciona perfectamente solcitamos sustitucion garantia termostato lite acuazone blanco termostato esponde continuamente pulsador iluminado verde cambiado estancia funciona perfectamente solicitamos sustitucion garantia</td>\n",
       "      <td>0</td>\n",
       "      <td>301</td>\n",
       "      <td>301</td>\n",
       "    </tr>\n",
       "    <tr>\n",
       "      <th>576</th>\n",
       "      <td>M2HSMM9Q01</td>\n",
       "      <td>31483</td>\n",
       "      <td>AZCE6BLUEFACECB</td>\n",
       "      <td>91</td>\n",
       "      <td>parece que la pantalla no responde TERMOSTATO AZUL TERMOSTATO QUE NO FUNCIONA CORRECTAMENTE</td>\n",
       "      <td>pantalla responde termostato azul termostato funciona correctamente</td>\n",
       "      <td>0</td>\n",
       "      <td>303</td>\n",
       "      <td>301</td>\n",
       "    </tr>\n",
       "    <tr>\n",
       "      <th>1552</th>\n",
       "      <td>MMHXNGXT46</td>\n",
       "      <td>34159</td>\n",
       "      <td>AZCE6BLUEFACECB</td>\n",
       "      <td>91</td>\n",
       "      <td>El control remoto con pantalla táctil no toma la información (La pantalla táctil no funciona) Prueba realizada en sitio con un control remoto nuevo: ok. Mando a distancia Bleuface Blanco El control remoto con pantalla táctil no toma la información (La pantalla táctil no funciona) Prueba realizada en sitio con un control remoto nuevo: ok.</td>\n",
       "      <td>control remoto pantalla tactil toma informacion pantalla tactil funciona prueba realizada sitio control remoto ok mando distancia bleuface blanco control remoto pantalla tactil toma informacion pantalla tactil funciona prueba realizada sitio control remoto ok</td>\n",
       "      <td>1</td>\n",
       "      <td>304</td>\n",
       "      <td>303</td>\n",
       "    </tr>\n",
       "  </tbody>\n",
       "</table>\n",
       "</div>"
      ]
     },
     "execution_count": 30,
     "metadata": {},
     "output_type": "execute_result"
    }
   ],
   "execution_count": 30
  },
  {
   "cell_type": "markdown",
   "source": [
    "# Conformal prediction"
   ],
   "metadata": {
    "collapsed": false
   },
   "id": "9d2afebf4cac95f3"
  },
  {
   "cell_type": "code",
   "outputs": [],
   "source": [
    "import numpy as np\n",
    "import matplotlib.pyplot as plt\n",
    "\n",
    "from mapie.classification import MapieClassifier\n",
    "from mapie.metrics import classification_coverage_score"
   ],
   "metadata": {
    "collapsed": false,
    "ExecuteTime": {
     "end_time": "2025-01-06T09:52:51.913549Z",
     "start_time": "2025-01-06T09:52:51.909037Z"
    }
   },
   "id": "811d02831240e70f",
   "execution_count": 75
  },
  {
   "cell_type": "code",
   "outputs": [],
   "source": [
    "# Calculate Softmax score\n",
    "# softmax_score = np.max(y_pred_proba, axis=1)\n",
    "\n",
    "# Initialize the Conformal Prediction classifier\n",
    "mapie_score = MapieClassifier(estimator=clf, cv=\"prefit\", method=\"score\")\n",
    "mapie_score.fit(X_cp, y_cp)\n",
    "\n",
    "alpha = [0.2, 0.1, 0.05]\n",
    "y_pred_score, y_ps_score = mapie_score.predict(X_test, alpha=alpha)"
   ],
   "metadata": {
    "collapsed": false,
    "ExecuteTime": {
     "end_time": "2025-01-06T09:59:20.452659Z",
     "start_time": "2025-01-06T09:53:11.149801Z"
    }
   },
   "id": "c1d60419457824d2",
   "execution_count": 76
  },
  {
   "cell_type": "code",
   "outputs": [
    {
     "data": {
      "text/plain": "(389, 2, 1)"
     },
     "execution_count": 107,
     "metadata": {},
     "output_type": "execute_result"
    }
   ],
   "source": [
    "y_ps_score.shape"
   ],
   "metadata": {
    "collapsed": false,
    "ExecuteTime": {
     "end_time": "2025-01-06T15:38:33.807313Z",
     "start_time": "2025-01-06T15:38:33.792708Z"
    }
   },
   "id": "4517db5d84732b3b",
   "execution_count": 107
  },
  {
   "cell_type": "code",
   "outputs": [],
   "source": [
    "teste = pd.concat([X_test.copy(), y_test.copy()], axis=1)\n",
    "teste[\"outlier\"] = False\n",
    "if y_ps_score is not None:\n",
    "    for i in range(len(teste)):\n",
    "        label_boolean = y_ps_score[i, :, 0]\n",
    "        set_size = np.sum(label_boolean)\n",
    "        if set_size > 1:\n",
    "            teste.loc[df.index[i], \"outlier\"] = True"
   ],
   "metadata": {
    "collapsed": false,
    "ExecuteTime": {
     "end_time": "2025-01-06T15:46:14.432700Z",
     "start_time": "2025-01-06T15:46:14.413145Z"
    }
   },
   "id": "86db5205968500ff",
   "execution_count": 139
  },
  {
   "cell_type": "code",
   "outputs": [],
   "source": [
    "def plot_scores(n, alphas, scores, quantiles):\n",
    "    colors = {0: \"#1f77b4\", 1: \"#ff7f0e\", 2: \"#2ca02c\"}\n",
    "    plt.figure(figsize=(7, 5))\n",
    "    plt.hist(scores, bins=\"auto\")\n",
    "    for i, quantile in enumerate(quantiles):\n",
    "        plt.vlines(\n",
    "            x=quantile,\n",
    "            ymin=0,\n",
    "            ymax=100,\n",
    "            color=colors[i],\n",
    "            ls=\"dashed\",\n",
    "            label=f\"alpha = {alphas[i]}\",\n",
    "        )\n",
    "    plt.title(\"Distribution of scores\")\n",
    "    plt.legend()\n",
    "    plt.xlabel(\"Scores\")\n",
    "    plt.ylabel(\"Count\")\n",
    "    plt.show()"
   ],
   "metadata": {
    "collapsed": false,
    "ExecuteTime": {
     "end_time": "2025-01-06T10:19:21.959663Z",
     "start_time": "2025-01-06T10:19:21.953160Z"
    }
   },
   "id": "7a6192dfd35c02e0",
   "execution_count": 77
  },
  {
   "cell_type": "code",
   "outputs": [
    {
     "data": {
      "text/plain": "<Figure size 700x500 with 1 Axes>",
      "image/png": "[encoded data removed]"
     },
     "metadata": {},
     "output_type": "display_data"
    }
   ],
   "source": [
    "scores = mapie_score.conformity_scores_\n",
    "n = len(mapie_score.conformity_scores_)\n",
    "quantiles = mapie_score.quantiles_\n",
    "\n",
    "plot_scores(n, alpha, scores, quantiles)"
   ],
   "metadata": {
    "collapsed": false,
    "ExecuteTime": {
     "end_time": "2025-01-06T10:19:22.499156Z",
     "start_time": "2025-01-06T10:19:22.194458Z"
    }
   },
   "id": "c015e5a08b22f20c",
   "execution_count": 78
  },
  {
   "cell_type": "code",
   "outputs": [],
   "source": [
    "\"\"\"\n",
    "    0: 301 - Bloqueado\n",
    "    1: 303 - Pantalla\n",
    "\"\"\"\n",
    "\n",
    "df2 = pd.read_parquet(\"../../output_data/prod/temp_supervised_dataset_2.parquet\")\n",
    "teste = clf.predict_proba(df2[df2[\"label\"] == 2][\"processed_text_to_analyse\"])"
   ],
   "metadata": {
    "collapsed": false,
    "ExecuteTime": {
     "end_time": "2025-01-06T10:26:29.483909Z",
     "start_time": "2025-01-06T10:21:38.868197Z"
    }
   },
   "id": "48886c8070f50b6a",
   "execution_count": 86
  },
  {
   "cell_type": "code",
   "outputs": [
    {
     "data": {
      "text/plain": "<Figure size 640x480 with 1 Axes>",
      "image/png": "[encoded data removed]"
     },
     "metadata": {},
     "output_type": "display_data"
    }
   ],
   "source": [
    "# Plot hist\n",
    "plt.hist(teste[:, 1], bins=20)\n",
    "plt.show()"
   ],
   "metadata": {
    "collapsed": false,
    "ExecuteTime": {
     "end_time": "2025-01-06T10:26:29.815648Z",
     "start_time": "2025-01-06T10:26:29.503713Z"
    }
   },
   "id": "c37e05aa4f27b871",
   "execution_count": 87
  },
  {
   "cell_type": "code",
   "outputs": [
    {
     "data": {
      "text/plain": "array([False, False])"
     },
     "execution_count": 95,
     "metadata": {},
     "output_type": "execute_result"
    }
   ],
   "source": [
    "(teste[0] > 0.1) & (teste[0] < 0.9) & (teste[1] > 0.1) & (teste[1] < 0.9)"
   ],
   "metadata": {
    "collapsed": false,
    "ExecuteTime": {
     "end_time": "2025-01-06T10:29:19.767929Z",
     "start_time": "2025-01-06T10:29:19.758017Z"
    }
   },
   "id": "d83015db75c0b89f",
   "execution_count": 95
  },
  {
   "cell_type": "code",
   "outputs": [
    {
     "data": {
      "text/plain": "(389, 2)"
     },
     "execution_count": 101,
     "metadata": {},
     "output_type": "execute_result"
    }
   ],
   "source": [
    "teste.shape"
   ],
   "metadata": {
    "collapsed": false,
    "ExecuteTime": {
     "end_time": "2025-01-06T10:30:53.835610Z",
     "start_time": "2025-01-06T10:30:53.829576Z"
    }
   },
   "id": "3d75a1bb9408c107",
   "execution_count": 101
  },
  {
   "cell_type": "code",
   "outputs": [
    {
     "data": {
      "text/plain": "array([[0.7487137 , 0.25128636],\n       [0.91418964, 0.08581033],\n       [0.7632337 , 0.2367663 ],\n       [0.6143129 , 0.38568714],\n       [0.6476796 , 0.3523203 ],\n       [0.89624876, 0.10375124],\n       [0.25428477, 0.7457153 ],\n       [0.34506223, 0.65493774],\n       [0.6557296 , 0.34427038],\n       [0.86133194, 0.13866812],\n       [0.2995324 , 0.7004676 ],\n       [0.2995324 , 0.7004676 ],\n       [0.9405509 , 0.05944907],\n       [0.94627   , 0.05372995],\n       [0.7943125 , 0.20568748],\n       [0.06860282, 0.93139714],\n       [0.938235  , 0.061765  ],\n       [0.9071637 , 0.09283628],\n       [0.85309315, 0.14690687],\n       [0.8915132 , 0.10848675],\n       [0.13525353, 0.86474645],\n       [0.5088101 , 0.4911899 ],\n       [0.77189255, 0.22810741],\n       [0.7663893 , 0.23361067],\n       [0.7740639 , 0.22593608],\n       [0.565413  , 0.434587  ],\n       [0.8599302 , 0.14006981],\n       [0.56044555, 0.43955442],\n       [0.93465436, 0.06534562],\n       [0.9290651 , 0.07093485],\n       [0.0679997 , 0.9320002 ],\n       [0.0679997 , 0.9320002 ],\n       [0.0679997 , 0.9320002 ],\n       [0.0679997 , 0.9320002 ],\n       [0.10282248, 0.8971775 ],\n       [0.0679997 , 0.9320002 ],\n       [0.15443023, 0.84556973],\n       [0.0679997 , 0.9320002 ],\n       [0.0679997 , 0.9320002 ],\n       [0.0679997 , 0.9320002 ],\n       [0.0679997 , 0.9320002 ],\n       [0.0679997 , 0.9320002 ],\n       [0.7804814 , 0.21951863],\n       [0.8268676 , 0.17313245],\n       [0.18273328, 0.81726676],\n       [0.90830815, 0.09169187],\n       [0.9494246 , 0.05057541],\n       [0.11950291, 0.88049704],\n       [0.77964115, 0.22035888],\n       [0.8323016 , 0.16769841],\n       [0.8065262 , 0.19347377],\n       [0.3578549 , 0.64214504],\n       [0.2070435 , 0.7929565 ],\n       [0.17475578, 0.82524425],\n       [0.8832204 , 0.11677969],\n       [0.7661656 , 0.23383433],\n       [0.9163656 , 0.08363438],\n       [0.301978  , 0.698022  ],\n       [0.26675835, 0.7332416 ],\n       [0.9338057 , 0.06619436],\n       [0.17560682, 0.8243932 ],\n       [0.71952665, 0.28047332],\n       [0.9405331 , 0.05946695],\n       [0.35986662, 0.6401334 ],\n       [0.932291  , 0.06770902],\n       [0.932291  , 0.06770902],\n       [0.9138802 , 0.08611978],\n       [0.84134734, 0.1586527 ],\n       [0.6273265 , 0.3726735 ],\n       [0.8602939 , 0.13970609],\n       [0.9284207 , 0.0715793 ],\n       [0.53337544, 0.46662462],\n       [0.43891492, 0.5610851 ],\n       [0.06934354, 0.9306565 ],\n       [0.06934354, 0.9306565 ],\n       [0.06934354, 0.9306565 ],\n       [0.94384897, 0.05615102],\n       [0.65556043, 0.34443948],\n       [0.65556043, 0.34443948],\n       [0.3502519 , 0.6497481 ],\n       [0.22524963, 0.77475035],\n       [0.9391413 , 0.0608587 ],\n       [0.14790139, 0.85209864],\n       [0.8617438 , 0.13825616],\n       [0.20303524, 0.79696476],\n       [0.18342042, 0.8165796 ],\n       [0.18342042, 0.8165796 ],\n       [0.18470718, 0.8152928 ],\n       [0.8608521 , 0.1391479 ],\n       [0.89034766, 0.10965232],\n       [0.55425644, 0.44574356],\n       [0.8505778 , 0.14942224],\n       [0.6894981 , 0.31050184],\n       [0.9220129 , 0.07798705],\n       [0.67304873, 0.32695127],\n       [0.8937022 , 0.10629781],\n       [0.9478833 , 0.05211665],\n       [0.9478833 , 0.05211665],\n       [0.9478833 , 0.05211665],\n       [0.27084693, 0.72915304],\n       [0.7599707 , 0.24002923],\n       [0.3152627 , 0.68473727],\n       [0.8850453 , 0.11495467],\n       [0.85961485, 0.14038515],\n       [0.746889  , 0.25311103],\n       [0.9495538 , 0.0504462 ],\n       [0.89847815, 0.10152189],\n       [0.7955967 , 0.20440322],\n       [0.411906  , 0.588094  ],\n       [0.90102774, 0.09897229],\n       [0.5938503 , 0.40614966],\n       [0.8113585 , 0.1886415 ],\n       [0.633431  , 0.36656895],\n       [0.6334311 , 0.36656895],\n       [0.6334311 , 0.36656895],\n       [0.4798235 , 0.5201765 ],\n       [0.7902742 , 0.20972584],\n       [0.7902742 , 0.20972584],\n       [0.746889  , 0.25311103],\n       [0.7440249 , 0.25597513],\n       [0.6278077 , 0.37219235],\n       [0.10862403, 0.89137596],\n       [0.8570781 , 0.14292195],\n       [0.9078189 , 0.09218112],\n       [0.9078189 , 0.09218112],\n       [0.9078189 , 0.09218112],\n       [0.8406956 , 0.15930441],\n       [0.83187675, 0.16812323],\n       [0.633431  , 0.36656895],\n       [0.9343028 , 0.06569716],\n       [0.7486637 , 0.25133622],\n       [0.64976025, 0.35023978],\n       [0.53578085, 0.46421915],\n       [0.8671762 , 0.1328238 ],\n       [0.30499306, 0.695007  ],\n       [0.92823017, 0.07176984],\n       [0.7385883 , 0.26141167],\n       [0.08361507, 0.91638494],\n       [0.5014333 , 0.49856675],\n       [0.0821034 , 0.9178967 ],\n       [0.0821034 , 0.9178967 ],\n       [0.0821034 , 0.9178967 ],\n       [0.0821034 , 0.9178967 ],\n       [0.89636683, 0.10363318],\n       [0.93149674, 0.06850322],\n       [0.9361781 , 0.06382186],\n       [0.8984924 , 0.10150759],\n       [0.7713307 , 0.22866926],\n       [0.91524416, 0.08475588],\n       [0.41703948, 0.58296055],\n       [0.77242696, 0.22757299],\n       [0.9199289 , 0.08007115],\n       [0.07260171, 0.9273983 ],\n       [0.92129445, 0.07870554],\n       [0.62613404, 0.3738659 ],\n       [0.8779851 , 0.1220149 ],\n       [0.6610026 , 0.33899736],\n       [0.94306856, 0.05693141],\n       [0.94806165, 0.05193834],\n       [0.918718  , 0.08128202],\n       [0.6954763 , 0.3045237 ],\n       [0.19824404, 0.80175596],\n       [0.8464113 , 0.15358868],\n       [0.94599044, 0.05400961],\n       [0.40864348, 0.5913565 ],\n       [0.62599003, 0.37401003],\n       [0.94975215, 0.05024787],\n       [0.79638815, 0.20361188],\n       [0.8164427 , 0.1835572 ],\n       [0.6157233 , 0.38427672],\n       [0.8545096 , 0.1454904 ],\n       [0.6940719 , 0.30592805],\n       [0.13024637, 0.8697536 ],\n       [0.8094053 , 0.19059464],\n       [0.3441989 , 0.65580106],\n       [0.54058605, 0.4594139 ],\n       [0.71763706, 0.28236297],\n       [0.9291023 , 0.07089775],\n       [0.9291023 , 0.07089775],\n       [0.9291023 , 0.07089775],\n       [0.17443392, 0.82556605],\n       [0.4820375 , 0.5179625 ],\n       [0.4820375 , 0.5179625 ],\n       [0.5290418 , 0.47095817],\n       [0.40086213, 0.5991379 ],\n       [0.5537355 , 0.44626445],\n       [0.5899303 , 0.41006976],\n       [0.5899303 , 0.41006976],\n       [0.5899303 , 0.41006976],\n       [0.5899303 , 0.41006976],\n       [0.37352806, 0.62647194],\n       [0.865278  , 0.13472202],\n       [0.5963576 , 0.40364245],\n       [0.5963576 , 0.40364245],\n       [0.5963576 , 0.40364245],\n       [0.5963576 , 0.40364245],\n       [0.5963576 , 0.40364245],\n       [0.5963576 , 0.40364245],\n       [0.5963576 , 0.40364245],\n       [0.74560183, 0.2543982 ],\n       [0.7008664 , 0.2991336 ],\n       [0.88735765, 0.11264234],\n       [0.88735765, 0.11264234],\n       [0.88735765, 0.11264234],\n       [0.6393338 , 0.3606662 ],\n       [0.928827  , 0.07117296],\n       [0.6640209 , 0.33597913],\n       [0.8487484 , 0.15125163],\n       [0.67052495, 0.32947505],\n       [0.6269904 , 0.3730096 ],\n       [0.6269904 , 0.3730096 ],\n       [0.6269904 , 0.3730096 ],\n       [0.6269904 , 0.3730096 ],\n       [0.6269904 , 0.3730096 ],\n       [0.6393338 , 0.3606662 ],\n       [0.9395418 , 0.06045823],\n       [0.6472972 , 0.35270277],\n       [0.6647531 , 0.33524695],\n       [0.9492104 , 0.05078957],\n       [0.3609642 , 0.63903576],\n       [0.1640576 , 0.8359424 ],\n       [0.7916613 , 0.20833863],\n       [0.8649783 , 0.13502166],\n       [0.8649783 , 0.13502166],\n       [0.8649783 , 0.13502166],\n       [0.8649783 , 0.13502166],\n       [0.919829  , 0.08017095],\n       [0.895785  , 0.10421506]], dtype=float32)"
     },
     "execution_count": 102,
     "metadata": {},
     "output_type": "execute_result"
    }
   ],
   "source": [
    "teste[\n",
    "    (teste[:, 0] > 0.05)\n",
    "    & (teste[:, 0] < 0.95)\n",
    "    & (teste[:, 0] > 0.05)\n",
    "    & (teste[:, 0] < 0.95)\n",
    "]"
   ],
   "metadata": {
    "collapsed": false,
    "ExecuteTime": {
     "end_time": "2025-01-06T10:33:18.929254Z",
     "start_time": "2025-01-06T10:33:18.918618Z"
    }
   },
   "id": "fa71513d5407873a",
   "execution_count": 102
  },
  {
   "cell_type": "code",
   "outputs": [],
   "source": [
    "y_pred_score, y_ps_score = mapie_score.predict(\n",
    "    df2[df2[\"label\"] == 2][\"processed_text_to_analyse\"], alpha=0.1\n",
    ")"
   ],
   "metadata": {
    "collapsed": false,
    "ExecuteTime": {
     "end_time": "2025-01-06T10:44:19.996155Z",
     "start_time": "2025-01-06T10:33:30.324795Z"
    }
   },
   "id": "962c733b7c9de97e",
   "execution_count": 103
  },
  {
   "cell_type": "code",
   "outputs": [
    {
     "data": {
      "text/plain": "<Figure size 700x500 with 1 Axes>",
      "image/png": "[encoded data removed]"
     },
     "metadata": {},
     "output_type": "display_data"
    }
   ],
   "source": [
    "scores = mapie_score.conformity_scores_\n",
    "n = len(mapie_score.conformity_scores_)\n",
    "quantiles = mapie_score.quantiles_\n",
    "\n",
    "plot_scores(n, alpha, scores, quantiles)"
   ],
   "metadata": {
    "collapsed": false,
    "ExecuteTime": {
     "end_time": "2025-01-06T10:44:20.444586Z",
     "start_time": "2025-01-06T10:44:20.013569Z"
    }
   },
   "id": "b0338f4f2ecc497e",
   "execution_count": 104
  },
  {
   "cell_type": "code",
   "outputs": [],
   "source": [],
   "metadata": {
    "collapsed": false
   },
   "id": "8770137fdd68158b",
   "execution_count": null
  },
  {
   "metadata": {},
   "cell_type": "markdown",
   "source": [
    "# Plot the training metrics"
   ],
   "id": "c41f013b03f1702f"
  },
  {
   "metadata": {
    "ExecuteTime": {
     "end_time": "2025-01-07T15:53:57.703544Z",
     "start_time": "2025-01-07T15:53:56.345347Z"
    }
   },
   "cell_type": "code",
   "source": [
    "import matplotlib.pyplot as plt\n",
    "import re"
   ],
   "id": "b2ea21fd52306751",
   "outputs": [],
   "execution_count": 2
  },
  {
   "metadata": {
    "ExecuteTime": {
     "end_time": "2025-01-07T15:53:58.791414Z",
     "start_time": "2025-01-07T15:53:58.784451Z"
    }
   },
   "cell_type": "code",
   "source": [
    "# Training metrics data as a string\n",
    "training_data = \"\"\"\n",
    "{'loss': 1.1074, 'grad_norm': 14.107563972473145, 'learning_rate': 2e-05, 'epoch': 0.16}\n",
    "{'loss': 0.6237, 'grad_norm': 7.904306411743164, 'learning_rate': 2e-05, 'epoch': 0.32}\n",
    "{'loss': 0.5112, 'grad_norm': 7.12638521194458, 'learning_rate': 2e-05, 'epoch': 0.48}\n",
    "{'loss': 0.3775, 'grad_norm': 4.049189567565918, 'learning_rate': 2e-05, 'epoch': 0.63}\n",
    "{'loss': 0.413, 'grad_norm': 10.239442825317383, 'learning_rate': 2e-05, 'epoch': 0.79}\n",
    "{'loss': 0.249, 'grad_norm': 3.4569692611694336, 'learning_rate': 2e-05, 'epoch': 0.95}\n",
    "{'eval_loss': 0.28245222568511963, 'eval_runtime': 105.0607, 'eval_samples_per_second': 1.494, 'eval_steps_per_second': 0.19, 'epoch': 1.0}\n",
    "{'loss': 0.2948, 'grad_norm': 10.092912673950195, 'learning_rate': 2e-05, 'epoch': 1.11}\n",
    "{'loss': 0.303, 'grad_norm': 23.20924949645996, 'learning_rate': 2e-05, 'epoch': 1.27}\n",
    "{'loss': 0.2528, 'grad_norm': 18.06032943725586, 'learning_rate': 2e-05, 'epoch': 1.43}\n",
    "{'loss': 0.1111, 'grad_norm': 22.759109497070312, 'learning_rate': 2e-05, 'epoch': 1.59}\n",
    "{'loss': 0.1172, 'grad_norm': 1.1877919435501099, 'learning_rate': 2e-05, 'epoch': 1.75}\n",
    "{'loss': 0.2398, 'grad_norm': 3.0136420726776123, 'learning_rate': 2e-05, 'epoch': 1.9}\n",
    "{'eval_loss': 0.2211766093969345, 'eval_runtime': 104.1499, 'eval_samples_per_second': 1.507, 'eval_steps_per_second': 0.192, 'epoch': 2.0}\n",
    "{'loss': 0.1469, 'grad_norm': 13.05081844329834, 'learning_rate': 2e-05, 'epoch': 2.06}\n",
    "{'loss': 0.0894, 'grad_norm': 0.05093025416135788, 'learning_rate': 2e-05, 'epoch': 2.22}\n",
    "{'loss': 0.1927, 'grad_norm': 0.028336193412542343, 'learning_rate': 2e-05, 'epoch': 2.38}\n",
    "{'loss': 0.071, 'grad_norm': 0.10689827799797058, 'learning_rate': 2e-05, 'epoch': 2.54}\n",
    "{'loss': 0.1676, 'grad_norm': 41.53746032714844, 'learning_rate': 2e-05, 'epoch': 2.7}\n",
    "{'loss': 0.1861, 'grad_norm': 35.64866638183594, 'learning_rate': 2e-05, 'epoch': 2.86}\n",
    "{'eval_loss': 0.19358612596988678, 'eval_runtime': 104.9347, 'eval_samples_per_second': 1.496, 'eval_steps_per_second': 0.191, 'epoch': 3.0}\n",
    "{'loss': 0.1249, 'grad_norm': 3.729599714279175, 'learning_rate': 2e-05, 'epoch': 3.02}\n",
    "{'loss': 0.0132, 'grad_norm': 0.05018153041601181, 'learning_rate': 2e-05, 'epoch': 3.17}\n",
    "{'loss': 0.0778, 'grad_norm': 0.029305703938007355, 'learning_rate': 2e-05, 'epoch': 3.33}\n",
    "{'loss': 0.0422, 'grad_norm': 0.13734115660190582, 'learning_rate': 2e-05, 'epoch': 3.49}\n",
    "{'loss': 0.0507, 'grad_norm': 0.18359579145908356, 'learning_rate': 2e-05, 'epoch': 3.65}\n",
    "{'loss': 0.0414, 'grad_norm': 2.4170315265655518, 'learning_rate': 2e-05, 'epoch': 3.81}\n",
    "{'loss': 0.0655, 'grad_norm': 0.042904771864414215, 'learning_rate': 2e-05, 'epoch': 3.97}\n",
    "{'eval_loss': 0.29243889451026917, 'eval_runtime': 119.9047, 'eval_samples_per_second': 1.309, 'eval_steps_per_second': 0.167, 'epoch': 4.0}\n",
    "{'loss': 0.0085, 'grad_norm': 0.0268461462110281, 'learning_rate': 2e-05, 'epoch': 4.13}\n",
    "{'loss': 0.0215, 'grad_norm': 0.012776277959346771, 'learning_rate': 2e-05, 'epoch': 4.29}\n",
    "{'loss': 0.0529, 'grad_norm': 16.013086318969727, 'learning_rate': 2e-05, 'epoch': 4.44}\n",
    "{'loss': 0.0814, 'grad_norm': 2.3951380252838135, 'learning_rate': 2e-05, 'epoch': 4.6}\n",
    "{'loss': 0.0436, 'grad_norm': 0.12002553045749664, 'learning_rate': 2e-05, 'epoch': 4.76}\n",
    "{'loss': 0.0645, 'grad_norm': 2.722397565841675, 'learning_rate': 2e-05, 'epoch': 4.92}\n",
    "{'eval_loss': 0.2142232358455658, 'eval_runtime': 106.9668, 'eval_samples_per_second': 1.468, 'eval_steps_per_second': 0.187, 'epoch': 5.0}\n",
    "\"\"\""
   ],
   "id": "267b8e8d48a65f25",
   "outputs": [],
   "execution_count": 3
  },
  {
   "metadata": {
    "ExecuteTime": {
     "end_time": "2025-01-07T15:54:01.078111Z",
     "start_time": "2025-01-07T15:54:00.607453Z"
    }
   },
   "cell_type": "code",
   "source": [
    "# Extract data using regex\n",
    "train_loss = []\n",
    "eval_loss = []\n",
    "epochs_train = []\n",
    "epochs_eval = []\n",
    "\n",
    "for match in re.finditer(r\"'loss': ([0-9\\.]+).*'epoch': ([0-9\\.]+)\", training_data):\n",
    "    train_loss.append(float(match.group(1)))\n",
    "    epochs_train.append(float(match.group(2)))\n",
    "\n",
    "for match in re.finditer(\n",
    "    r\"'eval_loss': ([0-9\\.]+).*'epoch': ([0-9\\.]+)\", training_data\n",
    "):\n",
    "    eval_loss.append(float(match.group(1)))\n",
    "    epochs_eval.append(float(match.group(2)))\n",
    "\n",
    "# Plot the data\n",
    "plt.figure(figsize=(10, 6))\n",
    "plt.plot(epochs_train, train_loss, label=\"Training Loss\", marker=\"o\")\n",
    "plt.plot(epochs_eval, eval_loss, label=\"Evaluation Loss\", marker=\"s\")\n",
    "\n",
    "plt.xlabel(\"Epoch\")\n",
    "plt.ylabel(\"Loss\")\n",
    "plt.title(\"Training and Evaluation Loss Over Epochs\")\n",
    "plt.legend()\n",
    "plt.grid(True)\n",
    "\n",
    "# Save the plot to disk\n",
    "output_file = \"training_loss_plot.png\"\n",
    "plt.savefig(output_file)\n",
    "print(f\"Plot saved as {output_file}\")\n",
    "\n",
    "# Show the plot (optional)\n",
    "plt.show()"
   ],
   "id": "425cd4a3b9499673",
   "outputs": [
    {
     "name": "stdout",
     "output_type": "stream",
     "text": [
      "Plot saved as training_loss_plot.png\n"
     ]
    },
    {
     "data": {
      "text/plain": [
       "<Figure size 1000x600 with 1 Axes>"
      ],
      "image/png": "[encoded data removed]"
     },
     "metadata": {},
     "output_type": "display_data"
    }
   ],
   "execution_count": 4
  },
  {
   "metadata": {},
   "cell_type": "code",
   "outputs": [],
   "execution_count": null,
   "source": [],
   "id": "cac8fd32536b2af8"
  },
  {
   "metadata": {},
   "cell_type": "code",
   "outputs": [],
   "execution_count": null,
   "source": [],
   "id": "127cccae5a12261d"
  }
 ],
 "metadata": {
  "kernelspec": {
   "display_name": "Python 3",
   "language": "python",
   "name": "python3"
  },
  "language_info": {
   "codemirror_mode": {
    "name": "ipython",
    "version": 2
   },
   "file_extension": ".py",
   "mimetype": "text/x-python",
   "name": "python",
   "nbconvert_exporter": "python",
   "pygments_lexer": "ipython2",
   "version": "2.7.6"
  }
 },
 "nbformat": 4,
 "nbformat_minor": 5
}
