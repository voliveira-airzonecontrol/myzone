{
 "cells": [
  {
   "cell_type": "code",
   "execution_count": 1,
   "id": "initial_id",
   "metadata": {
    "collapsed": true,
    "ExecuteTime": {
     "end_time": "2025-01-05T15:43:39.264512Z",
     "start_time": "2025-01-05T15:43:30.107498Z"
    }
   },
   "outputs": [],
   "source": [
    "from src.training.model import TransformerClassifier\n",
    "import pandas as pd\n",
    "\n",
    "from sklearn.model_selection import train_test_split\n",
    "from src.utils import load_config"
   ]
  },
  {
   "cell_type": "code",
   "outputs": [],
   "source": [
    "# Load config\n",
    "env = \"prod\"\n",
    "model_type = \"BERT\"\n",
    "\n",
    "training_config = load_config(\n",
    "    file_name=\"training_config\", env=env, folder=\"../../config\"\n",
    ")"
   ],
   "metadata": {
    "collapsed": false,
    "ExecuteTime": {
     "end_time": "2025-01-05T15:43:39.293597Z",
     "start_time": "2025-01-05T15:43:39.265694Z"
    }
   },
   "id": "879733ee7ccda4ba",
   "execution_count": 2
  },
  {
   "cell_type": "markdown",
   "source": [
    "# Load the data"
   ],
   "metadata": {
    "collapsed": false
   },
   "id": "4238a6ffbe50b29b"
  },
  {
   "cell_type": "code",
   "outputs": [],
   "source": [
    "df = pd.read_parquet(\"../../output_data/prod/temp_supervised_dataset_1.parquet\")"
   ],
   "metadata": {
    "collapsed": false,
    "ExecuteTime": {
     "end_time": "2025-01-05T15:43:39.329174Z",
     "start_time": "2025-01-05T15:43:39.294734Z"
    }
   },
   "id": "9135d8c9258a4f0c",
   "execution_count": 3
  },
  {
   "cell_type": "code",
   "outputs": [
    {
     "data": {
      "text/plain": "           codigo  id_pieza        CODART_A3  CAR3  \\\n17506  LPEZMPDL0E     84068     AZCE6THINKRN    91   \n16823  MZGXM5VM5C     81244     AZCE6THINKRB    91   \n5336   Z2PQZ2LW03     44599  AZDI6BLUEFACECB    91   \n12862  MJKBNZPH7B     67454  AZCE6BLUEZEROCB    91   \n2918   LWZPM2XR31     37992  AZCE6BLUEFACECB    91   \n957    L2LTLMDQB5     32637     AZCE6THINKRB    91   \n4448   BMLLBM1SE8     42275  AZCE6BLUEFACECB    91   \n18440  NWJXZMTO7C     87618     AZCE6THINKRB    91   \n2246   LGVQMWXT8E     36119  AZCE6BLUEFACECB    91   \n15747  LPGXLPZIA9     77619  AZCE6BLUEZEROCB    91   \n\n                                         text_to_analyse  \\\n17506  LAS BATERÍAS DEBEN REEMPLAZARSE REGULARMENTE T...   \n16823  TRAS CAMBIO DEE LA CENTRALITA EL MANDO NO REPO...   \n5336   BLUEFACE SE HA QUEDADO NEGRTO Y NO RESPONDE CA...   \n12862  los termostatos no responden a ninguna pulsaci...   \n2918   línea vertical en entintado CARA AZUL LÍNEA VE...   \n957    AL TERMOSTATO SE LE HA DESPEGADO LA PANTALLA. ...   \n4448   LÍNEA ROJA VERTICAL EN EL CENTRO DE LA PANTALL...   \n18440   La pantalla no enciende  La pantalla no enciende   \n2246   Hay dos termostatos Blueface que no funcionan ...   \n15747  EL TERMOSTATO SE BLOQUEA Termostato cable Airz...   \n\n                               processed_text_to_analyse  label  \\\n17506  baterias reemplazarse regularmente termostato ...      0   \n16823  cambio dee centralita mando reponde retiro pil...      0   \n5336   blueface quedado negrto responde cara azul blu...      0   \n12862  termostatos responden pulsacion bloqueados env...      0   \n2918   linea vertical entintado cara azul linea verti...      1   \n957    termostato despegado pantalla pensar termostat...      1   \n4448   linea roja vertical centro pantalla linea roja...      1   \n18440                pantalla enciende pantalla enciende      1   \n2246   termostatos blueface funcionan azce6bluefacecb...      1   \n15747  termostato bloquea termostato cable airzone bl...      0   \n\n       similarity_prediction  Ground_truth  \n17506                    303           301  \n16823                    303           301  \n5336                     303           301  \n12862                    301           301  \n2918                     303           303  \n957                      303           303  \n4448                     303           303  \n18440                    303           303  \n2246                     303           303  \n15747                    301           301  ",
      "text/html": "<div>\n<style scoped>\n    .dataframe tbody tr th:only-of-type {\n        vertical-align: middle;\n    }\n\n    .dataframe tbody tr th {\n        vertical-align: top;\n    }\n\n    .dataframe thead th {\n        text-align: right;\n    }\n</style>\n<table border=\"1\" class=\"dataframe\">\n  <thead>\n    <tr style=\"text-align: right;\">\n      <th></th>\n      <th>codigo</th>\n      <th>id_pieza</th>\n      <th>CODART_A3</th>\n      <th>CAR3</th>\n      <th>text_to_analyse</th>\n      <th>processed_text_to_analyse</th>\n      <th>label</th>\n      <th>similarity_prediction</th>\n      <th>Ground_truth</th>\n    </tr>\n  </thead>\n  <tbody>\n    <tr>\n      <th>17506</th>\n      <td>LPEZMPDL0E</td>\n      <td>84068</td>\n      <td>AZCE6THINKRN</td>\n      <td>91</td>\n      <td>LAS BATERÍAS DEBEN REEMPLAZARSE REGULARMENTE T...</td>\n      <td>baterias reemplazarse regularmente termostato ...</td>\n      <td>0</td>\n      <td>303</td>\n      <td>301</td>\n    </tr>\n    <tr>\n      <th>16823</th>\n      <td>MZGXM5VM5C</td>\n      <td>81244</td>\n      <td>AZCE6THINKRB</td>\n      <td>91</td>\n      <td>TRAS CAMBIO DEE LA CENTRALITA EL MANDO NO REPO...</td>\n      <td>cambio dee centralita mando reponde retiro pil...</td>\n      <td>0</td>\n      <td>303</td>\n      <td>301</td>\n    </tr>\n    <tr>\n      <th>5336</th>\n      <td>Z2PQZ2LW03</td>\n      <td>44599</td>\n      <td>AZDI6BLUEFACECB</td>\n      <td>91</td>\n      <td>BLUEFACE SE HA QUEDADO NEGRTO Y NO RESPONDE CA...</td>\n      <td>blueface quedado negrto responde cara azul blu...</td>\n      <td>0</td>\n      <td>303</td>\n      <td>301</td>\n    </tr>\n    <tr>\n      <th>12862</th>\n      <td>MJKBNZPH7B</td>\n      <td>67454</td>\n      <td>AZCE6BLUEZEROCB</td>\n      <td>91</td>\n      <td>los termostatos no responden a ninguna pulsaci...</td>\n      <td>termostatos responden pulsacion bloqueados env...</td>\n      <td>0</td>\n      <td>301</td>\n      <td>301</td>\n    </tr>\n    <tr>\n      <th>2918</th>\n      <td>LWZPM2XR31</td>\n      <td>37992</td>\n      <td>AZCE6BLUEFACECB</td>\n      <td>91</td>\n      <td>línea vertical en entintado CARA AZUL LÍNEA VE...</td>\n      <td>linea vertical entintado cara azul linea verti...</td>\n      <td>1</td>\n      <td>303</td>\n      <td>303</td>\n    </tr>\n    <tr>\n      <th>957</th>\n      <td>L2LTLMDQB5</td>\n      <td>32637</td>\n      <td>AZCE6THINKRB</td>\n      <td>91</td>\n      <td>AL TERMOSTATO SE LE HA DESPEGADO LA PANTALLA. ...</td>\n      <td>termostato despegado pantalla pensar termostat...</td>\n      <td>1</td>\n      <td>303</td>\n      <td>303</td>\n    </tr>\n    <tr>\n      <th>4448</th>\n      <td>BMLLBM1SE8</td>\n      <td>42275</td>\n      <td>AZCE6BLUEFACECB</td>\n      <td>91</td>\n      <td>LÍNEA ROJA VERTICAL EN EL CENTRO DE LA PANTALL...</td>\n      <td>linea roja vertical centro pantalla linea roja...</td>\n      <td>1</td>\n      <td>303</td>\n      <td>303</td>\n    </tr>\n    <tr>\n      <th>18440</th>\n      <td>NWJXZMTO7C</td>\n      <td>87618</td>\n      <td>AZCE6THINKRB</td>\n      <td>91</td>\n      <td>La pantalla no enciende  La pantalla no enciende</td>\n      <td>pantalla enciende pantalla enciende</td>\n      <td>1</td>\n      <td>303</td>\n      <td>303</td>\n    </tr>\n    <tr>\n      <th>2246</th>\n      <td>LGVQMWXT8E</td>\n      <td>36119</td>\n      <td>AZCE6BLUEFACECB</td>\n      <td>91</td>\n      <td>Hay dos termostatos Blueface que no funcionan ...</td>\n      <td>termostatos blueface funcionan azce6bluefacecb...</td>\n      <td>1</td>\n      <td>303</td>\n      <td>303</td>\n    </tr>\n    <tr>\n      <th>15747</th>\n      <td>LPGXLPZIA9</td>\n      <td>77619</td>\n      <td>AZCE6BLUEZEROCB</td>\n      <td>91</td>\n      <td>EL TERMOSTATO SE BLOQUEA Termostato cable Airz...</td>\n      <td>termostato bloquea termostato cable airzone bl...</td>\n      <td>0</td>\n      <td>301</td>\n      <td>301</td>\n    </tr>\n  </tbody>\n</table>\n</div>"
     },
     "execution_count": 4,
     "metadata": {},
     "output_type": "execute_result"
    }
   ],
   "source": [
    "df.sample(10)"
   ],
   "metadata": {
    "collapsed": false,
    "ExecuteTime": {
     "end_time": "2025-01-05T15:43:39.349209Z",
     "start_time": "2025-01-05T15:43:39.330387Z"
    }
   },
   "id": "7b37ddce13862c44",
   "execution_count": 4
  },
  {
   "cell_type": "code",
   "outputs": [],
   "source": [
    "X = df[[\"processed_text_to_analyse\", \"label\"]]"
   ],
   "metadata": {
    "collapsed": false,
    "ExecuteTime": {
     "end_time": "2025-01-05T15:43:39.358075Z",
     "start_time": "2025-01-05T15:43:39.351581Z"
    }
   },
   "id": "7e994d96b2942c68",
   "execution_count": 5
  },
  {
   "cell_type": "code",
   "outputs": [
    {
     "data": {
      "text/plain": "(1395, 2)"
     },
     "execution_count": 6,
     "metadata": {},
     "output_type": "execute_result"
    }
   ],
   "source": [
    "X.shape"
   ],
   "metadata": {
    "collapsed": false,
    "ExecuteTime": {
     "end_time": "2025-01-05T15:43:39.365982Z",
     "start_time": "2025-01-05T15:43:39.359363Z"
    }
   },
   "id": "8bc63becb6feafd8",
   "execution_count": 6
  },
  {
   "cell_type": "code",
   "outputs": [
    {
     "data": {
      "text/plain": "label\n0    781\n1    614\nName: count, dtype: int64"
     },
     "execution_count": 7,
     "metadata": {},
     "output_type": "execute_result"
    }
   ],
   "source": [
    "X[\"label\"].value_counts()"
   ],
   "metadata": {
    "collapsed": false,
    "ExecuteTime": {
     "end_time": "2025-01-05T15:43:39.376737Z",
     "start_time": "2025-01-05T15:43:39.368257Z"
    }
   },
   "id": "859e91b0fbf0b899",
   "execution_count": 7
  },
  {
   "cell_type": "code",
   "outputs": [],
   "source": [
    "num_labels = X[\"label\"].nunique()"
   ],
   "metadata": {
    "collapsed": false,
    "ExecuteTime": {
     "end_time": "2025-01-05T15:43:39.384327Z",
     "start_time": "2025-01-05T15:43:39.379005Z"
    }
   },
   "id": "a7367d52792ee5a8",
   "execution_count": 8
  },
  {
   "cell_type": "markdown",
   "source": [
    "# Split the data"
   ],
   "metadata": {
    "collapsed": false
   },
   "id": "e8fdcccb4e9edf8e"
  },
  {
   "cell_type": "code",
   "outputs": [],
   "source": [
    "X_train, X_test, y_train, y_test = train_test_split(\n",
    "    #X.drop(columns=[training_config.training[model_type].target]),\n",
    "    X[training_config.training[model_type].features],\n",
    "    X[training_config.training[model_type].target],\n",
    "    test_size=training_config.training[model_type].test_size,\n",
    "    random_state=training_config.training.random_state,\n",
    "    stratify=X[training_config.training[model_type].target],\n",
    ")\n",
    "X_train, X_val, y_train, y_val = train_test_split(\n",
    "    X_train,\n",
    "    y_train,\n",
    "    test_size=training_config.training[model_type].val_size,\n",
    "    random_state=training_config.training.random_state,\n",
    "    stratify=y_train,\n",
    ")\n",
    "X_test, X_cp, y_test, y_cp = train_test_split(\n",
    "    X_test,\n",
    "    y_test,\n",
    "    test_size=training_config.training[model_type].cp_size,\n",
    "    random_state=training_config.training.random_state,\n",
    "    stratify=y_test,\n",
    ")"
   ],
   "metadata": {
    "collapsed": false,
    "ExecuteTime": {
     "end_time": "2025-01-06T15:45:58.898553Z",
     "start_time": "2025-01-06T15:45:58.882073Z"
    }
   },
   "id": "48e277662a787508",
   "execution_count": 137
  },
  {
   "cell_type": "code",
   "outputs": [
    {
     "data": {
      "text/plain": "((889,), (157,), (174,), (175,))"
     },
     "execution_count": 48,
     "metadata": {},
     "output_type": "execute_result"
    }
   ],
   "source": [
    "X_train.shape, X_val.shape, X_test.shape, X_cp.shape"
   ],
   "metadata": {
    "collapsed": false,
    "ExecuteTime": {
     "end_time": "2025-01-05T16:43:41.236823Z",
     "start_time": "2025-01-05T16:43:41.230172Z"
    }
   },
   "id": "feb36d5a1a7679db",
   "execution_count": 48
  },
  {
   "cell_type": "code",
   "outputs": [],
   "source": [
    "# Upsample the minority class\n",
    "from sklearn.utils import resample\n",
    "\n",
    "X_upsampled = X_train.copy().to_frame()\n",
    "X_upsampled[training_config.training[model_type].target] = y_train\n",
    "\n",
    "# Separate majority and minority classes\n",
    "df_majority = X_upsampled[X_upsampled[training_config.training[model_type].target]==0]\n",
    "df_minority = X_upsampled[X_upsampled[training_config.training[model_type].target]==1]\n",
    "\n",
    "# Upsample minority class\n",
    "df_minority_upsampled = resample(\n",
    "    df_minority,\n",
    "    replace=True,\n",
    "    n_samples=df_majority.shape[0],\n",
    "    random_state=42,\n",
    ")\n",
    "\n",
    "# Combine majority class with upsampled minority class\n",
    "df_upsampled = pd.concat([df_majority, df_minority_upsampled])\n",
    "\n",
    "# Display new class counts\n",
    "X_train = df_upsampled[training_config.training[model_type].features]\n",
    "y_train = df_upsampled[training_config.training[model_type].target]"
   ],
   "metadata": {
    "collapsed": false,
    "ExecuteTime": {
     "end_time": "2025-01-05T16:43:41.908012Z",
     "start_time": "2025-01-05T16:43:41.899142Z"
    }
   },
   "id": "b9a629ad5894e671",
   "execution_count": 49
  },
  {
   "cell_type": "code",
   "outputs": [
    {
     "data": {
      "text/plain": "label\n0    498\n1    498\nName: count, dtype: int64"
     },
     "execution_count": 50,
     "metadata": {},
     "output_type": "execute_result"
    }
   ],
   "source": [
    "y_train.value_counts()"
   ],
   "metadata": {
    "collapsed": false,
    "ExecuteTime": {
     "end_time": "2025-01-05T16:43:43.257345Z",
     "start_time": "2025-01-05T16:43:43.251375Z"
    }
   },
   "id": "94e61b623215fbce",
   "execution_count": 50
  },
  {
   "cell_type": "code",
   "outputs": [
    {
     "data": {
      "text/plain": "label\n0    88\n1    69\nName: count, dtype: int64"
     },
     "execution_count": 51,
     "metadata": {},
     "output_type": "execute_result"
    }
   ],
   "source": [
    "y_val.value_counts()"
   ],
   "metadata": {
    "collapsed": false,
    "ExecuteTime": {
     "end_time": "2025-01-05T16:43:44.764354Z",
     "start_time": "2025-01-05T16:43:44.758599Z"
    }
   },
   "id": "ff3180c9ae60276c",
   "execution_count": 51
  },
  {
   "cell_type": "code",
   "outputs": [
    {
     "data": {
      "text/plain": "label\n0    97\n1    77\nName: count, dtype: int64"
     },
     "execution_count": 52,
     "metadata": {},
     "output_type": "execute_result"
    }
   ],
   "source": [
    "y_test.value_counts()"
   ],
   "metadata": {
    "collapsed": false,
    "ExecuteTime": {
     "end_time": "2025-01-05T16:43:46.014683Z",
     "start_time": "2025-01-05T16:43:46.008381Z"
    }
   },
   "id": "7d169e39ab08c423",
   "execution_count": 52
  },
  {
   "cell_type": "code",
   "outputs": [
    {
     "data": {
      "text/plain": "label\n0    98\n1    77\nName: count, dtype: int64"
     },
     "execution_count": 53,
     "metadata": {},
     "output_type": "execute_result"
    }
   ],
   "source": [
    "y_cp.value_counts()"
   ],
   "metadata": {
    "collapsed": false,
    "ExecuteTime": {
     "end_time": "2025-01-05T16:43:46.883355Z",
     "start_time": "2025-01-05T16:43:46.873997Z"
    }
   },
   "id": "787856ad5757cc3b",
   "execution_count": 53
  },
  {
   "cell_type": "markdown",
   "source": [
    "# Train the model"
   ],
   "metadata": {
    "collapsed": false
   },
   "id": "b1b2f00721320665"
  },
  {
   "cell_type": "code",
   "outputs": [],
   "source": [
    "clf = TransformerClassifier(\n",
    "    model_name=\"dtorber/bert-base-spanish-wwm-cased_K4\",\n",
    "    num_labels=num_labels,\n",
    ")"
   ],
   "metadata": {
    "collapsed": false,
    "ExecuteTime": {
     "end_time": "2025-01-05T16:43:51.616054Z",
     "start_time": "2025-01-05T16:43:50.439593Z"
    }
   },
   "id": "1439d8592f4c3867",
   "execution_count": 54
  },
  {
   "cell_type": "code",
   "outputs": [
    {
     "data": {
      "text/plain": "<IPython.core.display.HTML object>",
      "text/html": "\n    <div>\n      \n      <progress value='378' max='1260' style='width:300px; height:20px; vertical-align: middle;'></progress>\n      [ 378/1260 4:39:02 < 10:54:33, 0.02 it/s, Epoch 6/20]\n    </div>\n    <table border=\"1\" class=\"dataframe\">\n  <thead>\n <tr style=\"text-align: left;\">\n      <th>Epoch</th>\n      <th>Training Loss</th>\n      <th>Validation Loss</th>\n    </tr>\n  </thead>\n  <tbody>\n    <tr>\n      <td>1</td>\n      <td>0.318100</td>\n      <td>0.174469</td>\n    </tr>\n    <tr>\n      <td>2</td>\n      <td>0.125600</td>\n      <td>0.181311</td>\n    </tr>\n    <tr>\n      <td>3</td>\n      <td>0.221900</td>\n      <td>0.249435</td>\n    </tr>\n    <tr>\n      <td>4</td>\n      <td>0.013100</td>\n      <td>0.263582</td>\n    </tr>\n    <tr>\n      <td>5</td>\n      <td>0.022500</td>\n      <td>0.262949</td>\n    </tr>\n    <tr>\n      <td>6</td>\n      <td>0.068100</td>\n      <td>0.324777</td>\n    </tr>\n  </tbody>\n</table><p>"
     },
     "metadata": {},
     "output_type": "display_data"
    },
    {
     "ename": "ValueError",
     "evalue": "could not determine the shape of object type 'Series'",
     "output_type": "error",
     "traceback": [
      "\u001B[1;31m---------------------------------------------------------------------------\u001B[0m",
      "\u001B[1;31mValueError\u001B[0m                                Traceback (most recent call last)",
      "Cell \u001B[1;32mIn[55], line 2\u001B[0m\n\u001B[0;32m      1\u001B[0m \u001B[38;5;66;03m# Train the model\u001B[39;00m\n\u001B[1;32m----> 2\u001B[0m \u001B[43mclf\u001B[49m\u001B[38;5;241;43m.\u001B[39;49m\u001B[43mfit\u001B[49m\u001B[43m(\u001B[49m\u001B[43mX\u001B[49m\u001B[38;5;241;43m=\u001B[39;49m\u001B[43mX_train\u001B[49m\u001B[43m,\u001B[49m\u001B[43m \u001B[49m\u001B[43my\u001B[49m\u001B[38;5;241;43m=\u001B[39;49m\u001B[43my_train\u001B[49m\u001B[43m,\u001B[49m\u001B[43m \u001B[49m\u001B[43meval_X\u001B[49m\u001B[38;5;241;43m=\u001B[39;49m\u001B[43mX_val\u001B[49m\u001B[43m,\u001B[49m\u001B[43m \u001B[49m\u001B[43meval_y\u001B[49m\u001B[38;5;241;43m=\u001B[39;49m\u001B[43my_val\u001B[49m\u001B[43m,\u001B[49m\u001B[43m \u001B[49m\u001B[43mfreeze_layers_prefix\u001B[49m\u001B[38;5;241;43m=\u001B[39;49m\u001B[43m[\u001B[49m\u001B[38;5;124;43m\"\u001B[39;49m\u001B[38;5;124;43mbert.embeddings\u001B[39;49m\u001B[38;5;124;43m\"\u001B[39;49m\u001B[43m,\u001B[49m\u001B[43m \u001B[49m\u001B[38;5;124;43m\"\u001B[39;49m\u001B[38;5;124;43mbert.encoder\u001B[39;49m\u001B[38;5;124;43m\"\u001B[39;49m\u001B[43m]\u001B[49m\u001B[43m)\u001B[49m\n",
      "File \u001B[1;32mD:\\00-Master\\TFM\\Project\\myzone\\src\\training\\model.py:92\u001B[0m, in \u001B[0;36mTransformerClassifier.fit\u001B[1;34m(self, X, y, eval_X, eval_y, freeze_layers_prefix)\u001B[0m\n\u001B[0;32m     89\u001B[0m trainer\u001B[38;5;241m.\u001B[39mtrain()\n\u001B[0;32m     91\u001B[0m \u001B[38;5;66;03m# Set the classes_ attribute required by scikit-learn\u001B[39;00m\n\u001B[1;32m---> 92\u001B[0m \u001B[38;5;28mself\u001B[39m\u001B[38;5;241m.\u001B[39mclasses_ \u001B[38;5;241m=\u001B[39m torch\u001B[38;5;241m.\u001B[39munique(\u001B[43mtorch\u001B[49m\u001B[38;5;241;43m.\u001B[39;49m\u001B[43mtensor\u001B[49m\u001B[43m(\u001B[49m\u001B[43my\u001B[49m\u001B[43m)\u001B[49m)\u001B[38;5;241m.\u001B[39mnumpy()\n\u001B[0;32m     94\u001B[0m \u001B[38;5;28;01mreturn\u001B[39;00m \u001B[38;5;28mself\u001B[39m\n",
      "\u001B[1;31mValueError\u001B[0m: could not determine the shape of object type 'Series'"
     ]
    }
   ],
   "source": [
    "# Train the model\n",
    "clf.fit(X=X_train, y=y_train, eval_X=X_val, eval_y=y_val, freeze_layers_prefix=[\"bert.embeddings\", \"bert.encoder\"])"
   ],
   "metadata": {
    "collapsed": false,
    "ExecuteTime": {
     "end_time": "2025-01-05T21:24:18.650885Z",
     "start_time": "2025-01-05T16:44:01.487003Z"
    }
   },
   "id": "a16f34a93b1d3d1f",
   "execution_count": 55
  },
  {
   "cell_type": "code",
   "outputs": [
    {
     "data": {
      "text/plain": "('../../output_models/prod/temp_model\\\\tokenizer_config.json',\n '../../output_models/prod/temp_model\\\\special_tokens_map.json',\n '../../output_models/prod/temp_model\\\\vocab.txt',\n '../../output_models/prod/temp_model\\\\added_tokens.json',\n '../../output_models/prod/temp_model\\\\tokenizer.json')"
     },
     "execution_count": 57,
     "metadata": {},
     "output_type": "execute_result"
    }
   ],
   "source": [
    "clf.model.save_pretrained(\"../../output_models/prod/temp_model\")\n",
    "clf.tokenizer.save_pretrained(\"../../output_models/prod/temp_model\")"
   ],
   "metadata": {
    "collapsed": false,
    "ExecuteTime": {
     "end_time": "2025-01-06T09:20:10.165091Z",
     "start_time": "2025-01-06T09:20:09.634382Z"
    }
   },
   "id": "10b2477ca6628b4a",
   "execution_count": 57
  },
  {
   "cell_type": "code",
   "outputs": [],
   "source": [
    "clf = TransformerClassifier(\n",
    "    model_name=None,\n",
    "    num_labels=num_labels,\n",
    "    local_model_path=\"../../output_models/prod/temp_model\"\n",
    ")"
   ],
   "metadata": {
    "collapsed": false,
    "ExecuteTime": {
     "end_time": "2025-01-06T09:20:14.756737Z",
     "start_time": "2025-01-06T09:20:14.570318Z"
    }
   },
   "id": "dfcbe175afab64fe",
   "execution_count": 58
  },
  {
   "cell_type": "code",
   "outputs": [],
   "source": [
    "# Evaluate the model\n",
    "from sklearn.metrics import classification_report\n",
    "\n",
    "val_texts_list = X_test.tolist()  # Convert to a list if necessary\n",
    "predictions = clf.predict(val_texts_list)"
   ],
   "metadata": {
    "collapsed": false,
    "ExecuteTime": {
     "end_time": "2025-01-06T09:43:45.743953Z",
     "start_time": "2025-01-06T09:41:44.306082Z"
    }
   },
   "id": "f20280bb52c856bc",
   "execution_count": 68
  },
  {
   "cell_type": "code",
   "outputs": [
    {
     "name": "stdout",
     "output_type": "stream",
     "text": [
      "              precision    recall  f1-score   support\n",
      "\n",
      "           0       0.93      0.80      0.86        97\n",
      "           1       0.79      0.92      0.85        77\n",
      "\n",
      "    accuracy                           0.86       174\n",
      "   macro avg       0.86      0.86      0.86       174\n",
      "weighted avg       0.87      0.86      0.86       174\n"
     ]
    }
   ],
   "source": [
    "print(classification_report(y_test, predictions))"
   ],
   "metadata": {
    "collapsed": false,
    "ExecuteTime": {
     "end_time": "2025-01-06T09:43:45.769295Z",
     "start_time": "2025-01-06T09:43:45.746962Z"
    }
   },
   "id": "7a89e51fbf43deb",
   "execution_count": 69
  },
  {
   "cell_type": "code",
   "outputs": [
    {
     "data": {
      "text/plain": "                                         text_to_analyse  label  prediction\n16331  termostato ibpro6 monocromo airzone think radi...      0           0\n17238  azce6thinkrb sn f016f87 permanece atascado bat...      0           0\n1007   funcionan blueface pantalla bloqueada pantalla...      1           1\n7085   pantalla termostato congela pone roja remoto c...      0           0\n170          pantalla queda blanco pantalla queda blanco      1           1\n...                                                  ...    ...         ...\n6921   vivienda sistema acuazone actualmente termosta...      1           1\n4833       pantalla funciona cara azul pantalla funciona      1           1\n7556               cara azul pantalla azul entrada 43661      1           1\n1634   blueface responde queda pillado termostato car...      0           0\n7586   blueface pone pantalla verde reacciona termost...      1           1\n\n[174 rows x 3 columns]",
      "text/html": "<div>\n<style scoped>\n    .dataframe tbody tr th:only-of-type {\n        vertical-align: middle;\n    }\n\n    .dataframe tbody tr th {\n        vertical-align: top;\n    }\n\n    .dataframe thead th {\n        text-align: right;\n    }\n</style>\n<table border=\"1\" class=\"dataframe\">\n  <thead>\n    <tr style=\"text-align: right;\">\n      <th></th>\n      <th>text_to_analyse</th>\n      <th>label</th>\n      <th>prediction</th>\n    </tr>\n  </thead>\n  <tbody>\n    <tr>\n      <th>16331</th>\n      <td>termostato ibpro6 monocromo airzone think radi...</td>\n      <td>0</td>\n      <td>0</td>\n    </tr>\n    <tr>\n      <th>17238</th>\n      <td>azce6thinkrb sn f016f87 permanece atascado bat...</td>\n      <td>0</td>\n      <td>0</td>\n    </tr>\n    <tr>\n      <th>1007</th>\n      <td>funcionan blueface pantalla bloqueada pantalla...</td>\n      <td>1</td>\n      <td>1</td>\n    </tr>\n    <tr>\n      <th>7085</th>\n      <td>pantalla termostato congela pone roja remoto c...</td>\n      <td>0</td>\n      <td>0</td>\n    </tr>\n    <tr>\n      <th>170</th>\n      <td>pantalla queda blanco pantalla queda blanco</td>\n      <td>1</td>\n      <td>1</td>\n    </tr>\n    <tr>\n      <th>...</th>\n      <td>...</td>\n      <td>...</td>\n      <td>...</td>\n    </tr>\n    <tr>\n      <th>6921</th>\n      <td>vivienda sistema acuazone actualmente termosta...</td>\n      <td>1</td>\n      <td>1</td>\n    </tr>\n    <tr>\n      <th>4833</th>\n      <td>pantalla funciona cara azul pantalla funciona</td>\n      <td>1</td>\n      <td>1</td>\n    </tr>\n    <tr>\n      <th>7556</th>\n      <td>cara azul pantalla azul entrada 43661</td>\n      <td>1</td>\n      <td>1</td>\n    </tr>\n    <tr>\n      <th>1634</th>\n      <td>blueface responde queda pillado termostato car...</td>\n      <td>0</td>\n      <td>0</td>\n    </tr>\n    <tr>\n      <th>7586</th>\n      <td>blueface pone pantalla verde reacciona termost...</td>\n      <td>1</td>\n      <td>1</td>\n    </tr>\n  </tbody>\n</table>\n<p>174 rows × 3 columns</p>\n</div>"
     },
     "execution_count": 74,
     "metadata": {},
     "output_type": "execute_result"
    }
   ],
   "source": [
    "# Create a dataframe with the predictions\n",
    "df_predictions = pd.DataFrame(\n",
    "    {\n",
    "        \"text_to_analyse\": X_test,\n",
    "        \"label\": y_test,\n",
    "        \"prediction\": predictions,\n",
    "    }\n",
    ")\n",
    "df_predictions"
   ],
   "metadata": {
    "collapsed": false,
    "ExecuteTime": {
     "end_time": "2025-01-06T09:50:04.853040Z",
     "start_time": "2025-01-06T09:50:04.843118Z"
    }
   },
   "id": "8457f7487bb1239a",
   "execution_count": 74
  },
  {
   "cell_type": "markdown",
   "source": [
    "# Conformal prediction"
   ],
   "metadata": {
    "collapsed": false
   },
   "id": "9d2afebf4cac95f3"
  },
  {
   "cell_type": "code",
   "outputs": [],
   "source": [
    "import numpy as np\n",
    "import matplotlib.pyplot as plt\n",
    "\n",
    "from mapie.classification import MapieClassifier\n",
    "from mapie.metrics import classification_coverage_score"
   ],
   "metadata": {
    "collapsed": false,
    "ExecuteTime": {
     "end_time": "2025-01-06T09:52:51.913549Z",
     "start_time": "2025-01-06T09:52:51.909037Z"
    }
   },
   "id": "811d02831240e70f",
   "execution_count": 75
  },
  {
   "cell_type": "code",
   "outputs": [],
   "source": [
    "# Calculate Softmax score\n",
    "# softmax_score = np.max(y_pred_proba, axis=1)\n",
    "\n",
    "# Initialize the Conformal Prediction classifier\n",
    "mapie_score = MapieClassifier(estimator=clf, cv=\"prefit\", method=\"score\")\n",
    "mapie_score.fit(X_cp, y_cp)\n",
    "\n",
    "alpha = [0.2, 0.1, 0.05]\n",
    "y_pred_score, y_ps_score = mapie_score.predict(X_test, alpha=alpha)"
   ],
   "metadata": {
    "collapsed": false,
    "ExecuteTime": {
     "end_time": "2025-01-06T09:59:20.452659Z",
     "start_time": "2025-01-06T09:53:11.149801Z"
    }
   },
   "id": "c1d60419457824d2",
   "execution_count": 76
  },
  {
   "cell_type": "code",
   "outputs": [
    {
     "data": {
      "text/plain": "(389, 2, 1)"
     },
     "execution_count": 107,
     "metadata": {},
     "output_type": "execute_result"
    }
   ],
   "source": [
    "y_ps_score.shape"
   ],
   "metadata": {
    "collapsed": false,
    "ExecuteTime": {
     "end_time": "2025-01-06T15:38:33.807313Z",
     "start_time": "2025-01-06T15:38:33.792708Z"
    }
   },
   "id": "4517db5d84732b3b",
   "execution_count": 107
  },
  {
   "cell_type": "code",
   "outputs": [],
   "source": [
    "teste = pd.concat([X_test.copy(), y_test.copy()], axis=1)\n",
    "teste[\"outlier\"] = False\n",
    "if y_ps_score is not None:\n",
    "    for i in range(len(teste)):\n",
    "        label_boolean = y_ps_score[i, :, 0]\n",
    "        set_size = np.sum(label_boolean)\n",
    "        if set_size > 1:\n",
    "            teste.loc[df.index[i], \"outlier\"] = True"
   ],
   "metadata": {
    "collapsed": false,
    "ExecuteTime": {
     "end_time": "2025-01-06T15:46:14.432700Z",
     "start_time": "2025-01-06T15:46:14.413145Z"
    }
   },
   "id": "86db5205968500ff",
   "execution_count": 139
  },
  {
   "cell_type": "code",
   "outputs": [],
   "source": [
    "def plot_scores(n, alphas, scores, quantiles):\n",
    "    colors = {0: \"#1f77b4\", 1: \"#ff7f0e\", 2: \"#2ca02c\"}\n",
    "    plt.figure(figsize=(7, 5))\n",
    "    plt.hist(scores, bins=\"auto\")\n",
    "    for i, quantile in enumerate(quantiles):\n",
    "        plt.vlines(\n",
    "            x=quantile,\n",
    "            ymin=0,\n",
    "            ymax=100,\n",
    "            color=colors[i],\n",
    "            ls=\"dashed\",\n",
    "            label=f\"alpha = {alphas[i]}\",\n",
    "        )\n",
    "    plt.title(\"Distribution of scores\")\n",
    "    plt.legend()\n",
    "    plt.xlabel(\"Scores\")\n",
    "    plt.ylabel(\"Count\")\n",
    "    plt.show()"
   ],
   "metadata": {
    "collapsed": false,
    "ExecuteTime": {
     "end_time": "2025-01-06T10:19:21.959663Z",
     "start_time": "2025-01-06T10:19:21.953160Z"
    }
   },
   "id": "7a6192dfd35c02e0",
   "execution_count": 77
  },
  {
   "cell_type": "code",
   "outputs": [
    {
     "data": {
      "text/plain": "<Figure size 700x500 with 1 Axes>",
      "image/png": "[encoded data removed]"
     },
     "metadata": {},
     "output_type": "display_data"
    }
   ],
   "source": [
    "scores = mapie_score.conformity_scores_\n",
    "n = len(mapie_score.conformity_scores_)\n",
    "quantiles = mapie_score.quantiles_\n",
    "\n",
    "plot_scores(n, alpha, scores, quantiles)"
   ],
   "metadata": {
    "collapsed": false,
    "ExecuteTime": {
     "end_time": "2025-01-06T10:19:22.499156Z",
     "start_time": "2025-01-06T10:19:22.194458Z"
    }
   },
   "id": "c015e5a08b22f20c",
   "execution_count": 78
  },
  {
   "cell_type": "code",
   "outputs": [],
   "source": [
    "\"\"\"\n",
    "    0: 301 - Bloqueado\n",
    "    1: 303 - Pantalla\n",
    "\"\"\"\n",
    "df2 = pd.read_parquet(\"../../output_data/prod/temp_supervised_dataset_2.parquet\")\n",
    "teste = clf.predict_proba(df2[df2[\"label\"]==2][\"processed_text_to_analyse\"])"
   ],
   "metadata": {
    "collapsed": false,
    "ExecuteTime": {
     "end_time": "2025-01-06T10:26:29.483909Z",
     "start_time": "2025-01-06T10:21:38.868197Z"
    }
   },
   "id": "48886c8070f50b6a",
   "execution_count": 86
  },
  {
   "cell_type": "code",
   "outputs": [
    {
     "data": {
      "text/plain": "<Figure size 640x480 with 1 Axes>",
      "image/png": "[encoded data removed]"
     },
     "metadata": {},
     "output_type": "display_data"
    }
   ],
   "source": [
    "# Plot hist\n",
    "plt.hist(teste[:,1], bins=20)\n",
    "plt.show()"
   ],
   "metadata": {
    "collapsed": false,
    "ExecuteTime": {
     "end_time": "2025-01-06T10:26:29.815648Z",
     "start_time": "2025-01-06T10:26:29.503713Z"
    }
   },
   "id": "c37e05aa4f27b871",
   "execution_count": 87
  },
  {
   "cell_type": "code",
   "outputs": [
    {
     "data": {
      "text/plain": "array([False, False])"
     },
     "execution_count": 95,
     "metadata": {},
     "output_type": "execute_result"
    }
   ],
   "source": [
    "(teste[0]>0.1) & (teste[0]<0.9) & (teste[1]>0.1) & (teste[1]<0.9)"
   ],
   "metadata": {
    "collapsed": false,
    "ExecuteTime": {
     "end_time": "2025-01-06T10:29:19.767929Z",
     "start_time": "2025-01-06T10:29:19.758017Z"
    }
   },
   "id": "d83015db75c0b89f",
   "execution_count": 95
  },
  {
   "cell_type": "code",
   "outputs": [
    {
     "data": {
      "text/plain": "(389, 2)"
     },
     "execution_count": 101,
     "metadata": {},
     "output_type": "execute_result"
    }
   ],
   "source": [
    "teste.shape"
   ],
   "metadata": {
    "collapsed": false,
    "ExecuteTime": {
     "end_time": "2025-01-06T10:30:53.835610Z",
     "start_time": "2025-01-06T10:30:53.829576Z"
    }
   },
   "id": "3d75a1bb9408c107",
   "execution_count": 101
  },
  {
   "cell_type": "code",
   "outputs": [
    {
     "data": {
      "text/plain": "array([[0.7487137 , 0.25128636],\n       [0.91418964, 0.08581033],\n       [0.7632337 , 0.2367663 ],\n       [0.6143129 , 0.38568714],\n       [0.6476796 , 0.3523203 ],\n       [0.89624876, 0.10375124],\n       [0.25428477, 0.7457153 ],\n       [0.34506223, 0.65493774],\n       [0.6557296 , 0.34427038],\n       [0.86133194, 0.13866812],\n       [0.2995324 , 0.7004676 ],\n       [0.2995324 , 0.7004676 ],\n       [0.9405509 , 0.05944907],\n       [0.94627   , 0.05372995],\n       [0.7943125 , 0.20568748],\n       [0.06860282, 0.93139714],\n       [0.938235  , 0.061765  ],\n       [0.9071637 , 0.09283628],\n       [0.85309315, 0.14690687],\n       [0.8915132 , 0.10848675],\n       [0.13525353, 0.86474645],\n       [0.5088101 , 0.4911899 ],\n       [0.77189255, 0.22810741],\n       [0.7663893 , 0.23361067],\n       [0.7740639 , 0.22593608],\n       [0.565413  , 0.434587  ],\n       [0.8599302 , 0.14006981],\n       [0.56044555, 0.43955442],\n       [0.93465436, 0.06534562],\n       [0.9290651 , 0.07093485],\n       [0.0679997 , 0.9320002 ],\n       [0.0679997 , 0.9320002 ],\n       [0.0679997 , 0.9320002 ],\n       [0.0679997 , 0.9320002 ],\n       [0.10282248, 0.8971775 ],\n       [0.0679997 , 0.9320002 ],\n       [0.15443023, 0.84556973],\n       [0.0679997 , 0.9320002 ],\n       [0.0679997 , 0.9320002 ],\n       [0.0679997 , 0.9320002 ],\n       [0.0679997 , 0.9320002 ],\n       [0.0679997 , 0.9320002 ],\n       [0.7804814 , 0.21951863],\n       [0.8268676 , 0.17313245],\n       [0.18273328, 0.81726676],\n       [0.90830815, 0.09169187],\n       [0.9494246 , 0.05057541],\n       [0.11950291, 0.88049704],\n       [0.77964115, 0.22035888],\n       [0.8323016 , 0.16769841],\n       [0.8065262 , 0.19347377],\n       [0.3578549 , 0.64214504],\n       [0.2070435 , 0.7929565 ],\n       [0.17475578, 0.82524425],\n       [0.8832204 , 0.11677969],\n       [0.7661656 , 0.23383433],\n       [0.9163656 , 0.08363438],\n       [0.301978  , 0.698022  ],\n       [0.26675835, 0.7332416 ],\n       [0.9338057 , 0.06619436],\n       [0.17560682, 0.8243932 ],\n       [0.71952665, 0.28047332],\n       [0.9405331 , 0.05946695],\n       [0.35986662, 0.6401334 ],\n       [0.932291  , 0.06770902],\n       [0.932291  , 0.06770902],\n       [0.9138802 , 0.08611978],\n       [0.84134734, 0.1586527 ],\n       [0.6273265 , 0.3726735 ],\n       [0.8602939 , 0.13970609],\n       [0.9284207 , 0.0715793 ],\n       [0.53337544, 0.46662462],\n       [0.43891492, 0.5610851 ],\n       [0.06934354, 0.9306565 ],\n       [0.06934354, 0.9306565 ],\n       [0.06934354, 0.9306565 ],\n       [0.94384897, 0.05615102],\n       [0.65556043, 0.34443948],\n       [0.65556043, 0.34443948],\n       [0.3502519 , 0.6497481 ],\n       [0.22524963, 0.77475035],\n       [0.9391413 , 0.0608587 ],\n       [0.14790139, 0.85209864],\n       [0.8617438 , 0.13825616],\n       [0.20303524, 0.79696476],\n       [0.18342042, 0.8165796 ],\n       [0.18342042, 0.8165796 ],\n       [0.18470718, 0.8152928 ],\n       [0.8608521 , 0.1391479 ],\n       [0.89034766, 0.10965232],\n       [0.55425644, 0.44574356],\n       [0.8505778 , 0.14942224],\n       [0.6894981 , 0.31050184],\n       [0.9220129 , 0.07798705],\n       [0.67304873, 0.32695127],\n       [0.8937022 , 0.10629781],\n       [0.9478833 , 0.05211665],\n       [0.9478833 , 0.05211665],\n       [0.9478833 , 0.05211665],\n       [0.27084693, 0.72915304],\n       [0.7599707 , 0.24002923],\n       [0.3152627 , 0.68473727],\n       [0.8850453 , 0.11495467],\n       [0.85961485, 0.14038515],\n       [0.746889  , 0.25311103],\n       [0.9495538 , 0.0504462 ],\n       [0.89847815, 0.10152189],\n       [0.7955967 , 0.20440322],\n       [0.411906  , 0.588094  ],\n       [0.90102774, 0.09897229],\n       [0.5938503 , 0.40614966],\n       [0.8113585 , 0.1886415 ],\n       [0.633431  , 0.36656895],\n       [0.6334311 , 0.36656895],\n       [0.6334311 , 0.36656895],\n       [0.4798235 , 0.5201765 ],\n       [0.7902742 , 0.20972584],\n       [0.7902742 , 0.20972584],\n       [0.746889  , 0.25311103],\n       [0.7440249 , 0.25597513],\n       [0.6278077 , 0.37219235],\n       [0.10862403, 0.89137596],\n       [0.8570781 , 0.14292195],\n       [0.9078189 , 0.09218112],\n       [0.9078189 , 0.09218112],\n       [0.9078189 , 0.09218112],\n       [0.8406956 , 0.15930441],\n       [0.83187675, 0.16812323],\n       [0.633431  , 0.36656895],\n       [0.9343028 , 0.06569716],\n       [0.7486637 , 0.25133622],\n       [0.64976025, 0.35023978],\n       [0.53578085, 0.46421915],\n       [0.8671762 , 0.1328238 ],\n       [0.30499306, 0.695007  ],\n       [0.92823017, 0.07176984],\n       [0.7385883 , 0.26141167],\n       [0.08361507, 0.91638494],\n       [0.5014333 , 0.49856675],\n       [0.0821034 , 0.9178967 ],\n       [0.0821034 , 0.9178967 ],\n       [0.0821034 , 0.9178967 ],\n       [0.0821034 , 0.9178967 ],\n       [0.89636683, 0.10363318],\n       [0.93149674, 0.06850322],\n       [0.9361781 , 0.06382186],\n       [0.8984924 , 0.10150759],\n       [0.7713307 , 0.22866926],\n       [0.91524416, 0.08475588],\n       [0.41703948, 0.58296055],\n       [0.77242696, 0.22757299],\n       [0.9199289 , 0.08007115],\n       [0.07260171, 0.9273983 ],\n       [0.92129445, 0.07870554],\n       [0.62613404, 0.3738659 ],\n       [0.8779851 , 0.1220149 ],\n       [0.6610026 , 0.33899736],\n       [0.94306856, 0.05693141],\n       [0.94806165, 0.05193834],\n       [0.918718  , 0.08128202],\n       [0.6954763 , 0.3045237 ],\n       [0.19824404, 0.80175596],\n       [0.8464113 , 0.15358868],\n       [0.94599044, 0.05400961],\n       [0.40864348, 0.5913565 ],\n       [0.62599003, 0.37401003],\n       [0.94975215, 0.05024787],\n       [0.79638815, 0.20361188],\n       [0.8164427 , 0.1835572 ],\n       [0.6157233 , 0.38427672],\n       [0.8545096 , 0.1454904 ],\n       [0.6940719 , 0.30592805],\n       [0.13024637, 0.8697536 ],\n       [0.8094053 , 0.19059464],\n       [0.3441989 , 0.65580106],\n       [0.54058605, 0.4594139 ],\n       [0.71763706, 0.28236297],\n       [0.9291023 , 0.07089775],\n       [0.9291023 , 0.07089775],\n       [0.9291023 , 0.07089775],\n       [0.17443392, 0.82556605],\n       [0.4820375 , 0.5179625 ],\n       [0.4820375 , 0.5179625 ],\n       [0.5290418 , 0.47095817],\n       [0.40086213, 0.5991379 ],\n       [0.5537355 , 0.44626445],\n       [0.5899303 , 0.41006976],\n       [0.5899303 , 0.41006976],\n       [0.5899303 , 0.41006976],\n       [0.5899303 , 0.41006976],\n       [0.37352806, 0.62647194],\n       [0.865278  , 0.13472202],\n       [0.5963576 , 0.40364245],\n       [0.5963576 , 0.40364245],\n       [0.5963576 , 0.40364245],\n       [0.5963576 , 0.40364245],\n       [0.5963576 , 0.40364245],\n       [0.5963576 , 0.40364245],\n       [0.5963576 , 0.40364245],\n       [0.74560183, 0.2543982 ],\n       [0.7008664 , 0.2991336 ],\n       [0.88735765, 0.11264234],\n       [0.88735765, 0.11264234],\n       [0.88735765, 0.11264234],\n       [0.6393338 , 0.3606662 ],\n       [0.928827  , 0.07117296],\n       [0.6640209 , 0.33597913],\n       [0.8487484 , 0.15125163],\n       [0.67052495, 0.32947505],\n       [0.6269904 , 0.3730096 ],\n       [0.6269904 , 0.3730096 ],\n       [0.6269904 , 0.3730096 ],\n       [0.6269904 , 0.3730096 ],\n       [0.6269904 , 0.3730096 ],\n       [0.6393338 , 0.3606662 ],\n       [0.9395418 , 0.06045823],\n       [0.6472972 , 0.35270277],\n       [0.6647531 , 0.33524695],\n       [0.9492104 , 0.05078957],\n       [0.3609642 , 0.63903576],\n       [0.1640576 , 0.8359424 ],\n       [0.7916613 , 0.20833863],\n       [0.8649783 , 0.13502166],\n       [0.8649783 , 0.13502166],\n       [0.8649783 , 0.13502166],\n       [0.8649783 , 0.13502166],\n       [0.919829  , 0.08017095],\n       [0.895785  , 0.10421506]], dtype=float32)"
     },
     "execution_count": 102,
     "metadata": {},
     "output_type": "execute_result"
    }
   ],
   "source": [
    "teste[(teste[:,0]>0.05) & (teste[:,0]<0.95) & (teste[:,0]>0.05) & (teste[:,0]<0.95)]"
   ],
   "metadata": {
    "collapsed": false,
    "ExecuteTime": {
     "end_time": "2025-01-06T10:33:18.929254Z",
     "start_time": "2025-01-06T10:33:18.918618Z"
    }
   },
   "id": "fa71513d5407873a",
   "execution_count": 102
  },
  {
   "cell_type": "code",
   "outputs": [],
   "source": [
    "y_pred_score, y_ps_score = mapie_score.predict(df2[df2[\"label\"]==2][\"processed_text_to_analyse\"], alpha=0.1)"
   ],
   "metadata": {
    "collapsed": false,
    "ExecuteTime": {
     "end_time": "2025-01-06T10:44:19.996155Z",
     "start_time": "2025-01-06T10:33:30.324795Z"
    }
   },
   "id": "962c733b7c9de97e",
   "execution_count": 103
  },
  {
   "cell_type": "code",
   "outputs": [
    {
     "data": {
      "text/plain": "<Figure size 700x500 with 1 Axes>",
      "image/png": "[encoded data removed]"
     },
     "metadata": {},
     "output_type": "display_data"
    }
   ],
   "source": [
    "scores = mapie_score.conformity_scores_\n",
    "n = len(mapie_score.conformity_scores_)\n",
    "quantiles = mapie_score.quantiles_\n",
    "\n",
    "plot_scores(n, alpha, scores, quantiles)"
   ],
   "metadata": {
    "collapsed": false,
    "ExecuteTime": {
     "end_time": "2025-01-06T10:44:20.444586Z",
     "start_time": "2025-01-06T10:44:20.013569Z"
    }
   },
   "id": "b0338f4f2ecc497e",
   "execution_count": 104
  },
  {
   "cell_type": "code",
   "outputs": [],
   "source": [],
   "metadata": {
    "collapsed": false
   },
   "id": "8770137fdd68158b"
  }
 ],
 "metadata": {
  "kernelspec": {
   "display_name": "Python 3",
   "language": "python",
   "name": "python3"
  },
  "language_info": {
   "codemirror_mode": {
    "name": "ipython",
    "version": 2
   },
   "file_extension": ".py",
   "mimetype": "text/x-python",
   "name": "python",
   "nbconvert_exporter": "python",
   "pygments_lexer": "ipython2",
   "version": "2.7.6"
  }
 },
 "nbformat": 4,
 "nbformat_minor": 5
}
