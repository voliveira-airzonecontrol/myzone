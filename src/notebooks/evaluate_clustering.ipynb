{
 "cells": [
  {
   "cell_type": "code",
   "id": "initial_id",
   "metadata": {
    "collapsed": true,
    "ExecuteTime": {
     "end_time": "2025-01-29T15:16:22.868425Z",
     "start_time": "2025-01-29T15:16:12.884830Z"
    }
   },
   "source": [
    "from src.training.model import TransformerClassifier\n",
    "from src.utils import load_config\n",
    "\n",
    "import pandas as pd\n",
    "import numpy as np\n",
    "\n",
    "from sklearn.cluster import DBSCAN\n",
    "from sklearn.metrics import silhouette_score\n",
    "from sklearn.model_selection import ParameterGrid\n",
    "from sklearn.metrics.pairwise import cosine_similarity"
   ],
   "outputs": [],
   "execution_count": 1
  },
  {
   "metadata": {
    "ExecuteTime": {
     "end_time": "2025-01-29T15:16:22.887991Z",
     "start_time": "2025-01-29T15:16:22.869429Z"
    }
   },
   "cell_type": "code",
   "source": [
    "# Load config\n",
    "env = \"prod\"\n",
    "model_type = \"BERT\"\n",
    "model_version = \"prod\"\n",
    "output_reports = f\"../../output_reports/{model_version}/clustering\"\n",
    "\n",
    "training_config = load_config(\n",
    "    file_name=\"training_config\", env=env, folder=\"../../config\"\n",
    ")"
   ],
   "id": "5d94e0cb53f5ef8d",
   "outputs": [],
   "execution_count": 2
  },
  {
   "metadata": {
    "ExecuteTime": {
     "end_time": "2025-01-29T15:16:22.891962Z",
     "start_time": "2025-01-29T15:16:22.888995Z"
    }
   },
   "cell_type": "code",
   "source": "input_new_class = f\"../../output_reports/{model_version}/clustering/new_class.parquet\"",
   "id": "bfa483bbcc6d368d",
   "outputs": [],
   "execution_count": 3
  },
  {
   "metadata": {
    "ExecuteTime": {
     "end_time": "2025-01-29T15:16:25.923518Z",
     "start_time": "2025-01-29T15:16:25.827699Z"
    }
   },
   "cell_type": "code",
   "source": "df = pd.read_parquet(input_new_class)",
   "id": "6ce975d3127bc4ee",
   "outputs": [],
   "execution_count": 4
  },
  {
   "metadata": {
    "ExecuteTime": {
     "end_time": "2025-01-29T15:16:26.173723Z",
     "start_time": "2025-01-29T15:16:26.168726Z"
    }
   },
   "cell_type": "code",
   "source": [
    "df[\"ground_truth\"] = df[\"label\"].apply(lambda x: 1 if x == 2 else 0)\n",
    "df[\"predicted\"] = df[\"new_class\"].apply(lambda x: 1 if x else 0)"
   ],
   "id": "78d5481cf9676aba",
   "outputs": [],
   "execution_count": 5
  },
  {
   "metadata": {
    "ExecuteTime": {
     "end_time": "2025-01-29T15:16:26.937850Z",
     "start_time": "2025-01-29T15:16:26.933371Z"
    }
   },
   "cell_type": "code",
   "source": [
    "y = df[\"ground_truth\"]\n",
    "y_pred = df[\"predicted\"]"
   ],
   "id": "59df9a598533405",
   "outputs": [],
   "execution_count": 6
  },
  {
   "metadata": {
    "ExecuteTime": {
     "end_time": "2025-01-29T15:16:29.425063Z",
     "start_time": "2025-01-29T15:16:29.269420Z"
    }
   },
   "cell_type": "code",
   "source": [
    "# Print the confusion matrix\n",
    "from sklearn.metrics import confusion_matrix, classification_report\n",
    "import seaborn as sns\n",
    "import matplotlib.pyplot as plt\n",
    "\n",
    "cm = confusion_matrix(y, y_pred)\n",
    "fig = plt.figure(figsize=(10, 10))\n",
    "sns.heatmap(cm, annot=True, fmt=\"d\", cmap=\"Blues\")\n",
    "plt.xlabel(\"Predicted\")\n",
    "plt.ylabel(\"Actual\")\n",
    "plt.show()"
   ],
   "id": "bf63076e9000f771",
   "outputs": [
    {
     "data": {
      "text/plain": [
       "<Figure size 1000x1000 with 2 Axes>"
      ],
      "image/png": "[encoded data removed]"
     },
     "metadata": {},
     "output_type": "display_data"
    }
   ],
   "execution_count": 7
  },
  {
   "metadata": {
    "ExecuteTime": {
     "end_time": "2025-01-29T15:16:36.306937Z",
     "start_time": "2025-01-29T15:16:36.141671Z"
    }
   },
   "cell_type": "code",
   "source": [
    "from src.evaluating.utils import plot_confusion_matrix, accuracy_score\n",
    "import os\n",
    "\n",
    "plot_confusion_matrix(\n",
    "    cm,\n",
    "    classes=np.unique(y),\n",
    "    title=\"Confusion Matrix - New class detection\",\n",
    "    output_path=os.path.join(output_reports, \"new_class_confusion_matrix.png\"),\n",
    ")"
   ],
   "id": "f8a261c93b3f0123",
   "outputs": [],
   "execution_count": 8
  },
  {
   "metadata": {
    "ExecuteTime": {
     "end_time": "2025-01-29T15:16:51.258555Z",
     "start_time": "2025-01-29T15:16:51.247601Z"
    }
   },
   "cell_type": "code",
   "source": [
    "clf_report = classification_report(y, y_pred)\n",
    "acc = accuracy_score(y, y_pred)\n",
    "print(f\"Accuracy: {acc:.4f}\")\n",
    "print(clf_report)"
   ],
   "id": "e883e00a523392b2",
   "outputs": [
    {
     "name": "stdout",
     "output_type": "stream",
     "text": [
      "Accuracy: 0.6316\n",
      "              precision    recall  f1-score   support\n",
      "\n",
      "           0       0.39      0.57      0.46        21\n",
      "           1       0.80      0.65      0.72        55\n",
      "\n",
      "    accuracy                           0.63        76\n",
      "   macro avg       0.59      0.61      0.59        76\n",
      "weighted avg       0.69      0.63      0.65        76\n",
      "\n"
     ]
    }
   ],
   "execution_count": 9
  },
  {
   "metadata": {
    "ExecuteTime": {
     "end_time": "2025-01-29T15:17:00.635876Z",
     "start_time": "2025-01-29T15:17:00.630276Z"
    }
   },
   "cell_type": "code",
   "source": [
    "report_path = os.path.join(output_reports, \"new_class_classification_report.txt\")\n",
    "with open(report_path, \"w\", encoding=\"utf-8\") as f:\n",
    "    f.write(\"New Class Detection\\n\")\n",
    "    f.write(f\"Model version: {model_version}\\n\\n\")\n",
    "    f.write(\"Accuracy:\\n\")\n",
    "    f.write(f\"{acc}\\n\\n\")\n",
    "    f.write(\"Confusion Matrix:\\n\")\n",
    "    f.write(f\"{cm}\\n\\n\")\n",
    "    f.write(\"Classification Report:\\n\")\n",
    "    f.write(f\"{clf_report}\\n\")"
   ],
   "id": "501e1e52c7d0cdb2",
   "outputs": [],
   "execution_count": 10
  },
  {
   "metadata": {
    "ExecuteTime": {
     "end_time": "2025-01-29T15:17:02.067112Z",
     "start_time": "2025-01-29T15:17:02.050133Z"
    }
   },
   "cell_type": "code",
   "source": "df",
   "id": "7227421d7f88e582",
   "outputs": [
    {
     "data": {
      "text/plain": [
       "                            processed_text_to_analyse  label  \\\n",
       "0   funcionan blueface pantalla bloqueada pantalla...      1   \n",
       "1         pantalla queda blanco pantalla queda blanco      1   \n",
       "2   termostato funciona pantalla termostato bluefa...      1   \n",
       "3   fallo display fallo termostato nivel tactil fa...      1   \n",
       "4   termostato funciona pantalla digital completam...      0   \n",
       "..                                                ...    ...   \n",
       "71                  problema conectores rapidos placa      2   \n",
       "72  interfaz blue face funciona diagnosticado airz...      2   \n",
       "73      problemas comunicacion termostato comunicarse      2   \n",
       "74  numero archivo linea directa 240300921 sustitu...      2   \n",
       "75  2 mandos distancia defectuosos comunicaciones ...      2   \n",
       "\n",
       "                                           embeddings  cluster  \\\n",
       "0   [0.51032954, -0.13367134, -0.9447641, 0.606145...       -1   \n",
       "1   [1.1217836, 0.33601546, -0.53032863, -0.476140...       -1   \n",
       "2   [0.95283014, 0.37829226, -0.5700364, 0.1369481...        0   \n",
       "3   [0.667092, 0.69482964, -0.43033233, 1.0327048,...       -1   \n",
       "4   [0.77069706, 0.059462972, -0.9304868, 0.593897...        0   \n",
       "..                                                ...      ...   \n",
       "71  [0.9285592, 0.15875724, -0.41858453, -0.164686...        0   \n",
       "72  [1.1301181, 0.14772631, -0.15343514, 0.3054178...       -1   \n",
       "73  [0.43008572, 0.42588198, 0.3694204, 0.6083842,...        1   \n",
       "74  [0.54400814, 0.19692226, -0.31303784, 0.212936...        0   \n",
       "75  [0.8717758, -0.24548602, -0.53269094, 0.713954...        0   \n",
       "\n",
       "    distance_to_centroids  new_class  special_case  ground_truth  predicted  \n",
       "0               11.010715      False          True             0          0  \n",
       "1               11.458381      False          True             0          0  \n",
       "2                7.077471       True         False             0          1  \n",
       "3               12.614278      False          True             0          0  \n",
       "4               11.563498       True         False             0          1  \n",
       "..                    ...        ...           ...           ...        ...  \n",
       "71               8.277205       True         False             1          1  \n",
       "72              12.774030      False          True             1          0  \n",
       "73               8.630570       True         False             1          1  \n",
       "74               8.978546       True         False             1          1  \n",
       "75               7.503250       True         False             1          1  \n",
       "\n",
       "[76 rows x 9 columns]"
      ],
      "text/html": [
       "<div>\n",
       "<style scoped>\n",
       "    .dataframe tbody tr th:only-of-type {\n",
       "        vertical-align: middle;\n",
       "    }\n",
       "\n",
       "    .dataframe tbody tr th {\n",
       "        vertical-align: top;\n",
       "    }\n",
       "\n",
       "    .dataframe thead th {\n",
       "        text-align: right;\n",
       "    }\n",
       "</style>\n",
       "<table border=\"1\" class=\"dataframe\">\n",
       "  <thead>\n",
       "    <tr style=\"text-align: right;\">\n",
       "      <th></th>\n",
       "      <th>processed_text_to_analyse</th>\n",
       "      <th>label</th>\n",
       "      <th>embeddings</th>\n",
       "      <th>cluster</th>\n",
       "      <th>distance_to_centroids</th>\n",
       "      <th>new_class</th>\n",
       "      <th>special_case</th>\n",
       "      <th>ground_truth</th>\n",
       "      <th>predicted</th>\n",
       "    </tr>\n",
       "  </thead>\n",
       "  <tbody>\n",
       "    <tr>\n",
       "      <th>0</th>\n",
       "      <td>funcionan blueface pantalla bloqueada pantalla...</td>\n",
       "      <td>1</td>\n",
       "      <td>[0.51032954, -0.13367134, -0.9447641, 0.606145...</td>\n",
       "      <td>-1</td>\n",
       "      <td>11.010715</td>\n",
       "      <td>False</td>\n",
       "      <td>True</td>\n",
       "      <td>0</td>\n",
       "      <td>0</td>\n",
       "    </tr>\n",
       "    <tr>\n",
       "      <th>1</th>\n",
       "      <td>pantalla queda blanco pantalla queda blanco</td>\n",
       "      <td>1</td>\n",
       "      <td>[1.1217836, 0.33601546, -0.53032863, -0.476140...</td>\n",
       "      <td>-1</td>\n",
       "      <td>11.458381</td>\n",
       "      <td>False</td>\n",
       "      <td>True</td>\n",
       "      <td>0</td>\n",
       "      <td>0</td>\n",
       "    </tr>\n",
       "    <tr>\n",
       "      <th>2</th>\n",
       "      <td>termostato funciona pantalla termostato bluefa...</td>\n",
       "      <td>1</td>\n",
       "      <td>[0.95283014, 0.37829226, -0.5700364, 0.1369481...</td>\n",
       "      <td>0</td>\n",
       "      <td>7.077471</td>\n",
       "      <td>True</td>\n",
       "      <td>False</td>\n",
       "      <td>0</td>\n",
       "      <td>1</td>\n",
       "    </tr>\n",
       "    <tr>\n",
       "      <th>3</th>\n",
       "      <td>fallo display fallo termostato nivel tactil fa...</td>\n",
       "      <td>1</td>\n",
       "      <td>[0.667092, 0.69482964, -0.43033233, 1.0327048,...</td>\n",
       "      <td>-1</td>\n",
       "      <td>12.614278</td>\n",
       "      <td>False</td>\n",
       "      <td>True</td>\n",
       "      <td>0</td>\n",
       "      <td>0</td>\n",
       "    </tr>\n",
       "    <tr>\n",
       "      <th>4</th>\n",
       "      <td>termostato funciona pantalla digital completam...</td>\n",
       "      <td>0</td>\n",
       "      <td>[0.77069706, 0.059462972, -0.9304868, 0.593897...</td>\n",
       "      <td>0</td>\n",
       "      <td>11.563498</td>\n",
       "      <td>True</td>\n",
       "      <td>False</td>\n",
       "      <td>0</td>\n",
       "      <td>1</td>\n",
       "    </tr>\n",
       "    <tr>\n",
       "      <th>...</th>\n",
       "      <td>...</td>\n",
       "      <td>...</td>\n",
       "      <td>...</td>\n",
       "      <td>...</td>\n",
       "      <td>...</td>\n",
       "      <td>...</td>\n",
       "      <td>...</td>\n",
       "      <td>...</td>\n",
       "      <td>...</td>\n",
       "    </tr>\n",
       "    <tr>\n",
       "      <th>71</th>\n",
       "      <td>problema conectores rapidos placa</td>\n",
       "      <td>2</td>\n",
       "      <td>[0.9285592, 0.15875724, -0.41858453, -0.164686...</td>\n",
       "      <td>0</td>\n",
       "      <td>8.277205</td>\n",
       "      <td>True</td>\n",
       "      <td>False</td>\n",
       "      <td>1</td>\n",
       "      <td>1</td>\n",
       "    </tr>\n",
       "    <tr>\n",
       "      <th>72</th>\n",
       "      <td>interfaz blue face funciona diagnosticado airz...</td>\n",
       "      <td>2</td>\n",
       "      <td>[1.1301181, 0.14772631, -0.15343514, 0.3054178...</td>\n",
       "      <td>-1</td>\n",
       "      <td>12.774030</td>\n",
       "      <td>False</td>\n",
       "      <td>True</td>\n",
       "      <td>1</td>\n",
       "      <td>0</td>\n",
       "    </tr>\n",
       "    <tr>\n",
       "      <th>73</th>\n",
       "      <td>problemas comunicacion termostato comunicarse</td>\n",
       "      <td>2</td>\n",
       "      <td>[0.43008572, 0.42588198, 0.3694204, 0.6083842,...</td>\n",
       "      <td>1</td>\n",
       "      <td>8.630570</td>\n",
       "      <td>True</td>\n",
       "      <td>False</td>\n",
       "      <td>1</td>\n",
       "      <td>1</td>\n",
       "    </tr>\n",
       "    <tr>\n",
       "      <th>74</th>\n",
       "      <td>numero archivo linea directa 240300921 sustitu...</td>\n",
       "      <td>2</td>\n",
       "      <td>[0.54400814, 0.19692226, -0.31303784, 0.212936...</td>\n",
       "      <td>0</td>\n",
       "      <td>8.978546</td>\n",
       "      <td>True</td>\n",
       "      <td>False</td>\n",
       "      <td>1</td>\n",
       "      <td>1</td>\n",
       "    </tr>\n",
       "    <tr>\n",
       "      <th>75</th>\n",
       "      <td>2 mandos distancia defectuosos comunicaciones ...</td>\n",
       "      <td>2</td>\n",
       "      <td>[0.8717758, -0.24548602, -0.53269094, 0.713954...</td>\n",
       "      <td>0</td>\n",
       "      <td>7.503250</td>\n",
       "      <td>True</td>\n",
       "      <td>False</td>\n",
       "      <td>1</td>\n",
       "      <td>1</td>\n",
       "    </tr>\n",
       "  </tbody>\n",
       "</table>\n",
       "<p>76 rows × 9 columns</p>\n",
       "</div>"
      ]
     },
     "execution_count": 11,
     "metadata": {},
     "output_type": "execute_result"
    }
   ],
   "execution_count": 11
  },
  {
   "metadata": {},
   "cell_type": "code",
   "outputs": [],
   "execution_count": null,
   "source": "",
   "id": "eeb4401235617b74"
  }
 ],
 "metadata": {
  "kernelspec": {
   "display_name": "Python 3",
   "language": "python",
   "name": "python3"
  },
  "language_info": {
   "codemirror_mode": {
    "name": "ipython",
    "version": 2
   },
   "file_extension": ".py",
   "mimetype": "text/x-python",
   "name": "python",
   "nbconvert_exporter": "python",
   "pygments_lexer": "ipython2",
   "version": "2.7.6"
  }
 },
 "nbformat": 4,
 "nbformat_minor": 5
}
