{
 "cells": [
  {
   "cell_type": "code",
   "execution_count": 70,
   "id": "initial_id",
   "metadata": {
    "collapsed": true,
    "ExecuteTime": {
     "end_time": "2025-01-06T17:15:53.768518Z",
     "start_time": "2025-01-06T17:15:53.760438Z"
    }
   },
   "outputs": [],
   "source": [
    "import pandas as pd"
   ]
  },
  {
   "cell_type": "code",
   "outputs": [],
   "source": [
    "# Load the dataset\n",
    "df = pd.read_excel(r\"D:\\00-Master\\TFM\\Project\\Datos - Myzone\\labeled_dataset\\tfm - vitor\\Dataset_myzone Debora.xlsx\")"
   ],
   "metadata": {
    "collapsed": false,
    "ExecuteTime": {
     "end_time": "2025-01-06T17:16:51.664397Z",
     "start_time": "2025-01-06T17:15:57.897137Z"
    }
   },
   "id": "101cdf0504e306f",
   "execution_count": 71
  },
  {
   "cell_type": "code",
   "outputs": [],
   "source": [
    "df.to_csv(\"../../raw_data/prod/reviewed_dataset.csv\")"
   ],
   "metadata": {
    "collapsed": false,
    "ExecuteTime": {
     "end_time": "2025-01-06T17:17:50.976416Z",
     "start_time": "2025-01-06T17:17:31.437652Z"
    }
   },
   "id": "8a567442a5c77007",
   "execution_count": 74
  },
  {
   "cell_type": "code",
   "outputs": [
    {
     "name": "stderr",
     "output_type": "stream",
     "text": [
      "C:\\Users\\vos_v\\AppData\\Local\\Temp\\ipykernel_12416\\3960467266.py:1: DtypeWarning: Columns (69) have mixed types. Specify dtype option on import or set low_memory=False.\n",
      "  df = pd.read_csv(r\"../../raw_data/prod/reviewed_dataset.csv\")\n"
     ]
    }
   ],
   "source": [
    "df = pd.read_csv(r\"../../raw_data/prod/reviewed_dataset.csv\")"
   ],
   "metadata": {
    "collapsed": false,
    "ExecuteTime": {
     "end_time": "2025-01-06T17:18:56.656088Z",
     "start_time": "2025-01-06T17:18:49.520982Z"
    }
   },
   "id": "4ee8102e17b22605",
   "execution_count": 76
  },
  {
   "cell_type": "code",
   "outputs": [
    {
     "data": {
      "text/plain": "       Unnamed: 0      codigo  id_pieza  cod_articulo  \\\n708           708  K2VRLW1QBB     31920  AZCE6THINKRB   \n969           969  L2HVLGHR24     32679   AZCE6FLEXA3   \n18630       18630  M2VRAWTH02     88271   AZPV8CB1IAQ   \n206           206  LGRRNW5Q3B     30194  AZCE6THINKCB   \n7661         7661  AW5PAGRQ61     50962  PP6DAIST07L6   \n765           765  LGVQLHBN71     32046   AZCE6LITECB   \n11180       11180  ZMPNYGGC69     61707  AZCE6THINKRB   \n15300       15300  LJQWMJXPA4     76002   AZX6WSC5GER   \n11310       11310  Y2DMYGKC63     62207   AZPV0MOTCMC   \n19014       19014  MGNXAGRM9D     89942  AZCE6THINKRB   \n\n                                desc_problema_translated  \\\n708    El tacto de los termostatos se desprende y es ...   \n969                           ERROR 0 EN LOS TERMOSTATOS   \n18630  DEVOLUCIÓN DE REPUESTOS SUMINISTRADOS PARA ASI...   \n206                      NO FUNCIONAN FUNCIONES TÁCTILES   \n7661   Pérdida de emparejamiento de termostatos Lite ...   \n765    VER EL INFORME DE LA LÍNEA DIRECTA CON NUESTRO...   \n11180  - Error de comunicación._x000D_\\n- pantalla de...   \n15300  Respuesta de la línea directa:_x000D_\\nEl tick...   \n11310                                            N°72357   \n19014                                permanece congelado   \n\n                                descripcion_translated  \\\n708               TERMOSTATO THINK RADIO BLANC AIRZONE   \n969    *CE6 - CENTRAL DEL SISTEMA AIRZONE FLEXA 3.0 6Z   \n18630      REPUESTO PLACA CENTRAL AIRZONE EASYZONE EZ8   \n206                                         TERMOSTATO   \n7661                                     PLACA CENTRAL   \n765                                                NaN   \n11180                                              NaN   \n15300                                     SERVIDOR WEB   \n11310   Motor de compuerta circular Airzone AZPV0MOTC™   \n19014                                       TERMOSTATO   \n\n                                     problema_translated     CODART_A3  \\\n708    El tacto de los termostatos se desprende y es ...  AZCE6THINKRB   \n969                             ENVIAR UNA CENTRAL NUEVA   AZCE6FLEXA3   \n18630                                              FALLA   AZPV8CB1IAQ   \n206                        LA FUNCIÓN NO TÁCTIL FUNCIONA  AZCE6THINKCB   \n7661   Pérdida de emparejamiento de termostatos Lite ...  PP6DAIST07L6   \n765                                  NÚMERO AHORRAR 1190   AZCE6LITECB   \n11180  El termostato da error y la pantalla esta defe...  AZCE6THINKRB   \n15300  Respuesta por correo electrónico de la línea d...   AZX6WSC5GER   \n11310                                            N°72357   AZPV0MOTCMC   \n19014                                permanece congelado  AZCE6THINKRB   \n\n       Fuzzy_Score        CODART  ... cosine_similarity_4.43  \\\n708           1000  AZCE6THINKRB  ...                      0   \n969           1000   AZCE6FLEXA3  ...                      0   \n18630         1000   AZPV8CB1IAQ  ...                      0   \n206           1000  AZCE6THINKCB  ...                      0   \n7661          1000  PP6DAIST07L6  ...                      0   \n765           1000   AZCE6LITECB  ...                      0   \n11180         1000  AZCE6THINKRB  ...                      0   \n15300         1000   AZX6WSC5GER  ...                      0   \n11310         1000   AZPV0MOTCMC  ...                      0   \n19014         1000  AZCE6THINKRB  ...                      0   \n\n       cosine_similarity_4.49  cosine_similarity_4.61  cosine_similarity_4.62  \\\n708                         0                       0                       0   \n969                         0                       0                       0   \n18630                       0                       0                       0   \n206                         0                       0                       0   \n7661                        0                       0                       0   \n765                         0                       0                       0   \n11180                       0                       0                       0   \n15300                       0                       0                       0   \n11310                       0                       0                       0   \n19014                       0                       0                       0   \n\n       cosine_similarity_4.63 cosine_similarity_4.69 Cod_error  \\\n708                         0                      0       309   \n969                         0                      0       NaN   \n18630                       0                      0       NaN   \n206                         0                      0       304   \n7661                        0                      0       NaN   \n765                         0                      0        na   \n11180                       0                      0       302   \n15300                       0                      0       NaN   \n11310                       0                      0       NaN   \n19014                       0                      0       NaN   \n\n          highest_score  highest_score_error  Columna1  \n708    5725925601480599                  304       NaN  \n969    1712080344352048                  389       NaN  \n18630                 0                  301       NaN  \n206    6832423145155748                  304       NaN  \n7661                  0                  301       NaN  \n765    4874537575482982                  305       NaN  \n11180  5711979203895627                  305       NaN  \n15300  5760513059694636                  323       NaN  \n11310                 0                  301       NaN  \n19014  5072570792740418                  301       NaN  \n\n[10 rows x 70 columns]",
      "text/html": "<div>\n<style scoped>\n    .dataframe tbody tr th:only-of-type {\n        vertical-align: middle;\n    }\n\n    .dataframe tbody tr th {\n        vertical-align: top;\n    }\n\n    .dataframe thead th {\n        text-align: right;\n    }\n</style>\n<table border=\"1\" class=\"dataframe\">\n  <thead>\n    <tr style=\"text-align: right;\">\n      <th></th>\n      <th>Unnamed: 0</th>\n      <th>codigo</th>\n      <th>id_pieza</th>\n      <th>cod_articulo</th>\n      <th>desc_problema_translated</th>\n      <th>descripcion_translated</th>\n      <th>problema_translated</th>\n      <th>CODART_A3</th>\n      <th>Fuzzy_Score</th>\n      <th>CODART</th>\n      <th>...</th>\n      <th>cosine_similarity_4.43</th>\n      <th>cosine_similarity_4.49</th>\n      <th>cosine_similarity_4.61</th>\n      <th>cosine_similarity_4.62</th>\n      <th>cosine_similarity_4.63</th>\n      <th>cosine_similarity_4.69</th>\n      <th>Cod_error</th>\n      <th>highest_score</th>\n      <th>highest_score_error</th>\n      <th>Columna1</th>\n    </tr>\n  </thead>\n  <tbody>\n    <tr>\n      <th>708</th>\n      <td>708</td>\n      <td>K2VRLW1QBB</td>\n      <td>31920</td>\n      <td>AZCE6THINKRB</td>\n      <td>El tacto de los termostatos se desprende y es ...</td>\n      <td>TERMOSTATO THINK RADIO BLANC AIRZONE</td>\n      <td>El tacto de los termostatos se desprende y es ...</td>\n      <td>AZCE6THINKRB</td>\n      <td>1000</td>\n      <td>AZCE6THINKRB</td>\n      <td>...</td>\n      <td>0</td>\n      <td>0</td>\n      <td>0</td>\n      <td>0</td>\n      <td>0</td>\n      <td>0</td>\n      <td>309</td>\n      <td>5725925601480599</td>\n      <td>304</td>\n      <td>NaN</td>\n    </tr>\n    <tr>\n      <th>969</th>\n      <td>969</td>\n      <td>L2HVLGHR24</td>\n      <td>32679</td>\n      <td>AZCE6FLEXA3</td>\n      <td>ERROR 0 EN LOS TERMOSTATOS</td>\n      <td>*CE6 - CENTRAL DEL SISTEMA AIRZONE FLEXA 3.0 6Z</td>\n      <td>ENVIAR UNA CENTRAL NUEVA</td>\n      <td>AZCE6FLEXA3</td>\n      <td>1000</td>\n      <td>AZCE6FLEXA3</td>\n      <td>...</td>\n      <td>0</td>\n      <td>0</td>\n      <td>0</td>\n      <td>0</td>\n      <td>0</td>\n      <td>0</td>\n      <td>NaN</td>\n      <td>1712080344352048</td>\n      <td>389</td>\n      <td>NaN</td>\n    </tr>\n    <tr>\n      <th>18630</th>\n      <td>18630</td>\n      <td>M2VRAWTH02</td>\n      <td>88271</td>\n      <td>AZPV8CB1IAQ</td>\n      <td>DEVOLUCIÓN DE REPUESTOS SUMINISTRADOS PARA ASI...</td>\n      <td>REPUESTO PLACA CENTRAL AIRZONE EASYZONE EZ8</td>\n      <td>FALLA</td>\n      <td>AZPV8CB1IAQ</td>\n      <td>1000</td>\n      <td>AZPV8CB1IAQ</td>\n      <td>...</td>\n      <td>0</td>\n      <td>0</td>\n      <td>0</td>\n      <td>0</td>\n      <td>0</td>\n      <td>0</td>\n      <td>NaN</td>\n      <td>0</td>\n      <td>301</td>\n      <td>NaN</td>\n    </tr>\n    <tr>\n      <th>206</th>\n      <td>206</td>\n      <td>LGRRNW5Q3B</td>\n      <td>30194</td>\n      <td>AZCE6THINKCB</td>\n      <td>NO FUNCIONAN FUNCIONES TÁCTILES</td>\n      <td>TERMOSTATO</td>\n      <td>LA FUNCIÓN NO TÁCTIL FUNCIONA</td>\n      <td>AZCE6THINKCB</td>\n      <td>1000</td>\n      <td>AZCE6THINKCB</td>\n      <td>...</td>\n      <td>0</td>\n      <td>0</td>\n      <td>0</td>\n      <td>0</td>\n      <td>0</td>\n      <td>0</td>\n      <td>304</td>\n      <td>6832423145155748</td>\n      <td>304</td>\n      <td>NaN</td>\n    </tr>\n    <tr>\n      <th>7661</th>\n      <td>7661</td>\n      <td>AW5PAGRQ61</td>\n      <td>50962</td>\n      <td>PP6DAIST07L6</td>\n      <td>Pérdida de emparejamiento de termostatos Lite ...</td>\n      <td>PLACA CENTRAL</td>\n      <td>Pérdida de emparejamiento de termostatos Lite ...</td>\n      <td>PP6DAIST07L6</td>\n      <td>1000</td>\n      <td>PP6DAIST07L6</td>\n      <td>...</td>\n      <td>0</td>\n      <td>0</td>\n      <td>0</td>\n      <td>0</td>\n      <td>0</td>\n      <td>0</td>\n      <td>NaN</td>\n      <td>0</td>\n      <td>301</td>\n      <td>NaN</td>\n    </tr>\n    <tr>\n      <th>765</th>\n      <td>765</td>\n      <td>LGVQLHBN71</td>\n      <td>32046</td>\n      <td>AZCE6LITECB</td>\n      <td>VER EL INFORME DE LA LÍNEA DIRECTA CON NUESTRO...</td>\n      <td>NaN</td>\n      <td>NÚMERO AHORRAR 1190</td>\n      <td>AZCE6LITECB</td>\n      <td>1000</td>\n      <td>AZCE6LITECB</td>\n      <td>...</td>\n      <td>0</td>\n      <td>0</td>\n      <td>0</td>\n      <td>0</td>\n      <td>0</td>\n      <td>0</td>\n      <td>na</td>\n      <td>4874537575482982</td>\n      <td>305</td>\n      <td>NaN</td>\n    </tr>\n    <tr>\n      <th>11180</th>\n      <td>11180</td>\n      <td>ZMPNYGGC69</td>\n      <td>61707</td>\n      <td>AZCE6THINKRB</td>\n      <td>- Error de comunicación._x000D_\\n- pantalla de...</td>\n      <td>NaN</td>\n      <td>El termostato da error y la pantalla esta defe...</td>\n      <td>AZCE6THINKRB</td>\n      <td>1000</td>\n      <td>AZCE6THINKRB</td>\n      <td>...</td>\n      <td>0</td>\n      <td>0</td>\n      <td>0</td>\n      <td>0</td>\n      <td>0</td>\n      <td>0</td>\n      <td>302</td>\n      <td>5711979203895627</td>\n      <td>305</td>\n      <td>NaN</td>\n    </tr>\n    <tr>\n      <th>15300</th>\n      <td>15300</td>\n      <td>LJQWMJXPA4</td>\n      <td>76002</td>\n      <td>AZX6WSC5GER</td>\n      <td>Respuesta de la línea directa:_x000D_\\nEl tick...</td>\n      <td>SERVIDOR WEB</td>\n      <td>Respuesta por correo electrónico de la línea d...</td>\n      <td>AZX6WSC5GER</td>\n      <td>1000</td>\n      <td>AZX6WSC5GER</td>\n      <td>...</td>\n      <td>0</td>\n      <td>0</td>\n      <td>0</td>\n      <td>0</td>\n      <td>0</td>\n      <td>0</td>\n      <td>NaN</td>\n      <td>5760513059694636</td>\n      <td>323</td>\n      <td>NaN</td>\n    </tr>\n    <tr>\n      <th>11310</th>\n      <td>11310</td>\n      <td>Y2DMYGKC63</td>\n      <td>62207</td>\n      <td>AZPV0MOTCMC</td>\n      <td>N°72357</td>\n      <td>Motor de compuerta circular Airzone AZPV0MOTC™</td>\n      <td>N°72357</td>\n      <td>AZPV0MOTCMC</td>\n      <td>1000</td>\n      <td>AZPV0MOTCMC</td>\n      <td>...</td>\n      <td>0</td>\n      <td>0</td>\n      <td>0</td>\n      <td>0</td>\n      <td>0</td>\n      <td>0</td>\n      <td>NaN</td>\n      <td>0</td>\n      <td>301</td>\n      <td>NaN</td>\n    </tr>\n    <tr>\n      <th>19014</th>\n      <td>19014</td>\n      <td>MGNXAGRM9D</td>\n      <td>89942</td>\n      <td>AZCE6THINKRB</td>\n      <td>permanece congelado</td>\n      <td>TERMOSTATO</td>\n      <td>permanece congelado</td>\n      <td>AZCE6THINKRB</td>\n      <td>1000</td>\n      <td>AZCE6THINKRB</td>\n      <td>...</td>\n      <td>0</td>\n      <td>0</td>\n      <td>0</td>\n      <td>0</td>\n      <td>0</td>\n      <td>0</td>\n      <td>NaN</td>\n      <td>5072570792740418</td>\n      <td>301</td>\n      <td>NaN</td>\n    </tr>\n  </tbody>\n</table>\n<p>10 rows × 70 columns</p>\n</div>"
     },
     "execution_count": 77,
     "metadata": {},
     "output_type": "execute_result"
    }
   ],
   "source": [
    "df.sample(10)"
   ],
   "metadata": {
    "collapsed": false,
    "ExecuteTime": {
     "end_time": "2025-01-06T17:19:11.684334Z",
     "start_time": "2025-01-06T17:19:11.649126Z"
    }
   },
   "id": "70fe5ff8722faf",
   "execution_count": 77
  },
  {
   "cell_type": "code",
   "outputs": [],
   "source": [
    "df = df[[\"codigo\", \"id_pieza\", \"CODART_A3\", \"CAR3\", \"text_to_analyse\", \"processed_text_to_analyse\", \"Cod_error\", \"highest_score_error\"]]"
   ],
   "metadata": {
    "collapsed": false,
    "ExecuteTime": {
     "end_time": "2025-01-06T17:19:31.757860Z",
     "start_time": "2025-01-06T17:19:31.668592Z"
    }
   },
   "id": "5bf647ec72497cda",
   "execution_count": 78
  },
  {
   "cell_type": "code",
   "outputs": [],
   "source": [
    "clean_df = df[df[\"CAR3\"]==91]"
   ],
   "metadata": {
    "collapsed": false,
    "ExecuteTime": {
     "end_time": "2025-01-06T17:19:34.180849Z",
     "start_time": "2025-01-06T17:19:34.169450Z"
    }
   },
   "id": "39b065091fe99947",
   "execution_count": 79
  },
  {
   "cell_type": "code",
   "outputs": [
    {
     "data": {
      "text/plain": "       codigo  id_pieza        CODART_A3  CAR3  \\\n5  MMDTLWPUAF     29490  AZCE6BLUEFACECB    91   \n6  MMDTLWPUAF     29491  AZCE6BLUEFACECB    91   \n7  MMDTLWPUAF     29492  AZCE6BLUEFACECB    91   \n8  MMDTLWPUAF     29493  AZCE6BLUEFACECB    91   \n9  M2NXM2LRDA     29522  AZCE6BLUEFACECB    91   \n\n                                     text_to_analyse  \\\n5  SE SUMINISTRARON TERMOSTATOS QUE AHORA SOLICIT...   \n6  SE SUMINISTRARON TERMOSTATOS QUE AHORA SOLICIT...   \n7  SE SUMINISTRARON TERMOSTATOS QUE AHORA SOLICIT...   \n8  SE SUMINISTRARON TERMOSTATOS QUE AHORA SOLICIT...   \n9  Blueface No funcional visto con Sylvain Giraud...   \n\n                           processed_text_to_analyse Cod_error  \\\n5  suministraron termostatos solicitamos cambiar ...       301   \n6  suministraron termostatos solicitamos cambiar ...       301   \n7  suministraron termostatos solicitamos cambiar ...       301   \n8  suministraron termostatos solicitamos cambiar ...       301   \n9  blueface funcional visto sylvain giraud telefo...       301   \n\n   highest_score_error  \n5                  301  \n6                  301  \n7                  301  \n8                  301  \n9                  301  ",
      "text/html": "<div>\n<style scoped>\n    .dataframe tbody tr th:only-of-type {\n        vertical-align: middle;\n    }\n\n    .dataframe tbody tr th {\n        vertical-align: top;\n    }\n\n    .dataframe thead th {\n        text-align: right;\n    }\n</style>\n<table border=\"1\" class=\"dataframe\">\n  <thead>\n    <tr style=\"text-align: right;\">\n      <th></th>\n      <th>codigo</th>\n      <th>id_pieza</th>\n      <th>CODART_A3</th>\n      <th>CAR3</th>\n      <th>text_to_analyse</th>\n      <th>processed_text_to_analyse</th>\n      <th>Cod_error</th>\n      <th>highest_score_error</th>\n    </tr>\n  </thead>\n  <tbody>\n    <tr>\n      <th>5</th>\n      <td>MMDTLWPUAF</td>\n      <td>29490</td>\n      <td>AZCE6BLUEFACECB</td>\n      <td>91</td>\n      <td>SE SUMINISTRARON TERMOSTATOS QUE AHORA SOLICIT...</td>\n      <td>suministraron termostatos solicitamos cambiar ...</td>\n      <td>301</td>\n      <td>301</td>\n    </tr>\n    <tr>\n      <th>6</th>\n      <td>MMDTLWPUAF</td>\n      <td>29491</td>\n      <td>AZCE6BLUEFACECB</td>\n      <td>91</td>\n      <td>SE SUMINISTRARON TERMOSTATOS QUE AHORA SOLICIT...</td>\n      <td>suministraron termostatos solicitamos cambiar ...</td>\n      <td>301</td>\n      <td>301</td>\n    </tr>\n    <tr>\n      <th>7</th>\n      <td>MMDTLWPUAF</td>\n      <td>29492</td>\n      <td>AZCE6BLUEFACECB</td>\n      <td>91</td>\n      <td>SE SUMINISTRARON TERMOSTATOS QUE AHORA SOLICIT...</td>\n      <td>suministraron termostatos solicitamos cambiar ...</td>\n      <td>301</td>\n      <td>301</td>\n    </tr>\n    <tr>\n      <th>8</th>\n      <td>MMDTLWPUAF</td>\n      <td>29493</td>\n      <td>AZCE6BLUEFACECB</td>\n      <td>91</td>\n      <td>SE SUMINISTRARON TERMOSTATOS QUE AHORA SOLICIT...</td>\n      <td>suministraron termostatos solicitamos cambiar ...</td>\n      <td>301</td>\n      <td>301</td>\n    </tr>\n    <tr>\n      <th>9</th>\n      <td>M2NXM2LRDA</td>\n      <td>29522</td>\n      <td>AZCE6BLUEFACECB</td>\n      <td>91</td>\n      <td>Blueface No funcional visto con Sylvain Giraud...</td>\n      <td>blueface funcional visto sylvain giraud telefo...</td>\n      <td>301</td>\n      <td>301</td>\n    </tr>\n  </tbody>\n</table>\n</div>"
     },
     "execution_count": 80,
     "metadata": {},
     "output_type": "execute_result"
    }
   ],
   "source": [
    "clean_df.head()"
   ],
   "metadata": {
    "collapsed": false,
    "ExecuteTime": {
     "end_time": "2025-01-06T17:19:35.555044Z",
     "start_time": "2025-01-06T17:19:35.535310Z"
    }
   },
   "id": "929483a7dcb02d88",
   "execution_count": 80
  },
  {
   "cell_type": "code",
   "outputs": [
    {
     "data": {
      "text/plain": "            codigo      id_pieza     CODART_A3    CAR3  \\\ncount         7068   7068.000000          7068  7068.0   \nunique        5683           NaN            85     NaN   \ntop     NMJWZGPLB0           NaN  AZCE6THINKRB     NaN   \nfreq            16           NaN          2086     NaN   \nmean           NaN  56094.025325           NaN    91.0   \nstd            NaN  18001.921833           NaN     0.0   \nmin            NaN  29490.000000           NaN    91.0   \n25%            NaN  40502.750000           NaN    91.0   \n50%            NaN  52263.000000           NaN    91.0   \n75%            NaN  70803.250000           NaN    91.0   \nmax            NaN  92795.000000           NaN    91.0   \n\n                                          text_to_analyse  \\\ncount                                                7068   \nunique                                               6012   \ntop     DEVOLUCIÓN DE MATERIAL DE ASISTENCIA  EL TERMO...   \nfreq                                                   22   \nmean                                                  NaN   \nstd                                                   NaN   \nmin                                                   NaN   \n25%                                                   NaN   \n50%                                                   NaN   \n75%                                                   NaN   \nmax                                                   NaN   \n\n                                processed_text_to_analyse Cod_error  \\\ncount                                                7068      4218   \nunique                                               5886        11   \ntop     devolucion material asistencia termostato func...        na   \nfreq                                                   22      1795   \nmean                                                  NaN       NaN   \nstd                                                   NaN       NaN   \nmin                                                   NaN       NaN   \n25%                                                   NaN       NaN   \n50%                                                   NaN       NaN   \n75%                                                   NaN       NaN   \nmax                                                   NaN       NaN   \n\n        highest_score_error  \ncount           7068.000000  \nunique                  NaN  \ntop                     NaN  \nfreq                    NaN  \nmean             302.600028  \nstd                1.548987  \nmin              301.000000  \n25%              301.000000  \n50%              303.000000  \n75%              303.000000  \nmax              309.000000  ",
      "text/html": "<div>\n<style scoped>\n    .dataframe tbody tr th:only-of-type {\n        vertical-align: middle;\n    }\n\n    .dataframe tbody tr th {\n        vertical-align: top;\n    }\n\n    .dataframe thead th {\n        text-align: right;\n    }\n</style>\n<table border=\"1\" class=\"dataframe\">\n  <thead>\n    <tr style=\"text-align: right;\">\n      <th></th>\n      <th>codigo</th>\n      <th>id_pieza</th>\n      <th>CODART_A3</th>\n      <th>CAR3</th>\n      <th>text_to_analyse</th>\n      <th>processed_text_to_analyse</th>\n      <th>Cod_error</th>\n      <th>highest_score_error</th>\n    </tr>\n  </thead>\n  <tbody>\n    <tr>\n      <th>count</th>\n      <td>7068</td>\n      <td>7068.000000</td>\n      <td>7068</td>\n      <td>7068.0</td>\n      <td>7068</td>\n      <td>7068</td>\n      <td>4218</td>\n      <td>7068.000000</td>\n    </tr>\n    <tr>\n      <th>unique</th>\n      <td>5683</td>\n      <td>NaN</td>\n      <td>85</td>\n      <td>NaN</td>\n      <td>6012</td>\n      <td>5886</td>\n      <td>11</td>\n      <td>NaN</td>\n    </tr>\n    <tr>\n      <th>top</th>\n      <td>NMJWZGPLB0</td>\n      <td>NaN</td>\n      <td>AZCE6THINKRB</td>\n      <td>NaN</td>\n      <td>DEVOLUCIÓN DE MATERIAL DE ASISTENCIA  EL TERMO...</td>\n      <td>devolucion material asistencia termostato func...</td>\n      <td>na</td>\n      <td>NaN</td>\n    </tr>\n    <tr>\n      <th>freq</th>\n      <td>16</td>\n      <td>NaN</td>\n      <td>2086</td>\n      <td>NaN</td>\n      <td>22</td>\n      <td>22</td>\n      <td>1795</td>\n      <td>NaN</td>\n    </tr>\n    <tr>\n      <th>mean</th>\n      <td>NaN</td>\n      <td>56094.025325</td>\n      <td>NaN</td>\n      <td>91.0</td>\n      <td>NaN</td>\n      <td>NaN</td>\n      <td>NaN</td>\n      <td>302.600028</td>\n    </tr>\n    <tr>\n      <th>std</th>\n      <td>NaN</td>\n      <td>18001.921833</td>\n      <td>NaN</td>\n      <td>0.0</td>\n      <td>NaN</td>\n      <td>NaN</td>\n      <td>NaN</td>\n      <td>1.548987</td>\n    </tr>\n    <tr>\n      <th>min</th>\n      <td>NaN</td>\n      <td>29490.000000</td>\n      <td>NaN</td>\n      <td>91.0</td>\n      <td>NaN</td>\n      <td>NaN</td>\n      <td>NaN</td>\n      <td>301.000000</td>\n    </tr>\n    <tr>\n      <th>25%</th>\n      <td>NaN</td>\n      <td>40502.750000</td>\n      <td>NaN</td>\n      <td>91.0</td>\n      <td>NaN</td>\n      <td>NaN</td>\n      <td>NaN</td>\n      <td>301.000000</td>\n    </tr>\n    <tr>\n      <th>50%</th>\n      <td>NaN</td>\n      <td>52263.000000</td>\n      <td>NaN</td>\n      <td>91.0</td>\n      <td>NaN</td>\n      <td>NaN</td>\n      <td>NaN</td>\n      <td>303.000000</td>\n    </tr>\n    <tr>\n      <th>75%</th>\n      <td>NaN</td>\n      <td>70803.250000</td>\n      <td>NaN</td>\n      <td>91.0</td>\n      <td>NaN</td>\n      <td>NaN</td>\n      <td>NaN</td>\n      <td>303.000000</td>\n    </tr>\n    <tr>\n      <th>max</th>\n      <td>NaN</td>\n      <td>92795.000000</td>\n      <td>NaN</td>\n      <td>91.0</td>\n      <td>NaN</td>\n      <td>NaN</td>\n      <td>NaN</td>\n      <td>309.000000</td>\n    </tr>\n  </tbody>\n</table>\n</div>"
     },
     "execution_count": 81,
     "metadata": {},
     "output_type": "execute_result"
    }
   ],
   "source": [
    "clean_df.describe(include='all')"
   ],
   "metadata": {
    "collapsed": false,
    "ExecuteTime": {
     "end_time": "2025-01-06T17:19:47.704629Z",
     "start_time": "2025-01-06T17:19:47.630197Z"
    }
   },
   "id": "dd8c8c0f71711338",
   "execution_count": 81
  },
  {
   "cell_type": "code",
   "outputs": [],
   "source": [
    "clean_df = clean_df[(~clean_df[\"Cod_error\"].isna()) & (~clean_df[\"Cod_error\"].isin([\"na\", \"n\", \"nn\", \"309\", \" na\"]))]"
   ],
   "metadata": {
    "collapsed": false,
    "ExecuteTime": {
     "end_time": "2025-01-06T17:20:18.777415Z",
     "start_time": "2025-01-06T17:20:18.764615Z"
    }
   },
   "id": "fd236e0769eb8192",
   "execution_count": 82
  },
  {
   "cell_type": "code",
   "outputs": [
    {
     "data": {
      "text/plain": "Cod_error\n301    781\n303    614\n302    389\n308    270\n304    225\n305    121\nName: count, dtype: int64"
     },
     "execution_count": 83,
     "metadata": {},
     "output_type": "execute_result"
    }
   ],
   "source": [
    "clean_df[\"Cod_error\"].value_counts()"
   ],
   "metadata": {
    "collapsed": false,
    "ExecuteTime": {
     "end_time": "2025-01-06T17:20:20.279679Z",
     "start_time": "2025-01-06T17:20:20.269263Z"
    }
   },
   "id": "fbd16cc0644f00e4",
   "execution_count": 83
  },
  {
   "cell_type": "code",
   "outputs": [],
   "source": [
    "clean_df = clean_df.rename(columns={\"Cod_error\": \"label\", \"highest_score_error\": \"similarity_prediction\"})"
   ],
   "metadata": {
    "collapsed": false,
    "ExecuteTime": {
     "end_time": "2025-01-06T17:20:41.310026Z",
     "start_time": "2025-01-06T17:20:41.292909Z"
    }
   },
   "id": "2555db1d09fb05e",
   "execution_count": 84
  },
  {
   "cell_type": "code",
   "outputs": [],
   "source": [
    "clean_df[\"Ground_truth\"] = clean_df[\"label\"]"
   ],
   "metadata": {
    "collapsed": false,
    "ExecuteTime": {
     "end_time": "2025-01-06T17:20:53.116009Z",
     "start_time": "2025-01-06T17:20:53.108507Z"
    }
   },
   "id": "a72ff1bdb10e4163",
   "execution_count": 85
  },
  {
   "cell_type": "code",
   "outputs": [
    {
     "data": {
      "text/plain": "           codigo  id_pieza        CODART_A3  CAR3  \\\n340    LGTOLGDT19     30652  AZDI6BLUEFACECB    91   \n1792   LGNWL2PTE9     34872  AZDI6BLUEFACECB    91   \n9120   Z2HIAWKVEE     55552  AZCE6BLUEZEROCB    91   \n4329   AWPNZ2LQA1     41917     AZCE6THINKRB    91   \n2715   MWTUNG5U5B     37358  AZCE6BLUEFACECB    91   \n7641   AM9PBMXOF8     50901     AZCE6THINKCB    91   \n8683   Z25HYMCU0C     53958     AZCE6THINKRB    91   \n18126  L2JUZ2XO6E     86542     AZCE6THINKRB    91   \n9778   Y2DJAWWTF4     57526     AZCE6THINKRB    91   \n3987   AGLMBG1W0A     40997  AZCE6BLUEFACECB    91   \n\n                                         text_to_analyse  \\\n340          BLUEFACE NO HACE NADA  BLUEFACE NO FUNCIONA   \n1792   LA PANTALLA DEL BLUEFACE, ESTÁ COMPLETAMENTE N...   \n9120   LOS TERMOSTATOS HACEN RUIDO TERMOSTATO HAY QUE...   \n4329   NO MÁS PANTALLA INCLUSO DESPUÉS DEL CAMBIO DE ...   \n2715   Pb BF - pantalla sin posibilidad de conectarla...   \n7641                 Teclas táctiles HS  toque táctil HS   \n8683   los tableros están encendidos pero pierden com...   \n18126  El termostato pierde la señal termostato El te...   \n9778   El termostato radio Airzone Think blanco 8z có...   \n3987   ZONA ABORDANDO EL PROBLEMA EN UN PAQUETE PLENU...   \n\n                               processed_text_to_analyse label  \\\n340                           blueface blueface funciona   301   \n1792   pantalla blueface completamente negra absoluta...   301   \n9120   termostatos ruido termostato cambiar 2 termost...   308   \n4329   pantalla cambio bateria termostato think radio...   303   \n2715   pb bf pantalla posibilidad conectarla placa bl...   303   \n7641                  teclas tactiles hs toque tactil hs   304   \n8683   tableros encendidos pierden comunicacion think...   302   \n18126  termostato pierde senal termostato termostato ...   302   \n9778   termostato radio airzone think blanco 8z codig...   301   \n3987   zona abordando problema paquete plenum airzone...   302   \n\n       similarity_prediction Ground_truth  \n340                      301          301  \n1792                     303          301  \n9120                     301          308  \n4329                     303          303  \n2715                     303          303  \n7641                     304          304  \n8683                     305          302  \n18126                    303          302  \n9778                     303          301  \n3987                     305          302  ",
      "text/html": "<div>\n<style scoped>\n    .dataframe tbody tr th:only-of-type {\n        vertical-align: middle;\n    }\n\n    .dataframe tbody tr th {\n        vertical-align: top;\n    }\n\n    .dataframe thead th {\n        text-align: right;\n    }\n</style>\n<table border=\"1\" class=\"dataframe\">\n  <thead>\n    <tr style=\"text-align: right;\">\n      <th></th>\n      <th>codigo</th>\n      <th>id_pieza</th>\n      <th>CODART_A3</th>\n      <th>CAR3</th>\n      <th>text_to_analyse</th>\n      <th>processed_text_to_analyse</th>\n      <th>label</th>\n      <th>similarity_prediction</th>\n      <th>Ground_truth</th>\n    </tr>\n  </thead>\n  <tbody>\n    <tr>\n      <th>340</th>\n      <td>LGTOLGDT19</td>\n      <td>30652</td>\n      <td>AZDI6BLUEFACECB</td>\n      <td>91</td>\n      <td>BLUEFACE NO HACE NADA  BLUEFACE NO FUNCIONA</td>\n      <td>blueface blueface funciona</td>\n      <td>301</td>\n      <td>301</td>\n      <td>301</td>\n    </tr>\n    <tr>\n      <th>1792</th>\n      <td>LGNWL2PTE9</td>\n      <td>34872</td>\n      <td>AZDI6BLUEFACECB</td>\n      <td>91</td>\n      <td>LA PANTALLA DEL BLUEFACE, ESTÁ COMPLETAMENTE N...</td>\n      <td>pantalla blueface completamente negra absoluta...</td>\n      <td>301</td>\n      <td>303</td>\n      <td>301</td>\n    </tr>\n    <tr>\n      <th>9120</th>\n      <td>Z2HIAWKVEE</td>\n      <td>55552</td>\n      <td>AZCE6BLUEZEROCB</td>\n      <td>91</td>\n      <td>LOS TERMOSTATOS HACEN RUIDO TERMOSTATO HAY QUE...</td>\n      <td>termostatos ruido termostato cambiar 2 termost...</td>\n      <td>308</td>\n      <td>301</td>\n      <td>308</td>\n    </tr>\n    <tr>\n      <th>4329</th>\n      <td>AWPNZ2LQA1</td>\n      <td>41917</td>\n      <td>AZCE6THINKRB</td>\n      <td>91</td>\n      <td>NO MÁS PANTALLA INCLUSO DESPUÉS DEL CAMBIO DE ...</td>\n      <td>pantalla cambio bateria termostato think radio...</td>\n      <td>303</td>\n      <td>303</td>\n      <td>303</td>\n    </tr>\n    <tr>\n      <th>2715</th>\n      <td>MWTUNG5U5B</td>\n      <td>37358</td>\n      <td>AZCE6BLUEFACECB</td>\n      <td>91</td>\n      <td>Pb BF - pantalla sin posibilidad de conectarla...</td>\n      <td>pb bf pantalla posibilidad conectarla placa bl...</td>\n      <td>303</td>\n      <td>303</td>\n      <td>303</td>\n    </tr>\n    <tr>\n      <th>7641</th>\n      <td>AM9PBMXOF8</td>\n      <td>50901</td>\n      <td>AZCE6THINKCB</td>\n      <td>91</td>\n      <td>Teclas táctiles HS  toque táctil HS</td>\n      <td>teclas tactiles hs toque tactil hs</td>\n      <td>304</td>\n      <td>304</td>\n      <td>304</td>\n    </tr>\n    <tr>\n      <th>8683</th>\n      <td>Z25HYMCU0C</td>\n      <td>53958</td>\n      <td>AZCE6THINKRB</td>\n      <td>91</td>\n      <td>los tableros están encendidos pero pierden com...</td>\n      <td>tableros encendidos pierden comunicacion think...</td>\n      <td>302</td>\n      <td>305</td>\n      <td>302</td>\n    </tr>\n    <tr>\n      <th>18126</th>\n      <td>L2JUZ2XO6E</td>\n      <td>86542</td>\n      <td>AZCE6THINKRB</td>\n      <td>91</td>\n      <td>El termostato pierde la señal termostato El te...</td>\n      <td>termostato pierde senal termostato termostato ...</td>\n      <td>302</td>\n      <td>303</td>\n      <td>302</td>\n    </tr>\n    <tr>\n      <th>9778</th>\n      <td>Y2DJAWWTF4</td>\n      <td>57526</td>\n      <td>AZCE6THINKRB</td>\n      <td>91</td>\n      <td>El termostato radio Airzone Think blanco 8z có...</td>\n      <td>termostato radio airzone think blanco 8z codig...</td>\n      <td>301</td>\n      <td>303</td>\n      <td>301</td>\n    </tr>\n    <tr>\n      <th>3987</th>\n      <td>AGLMBG1W0A</td>\n      <td>40997</td>\n      <td>AZCE6BLUEFACECB</td>\n      <td>91</td>\n      <td>ZONA ABORDANDO EL PROBLEMA EN UN PAQUETE PLENU...</td>\n      <td>zona abordando problema paquete plenum airzone...</td>\n      <td>302</td>\n      <td>305</td>\n      <td>302</td>\n    </tr>\n  </tbody>\n</table>\n</div>"
     },
     "execution_count": 86,
     "metadata": {},
     "output_type": "execute_result"
    }
   ],
   "source": [
    "clean_df.sample(10)"
   ],
   "metadata": {
    "collapsed": false,
    "ExecuteTime": {
     "end_time": "2025-01-06T17:20:54.413998Z",
     "start_time": "2025-01-06T17:20:54.390245Z"
    }
   },
   "id": "2617cdc067b880a5",
   "execution_count": 86
  },
  {
   "cell_type": "code",
   "outputs": [],
   "source": [
    "#clean_df.to_parquet(r\"../../output_data/prod/temp_supervised_dataset.parquet\")"
   ],
   "metadata": {
    "collapsed": false,
    "ExecuteTime": {
     "end_time": "2025-01-05T15:11:58.860285Z",
     "start_time": "2025-01-05T15:11:58.855419Z"
    }
   },
   "id": "98428ff74b779c7a",
   "execution_count": 62
  },
  {
   "cell_type": "code",
   "outputs": [
    {
     "data": {
      "text/plain": "label\n301    781\n303    614\n302    389\n308    270\n304    225\n305    121\nName: count, dtype: int64"
     },
     "execution_count": 87,
     "metadata": {},
     "output_type": "execute_result"
    }
   ],
   "source": [
    "clean_df[\"label\"].value_counts()"
   ],
   "metadata": {
    "collapsed": false,
    "ExecuteTime": {
     "end_time": "2025-01-06T17:20:58.892226Z",
     "start_time": "2025-01-06T17:20:58.882095Z"
    }
   },
   "id": "532b2b08a000ce97",
   "execution_count": 87
  },
  {
   "cell_type": "code",
   "outputs": [],
   "source": [
    "clean_df[\"label\"] = clean_df[\"label\"].astype(int)"
   ],
   "metadata": {
    "collapsed": false,
    "ExecuteTime": {
     "end_time": "2025-01-06T17:21:16.359207Z",
     "start_time": "2025-01-06T17:21:16.352467Z"
    }
   },
   "id": "936d03ad0e6db292",
   "execution_count": 88
  },
  {
   "cell_type": "code",
   "outputs": [],
   "source": [
    "# Standardize the labels\n",
    "clean_df[\"label\"] = clean_df[\"label\"].replace({301: 0, 302: 2, 303: 1, 308: 3, 304: 4, 305: 5, 309: 6})"
   ],
   "metadata": {
    "collapsed": false,
    "ExecuteTime": {
     "end_time": "2025-01-06T17:21:17.881565Z",
     "start_time": "2025-01-06T17:21:17.871411Z"
    }
   },
   "id": "8e8b3c6fbd4de5a2",
   "execution_count": 89
  },
  {
   "cell_type": "code",
   "outputs": [],
   "source": [
    "clean_df[clean_df[\"label\"].isin([0, 1])].to_parquet(r\"../../output_data/prod/temp_supervised_dataset_1.parquet\")\n",
    "clean_df[clean_df[\"label\"]==2].to_parquet(r\"../../output_data/prod/temp_supervised_dataset_2.parquet\")"
   ],
   "metadata": {
    "collapsed": false,
    "ExecuteTime": {
     "end_time": "2025-01-06T17:21:31.197261Z",
     "start_time": "2025-01-06T17:21:31.130107Z"
    }
   },
   "id": "a0c4290870ec0747",
   "execution_count": 90
  },
  {
   "cell_type": "code",
   "outputs": [],
   "source": [],
   "metadata": {
    "collapsed": false
   },
   "id": "b52d0c8714b539ad"
  },
  {
   "cell_type": "code",
   "outputs": [],
   "source": [
    "outliers = pd.read_parquet(r\"D:\\00-Master\\TFM\\Project\\myzone\\output_data\\prod\\temp_supervised_dataset_2.parquet\")"
   ],
   "metadata": {
    "collapsed": false,
    "ExecuteTime": {
     "end_time": "2025-01-06T15:26:32.061768Z",
     "start_time": "2025-01-06T15:26:31.922082Z"
    }
   },
   "id": "4fb38a8b0aaccb2f",
   "execution_count": 68
  },
  {
   "cell_type": "code",
   "outputs": [
    {
     "data": {
      "text/plain": "           codigo  id_pieza        CODART_A3  CAR3  \\\n5870   AG9PAMPR04     46146     AZDI6THINKRB    91   \n11328  A2DJYWGX42     62287     AZCE6THINKRB    91   \n15462  NJOVM5XLF1     76574     AZCE6THINKRB    91   \n5009   AWXMZMXTD8     43796  AZCE6BLUEFACECN    91   \n6610   AWXRBGLQ21     48160  AZCE6BLUEFACECN    91   \n9173   AGZMAWOZ80     55693     AZCE6THINKRB    91   \n19277  NMPWY2TQ55     91784     AZCE6THINKRB    91   \n8355   ZGHIAWWAF0     52965  AZCE6BLUEZEROCB    91   \n13772  MJEBL5HHC6     70264     AZCE6THINKRB    91   \n14006  M5EYMJXLDB     71006  AZRA6BLUEZEROCN    91   \n\n                                         text_to_analyse  \\\n5870   TERMOSTATOS THINK RADIO-ACUAZONE no se comunic...   \n11328  Problema de visualización en la pantalla, la p...   \n15462  TERMOSTATOS NO COMUNICANTES EN PLACAS NUEVAS L...   \n5009     pantalla hs termostato SIN CONEXIÓN EN PANTALLA   \n6610   PROBLEMA DE COMUNIACCIÓN Y REGULACIÓN termosta...   \n9173   el control remoto ya no recibe la señal de rad...   \n19277  Problema de red de termostato, cambio a cablea...   \n8355   AZCE6BLUEZEROCB NO FUNCIONA. FALLO COMUNICACIO...   \n13772  Próximo billete 93053  Problema de emparejamie...   \n14006  en una instalación con cabezales termostáticos...   \n\n                               processed_text_to_analyse  label  \\\n5870   termostatos think radio-acuazone comunica cent...      2   \n11328  problema visualizacion pantalla pantalla vuelv...      2   \n15462  termostatos comunicantes placas termostatos pi...      2   \n5009            pantalla hs termostato conexion pantalla      2   \n6610   problema comuniaccion regulacion termostato pr...      2   \n9173   control remoto recibe senal radio piensa radio...      2   \n19277  problema red termostato cambio cableado visto ...      2   \n8355   azce6bluezerocb funciona fallo comunicacion ce...      2   \n13772  billete 93053 problema emparejamiento pensamie...      2   \n14006  instalacion cabezales termostaticos inalambric...      2   \n\n       similarity_prediction  Ground_truth  \n5870                     302           302  \n11328                    303           302  \n15462                    302           302  \n5009                     303           302  \n6610                     302           302  \n9173                     303           302  \n19277                    305           302  \n8355                     302           302  \n13772                    305           302  \n14006                    305           302  ",
      "text/html": "<div>\n<style scoped>\n    .dataframe tbody tr th:only-of-type {\n        vertical-align: middle;\n    }\n\n    .dataframe tbody tr th {\n        vertical-align: top;\n    }\n\n    .dataframe thead th {\n        text-align: right;\n    }\n</style>\n<table border=\"1\" class=\"dataframe\">\n  <thead>\n    <tr style=\"text-align: right;\">\n      <th></th>\n      <th>codigo</th>\n      <th>id_pieza</th>\n      <th>CODART_A3</th>\n      <th>CAR3</th>\n      <th>text_to_analyse</th>\n      <th>processed_text_to_analyse</th>\n      <th>label</th>\n      <th>similarity_prediction</th>\n      <th>Ground_truth</th>\n    </tr>\n  </thead>\n  <tbody>\n    <tr>\n      <th>5870</th>\n      <td>AG9PAMPR04</td>\n      <td>46146</td>\n      <td>AZDI6THINKRB</td>\n      <td>91</td>\n      <td>TERMOSTATOS THINK RADIO-ACUAZONE no se comunic...</td>\n      <td>termostatos think radio-acuazone comunica cent...</td>\n      <td>2</td>\n      <td>302</td>\n      <td>302</td>\n    </tr>\n    <tr>\n      <th>11328</th>\n      <td>A2DJYWGX42</td>\n      <td>62287</td>\n      <td>AZCE6THINKRB</td>\n      <td>91</td>\n      <td>Problema de visualización en la pantalla, la p...</td>\n      <td>problema visualizacion pantalla pantalla vuelv...</td>\n      <td>2</td>\n      <td>303</td>\n      <td>302</td>\n    </tr>\n    <tr>\n      <th>15462</th>\n      <td>NJOVM5XLF1</td>\n      <td>76574</td>\n      <td>AZCE6THINKRB</td>\n      <td>91</td>\n      <td>TERMOSTATOS NO COMUNICANTES EN PLACAS NUEVAS L...</td>\n      <td>termostatos comunicantes placas termostatos pi...</td>\n      <td>2</td>\n      <td>302</td>\n      <td>302</td>\n    </tr>\n    <tr>\n      <th>5009</th>\n      <td>AWXMZMXTD8</td>\n      <td>43796</td>\n      <td>AZCE6BLUEFACECN</td>\n      <td>91</td>\n      <td>pantalla hs termostato SIN CONEXIÓN EN PANTALLA</td>\n      <td>pantalla hs termostato conexion pantalla</td>\n      <td>2</td>\n      <td>303</td>\n      <td>302</td>\n    </tr>\n    <tr>\n      <th>6610</th>\n      <td>AWXRBGLQ21</td>\n      <td>48160</td>\n      <td>AZCE6BLUEFACECN</td>\n      <td>91</td>\n      <td>PROBLEMA DE COMUNIACCIÓN Y REGULACIÓN termosta...</td>\n      <td>problema comuniaccion regulacion termostato pr...</td>\n      <td>2</td>\n      <td>302</td>\n      <td>302</td>\n    </tr>\n    <tr>\n      <th>9173</th>\n      <td>AGZMAWOZ80</td>\n      <td>55693</td>\n      <td>AZCE6THINKRB</td>\n      <td>91</td>\n      <td>el control remoto ya no recibe la señal de rad...</td>\n      <td>control remoto recibe senal radio piensa radio...</td>\n      <td>2</td>\n      <td>303</td>\n      <td>302</td>\n    </tr>\n    <tr>\n      <th>19277</th>\n      <td>NMPWY2TQ55</td>\n      <td>91784</td>\n      <td>AZCE6THINKRB</td>\n      <td>91</td>\n      <td>Problema de red de termostato, cambio a cablea...</td>\n      <td>problema red termostato cambio cableado visto ...</td>\n      <td>2</td>\n      <td>305</td>\n      <td>302</td>\n    </tr>\n    <tr>\n      <th>8355</th>\n      <td>ZGHIAWWAF0</td>\n      <td>52965</td>\n      <td>AZCE6BLUEZEROCB</td>\n      <td>91</td>\n      <td>AZCE6BLUEZEROCB NO FUNCIONA. FALLO COMUNICACIO...</td>\n      <td>azce6bluezerocb funciona fallo comunicacion ce...</td>\n      <td>2</td>\n      <td>302</td>\n      <td>302</td>\n    </tr>\n    <tr>\n      <th>13772</th>\n      <td>MJEBL5HHC6</td>\n      <td>70264</td>\n      <td>AZCE6THINKRB</td>\n      <td>91</td>\n      <td>Próximo billete 93053  Problema de emparejamie...</td>\n      <td>billete 93053 problema emparejamiento pensamie...</td>\n      <td>2</td>\n      <td>305</td>\n      <td>302</td>\n    </tr>\n    <tr>\n      <th>14006</th>\n      <td>M5EYMJXLDB</td>\n      <td>71006</td>\n      <td>AZRA6BLUEZEROCN</td>\n      <td>91</td>\n      <td>en una instalación con cabezales termostáticos...</td>\n      <td>instalacion cabezales termostaticos inalambric...</td>\n      <td>2</td>\n      <td>305</td>\n      <td>302</td>\n    </tr>\n  </tbody>\n</table>\n</div>"
     },
     "execution_count": 69,
     "metadata": {},
     "output_type": "execute_result"
    }
   ],
   "source": [
    "outliers.sample(10)"
   ],
   "metadata": {
    "collapsed": false,
    "ExecuteTime": {
     "end_time": "2025-01-06T15:26:39.722498Z",
     "start_time": "2025-01-06T15:26:39.708126Z"
    }
   },
   "id": "617df46fa08abdf6",
   "execution_count": 69
  }
 ],
 "metadata": {
  "kernelspec": {
   "display_name": "Python 3",
   "language": "python",
   "name": "python3"
  },
  "language_info": {
   "codemirror_mode": {
    "name": "ipython",
    "version": 2
   },
   "file_extension": ".py",
   "mimetype": "text/x-python",
   "name": "python",
   "nbconvert_exporter": "python",
   "pygments_lexer": "ipython2",
   "version": "2.7.6"
  }
 },
 "nbformat": 4,
 "nbformat_minor": 5
}
