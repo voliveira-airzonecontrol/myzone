{
 "cells": [
  {
   "cell_type": "code",
   "id": "initial_id",
   "metadata": {
    "collapsed": true,
    "ExecuteTime": {
     "end_time": "2025-01-21T08:22:39.068988Z",
     "start_time": "2025-01-21T08:22:39.065040Z"
    }
   },
   "source": [
    "from src.training.model import TransformerClassifier\n",
    "from src.utils import load_config\n",
    "import pandas as pd\n",
    "from sklearn.model_selection import train_test_split\n",
    "from sklearn.utils import resample"
   ],
   "outputs": [],
   "execution_count": 18
  },
  {
   "metadata": {
    "ExecuteTime": {
     "end_time": "2025-01-21T08:22:39.282161Z",
     "start_time": "2025-01-21T08:22:39.262091Z"
    }
   },
   "cell_type": "code",
   "source": [
    "# Load config\n",
    "env = \"prod\"\n",
    "model_type = \"BERT\"\n",
    "\n",
    "training_config = load_config(\n",
    "    file_name=\"training_config\", env=env, folder=\"../../config\"\n",
    ")"
   ],
   "id": "8569358f358a0a89",
   "outputs": [],
   "execution_count": 19
  },
  {
   "metadata": {},
   "cell_type": "markdown",
   "source": [
    "# Load data"
   ],
   "id": "4bcb6f352a59297a"
  },
  {
   "metadata": {
    "ExecuteTime": {
     "end_time": "2025-01-21T08:23:00.959660Z",
     "start_time": "2025-01-21T08:23:00.955116Z"
    }
   },
   "cell_type": "code",
   "source": [
    "input_dataset = f\"../../output_data/{env}/supervised_dataset.parquet\"\n",
    "input_new_class = f\"../../output_reports/{env}/clustering/new_class.parquet\"\n",
    "input_true_new_class = f\"../../output_data/{env}/supervised_dataset_phase2.parquet\""
   ],
   "id": "f955904426de6da0",
   "outputs": [],
   "execution_count": 23
  },
  {
   "metadata": {
    "ExecuteTime": {
     "end_time": "2025-01-21T08:23:01.227108Z",
     "start_time": "2025-01-21T08:23:01.207325Z"
    }
   },
   "cell_type": "code",
   "source": [
    "known_classes = pd.read_parquet(input_dataset)\n",
    "new_class = pd.read_parquet(input_new_class)\n",
    "true_new_class = pd.read_parquet(input_true_new_class)"
   ],
   "id": "7cd6126f4c5feeb3",
   "outputs": [],
   "execution_count": 24
  },
  {
   "metadata": {
    "ExecuteTime": {
     "end_time": "2025-01-21T08:23:01.544261Z",
     "start_time": "2025-01-21T08:23:01.539661Z"
    }
   },
   "cell_type": "code",
   "source": [
    "new_class = new_class[new_class[\"new_class\"]]\n",
    "new_class = new_class[new_class[\"label\"]==2]"
   ],
   "id": "9ad3a91f17eb7213",
   "outputs": [],
   "execution_count": 25
  },
  {
   "metadata": {
    "ExecuteTime": {
     "end_time": "2025-01-21T08:23:02.245034Z",
     "start_time": "2025-01-21T08:23:02.235403Z"
    }
   },
   "cell_type": "code",
   "source": [
    "features = training_config.training[model_type].features\n",
    "target = training_config.training[model_type].target"
   ],
   "id": "8907a8ba81550f0c",
   "outputs": [],
   "execution_count": 26
  },
  {
   "metadata": {
    "ExecuteTime": {
     "end_time": "2025-01-21T08:23:02.693824Z",
     "start_time": "2025-01-21T08:23:02.687439Z"
    }
   },
   "cell_type": "code",
   "source": [
    "known_classes = known_classes[[features, target]]\n",
    "new_class = new_class[[features, target]]\n",
    "true_new_class = true_new_class[[features, target]]"
   ],
   "id": "cbafb49a4e2de55e",
   "outputs": [],
   "execution_count": 27
  },
  {
   "metadata": {
    "ExecuteTime": {
     "end_time": "2025-01-21T08:23:03.412707Z",
     "start_time": "2025-01-21T08:23:03.405383Z"
    }
   },
   "cell_type": "code",
   "source": [
    "num_labels = known_classes[target].nunique()"
   ],
   "id": "a370516381a2dc0c",
   "outputs": [],
   "execution_count": 28
  },
  {
   "metadata": {},
   "cell_type": "markdown",
   "source": [
    "# Split data"
   ],
   "id": "bc2e54e4bfd51d1f"
  },
  {
   "metadata": {
    "ExecuteTime": {
     "end_time": "2025-01-21T08:23:04.142979Z",
     "start_time": "2025-01-21T08:23:04.139190Z"
    }
   },
   "cell_type": "code",
   "source": [
    "X = known_classes"
   ],
   "id": "81ee7f6e67c0cefe",
   "outputs": [],
   "execution_count": 29
  },
  {
   "metadata": {
    "ExecuteTime": {
     "end_time": "2025-01-21T08:23:05.955312Z",
     "start_time": "2025-01-21T08:23:05.945569Z"
    }
   },
   "cell_type": "code",
   "source": [
    "original_X_train, original_X_test, original_y_train, original_y_test = train_test_split(\n",
    "    # X.drop(columns=[training_config.training[model_type].target]),\n",
    "    X[training_config.training[model_type].features],\n",
    "    X[training_config.training[model_type].target],\n",
    "    test_size=training_config.training[model_type].test_size,\n",
    "    random_state=training_config.training.random_state,\n",
    "    stratify=X[training_config.training[model_type].target],\n",
    ")\n",
    "original_X_test, original_X_cp, original_y_test, original_y_cp = train_test_split(\n",
    "    original_X_test,\n",
    "    original_y_test,\n",
    "    test_size=training_config.training[model_type].cp_size,\n",
    "    random_state=training_config.training.random_state,\n",
    "    stratify=original_y_test,\n",
    ")"
   ],
   "id": "e2742f268d49f4ab",
   "outputs": [],
   "execution_count": 30
  },
  {
   "metadata": {},
   "cell_type": "markdown",
   "source": [
    "# Upsample the minority class for original data"
   ],
   "id": "91ec2302cd3e313a"
  },
  {
   "metadata": {
    "ExecuteTime": {
     "end_time": "2025-01-21T08:23:06.418894Z",
     "start_time": "2025-01-21T08:23:06.409306Z"
    }
   },
   "cell_type": "code",
   "source": [
    "# Upsample the minority class\n",
    "X_upsampled = original_X_train.copy().to_frame()\n",
    "X_upsampled[training_config.training[model_type].target] = original_y_train\n",
    "\n",
    "# Separate majority and minority classes\n",
    "df_majority = X_upsampled[X_upsampled[training_config.training[model_type].target] == 0]\n",
    "df_minority = X_upsampled[X_upsampled[training_config.training[model_type].target] == 1]\n",
    "\n",
    "# Upsample minority class\n",
    "df_minority_upsampled = resample(\n",
    "    df_minority,\n",
    "    replace=True,\n",
    "    n_samples=df_majority.shape[0],\n",
    "    random_state=42,\n",
    ")\n",
    "\n",
    "# Combine majority class with upsampled minority class\n",
    "df_upsampled = pd.concat([df_majority, df_minority_upsampled])\n",
    "\n",
    "# Display new class counts\n",
    "original_X_train = df_upsampled[training_config.training[model_type].features]\n",
    "original_y_train = df_upsampled[training_config.training[model_type].target]\n",
    "df_original_train = pd.concat([original_X_train, original_y_train], axis=1)"
   ],
   "id": "fb51c8cb60f26eca",
   "outputs": [],
   "execution_count": 31
  },
  {
   "metadata": {},
   "cell_type": "markdown",
   "source": [
    "# Concatenate the original and new class"
   ],
   "id": "536be11974b2f45"
  },
  {
   "metadata": {
    "ExecuteTime": {
     "end_time": "2025-01-21T08:23:08.295730Z",
     "start_time": "2025-01-21T08:23:08.285261Z"
    }
   },
   "cell_type": "code",
   "source": [
    "df_train = pd.concat(\n",
    "    [\n",
    "        df_original_train.sample(\n",
    "            frac=0.1, random_state=training_config.training.random_state\n",
    "        ),\n",
    "        new_class,\n",
    "    ]\n",
    ")\n",
    "X = df_train[features]\n",
    "y = df_train[target]"
   ],
   "id": "177c32ead9f69a90",
   "outputs": [],
   "execution_count": 32
  },
  {
   "metadata": {
    "ExecuteTime": {
     "end_time": "2025-01-21T08:23:09.829091Z",
     "start_time": "2025-01-21T08:23:09.822833Z"
    }
   },
   "cell_type": "code",
   "source": [
    "df_train[target].value_counts()"
   ],
   "id": "11766180b45a79fe",
   "outputs": [
    {
     "data": {
      "text/plain": [
       "label\n",
       "2    82\n",
       "1    64\n",
       "0    53\n",
       "Name: count, dtype: int64"
      ]
     },
     "execution_count": 33,
     "metadata": {},
     "output_type": "execute_result"
    }
   ],
   "execution_count": 33
  },
  {
   "metadata": {
    "ExecuteTime": {
     "end_time": "2025-01-21T08:23:16.384921Z",
     "start_time": "2025-01-21T08:23:16.379116Z"
    }
   },
   "cell_type": "code",
   "source": [
    "X.shape, y.shape"
   ],
   "id": "d5168a5e207d0cab",
   "outputs": [
    {
     "data": {
      "text/plain": [
       "((199,), (199,))"
      ]
     },
     "execution_count": 34,
     "metadata": {},
     "output_type": "execute_result"
    }
   ],
   "execution_count": 34
  },
  {
   "metadata": {},
   "cell_type": "markdown",
   "source": [
    "# Create test set"
   ],
   "id": "53163d5313ecd760"
  },
  {
   "metadata": {
    "ExecuteTime": {
     "end_time": "2025-01-21T08:23:20.371276Z",
     "start_time": "2025-01-21T08:23:20.365742Z"
    }
   },
   "cell_type": "code",
   "source": [
    "# Remove the detected new class from the true new class dataset (avoid data leakage)\n",
    "true_new_class = true_new_class[~true_new_class[features].isin(df_train[features])]"
   ],
   "id": "c1cdd11e9cac5c7e",
   "outputs": [],
   "execution_count": 35
  },
  {
   "metadata": {
    "ExecuteTime": {
     "end_time": "2025-01-21T08:23:21.649979Z",
     "start_time": "2025-01-21T08:23:21.645405Z"
    }
   },
   "cell_type": "code",
   "source": [
    "# Concatenate the original test set and the true new class\n",
    "original_df = pd.DataFrame({features:original_X_test.values, target:original_y_test.values})\n",
    "df_test = pd.concat([original_df, true_new_class])"
   ],
   "id": "9cd8eea4ec04eeb3",
   "outputs": [],
   "execution_count": 36
  },
  {
   "metadata": {
    "ExecuteTime": {
     "end_time": "2025-01-21T08:23:22.062998Z",
     "start_time": "2025-01-21T08:23:22.057365Z"
    }
   },
   "cell_type": "code",
   "source": [
    "df_test.shape"
   ],
   "id": "d9df074b9706c4f4",
   "outputs": [
    {
     "data": {
      "text/plain": [
       "(481, 2)"
      ]
     },
     "execution_count": 37,
     "metadata": {},
     "output_type": "execute_result"
    }
   ],
   "execution_count": 37
  },
  {
   "metadata": {},
   "cell_type": "markdown",
   "source": [
    "# Split the data into training and validation sets"
   ],
   "id": "cac7eef08e66143c"
  },
  {
   "metadata": {
    "ExecuteTime": {
     "end_time": "2025-01-21T08:23:25.895792Z",
     "start_time": "2025-01-21T08:23:25.885768Z"
    }
   },
   "cell_type": "code",
   "source": [
    "from sklearn.model_selection import train_test_split\n",
    "\n",
    "X_train, X_val, y_train, y_val = train_test_split(\n",
    "    X, y, test_size=0.2, random_state=42, stratify=y\n",
    ")"
   ],
   "id": "2427b4fd2944fc09",
   "outputs": [],
   "execution_count": 38
  },
  {
   "metadata": {
    "ExecuteTime": {
     "end_time": "2025-01-21T08:23:26.286466Z",
     "start_time": "2025-01-21T08:23:26.280686Z"
    }
   },
   "cell_type": "code",
   "source": [
    "X_train.shape, y_train.shape, X_val.shape, y_val.shape"
   ],
   "id": "1c67a0adfb27ed48",
   "outputs": [
    {
     "data": {
      "text/plain": [
       "((159,), (159,), (40,), (40,))"
      ]
     },
     "execution_count": 39,
     "metadata": {},
     "output_type": "execute_result"
    }
   ],
   "execution_count": 39
  },
  {
   "metadata": {
    "ExecuteTime": {
     "end_time": "2025-01-21T08:23:28.209686Z",
     "start_time": "2025-01-21T08:23:28.200405Z"
    }
   },
   "cell_type": "code",
   "source": [
    "y_train.value_counts()"
   ],
   "id": "66b5c2df306c87a4",
   "outputs": [
    {
     "data": {
      "text/plain": [
       "label\n",
       "2    66\n",
       "1    51\n",
       "0    42\n",
       "Name: count, dtype: int64"
      ]
     },
     "execution_count": 40,
     "metadata": {},
     "output_type": "execute_result"
    }
   ],
   "execution_count": 40
  },
  {
   "metadata": {
    "ExecuteTime": {
     "end_time": "2025-01-21T08:23:30.290767Z",
     "start_time": "2025-01-21T08:23:29.275658Z"
    }
   },
   "cell_type": "code",
   "source": [
    "from src.training.utils import upsample_dataset\n",
    "\n",
    "X_train, y_train = upsample_dataset(X_train, y_train, training_config, model_type)\n",
    "X_train = X_train.reset_index(drop=True)\n",
    "y_train = y_train.reset_index(drop=True)"
   ],
   "id": "5eebd746abf023b0",
   "outputs": [],
   "execution_count": 41
  },
  {
   "metadata": {
    "ExecuteTime": {
     "end_time": "2025-01-21T08:23:31.008133Z",
     "start_time": "2025-01-21T08:23:30.995214Z"
    }
   },
   "cell_type": "code",
   "source": [
    "X_train.shape, y_train.shape"
   ],
   "id": "8b3eab7d2e7e0f5f",
   "outputs": [
    {
     "data": {
      "text/plain": [
       "((198,), (198,))"
      ]
     },
     "execution_count": 42,
     "metadata": {},
     "output_type": "execute_result"
    }
   ],
   "execution_count": 42
  },
  {
   "metadata": {
    "ExecuteTime": {
     "end_time": "2025-01-21T08:23:31.409145Z",
     "start_time": "2025-01-21T08:23:31.395593Z"
    }
   },
   "cell_type": "code",
   "source": [
    "y_train.value_counts()"
   ],
   "id": "920bb0cb51028f2",
   "outputs": [
    {
     "data": {
      "text/plain": [
       "label\n",
       "2    66\n",
       "1    66\n",
       "0    66\n",
       "Name: count, dtype: int64"
      ]
     },
     "execution_count": 43,
     "metadata": {},
     "output_type": "execute_result"
    }
   ],
   "execution_count": 43
  },
  {
   "metadata": {},
   "cell_type": "markdown",
   "source": [
    "# Load and train model"
   ],
   "id": "32f8a5f34e31cd95"
  },
  {
   "metadata": {
    "ExecuteTime": {
     "end_time": "2025-01-21T08:23:35.214188Z",
     "start_time": "2025-01-21T08:23:35.205797Z"
    }
   },
   "cell_type": "code",
   "source": [
    "new_num_labels = len(y_train.unique())"
   ],
   "id": "ec7e352658dbf979",
   "outputs": [],
   "execution_count": 44
  },
  {
   "metadata": {
    "ExecuteTime": {
     "end_time": "2025-01-21T08:23:38.813024Z",
     "start_time": "2025-01-21T08:23:37.370487Z"
    }
   },
   "cell_type": "code",
   "source": [
    "import importlib\n",
    "from src.training import model  # Import the module\n",
    "\n",
    "importlib.reload(model)  # Reload the module\n",
    "\n",
    "clf = model.TransformerClassifier(\n",
    "    model_name=None,    num_labels=num_labels,\n",
    "    local_model_path=\"../../output_models/prod/trained_model\",\n",
    ")"
   ],
   "id": "a4c8bb50e9f483a8",
   "outputs": [],
   "execution_count": 45
  },
  {
   "metadata": {
    "ExecuteTime": {
     "end_time": "2025-01-21T09:27:12.035537Z",
     "start_time": "2025-01-21T08:23:42.875431Z"
    }
   },
   "cell_type": "code",
   "source": [
    "clf_incremented = clf.incremental_fit(\n",
    "    X_train,\n",
    "    y_train,\n",
    "    new_num_labels,\n",
    "    eval_X=X_val,\n",
    "    eval_y=y_val,\n",
    "    learning_rate=2e-5,\n",
    "    num_train_epochs=10,\n",
    "    per_device_train_batch_size=16,\n",
    "    per_device_eval_batch_size=16,\n",
    "    early_stopping_patience=2,\n",
    "    #freeze_layers_prefix=[\"bert.embeddings\", \"bert.encoder\"],\n",
    ")"
   ],
   "id": "20fe2a8349796aa6",
   "outputs": [
    {
     "name": "stdout",
     "output_type": "stream",
     "text": [
      "Expanding classifier from 2 to 3...\n"
     ]
    },
    {
     "name": "stderr",
     "output_type": "stream",
     "text": [
      "Some weights of BertForSequenceClassification were not initialized from the model checkpoint at ../../output_models/prod/trained_model and are newly initialized because the shapes did not match:\n",
      "- classifier.bias: found shape torch.Size([2]) in the checkpoint and torch.Size([3]) in the model instantiated\n",
      "- classifier.weight: found shape torch.Size([2, 768]) in the checkpoint and torch.Size([3, 768]) in the model instantiated\n",
      "You should probably TRAIN this model on a down-stream task to be able to use it for predictions and inference.\n"
     ]
    },
    {
     "data": {
      "text/plain": [
       "<IPython.core.display.HTML object>"
      ],
      "text/html": [
       "\n",
       "    <div>\n",
       "      \n",
       "      <progress value='78' max='130' style='width:300px; height:20px; vertical-align: middle;'></progress>\n",
       "      [ 78/130 1:02:44 < 42:55, 0.02 it/s, Epoch 6/10]\n",
       "    </div>\n",
       "    <table border=\"1\" class=\"dataframe\">\n",
       "  <thead>\n",
       " <tr style=\"text-align: left;\">\n",
       "      <th>Epoch</th>\n",
       "      <th>Training Loss</th>\n",
       "      <th>Validation Loss</th>\n",
       "    </tr>\n",
       "  </thead>\n",
       "  <tbody>\n",
       "    <tr>\n",
       "      <td>1</td>\n",
       "      <td>0.304100</td>\n",
       "      <td>0.451854</td>\n",
       "    </tr>\n",
       "    <tr>\n",
       "      <td>2</td>\n",
       "      <td>0.067100</td>\n",
       "      <td>0.446428</td>\n",
       "    </tr>\n",
       "    <tr>\n",
       "      <td>3</td>\n",
       "      <td>0.098100</td>\n",
       "      <td>0.492681</td>\n",
       "    </tr>\n",
       "    <tr>\n",
       "      <td>4</td>\n",
       "      <td>0.000700</td>\n",
       "      <td>0.415018</td>\n",
       "    </tr>\n",
       "    <tr>\n",
       "      <td>5</td>\n",
       "      <td>0.011800</td>\n",
       "      <td>0.460572</td>\n",
       "    </tr>\n",
       "    <tr>\n",
       "      <td>6</td>\n",
       "      <td>0.000700</td>\n",
       "      <td>0.651663</td>\n",
       "    </tr>\n",
       "  </tbody>\n",
       "</table><p>"
      ]
     },
     "metadata": {},
     "output_type": "display_data"
    }
   ],
   "execution_count": 46
  },
  {
   "metadata": {
    "ExecuteTime": {
     "end_time": "2025-01-20T07:58:38.659665Z",
     "start_time": "2025-01-20T07:58:30.345195Z"
    }
   },
   "cell_type": "code",
   "source": [
    "# Save the model\n",
    "clf_incremented.save_model(f\"../../output_models/{env}/incremented_model\")"
   ],
   "id": "c82e4658bc76d367",
   "outputs": [
    {
     "name": "stdout",
     "output_type": "stream",
     "text": [
      "Model and tokenizer saved to ../../output_models/prod/incremented_trained_model.\n"
     ]
    }
   ],
   "execution_count": 33
  },
  {
   "metadata": {
    "ExecuteTime": {
     "end_time": "2025-01-20T07:58:45.165522Z",
     "start_time": "2025-01-20T07:58:43.308573Z"
    }
   },
   "cell_type": "code",
   "source": [
    "clf_incremented = model.TransformerClassifier(\n",
    "    model_name=None,    num_labels=new_num_labels,\n",
    "    local_model_path=\"../../output_models/prod/incremented_model\",\n",
    ")"
   ],
   "id": "dca8cf9db2174589",
   "outputs": [],
   "execution_count": 34
  },
  {
   "metadata": {
    "ExecuteTime": {
     "end_time": "2025-01-21T09:53:05.706635Z",
     "start_time": "2025-01-21T09:47:08.776742Z"
    }
   },
   "cell_type": "code",
   "source": [
    "# Evaluate on test set\n",
    "\n",
    "from sklearn.metrics import classification_report\n",
    "\n",
    "y_pred = clf_incremented.predict(df_test[features])\n",
    "print(classification_report(df_test[target], y_pred))"
   ],
   "id": "823497fb2c6a69fa",
   "outputs": [
    {
     "data": {
      "text/plain": [
       "<IPython.core.display.HTML object>"
      ],
      "text/html": []
     },
     "metadata": {},
     "output_type": "display_data"
    },
    {
     "name": "stdout",
     "output_type": "stream",
     "text": [
      "              precision    recall  f1-score   support\n",
      "\n",
      "           0       0.55      0.75      0.64        97\n",
      "           1       0.62      0.79      0.70        77\n",
      "           2       0.89      0.73      0.80       307\n",
      "\n",
      "    accuracy                           0.74       481\n",
      "   macro avg       0.69      0.76      0.71       481\n",
      "weighted avg       0.78      0.74      0.75       481\n",
      "\n"
     ]
    }
   ],
   "execution_count": 47
  },
  {
   "metadata": {
    "ExecuteTime": {
     "end_time": "2025-01-21T09:53:06.053839Z",
     "start_time": "2025-01-21T09:53:05.707641Z"
    }
   },
   "cell_type": "code",
   "source": [
    "# confusion matrix\n",
    "from sklearn.metrics import confusion_matrix\n",
    "import seaborn as sns\n",
    "import matplotlib.pyplot as plt\n",
    "\n",
    "cm = confusion_matrix(df_test[target], y_pred)\n",
    "plt.figure(figsize=(10, 8))\n",
    "sns.heatmap(cm, annot=True, fmt=\"d\", cmap=\"Blues\")\n",
    "plt.show()"
   ],
   "id": "a4c588571f88f963",
   "outputs": [
    {
     "data": {
      "text/plain": [
       "<Figure size 1000x800 with 2 Axes>"
      ],
      "image/png": "[encoded data removed]"
     },
     "metadata": {},
     "output_type": "display_data"
    }
   ],
   "execution_count": 48
  },
  {
   "metadata": {},
   "cell_type": "code",
   "outputs": [],
   "execution_count": null,
   "source": [],
   "id": "6c59dda27c22c828"
  }
 ],
 "metadata": {
  "kernelspec": {
   "display_name": "Python 3",
   "language": "python",
   "name": "python3"
  },
  "language_info": {
   "codemirror_mode": {
    "name": "ipython",
    "version": 2
   },
   "file_extension": ".py",
   "mimetype": "text/x-python",
   "name": "python",
   "nbconvert_exporter": "python",
   "pygments_lexer": "ipython2",
   "version": "2.7.6"
  }
 },
 "nbformat": 4,
 "nbformat_minor": 5
}
