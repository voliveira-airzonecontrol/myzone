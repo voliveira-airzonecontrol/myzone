{
 "cells": [
  {
   "cell_type": "code",
   "id": "initial_id",
   "metadata": {
    "collapsed": true,
    "ExecuteTime": {
     "end_time": "2025-01-19T18:07:29.310971Z",
     "start_time": "2025-01-19T18:07:23.417775Z"
    }
   },
   "source": [
    "from src.training.model import TransformerClassifier\n",
    "from src.utils import load_config\n",
    "import pandas as pd\n",
    "from sklearn.model_selection import train_test_split\n",
    "from sklearn.utils import resample"
   ],
   "outputs": [],
   "execution_count": 1
  },
  {
   "metadata": {
    "ExecuteTime": {
     "end_time": "2025-01-19T18:07:29.336202Z",
     "start_time": "2025-01-19T18:07:29.312044Z"
    }
   },
   "cell_type": "code",
   "source": [
    "# Load config\n",
    "env = \"prod\"\n",
    "model_type = \"BERT\"\n",
    "\n",
    "training_config = load_config(\n",
    "    file_name=\"training_config\", env=env, folder=\"../../config\"\n",
    ")"
   ],
   "id": "8569358f358a0a89",
   "outputs": [],
   "execution_count": 2
  },
  {
   "metadata": {},
   "cell_type": "markdown",
   "source": [
    "# Load data"
   ],
   "id": "4bcb6f352a59297a"
  },
  {
   "metadata": {
    "ExecuteTime": {
     "end_time": "2025-01-19T18:33:45.133452Z",
     "start_time": "2025-01-19T18:33:45.127762Z"
    }
   },
   "cell_type": "code",
   "source": [
    "input_dataset = f\"../../output_data/{env}/supervised_dataset.parquet\"\n",
    "input_new_class = f\"../../output_reports/modelo 1/clustering/new_class.parquet\"\n",
    "input_true_new_class = f\"../../output_data/{env}/supervised_dataset_phase2.parquet\""
   ],
   "id": "f955904426de6da0",
   "outputs": [],
   "execution_count": 49
  },
  {
   "metadata": {
    "ExecuteTime": {
     "end_time": "2025-01-19T18:33:45.933899Z",
     "start_time": "2025-01-19T18:33:45.908803Z"
    }
   },
   "cell_type": "code",
   "source": [
    "known_classes = pd.read_parquet(input_dataset)\n",
    "new_class = pd.read_parquet(input_new_class)\n",
    "true_new_class = pd.read_parquet(input_true_new_class)"
   ],
   "id": "7cd6126f4c5feeb3",
   "outputs": [],
   "execution_count": 50
  },
  {
   "metadata": {
    "ExecuteTime": {
     "end_time": "2025-01-19T18:08:33.913008Z",
     "start_time": "2025-01-19T18:08:33.908396Z"
    }
   },
   "cell_type": "code",
   "source": [
    "features = training_config.training[model_type].features\n",
    "target = training_config.training[model_type].target"
   ],
   "id": "8907a8ba81550f0c",
   "outputs": [],
   "execution_count": 24
  },
  {
   "metadata": {
    "ExecuteTime": {
     "end_time": "2025-01-19T18:08:34.184617Z",
     "start_time": "2025-01-19T18:08:34.174172Z"
    }
   },
   "cell_type": "code",
   "source": [
    "known_classes = known_classes[[features, target]]\n",
    "new_class = new_class[[features, target]]\n",
    "true_new_class = true_new_class[[features, target]]"
   ],
   "id": "cbafb49a4e2de55e",
   "outputs": [],
   "execution_count": 25
  },
  {
   "metadata": {
    "ExecuteTime": {
     "end_time": "2025-01-19T18:08:34.608028Z",
     "start_time": "2025-01-19T18:08:34.603246Z"
    }
   },
   "cell_type": "code",
   "source": [
    "num_labels = known_classes[target].nunique()"
   ],
   "id": "a370516381a2dc0c",
   "outputs": [],
   "execution_count": 26
  },
  {
   "cell_type": "code",
   "outputs": [
    {
     "data": {
      "text/plain": "                            processed_text_to_analyse  label  \\\n0   pantalla congelada lengua emparejar bateria ca...      0   \n1   pensar pantalla quita blueface pantalla bloque...      1   \n2   termostato blueface blanco pantalla pixelada p...      1   \n3   pantallas bloqueadas tacto responde pantalla p...      0   \n4   termostato cambia pantalla color verde rojo oc...      1   \n..                                                ...    ...   \n85  visto linea directa comunicacion caja registra...      2   \n86  numero archivo linea directa 240300921 sustitu...      2   \n87  numero archivo linea directa 240300921 sustitu...      2   \n88  2 mandos distancia defectuosos comunicaciones ...      2   \n89   senal termostato.dist.monocromo 32 z.radio senal      2   \n\n                                           embeddings  cluster  \\\n0   [1.1179554, -0.7045866, -0.112711154, -0.06192...        0   \n1   [1.2228342, -0.9498797, -0.33459154, -0.356697...        0   \n2   [0.8502154, -1.0835518, 0.032752212, -0.747968...        1   \n3   [1.3592331, -0.79204917, -0.3811632, -0.202186...        0   \n4   [0.7688265, -1.2495435, 0.058489777, -0.713636...       -1   \n..                                                ...      ...   \n85  [1.073865, -0.55823165, -0.92930335, 0.4183844...        0   \n86  [0.71984005, -0.7580546, -0.2647118, 0.4971769...        0   \n87  [0.9775894, -0.89244354, -0.17828754, 0.163492...        0   \n88  [1.2192621, -0.9650607, -0.021704776, 0.369362...        0   \n89  [0.18585794, -0.89737886, -0.8850561, -0.04352...        0   \n\n    distance_to_centroids  new_class  special_case  \n0                0.146103       True         False  \n1                0.096628       True         False  \n2                0.202329      False         False  \n3                0.155741       True         False  \n4                0.073886      False          True  \n..                    ...        ...           ...  \n85               0.158515       True         False  \n86               0.101424       True         False  \n87               0.101483       True         False  \n88               0.165564       True         False  \n89               0.139340       True         False  \n\n[90 rows x 7 columns]",
      "text/html": "<div>\n<style scoped>\n    .dataframe tbody tr th:only-of-type {\n        vertical-align: middle;\n    }\n\n    .dataframe tbody tr th {\n        vertical-align: top;\n    }\n\n    .dataframe thead th {\n        text-align: right;\n    }\n</style>\n<table border=\"1\" class=\"dataframe\">\n  <thead>\n    <tr style=\"text-align: right;\">\n      <th></th>\n      <th>processed_text_to_analyse</th>\n      <th>label</th>\n      <th>embeddings</th>\n      <th>cluster</th>\n      <th>distance_to_centroids</th>\n      <th>new_class</th>\n      <th>special_case</th>\n    </tr>\n  </thead>\n  <tbody>\n    <tr>\n      <th>0</th>\n      <td>pantalla congelada lengua emparejar bateria ca...</td>\n      <td>0</td>\n      <td>[1.1179554, -0.7045866, -0.112711154, -0.06192...</td>\n      <td>0</td>\n      <td>0.146103</td>\n      <td>True</td>\n      <td>False</td>\n    </tr>\n    <tr>\n      <th>1</th>\n      <td>pensar pantalla quita blueface pantalla bloque...</td>\n      <td>1</td>\n      <td>[1.2228342, -0.9498797, -0.33459154, -0.356697...</td>\n      <td>0</td>\n      <td>0.096628</td>\n      <td>True</td>\n      <td>False</td>\n    </tr>\n    <tr>\n      <th>2</th>\n      <td>termostato blueface blanco pantalla pixelada p...</td>\n      <td>1</td>\n      <td>[0.8502154, -1.0835518, 0.032752212, -0.747968...</td>\n      <td>1</td>\n      <td>0.202329</td>\n      <td>False</td>\n      <td>False</td>\n    </tr>\n    <tr>\n      <th>3</th>\n      <td>pantallas bloqueadas tacto responde pantalla p...</td>\n      <td>0</td>\n      <td>[1.3592331, -0.79204917, -0.3811632, -0.202186...</td>\n      <td>0</td>\n      <td>0.155741</td>\n      <td>True</td>\n      <td>False</td>\n    </tr>\n    <tr>\n      <th>4</th>\n      <td>termostato cambia pantalla color verde rojo oc...</td>\n      <td>1</td>\n      <td>[0.7688265, -1.2495435, 0.058489777, -0.713636...</td>\n      <td>-1</td>\n      <td>0.073886</td>\n      <td>False</td>\n      <td>True</td>\n    </tr>\n    <tr>\n      <th>...</th>\n      <td>...</td>\n      <td>...</td>\n      <td>...</td>\n      <td>...</td>\n      <td>...</td>\n      <td>...</td>\n      <td>...</td>\n    </tr>\n    <tr>\n      <th>85</th>\n      <td>visto linea directa comunicacion caja registra...</td>\n      <td>2</td>\n      <td>[1.073865, -0.55823165, -0.92930335, 0.4183844...</td>\n      <td>0</td>\n      <td>0.158515</td>\n      <td>True</td>\n      <td>False</td>\n    </tr>\n    <tr>\n      <th>86</th>\n      <td>numero archivo linea directa 240300921 sustitu...</td>\n      <td>2</td>\n      <td>[0.71984005, -0.7580546, -0.2647118, 0.4971769...</td>\n      <td>0</td>\n      <td>0.101424</td>\n      <td>True</td>\n      <td>False</td>\n    </tr>\n    <tr>\n      <th>87</th>\n      <td>numero archivo linea directa 240300921 sustitu...</td>\n      <td>2</td>\n      <td>[0.9775894, -0.89244354, -0.17828754, 0.163492...</td>\n      <td>0</td>\n      <td>0.101483</td>\n      <td>True</td>\n      <td>False</td>\n    </tr>\n    <tr>\n      <th>88</th>\n      <td>2 mandos distancia defectuosos comunicaciones ...</td>\n      <td>2</td>\n      <td>[1.2192621, -0.9650607, -0.021704776, 0.369362...</td>\n      <td>0</td>\n      <td>0.165564</td>\n      <td>True</td>\n      <td>False</td>\n    </tr>\n    <tr>\n      <th>89</th>\n      <td>senal termostato.dist.monocromo 32 z.radio senal</td>\n      <td>2</td>\n      <td>[0.18585794, -0.89737886, -0.8850561, -0.04352...</td>\n      <td>0</td>\n      <td>0.139340</td>\n      <td>True</td>\n      <td>False</td>\n    </tr>\n  </tbody>\n</table>\n<p>90 rows × 7 columns</p>\n</div>"
     },
     "execution_count": 51,
     "metadata": {},
     "output_type": "execute_result"
    }
   ],
   "source": [
    "new_class"
   ],
   "metadata": {
    "collapsed": false,
    "ExecuteTime": {
     "end_time": "2025-01-19T18:33:47.975840Z",
     "start_time": "2025-01-19T18:33:47.959491Z"
    }
   },
   "id": "ea7d12d50c073d6b",
   "execution_count": 51
  },
  {
   "metadata": {},
   "cell_type": "markdown",
   "source": [
    "# Split data"
   ],
   "id": "bc2e54e4bfd51d1f"
  },
  {
   "metadata": {
    "ExecuteTime": {
     "end_time": "2025-01-19T18:08:35.155498Z",
     "start_time": "2025-01-19T18:08:35.151647Z"
    }
   },
   "cell_type": "code",
   "source": [
    "X = known_classes"
   ],
   "id": "81ee7f6e67c0cefe",
   "outputs": [],
   "execution_count": 27
  },
  {
   "metadata": {
    "ExecuteTime": {
     "end_time": "2025-01-19T18:08:35.489730Z",
     "start_time": "2025-01-19T18:08:35.480241Z"
    }
   },
   "cell_type": "code",
   "source": [
    "original_X_train, original_X_test, original_y_train, original_y_test = train_test_split(\n",
    "    # X.drop(columns=[training_config.training[model_type].target]),\n",
    "    X[training_config.training[model_type].features],\n",
    "    X[training_config.training[model_type].target],\n",
    "    test_size=training_config.training[model_type].test_size,\n",
    "    random_state=training_config.training.random_state,\n",
    "    stratify=X[training_config.training[model_type].target],\n",
    ")\n",
    "original_X_test, original_X_cp, original_y_test, original_y_cp = train_test_split(\n",
    "    original_X_test,\n",
    "    original_y_test,\n",
    "    test_size=training_config.training[model_type].cp_size,\n",
    "    random_state=training_config.training.random_state,\n",
    "    stratify=original_y_test,\n",
    ")"
   ],
   "id": "e2742f268d49f4ab",
   "outputs": [],
   "execution_count": 28
  },
  {
   "metadata": {},
   "cell_type": "markdown",
   "source": [
    "# Upsample the minority class for original data"
   ],
   "id": "91ec2302cd3e313a"
  },
  {
   "metadata": {
    "ExecuteTime": {
     "end_time": "2025-01-19T18:08:36.421908Z",
     "start_time": "2025-01-19T18:08:36.408519Z"
    }
   },
   "cell_type": "code",
   "source": [
    "# Upsample the minority class\n",
    "X_upsampled = original_X_train.copy().to_frame()\n",
    "X_upsampled[training_config.training[model_type].target] = original_y_train\n",
    "\n",
    "# Separate majority and minority classes\n",
    "df_majority = X_upsampled[X_upsampled[training_config.training[model_type].target] == 0]\n",
    "df_minority = X_upsampled[X_upsampled[training_config.training[model_type].target] == 1]\n",
    "\n",
    "# Upsample minority class\n",
    "df_minority_upsampled = resample(\n",
    "    df_minority,\n",
    "    replace=True,\n",
    "    n_samples=df_majority.shape[0],\n",
    "    random_state=42,\n",
    ")\n",
    "\n",
    "# Combine majority class with upsampled minority class\n",
    "df_upsampled = pd.concat([df_majority, df_minority_upsampled])\n",
    "\n",
    "# Display new class counts\n",
    "original_X_train = df_upsampled[training_config.training[model_type].features]\n",
    "original_y_train = df_upsampled[training_config.training[model_type].target]\n",
    "df_original_train = pd.concat([original_X_train, original_y_train], axis=1)"
   ],
   "id": "fb51c8cb60f26eca",
   "outputs": [],
   "execution_count": 29
  },
  {
   "metadata": {},
   "cell_type": "markdown",
   "source": [
    "# Concatenate the original and new class"
   ],
   "id": "536be11974b2f45"
  },
  {
   "metadata": {
    "ExecuteTime": {
     "end_time": "2025-01-19T18:08:38.986141Z",
     "start_time": "2025-01-19T18:08:38.980574Z"
    }
   },
   "cell_type": "code",
   "source": [
    "df_train = pd.concat(\n",
    "    [\n",
    "        df_original_train.sample(\n",
    "            frac=0.1, random_state=training_config.training.random_state\n",
    "        ),\n",
    "        new_class,\n",
    "    ]\n",
    ")\n",
    "X = df_train[features]\n",
    "y = df_train[target]"
   ],
   "id": "177c32ead9f69a90",
   "outputs": [],
   "execution_count": 30
  },
  {
   "metadata": {
    "ExecuteTime": {
     "end_time": "2025-01-19T18:08:40.254555Z",
     "start_time": "2025-01-19T18:08:40.247443Z"
    }
   },
   "cell_type": "code",
   "source": [
    "df_train[target].value_counts()"
   ],
   "id": "11766180b45a79fe",
   "outputs": [
    {
     "data": {
      "text/plain": "label\n2    98\n1    75\n0    63\nName: count, dtype: int64"
     },
     "execution_count": 31,
     "metadata": {},
     "output_type": "execute_result"
    }
   ],
   "execution_count": 31
  },
  {
   "metadata": {
    "ExecuteTime": {
     "end_time": "2025-01-19T18:08:42.828656Z",
     "start_time": "2025-01-19T18:08:42.822865Z"
    }
   },
   "cell_type": "code",
   "source": [
    "X.shape, y.shape"
   ],
   "id": "d5168a5e207d0cab",
   "outputs": [
    {
     "data": {
      "text/plain": "((236,), (236,))"
     },
     "execution_count": 32,
     "metadata": {},
     "output_type": "execute_result"
    }
   ],
   "execution_count": 32
  },
  {
   "metadata": {},
   "cell_type": "markdown",
   "source": [
    "# Create test set"
   ],
   "id": "53163d5313ecd760"
  },
  {
   "metadata": {
    "ExecuteTime": {
     "end_time": "2025-01-19T18:08:48.108171Z",
     "start_time": "2025-01-19T18:08:48.103116Z"
    }
   },
   "cell_type": "code",
   "source": [
    "# Remove the detected new class from the true new class dataset (avoid data leakage)\n",
    "true_new_class = true_new_class[~true_new_class[features].isin(df_train[features])]"
   ],
   "id": "c1cdd11e9cac5c7e",
   "outputs": [],
   "execution_count": 33
  },
  {
   "metadata": {
    "ExecuteTime": {
     "end_time": "2025-01-19T18:08:49.176240Z",
     "start_time": "2025-01-19T18:08:49.171028Z"
    }
   },
   "cell_type": "code",
   "source": [
    "# Concatenate the original test set and the true new class\n",
    "original_df = pd.DataFrame({features:original_X_test.values, target:original_y_test.values})\n",
    "df_test = pd.concat([original_df, true_new_class])"
   ],
   "id": "9cd8eea4ec04eeb3",
   "outputs": [],
   "execution_count": 34
  },
  {
   "metadata": {
    "ExecuteTime": {
     "end_time": "2025-01-19T18:08:49.918429Z",
     "start_time": "2025-01-19T18:08:49.908646Z"
    }
   },
   "cell_type": "code",
   "source": [
    "df_test.shape"
   ],
   "id": "d9df074b9706c4f4",
   "outputs": [
    {
     "data": {
      "text/plain": "(465, 2)"
     },
     "execution_count": 35,
     "metadata": {},
     "output_type": "execute_result"
    }
   ],
   "execution_count": 35
  },
  {
   "metadata": {},
   "cell_type": "markdown",
   "source": [
    "# Split the data into training and validation sets"
   ],
   "id": "cac7eef08e66143c"
  },
  {
   "metadata": {
    "ExecuteTime": {
     "end_time": "2025-01-19T18:08:51.774216Z",
     "start_time": "2025-01-19T18:08:51.767826Z"
    }
   },
   "cell_type": "code",
   "source": [
    "from sklearn.model_selection import train_test_split\n",
    "\n",
    "X_train, X_val, y_train, y_val = train_test_split(\n",
    "    X, y, test_size=0.2, random_state=42, stratify=y\n",
    ")"
   ],
   "id": "2427b4fd2944fc09",
   "outputs": [],
   "execution_count": 36
  },
  {
   "metadata": {
    "ExecuteTime": {
     "end_time": "2025-01-19T18:08:52.316216Z",
     "start_time": "2025-01-19T18:08:52.309739Z"
    }
   },
   "cell_type": "code",
   "source": [
    "X_train.shape, y_train.shape, X_val.shape, y_val.shape"
   ],
   "id": "1c67a0adfb27ed48",
   "outputs": [
    {
     "data": {
      "text/plain": "((188,), (188,), (48,), (48,))"
     },
     "execution_count": 37,
     "metadata": {},
     "output_type": "execute_result"
    }
   ],
   "execution_count": 37
  },
  {
   "metadata": {
    "ExecuteTime": {
     "end_time": "2025-01-19T18:08:53.065797Z",
     "start_time": "2025-01-19T18:08:53.054283Z"
    }
   },
   "cell_type": "code",
   "source": [
    "y_train.value_counts()"
   ],
   "id": "66b5c2df306c87a4",
   "outputs": [
    {
     "data": {
      "text/plain": "label\n2    78\n1    60\n0    50\nName: count, dtype: int64"
     },
     "execution_count": 38,
     "metadata": {},
     "output_type": "execute_result"
    }
   ],
   "execution_count": 38
  },
  {
   "metadata": {
    "ExecuteTime": {
     "end_time": "2025-01-19T18:08:54.164575Z",
     "start_time": "2025-01-19T18:08:54.152596Z"
    }
   },
   "cell_type": "code",
   "source": [
    "from src.training.utils import upsample_dataset\n",
    "\n",
    "X_train, y_train = upsample_dataset(X_train, y_train, training_config, model_type)\n",
    "X_train = X_train.reset_index(drop=True)\n",
    "y_train = y_train.reset_index(drop=True)"
   ],
   "id": "5eebd746abf023b0",
   "outputs": [],
   "execution_count": 39
  },
  {
   "metadata": {
    "ExecuteTime": {
     "end_time": "2025-01-19T18:08:55.017270Z",
     "start_time": "2025-01-19T18:08:55.011913Z"
    }
   },
   "cell_type": "code",
   "source": [
    "X_train.shape, y_train.shape"
   ],
   "id": "8b3eab7d2e7e0f5f",
   "outputs": [
    {
     "data": {
      "text/plain": "((234,), (234,))"
     },
     "execution_count": 40,
     "metadata": {},
     "output_type": "execute_result"
    }
   ],
   "execution_count": 40
  },
  {
   "metadata": {
    "ExecuteTime": {
     "end_time": "2025-01-19T18:08:55.455311Z",
     "start_time": "2025-01-19T18:08:55.447758Z"
    }
   },
   "cell_type": "code",
   "source": [
    "y_train.value_counts()"
   ],
   "id": "920bb0cb51028f2",
   "outputs": [
    {
     "data": {
      "text/plain": "label\n2    78\n0    78\n1    78\nName: count, dtype: int64"
     },
     "execution_count": 41,
     "metadata": {},
     "output_type": "execute_result"
    }
   ],
   "execution_count": 41
  },
  {
   "metadata": {},
   "cell_type": "markdown",
   "source": [
    "# Load and train model"
   ],
   "id": "32f8a5f34e31cd95"
  },
  {
   "metadata": {
    "ExecuteTime": {
     "end_time": "2025-01-19T18:09:00.835435Z",
     "start_time": "2025-01-19T18:09:00.831183Z"
    }
   },
   "cell_type": "code",
   "source": [
    "new_num_labels = len(y_train.unique())"
   ],
   "id": "ec7e352658dbf979",
   "outputs": [],
   "execution_count": 42
  },
  {
   "metadata": {
    "ExecuteTime": {
     "end_time": "2025-01-19T18:09:08.140593Z",
     "start_time": "2025-01-19T18:09:06.787333Z"
    }
   },
   "cell_type": "code",
   "source": [
    "import importlib\n",
    "from src.training import model  # Import the module\n",
    "\n",
    "importlib.reload(model)  # Reload the module\n",
    "\n",
    "clf = model.TransformerClassifier(\n",
    "    model_name=None,    num_labels=num_labels,\n",
    "    local_model_path=\"../../output_models/prod/trained_model\",\n",
    ")"
   ],
   "id": "a4c8bb50e9f483a8",
   "outputs": [],
   "execution_count": 43
  },
  {
   "metadata": {
    "ExecuteTime": {
     "end_time": "2025-01-10T11:58:52.562149Z",
     "start_time": "2025-01-10T11:25:47.685908Z"
    }
   },
   "cell_type": "code",
   "source": [
    "clf_incremented = clf.incremental_fit(\n",
    "    X_train,\n",
    "    y_train,\n",
    "    new_num_labels,\n",
    "    eval_X=X_val,\n",
    "    eval_y=y_val,\n",
    "    freeze_layers_prefix=[\"bert.embeddings\", \"bert.encoder\"],\n",
    "    epochs=100\n",
    ")"
   ],
   "id": "20fe2a8349796aa6",
   "outputs": [
    {
     "name": "stdout",
     "output_type": "stream",
     "text": [
      "Expanding classifier from 2 to 3...\n"
     ]
    },
    {
     "name": "stderr",
     "output_type": "stream",
     "text": [
      "Some weights of BertForSequenceClassification were not initialized from the model checkpoint at ../../output_models/prod/trained_model and are newly initialized because the shapes did not match:\n",
      "- classifier.bias: found shape torch.Size([2]) in the checkpoint and torch.Size([3]) in the model instantiated\n",
      "- classifier.weight: found shape torch.Size([2, 768]) in the checkpoint and torch.Size([3, 768]) in the model instantiated\n",
      "You should probably TRAIN this model on a down-stream task to be able to use it for predictions and inference.\n"
     ]
    },
    {
     "data": {
      "text/plain": [
       "<IPython.core.display.HTML object>"
      ],
      "text/html": [
       "\n",
       "    <div>\n",
       "      \n",
       "      <progress value='648' max='1200' style='width:300px; height:20px; vertical-align: middle;'></progress>\n",
       "      [ 648/1200 32:59 < 28:11, 0.33 it/s, Epoch 54/100]\n",
       "    </div>\n",
       "    <table border=\"1\" class=\"dataframe\">\n",
       "  <thead>\n",
       " <tr style=\"text-align: left;\">\n",
       "      <th>Epoch</th>\n",
       "      <th>Training Loss</th>\n",
       "      <th>Validation Loss</th>\n",
       "    </tr>\n",
       "  </thead>\n",
       "  <tbody>\n",
       "    <tr>\n",
       "      <td>1</td>\n",
       "      <td>0.601400</td>\n",
       "      <td>0.682351</td>\n",
       "    </tr>\n",
       "    <tr>\n",
       "      <td>2</td>\n",
       "      <td>0.478400</td>\n",
       "      <td>0.648224</td>\n",
       "    </tr>\n",
       "    <tr>\n",
       "      <td>3</td>\n",
       "      <td>0.421100</td>\n",
       "      <td>0.612839</td>\n",
       "    </tr>\n",
       "    <tr>\n",
       "      <td>4</td>\n",
       "      <td>0.514300</td>\n",
       "      <td>0.605378</td>\n",
       "    </tr>\n",
       "    <tr>\n",
       "      <td>5</td>\n",
       "      <td>0.382600</td>\n",
       "      <td>0.590812</td>\n",
       "    </tr>\n",
       "    <tr>\n",
       "      <td>6</td>\n",
       "      <td>0.414600</td>\n",
       "      <td>0.576906</td>\n",
       "    </tr>\n",
       "    <tr>\n",
       "      <td>7</td>\n",
       "      <td>0.453600</td>\n",
       "      <td>0.569560</td>\n",
       "    </tr>\n",
       "    <tr>\n",
       "      <td>8</td>\n",
       "      <td>0.355200</td>\n",
       "      <td>0.545554</td>\n",
       "    </tr>\n",
       "    <tr>\n",
       "      <td>9</td>\n",
       "      <td>0.316500</td>\n",
       "      <td>0.537765</td>\n",
       "    </tr>\n",
       "    <tr>\n",
       "      <td>10</td>\n",
       "      <td>0.294200</td>\n",
       "      <td>0.510796</td>\n",
       "    </tr>\n",
       "    <tr>\n",
       "      <td>11</td>\n",
       "      <td>0.289600</td>\n",
       "      <td>0.515616</td>\n",
       "    </tr>\n",
       "    <tr>\n",
       "      <td>12</td>\n",
       "      <td>0.411400</td>\n",
       "      <td>0.500819</td>\n",
       "    </tr>\n",
       "    <tr>\n",
       "      <td>13</td>\n",
       "      <td>0.299200</td>\n",
       "      <td>0.486006</td>\n",
       "    </tr>\n",
       "    <tr>\n",
       "      <td>14</td>\n",
       "      <td>0.308200</td>\n",
       "      <td>0.486510</td>\n",
       "    </tr>\n",
       "    <tr>\n",
       "      <td>15</td>\n",
       "      <td>0.286000</td>\n",
       "      <td>0.477195</td>\n",
       "    </tr>\n",
       "    <tr>\n",
       "      <td>16</td>\n",
       "      <td>0.269600</td>\n",
       "      <td>0.463073</td>\n",
       "    </tr>\n",
       "    <tr>\n",
       "      <td>17</td>\n",
       "      <td>0.224600</td>\n",
       "      <td>0.459922</td>\n",
       "    </tr>\n",
       "    <tr>\n",
       "      <td>18</td>\n",
       "      <td>0.288600</td>\n",
       "      <td>0.454257</td>\n",
       "    </tr>\n",
       "    <tr>\n",
       "      <td>19</td>\n",
       "      <td>0.287100</td>\n",
       "      <td>0.451577</td>\n",
       "    </tr>\n",
       "    <tr>\n",
       "      <td>20</td>\n",
       "      <td>0.280100</td>\n",
       "      <td>0.448740</td>\n",
       "    </tr>\n",
       "    <tr>\n",
       "      <td>21</td>\n",
       "      <td>0.265800</td>\n",
       "      <td>0.438125</td>\n",
       "    </tr>\n",
       "    <tr>\n",
       "      <td>22</td>\n",
       "      <td>0.224900</td>\n",
       "      <td>0.435692</td>\n",
       "    </tr>\n",
       "    <tr>\n",
       "      <td>23</td>\n",
       "      <td>0.301600</td>\n",
       "      <td>0.430467</td>\n",
       "    </tr>\n",
       "    <tr>\n",
       "      <td>24</td>\n",
       "      <td>0.196700</td>\n",
       "      <td>0.431103</td>\n",
       "    </tr>\n",
       "    <tr>\n",
       "      <td>25</td>\n",
       "      <td>0.226600</td>\n",
       "      <td>0.428868</td>\n",
       "    </tr>\n",
       "    <tr>\n",
       "      <td>26</td>\n",
       "      <td>0.269200</td>\n",
       "      <td>0.421420</td>\n",
       "    </tr>\n",
       "    <tr>\n",
       "      <td>27</td>\n",
       "      <td>0.225500</td>\n",
       "      <td>0.415604</td>\n",
       "    </tr>\n",
       "    <tr>\n",
       "      <td>28</td>\n",
       "      <td>0.228900</td>\n",
       "      <td>0.413377</td>\n",
       "    </tr>\n",
       "    <tr>\n",
       "      <td>29</td>\n",
       "      <td>0.182400</td>\n",
       "      <td>0.414228</td>\n",
       "    </tr>\n",
       "    <tr>\n",
       "      <td>30</td>\n",
       "      <td>0.170400</td>\n",
       "      <td>0.415941</td>\n",
       "    </tr>\n",
       "    <tr>\n",
       "      <td>31</td>\n",
       "      <td>0.208200</td>\n",
       "      <td>0.418598</td>\n",
       "    </tr>\n",
       "    <tr>\n",
       "      <td>32</td>\n",
       "      <td>0.197300</td>\n",
       "      <td>0.413902</td>\n",
       "    </tr>\n",
       "    <tr>\n",
       "      <td>33</td>\n",
       "      <td>0.128500</td>\n",
       "      <td>0.409513</td>\n",
       "    </tr>\n",
       "    <tr>\n",
       "      <td>34</td>\n",
       "      <td>0.207700</td>\n",
       "      <td>0.406891</td>\n",
       "    </tr>\n",
       "    <tr>\n",
       "      <td>35</td>\n",
       "      <td>0.180200</td>\n",
       "      <td>0.406216</td>\n",
       "    </tr>\n",
       "    <tr>\n",
       "      <td>36</td>\n",
       "      <td>0.153800</td>\n",
       "      <td>0.407452</td>\n",
       "    </tr>\n",
       "    <tr>\n",
       "      <td>37</td>\n",
       "      <td>0.168400</td>\n",
       "      <td>0.401623</td>\n",
       "    </tr>\n",
       "    <tr>\n",
       "      <td>38</td>\n",
       "      <td>0.209900</td>\n",
       "      <td>0.398006</td>\n",
       "    </tr>\n",
       "    <tr>\n",
       "      <td>39</td>\n",
       "      <td>0.132400</td>\n",
       "      <td>0.395545</td>\n",
       "    </tr>\n",
       "    <tr>\n",
       "      <td>40</td>\n",
       "      <td>0.159500</td>\n",
       "      <td>0.388634</td>\n",
       "    </tr>\n",
       "    <tr>\n",
       "      <td>41</td>\n",
       "      <td>0.168300</td>\n",
       "      <td>0.388594</td>\n",
       "    </tr>\n",
       "    <tr>\n",
       "      <td>42</td>\n",
       "      <td>0.169400</td>\n",
       "      <td>0.386327</td>\n",
       "    </tr>\n",
       "    <tr>\n",
       "      <td>43</td>\n",
       "      <td>0.169100</td>\n",
       "      <td>0.385701</td>\n",
       "    </tr>\n",
       "    <tr>\n",
       "      <td>44</td>\n",
       "      <td>0.135800</td>\n",
       "      <td>0.385245</td>\n",
       "    </tr>\n",
       "    <tr>\n",
       "      <td>45</td>\n",
       "      <td>0.163400</td>\n",
       "      <td>0.387672</td>\n",
       "    </tr>\n",
       "    <tr>\n",
       "      <td>46</td>\n",
       "      <td>0.121900</td>\n",
       "      <td>0.389772</td>\n",
       "    </tr>\n",
       "    <tr>\n",
       "      <td>47</td>\n",
       "      <td>0.209700</td>\n",
       "      <td>0.387767</td>\n",
       "    </tr>\n",
       "    <tr>\n",
       "      <td>48</td>\n",
       "      <td>0.161800</td>\n",
       "      <td>0.388033</td>\n",
       "    </tr>\n",
       "    <tr>\n",
       "      <td>49</td>\n",
       "      <td>0.090200</td>\n",
       "      <td>0.393522</td>\n",
       "    </tr>\n",
       "    <tr>\n",
       "      <td>50</td>\n",
       "      <td>0.151400</td>\n",
       "      <td>0.390358</td>\n",
       "    </tr>\n",
       "    <tr>\n",
       "      <td>51</td>\n",
       "      <td>0.124600</td>\n",
       "      <td>0.390466</td>\n",
       "    </tr>\n",
       "    <tr>\n",
       "      <td>52</td>\n",
       "      <td>0.147100</td>\n",
       "      <td>0.389815</td>\n",
       "    </tr>\n",
       "    <tr>\n",
       "      <td>53</td>\n",
       "      <td>0.202300</td>\n",
       "      <td>0.389849</td>\n",
       "    </tr>\n",
       "    <tr>\n",
       "      <td>54</td>\n",
       "      <td>0.152100</td>\n",
       "      <td>0.389767</td>\n",
       "    </tr>\n",
       "  </tbody>\n",
       "</table><p>"
      ]
     },
     "metadata": {},
     "output_type": "display_data"
    }
   ],
   "execution_count": 25
  },
  {
   "metadata": {
    "ExecuteTime": {
     "end_time": "2025-01-10T11:58:52.964922Z",
     "start_time": "2025-01-10T11:58:52.562149Z"
    }
   },
   "cell_type": "code",
   "source": [
    "# Save the model\n",
    "clf_incremented.save_model(f\"../../output_models/{env}/incremented_trained_model\")"
   ],
   "id": "c82e4658bc76d367",
   "outputs": [
    {
     "name": "stdout",
     "output_type": "stream",
     "text": [
      "Model and tokenizer saved to ../../output_models/prod/incremented_trained_model.\n"
     ]
    }
   ],
   "execution_count": 26
  },
  {
   "metadata": {
    "ExecuteTime": {
     "end_time": "2025-01-19T18:09:57.501367Z",
     "start_time": "2025-01-19T18:09:56.582783Z"
    }
   },
   "cell_type": "code",
   "source": [
    "clf_incremented = model.TransformerClassifier(\n",
    "    model_name=None,    num_labels=new_num_labels,\n",
    "    local_model_path=\"../../output_models/prod/temp_incremented_model\",\n",
    ")"
   ],
   "id": "dca8cf9db2174589",
   "outputs": [
    {
     "ename": "OSError",
     "evalue": "Can't load tokenizer for '../../output_models/prod/temp_incremented_model'. If you were trying to load it from 'https://huggingface.co/models', make sure you don't have a local directory with the same name. Otherwise, make sure '../../output_models/prod/temp_incremented_model' is the correct path to a directory containing all relevant files for a BertTokenizerFast tokenizer.",
     "output_type": "error",
     "traceback": [
      "\u001B[1;31m---------------------------------------------------------------------------\u001B[0m",
      "\u001B[1;31mOSError\u001B[0m                                   Traceback (most recent call last)",
      "Cell \u001B[1;32mIn[44], line 1\u001B[0m\n\u001B[1;32m----> 1\u001B[0m clf_incremented \u001B[38;5;241m=\u001B[39m \u001B[43mmodel\u001B[49m\u001B[38;5;241;43m.\u001B[39;49m\u001B[43mTransformerClassifier\u001B[49m\u001B[43m(\u001B[49m\n\u001B[0;32m      2\u001B[0m \u001B[43m    \u001B[49m\u001B[43mmodel_name\u001B[49m\u001B[38;5;241;43m=\u001B[39;49m\u001B[38;5;28;43;01mNone\u001B[39;49;00m\u001B[43m,\u001B[49m\u001B[43m    \u001B[49m\u001B[43mnum_labels\u001B[49m\u001B[38;5;241;43m=\u001B[39;49m\u001B[43mnew_num_labels\u001B[49m\u001B[43m,\u001B[49m\n\u001B[0;32m      3\u001B[0m \u001B[43m    \u001B[49m\u001B[43mlocal_model_path\u001B[49m\u001B[38;5;241;43m=\u001B[39;49m\u001B[38;5;124;43m\"\u001B[39;49m\u001B[38;5;124;43m../../output_models/prod/temp_incremented_model\u001B[39;49m\u001B[38;5;124;43m\"\u001B[39;49m\u001B[43m,\u001B[49m\n\u001B[0;32m      4\u001B[0m \u001B[43m)\u001B[49m\n",
      "File \u001B[1;32mD:\\00-Master\\TFM\\Project\\myzone\\src\\training\\model.py:26\u001B[0m, in \u001B[0;36mTransformerClassifier.__init__\u001B[1;34m(self, model_name, num_labels, local_model_path)\u001B[0m\n\u001B[0;32m     23\u001B[0m \u001B[38;5;28mself\u001B[39m\u001B[38;5;241m.\u001B[39mnum_labels \u001B[38;5;241m=\u001B[39m num_labels\n\u001B[0;32m     24\u001B[0m \u001B[38;5;28;01mif\u001B[39;00m local_model_path:\n\u001B[0;32m     25\u001B[0m     \u001B[38;5;66;03m# Load from local path\u001B[39;00m\n\u001B[1;32m---> 26\u001B[0m     \u001B[38;5;28mself\u001B[39m\u001B[38;5;241m.\u001B[39mtokenizer \u001B[38;5;241m=\u001B[39m \u001B[43mAutoTokenizer\u001B[49m\u001B[38;5;241;43m.\u001B[39;49m\u001B[43mfrom_pretrained\u001B[49m\u001B[43m(\u001B[49m\u001B[43mlocal_model_path\u001B[49m\u001B[43m)\u001B[49m\n\u001B[0;32m     27\u001B[0m     \u001B[38;5;28mself\u001B[39m\u001B[38;5;241m.\u001B[39mmodel \u001B[38;5;241m=\u001B[39m AutoModelForSequenceClassification\u001B[38;5;241m.\u001B[39mfrom_pretrained(\n\u001B[0;32m     28\u001B[0m         local_model_path, num_labels\u001B[38;5;241m=\u001B[39mnum_labels, ignore_mismatched_sizes\u001B[38;5;241m=\u001B[39m\u001B[38;5;28;01mTrue\u001B[39;00m\n\u001B[0;32m     29\u001B[0m     )\n\u001B[0;32m     30\u001B[0m     \u001B[38;5;28mself\u001B[39m\u001B[38;5;241m.\u001B[39mclasses_ \u001B[38;5;241m=\u001B[39m [i \u001B[38;5;28;01mfor\u001B[39;00m i \u001B[38;5;129;01min\u001B[39;00m \u001B[38;5;28mrange\u001B[39m(num_labels)]  \u001B[38;5;66;03m# Set classes_ for sklearn compatibility\u001B[39;00m\n",
      "File \u001B[1;32mD:\\00-Master\\TFM\\Project\\myzone\\.venv\\Lib\\site-packages\\transformers\\models\\auto\\tokenization_auto.py:940\u001B[0m, in \u001B[0;36mAutoTokenizer.from_pretrained\u001B[1;34m(cls, pretrained_model_name_or_path, *inputs, **kwargs)\u001B[0m\n\u001B[0;32m    937\u001B[0m tokenizer_class_py, tokenizer_class_fast \u001B[38;5;241m=\u001B[39m TOKENIZER_MAPPING[\u001B[38;5;28mtype\u001B[39m(config)]\n\u001B[0;32m    939\u001B[0m \u001B[38;5;28;01mif\u001B[39;00m tokenizer_class_fast \u001B[38;5;129;01mand\u001B[39;00m (use_fast \u001B[38;5;129;01mor\u001B[39;00m tokenizer_class_py \u001B[38;5;129;01mis\u001B[39;00m \u001B[38;5;28;01mNone\u001B[39;00m):\n\u001B[1;32m--> 940\u001B[0m     \u001B[38;5;28;01mreturn\u001B[39;00m \u001B[43mtokenizer_class_fast\u001B[49m\u001B[38;5;241;43m.\u001B[39;49m\u001B[43mfrom_pretrained\u001B[49m\u001B[43m(\u001B[49m\u001B[43mpretrained_model_name_or_path\u001B[49m\u001B[43m,\u001B[49m\u001B[43m \u001B[49m\u001B[38;5;241;43m*\u001B[39;49m\u001B[43minputs\u001B[49m\u001B[43m,\u001B[49m\u001B[43m \u001B[49m\u001B[38;5;241;43m*\u001B[39;49m\u001B[38;5;241;43m*\u001B[39;49m\u001B[43mkwargs\u001B[49m\u001B[43m)\u001B[49m\n\u001B[0;32m    941\u001B[0m \u001B[38;5;28;01melse\u001B[39;00m:\n\u001B[0;32m    942\u001B[0m     \u001B[38;5;28;01mif\u001B[39;00m tokenizer_class_py \u001B[38;5;129;01mis\u001B[39;00m \u001B[38;5;129;01mnot\u001B[39;00m \u001B[38;5;28;01mNone\u001B[39;00m:\n",
      "File \u001B[1;32mD:\\00-Master\\TFM\\Project\\myzone\\.venv\\Lib\\site-packages\\transformers\\tokenization_utils_base.py:2016\u001B[0m, in \u001B[0;36mPreTrainedTokenizerBase.from_pretrained\u001B[1;34m(cls, pretrained_model_name_or_path, cache_dir, force_download, local_files_only, token, revision, trust_remote_code, *init_inputs, **kwargs)\u001B[0m\n\u001B[0;32m   2013\u001B[0m \u001B[38;5;66;03m# If one passes a GGUF file path to `gguf_file` there is no need for this check as the tokenizer will be\u001B[39;00m\n\u001B[0;32m   2014\u001B[0m \u001B[38;5;66;03m# loaded directly from the GGUF file.\u001B[39;00m\n\u001B[0;32m   2015\u001B[0m \u001B[38;5;28;01mif\u001B[39;00m \u001B[38;5;28mall\u001B[39m(full_file_name \u001B[38;5;129;01mis\u001B[39;00m \u001B[38;5;28;01mNone\u001B[39;00m \u001B[38;5;28;01mfor\u001B[39;00m full_file_name \u001B[38;5;129;01min\u001B[39;00m resolved_vocab_files\u001B[38;5;241m.\u001B[39mvalues()) \u001B[38;5;129;01mand\u001B[39;00m \u001B[38;5;129;01mnot\u001B[39;00m gguf_file:\n\u001B[1;32m-> 2016\u001B[0m     \u001B[38;5;28;01mraise\u001B[39;00m \u001B[38;5;167;01mEnvironmentError\u001B[39;00m(\n\u001B[0;32m   2017\u001B[0m         \u001B[38;5;124mf\u001B[39m\u001B[38;5;124m\"\u001B[39m\u001B[38;5;124mCan\u001B[39m\u001B[38;5;124m'\u001B[39m\u001B[38;5;124mt load tokenizer for \u001B[39m\u001B[38;5;124m'\u001B[39m\u001B[38;5;132;01m{\u001B[39;00mpretrained_model_name_or_path\u001B[38;5;132;01m}\u001B[39;00m\u001B[38;5;124m'\u001B[39m\u001B[38;5;124m. If you were trying to load it from \u001B[39m\u001B[38;5;124m\"\u001B[39m\n\u001B[0;32m   2018\u001B[0m         \u001B[38;5;124m\"\u001B[39m\u001B[38;5;124m'\u001B[39m\u001B[38;5;124mhttps://huggingface.co/models\u001B[39m\u001B[38;5;124m'\u001B[39m\u001B[38;5;124m, make sure you don\u001B[39m\u001B[38;5;124m'\u001B[39m\u001B[38;5;124mt have a local directory with the same name. \u001B[39m\u001B[38;5;124m\"\u001B[39m\n\u001B[0;32m   2019\u001B[0m         \u001B[38;5;124mf\u001B[39m\u001B[38;5;124m\"\u001B[39m\u001B[38;5;124mOtherwise, make sure \u001B[39m\u001B[38;5;124m'\u001B[39m\u001B[38;5;132;01m{\u001B[39;00mpretrained_model_name_or_path\u001B[38;5;132;01m}\u001B[39;00m\u001B[38;5;124m'\u001B[39m\u001B[38;5;124m is the correct path to a directory \u001B[39m\u001B[38;5;124m\"\u001B[39m\n\u001B[0;32m   2020\u001B[0m         \u001B[38;5;124mf\u001B[39m\u001B[38;5;124m\"\u001B[39m\u001B[38;5;124mcontaining all relevant files for a \u001B[39m\u001B[38;5;132;01m{\u001B[39;00m\u001B[38;5;28mcls\u001B[39m\u001B[38;5;241m.\u001B[39m\u001B[38;5;18m__name__\u001B[39m\u001B[38;5;132;01m}\u001B[39;00m\u001B[38;5;124m tokenizer.\u001B[39m\u001B[38;5;124m\"\u001B[39m\n\u001B[0;32m   2021\u001B[0m     )\n\u001B[0;32m   2023\u001B[0m \u001B[38;5;28;01mfor\u001B[39;00m file_id, file_path \u001B[38;5;129;01min\u001B[39;00m vocab_files\u001B[38;5;241m.\u001B[39mitems():\n\u001B[0;32m   2024\u001B[0m     \u001B[38;5;28;01mif\u001B[39;00m file_id \u001B[38;5;129;01mnot\u001B[39;00m \u001B[38;5;129;01min\u001B[39;00m resolved_vocab_files:\n",
      "\u001B[1;31mOSError\u001B[0m: Can't load tokenizer for '../../output_models/prod/temp_incremented_model'. If you were trying to load it from 'https://huggingface.co/models', make sure you don't have a local directory with the same name. Otherwise, make sure '../../output_models/prod/temp_incremented_model' is the correct path to a directory containing all relevant files for a BertTokenizerFast tokenizer."
     ]
    }
   ],
   "execution_count": 44
  },
  {
   "metadata": {
    "ExecuteTime": {
     "end_time": "2025-01-10T12:34:49.296270Z",
     "start_time": "2025-01-10T12:33:31.829347Z"
    }
   },
   "cell_type": "code",
   "source": [
    "# Evaluate on test set\n",
    "\n",
    "from sklearn.metrics import classification_report\n",
    "\n",
    "y_pred = clf_incremented.predict(df_test[features])\n",
    "print(classification_report(df_test[target], y_pred))"
   ],
   "id": "823497fb2c6a69fa",
   "outputs": [
    {
     "data": {
      "text/plain": [
       "<IPython.core.display.HTML object>"
      ],
      "text/html": []
     },
     "metadata": {},
     "output_type": "display_data"
    },
    {
     "name": "stdout",
     "output_type": "stream",
     "text": [
      "              precision    recall  f1-score   support\n",
      "\n",
      "           0       0.29      0.87      0.43        97\n",
      "           1       0.66      0.84      0.74        77\n",
      "           2       0.95      0.31      0.47       325\n",
      "\n",
      "    accuracy                           0.50       499\n",
      "   macro avg       0.63      0.67      0.55       499\n",
      "weighted avg       0.78      0.50      0.50       499\n"
     ]
    }
   ],
   "execution_count": 32
  },
  {
   "metadata": {
    "ExecuteTime": {
     "end_time": "2025-01-10T12:02:45.468209Z",
     "start_time": "2025-01-10T12:02:45.274663Z"
    }
   },
   "cell_type": "code",
   "source": [
    "# confusion matrix\n",
    "from sklearn.metrics import confusion_matrix\n",
    "import seaborn as sns\n",
    "import matplotlib.pyplot as plt\n",
    "\n",
    "cm = confusion_matrix(df_test[target], y_pred)\n",
    "plt.figure(figsize=(10, 8))\n",
    "sns.heatmap(cm, annot=True, fmt=\"d\", cmap=\"Blues\")\n",
    "plt.show()"
   ],
   "id": "a4c588571f88f963",
   "outputs": [
    {
     "data": {
      "text/plain": [
       "<Figure size 1000x800 with 2 Axes>"
      ],
      "image/png": "[encoded data removed]"
     },
     "metadata": {},
     "output_type": "display_data"
    }
   ],
   "execution_count": 30
  },
  {
   "metadata": {},
   "cell_type": "code",
   "outputs": [],
   "execution_count": null,
   "source": [],
   "id": "6c59dda27c22c828"
  }
 ],
 "metadata": {
  "kernelspec": {
   "display_name": "Python 3",
   "language": "python",
   "name": "python3"
  },
  "language_info": {
   "codemirror_mode": {
    "name": "ipython",
    "version": 2
   },
   "file_extension": ".py",
   "mimetype": "text/x-python",
   "name": "python",
   "nbconvert_exporter": "python",
   "pygments_lexer": "ipython2",
   "version": "2.7.6"
  }
 },
 "nbformat": 4,
 "nbformat_minor": 5
}
