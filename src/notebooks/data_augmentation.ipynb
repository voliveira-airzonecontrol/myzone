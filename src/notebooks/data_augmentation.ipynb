{
 "cells": [
  {
   "metadata": {
    "ExecuteTime": {
     "end_time": "2025-01-17T08:39:37.437172Z",
     "start_time": "2025-01-17T08:39:33.207130Z"
    }
   },
   "cell_type": "code",
   "source": [
    "import argparse\n",
    "import os\n",
    "\n",
    "import numpy as np\n",
    "import pandas as pd\n",
    "import matplotlib\n",
    "\n",
    "import matplotlib.pyplot as plt\n",
    "\n",
    "from mapie.classification import MapieClassifier\n",
    "from sklearn.model_selection import train_test_split\n",
    "from sklearn.preprocessing import LabelEncoder\n",
    "from sklearn.metrics import classification_report\n",
    "\n",
    "from src.conformal_prediction.utils import chunked_mapie_predict\n",
    "\n",
    "# For loading your trained TransformerClassifier\n",
    "from src.training.model import TransformerClassifier\n",
    "from src.utils import load_config, get_logger\n",
    "\n",
    "from transformers import AutoTokenizer, AutoModelForSeq2SeqLM"
   ],
   "id": "37752659dbb67875",
   "outputs": [],
   "execution_count": 6
  },
  {
   "metadata": {
    "ExecuteTime": {
     "end_time": "2025-01-17T08:39:37.919494Z",
     "start_time": "2025-01-17T08:39:37.893020Z"
    }
   },
   "cell_type": "code",
   "source": [
    "# Load config\n",
    "env = \"prod\"\n",
    "model_type = \"BERT\"\n",
    "\n",
    "training_config = load_config(\n",
    "    file_name=\"training_config\", env=env, folder=\"../../config\"\n",
    ")"
   ],
   "id": "e6ae3d69c771fcad",
   "outputs": [],
   "execution_count": 7
  },
  {
   "metadata": {
    "ExecuteTime": {
     "end_time": "2025-01-17T08:39:44.807463Z",
     "start_time": "2025-01-17T08:39:44.789029Z"
    }
   },
   "cell_type": "code",
   "source": [
    "input_dataset = f\"../../output_data/{env}/supervised_dataset.parquet\"\n",
    "input_model = f\"../../output_models/{env}/trained_model\"\n",
    "# input_model = f\"../../output_models/{env}/temp_model_16-01\"\n",
    "input_outliers = f\"../../output_data/{env}/supervised_dataset_phase2.parquet\"\n",
    "output_reports = f\"../../output_reports/{env}/outlier_detection\"\n",
    "alpha = 0.2"
   ],
   "id": "4a50053c31938977",
   "outputs": [],
   "execution_count": 8
  },
  {
   "metadata": {
    "ExecuteTime": {
     "end_time": "2025-01-17T08:39:45.405473Z",
     "start_time": "2025-01-17T08:39:45.046030Z"
    }
   },
   "cell_type": "code",
   "source": "df = pd.read_parquet(input_dataset)",
   "id": "ee7d4a1bd7332b51",
   "outputs": [],
   "execution_count": 9
  },
  {
   "metadata": {
    "ExecuteTime": {
     "end_time": "2025-01-17T08:39:54.455254Z",
     "start_time": "2025-01-17T08:39:54.445859Z"
    }
   },
   "cell_type": "code",
   "source": [
    "# Select features and target\n",
    "X = df[training_config.training[model_type].features]\n",
    "y = df[training_config.training[model_type].target]\n",
    "num_labels = y.nunique()"
   ],
   "id": "690e4d3d8e65e1a7",
   "outputs": [],
   "execution_count": 10
  },
  {
   "metadata": {
    "ExecuteTime": {
     "end_time": "2025-01-17T08:40:02.024321Z",
     "start_time": "2025-01-17T08:40:02.010302Z"
    }
   },
   "cell_type": "code",
   "source": [
    "X_train, X_test, y_train, y_test = train_test_split(\n",
    "    X,\n",
    "    y,\n",
    "    test_size=training_config.training[model_type].test_size,\n",
    "    random_state=training_config.training.random_state,\n",
    "    stratify=y,\n",
    ")\n",
    "X_train, X_val, y_train, y_val = train_test_split(\n",
    "    X_train,\n",
    "    y_train,\n",
    "    test_size=training_config.training[model_type].val_size,\n",
    "    random_state=training_config.training.random_state,\n",
    "    stratify=y_train,\n",
    ")\n",
    "X_test, X_cp, y_test, y_cp = train_test_split(\n",
    "    X_test,\n",
    "    y_test,\n",
    "    test_size=training_config.training[model_type].cp_size,\n",
    "    random_state=training_config.training.random_state,\n",
    "    stratify=y_test,\n",
    ")"
   ],
   "id": "eeffe3eefc73c51a",
   "outputs": [],
   "execution_count": 11
  },
  {
   "metadata": {
    "ExecuteTime": {
     "end_time": "2025-01-17T08:40:29.170235Z",
     "start_time": "2025-01-17T08:40:29.157767Z"
    }
   },
   "cell_type": "code",
   "source": "teste = X_train[:10]",
   "id": "e71a0a4b92904eec",
   "outputs": [],
   "execution_count": 13
  },
  {
   "metadata": {},
   "cell_type": "code",
   "outputs": [],
   "execution_count": null,
   "source": "",
   "id": "44c8892817898aa2"
  },
  {
   "metadata": {},
   "cell_type": "code",
   "outputs": [],
   "execution_count": null,
   "source": "",
   "id": "94d90de07212d78"
  },
  {
   "metadata": {},
   "cell_type": "code",
   "outputs": [],
   "execution_count": null,
   "source": "",
   "id": "1ac46126dda1505a"
  },
  {
   "metadata": {},
   "cell_type": "code",
   "outputs": [],
   "execution_count": null,
   "source": "",
   "id": "b15c9f780aa2366b"
  },
  {
   "metadata": {
    "ExecuteTime": {
     "end_time": "2025-01-17T08:27:39.944949Z",
     "start_time": "2025-01-17T08:27:37.900287Z"
    }
   },
   "cell_type": "code",
   "source": [
    "# Load a pre-trained model for paraphrasing (e.g., FLAN-T5 or similar)\n",
    "model_name = \"google/flan-t5-base\"\n",
    "tokenizer = AutoTokenizer.from_pretrained(model_name)\n",
    "model = AutoModelForSeq2SeqLM.from_pretrained(model_name)"
   ],
   "id": "ce768371936f611c",
   "outputs": [
    {
     "name": "stdout",
     "output_type": "stream",
     "text": [
      "Generated Paraphrases: ['The product is not working properly.', 'The product is not working properly and shows an error code.', \"The user is in a hurry and won't get what they expect.\"]\n"
     ]
    }
   ],
   "execution_count": 2
  },
  {
   "metadata": {
    "ExecuteTime": {
     "end_time": "2025-01-17T08:45:39.940901Z",
     "start_time": "2025-01-17T08:44:56.678156Z"
    }
   },
   "cell_type": "code",
   "source": [
    "for text in teste:\n",
    "    # Example input text\n",
    "    # text = \"The product is not working properly and shows an error code.\"\n",
    "    input_text = f\"paraphrase: {text} </s>\"\n",
    "\n",
    "    # Tokenize and generate paraphrase\n",
    "    inputs = tokenizer(input_text, return_tensors=\"pt\", max_length=512, truncation=True)\n",
    "    outputs = model.generate(\n",
    "        **inputs, max_length=512, num_return_sequences=3, do_sample=True, top_k=50\n",
    "    )\n",
    "\n",
    "    # Decode generated outputs\n",
    "    paraphrases = [\n",
    "        tokenizer.decode(output, skip_special_tokens=True) for output in outputs\n",
    "    ]\n",
    "\n",
    "    print(f\"Original text: {text}\")\n",
    "    for i, paraphrase in enumerate(paraphrases):\n",
    "        print(f\"Paraphrase {i+1}: {paraphrase}\")"
   ],
   "id": "d83db4e82a0d251a",
   "outputs": [
    {
     "name": "stdout",
     "output_type": "stream",
     "text": [
      "Original text: mando blueface nº serie foofzxw queda blanco pantalla mando blueface nº serie foofzy9 ve doble pantalla falla mando blueface nº serie foofzyc enciende estando off mando conecta maquina comprobado descaonectando mandos mando blueface nº serie foofzxs queda simbolo centro pantalla rejillas salon habitacion crujido cerrarse mando blueface queda simbolo centro pantalla\n",
      "Paraphrase 1: blueface no serie foofzy09 ve doble pantalla falla mando blueface no serie foofzyc enciende estando off mando conectama comprobado descaonectando mandos mando blueface no serie foofzys queda simbolo centro pantalla rejillas salon habitacion crujido cerrarse mando blueface queda simbolo centro pantalla\n",
      "Paraphrase 2: mando blueface no serie foofzy9 pantalla mando fogy7 ve do double pantalla falla mando fogyfoofzyc enciende estando on mando conecta medusa comprobado descaonectando mandos mando fogyface no serie foofzy\n",
      "Paraphrase 3: olvy flct no serie foofzxxw es ve vble pantalla falla mando blueface no serie frofzy9 ve doble pantalla falla mendo blueface no serie foofzyc enciende estando off mando conecta mac encaonectando mandos mando blueface no serie foofzxs queda symbolico centro pantalla rejillas salon habitacion crujido cerrarse mando blueface queda symbolico centro pantalla\n",
      "Original text: thermostat azce6thinkrb ecran bloque thermostat azce6thinkrb ecran bloque\n",
      "Paraphrase 1: thermostat azce6thinkrb ecran bloque\n",
      "Paraphrase 2: thermostat Azce6thinkrb ecran bloque television\n",
      "Paraphrase 3: thermostat azce 6 thinkrb ecran bloque\n",
      "Original text: problema visualizacion termostato termostato think rb problema visualizacion pantalla queda bloqueada encendido imposible modificar termostato presente pack ptblr6b presente pedido 009-1806-300323 ar 4235289\n",
      "Paraphrase 1: paraphrase:problem visualizaço xbox live wallpaper xbox live wallpaper faziaproblem requerimpos significado renunciamento requisito xbox live ptblr6b mfgvrpsvfpsqrpsrrw425518 xbox live requisito requisito requisito requerimpos significado requisito requisito requisito requisito requisito requisito requisito requisito requisito requisito requisito requisito requisito requisito requisito requisito requisito requisito requisito requisito requisito requisito requisito en vez requisito inicialmente requisito requisito requisito requisito requisito requisito requisito requisito requisito requisito productos: 009-1806-300323 ar 423383\n",
      "Paraphrase 2: problema visuaivo texto pareja problema difusión texto satélite rb problema visualizacion pantalla queda bloqueada enfectado imposible Modificar curso texto presente pack ptblr6b presente pedido: 09-1806-300323 ar 45539289\n",
      "Paraphrase 3: paraphrase: problema visualización techico think rb problema visualización pantalla queda bloqueada encendido imposible modificar techico presente pack ptblr6b presente sentido 009-1806-300323 ar 4235289\n",
      "Original text: termostato blueface pasaba reposo volvia retroiluminar pantalla actualizacion firmware sistema deja funcionar ilumina niguna orden termostato azul termostato dejado funcionar averia retroiluminacion\n",
      "Paraphrase 1: blueface pasaba reposo volvia retroiluminar pantalla actualización firmware Sistema deja funionar ilumina nuuna orden termostato azul\n",
      "Paraphrase 2: blueface pasaba reposo volvia retroiluminar pantalla actualización firmware Sistema deja funcionar ilumina dirección no orden termostato azul\n",
      "Paraphrase 3: blueface pasaba reposo volvia retroiluminar pantalla actualizacion firmware sistema deja funcionar ilumina na orden termostato blueface\n",
      "Original text: mando blueface cero quedado blenco funciona mando bluezerocb mando funciona quedo blanco\n",
      "Paraphrase 1: blueface cero quedado blenco funciona mando bluescopb mando funciona quedo blanco\n",
      "Paraphrase 2: blueface cero pasto benco mando bluezerocb mando bien blanco\n",
      "Paraphrase 3: bblenco handkerman cero handkerman boca bocasuelo handkerman bblenco handkerman\n",
      "Original text: tto cent inteligente color airzone blueface 8z blanco referencia azce6bluefacecb funciona pantalla enciende apaga continuacion ott centavo smart color airzone blueface 8z b pantalla enciende apaga continuacion funciona\n",
      "Paraphrase 1: tto cent inteligente color air zone blueface 8z blanco referencia azce6bluefacecb funciona pantalla enciende apaga continuacion ott centavo smart color air zone blueface 8z b pantalla enciende apaga continuacion funciona\n",
      "Paraphrase 2: tto cent inteligente color airzone blueface 8z blanco referencia azce6bluefacecb funciona pantalla enciende a pago continuacion ott centavo smart color airzone blueface 8z b pantalla enciende a pago continuacion funciona\n",
      "Paraphrase 3: paraphrase: tto cent inteligente color airzone blueface 8z blanco referencia azce6bluefacecb funciona pantalla enciende apaga continuación ott centavo smart color airzone blueface 8z b pantalla enciende apaga continuación funciona\n",
      "Original text: quedaba bloqueado cambiaron pilas funcionaba error e01 tto cento monocromo cento monocromo airzo pensar 8z r quedaba bloqueado cambiaron pilas funcionaba error e01\n",
      "Paraphrase 1: to cento monocromo monocromo... t como entenderia t como entenderia t como entenderia e01 tо cento monocromo... t como entenderia t\n",
      "Paraphrase 2: tto cento monocromo cento monocromo airzo pensar 8z r\n",
      "Paraphrase 3: paraphrase: quedaba bloqueado cambiaron pilas funcionaba error e01 tto cento monocromo cento monocromo planezo pensar 8z r quedaba bloqueado cambiaron pilas funcionaba error e01\n",
      "Original text: termostato blueface azce6bluefacecb aparece rayas verticales display ponerlo marcha cable termostato blueface aparecen rayas verticales display encender dispositivo\n",
      "Paraphrase 1: azce6bluefacecb aparece rayas verticales display ponerlo marcha cable azce6blueface aparece rayas verticales display encender dispositivo\n",
      "Paraphrase 2: the blueface termostato azce6bluefacecb aparece rayas verticales display\n",
      "Paraphrase 3: calcio calcio azce6bluefacecb aparece pinda vertical rayas display poter luvo marcha cable\n",
      "Original text: termostato queda pantalla iluminada blanco enviar termostato cable inteligente airzone blueface bl 8 enviar\n",
      "Paraphrase 1: tabular monitor fluorescent screen black\n",
      "Paraphrase 2: osda corto el comando blanco pantalla iluminada blanco enviar osda corto el comando blanco enviar osda comando blanco enviar osda comando illuminado\n",
      "Paraphrase 3: etsy etsy iluminada cuadrado blanco enviar etsy amazon aurora blueface bl 8 enviar\n",
      "Original text: pantalla permanece blanca 2 mandos distancia zona aire remoto pantalla permanece blanca\n",
      "Paraphrase 1: white screen the same color as white screen with movable table height\n",
      "Paraphrase 2: vertically horizontal and vertically horizontal\n",
      "Paraphrase 3: frosted pantalla permanece blanca 2 mandos con oscuro zona aire remoto pantalla permanece blanca\n"
     ]
    }
   ],
   "execution_count": 16
  },
  {
   "metadata": {
    "ExecuteTime": {
     "end_time": "2025-01-17T08:46:40.978809Z",
     "start_time": "2025-01-17T08:46:40.966533Z"
    }
   },
   "cell_type": "code",
   "source": "df = df.sample(10)",
   "id": "7b4fac8cbf1df568",
   "outputs": [],
   "execution_count": 17
  },
  {
   "metadata": {
    "ExecuteTime": {
     "end_time": "2025-01-17T11:13:49.027094Z",
     "start_time": "2025-01-17T11:13:15.170653Z"
    }
   },
   "cell_type": "code",
   "source": [
    "def augment_dataset(dataset, column_name, num_paraphrases=3):\n",
    "    augmented_data = []\n",
    "    for text in dataset[column_name]:\n",
    "        input_text = f\"paraphrase: {text} </s>\"\n",
    "        inputs = tokenizer(\n",
    "            input_text, return_tensors=\"pt\", max_length=512, truncation=True\n",
    "        )\n",
    "        outputs = model.generate(\n",
    "            **inputs,\n",
    "            max_length=512,\n",
    "            num_return_sequences=num_paraphrases,\n",
    "            do_sample=True,\n",
    "            top_k=50,\n",
    "        )\n",
    "        paraphrases = [\n",
    "            tokenizer.decode(output, skip_special_tokens=True) for output in outputs\n",
    "        ]\n",
    "        augmented_data.extend(paraphrases)\n",
    "    return augmented_data\n",
    "\n",
    "\n",
    "# Example usage\n",
    "augment_dataset(df, \"text_to_analyse\")"
   ],
   "id": "10b4cfb5c903b9aa",
   "outputs": [
    {
     "data": {
      "text/plain": [
       "['ESTE LUNCH A CALORE. Y ME GLASER IN EL TUNA. Y ME UTEN SALTO CABLEADO DE COPIBOL. Y CUTEN LES PROBOLLES DE DEL TUNA SUE HISTME DE LENA Y DE AL TINCO.',\n",
       " 'REGULAR TERMOSTATO QUE DEBA A PUEDA. SOME JUSTIONS HAS BLOQUEAD CABLEAD Y TUTENCICIA Y LAS OPPORNIAS CARINAS POSSIBLES CON EL TÉNCICO PERO NADA.',\n",
       " 'GROUP LE PRESENTE A CLIMADO BLOQUEADO Y NO RESPONDE. ECHO COMPRABO CESARAR Y TODOS LAS OPORTIONES POSIBLES CON EL TÉCNITO SE SURNATA SU VIDEO COMMOSSO. SE QUE DE POLITUDE BLOQUEADO Y NO RESPONDA. ECHO COMPREPOABIRA EN CASION DE CHELEN TONO DE LA PUBESACION. ECHO COMPRABO EN TÉCONICO A FOCIA DE LA TCNA CANDOUBRE Y NO ENTRAN CUBRERIDO DESDE AS.',\n",
       " 'BLUEFACE GLEEN A CAR BAHAMIA DE COLOR TERMOSTATE DE CABLE INTERLIGENTE',\n",
       " \"The Luftwaffe's TERMOSTATO COLOR CAMBIA A RAYES uses two types of wire (a collar, in the lower right hand corner, one with a nylon or an upper right hook and the other with a slack hook).\",\n",
       " 'ADRONCA_BALBAND AIRZONE BL 8 DEVIAR O ENTEMADO CABLE NUEVO',\n",
       " '2 termostatos Think radio que do not function correctly and envido Bluezero with rotation',\n",
       " 'Tried 2 Termostatos Think radio envioindo Trash radio TERMOSTAROD ERROR',\n",
       " 'There is 2 termostatos Think radio que not work correctly and envo Bluezero via ruido',\n",
       " 'TENIO ATLAS EL A CON A CABLE INTELEMENTE TERMOSTATO AIRZONE BLUEFACE BL ENVIAR TERMOSTATO NUEVO .',\n",
       " 'ENO MONDOS GO ALMA DE \"A\" AIRZONE BLUEFACE BL CAR NI UELO',\n",
       " 'GRANCICAN LOS TERMOSTATAS SE QUEDA CON LA CONCIO INTELEGIENTA TERMOSTATATO AIRZONE BLUEFACE BL ENVIAR TERMOSTATATO NOUVEN',\n",
       " 'Thinkrb defective Trestmostato IBPRO6 monocromo Airzone Think radio b 231002550_ screen',\n",
       " 'ermezoso telmesuoso IBPRO6 monocromo Airzone Think radio b 231002550_ pantalla bloqueada',\n",
       " 'Blocked screens? print',\n",
       " 'remoto control pantilla',\n",
       " 'Congelada control panel congelada',\n",
       " 'automatic control pantilla',\n",
       " 'TERUMATO TERMITATATO IBPRO6 monocromo Airzone Think radio b 231000902 bloqueado en pantalla interna 1 mes',\n",
       " 'visto CON LEA CALIENTE Termostato IBPRO6 monocromo Airzone Think radio b 23000921 bloqueado internally 1 mes',\n",
       " 'VISTO CALIENTE Termostato IBPRO6 monocromo Airzone Think radio b 231000902 bloqueado na pantalla interna 1 mes',\n",
       " 'Nombres de acrobación: PEOPLE DE AFBRICACIN DE DEL AZRA6LITERB , PROBLEMAS CON LAS PILAS,FALLO DE FABRICACIN DE AZRA6LITERB',\n",
       " 'SON 3 UNIDADES DE AZRA6LITERB',\n",
       " 'AZRA6LITERB, SOME UNROS PARTIENADES AZRA9LITERB , SME MUNICIPALES INCLEXIA AZRA6LITERB, REQUESTRADOS IN PLASQUES SAN JORNIOS INCLEXIA',\n",
       " 'REMOTO_x000D_ REMOTO_x001_ .__WALL_M_DE_ROCHELS___ PARTILLA_MADINA_Y_PANTALLA_NEGRA__, DESPUÉS DE REEMPLAZAR la BATERA EL MANDO A DISTANCIA SE ARRANCA CADA 2 SEGUNDOS REMOTO_PROBLEMA_DOUBLE_CONTROL_ REMOTO_x001__ .__WALL_M_DE_ROCHELS____',\n",
       " 'Y C N DADO INFORMADO.',\n",
       " 'REMOTO_x000D_ PANTALLA NEGRA , DESPUÉS DE REEMPLAZAR LA BATERA EL MANDO A DISTANCIA SE ARRANCA CADA 2 SEGINALES REMOTO',\n",
       " 'STATEMENT TERMOSTATIVE DEI DISTRIBUTOR INTELIGENTE BLUEFACE 32Z',\n",
       " 'SPEGNIMENTO TERMOSTATO DOCI DITRIBUDORONI BUE INTELEGATED 32Z',\n",
       " 'ORNAMENTAL A E NEI FONDITTA TARDISI ENTRE INTRAGRAMME 32Z STREAM NORMICIA DE LA SPOIONETARE']"
      ]
     },
     "execution_count": 19,
     "metadata": {},
     "output_type": "execute_result"
    }
   ],
   "execution_count": 19
  },
  {
   "metadata": {
    "ExecuteTime": {
     "end_time": "2025-01-17T08:47:23.434330Z",
     "start_time": "2025-01-17T08:47:23.434330Z"
    }
   },
   "cell_type": "code",
   "source": "",
   "id": "8ee8a8ff517018f2",
   "outputs": [],
   "execution_count": null
  }
 ],
 "metadata": {
  "kernelspec": {
   "display_name": "Python 3",
   "language": "python",
   "name": "python3"
  },
  "language_info": {
   "codemirror_mode": {
    "name": "ipython",
    "version": 2
   },
   "file_extension": ".py",
   "mimetype": "text/x-python",
   "name": "python",
   "nbconvert_exporter": "python",
   "pygments_lexer": "ipython2",
   "version": "2.7.6"
  }
 },
 "nbformat": 4,
 "nbformat_minor": 5
}
