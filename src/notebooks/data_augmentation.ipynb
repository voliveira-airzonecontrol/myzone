{
 "cells": [
  {
   "metadata": {
    "ExecuteTime": {
     "end_time": "2025-01-29T07:11:31.531536Z",
     "start_time": "2025-01-29T07:11:31.006149Z"
    }
   },
   "cell_type": "code",
   "source": [
    "%load_ext autoreload\n",
    "%autoreload 2\n",
    "import importlib"
   ],
   "id": "b9dd1b2f71293307",
   "outputs": [
    {
     "name": "stdout",
     "output_type": "stream",
     "text": [
      "The autoreload extension is already loaded. To reload it, use:\n",
      "  %reload_ext autoreload\n"
     ]
    }
   ],
   "execution_count": 32
  },
  {
   "metadata": {
    "ExecuteTime": {
     "end_time": "2025-01-29T07:11:32.105519Z",
     "start_time": "2025-01-29T07:11:31.532542Z"
    }
   },
   "cell_type": "code",
   "source": [
    "import os\n",
    "\n",
    "os.environ[\"MODEL_DIR\"] = \"../model\""
   ],
   "id": "9df969ca8d5b4780",
   "outputs": [],
   "execution_count": 33
  },
  {
   "metadata": {
    "ExecuteTime": {
     "end_time": "2025-01-29T07:11:32.701724Z",
     "start_time": "2025-01-29T07:11:32.107529Z"
    }
   },
   "cell_type": "code",
   "source": [
    "import nlpaug.augmenter.char as nac\n",
    "import nlpaug.augmenter.word as naw\n",
    "import nlpaug.augmenter.sentence as nas\n",
    "import nlpaug.flow as nafc\n",
    "\n",
    "from nlpaug.util import Action"
   ],
   "id": "73466f401a3ceb95",
   "outputs": [],
   "execution_count": 34
  },
  {
   "metadata": {
    "ExecuteTime": {
     "end_time": "2025-01-29T07:11:33.218766Z",
     "start_time": "2025-01-29T07:11:32.702728Z"
    }
   },
   "cell_type": "code",
   "source": [
    "import argparse\n",
    "import os\n",
    "\n",
    "import numpy as np\n",
    "import pandas as pd\n",
    "import matplotlib\n",
    "\n",
    "import matplotlib.pyplot as plt\n",
    "\n",
    "from mapie.classification import MapieClassifier\n",
    "from sklearn.model_selection import train_test_split\n",
    "from sklearn.preprocessing import LabelEncoder\n",
    "from sklearn.metrics import classification_report\n",
    "\n",
    "from src.conformal_prediction.utils import chunked_mapie_predict\n",
    "\n",
    "# For loading your trained TransformerClassifier\n",
    "from src.training.model import TransformerClassifier\n",
    "from src.utils import load_config, get_logger\n",
    "\n",
    "from transformers import AutoTokenizer, AutoModelForSeq2SeqLM"
   ],
   "id": "37752659dbb67875",
   "outputs": [],
   "execution_count": 35
  },
  {
   "metadata": {
    "ExecuteTime": {
     "end_time": "2025-01-29T07:11:37.198862Z",
     "start_time": "2025-01-29T07:11:36.576805Z"
    }
   },
   "cell_type": "code",
   "source": [
    "# Load config\n",
    "env = \"prod\"\n",
    "model_type = \"BERT\"\n",
    "\n",
    "training_config = load_config(\n",
    "    file_name=\"training_config\", env=env, folder=\"../../config\"\n",
    ")"
   ],
   "id": "e6ae3d69c771fcad",
   "outputs": [],
   "execution_count": 36
  },
  {
   "metadata": {
    "ExecuteTime": {
     "end_time": "2025-01-29T07:11:37.785749Z",
     "start_time": "2025-01-29T07:11:37.199867Z"
    }
   },
   "cell_type": "code",
   "source": [
    "input_dataset = f\"../../output_data/{env}/supervised_dataset.parquet\"\n",
    "input_model = f\"../../output_models/{env}/trained_model\"\n",
    "# input_model = f\"../../output_models/{env}/temp_model_16-01\"\n",
    "input_outliers = f\"../../output_data/{env}/supervised_dataset_phase2.parquet\"\n",
    "output_reports = f\"../../output_reports/{env}/outlier_detection\"\n",
    "alpha = 0.2"
   ],
   "id": "4a50053c31938977",
   "outputs": [],
   "execution_count": 37
  },
  {
   "metadata": {
    "ExecuteTime": {
     "end_time": "2025-01-29T07:11:40.418422Z",
     "start_time": "2025-01-29T07:11:39.882800Z"
    }
   },
   "cell_type": "code",
   "source": "df = pd.read_parquet(input_dataset)",
   "id": "ee7d4a1bd7332b51",
   "outputs": [],
   "execution_count": 38
  },
  {
   "metadata": {
    "ExecuteTime": {
     "end_time": "2025-01-29T07:11:41.115249Z",
     "start_time": "2025-01-29T07:11:40.418959Z"
    }
   },
   "cell_type": "code",
   "source": [
    "# Load a pre-trained model for paraphrasing Augment Spanish by BERT\n",
    "aug = naw.ContextualWordEmbsAug(model_path=\"bert-base-multilingual-uncased\", aug_p=0.1)"
   ],
   "id": "6d0607c0dcf92472",
   "outputs": [],
   "execution_count": 39
  },
  {
   "metadata": {
    "ExecuteTime": {
     "end_time": "2025-01-29T07:11:43.128855Z",
     "start_time": "2025-01-29T07:11:42.585952Z"
    }
   },
   "cell_type": "code",
   "source": [
    "# Select features and target\n",
    "X = df[training_config.training[model_type].features]\n",
    "y = df[training_config.training[model_type].target]\n",
    "num_labels = y.nunique()"
   ],
   "id": "690e4d3d8e65e1a7",
   "outputs": [],
   "execution_count": 40
  },
  {
   "metadata": {
    "ExecuteTime": {
     "end_time": "2025-01-29T07:12:11.261069Z",
     "start_time": "2025-01-29T07:12:10.632116Z"
    }
   },
   "cell_type": "code",
   "source": [
    "X_train, X_test, y_train, y_test = train_test_split(\n",
    "    X,\n",
    "    y,\n",
    "    test_size=training_config.training[model_type].test_size,\n",
    "    random_state=training_config.training.random_state,\n",
    "    stratify=y,\n",
    ")\n",
    "X_train, X_val, y_train, y_val = train_test_split(\n",
    "    X_train,\n",
    "    y_train,\n",
    "    test_size=training_config.training[model_type].val_size,\n",
    "    random_state=training_config.training.random_state,\n",
    "    stratify=y_train,\n",
    ")\n",
    "X_test, X_cp, y_test, y_cp = train_test_split(\n",
    "    X_test,\n",
    "    y_test,\n",
    "    test_size=training_config.training[model_type].cp_size,\n",
    "    random_state=training_config.training.random_state,\n",
    "    stratify=y_test,\n",
    ")"
   ],
   "id": "eeffe3eefc73c51a",
   "outputs": [],
   "execution_count": 42
  },
  {
   "metadata": {
    "ExecuteTime": {
     "end_time": "2025-01-29T07:24:15.450219Z",
     "start_time": "2025-01-29T07:20:13.349649Z"
    }
   },
   "cell_type": "code",
   "source": [
    "X_train_augmented = X_train.copy()\n",
    "X_train_augmented = X_train_augmented.apply(lambda x: aug.augment(x)[0])\n",
    "\n",
    "X_train_augmented = pd.concat([X_train_augmented, X_train], ignore_index=True)\n",
    "y_train_augmented = pd.concat([y_train, y_train], ignore_index=True)"
   ],
   "id": "44c8892817898aa2",
   "outputs": [],
   "execution_count": 45
  },
  {
   "metadata": {
    "ExecuteTime": {
     "end_time": "2025-01-29T07:24:16.010937Z",
     "start_time": "2025-01-29T07:24:15.451223Z"
    }
   },
   "cell_type": "code",
   "source": [
    "# Upsample the minority class\n",
    "from sklearn.utils import resample\n",
    "\n",
    "X_upsampled = X_train_augmented.copy().to_frame()\n",
    "X_upsampled[training_config.training[model_type].target] = y_train_augmented\n",
    "\n",
    "# Separate majority and minority classes\n",
    "df_majority = X_upsampled[X_upsampled[training_config.training[model_type].target] == 0]\n",
    "df_minority = X_upsampled[X_upsampled[training_config.training[model_type].target] == 1]\n",
    "\n",
    "# Upsample minority class\n",
    "df_minority_upsampled = resample(\n",
    "    df_minority,\n",
    "    replace=True,\n",
    "    n_samples=df_majority.shape[0],\n",
    "    random_state=42,\n",
    ")\n",
    "\n",
    "# Combine majority class with upsampled minority class\n",
    "df_upsampled = pd.concat([df_majority, df_minority_upsampled])\n",
    "\n",
    "# Display new class counts\n",
    "X_train = df_upsampled[training_config.training[model_type].features]\n",
    "y_train = df_upsampled[training_config.training[model_type].target]"
   ],
   "id": "94d90de07212d78",
   "outputs": [],
   "execution_count": 46
  },
  {
   "metadata": {
    "ExecuteTime": {
     "end_time": "2025-01-29T07:25:26.658180Z",
     "start_time": "2025-01-29T07:25:26.092749Z"
    }
   },
   "cell_type": "code",
   "source": "y_train.value_counts()",
   "id": "1ac46126dda1505a",
   "outputs": [
    {
     "data": {
      "text/plain": [
       "label\n",
       "0    996\n",
       "1    996\n",
       "Name: count, dtype: int64"
      ]
     },
     "execution_count": 47,
     "metadata": {},
     "output_type": "execute_result"
    }
   ],
   "execution_count": 47
  },
  {
   "metadata": {
    "ExecuteTime": {
     "end_time": "2025-01-29T07:25:28.511931Z",
     "start_time": "2025-01-29T07:25:28.004091Z"
    }
   },
   "cell_type": "code",
   "source": "y_val.value_counts()",
   "id": "b15c9f780aa2366b",
   "outputs": [
    {
     "data": {
      "text/plain": [
       "label\n",
       "0    88\n",
       "1    69\n",
       "Name: count, dtype: int64"
      ]
     },
     "execution_count": 48,
     "metadata": {},
     "output_type": "execute_result"
    }
   ],
   "execution_count": 48
  },
  {
   "metadata": {
    "ExecuteTime": {
     "end_time": "2025-01-29T07:25:30.836826Z",
     "start_time": "2025-01-29T07:25:30.283617Z"
    }
   },
   "cell_type": "code",
   "source": "y_test.value_counts()",
   "id": "8ee8a8ff517018f2",
   "outputs": [
    {
     "data": {
      "text/plain": [
       "label\n",
       "0    97\n",
       "1    77\n",
       "Name: count, dtype: int64"
      ]
     },
     "execution_count": 49,
     "metadata": {},
     "output_type": "execute_result"
    }
   ],
   "execution_count": 49
  },
  {
   "metadata": {
    "ExecuteTime": {
     "end_time": "2025-01-29T07:25:31.474308Z",
     "start_time": "2025-01-29T07:25:30.836826Z"
    }
   },
   "cell_type": "code",
   "source": "y_cp.value_counts()",
   "id": "d5174a6b34d6aff7",
   "outputs": [
    {
     "data": {
      "text/plain": [
       "label\n",
       "0    98\n",
       "1    77\n",
       "Name: count, dtype: int64"
      ]
     },
     "execution_count": 50,
     "metadata": {},
     "output_type": "execute_result"
    }
   ],
   "execution_count": 50
  },
  {
   "metadata": {},
   "cell_type": "markdown",
   "source": "# Train the model",
   "id": "f5b4e80798afc091"
  },
  {
   "metadata": {
    "ExecuteTime": {
     "end_time": "2025-01-29T07:25:43.633096Z",
     "start_time": "2025-01-29T07:25:41.773594Z"
    }
   },
   "cell_type": "code",
   "source": [
    "clf = TransformerClassifier(\n",
    "    model_name=\"dtorber/bert-base-spanish-wwm-cased_K4\",\n",
    "    num_labels=num_labels,\n",
    ")"
   ],
   "id": "df3edba0a00c53ef",
   "outputs": [],
   "execution_count": 51
  },
  {
   "metadata": {
    "ExecuteTime": {
     "end_time": "2025-01-29T14:38:33.656917Z",
     "start_time": "2025-01-29T07:25:48.223904Z"
    }
   },
   "cell_type": "code",
   "source": [
    "clf = clf.fit(\n",
    "    X=X_train,\n",
    "    y=y_train,\n",
    "    eval_X=X_val,\n",
    "    eval_y=y_val,\n",
    "    learning_rate=2e-5,\n",
    "    num_train_epochs=10,\n",
    "    per_device_train_batch_size=16,\n",
    "    per_device_eval_batch_size=16,\n",
    "    early_stopping_patience=2,\n",
    "    # freeze_layers_prefix=[\"bert.embeddings\", \"bert.encoder\"],\n",
    "    # freeze_layers_prefix=[\"bert.embeddings\"] + [f\"bert.encoder.layer.{i}\" for i in range(1, 9)],\n",
    ")"
   ],
   "id": "6b9d89feb0f10b6c",
   "outputs": [
    {
     "data": {
      "text/plain": [
       "<IPython.core.display.HTML object>"
      ],
      "text/html": [
       "\n",
       "    <div>\n",
       "      \n",
       "      <progress value='500' max='1250' style='width:300px; height:20px; vertical-align: middle;'></progress>\n",
       "      [ 500/1250 7:11:59 < 10:50:35, 0.02 it/s, Epoch 4/10]\n",
       "    </div>\n",
       "    <table border=\"1\" class=\"dataframe\">\n",
       "  <thead>\n",
       " <tr style=\"text-align: left;\">\n",
       "      <th>Epoch</th>\n",
       "      <th>Training Loss</th>\n",
       "      <th>Validation Loss</th>\n",
       "    </tr>\n",
       "  </thead>\n",
       "  <tbody>\n",
       "    <tr>\n",
       "      <td>1</td>\n",
       "      <td>0.240800</td>\n",
       "      <td>0.162596</td>\n",
       "    </tr>\n",
       "    <tr>\n",
       "      <td>2</td>\n",
       "      <td>0.320800</td>\n",
       "      <td>0.141222</td>\n",
       "    </tr>\n",
       "    <tr>\n",
       "      <td>3</td>\n",
       "      <td>0.094700</td>\n",
       "      <td>0.371522</td>\n",
       "    </tr>\n",
       "    <tr>\n",
       "      <td>4</td>\n",
       "      <td>0.093000</td>\n",
       "      <td>0.321876</td>\n",
       "    </tr>\n",
       "  </tbody>\n",
       "</table><p>"
      ]
     },
     "metadata": {},
     "output_type": "display_data"
    }
   ],
   "execution_count": 52
  },
  {
   "metadata": {
    "ExecuteTime": {
     "end_time": "2025-01-29T14:38:35.642872Z",
     "start_time": "2025-01-29T14:38:33.667926Z"
    }
   },
   "cell_type": "code",
   "source": [
    "clf.model.save_pretrained(\"../../output_models/prod/model_augmented_1\")\n",
    "clf.tokenizer.save_pretrained(\"../../output_models/prod/model_augmented_1\")"
   ],
   "id": "4806c7b1ebde6d68",
   "outputs": [
    {
     "data": {
      "text/plain": [
       "('../../output_models/prod/model_augmented_1\\\\tokenizer_config.json',\n",
       " '../../output_models/prod/model_augmented_1\\\\special_tokens_map.json',\n",
       " '../../output_models/prod/model_augmented_1\\\\vocab.txt',\n",
       " '../../output_models/prod/model_augmented_1\\\\added_tokens.json',\n",
       " '../../output_models/prod/model_augmented_1\\\\tokenizer.json')"
      ]
     },
     "execution_count": 53,
     "metadata": {},
     "output_type": "execute_result"
    }
   ],
   "execution_count": 53
  },
  {
   "metadata": {
    "ExecuteTime": {
     "end_time": "2025-01-29T14:54:57.245073Z",
     "start_time": "2025-01-29T14:54:55.864804Z"
    }
   },
   "cell_type": "code",
   "source": [
    "clf = TransformerClassifier(\n",
    "    model_name=None,\n",
    "    num_labels=num_labels,\n",
    "    local_model_path=\"../../output_models/prod/model_augmented_1\",\n",
    ")"
   ],
   "id": "5a3d4217556bd135",
   "outputs": [],
   "execution_count": 54
  },
  {
   "metadata": {
    "ExecuteTime": {
     "end_time": "2025-01-29T14:58:31.850722Z",
     "start_time": "2025-01-29T14:54:58.492489Z"
    }
   },
   "cell_type": "code",
   "source": [
    "# Evaluate the model\n",
    "from sklearn.metrics import classification_report\n",
    "\n",
    "val_texts_list = X_test.tolist()  # Convert to a list if necessary\n",
    "predictions = clf.predict(val_texts_list)"
   ],
   "id": "c7a2f4ed25001305",
   "outputs": [
    {
     "data": {
      "text/plain": [
       "<IPython.core.display.HTML object>"
      ],
      "text/html": []
     },
     "metadata": {},
     "output_type": "display_data"
    }
   ],
   "execution_count": 55
  },
  {
   "metadata": {
    "ExecuteTime": {
     "end_time": "2025-01-29T14:58:32.414775Z",
     "start_time": "2025-01-29T14:58:31.850722Z"
    }
   },
   "cell_type": "code",
   "source": "print(classification_report(y_test, predictions))",
   "id": "e287e99ca5093bba",
   "outputs": [
    {
     "name": "stdout",
     "output_type": "stream",
     "text": [
      "              precision    recall  f1-score   support\n",
      "\n",
      "           0       0.86      0.95      0.90        97\n",
      "           1       0.93      0.81      0.86        77\n",
      "\n",
      "    accuracy                           0.89       174\n",
      "   macro avg       0.89      0.88      0.88       174\n",
      "weighted avg       0.89      0.89      0.88       174\n",
      "\n"
     ]
    }
   ],
   "execution_count": 56
  },
  {
   "metadata": {
    "ExecuteTime": {
     "end_time": "2025-01-29T14:58:33.360086Z",
     "start_time": "2025-01-29T14:58:32.414775Z"
    }
   },
   "cell_type": "code",
   "source": [
    "# Print the confusion matrix\n",
    "from sklearn.metrics import confusion_matrix\n",
    "import seaborn as sns\n",
    "import matplotlib.pyplot as plt\n",
    "\n",
    "cm = confusion_matrix(y_test, predictions)\n",
    "fig = plt.figure(figsize=(10, 10))\n",
    "sns.heatmap(cm, annot=True, fmt=\"d\", cmap=\"Blues\")\n",
    "plt.xlabel(\"Predicted\")\n",
    "plt.ylabel(\"Actual\")\n",
    "plt.show()"
   ],
   "id": "e31d0849b18d4cef",
   "outputs": [
    {
     "data": {
      "text/plain": [
       "<Figure size 1000x1000 with 2 Axes>"
      ],
      "image/png": "[encoded data removed]"
     },
     "metadata": {},
     "output_type": "display_data"
    }
   ],
   "execution_count": 57
  },
  {
   "metadata": {},
   "cell_type": "code",
   "outputs": [],
   "execution_count": null,
   "source": "",
   "id": "89679943e12ab18c"
  },
  {
   "metadata": {},
   "cell_type": "code",
   "outputs": [],
   "execution_count": null,
   "source": "",
   "id": "b2f21a169addf01a"
  },
  {
   "metadata": {},
   "cell_type": "code",
   "outputs": [],
   "execution_count": null,
   "source": "",
   "id": "ad82f32e0776d509"
  },
  {
   "metadata": {},
   "cell_type": "code",
   "outputs": [],
   "execution_count": null,
   "source": "",
   "id": "c01ad8f723defef3"
  },
  {
   "metadata": {},
   "cell_type": "code",
   "outputs": [],
   "execution_count": null,
   "source": "",
   "id": "2999cb3b120311c"
  },
  {
   "metadata": {},
   "cell_type": "code",
   "outputs": [],
   "execution_count": null,
   "source": "",
   "id": "a762b579caa672c5"
  }
 ],
 "metadata": {
  "kernelspec": {
   "display_name": "Python 3",
   "language": "python",
   "name": "python3"
  },
  "language_info": {
   "codemirror_mode": {
    "name": "ipython",
    "version": 2
   },
   "file_extension": ".py",
   "mimetype": "text/x-python",
   "name": "python",
   "nbconvert_exporter": "python",
   "pygments_lexer": "ipython2",
   "version": "2.7.6"
  }
 },
 "nbformat": 4,
 "nbformat_minor": 5
}
