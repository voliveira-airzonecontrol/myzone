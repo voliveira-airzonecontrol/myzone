{
 "cells": [
  {
   "cell_type": "code",
   "id": "initial_id",
   "metadata": {
    "collapsed": true,
    "ExecuteTime": {
     "end_time": "2025-01-30T11:28:35.989793Z",
     "start_time": "2025-01-30T11:28:23.536604Z"
    }
   },
   "source": [
    "import argparse\n",
    "import os\n",
    "\n",
    "import numpy as np\n",
    "import pandas as pd\n",
    "import matplotlib\n",
    "\n",
    "import matplotlib.pyplot as plt\n",
    "\n",
    "from mapie.classification import MapieClassifier\n",
    "from sklearn.model_selection import train_test_split\n",
    "from sklearn.preprocessing import LabelEncoder\n",
    "from sklearn.metrics import classification_report\n",
    "\n",
    "from src.conformal_prediction.utils import chunked_mapie_predict\n",
    "\n",
    "# For loading your trained TransformerClassifier\n",
    "from src.training.model import TransformerClassifier\n",
    "from src.utils import load_config, get_logger"
   ],
   "outputs": [],
   "execution_count": 1
  },
  {
   "cell_type": "code",
   "source": [
    "# Load config\n",
    "env = \"prod\"\n",
    "model_type = \"BERT\"\n",
    "\n",
    "training_config = load_config(\n",
    "    file_name=\"training_config\", env=env, folder=\"../../config\"\n",
    ")"
   ],
   "metadata": {
    "collapsed": false,
    "ExecuteTime": {
     "end_time": "2025-01-30T11:28:36.009457Z",
     "start_time": "2025-01-30T11:28:35.990797Z"
    }
   },
   "id": "30cd88fa6cd2575",
   "outputs": [],
   "execution_count": 2
  },
  {
   "cell_type": "code",
   "source": [
    "input_dataset = f\"../../output_data/{env}/supervised_dataset.parquet\"\n",
    "input_model = f\"../../output_models/{env}/model_rawdata_1\"\n",
    "# input_model = f\"../../output_models/{env}/temp_model_16-01\"\n",
    "input_outliers = f\"../../output_data/{env}/supervised_dataset_phase2.parquet\"\n",
    "output_reports = f\"../../output_reports/{env}/outlier_detection/teste\"\n",
    "alpha = 0.2"
   ],
   "metadata": {
    "collapsed": false,
    "ExecuteTime": {
     "end_time": "2025-01-30T12:02:01.816119Z",
     "start_time": "2025-01-30T12:02:01.812489Z"
    }
   },
   "id": "3cbd1d0cd97010a8",
   "outputs": [],
   "execution_count": 26
  },
  {
   "cell_type": "code",
   "source": [
    "df = pd.read_parquet(input_dataset)"
   ],
   "metadata": {
    "collapsed": false,
    "ExecuteTime": {
     "end_time": "2025-01-30T11:28:43.468765Z",
     "start_time": "2025-01-30T11:28:43.459075Z"
    }
   },
   "id": "35cc1e604dd10624",
   "outputs": [],
   "execution_count": 12
  },
  {
   "cell_type": "code",
   "source": [
    "# Select features and target\n",
    "X = df[training_config.training[model_type].features]\n",
    "y = df[training_config.training[model_type].target]\n",
    "num_labels = y.nunique()"
   ],
   "metadata": {
    "collapsed": false,
    "ExecuteTime": {
     "end_time": "2025-01-30T11:28:43.753414Z",
     "start_time": "2025-01-30T11:28:43.749212Z"
    }
   },
   "id": "acaca358e1cf72bf",
   "outputs": [],
   "execution_count": 13
  },
  {
   "cell_type": "code",
   "source": [
    "X_train, X_test, y_train, y_test = train_test_split(\n",
    "    X,\n",
    "    y,\n",
    "    test_size=training_config.training[model_type].test_size,\n",
    "    random_state=training_config.training.random_state,\n",
    "    stratify=y,\n",
    ")\n",
    "X_train, X_val, y_train, y_val = train_test_split(\n",
    "    X_train,\n",
    "    y_train,\n",
    "    test_size=training_config.training[model_type].val_size,\n",
    "    random_state=training_config.training.random_state,\n",
    "    stratify=y_train,\n",
    ")\n",
    "X_test, X_cp, y_test, y_cp = train_test_split(\n",
    "    X_test,\n",
    "    y_test,\n",
    "    test_size=training_config.training[model_type].cp_size,\n",
    "    random_state=training_config.training.random_state,\n",
    "    stratify=y_test,\n",
    ")"
   ],
   "metadata": {
    "collapsed": false,
    "ExecuteTime": {
     "end_time": "2025-01-30T11:28:44.062150Z",
     "start_time": "2025-01-30T11:28:44.051546Z"
    }
   },
   "id": "1bba7a3dd0ec4c7b",
   "outputs": [],
   "execution_count": 14
  },
  {
   "cell_type": "code",
   "source": [
    "outliers = pd.read_parquet(input_outliers)\n",
    "X_outliers = outliers[training_config.training[model_type].features]\n",
    "y_outliers = outliers[training_config.training[model_type].target]\n",
    "X_test = pd.concat([X_test, X_outliers], ignore_index=True)\n",
    "y_test = pd.concat([y_test, y_outliers], ignore_index=True)"
   ],
   "metadata": {
    "collapsed": false,
    "ExecuteTime": {
     "end_time": "2025-01-30T11:28:44.478838Z",
     "start_time": "2025-01-30T11:28:44.468837Z"
    }
   },
   "id": "2a1e752e51948b95",
   "outputs": [],
   "execution_count": 15
  },
  {
   "cell_type": "code",
   "source": [
    "\"\"\"# Sample X_test and y_test\n",
    "X_test = X_test.sample(\n",
    "    frac=0.1, random_state=training_config.training.random_state\n",
    ").reset_index(drop=True)\n",
    "y_test = y_test.sample(\n",
    "    frac=0.1, random_state=training_config.training.random_state\n",
    ").reset_index(drop=True)\"\"\""
   ],
   "metadata": {
    "collapsed": false,
    "ExecuteTime": {
     "end_time": "2025-01-30T11:28:45.265068Z",
     "start_time": "2025-01-30T11:28:45.260841Z"
    }
   },
   "id": "f262cee2015a26",
   "outputs": [
    {
     "data": {
      "text/plain": [
       "'# Sample X_test and y_test\\nX_test = X_test.sample(\\n    frac=0.1, random_state=training_config.training.random_state\\n).reset_index(drop=True)\\ny_test = y_test.sample(\\n    frac=0.1, random_state=training_config.training.random_state\\n).reset_index(drop=True)'"
      ]
     },
     "execution_count": 16,
     "metadata": {},
     "output_type": "execute_result"
    }
   ],
   "execution_count": 16
  },
  {
   "metadata": {
    "ExecuteTime": {
     "end_time": "2025-01-30T11:28:46.106890Z",
     "start_time": "2025-01-30T11:28:46.101848Z"
    }
   },
   "cell_type": "code",
   "source": "X_test.shape",
   "id": "7ff389fed3f1a7f4",
   "outputs": [
    {
     "data": {
      "text/plain": [
       "(563,)"
      ]
     },
     "execution_count": 17,
     "metadata": {},
     "output_type": "execute_result"
    }
   ],
   "execution_count": 17
  },
  {
   "cell_type": "code",
   "source": [
    "clf = TransformerClassifier(local_model_path=input_model, num_labels=num_labels)"
   ],
   "metadata": {
    "collapsed": false,
    "ExecuteTime": {
     "end_time": "2025-01-30T11:28:47.815340Z",
     "start_time": "2025-01-30T11:28:46.749704Z"
    }
   },
   "id": "249cdd6dc9160f62",
   "outputs": [],
   "execution_count": 18
  },
  {
   "cell_type": "code",
   "source": [
    "# Prepare the model for conformal prediction\n",
    "mapie_clf = MapieClassifier(\n",
    "    estimator=clf,\n",
    "    method=\"score\",\n",
    "    cv=\"prefit\",\n",
    "    random_state=training_config.training.random_state,\n",
    ")"
   ],
   "metadata": {
    "collapsed": false,
    "ExecuteTime": {
     "end_time": "2025-01-30T11:28:50.842261Z",
     "start_time": "2025-01-30T11:28:50.838979Z"
    }
   },
   "id": "5e909c370fc161ff",
   "outputs": [],
   "execution_count": 19
  },
  {
   "cell_type": "code",
   "source": [
    "# Fit on the calibration set\n",
    "_ = mapie_clf.fit(X_cp, y_cp)"
   ],
   "metadata": {
    "collapsed": false,
    "ExecuteTime": {
     "end_time": "2025-01-30T11:29:22.677014Z",
     "start_time": "2025-01-30T11:28:53.694074Z"
    }
   },
   "id": "a1fdf911bed9e2b9",
   "outputs": [
    {
     "data": {
      "text/plain": [
       "<IPython.core.display.HTML object>"
      ],
      "text/html": []
     },
     "metadata": {},
     "output_type": "display_data"
    }
   ],
   "execution_count": 20
  },
  {
   "cell_type": "code",
   "source": [
    "alpha = [0.2, 0.15, 0.1]\n",
    "point_preds, conf_sets = chunked_mapie_predict(mapie_clf, X_test, alpha=alpha)"
   ],
   "metadata": {
    "collapsed": false,
    "ExecuteTime": {
     "end_time": "2025-01-30T11:32:19.721562Z",
     "start_time": "2025-01-30T11:29:22.678019Z"
    }
   },
   "id": "38be8e954bf1057a",
   "outputs": [
    {
     "data": {
      "text/plain": [
       "<IPython.core.display.HTML object>"
      ],
      "text/html": []
     },
     "metadata": {},
     "output_type": "display_data"
    },
    {
     "data": {
      "text/plain": [
       "<IPython.core.display.HTML object>"
      ],
      "text/html": []
     },
     "metadata": {},
     "output_type": "display_data"
    },
    {
     "data": {
      "text/plain": [
       "<IPython.core.display.HTML object>"
      ],
      "text/html": []
     },
     "metadata": {},
     "output_type": "display_data"
    },
    {
     "data": {
      "text/plain": [
       "<IPython.core.display.HTML object>"
      ],
      "text/html": []
     },
     "metadata": {},
     "output_type": "display_data"
    },
    {
     "data": {
      "text/plain": [
       "<IPython.core.display.HTML object>"
      ],
      "text/html": []
     },
     "metadata": {},
     "output_type": "display_data"
    },
    {
     "data": {
      "text/plain": [
       "<IPython.core.display.HTML object>"
      ],
      "text/html": []
     },
     "metadata": {},
     "output_type": "display_data"
    },
    {
     "data": {
      "text/plain": [
       "<IPython.core.display.HTML object>"
      ],
      "text/html": []
     },
     "metadata": {},
     "output_type": "display_data"
    },
    {
     "data": {
      "text/plain": [
       "<IPython.core.display.HTML object>"
      ],
      "text/html": []
     },
     "metadata": {},
     "output_type": "display_data"
    },
    {
     "data": {
      "text/plain": [
       "<IPython.core.display.HTML object>"
      ],
      "text/html": []
     },
     "metadata": {},
     "output_type": "display_data"
    },
    {
     "data": {
      "text/plain": [
       "<IPython.core.display.HTML object>"
      ],
      "text/html": []
     },
     "metadata": {},
     "output_type": "display_data"
    },
    {
     "data": {
      "text/plain": [
       "<IPython.core.display.HTML object>"
      ],
      "text/html": []
     },
     "metadata": {},
     "output_type": "display_data"
    },
    {
     "data": {
      "text/plain": [
       "<IPython.core.display.HTML object>"
      ],
      "text/html": []
     },
     "metadata": {},
     "output_type": "display_data"
    },
    {
     "data": {
      "text/plain": [
       "<IPython.core.display.HTML object>"
      ],
      "text/html": []
     },
     "metadata": {},
     "output_type": "display_data"
    },
    {
     "data": {
      "text/plain": [
       "<IPython.core.display.HTML object>"
      ],
      "text/html": []
     },
     "metadata": {},
     "output_type": "display_data"
    },
    {
     "data": {
      "text/plain": [
       "<IPython.core.display.HTML object>"
      ],
      "text/html": []
     },
     "metadata": {},
     "output_type": "display_data"
    },
    {
     "data": {
      "text/plain": [
       "<IPython.core.display.HTML object>"
      ],
      "text/html": []
     },
     "metadata": {},
     "output_type": "display_data"
    },
    {
     "data": {
      "text/plain": [
       "<IPython.core.display.HTML object>"
      ],
      "text/html": []
     },
     "metadata": {},
     "output_type": "display_data"
    },
    {
     "data": {
      "text/plain": [
       "<IPython.core.display.HTML object>"
      ],
      "text/html": []
     },
     "metadata": {},
     "output_type": "display_data"
    }
   ],
   "execution_count": 21
  },
  {
   "metadata": {
    "ExecuteTime": {
     "end_time": "2025-01-30T11:32:19.726735Z",
     "start_time": "2025-01-30T11:32:19.722568Z"
    }
   },
   "cell_type": "code",
   "source": [
    "def plot_scores(n, alphas, scores, quantiles):\n",
    "    colors = {0: \"#1f77b4\", 1: \"#ff7f0e\", 2: \"#2ca02c\"}\n",
    "    plt.figure(figsize=(7, 5))\n",
    "    plt.hist(scores, bins=\"auto\")\n",
    "    for i, quantile in enumerate(quantiles):\n",
    "        plt.vlines(\n",
    "            x=quantile,\n",
    "            ymin=0,\n",
    "            ymax=100,\n",
    "            color=colors[i],\n",
    "            ls=\"dashed\",\n",
    "            label=f\"alpha = {alphas[i]}\",\n",
    "        )\n",
    "    plt.title(\"Distribution of scores\")\n",
    "    plt.legend()\n",
    "    plt.xlabel(\"Scores\")\n",
    "    plt.ylabel(\"Count\")\n",
    "    plt.show()"
   ],
   "id": "a901be9fdc75251d",
   "outputs": [],
   "execution_count": 22
  },
  {
   "metadata": {
    "ExecuteTime": {
     "end_time": "2025-01-30T11:32:19.920629Z",
     "start_time": "2025-01-30T11:32:19.727742Z"
    }
   },
   "cell_type": "code",
   "source": [
    "scores = mapie_clf.conformity_scores_\n",
    "n = len(mapie_clf.conformity_scores_)\n",
    "quantiles = mapie_clf.quantiles_\n",
    "\n",
    "plot_scores(n, alpha, scores, quantiles)"
   ],
   "id": "ed78474770103a0e",
   "outputs": [
    {
     "data": {
      "text/plain": [
       "<Figure size 700x500 with 1 Axes>"
      ],
      "image/png": "[encoded data removed]"
     },
     "metadata": {},
     "output_type": "display_data"
    }
   ],
   "execution_count": 23
  },
  {
   "metadata": {},
   "cell_type": "markdown",
   "source": "# Calibration Curve - Reliability Diagram",
   "id": "18b277f7cb217d65"
  },
  {
   "metadata": {
    "ExecuteTime": {
     "end_time": "2025-01-30T11:38:53.020041Z",
     "start_time": "2025-01-30T11:37:25.301037Z"
    }
   },
   "cell_type": "code",
   "source": [
    "from sklearn.calibration import calibration_curve\n",
    "\n",
    "# Get calibration curve\n",
    "y_prob = clf.predict_proba(X_test)"
   ],
   "id": "f7930d1338d3c645",
   "outputs": [
    {
     "data": {
      "text/plain": [
       "<IPython.core.display.HTML object>"
      ],
      "text/html": []
     },
     "metadata": {},
     "output_type": "display_data"
    }
   ],
   "execution_count": 24
  },
  {
   "metadata": {
    "ExecuteTime": {
     "end_time": "2025-01-30T11:51:32.908213Z",
     "start_time": "2025-01-30T11:51:32.092203Z"
    }
   },
   "cell_type": "code",
   "source": [
    "prob_true, prob_pred = calibration_curve(y_test, y_prob[:, 1], n_bins=3)\n",
    "\n",
    "# Plot calibration curve\n",
    "plt.figure(figsize=(7, 5))\n",
    "plt.plot(prob_pred, prob_true, marker=\"o\", label=\"TransformerClassifier\")\n",
    "plt.plot([0, 1], [0, 1], linestyle=\"--\", color=\"black\", label=\"Perfectly calibrated\")\n",
    "plt.title(\"Reliability Diagram\")\n",
    "plt.xlabel(\"Mean predicted probability\")\n",
    "plt.ylabel(\"Fraction of positives\")\n",
    "plt.legend()\n",
    "plt.show()"
   ],
   "id": "47f5eef7b6ec8880",
   "outputs": [
    {
     "ename": "ValueError",
     "evalue": "y_true takes value in {0, 1, 2} and pos_label is not specified: either make y_true take value in {0, 1} or {-1, 1} or pass pos_label explicitly.",
     "output_type": "error",
     "traceback": [
      "\u001B[1;31m---------------------------------------------------------------------------\u001B[0m",
      "\u001B[1;31mValueError\u001B[0m                                Traceback (most recent call last)",
      "Cell \u001B[1;32mIn[25], line 1\u001B[0m\n\u001B[1;32m----> 1\u001B[0m prob_true, prob_pred \u001B[38;5;241m=\u001B[39m \u001B[43mcalibration_curve\u001B[49m\u001B[43m(\u001B[49m\u001B[43my_test\u001B[49m\u001B[43m,\u001B[49m\u001B[43m \u001B[49m\u001B[43my_prob\u001B[49m\u001B[43m[\u001B[49m\u001B[43m:\u001B[49m\u001B[43m,\u001B[49m\u001B[43m \u001B[49m\u001B[38;5;241;43m1\u001B[39;49m\u001B[43m]\u001B[49m\u001B[43m,\u001B[49m\u001B[43m \u001B[49m\u001B[43mn_bins\u001B[49m\u001B[38;5;241;43m=\u001B[39;49m\u001B[38;5;241;43m3\u001B[39;49m\u001B[43m)\u001B[49m\n\u001B[0;32m      3\u001B[0m \u001B[38;5;66;03m# Plot calibration curve\u001B[39;00m\n\u001B[0;32m      4\u001B[0m plt\u001B[38;5;241m.\u001B[39mfigure(figsize\u001B[38;5;241m=\u001B[39m(\u001B[38;5;241m7\u001B[39m, \u001B[38;5;241m5\u001B[39m))\n",
      "File \u001B[1;32m~\\OneDrive - Corporacion Empresarial Altra SL\\00-Proyectos\\myzone\\.venv\\Lib\\site-packages\\sklearn\\utils\\_param_validation.py:213\u001B[0m, in \u001B[0;36mvalidate_params.<locals>.decorator.<locals>.wrapper\u001B[1;34m(*args, **kwargs)\u001B[0m\n\u001B[0;32m    207\u001B[0m \u001B[38;5;28;01mtry\u001B[39;00m:\n\u001B[0;32m    208\u001B[0m     \u001B[38;5;28;01mwith\u001B[39;00m config_context(\n\u001B[0;32m    209\u001B[0m         skip_parameter_validation\u001B[38;5;241m=\u001B[39m(\n\u001B[0;32m    210\u001B[0m             prefer_skip_nested_validation \u001B[38;5;129;01mor\u001B[39;00m global_skip_validation\n\u001B[0;32m    211\u001B[0m         )\n\u001B[0;32m    212\u001B[0m     ):\n\u001B[1;32m--> 213\u001B[0m         \u001B[38;5;28;01mreturn\u001B[39;00m \u001B[43mfunc\u001B[49m\u001B[43m(\u001B[49m\u001B[38;5;241;43m*\u001B[39;49m\u001B[43margs\u001B[49m\u001B[43m,\u001B[49m\u001B[43m \u001B[49m\u001B[38;5;241;43m*\u001B[39;49m\u001B[38;5;241;43m*\u001B[39;49m\u001B[43mkwargs\u001B[49m\u001B[43m)\u001B[49m\n\u001B[0;32m    214\u001B[0m \u001B[38;5;28;01mexcept\u001B[39;00m InvalidParameterError \u001B[38;5;28;01mas\u001B[39;00m e:\n\u001B[0;32m    215\u001B[0m     \u001B[38;5;66;03m# When the function is just a wrapper around an estimator, we allow\u001B[39;00m\n\u001B[0;32m    216\u001B[0m     \u001B[38;5;66;03m# the function to delegate validation to the estimator, but we replace\u001B[39;00m\n\u001B[0;32m    217\u001B[0m     \u001B[38;5;66;03m# the name of the estimator by the name of the function in the error\u001B[39;00m\n\u001B[0;32m    218\u001B[0m     \u001B[38;5;66;03m# message to avoid confusion.\u001B[39;00m\n\u001B[0;32m    219\u001B[0m     msg \u001B[38;5;241m=\u001B[39m re\u001B[38;5;241m.\u001B[39msub(\n\u001B[0;32m    220\u001B[0m         \u001B[38;5;124mr\u001B[39m\u001B[38;5;124m\"\u001B[39m\u001B[38;5;124mparameter of \u001B[39m\u001B[38;5;124m\\\u001B[39m\u001B[38;5;124mw+ must be\u001B[39m\u001B[38;5;124m\"\u001B[39m,\n\u001B[0;32m    221\u001B[0m         \u001B[38;5;124mf\u001B[39m\u001B[38;5;124m\"\u001B[39m\u001B[38;5;124mparameter of \u001B[39m\u001B[38;5;132;01m{\u001B[39;00mfunc\u001B[38;5;241m.\u001B[39m\u001B[38;5;18m__qualname__\u001B[39m\u001B[38;5;132;01m}\u001B[39;00m\u001B[38;5;124m must be\u001B[39m\u001B[38;5;124m\"\u001B[39m,\n\u001B[0;32m    222\u001B[0m         \u001B[38;5;28mstr\u001B[39m(e),\n\u001B[0;32m    223\u001B[0m     )\n",
      "File \u001B[1;32m~\\OneDrive - Corporacion Empresarial Altra SL\\00-Proyectos\\myzone\\.venv\\Lib\\site-packages\\sklearn\\calibration.py:1002\u001B[0m, in \u001B[0;36mcalibration_curve\u001B[1;34m(y_true, y_prob, pos_label, n_bins, strategy)\u001B[0m\n\u001B[0;32m   1000\u001B[0m y_prob \u001B[38;5;241m=\u001B[39m column_or_1d(y_prob)\n\u001B[0;32m   1001\u001B[0m check_consistent_length(y_true, y_prob)\n\u001B[1;32m-> 1002\u001B[0m pos_label \u001B[38;5;241m=\u001B[39m \u001B[43m_check_pos_label_consistency\u001B[49m\u001B[43m(\u001B[49m\u001B[43mpos_label\u001B[49m\u001B[43m,\u001B[49m\u001B[43m \u001B[49m\u001B[43my_true\u001B[49m\u001B[43m)\u001B[49m\n\u001B[0;32m   1004\u001B[0m \u001B[38;5;28;01mif\u001B[39;00m y_prob\u001B[38;5;241m.\u001B[39mmin() \u001B[38;5;241m<\u001B[39m \u001B[38;5;241m0\u001B[39m \u001B[38;5;129;01mor\u001B[39;00m y_prob\u001B[38;5;241m.\u001B[39mmax() \u001B[38;5;241m>\u001B[39m \u001B[38;5;241m1\u001B[39m:\n\u001B[0;32m   1005\u001B[0m     \u001B[38;5;28;01mraise\u001B[39;00m \u001B[38;5;167;01mValueError\u001B[39;00m(\u001B[38;5;124m\"\u001B[39m\u001B[38;5;124my_prob has values outside [0, 1].\u001B[39m\u001B[38;5;124m\"\u001B[39m)\n",
      "File \u001B[1;32m~\\OneDrive - Corporacion Empresarial Altra SL\\00-Proyectos\\myzone\\.venv\\Lib\\site-packages\\sklearn\\utils\\validation.py:2454\u001B[0m, in \u001B[0;36m_check_pos_label_consistency\u001B[1;34m(pos_label, y_true)\u001B[0m\n\u001B[0;32m   2443\u001B[0m \u001B[38;5;28;01mif\u001B[39;00m pos_label \u001B[38;5;129;01mis\u001B[39;00m \u001B[38;5;28;01mNone\u001B[39;00m \u001B[38;5;129;01mand\u001B[39;00m (\n\u001B[0;32m   2444\u001B[0m     classes\u001B[38;5;241m.\u001B[39mdtype\u001B[38;5;241m.\u001B[39mkind \u001B[38;5;129;01min\u001B[39;00m \u001B[38;5;124m\"\u001B[39m\u001B[38;5;124mOUS\u001B[39m\u001B[38;5;124m\"\u001B[39m\n\u001B[0;32m   2445\u001B[0m     \u001B[38;5;129;01mor\u001B[39;00m \u001B[38;5;129;01mnot\u001B[39;00m (\n\u001B[1;32m   (...)\u001B[0m\n\u001B[0;32m   2451\u001B[0m     )\n\u001B[0;32m   2452\u001B[0m ):\n\u001B[0;32m   2453\u001B[0m     classes_repr \u001B[38;5;241m=\u001B[39m \u001B[38;5;124m\"\u001B[39m\u001B[38;5;124m, \u001B[39m\u001B[38;5;124m\"\u001B[39m\u001B[38;5;241m.\u001B[39mjoin([\u001B[38;5;28mrepr\u001B[39m(c) \u001B[38;5;28;01mfor\u001B[39;00m c \u001B[38;5;129;01min\u001B[39;00m classes\u001B[38;5;241m.\u001B[39mtolist()])\n\u001B[1;32m-> 2454\u001B[0m     \u001B[38;5;28;01mraise\u001B[39;00m \u001B[38;5;167;01mValueError\u001B[39;00m(\n\u001B[0;32m   2455\u001B[0m         \u001B[38;5;124mf\u001B[39m\u001B[38;5;124m\"\u001B[39m\u001B[38;5;124my_true takes value in \u001B[39m\u001B[38;5;130;01m{{\u001B[39;00m\u001B[38;5;132;01m{\u001B[39;00mclasses_repr\u001B[38;5;132;01m}\u001B[39;00m\u001B[38;5;130;01m}}\u001B[39;00m\u001B[38;5;124m and pos_label is not \u001B[39m\u001B[38;5;124m\"\u001B[39m\n\u001B[0;32m   2456\u001B[0m         \u001B[38;5;124m\"\u001B[39m\u001B[38;5;124mspecified: either make y_true take value in \u001B[39m\u001B[38;5;124m{\u001B[39m\u001B[38;5;124m0, 1} or \u001B[39m\u001B[38;5;124m\"\u001B[39m\n\u001B[0;32m   2457\u001B[0m         \u001B[38;5;124m\"\u001B[39m\u001B[38;5;124m{\u001B[39m\u001B[38;5;124m-1, 1} or pass pos_label explicitly.\u001B[39m\u001B[38;5;124m\"\u001B[39m\n\u001B[0;32m   2458\u001B[0m     )\n\u001B[0;32m   2459\u001B[0m \u001B[38;5;28;01melif\u001B[39;00m pos_label \u001B[38;5;129;01mis\u001B[39;00m \u001B[38;5;28;01mNone\u001B[39;00m:\n\u001B[0;32m   2460\u001B[0m     pos_label \u001B[38;5;241m=\u001B[39m \u001B[38;5;241m1\u001B[39m\n",
      "\u001B[1;31mValueError\u001B[0m: y_true takes value in {0, 1, 2} and pos_label is not specified: either make y_true take value in {0, 1} or {-1, 1} or pass pos_label explicitly."
     ]
    }
   ],
   "execution_count": 25
  },
  {
   "metadata": {},
   "cell_type": "markdown",
   "source": "# Analyze Outliers",
   "id": "62c7405e1578dbae"
  },
  {
   "metadata": {
    "ExecuteTime": {
     "end_time": "2025-01-30T12:02:09.609284Z",
     "start_time": "2025-01-30T12:02:09.231322Z"
    }
   },
   "cell_type": "code",
   "source": [
    "from sklearn.metrics import (\n",
    "    confusion_matrix,\n",
    "    f1_score,\n",
    "    recall_score,\n",
    "    precision_score,\n",
    "    accuracy_score,\n",
    ")\n",
    "\n",
    "alpha = [0.2]\n",
    "\n",
    "for alpha_idx in range(len(alpha)):\n",
    "\n",
    "    print(\"Running outlier detection for alpha =\", alpha[alpha_idx])\n",
    "\n",
    "    outlier_test = pd.concat([X_test, y_test], axis=1)\n",
    "    outlier_test[\"true_outlier\"] = y_test.apply(lambda x: 0 if x in [0, 1] else 1)\n",
    "\n",
    "    outlier_test[\"outlier\"] = False\n",
    "    if conf_sets is not None and conf_sets.ndim == 3:\n",
    "        for i in range(len(outlier_test)):\n",
    "            label_boolean = conf_sets[i, :, alpha_idx]  # shape: (n_classes,)\n",
    "            set_size = np.sum(label_boolean)\n",
    "            if set_size != 1:\n",
    "                outlier_test.loc[outlier_test.index[i], \"outlier\"] = True\n",
    "    else:\n",
    "        print(\"No valid conformal sets returned. No outliers flagged.\")\n",
    "\n",
    "    # Save outliers to a parquet file\n",
    "    outliers_df = outlier_test[outlier_test[\"outlier\"]]\n",
    "    os.makedirs(output_reports, exist_ok=True)\n",
    "    outliers_file = os.path.join(output_reports, \"detected_outliers.parquet\")\n",
    "    outliers_df.to_parquet(outliers_file, index=False)\n",
    "\n",
    "    if conf_sets is not None:\n",
    "        set_sizes = []\n",
    "        for i in range(outlier_test.shape[0]):\n",
    "            if outlier_test[\"outlier\"].iloc[i] is not None:\n",
    "                # measure how big the set is\n",
    "                label_boolean = conf_sets[i, :, alpha_idx]\n",
    "                set_size = np.sum(label_boolean)\n",
    "                set_sizes.append(set_size)\n",
    "\n",
    "        plt.figure(figsize=(8, 6))\n",
    "        plt.hist(\n",
    "            set_sizes,\n",
    "            bins=range(1, max(set_sizes) + 2),\n",
    "            color=\"skyblue\",\n",
    "            edgecolor=\"black\",\n",
    "        )\n",
    "        plt.title(\"Distribution of Conformal Set Sizes (alpha=0.15)\")\n",
    "        plt.xlabel(\"Set size\")\n",
    "        plt.ylabel(\"Frequency\")\n",
    "        plt.xticks(range(1, max(set_sizes) + 2))\n",
    "        dist_plot_path = os.path.join(\n",
    "            output_reports, \"conformal_set_size_distribution.png\"\n",
    "        )\n",
    "        plt.savefig(dist_plot_path)\n",
    "        plt.close()\n",
    "        # plt.show()\n",
    "\n",
    "    if outliers_df.shape[0] > 0:\n",
    "        outliers_by_class = (\n",
    "            outliers_df.groupby(training_config.training[model_type].target)\n",
    "            .size()\n",
    "            .sort_values(ascending=False)\n",
    "        )\n",
    "        plt.figure(figsize=(10, 6))\n",
    "        outliers_by_class.plot(kind=\"bar\", color=\"tomato\")\n",
    "        plt.title(\"Number of Outliers by True Label\")\n",
    "        plt.xlabel(\"Label\")\n",
    "        plt.ylabel(\"Count of Outliers\")\n",
    "        outliers_bar_path = os.path.join(output_reports, \"outliers_by_class.png\")\n",
    "        plt.savefig(outliers_bar_path)\n",
    "        plt.close()\n",
    "        # plt.show()\n",
    "\n",
    "    if \"true_outlier\" in outlier_test.columns:\n",
    "        # Convert booleans => int\n",
    "        y_true = outlier_test[\"true_outlier\"].astype(int).values\n",
    "        y_pred = outlier_test[\"outlier\"].astype(int).values\n",
    "\n",
    "        # Compute metrics\n",
    "        acc = accuracy_score(y_true, y_pred)\n",
    "        prec = precision_score(y_true, y_pred, zero_division=0)\n",
    "        rec = recall_score(y_true, y_pred, zero_division=0)\n",
    "        f1 = f1_score(y_true, y_pred, zero_division=0)\n",
    "        cls_report = classification_report(y_true, y_pred, zero_division=0)\n",
    "\n",
    "        # Log to a text file\n",
    "        eval_report_file = os.path.join(output_reports, \"outlier_evaluation_report.txt\")\n",
    "        with open(eval_report_file, \"w\", encoding=\"utf-8\") as f:\n",
    "            f.write(\"Outlier Detection: Binary Classification Evaluation\\n\")\n",
    "            f.write(\"--------------------------------------------------\\n\\n\")\n",
    "            f.write(f\"Accuracy:  {acc:.4f}\\n\")\n",
    "            f.write(f\"Precision: {prec:.4f}\\n\")\n",
    "            f.write(f\"Recall:    {rec:.4f}\\n\")\n",
    "            f.write(f\"F1-Score:  {f1:.4f}\\n\\n\")\n",
    "            f.write(\"Full Classification Report:\\n\")\n",
    "            f.write(f\"{cls_report}\\n\")\n",
    "        print(\"Outlier Detection: Binary Classification Evaluation\\n\")\n",
    "        print(\"--------------------------------------------------\\n\\n\")\n",
    "        print(f\"Accuracy:  {acc:.4f}\\n\")\n",
    "        print(f\"Precision: {prec:.4f}\\n\")\n",
    "        print(f\"Recall:    {rec:.4f}\\n\")\n",
    "        print(f\"F1-Score:  {f1:.4f}\\n\\n\")\n",
    "        print(\"Full Classification Report:\\n\")\n",
    "        print(f\"{cls_report}\\n\")\n",
    "\n",
    "        print(f\"Outlier evaluation report saved to {eval_report_file}\")\n",
    "\n",
    "        # Confusion Matrix\n",
    "        cm = confusion_matrix(y_true, y_pred)\n",
    "        plt.figure(figsize=(5, 4))\n",
    "        plt.imshow(cm, cmap=plt.cm.Blues)\n",
    "        plt.title(\"Outlier Detection Confusion Matrix\")\n",
    "        plt.colorbar()\n",
    "        ticks = np.arange(2)\n",
    "        plt.xticks(ticks, [\"Normal (0)\", \"Outlier (1)\"], rotation=45, ha=\"right\")\n",
    "        plt.yticks(ticks, [\"Normal (0)\", \"Outlier (1)\"])\n",
    "        # Print counts inside squares\n",
    "        thresh = cm.max() / 2.0\n",
    "        for i in range(cm.shape[0]):\n",
    "            for j in range(cm.shape[1]):\n",
    "                plt.text(\n",
    "                    j,\n",
    "                    i,\n",
    "                    format(cm[i, j], \"d\"),\n",
    "                    ha=\"center\",\n",
    "                    va=\"center\",\n",
    "                    color=\"white\" if cm[i, j] > thresh else \"black\",\n",
    "                )\n",
    "        plt.tight_layout()\n",
    "        plt.xlabel(\"Predicted label\")\n",
    "        plt.ylabel(\"True label\")\n",
    "\n",
    "        cm_path = os.path.join(output_reports, \"outlier_detection_confusion_matrix.png\")\n",
    "        plt.savefig(cm_path)\n",
    "        plt.close()\n",
    "        # plt.show()\n",
    "    else:\n",
    "        print(\n",
    "            \"No 'true_outlier' column found in data. Skipping binary classification evaluation.\"\n",
    "        )"
   ],
   "id": "b22ffcfa24717fbb",
   "outputs": [
    {
     "name": "stdout",
     "output_type": "stream",
     "text": [
      "Running outlier detection for alpha = 0.2\n",
      "Outlier Detection: Binary Classification Evaluation\n",
      "\n",
      "--------------------------------------------------\n",
      "\n",
      "\n",
      "Accuracy:  0.4192\n",
      "\n",
      "Precision: 0.7313\n",
      "\n",
      "Recall:    0.2519\n",
      "\n",
      "F1-Score:  0.3748\n",
      "\n",
      "\n",
      "Full Classification Report:\n",
      "\n",
      "              precision    recall  f1-score   support\n",
      "\n",
      "           0       0.32      0.79      0.46       174\n",
      "           1       0.73      0.25      0.37       389\n",
      "\n",
      "    accuracy                           0.42       563\n",
      "   macro avg       0.53      0.52      0.42       563\n",
      "weighted avg       0.60      0.42      0.40       563\n",
      "\n",
      "\n",
      "Outlier evaluation report saved to ../../output_reports/prod/outlier_detection/teste\\outlier_evaluation_report.txt\n"
     ]
    }
   ],
   "execution_count": 27
  },
  {
   "metadata": {},
   "cell_type": "code",
   "outputs": [],
   "execution_count": null,
   "source": "",
   "id": "9bd2bc79a6d90e4d"
  },
  {
   "metadata": {
    "ExecuteTime": {
     "end_time": "2025-01-09T11:57:20.355029Z",
     "start_time": "2025-01-09T11:57:20.331369Z"
    }
   },
   "cell_type": "code",
   "source": [
    "from src.conformal_prediction.utils import generate_cp_results, reduce_dimensions\n",
    "\n",
    "if conf_sets is not None:\n",
    "    print(\"Saving conformal prediction results.\")\n",
    "    X_train_reduced = reduce_dimensions(X_cp, method=\"pca\")\n",
    "    X_test_reduced = reduce_dimensions(\n",
    "        outlier_test[training_config.training[model_type].features], method=\"pca\"\n",
    "    )\n",
    "\n",
    "    results_plot_path = generate_cp_results(\n",
    "        X_train=X_train_reduced,\n",
    "        y_train=y_cp,\n",
    "        X_test=X_test_reduced,\n",
    "        alphas=alpha,\n",
    "        y_pred_mapie=point_preds,\n",
    "        y_ps_mapie=conf_sets,\n",
    "        output_reports=output_reports,\n",
    "    )\n",
    "    print(f\"Conformal prediction results saved to: {results_plot_path}\")"
   ],
   "id": "80d7e60472969cb3",
   "outputs": [
    {
     "name": "stdout",
     "output_type": "stream",
     "text": [
      "Saving conformal prediction results.\n"
     ]
    },
    {
     "ename": "ValueError",
     "evalue": "Input embeddings must be a pandas DataFrame or numpy array.",
     "output_type": "error",
     "traceback": [
      "\u001B[1;31m---------------------------------------------------------------------------\u001B[0m",
      "\u001B[1;31mValueError\u001B[0m                                Traceback (most recent call last)",
      "Cell \u001B[1;32mIn[86], line 5\u001B[0m\n\u001B[0;32m      3\u001B[0m \u001B[38;5;28;01mif\u001B[39;00m conf_sets \u001B[38;5;129;01mis\u001B[39;00m \u001B[38;5;129;01mnot\u001B[39;00m \u001B[38;5;28;01mNone\u001B[39;00m:\n\u001B[0;32m      4\u001B[0m     \u001B[38;5;28mprint\u001B[39m(\u001B[38;5;124m\"\u001B[39m\u001B[38;5;124mSaving conformal prediction results.\u001B[39m\u001B[38;5;124m\"\u001B[39m)\n\u001B[1;32m----> 5\u001B[0m     X_train_reduced \u001B[38;5;241m=\u001B[39m \u001B[43mreduce_dimensions\u001B[49m\u001B[43m(\u001B[49m\u001B[43mX_cp\u001B[49m\u001B[43m,\u001B[49m\u001B[43m \u001B[49m\u001B[43mmethod\u001B[49m\u001B[38;5;241;43m=\u001B[39;49m\u001B[38;5;124;43m\"\u001B[39;49m\u001B[38;5;124;43mpca\u001B[39;49m\u001B[38;5;124;43m\"\u001B[39;49m\u001B[43m)\u001B[49m\n\u001B[0;32m      6\u001B[0m     X_test_reduced \u001B[38;5;241m=\u001B[39m reduce_dimensions(outlier_test[training_config\u001B[38;5;241m.\u001B[39mtraining[model_type]\u001B[38;5;241m.\u001B[39mfeatures], method\u001B[38;5;241m=\u001B[39m\u001B[38;5;124m\"\u001B[39m\u001B[38;5;124mpca\u001B[39m\u001B[38;5;124m\"\u001B[39m)\n\u001B[0;32m      8\u001B[0m     results_plot_path \u001B[38;5;241m=\u001B[39m generate_cp_results(\n\u001B[0;32m      9\u001B[0m         X_train\u001B[38;5;241m=\u001B[39mX_train_reduced,\n\u001B[0;32m     10\u001B[0m         y_train\u001B[38;5;241m=\u001B[39my_cp,\n\u001B[1;32m   (...)\u001B[0m\n\u001B[0;32m     15\u001B[0m         output_reports\u001B[38;5;241m=\u001B[39moutput_reports,\n\u001B[0;32m     16\u001B[0m     )\n",
      "File \u001B[1;32m~\\OneDrive - Corporacion Empresarial Altra SL\\00-Proyectos\\myzone\\src\\conformal_prediction\\utils.py:325\u001B[0m, in \u001B[0;36mreduce_dimensions\u001B[1;34m(embeddings, method, n_components, random_state)\u001B[0m\n\u001B[0;32m    312\u001B[0m \u001B[38;5;250m\u001B[39m\u001B[38;5;124;03m\"\"\"\u001B[39;00m\n\u001B[0;32m    313\u001B[0m \u001B[38;5;124;03mReduce the dimensionality of embeddings to 2D for visualization.\u001B[39;00m\n\u001B[0;32m    314\u001B[0m \n\u001B[1;32m   (...)\u001B[0m\n\u001B[0;32m    322\u001B[0m \u001B[38;5;124;03m    pd.DataFrame: Reduced 2D embeddings as a DataFrame with columns ['dim_0', 'dim_1'].\u001B[39;00m\n\u001B[0;32m    323\u001B[0m \u001B[38;5;124;03m\"\"\"\u001B[39;00m\n\u001B[0;32m    324\u001B[0m \u001B[38;5;28;01mif\u001B[39;00m \u001B[38;5;129;01mnot\u001B[39;00m \u001B[38;5;28misinstance\u001B[39m(embeddings, (pd\u001B[38;5;241m.\u001B[39mDataFrame, np\u001B[38;5;241m.\u001B[39mndarray)):\n\u001B[1;32m--> 325\u001B[0m     \u001B[38;5;28;01mraise\u001B[39;00m \u001B[38;5;167;01mValueError\u001B[39;00m(\u001B[38;5;124m\"\u001B[39m\u001B[38;5;124mInput embeddings must be a pandas DataFrame or numpy array.\u001B[39m\u001B[38;5;124m\"\u001B[39m)\n\u001B[0;32m    327\u001B[0m \u001B[38;5;28;01mif\u001B[39;00m \u001B[38;5;28misinstance\u001B[39m(embeddings, pd\u001B[38;5;241m.\u001B[39mDataFrame):\n\u001B[0;32m    328\u001B[0m     embeddings \u001B[38;5;241m=\u001B[39m embeddings\u001B[38;5;241m.\u001B[39mvalues  \u001B[38;5;66;03m# Convert to numpy array if DataFrame\u001B[39;00m\n",
      "\u001B[1;31mValueError\u001B[0m: Input embeddings must be a pandas DataFrame or numpy array."
     ]
    }
   ],
   "execution_count": 86
  }
 ],
 "metadata": {
  "kernelspec": {
   "display_name": "Python 3",
   "language": "python",
   "name": "python3"
  },
  "language_info": {
   "codemirror_mode": {
    "name": "ipython",
    "version": 2
   },
   "file_extension": ".py",
   "mimetype": "text/x-python",
   "name": "python",
   "nbconvert_exporter": "python",
   "pygments_lexer": "ipython2",
   "version": "2.7.6"
  }
 },
 "nbformat": 4,
 "nbformat_minor": 5
}
