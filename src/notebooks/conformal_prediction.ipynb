{
 "cells": [
  {
   "cell_type": "code",
   "id": "initial_id",
   "metadata": {
    "collapsed": true,
    "ExecuteTime": {
     "end_time": "2025-01-17T06:36:23.645767Z",
     "start_time": "2025-01-17T06:36:11.115525Z"
    }
   },
   "source": [
    "import argparse\n",
    "import os\n",
    "\n",
    "import numpy as np\n",
    "import pandas as pd\n",
    "import matplotlib\n",
    "\n",
    "import matplotlib.pyplot as plt\n",
    "\n",
    "from mapie.classification import MapieClassifier\n",
    "from sklearn.model_selection import train_test_split\n",
    "from sklearn.preprocessing import LabelEncoder\n",
    "from sklearn.metrics import classification_report\n",
    "\n",
    "from src.conformal_prediction.utils import chunked_mapie_predict\n",
    "\n",
    "# For loading your trained TransformerClassifier\n",
    "from src.training.model import TransformerClassifier\n",
    "from src.utils import load_config, get_logger"
   ],
   "outputs": [],
   "execution_count": 1
  },
  {
   "cell_type": "code",
   "source": [
    "# Load config\n",
    "env = \"prod\"\n",
    "model_type = \"BERT\"\n",
    "\n",
    "training_config = load_config(\n",
    "    file_name=\"training_config\", env=env, folder=\"../../config\"\n",
    ")"
   ],
   "metadata": {
    "collapsed": false,
    "ExecuteTime": {
     "end_time": "2025-01-17T06:36:23.663499Z",
     "start_time": "2025-01-17T06:36:23.645767Z"
    }
   },
   "id": "30cd88fa6cd2575",
   "outputs": [],
   "execution_count": 2
  },
  {
   "cell_type": "code",
   "source": [
    "input_dataset = f\"../../output_data/{env}/supervised_dataset.parquet\"\n",
    "input_model = f\"../../output_models/{env}/trained_model\"\n",
    "# input_model = f\"../../output_models/{env}/temp_model_16-01\"\n",
    "input_outliers = f\"../../output_data/{env}/supervised_dataset_phase2.parquet\"\n",
    "output_reports = f\"../../output_reports/{env}/outlier_detection\"\n",
    "alpha = 0.2"
   ],
   "metadata": {
    "collapsed": false,
    "ExecuteTime": {
     "end_time": "2025-01-17T07:19:44.639182Z",
     "start_time": "2025-01-17T07:19:44.634846Z"
    }
   },
   "id": "3cbd1d0cd97010a8",
   "outputs": [],
   "execution_count": 67
  },
  {
   "cell_type": "code",
   "source": [
    "df = pd.read_parquet(input_dataset)"
   ],
   "metadata": {
    "collapsed": false,
    "ExecuteTime": {
     "end_time": "2025-01-17T07:19:45.459925Z",
     "start_time": "2025-01-17T07:19:45.438570Z"
    }
   },
   "id": "35cc1e604dd10624",
   "outputs": [],
   "execution_count": 68
  },
  {
   "cell_type": "code",
   "source": [
    "# Select features and target\n",
    "X = df[training_config.training[model_type].features]\n",
    "y = df[training_config.training[model_type].target]\n",
    "num_labels = y.nunique()"
   ],
   "metadata": {
    "collapsed": false,
    "ExecuteTime": {
     "end_time": "2025-01-17T07:19:45.780168Z",
     "start_time": "2025-01-17T07:19:45.761163Z"
    }
   },
   "id": "acaca358e1cf72bf",
   "outputs": [],
   "execution_count": 69
  },
  {
   "cell_type": "code",
   "source": [
    "X_train, X_test, y_train, y_test = train_test_split(\n",
    "    X,\n",
    "    y,\n",
    "    test_size=training_config.training[model_type].test_size,\n",
    "    random_state=training_config.training.random_state,\n",
    "    stratify=y,\n",
    ")\n",
    "X_train, X_val, y_train, y_val = train_test_split(\n",
    "    X_train,\n",
    "    y_train,\n",
    "    test_size=training_config.training[model_type].val_size,\n",
    "    random_state=training_config.training.random_state,\n",
    "    stratify=y_train,\n",
    ")\n",
    "X_test, X_cp, y_test, y_cp = train_test_split(\n",
    "    X_test,\n",
    "    y_test,\n",
    "    test_size=training_config.training[model_type].cp_size,\n",
    "    random_state=training_config.training.random_state,\n",
    "    stratify=y_test,\n",
    ")"
   ],
   "metadata": {
    "collapsed": false,
    "ExecuteTime": {
     "end_time": "2025-01-17T07:19:46.100409Z",
     "start_time": "2025-01-17T07:19:46.085877Z"
    }
   },
   "id": "1bba7a3dd0ec4c7b",
   "outputs": [],
   "execution_count": 70
  },
  {
   "cell_type": "code",
   "source": [
    "outliers = pd.read_parquet(input_outliers)\n",
    "X_outliers = outliers[training_config.training[model_type].features]\n",
    "y_outliers = outliers[training_config.training[model_type].target]\n",
    "X_test = pd.concat([X_test, X_outliers], ignore_index=True)\n",
    "y_test = pd.concat([y_test, y_outliers], ignore_index=True)"
   ],
   "metadata": {
    "collapsed": false,
    "ExecuteTime": {
     "end_time": "2025-01-17T06:44:54.037021Z",
     "start_time": "2025-01-17T06:44:54.023680Z"
    }
   },
   "id": "2a1e752e51948b95",
   "outputs": [],
   "execution_count": 13
  },
  {
   "cell_type": "code",
   "source": [
    "\"\"\"# Sample X_test and y_test\n",
    "X_test = X_test.sample(\n",
    "    frac=0.1, random_state=training_config.training.random_state\n",
    ").reset_index(drop=True)\n",
    "y_test = y_test.sample(\n",
    "    frac=0.1, random_state=training_config.training.random_state\n",
    ").reset_index(drop=True)\"\"\""
   ],
   "metadata": {
    "collapsed": false,
    "ExecuteTime": {
     "end_time": "2025-01-17T06:44:25.881323Z",
     "start_time": "2025-01-17T06:44:25.874524Z"
    }
   },
   "id": "f262cee2015a26",
   "outputs": [],
   "execution_count": 8
  },
  {
   "metadata": {
    "ExecuteTime": {
     "end_time": "2025-01-17T06:44:55.794706Z",
     "start_time": "2025-01-17T06:44:55.777565Z"
    }
   },
   "cell_type": "code",
   "source": "X_test.shape",
   "id": "7ff389fed3f1a7f4",
   "outputs": [
    {
     "data": {
      "text/plain": [
       "(563,)"
      ]
     },
     "execution_count": 14,
     "metadata": {},
     "output_type": "execute_result"
    }
   ],
   "execution_count": 14
  },
  {
   "cell_type": "code",
   "source": [
    "clf = TransformerClassifier(local_model_path=input_model, num_labels=num_labels)"
   ],
   "metadata": {
    "collapsed": false,
    "ExecuteTime": {
     "end_time": "2025-01-17T07:19:51.164144Z",
     "start_time": "2025-01-17T07:19:50.145113Z"
    }
   },
   "id": "249cdd6dc9160f62",
   "outputs": [],
   "execution_count": 71
  },
  {
   "cell_type": "code",
   "source": [
    "# Prepare the model for conformal prediction\n",
    "mapie_clf = MapieClassifier(\n",
    "    estimator=clf,\n",
    "    method=\"score\",\n",
    "    cv=\"prefit\",\n",
    "    random_state=training_config.training.random_state,\n",
    ")"
   ],
   "metadata": {
    "collapsed": false,
    "ExecuteTime": {
     "end_time": "2025-01-17T06:45:07.192636Z",
     "start_time": "2025-01-17T06:45:07.181814Z"
    }
   },
   "id": "5e909c370fc161ff",
   "outputs": [],
   "execution_count": 16
  },
  {
   "cell_type": "code",
   "source": [
    "# Fit on the calibration set\n",
    "_ = mapie_clf.fit(X_cp, y_cp)"
   ],
   "metadata": {
    "collapsed": false,
    "ExecuteTime": {
     "end_time": "2025-01-17T06:45:47.452219Z",
     "start_time": "2025-01-17T06:45:17.904699Z"
    }
   },
   "id": "a1fdf911bed9e2b9",
   "outputs": [
    {
     "data": {
      "text/plain": [
       "<IPython.core.display.HTML object>"
      ],
      "text/html": []
     },
     "metadata": {},
     "output_type": "display_data"
    }
   ],
   "execution_count": 17
  },
  {
   "cell_type": "code",
   "source": [
    "alpha = [0.2, 0.15, 0.1]\n",
    "point_preds, conf_sets = chunked_mapie_predict(mapie_clf, X_test, alpha=alpha)"
   ],
   "metadata": {
    "collapsed": false,
    "ExecuteTime": {
     "end_time": "2025-01-17T06:48:45.037227Z",
     "start_time": "2025-01-17T06:45:47.452219Z"
    }
   },
   "id": "38be8e954bf1057a",
   "outputs": [
    {
     "data": {
      "text/plain": [
       "<IPython.core.display.HTML object>"
      ],
      "text/html": []
     },
     "metadata": {},
     "output_type": "display_data"
    },
    {
     "data": {
      "text/plain": [
       "<IPython.core.display.HTML object>"
      ],
      "text/html": []
     },
     "metadata": {},
     "output_type": "display_data"
    },
    {
     "data": {
      "text/plain": [
       "<IPython.core.display.HTML object>"
      ],
      "text/html": []
     },
     "metadata": {},
     "output_type": "display_data"
    },
    {
     "data": {
      "text/plain": [
       "<IPython.core.display.HTML object>"
      ],
      "text/html": []
     },
     "metadata": {},
     "output_type": "display_data"
    },
    {
     "data": {
      "text/plain": [
       "<IPython.core.display.HTML object>"
      ],
      "text/html": []
     },
     "metadata": {},
     "output_type": "display_data"
    },
    {
     "data": {
      "text/plain": [
       "<IPython.core.display.HTML object>"
      ],
      "text/html": []
     },
     "metadata": {},
     "output_type": "display_data"
    },
    {
     "data": {
      "text/plain": [
       "<IPython.core.display.HTML object>"
      ],
      "text/html": []
     },
     "metadata": {},
     "output_type": "display_data"
    },
    {
     "data": {
      "text/plain": [
       "<IPython.core.display.HTML object>"
      ],
      "text/html": []
     },
     "metadata": {},
     "output_type": "display_data"
    },
    {
     "data": {
      "text/plain": [
       "<IPython.core.display.HTML object>"
      ],
      "text/html": []
     },
     "metadata": {},
     "output_type": "display_data"
    },
    {
     "data": {
      "text/plain": [
       "<IPython.core.display.HTML object>"
      ],
      "text/html": []
     },
     "metadata": {},
     "output_type": "display_data"
    },
    {
     "data": {
      "text/plain": [
       "<IPython.core.display.HTML object>"
      ],
      "text/html": []
     },
     "metadata": {},
     "output_type": "display_data"
    },
    {
     "data": {
      "text/plain": [
       "<IPython.core.display.HTML object>"
      ],
      "text/html": []
     },
     "metadata": {},
     "output_type": "display_data"
    },
    {
     "data": {
      "text/plain": [
       "<IPython.core.display.HTML object>"
      ],
      "text/html": []
     },
     "metadata": {},
     "output_type": "display_data"
    },
    {
     "data": {
      "text/plain": [
       "<IPython.core.display.HTML object>"
      ],
      "text/html": []
     },
     "metadata": {},
     "output_type": "display_data"
    },
    {
     "data": {
      "text/plain": [
       "<IPython.core.display.HTML object>"
      ],
      "text/html": []
     },
     "metadata": {},
     "output_type": "display_data"
    },
    {
     "data": {
      "text/plain": [
       "<IPython.core.display.HTML object>"
      ],
      "text/html": []
     },
     "metadata": {},
     "output_type": "display_data"
    },
    {
     "data": {
      "text/plain": [
       "<IPython.core.display.HTML object>"
      ],
      "text/html": []
     },
     "metadata": {},
     "output_type": "display_data"
    },
    {
     "data": {
      "text/plain": [
       "<IPython.core.display.HTML object>"
      ],
      "text/html": []
     },
     "metadata": {},
     "output_type": "display_data"
    }
   ],
   "execution_count": 18
  },
  {
   "metadata": {
    "ExecuteTime": {
     "end_time": "2025-01-17T06:53:25.626521Z",
     "start_time": "2025-01-17T06:53:25.621547Z"
    }
   },
   "cell_type": "code",
   "source": [
    "def plot_scores(n, alphas, scores, quantiles):\n",
    "    colors = {0: \"#1f77b4\", 1: \"#ff7f0e\", 2: \"#2ca02c\"}\n",
    "    plt.figure(figsize=(7, 5))\n",
    "    plt.hist(scores, bins=\"auto\")\n",
    "    for i, quantile in enumerate(quantiles):\n",
    "        plt.vlines(\n",
    "            x=quantile,\n",
    "            ymin=0,\n",
    "            ymax=100,\n",
    "            color=colors[i],\n",
    "            ls=\"dashed\",\n",
    "            label=f\"alpha = {alphas[i]}\",\n",
    "        )\n",
    "    plt.title(\"Distribution of scores\")\n",
    "    plt.legend()\n",
    "    plt.xlabel(\"Scores\")\n",
    "    plt.ylabel(\"Count\")\n",
    "    plt.show()"
   ],
   "id": "a901be9fdc75251d",
   "outputs": [],
   "execution_count": 19
  },
  {
   "metadata": {
    "ExecuteTime": {
     "end_time": "2025-01-17T06:53:26.809044Z",
     "start_time": "2025-01-17T06:53:25.994494Z"
    }
   },
   "cell_type": "code",
   "source": [
    "scores = mapie_clf.conformity_scores_\n",
    "n = len(mapie_clf.conformity_scores_)\n",
    "quantiles = mapie_clf.quantiles_\n",
    "\n",
    "plot_scores(n, alpha, scores, quantiles)"
   ],
   "id": "ed78474770103a0e",
   "outputs": [
    {
     "data": {
      "text/plain": [
       "<Figure size 700x500 with 1 Axes>"
      ],
      "image/png": "[encoded data removed]"
     },
     "metadata": {},
     "output_type": "display_data"
    }
   ],
   "execution_count": 20
  },
  {
   "metadata": {},
   "cell_type": "markdown",
   "source": "# Calibration Curve - Reliability Diagram",
   "id": "18b277f7cb217d65"
  },
  {
   "metadata": {
    "ExecuteTime": {
     "end_time": "2025-01-17T07:20:23.730115Z",
     "start_time": "2025-01-17T07:19:56.117504Z"
    }
   },
   "cell_type": "code",
   "source": [
    "from sklearn.calibration import calibration_curve\n",
    "\n",
    "# Get calibration curve\n",
    "y_prob = clf.predict_proba(X_test)"
   ],
   "id": "f7930d1338d3c645",
   "outputs": [
    {
     "data": {
      "text/plain": [
       "<IPython.core.display.HTML object>"
      ],
      "text/html": []
     },
     "metadata": {},
     "output_type": "display_data"
    }
   ],
   "execution_count": 72
  },
  {
   "metadata": {
    "ExecuteTime": {
     "end_time": "2025-01-17T07:45:36.158883Z",
     "start_time": "2025-01-17T07:45:36.013939Z"
    }
   },
   "cell_type": "code",
   "source": [
    "prob_true, prob_pred = calibration_curve(y_test, y_prob[:,1], n_bins=3)\n",
    "\n",
    "# Plot calibration curve\n",
    "plt.figure(figsize=(7, 5))\n",
    "plt.plot(prob_pred, prob_true, marker=\"o\", label=\"TransformerClassifier\")\n",
    "plt.plot([0, 1], [0, 1], linestyle=\"--\", color=\"black\", label=\"Perfectly calibrated\")\n",
    "plt.title(\"Reliability Diagram\")\n",
    "plt.xlabel(\"Mean predicted probability\")\n",
    "plt.ylabel(\"Fraction of positives\")\n",
    "plt.legend()\n",
    "plt.show()"
   ],
   "id": "47f5eef7b6ec8880",
   "outputs": [
    {
     "data": {
      "text/plain": [
       "<Figure size 700x500 with 1 Axes>"
      ],
      "image/png": "[encoded data removed]"
     },
     "metadata": {},
     "output_type": "display_data"
    }
   ],
   "execution_count": 75
  },
  {
   "metadata": {},
   "cell_type": "markdown",
   "source": "# Analyze Outliers",
   "id": "62c7405e1578dbae"
  },
  {
   "metadata": {
    "ExecuteTime": {
     "end_time": "2025-01-09T12:00:43.631200Z",
     "start_time": "2025-01-09T12:00:43.324541Z"
    }
   },
   "cell_type": "code",
   "source": [
    "from sklearn.metrics import (\n",
    "    confusion_matrix,\n",
    "    f1_score,\n",
    "    recall_score,\n",
    "    precision_score,\n",
    "    accuracy_score,\n",
    ")\n",
    "\n",
    "alpha = [0.2]\n",
    "\n",
    "for alpha_idx in range(len(alpha)):\n",
    "\n",
    "    print(\"Running outlier detection for alpha =\", alpha[alpha_idx])\n",
    "\n",
    "    outlier_test = pd.concat([X_test, y_test], axis=1)\n",
    "    outlier_test[\"true_outlier\"] = y_test.apply(lambda x: 0 if x in [0, 1] else 1)\n",
    "\n",
    "    outlier_test[\"outlier\"] = False\n",
    "    if conf_sets is not None and conf_sets.ndim == 3:\n",
    "        for i in range(len(outlier_test)):\n",
    "            label_boolean = conf_sets[i, :, alpha_idx]  # shape: (n_classes,)\n",
    "            set_size = np.sum(label_boolean)\n",
    "            if set_size != 1:\n",
    "                outlier_test.loc[outlier_test.index[i], \"outlier\"] = True\n",
    "    else:\n",
    "        print(\"No valid conformal sets returned. No outliers flagged.\")\n",
    "\n",
    "    # Save outliers to a parquet file\n",
    "    outliers_df = outlier_test[outlier_test[\"outlier\"]]\n",
    "    os.makedirs(output_reports, exist_ok=True)\n",
    "    outliers_file = os.path.join(output_reports, \"detected_outliers.parquet\")\n",
    "    outliers_df.to_parquet(outliers_file, index=False)\n",
    "\n",
    "    if conf_sets is not None:\n",
    "        set_sizes = []\n",
    "        for i in range(outlier_test.shape[0]):\n",
    "            if outlier_test[\"outlier\"].iloc[i] is not None:\n",
    "                # measure how big the set is\n",
    "                label_boolean = conf_sets[i, :, alpha_idx]\n",
    "                set_size = np.sum(label_boolean)\n",
    "                set_sizes.append(set_size)\n",
    "\n",
    "        plt.figure(figsize=(8, 6))\n",
    "        plt.hist(\n",
    "            set_sizes,\n",
    "            bins=range(1, max(set_sizes) + 2),\n",
    "            color=\"skyblue\",\n",
    "            edgecolor=\"black\",\n",
    "        )\n",
    "        plt.title(\"Distribution of Conformal Set Sizes (alpha=0.15)\")\n",
    "        plt.xlabel(\"Set size\")\n",
    "        plt.ylabel(\"Frequency\")\n",
    "        plt.xticks(range(1, max(set_sizes) + 2))\n",
    "        dist_plot_path = os.path.join(\n",
    "            output_reports, \"conformal_set_size_distribution.png\"\n",
    "        )\n",
    "        plt.savefig(dist_plot_path)\n",
    "        plt.close()\n",
    "        # plt.show()\n",
    "\n",
    "    if outliers_df.shape[0] > 0:\n",
    "        outliers_by_class = (\n",
    "            outliers_df.groupby(training_config.training[model_type].target)\n",
    "            .size()\n",
    "            .sort_values(ascending=False)\n",
    "        )\n",
    "        plt.figure(figsize=(10, 6))\n",
    "        outliers_by_class.plot(kind=\"bar\", color=\"tomato\")\n",
    "        plt.title(\"Number of Outliers by True Label\")\n",
    "        plt.xlabel(\"Label\")\n",
    "        plt.ylabel(\"Count of Outliers\")\n",
    "        outliers_bar_path = os.path.join(output_reports, \"outliers_by_class.png\")\n",
    "        plt.savefig(outliers_bar_path)\n",
    "        plt.close()\n",
    "        # plt.show()\n",
    "\n",
    "    if \"true_outlier\" in outlier_test.columns:\n",
    "        # Convert booleans => int\n",
    "        y_true = outlier_test[\"true_outlier\"].astype(int).values\n",
    "        y_pred = outlier_test[\"outlier\"].astype(int).values\n",
    "\n",
    "        # Compute metrics\n",
    "        acc = accuracy_score(y_true, y_pred)\n",
    "        prec = precision_score(y_true, y_pred, zero_division=0)\n",
    "        rec = recall_score(y_true, y_pred, zero_division=0)\n",
    "        f1 = f1_score(y_true, y_pred, zero_division=0)\n",
    "        cls_report = classification_report(y_true, y_pred, zero_division=0)\n",
    "\n",
    "        # Log to a text file\n",
    "        eval_report_file = os.path.join(output_reports, \"outlier_evaluation_report.txt\")\n",
    "        with open(eval_report_file, \"w\", encoding=\"utf-8\") as f:\n",
    "            f.write(\"Outlier Detection: Binary Classification Evaluation\\n\")\n",
    "            f.write(\"--------------------------------------------------\\n\\n\")\n",
    "            f.write(f\"Accuracy:  {acc:.4f}\\n\")\n",
    "            f.write(f\"Precision: {prec:.4f}\\n\")\n",
    "            f.write(f\"Recall:    {rec:.4f}\\n\")\n",
    "            f.write(f\"F1-Score:  {f1:.4f}\\n\\n\")\n",
    "            f.write(\"Full Classification Report:\\n\")\n",
    "            f.write(f\"{cls_report}\\n\")\n",
    "        print(\"Outlier Detection: Binary Classification Evaluation\\n\")\n",
    "        print(\"--------------------------------------------------\\n\\n\")\n",
    "        print(f\"Accuracy:  {acc:.4f}\\n\")\n",
    "        print(f\"Precision: {prec:.4f}\\n\")\n",
    "        print(f\"Recall:    {rec:.4f}\\n\")\n",
    "        print(f\"F1-Score:  {f1:.4f}\\n\\n\")\n",
    "        print(\"Full Classification Report:\\n\")\n",
    "        print(f\"{cls_report}\\n\")\n",
    "\n",
    "        print(f\"Outlier evaluation report saved to {eval_report_file}\")\n",
    "\n",
    "        # Confusion Matrix\n",
    "        cm = confusion_matrix(y_true, y_pred)\n",
    "        plt.figure(figsize=(5, 4))\n",
    "        plt.imshow(cm, cmap=plt.cm.Blues)\n",
    "        plt.title(\"Outlier Detection Confusion Matrix\")\n",
    "        plt.colorbar()\n",
    "        ticks = np.arange(2)\n",
    "        plt.xticks(ticks, [\"Normal (0)\", \"Outlier (1)\"], rotation=45, ha=\"right\")\n",
    "        plt.yticks(ticks, [\"Normal (0)\", \"Outlier (1)\"])\n",
    "        # Print counts inside squares\n",
    "        thresh = cm.max() / 2.0\n",
    "        for i in range(cm.shape[0]):\n",
    "            for j in range(cm.shape[1]):\n",
    "                plt.text(\n",
    "                    j,\n",
    "                    i,\n",
    "                    format(cm[i, j], \"d\"),\n",
    "                    ha=\"center\",\n",
    "                    va=\"center\",\n",
    "                    color=\"white\" if cm[i, j] > thresh else \"black\",\n",
    "                )\n",
    "        plt.tight_layout()\n",
    "        plt.xlabel(\"Predicted label\")\n",
    "        plt.ylabel(\"True label\")\n",
    "\n",
    "        cm_path = os.path.join(output_reports, \"outlier_detection_confusion_matrix.png\")\n",
    "        plt.savefig(cm_path)\n",
    "        plt.close()\n",
    "        # plt.show()\n",
    "    else:\n",
    "        print(\n",
    "            \"No 'true_outlier' column found in data. Skipping binary classification evaluation.\"\n",
    "        )"
   ],
   "id": "b22ffcfa24717fbb",
   "outputs": [
    {
     "name": "stdout",
     "output_type": "stream",
     "text": [
      "Running outlier detection for alpha = 0.2\n",
      "Outlier Detection: Binary Classification Evaluation\n",
      "\n",
      "--------------------------------------------------\n",
      "\n",
      "\n",
      "Accuracy:  0.3766\n",
      "\n",
      "Precision: 0.7111\n",
      "\n",
      "Recall:    0.1645\n",
      "\n",
      "F1-Score:  0.2672\n",
      "\n",
      "\n",
      "Full Classification Report:\n",
      "\n",
      "              precision    recall  f1-score   support\n",
      "\n",
      "           0       0.31      0.85      0.46       174\n",
      "           1       0.71      0.16      0.27       389\n",
      "\n",
      "    accuracy                           0.38       563\n",
      "   macro avg       0.51      0.51      0.36       563\n",
      "weighted avg       0.59      0.38      0.33       563\n",
      "\n",
      "\n",
      "Outlier evaluation report saved to ../../output_reports/prod/outlier_detection\\outlier_evaluation_report.txt\n"
     ]
    }
   ],
   "execution_count": 93
  },
  {
   "metadata": {},
   "cell_type": "code",
   "outputs": [],
   "execution_count": null,
   "source": "",
   "id": "9bd2bc79a6d90e4d"
  },
  {
   "metadata": {
    "ExecuteTime": {
     "end_time": "2025-01-09T11:57:20.355029Z",
     "start_time": "2025-01-09T11:57:20.331369Z"
    }
   },
   "cell_type": "code",
   "source": [
    "from src.conformal_prediction.utils import generate_cp_results, reduce_dimensions\n",
    "\n",
    "if conf_sets is not None:\n",
    "    print(\"Saving conformal prediction results.\")\n",
    "    X_train_reduced = reduce_dimensions(X_cp, method=\"pca\")\n",
    "    X_test_reduced = reduce_dimensions(\n",
    "        outlier_test[training_config.training[model_type].features], method=\"pca\"\n",
    "    )\n",
    "\n",
    "    results_plot_path = generate_cp_results(\n",
    "        X_train=X_train_reduced,\n",
    "        y_train=y_cp,\n",
    "        X_test=X_test_reduced,\n",
    "        alphas=alpha,\n",
    "        y_pred_mapie=point_preds,\n",
    "        y_ps_mapie=conf_sets,\n",
    "        output_reports=output_reports,\n",
    "    )\n",
    "    print(f\"Conformal prediction results saved to: {results_plot_path}\")"
   ],
   "id": "80d7e60472969cb3",
   "outputs": [
    {
     "name": "stdout",
     "output_type": "stream",
     "text": [
      "Saving conformal prediction results.\n"
     ]
    },
    {
     "ename": "ValueError",
     "evalue": "Input embeddings must be a pandas DataFrame or numpy array.",
     "output_type": "error",
     "traceback": [
      "\u001B[1;31m---------------------------------------------------------------------------\u001B[0m",
      "\u001B[1;31mValueError\u001B[0m                                Traceback (most recent call last)",
      "Cell \u001B[1;32mIn[86], line 5\u001B[0m\n\u001B[0;32m      3\u001B[0m \u001B[38;5;28;01mif\u001B[39;00m conf_sets \u001B[38;5;129;01mis\u001B[39;00m \u001B[38;5;129;01mnot\u001B[39;00m \u001B[38;5;28;01mNone\u001B[39;00m:\n\u001B[0;32m      4\u001B[0m     \u001B[38;5;28mprint\u001B[39m(\u001B[38;5;124m\"\u001B[39m\u001B[38;5;124mSaving conformal prediction results.\u001B[39m\u001B[38;5;124m\"\u001B[39m)\n\u001B[1;32m----> 5\u001B[0m     X_train_reduced \u001B[38;5;241m=\u001B[39m \u001B[43mreduce_dimensions\u001B[49m\u001B[43m(\u001B[49m\u001B[43mX_cp\u001B[49m\u001B[43m,\u001B[49m\u001B[43m \u001B[49m\u001B[43mmethod\u001B[49m\u001B[38;5;241;43m=\u001B[39;49m\u001B[38;5;124;43m\"\u001B[39;49m\u001B[38;5;124;43mpca\u001B[39;49m\u001B[38;5;124;43m\"\u001B[39;49m\u001B[43m)\u001B[49m\n\u001B[0;32m      6\u001B[0m     X_test_reduced \u001B[38;5;241m=\u001B[39m reduce_dimensions(outlier_test[training_config\u001B[38;5;241m.\u001B[39mtraining[model_type]\u001B[38;5;241m.\u001B[39mfeatures], method\u001B[38;5;241m=\u001B[39m\u001B[38;5;124m\"\u001B[39m\u001B[38;5;124mpca\u001B[39m\u001B[38;5;124m\"\u001B[39m)\n\u001B[0;32m      8\u001B[0m     results_plot_path \u001B[38;5;241m=\u001B[39m generate_cp_results(\n\u001B[0;32m      9\u001B[0m         X_train\u001B[38;5;241m=\u001B[39mX_train_reduced,\n\u001B[0;32m     10\u001B[0m         y_train\u001B[38;5;241m=\u001B[39my_cp,\n\u001B[1;32m   (...)\u001B[0m\n\u001B[0;32m     15\u001B[0m         output_reports\u001B[38;5;241m=\u001B[39moutput_reports,\n\u001B[0;32m     16\u001B[0m     )\n",
      "File \u001B[1;32m~\\OneDrive - Corporacion Empresarial Altra SL\\00-Proyectos\\myzone\\src\\conformal_prediction\\utils.py:325\u001B[0m, in \u001B[0;36mreduce_dimensions\u001B[1;34m(embeddings, method, n_components, random_state)\u001B[0m\n\u001B[0;32m    312\u001B[0m \u001B[38;5;250m\u001B[39m\u001B[38;5;124;03m\"\"\"\u001B[39;00m\n\u001B[0;32m    313\u001B[0m \u001B[38;5;124;03mReduce the dimensionality of embeddings to 2D for visualization.\u001B[39;00m\n\u001B[0;32m    314\u001B[0m \n\u001B[1;32m   (...)\u001B[0m\n\u001B[0;32m    322\u001B[0m \u001B[38;5;124;03m    pd.DataFrame: Reduced 2D embeddings as a DataFrame with columns ['dim_0', 'dim_1'].\u001B[39;00m\n\u001B[0;32m    323\u001B[0m \u001B[38;5;124;03m\"\"\"\u001B[39;00m\n\u001B[0;32m    324\u001B[0m \u001B[38;5;28;01mif\u001B[39;00m \u001B[38;5;129;01mnot\u001B[39;00m \u001B[38;5;28misinstance\u001B[39m(embeddings, (pd\u001B[38;5;241m.\u001B[39mDataFrame, np\u001B[38;5;241m.\u001B[39mndarray)):\n\u001B[1;32m--> 325\u001B[0m     \u001B[38;5;28;01mraise\u001B[39;00m \u001B[38;5;167;01mValueError\u001B[39;00m(\u001B[38;5;124m\"\u001B[39m\u001B[38;5;124mInput embeddings must be a pandas DataFrame or numpy array.\u001B[39m\u001B[38;5;124m\"\u001B[39m)\n\u001B[0;32m    327\u001B[0m \u001B[38;5;28;01mif\u001B[39;00m \u001B[38;5;28misinstance\u001B[39m(embeddings, pd\u001B[38;5;241m.\u001B[39mDataFrame):\n\u001B[0;32m    328\u001B[0m     embeddings \u001B[38;5;241m=\u001B[39m embeddings\u001B[38;5;241m.\u001B[39mvalues  \u001B[38;5;66;03m# Convert to numpy array if DataFrame\u001B[39;00m\n",
      "\u001B[1;31mValueError\u001B[0m: Input embeddings must be a pandas DataFrame or numpy array."
     ]
    }
   ],
   "execution_count": 86
  }
 ],
 "metadata": {
  "kernelspec": {
   "display_name": "Python 3",
   "language": "python",
   "name": "python3"
  },
  "language_info": {
   "codemirror_mode": {
    "name": "ipython",
    "version": 2
   },
   "file_extension": ".py",
   "mimetype": "text/x-python",
   "name": "python",
   "nbconvert_exporter": "python",
   "pygments_lexer": "ipython2",
   "version": "2.7.6"
  }
 },
 "nbformat": 4,
 "nbformat_minor": 5
}
