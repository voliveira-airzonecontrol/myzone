{
 "cells": [
  {
   "cell_type": "code",
   "execution_count": 3,
   "id": "initial_id",
   "metadata": {
    "collapsed": true,
    "ExecuteTime": {
     "end_time": "2025-01-06T18:51:37.579436Z",
     "start_time": "2025-01-06T18:51:37.537265Z"
    }
   },
   "outputs": [],
   "source": [
    "import argparse\n",
    "import os\n",
    "\n",
    "import numpy as np\n",
    "import pandas as pd\n",
    "import matplotlib\n",
    "\n",
    "import matplotlib.pyplot as plt\n",
    "\n",
    "from mapie.classification import MapieClassifier\n",
    "from sklearn.model_selection import train_test_split\n",
    "from sklearn.preprocessing import LabelEncoder\n",
    "from sklearn.metrics import classification_report\n",
    "\n",
    "from src.conformal_prediction.utils import chunked_mapie_predict\n",
    "# For loading your trained TransformerClassifier\n",
    "from src.training.model import TransformerClassifier\n",
    "from src.utils import load_config, get_logger"
   ]
  },
  {
   "cell_type": "code",
   "outputs": [],
   "source": [
    "# Load config\n",
    "env = \"prod\"\n",
    "model_type = \"BERT\"\n",
    "\n",
    "training_config = load_config(\n",
    "    file_name=\"training_config\", env=env, folder=\"../../config\"\n",
    ")"
   ],
   "metadata": {
    "collapsed": false,
    "ExecuteTime": {
     "end_time": "2025-01-06T18:51:39.796853Z",
     "start_time": "2025-01-06T18:51:39.772696Z"
    }
   },
   "id": "30cd88fa6cd2575",
   "execution_count": 4
  },
  {
   "cell_type": "code",
   "outputs": [],
   "source": [
    "input_dataset = f\"../../output_data/{env}/supervised_dataset.parquet\"\n",
    "input_model = f\"../../output_models/{env}/trained_model\"\n",
    "input_outliers = f\"../../output_data/{env}/supervised_dataset_phase2.parquet\"\n",
    "output_reports = f\"../../output_reports/{env}/outlier_detection\"\n",
    "alpha = 0.15"
   ],
   "metadata": {
    "collapsed": false,
    "ExecuteTime": {
     "end_time": "2025-01-06T18:54:15.941700Z",
     "start_time": "2025-01-06T18:54:15.937747Z"
    }
   },
   "id": "3cbd1d0cd97010a8",
   "execution_count": 9
  },
  {
   "cell_type": "code",
   "outputs": [],
   "source": [
    "df = pd.read_parquet(input_dataset)"
   ],
   "metadata": {
    "collapsed": false,
    "ExecuteTime": {
     "end_time": "2025-01-06T18:54:16.425942Z",
     "start_time": "2025-01-06T18:54:16.389115Z"
    }
   },
   "id": "35cc1e604dd10624",
   "execution_count": 10
  },
  {
   "cell_type": "code",
   "outputs": [],
   "source": [
    "# Select features and target\n",
    "X = df[training_config.training[model_type].features]\n",
    "y = df[training_config.training[model_type].target]\n",
    "num_labels = y.nunique()"
   ],
   "metadata": {
    "collapsed": false,
    "ExecuteTime": {
     "end_time": "2025-01-06T18:54:28.243286Z",
     "start_time": "2025-01-06T18:54:28.237180Z"
    }
   },
   "id": "acaca358e1cf72bf",
   "execution_count": 11
  },
  {
   "cell_type": "code",
   "outputs": [],
   "source": [
    "X_train, X_test, y_train, y_test = train_test_split(\n",
    "    X,\n",
    "    y,\n",
    "    test_size=training_config.training[model_type].test_size,\n",
    "    random_state=training_config.training.random_state,\n",
    "    stratify=y,\n",
    ")\n",
    "X_train, X_val, y_train, y_val = train_test_split(\n",
    "    X_train,\n",
    "    y_train,\n",
    "    test_size=training_config.training[model_type].val_size,\n",
    "    random_state=training_config.training.random_state,\n",
    "    stratify=y_train,\n",
    ")\n",
    "X_test, X_cp, y_test, y_cp = train_test_split(\n",
    "    X_test,\n",
    "    y_test,\n",
    "    test_size=training_config.training[model_type].cp_size,\n",
    "    random_state=training_config.training.random_state,\n",
    "    stratify=y_test,\n",
    ")"
   ],
   "metadata": {
    "collapsed": false,
    "ExecuteTime": {
     "end_time": "2025-01-06T19:12:54.069332Z",
     "start_time": "2025-01-06T19:12:54.057724Z"
    }
   },
   "id": "1bba7a3dd0ec4c7b",
   "execution_count": 43
  },
  {
   "cell_type": "code",
   "outputs": [],
   "source": [
    "outliers = pd.read_parquet(input_outliers)\n",
    "X_outliers = outliers[training_config.training[model_type].features]\n",
    "y_outliers = outliers[training_config.training[model_type].target]\n",
    "X_test = pd.concat([X_test, X_outliers], ignore_index=True)\n",
    "y_test = pd.concat([y_test, y_outliers], ignore_index=True)"
   ],
   "metadata": {
    "collapsed": false,
    "ExecuteTime": {
     "end_time": "2025-01-06T19:12:54.724950Z",
     "start_time": "2025-01-06T19:12:54.709269Z"
    }
   },
   "id": "2a1e752e51948b95",
   "execution_count": 44
  },
  {
   "cell_type": "code",
   "outputs": [],
   "source": [
    "# Sample X_test and y_test\n",
    "X_test = X_test.sample(frac=0.05, random_state=training_config.training.random_state).reset_index(drop=True)\n",
    "y_test = y_test.sample(frac=0.05, random_state=training_config.training.random_state).reset_index(drop=True)"
   ],
   "metadata": {
    "collapsed": false,
    "ExecuteTime": {
     "end_time": "2025-01-06T19:12:55.443871Z",
     "start_time": "2025-01-06T19:12:55.433868Z"
    }
   },
   "id": "f262cee2015a26",
   "execution_count": 45
  },
  {
   "cell_type": "code",
   "outputs": [],
   "source": [
    "clf = TransformerClassifier(local_model_path=input_model, num_labels=num_labels)"
   ],
   "metadata": {
    "collapsed": false,
    "ExecuteTime": {
     "end_time": "2025-01-06T18:55:07.032449Z",
     "start_time": "2025-01-06T18:55:06.880075Z"
    }
   },
   "id": "249cdd6dc9160f62",
   "execution_count": 15
  },
  {
   "cell_type": "code",
   "outputs": [],
   "source": [
    "# Prepare the model for conformal prediction\n",
    "mapie_clf = MapieClassifier(\n",
    "    estimator=clf,\n",
    "    method=\"score\",\n",
    "    cv=\"prefit\",\n",
    "    random_state=training_config.training.random_state,\n",
    ")"
   ],
   "metadata": {
    "collapsed": false,
    "ExecuteTime": {
     "end_time": "2025-01-06T19:01:08.991484Z",
     "start_time": "2025-01-06T19:01:08.987435Z"
    }
   },
   "id": "5e909c370fc161ff",
   "execution_count": 20
  },
  {
   "cell_type": "code",
   "outputs": [],
   "source": [
    "# Fit on the calibration set\n",
    "_ = mapie_clf.fit(X_cp, y_cp)"
   ],
   "metadata": {
    "collapsed": false,
    "ExecuteTime": {
     "end_time": "2025-01-06T19:06:34.086657Z",
     "start_time": "2025-01-06T19:05:13.978173Z"
    }
   },
   "id": "a1fdf911bed9e2b9",
   "execution_count": 22
  },
  {
   "cell_type": "code",
   "outputs": [],
   "source": [
    "point_preds, conf_sets = chunked_mapie_predict(mapie_clf, X_test, alpha=alpha)"
   ],
   "metadata": {
    "collapsed": false,
    "ExecuteTime": {
     "end_time": "2025-01-06T19:08:33.930460Z",
     "start_time": "2025-01-06T19:06:40.012137Z"
    }
   },
   "id": "38be8e954bf1057a",
   "execution_count": 23
  },
  {
   "cell_type": "code",
   "outputs": [
    {
     "data": {
      "text/plain": "(76,)"
     },
     "execution_count": 24,
     "metadata": {},
     "output_type": "execute_result"
    }
   ],
   "source": [
    "point_preds.shape"
   ],
   "metadata": {
    "collapsed": false,
    "ExecuteTime": {
     "end_time": "2025-01-06T19:08:35.141964Z",
     "start_time": "2025-01-06T19:08:35.135518Z"
    }
   },
   "id": "f40af37e270b176e",
   "execution_count": 24
  },
  {
   "cell_type": "code",
   "outputs": [
    {
     "data": {
      "text/plain": "(76, 2, 1)"
     },
     "execution_count": 27,
     "metadata": {},
     "output_type": "execute_result"
    }
   ],
   "source": [
    "conf_sets.shape"
   ],
   "metadata": {
    "collapsed": false,
    "ExecuteTime": {
     "end_time": "2025-01-06T19:08:54.584200Z",
     "start_time": "2025-01-06T19:08:54.575375Z"
    }
   },
   "id": "da9f4805b3ef92ba",
   "execution_count": 27
  },
  {
   "cell_type": "code",
   "outputs": [],
   "source": [
    "outlier_test = pd.concat([X_test, y_test], axis=1)"
   ],
   "metadata": {
    "collapsed": false,
    "ExecuteTime": {
     "end_time": "2025-01-06T19:13:00.014897Z",
     "start_time": "2025-01-06T19:13:00.008692Z"
    }
   },
   "id": "10ee8696ba8ec13",
   "execution_count": 46
  },
  {
   "cell_type": "code",
   "outputs": [],
   "source": [
    "outlier_test[\"outlier\"] = False\n",
    "if conf_sets is not None:\n",
    "    for i in range(outlier_test.shape[0]):\n",
    "        label_boolean = conf_sets[i, 0, :]\n",
    "        set_size = np.sum(label_boolean)\n",
    "        if set_size > 1:\n",
    "            outlier_test.loc[outlier_test.index[i], \"outlier\"] = True"
   ],
   "metadata": {
    "collapsed": false,
    "ExecuteTime": {
     "end_time": "2025-01-06T19:13:07.998960Z",
     "start_time": "2025-01-06T19:13:07.993647Z"
    }
   },
   "id": "817373f009a23975",
   "execution_count": 48
  },
  {
   "cell_type": "code",
   "outputs": [
    {
     "data": {
      "text/plain": "                            processed_text_to_analyse  label  outlier\n0   pantalla termostatos instalacion queda difumin...      1    False\n1   1 error azce6thinkrb e1 regularmente 1 termost...      0    False\n2   2 termostatos lite radio blanco responden ce6 ...      0    False\n3   envia reparar garantia azce6bluefacecb f00vziq...      1    False\n4   motor triple funciona motor compuerta corto bl...      0    False\n..                                                ...    ...      ...\n71  porner marcha instalacion flexa 3.0 termostato...      1    False\n72   pantalla azul termostato cara azul pantalla azul      1    False\n73  pantalla duplicada pensar pensar mostrar super...      1    False\n74  azce6bluefaceccb ns fookylz cara azul cableada...      1    False\n75  linea verde vertical pantalla cara azul negro ...      1    False\n\n[76 rows x 3 columns]",
      "text/html": "<div>\n<style scoped>\n    .dataframe tbody tr th:only-of-type {\n        vertical-align: middle;\n    }\n\n    .dataframe tbody tr th {\n        vertical-align: top;\n    }\n\n    .dataframe thead th {\n        text-align: right;\n    }\n</style>\n<table border=\"1\" class=\"dataframe\">\n  <thead>\n    <tr style=\"text-align: right;\">\n      <th></th>\n      <th>processed_text_to_analyse</th>\n      <th>label</th>\n      <th>outlier</th>\n    </tr>\n  </thead>\n  <tbody>\n    <tr>\n      <th>0</th>\n      <td>pantalla termostatos instalacion queda difumin...</td>\n      <td>1</td>\n      <td>False</td>\n    </tr>\n    <tr>\n      <th>1</th>\n      <td>1 error azce6thinkrb e1 regularmente 1 termost...</td>\n      <td>0</td>\n      <td>False</td>\n    </tr>\n    <tr>\n      <th>2</th>\n      <td>2 termostatos lite radio blanco responden ce6 ...</td>\n      <td>0</td>\n      <td>False</td>\n    </tr>\n    <tr>\n      <th>3</th>\n      <td>envia reparar garantia azce6bluefacecb f00vziq...</td>\n      <td>1</td>\n      <td>False</td>\n    </tr>\n    <tr>\n      <th>4</th>\n      <td>motor triple funciona motor compuerta corto bl...</td>\n      <td>0</td>\n      <td>False</td>\n    </tr>\n    <tr>\n      <th>...</th>\n      <td>...</td>\n      <td>...</td>\n      <td>...</td>\n    </tr>\n    <tr>\n      <th>71</th>\n      <td>porner marcha instalacion flexa 3.0 termostato...</td>\n      <td>1</td>\n      <td>False</td>\n    </tr>\n    <tr>\n      <th>72</th>\n      <td>pantalla azul termostato cara azul pantalla azul</td>\n      <td>1</td>\n      <td>False</td>\n    </tr>\n    <tr>\n      <th>73</th>\n      <td>pantalla duplicada pensar pensar mostrar super...</td>\n      <td>1</td>\n      <td>False</td>\n    </tr>\n    <tr>\n      <th>74</th>\n      <td>azce6bluefaceccb ns fookylz cara azul cableada...</td>\n      <td>1</td>\n      <td>False</td>\n    </tr>\n    <tr>\n      <th>75</th>\n      <td>linea verde vertical pantalla cara azul negro ...</td>\n      <td>1</td>\n      <td>False</td>\n    </tr>\n  </tbody>\n</table>\n<p>76 rows × 3 columns</p>\n</div>"
     },
     "execution_count": 50,
     "metadata": {},
     "output_type": "execute_result"
    }
   ],
   "source": [
    "outlier_test"
   ],
   "metadata": {
    "collapsed": false,
    "ExecuteTime": {
     "end_time": "2025-01-06T19:13:13.735036Z",
     "start_time": "2025-01-06T19:13:13.727971Z"
    }
   },
   "id": "4893f08a96b73ed4",
   "execution_count": 50
  },
  {
   "cell_type": "code",
   "outputs": [],
   "source": [
    "# Save outliers to a parquet file\n",
    "outliers_df = outlier_test[outlier_test[\"outlier\"]]\n",
    "os.makedirs(output_reports, exist_ok=True)\n",
    "outliers_file = os.path.join(output_reports, \"detected_outliers.parquet\")\n",
    "outliers_df.to_parquet(outliers_file, index=False)"
   ],
   "metadata": {
    "collapsed": false,
    "ExecuteTime": {
     "end_time": "2025-01-06T19:20:00.384617Z",
     "start_time": "2025-01-06T19:20:00.374313Z"
    }
   },
   "id": "1102cc3177556355",
   "execution_count": 52
  },
  {
   "cell_type": "code",
   "outputs": [],
   "source": [
    "if conf_sets is not None:\n",
    "    set_sizes = []\n",
    "    for i in range(outlier_test.shape[0]):\n",
    "        if outlier_test[\"outlier\"].iloc[i] is not None:\n",
    "            # measure how big the set is\n",
    "            label_boolean = conf_sets[i, :, 0]\n",
    "            set_size = np.sum(label_boolean)\n",
    "            set_sizes.append(set_size)\n",
    "\n",
    "    plt.figure(figsize=(8, 6))\n",
    "    plt.hist(\n",
    "        set_sizes,\n",
    "        bins=range(1, max(set_sizes) + 2),\n",
    "        color=\"skyblue\",\n",
    "        edgecolor=\"black\",\n",
    "    )\n",
    "    plt.title(\"Distribution of Conformal Set Sizes (alpha=0.15)\")\n",
    "    plt.xlabel(\"Set size\")\n",
    "    plt.ylabel(\"Frequency\")\n",
    "    plt.xticks(range(1, max(set_sizes) + 2))\n",
    "    dist_plot_path = os.path.join(\n",
    "        output_reports, \"conformal_set_size_distribution.png\"\n",
    "    )\n",
    "    plt.savefig(dist_plot_path)\n",
    "    plt.close()"
   ],
   "metadata": {
    "collapsed": false,
    "ExecuteTime": {
     "end_time": "2025-01-06T19:20:29.057892Z",
     "start_time": "2025-01-06T19:20:28.930157Z"
    }
   },
   "id": "d854087ca2fdf956",
   "execution_count": 53
  },
  {
   "cell_type": "code",
   "outputs": [
    {
     "data": {
      "text/plain": "(0, 3)"
     },
     "execution_count": 56,
     "metadata": {},
     "output_type": "execute_result"
    }
   ],
   "source": [
    "outliers_df.shape"
   ],
   "metadata": {
    "collapsed": false,
    "ExecuteTime": {
     "end_time": "2025-01-06T19:21:40.735801Z",
     "start_time": "2025-01-06T19:21:40.729933Z"
    }
   },
   "id": "ec366b686dcc49bf",
   "execution_count": 56
  },
  {
   "cell_type": "code",
   "outputs": [],
   "source": [
    "if outliers_df.shape[0] > 0:\n",
    "    outliers_by_class = (\n",
    "        outliers_df.groupby(training_config.training[model_type].target)\n",
    "        .size()\n",
    "        .sort_values(ascending=False)\n",
    "    )\n",
    "    plt.figure(figsize=(10, 6))\n",
    "    outliers_by_class.plot(kind=\"bar\", color=\"tomato\")\n",
    "    plt.title(\"Number of Outliers by True Label\")\n",
    "    plt.xlabel(\"Label\")\n",
    "    plt.ylabel(\"Count of Outliers\")\n",
    "    outliers_bar_path = os.path.join(output_reports, \"outliers_by_class.png\")\n",
    "    plt.savefig(outliers_bar_path)\n",
    "    plt.close()"
   ],
   "metadata": {
    "collapsed": false,
    "ExecuteTime": {
     "end_time": "2025-01-06T19:22:45.262758Z",
     "start_time": "2025-01-06T19:22:45.256102Z"
    }
   },
   "id": "c5e0e7de9a4f21da",
   "execution_count": 57
  }
 ],
 "metadata": {
  "kernelspec": {
   "display_name": "Python 3",
   "language": "python",
   "name": "python3"
  },
  "language_info": {
   "codemirror_mode": {
    "name": "ipython",
    "version": 2
   },
   "file_extension": ".py",
   "mimetype": "text/x-python",
   "name": "python",
   "nbconvert_exporter": "python",
   "pygments_lexer": "ipython2",
   "version": "2.7.6"
  }
 },
 "nbformat": 4,
 "nbformat_minor": 5
}
