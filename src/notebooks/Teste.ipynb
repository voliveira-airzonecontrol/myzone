{
 "cells": [
  {
   "cell_type": "code",
   "id": "initial_id",
   "metadata": {
    "collapsed": true,
    "ExecuteTime": {
     "end_time": "2024-11-26T07:21:03.889935Z",
     "start_time": "2024-11-26T07:21:01.242416Z"
    }
   },
   "source": [
    "import pandas as pd\n",
    "import csv\n",
    "from src.utils import load_data, load_config"
   ],
   "outputs": [],
   "execution_count": 1
  },
  {
   "metadata": {
    "ExecuteTime": {
     "end_time": "2024-11-21T16:22:32.610228Z",
     "start_time": "2024-11-21T16:22:32.578976Z"
    }
   },
   "cell_type": "code",
   "source": [
    "config = load_config(file_name=\"processing_config\", env=\"prod\", folder=\"../../config\")"
   ],
   "id": "33790995b9e6e638",
   "outputs": [],
   "execution_count": 2
  },
  {
   "metadata": {
    "ExecuteTime": {
     "end_time": "2024-11-21T16:27:30.129717Z",
     "start_time": "2024-11-21T16:27:27.277587Z"
    }
   },
   "cell_type": "code",
   "source": [
    "tfidf_df = pd.read_csv(\n",
    "    \"../../output_data/prod/unsupervised_sentence_transformer_dataset.csv\"\n",
    ")"
   ],
   "id": "dd0d2b4d871e9981",
   "outputs": [],
   "execution_count": 24
  },
  {
   "metadata": {
    "ExecuteTime": {
     "end_time": "2024-11-21T16:27:30.161481Z",
     "start_time": "2024-11-21T16:27:30.131224Z"
    }
   },
   "cell_type": "code",
   "source": "tfidf_df.sample()",
   "id": "2ab78847a6552347",
   "outputs": [
    {
     "data": {
      "text/plain": [
       "          codigo  id_pieza   cod_articulo  \\\n",
       "2140  MGXPLGLRB7     35812  AZX6QADAPTMHI   \n",
       "\n",
       "                               desc_problema_translated  \\\n",
       "2140  SEGUN SERVICIO TECNICO, LA PASARELA DA ERROR. ...   \n",
       "\n",
       "          descripcion_translated            problema_translated  \\\n",
       "2140  PASARELA MITSUBISHI PESADO  PASARELA NO FUNCIONA DA ERROR   \n",
       "\n",
       "          CODART_A3  Fuzzy_Score         CODART  \\\n",
       "2140  AZX6QADAPTMHI        100.0  AZX6QADAPTMHI   \n",
       "\n",
       "                                               DESCART  ...  \\\n",
       "2140  Pasarela comunicaciones Airzone-Mitsubishi Heavy  ...   \n",
       "\n",
       "      cosine_similarity_4.41  cosine_similarity_4.42  cosine_similarity_4.43  \\\n",
       "2140                     0.0                     0.0                     0.0   \n",
       "\n",
       "      cosine_similarity_4.49 cosine_similarity_4.61 cosine_similarity_4.62  \\\n",
       "2140                     0.0                    0.0                    0.0   \n",
       "\n",
       "     cosine_similarity_4.63  cosine_similarity_4.69  highest_score  \\\n",
       "2140                    0.0                     0.0       0.240239   \n",
       "\n",
       "      highest_score_error  \n",
       "2140                 3.49  \n",
       "\n",
       "[1 rows x 67 columns]"
      ],
      "text/html": [
       "<div>\n",
       "<style scoped>\n",
       "    .dataframe tbody tr th:only-of-type {\n",
       "        vertical-align: middle;\n",
       "    }\n",
       "\n",
       "    .dataframe tbody tr th {\n",
       "        vertical-align: top;\n",
       "    }\n",
       "\n",
       "    .dataframe thead th {\n",
       "        text-align: right;\n",
       "    }\n",
       "</style>\n",
       "<table border=\"1\" class=\"dataframe\">\n",
       "  <thead>\n",
       "    <tr style=\"text-align: right;\">\n",
       "      <th></th>\n",
       "      <th>codigo</th>\n",
       "      <th>id_pieza</th>\n",
       "      <th>cod_articulo</th>\n",
       "      <th>desc_problema_translated</th>\n",
       "      <th>descripcion_translated</th>\n",
       "      <th>problema_translated</th>\n",
       "      <th>CODART_A3</th>\n",
       "      <th>Fuzzy_Score</th>\n",
       "      <th>CODART</th>\n",
       "      <th>DESCART</th>\n",
       "      <th>...</th>\n",
       "      <th>cosine_similarity_4.41</th>\n",
       "      <th>cosine_similarity_4.42</th>\n",
       "      <th>cosine_similarity_4.43</th>\n",
       "      <th>cosine_similarity_4.49</th>\n",
       "      <th>cosine_similarity_4.61</th>\n",
       "      <th>cosine_similarity_4.62</th>\n",
       "      <th>cosine_similarity_4.63</th>\n",
       "      <th>cosine_similarity_4.69</th>\n",
       "      <th>highest_score</th>\n",
       "      <th>highest_score_error</th>\n",
       "    </tr>\n",
       "  </thead>\n",
       "  <tbody>\n",
       "    <tr>\n",
       "      <th>2140</th>\n",
       "      <td>MGXPLGLRB7</td>\n",
       "      <td>35812</td>\n",
       "      <td>AZX6QADAPTMHI</td>\n",
       "      <td>SEGUN SERVICIO TECNICO, LA PASARELA DA ERROR. ...</td>\n",
       "      <td>PASARELA MITSUBISHI PESADO</td>\n",
       "      <td>PASARELA NO FUNCIONA DA ERROR</td>\n",
       "      <td>AZX6QADAPTMHI</td>\n",
       "      <td>100.0</td>\n",
       "      <td>AZX6QADAPTMHI</td>\n",
       "      <td>Pasarela comunicaciones Airzone-Mitsubishi Heavy</td>\n",
       "      <td>...</td>\n",
       "      <td>0.0</td>\n",
       "      <td>0.0</td>\n",
       "      <td>0.0</td>\n",
       "      <td>0.0</td>\n",
       "      <td>0.0</td>\n",
       "      <td>0.0</td>\n",
       "      <td>0.0</td>\n",
       "      <td>0.0</td>\n",
       "      <td>0.240239</td>\n",
       "      <td>3.49</td>\n",
       "    </tr>\n",
       "  </tbody>\n",
       "</table>\n",
       "<p>1 rows × 67 columns</p>\n",
       "</div>"
      ]
     },
     "execution_count": 25,
     "metadata": {},
     "output_type": "execute_result"
    }
   ],
   "execution_count": 25
  },
  {
   "metadata": {
    "ExecuteTime": {
     "end_time": "2024-11-21T16:27:30.208357Z",
     "start_time": "2024-11-21T16:27:30.161481Z"
    }
   },
   "cell_type": "code",
   "source": [
    "top50_per_error = (\n",
    "    tfidf_df[[\"codigo\", \"text_to_analyse\", \"highest_score\", \"highest_score_error\"]]\n",
    "    .groupby(\"highest_score_error\", group_keys=False)\n",
    "    .apply(lambda x: x.nlargest(50, \"highest_score\"))\n",
    "    .reset_index(drop=True)\n",
    ")"
   ],
   "id": "6e335e5097fad909",
   "outputs": [
    {
     "name": "stderr",
     "output_type": "stream",
     "text": [
      "C:\\Users\\voliveira\\AppData\\Local\\Temp\\ipykernel_23204\\3168686276.py:1: DeprecationWarning: DataFrameGroupBy.apply operated on the grouping columns. This behavior is deprecated, and in a future version of pandas the grouping columns will be excluded from the operation. Either pass `include_groups=False` to exclude the groupings or explicitly select the grouping columns after groupby to silence this warning.\n",
      "  top50_per_error = tfidf_df[['codigo','text_to_analyse', 'highest_score', 'highest_score_error']] \\\n"
     ]
    }
   ],
   "execution_count": 26
  },
  {
   "metadata": {
    "ExecuteTime": {
     "end_time": "2024-11-21T16:27:30.223982Z",
     "start_time": "2024-11-21T16:27:30.208357Z"
    }
   },
   "cell_type": "code",
   "source": "top50_per_error",
   "id": "7bb3520686b0adec",
   "outputs": [
    {
     "data": {
      "text/plain": [
       "         codigo                                    text_to_analyse  \\\n",
       "0    MGRWM2XS39  EL TERMOSTATO BLOQUEADO YA NO FUNCIONA TERMOST...   \n",
       "1    BGTGYGSU7C  TERMOSTATO QUE SE BLOQUEA SOLO Y NO FUNCIONA B...   \n",
       "2    L2LOMW5OF7              termostacto funciona  pero se bloquea   \n",
       "3    MGXXMGDUA1      Termostacto  funciona pero se queda bloqueado   \n",
       "4    ZMTIZ2IZ1F  EL TECLADO DEL TERMOSTATO SE HA BLOQUEADO Y NO...   \n",
       "..          ...                                                ...   \n",
       "907  LPIVLJVO79  STech274610\\r\\nBOLETO 91657\\r\\nCAJA DE SEGURID...   \n",
       "908  MMTUM2HPE4  por favor envíame un AZX6POWER 100% de descuen...   \n",
       "909  AM1OAWHQ5C  Sonda de temperatura AZASONDTEMP no funciona. ...   \n",
       "910  Z2DMZ2IT1C  MEDIDOR DE CONSUMO EN MAL ESTADO MEDIDOR DE CO...   \n",
       "911  AW9KZWRRE4  2 MATTS NO FUNCIONAN\\r\\nTECLADO DE ALARMAS NO ...   \n",
       "\n",
       "     highest_score  highest_score_error  \n",
       "0         0.952250                 3.01  \n",
       "1         0.909094                 3.01  \n",
       "2         0.887725                 3.01  \n",
       "3         0.857667                 3.01  \n",
       "4         0.825569                 3.01  \n",
       "..             ...                  ...  \n",
       "907       0.270321                 4.69  \n",
       "908       0.268134                 4.69  \n",
       "909       0.265700                 4.69  \n",
       "910       0.263547                 4.69  \n",
       "911       0.261336                 4.69  \n",
       "\n",
       "[912 rows x 4 columns]"
      ],
      "text/html": [
       "<div>\n",
       "<style scoped>\n",
       "    .dataframe tbody tr th:only-of-type {\n",
       "        vertical-align: middle;\n",
       "    }\n",
       "\n",
       "    .dataframe tbody tr th {\n",
       "        vertical-align: top;\n",
       "    }\n",
       "\n",
       "    .dataframe thead th {\n",
       "        text-align: right;\n",
       "    }\n",
       "</style>\n",
       "<table border=\"1\" class=\"dataframe\">\n",
       "  <thead>\n",
       "    <tr style=\"text-align: right;\">\n",
       "      <th></th>\n",
       "      <th>codigo</th>\n",
       "      <th>text_to_analyse</th>\n",
       "      <th>highest_score</th>\n",
       "      <th>highest_score_error</th>\n",
       "    </tr>\n",
       "  </thead>\n",
       "  <tbody>\n",
       "    <tr>\n",
       "      <th>0</th>\n",
       "      <td>MGRWM2XS39</td>\n",
       "      <td>EL TERMOSTATO BLOQUEADO YA NO FUNCIONA TERMOST...</td>\n",
       "      <td>0.952250</td>\n",
       "      <td>3.01</td>\n",
       "    </tr>\n",
       "    <tr>\n",
       "      <th>1</th>\n",
       "      <td>BGTGYGSU7C</td>\n",
       "      <td>TERMOSTATO QUE SE BLOQUEA SOLO Y NO FUNCIONA B...</td>\n",
       "      <td>0.909094</td>\n",
       "      <td>3.01</td>\n",
       "    </tr>\n",
       "    <tr>\n",
       "      <th>2</th>\n",
       "      <td>L2LOMW5OF7</td>\n",
       "      <td>termostacto funciona  pero se bloquea</td>\n",
       "      <td>0.887725</td>\n",
       "      <td>3.01</td>\n",
       "    </tr>\n",
       "    <tr>\n",
       "      <th>3</th>\n",
       "      <td>MGXXMGDUA1</td>\n",
       "      <td>Termostacto  funciona pero se queda bloqueado</td>\n",
       "      <td>0.857667</td>\n",
       "      <td>3.01</td>\n",
       "    </tr>\n",
       "    <tr>\n",
       "      <th>4</th>\n",
       "      <td>ZMTIZ2IZ1F</td>\n",
       "      <td>EL TECLADO DEL TERMOSTATO SE HA BLOQUEADO Y NO...</td>\n",
       "      <td>0.825569</td>\n",
       "      <td>3.01</td>\n",
       "    </tr>\n",
       "    <tr>\n",
       "      <th>...</th>\n",
       "      <td>...</td>\n",
       "      <td>...</td>\n",
       "      <td>...</td>\n",
       "      <td>...</td>\n",
       "    </tr>\n",
       "    <tr>\n",
       "      <th>907</th>\n",
       "      <td>LPIVLJVO79</td>\n",
       "      <td>STech274610\\r\\nBOLETO 91657\\r\\nCAJA DE SEGURID...</td>\n",
       "      <td>0.270321</td>\n",
       "      <td>4.69</td>\n",
       "    </tr>\n",
       "    <tr>\n",
       "      <th>908</th>\n",
       "      <td>MMTUM2HPE4</td>\n",
       "      <td>por favor envíame un AZX6POWER 100% de descuen...</td>\n",
       "      <td>0.268134</td>\n",
       "      <td>4.69</td>\n",
       "    </tr>\n",
       "    <tr>\n",
       "      <th>909</th>\n",
       "      <td>AM1OAWHQ5C</td>\n",
       "      <td>Sonda de temperatura AZASONDTEMP no funciona. ...</td>\n",
       "      <td>0.265700</td>\n",
       "      <td>4.69</td>\n",
       "    </tr>\n",
       "    <tr>\n",
       "      <th>910</th>\n",
       "      <td>Z2DMZ2IT1C</td>\n",
       "      <td>MEDIDOR DE CONSUMO EN MAL ESTADO MEDIDOR DE CO...</td>\n",
       "      <td>0.263547</td>\n",
       "      <td>4.69</td>\n",
       "    </tr>\n",
       "    <tr>\n",
       "      <th>911</th>\n",
       "      <td>AW9KZWRRE4</td>\n",
       "      <td>2 MATTS NO FUNCIONAN\\r\\nTECLADO DE ALARMAS NO ...</td>\n",
       "      <td>0.261336</td>\n",
       "      <td>4.69</td>\n",
       "    </tr>\n",
       "  </tbody>\n",
       "</table>\n",
       "<p>912 rows × 4 columns</p>\n",
       "</div>"
      ]
     },
     "execution_count": 27,
     "metadata": {},
     "output_type": "execute_result"
    }
   ],
   "execution_count": 27
  },
  {
   "metadata": {},
   "cell_type": "code",
   "outputs": [],
   "execution_count": null,
   "source": [
    "top50_per_error.to_csv(\n",
    "    \"../DATA/processed/2024-05-14/top50_per_error.csv\",\n",
    "    index=False,\n",
    "    encoding=\"utf-8\",\n",
    "    quoting=csv.QUOTE_NONNUMERIC,\n",
    ")"
   ],
   "id": "e9647c18e6fbf967"
  },
  {
   "metadata": {},
   "cell_type": "code",
   "outputs": [],
   "execution_count": null,
   "source": "",
   "id": "b7998d002210672"
  },
  {
   "metadata": {
    "ExecuteTime": {
     "end_time": "2024-11-26T07:46:36.969704Z",
     "start_time": "2024-11-26T07:46:36.948501Z"
    }
   },
   "cell_type": "code",
   "source": [
    "config = load_config(file_name=\"training_config\", env=\"prod\", folder=\"../../config\")"
   ],
   "id": "6333789d52b8c2ab",
   "outputs": [],
   "execution_count": 28
  },
  {
   "metadata": {
    "ExecuteTime": {
     "end_time": "2024-11-26T07:46:37.435524Z",
     "start_time": "2024-11-26T07:46:37.430525Z"
    }
   },
   "cell_type": "code",
   "source": "model_type = \"XGBoost\"",
   "id": "229ecf09639eb954",
   "outputs": [],
   "execution_count": 29
  },
  {
   "metadata": {
    "ExecuteTime": {
     "end_time": "2024-11-26T07:46:37.772349Z",
     "start_time": "2024-11-26T07:46:37.766311Z"
    }
   },
   "cell_type": "code",
   "source": [
    "from sklearn.svm import SVC\n",
    "from sklearn.ensemble import RandomForestClassifier\n",
    "from xgboost import XGBClassifier\n",
    "\n",
    "models = {\n",
    "    \"XGBoost\": XGBClassifier,\n",
    "    \"RandomForest\": RandomForestClassifier,\n",
    "    \"SVC\": SVC,\n",
    "}"
   ],
   "id": "6638105360764c1f",
   "outputs": [],
   "execution_count": 30
  },
  {
   "metadata": {
    "ExecuteTime": {
     "end_time": "2024-11-26T07:46:38.202483Z",
     "start_time": "2024-11-26T07:46:38.185282Z"
    }
   },
   "cell_type": "code",
   "source": [
    "if model_type not in models:\n",
    "    raise ValueError(f\"Model type {model_type} not supported\")"
   ],
   "id": "b209dc107a436395",
   "outputs": [],
   "execution_count": 31
  },
  {
   "metadata": {
    "ExecuteTime": {
     "end_time": "2024-11-26T07:46:38.674303Z",
     "start_time": "2024-11-26T07:46:38.669108Z"
    }
   },
   "cell_type": "code",
   "source": "model_config = config.training[model_type]",
   "id": "df88ed143ab3df7a",
   "outputs": [],
   "execution_count": 32
  },
  {
   "metadata": {
    "ExecuteTime": {
     "end_time": "2024-11-26T07:46:38.944131Z",
     "start_time": "2024-11-26T07:46:38.933601Z"
    }
   },
   "cell_type": "code",
   "source": "model_params = model_config.params_list",
   "id": "49d8db4024e97e03",
   "outputs": [],
   "execution_count": 33
  },
  {
   "metadata": {
    "ExecuteTime": {
     "end_time": "2024-11-26T07:46:39.131694Z",
     "start_time": "2024-11-26T07:46:39.117466Z"
    }
   },
   "cell_type": "code",
   "source": [
    "params = {}\n",
    "for param in model_params:\n",
    "    params[param] = model_config[param]"
   ],
   "id": "d60f811e2ac3a136",
   "outputs": [],
   "execution_count": 34
  },
  {
   "metadata": {
    "ExecuteTime": {
     "end_time": "2024-11-26T07:46:39.287245Z",
     "start_time": "2024-11-26T07:46:39.268162Z"
    }
   },
   "cell_type": "code",
   "source": [
    "from itertools import product\n",
    "\n",
    "param_combinations = list(product(*params.values()))"
   ],
   "id": "face42ef200105fc",
   "outputs": [],
   "execution_count": 35
  },
  {
   "metadata": {
    "ExecuteTime": {
     "end_time": "2024-11-26T07:46:39.443229Z",
     "start_time": "2024-11-26T07:46:39.436222Z"
    }
   },
   "cell_type": "code",
   "source": [
    "current_params = {}\n",
    "for combination in param_combinations:\n",
    "    for param, value in zip(params.keys(), combination):\n",
    "        current_params[param] = value\n",
    "    print(current_params)"
   ],
   "id": "b5cdef38eae54227",
   "outputs": [
    {
     "name": "stdout",
     "output_type": "stream",
     "text": [
      "{'device': 'cuda', 'learning_rate': 0.05, 'max_depth': 50, 'n_estimators': 200, 'subsample': 0.7, 'sampling_method': 'gradient_based', 'colsample_bytree': 0.7, 'scale_pos_weight': 95, 'max_delta_step': 0, 'tree_method': 'hist', 'random_state': 42}\n",
      "{'device': 'cuda', 'learning_rate': 0.05, 'max_depth': 50, 'n_estimators': 200, 'subsample': 0.7, 'sampling_method': 'gradient_based', 'colsample_bytree': 0.7, 'scale_pos_weight': 95, 'max_delta_step': 1, 'tree_method': 'hist', 'random_state': 42}\n",
      "{'device': 'cuda', 'learning_rate': 0.05, 'max_depth': 50, 'n_estimators': 200, 'subsample': 0.7, 'sampling_method': 'gradient_based', 'colsample_bytree': 0.7, 'scale_pos_weight': 98, 'max_delta_step': 0, 'tree_method': 'hist', 'random_state': 42}\n",
      "{'device': 'cuda', 'learning_rate': 0.05, 'max_depth': 50, 'n_estimators': 200, 'subsample': 0.7, 'sampling_method': 'gradient_based', 'colsample_bytree': 0.7, 'scale_pos_weight': 98, 'max_delta_step': 1, 'tree_method': 'hist', 'random_state': 42}\n",
      "{'device': 'cuda', 'learning_rate': 0.05, 'max_depth': 50, 'n_estimators': 200, 'subsample': 0.7, 'sampling_method': 'gradient_based', 'colsample_bytree': 0.8, 'scale_pos_weight': 95, 'max_delta_step': 0, 'tree_method': 'hist', 'random_state': 42}\n",
      "{'device': 'cuda', 'learning_rate': 0.05, 'max_depth': 50, 'n_estimators': 200, 'subsample': 0.7, 'sampling_method': 'gradient_based', 'colsample_bytree': 0.8, 'scale_pos_weight': 95, 'max_delta_step': 1, 'tree_method': 'hist', 'random_state': 42}\n",
      "{'device': 'cuda', 'learning_rate': 0.05, 'max_depth': 50, 'n_estimators': 200, 'subsample': 0.7, 'sampling_method': 'gradient_based', 'colsample_bytree': 0.8, 'scale_pos_weight': 98, 'max_delta_step': 0, 'tree_method': 'hist', 'random_state': 42}\n",
      "{'device': 'cuda', 'learning_rate': 0.05, 'max_depth': 50, 'n_estimators': 200, 'subsample': 0.7, 'sampling_method': 'gradient_based', 'colsample_bytree': 0.8, 'scale_pos_weight': 98, 'max_delta_step': 1, 'tree_method': 'hist', 'random_state': 42}\n",
      "{'device': 'cuda', 'learning_rate': 0.05, 'max_depth': 50, 'n_estimators': 200, 'subsample': 0.8, 'sampling_method': 'gradient_based', 'colsample_bytree': 0.7, 'scale_pos_weight': 95, 'max_delta_step': 0, 'tree_method': 'hist', 'random_state': 42}\n",
      "{'device': 'cuda', 'learning_rate': 0.05, 'max_depth': 50, 'n_estimators': 200, 'subsample': 0.8, 'sampling_method': 'gradient_based', 'colsample_bytree': 0.7, 'scale_pos_weight': 95, 'max_delta_step': 1, 'tree_method': 'hist', 'random_state': 42}\n",
      "{'device': 'cuda', 'learning_rate': 0.05, 'max_depth': 50, 'n_estimators': 200, 'subsample': 0.8, 'sampling_method': 'gradient_based', 'colsample_bytree': 0.7, 'scale_pos_weight': 98, 'max_delta_step': 0, 'tree_method': 'hist', 'random_state': 42}\n",
      "{'device': 'cuda', 'learning_rate': 0.05, 'max_depth': 50, 'n_estimators': 200, 'subsample': 0.8, 'sampling_method': 'gradient_based', 'colsample_bytree': 0.7, 'scale_pos_weight': 98, 'max_delta_step': 1, 'tree_method': 'hist', 'random_state': 42}\n",
      "{'device': 'cuda', 'learning_rate': 0.05, 'max_depth': 50, 'n_estimators': 200, 'subsample': 0.8, 'sampling_method': 'gradient_based', 'colsample_bytree': 0.8, 'scale_pos_weight': 95, 'max_delta_step': 0, 'tree_method': 'hist', 'random_state': 42}\n",
      "{'device': 'cuda', 'learning_rate': 0.05, 'max_depth': 50, 'n_estimators': 200, 'subsample': 0.8, 'sampling_method': 'gradient_based', 'colsample_bytree': 0.8, 'scale_pos_weight': 95, 'max_delta_step': 1, 'tree_method': 'hist', 'random_state': 42}\n",
      "{'device': 'cuda', 'learning_rate': 0.05, 'max_depth': 50, 'n_estimators': 200, 'subsample': 0.8, 'sampling_method': 'gradient_based', 'colsample_bytree': 0.8, 'scale_pos_weight': 98, 'max_delta_step': 0, 'tree_method': 'hist', 'random_state': 42}\n",
      "{'device': 'cuda', 'learning_rate': 0.05, 'max_depth': 50, 'n_estimators': 200, 'subsample': 0.8, 'sampling_method': 'gradient_based', 'colsample_bytree': 0.8, 'scale_pos_weight': 98, 'max_delta_step': 1, 'tree_method': 'hist', 'random_state': 42}\n",
      "{'device': 'cuda', 'learning_rate': 0.05, 'max_depth': 50, 'n_estimators': 300, 'subsample': 0.7, 'sampling_method': 'gradient_based', 'colsample_bytree': 0.7, 'scale_pos_weight': 95, 'max_delta_step': 0, 'tree_method': 'hist', 'random_state': 42}\n",
      "{'device': 'cuda', 'learning_rate': 0.05, 'max_depth': 50, 'n_estimators': 300, 'subsample': 0.7, 'sampling_method': 'gradient_based', 'colsample_bytree': 0.7, 'scale_pos_weight': 95, 'max_delta_step': 1, 'tree_method': 'hist', 'random_state': 42}\n",
      "{'device': 'cuda', 'learning_rate': 0.05, 'max_depth': 50, 'n_estimators': 300, 'subsample': 0.7, 'sampling_method': 'gradient_based', 'colsample_bytree': 0.7, 'scale_pos_weight': 98, 'max_delta_step': 0, 'tree_method': 'hist', 'random_state': 42}\n",
      "{'device': 'cuda', 'learning_rate': 0.05, 'max_depth': 50, 'n_estimators': 300, 'subsample': 0.7, 'sampling_method': 'gradient_based', 'colsample_bytree': 0.7, 'scale_pos_weight': 98, 'max_delta_step': 1, 'tree_method': 'hist', 'random_state': 42}\n",
      "{'device': 'cuda', 'learning_rate': 0.05, 'max_depth': 50, 'n_estimators': 300, 'subsample': 0.7, 'sampling_method': 'gradient_based', 'colsample_bytree': 0.8, 'scale_pos_weight': 95, 'max_delta_step': 0, 'tree_method': 'hist', 'random_state': 42}\n",
      "{'device': 'cuda', 'learning_rate': 0.05, 'max_depth': 50, 'n_estimators': 300, 'subsample': 0.7, 'sampling_method': 'gradient_based', 'colsample_bytree': 0.8, 'scale_pos_weight': 95, 'max_delta_step': 1, 'tree_method': 'hist', 'random_state': 42}\n",
      "{'device': 'cuda', 'learning_rate': 0.05, 'max_depth': 50, 'n_estimators': 300, 'subsample': 0.7, 'sampling_method': 'gradient_based', 'colsample_bytree': 0.8, 'scale_pos_weight': 98, 'max_delta_step': 0, 'tree_method': 'hist', 'random_state': 42}\n",
      "{'device': 'cuda', 'learning_rate': 0.05, 'max_depth': 50, 'n_estimators': 300, 'subsample': 0.7, 'sampling_method': 'gradient_based', 'colsample_bytree': 0.8, 'scale_pos_weight': 98, 'max_delta_step': 1, 'tree_method': 'hist', 'random_state': 42}\n",
      "{'device': 'cuda', 'learning_rate': 0.05, 'max_depth': 50, 'n_estimators': 300, 'subsample': 0.8, 'sampling_method': 'gradient_based', 'colsample_bytree': 0.7, 'scale_pos_weight': 95, 'max_delta_step': 0, 'tree_method': 'hist', 'random_state': 42}\n",
      "{'device': 'cuda', 'learning_rate': 0.05, 'max_depth': 50, 'n_estimators': 300, 'subsample': 0.8, 'sampling_method': 'gradient_based', 'colsample_bytree': 0.7, 'scale_pos_weight': 95, 'max_delta_step': 1, 'tree_method': 'hist', 'random_state': 42}\n",
      "{'device': 'cuda', 'learning_rate': 0.05, 'max_depth': 50, 'n_estimators': 300, 'subsample': 0.8, 'sampling_method': 'gradient_based', 'colsample_bytree': 0.7, 'scale_pos_weight': 98, 'max_delta_step': 0, 'tree_method': 'hist', 'random_state': 42}\n",
      "{'device': 'cuda', 'learning_rate': 0.05, 'max_depth': 50, 'n_estimators': 300, 'subsample': 0.8, 'sampling_method': 'gradient_based', 'colsample_bytree': 0.7, 'scale_pos_weight': 98, 'max_delta_step': 1, 'tree_method': 'hist', 'random_state': 42}\n",
      "{'device': 'cuda', 'learning_rate': 0.05, 'max_depth': 50, 'n_estimators': 300, 'subsample': 0.8, 'sampling_method': 'gradient_based', 'colsample_bytree': 0.8, 'scale_pos_weight': 95, 'max_delta_step': 0, 'tree_method': 'hist', 'random_state': 42}\n",
      "{'device': 'cuda', 'learning_rate': 0.05, 'max_depth': 50, 'n_estimators': 300, 'subsample': 0.8, 'sampling_method': 'gradient_based', 'colsample_bytree': 0.8, 'scale_pos_weight': 95, 'max_delta_step': 1, 'tree_method': 'hist', 'random_state': 42}\n",
      "{'device': 'cuda', 'learning_rate': 0.05, 'max_depth': 50, 'n_estimators': 300, 'subsample': 0.8, 'sampling_method': 'gradient_based', 'colsample_bytree': 0.8, 'scale_pos_weight': 98, 'max_delta_step': 0, 'tree_method': 'hist', 'random_state': 42}\n",
      "{'device': 'cuda', 'learning_rate': 0.05, 'max_depth': 50, 'n_estimators': 300, 'subsample': 0.8, 'sampling_method': 'gradient_based', 'colsample_bytree': 0.8, 'scale_pos_weight': 98, 'max_delta_step': 1, 'tree_method': 'hist', 'random_state': 42}\n",
      "{'device': 'cuda', 'learning_rate': 0.05, 'max_depth': 75, 'n_estimators': 200, 'subsample': 0.7, 'sampling_method': 'gradient_based', 'colsample_bytree': 0.7, 'scale_pos_weight': 95, 'max_delta_step': 0, 'tree_method': 'hist', 'random_state': 42}\n",
      "{'device': 'cuda', 'learning_rate': 0.05, 'max_depth': 75, 'n_estimators': 200, 'subsample': 0.7, 'sampling_method': 'gradient_based', 'colsample_bytree': 0.7, 'scale_pos_weight': 95, 'max_delta_step': 1, 'tree_method': 'hist', 'random_state': 42}\n",
      "{'device': 'cuda', 'learning_rate': 0.05, 'max_depth': 75, 'n_estimators': 200, 'subsample': 0.7, 'sampling_method': 'gradient_based', 'colsample_bytree': 0.7, 'scale_pos_weight': 98, 'max_delta_step': 0, 'tree_method': 'hist', 'random_state': 42}\n",
      "{'device': 'cuda', 'learning_rate': 0.05, 'max_depth': 75, 'n_estimators': 200, 'subsample': 0.7, 'sampling_method': 'gradient_based', 'colsample_bytree': 0.7, 'scale_pos_weight': 98, 'max_delta_step': 1, 'tree_method': 'hist', 'random_state': 42}\n",
      "{'device': 'cuda', 'learning_rate': 0.05, 'max_depth': 75, 'n_estimators': 200, 'subsample': 0.7, 'sampling_method': 'gradient_based', 'colsample_bytree': 0.8, 'scale_pos_weight': 95, 'max_delta_step': 0, 'tree_method': 'hist', 'random_state': 42}\n",
      "{'device': 'cuda', 'learning_rate': 0.05, 'max_depth': 75, 'n_estimators': 200, 'subsample': 0.7, 'sampling_method': 'gradient_based', 'colsample_bytree': 0.8, 'scale_pos_weight': 95, 'max_delta_step': 1, 'tree_method': 'hist', 'random_state': 42}\n",
      "{'device': 'cuda', 'learning_rate': 0.05, 'max_depth': 75, 'n_estimators': 200, 'subsample': 0.7, 'sampling_method': 'gradient_based', 'colsample_bytree': 0.8, 'scale_pos_weight': 98, 'max_delta_step': 0, 'tree_method': 'hist', 'random_state': 42}\n",
      "{'device': 'cuda', 'learning_rate': 0.05, 'max_depth': 75, 'n_estimators': 200, 'subsample': 0.7, 'sampling_method': 'gradient_based', 'colsample_bytree': 0.8, 'scale_pos_weight': 98, 'max_delta_step': 1, 'tree_method': 'hist', 'random_state': 42}\n",
      "{'device': 'cuda', 'learning_rate': 0.05, 'max_depth': 75, 'n_estimators': 200, 'subsample': 0.8, 'sampling_method': 'gradient_based', 'colsample_bytree': 0.7, 'scale_pos_weight': 95, 'max_delta_step': 0, 'tree_method': 'hist', 'random_state': 42}\n",
      "{'device': 'cuda', 'learning_rate': 0.05, 'max_depth': 75, 'n_estimators': 200, 'subsample': 0.8, 'sampling_method': 'gradient_based', 'colsample_bytree': 0.7, 'scale_pos_weight': 95, 'max_delta_step': 1, 'tree_method': 'hist', 'random_state': 42}\n",
      "{'device': 'cuda', 'learning_rate': 0.05, 'max_depth': 75, 'n_estimators': 200, 'subsample': 0.8, 'sampling_method': 'gradient_based', 'colsample_bytree': 0.7, 'scale_pos_weight': 98, 'max_delta_step': 0, 'tree_method': 'hist', 'random_state': 42}\n",
      "{'device': 'cuda', 'learning_rate': 0.05, 'max_depth': 75, 'n_estimators': 200, 'subsample': 0.8, 'sampling_method': 'gradient_based', 'colsample_bytree': 0.7, 'scale_pos_weight': 98, 'max_delta_step': 1, 'tree_method': 'hist', 'random_state': 42}\n",
      "{'device': 'cuda', 'learning_rate': 0.05, 'max_depth': 75, 'n_estimators': 200, 'subsample': 0.8, 'sampling_method': 'gradient_based', 'colsample_bytree': 0.8, 'scale_pos_weight': 95, 'max_delta_step': 0, 'tree_method': 'hist', 'random_state': 42}\n",
      "{'device': 'cuda', 'learning_rate': 0.05, 'max_depth': 75, 'n_estimators': 200, 'subsample': 0.8, 'sampling_method': 'gradient_based', 'colsample_bytree': 0.8, 'scale_pos_weight': 95, 'max_delta_step': 1, 'tree_method': 'hist', 'random_state': 42}\n",
      "{'device': 'cuda', 'learning_rate': 0.05, 'max_depth': 75, 'n_estimators': 200, 'subsample': 0.8, 'sampling_method': 'gradient_based', 'colsample_bytree': 0.8, 'scale_pos_weight': 98, 'max_delta_step': 0, 'tree_method': 'hist', 'random_state': 42}\n",
      "{'device': 'cuda', 'learning_rate': 0.05, 'max_depth': 75, 'n_estimators': 200, 'subsample': 0.8, 'sampling_method': 'gradient_based', 'colsample_bytree': 0.8, 'scale_pos_weight': 98, 'max_delta_step': 1, 'tree_method': 'hist', 'random_state': 42}\n",
      "{'device': 'cuda', 'learning_rate': 0.05, 'max_depth': 75, 'n_estimators': 300, 'subsample': 0.7, 'sampling_method': 'gradient_based', 'colsample_bytree': 0.7, 'scale_pos_weight': 95, 'max_delta_step': 0, 'tree_method': 'hist', 'random_state': 42}\n",
      "{'device': 'cuda', 'learning_rate': 0.05, 'max_depth': 75, 'n_estimators': 300, 'subsample': 0.7, 'sampling_method': 'gradient_based', 'colsample_bytree': 0.7, 'scale_pos_weight': 95, 'max_delta_step': 1, 'tree_method': 'hist', 'random_state': 42}\n",
      "{'device': 'cuda', 'learning_rate': 0.05, 'max_depth': 75, 'n_estimators': 300, 'subsample': 0.7, 'sampling_method': 'gradient_based', 'colsample_bytree': 0.7, 'scale_pos_weight': 98, 'max_delta_step': 0, 'tree_method': 'hist', 'random_state': 42}\n",
      "{'device': 'cuda', 'learning_rate': 0.05, 'max_depth': 75, 'n_estimators': 300, 'subsample': 0.7, 'sampling_method': 'gradient_based', 'colsample_bytree': 0.7, 'scale_pos_weight': 98, 'max_delta_step': 1, 'tree_method': 'hist', 'random_state': 42}\n",
      "{'device': 'cuda', 'learning_rate': 0.05, 'max_depth': 75, 'n_estimators': 300, 'subsample': 0.7, 'sampling_method': 'gradient_based', 'colsample_bytree': 0.8, 'scale_pos_weight': 95, 'max_delta_step': 0, 'tree_method': 'hist', 'random_state': 42}\n",
      "{'device': 'cuda', 'learning_rate': 0.05, 'max_depth': 75, 'n_estimators': 300, 'subsample': 0.7, 'sampling_method': 'gradient_based', 'colsample_bytree': 0.8, 'scale_pos_weight': 95, 'max_delta_step': 1, 'tree_method': 'hist', 'random_state': 42}\n",
      "{'device': 'cuda', 'learning_rate': 0.05, 'max_depth': 75, 'n_estimators': 300, 'subsample': 0.7, 'sampling_method': 'gradient_based', 'colsample_bytree': 0.8, 'scale_pos_weight': 98, 'max_delta_step': 0, 'tree_method': 'hist', 'random_state': 42}\n",
      "{'device': 'cuda', 'learning_rate': 0.05, 'max_depth': 75, 'n_estimators': 300, 'subsample': 0.7, 'sampling_method': 'gradient_based', 'colsample_bytree': 0.8, 'scale_pos_weight': 98, 'max_delta_step': 1, 'tree_method': 'hist', 'random_state': 42}\n",
      "{'device': 'cuda', 'learning_rate': 0.05, 'max_depth': 75, 'n_estimators': 300, 'subsample': 0.8, 'sampling_method': 'gradient_based', 'colsample_bytree': 0.7, 'scale_pos_weight': 95, 'max_delta_step': 0, 'tree_method': 'hist', 'random_state': 42}\n",
      "{'device': 'cuda', 'learning_rate': 0.05, 'max_depth': 75, 'n_estimators': 300, 'subsample': 0.8, 'sampling_method': 'gradient_based', 'colsample_bytree': 0.7, 'scale_pos_weight': 95, 'max_delta_step': 1, 'tree_method': 'hist', 'random_state': 42}\n",
      "{'device': 'cuda', 'learning_rate': 0.05, 'max_depth': 75, 'n_estimators': 300, 'subsample': 0.8, 'sampling_method': 'gradient_based', 'colsample_bytree': 0.7, 'scale_pos_weight': 98, 'max_delta_step': 0, 'tree_method': 'hist', 'random_state': 42}\n",
      "{'device': 'cuda', 'learning_rate': 0.05, 'max_depth': 75, 'n_estimators': 300, 'subsample': 0.8, 'sampling_method': 'gradient_based', 'colsample_bytree': 0.7, 'scale_pos_weight': 98, 'max_delta_step': 1, 'tree_method': 'hist', 'random_state': 42}\n",
      "{'device': 'cuda', 'learning_rate': 0.05, 'max_depth': 75, 'n_estimators': 300, 'subsample': 0.8, 'sampling_method': 'gradient_based', 'colsample_bytree': 0.8, 'scale_pos_weight': 95, 'max_delta_step': 0, 'tree_method': 'hist', 'random_state': 42}\n",
      "{'device': 'cuda', 'learning_rate': 0.05, 'max_depth': 75, 'n_estimators': 300, 'subsample': 0.8, 'sampling_method': 'gradient_based', 'colsample_bytree': 0.8, 'scale_pos_weight': 95, 'max_delta_step': 1, 'tree_method': 'hist', 'random_state': 42}\n",
      "{'device': 'cuda', 'learning_rate': 0.05, 'max_depth': 75, 'n_estimators': 300, 'subsample': 0.8, 'sampling_method': 'gradient_based', 'colsample_bytree': 0.8, 'scale_pos_weight': 98, 'max_delta_step': 0, 'tree_method': 'hist', 'random_state': 42}\n",
      "{'device': 'cuda', 'learning_rate': 0.05, 'max_depth': 75, 'n_estimators': 300, 'subsample': 0.8, 'sampling_method': 'gradient_based', 'colsample_bytree': 0.8, 'scale_pos_weight': 98, 'max_delta_step': 1, 'tree_method': 'hist', 'random_state': 42}\n",
      "{'device': 'cuda', 'learning_rate': 0.05, 'max_depth': 100, 'n_estimators': 200, 'subsample': 0.7, 'sampling_method': 'gradient_based', 'colsample_bytree': 0.7, 'scale_pos_weight': 95, 'max_delta_step': 0, 'tree_method': 'hist', 'random_state': 42}\n",
      "{'device': 'cuda', 'learning_rate': 0.05, 'max_depth': 100, 'n_estimators': 200, 'subsample': 0.7, 'sampling_method': 'gradient_based', 'colsample_bytree': 0.7, 'scale_pos_weight': 95, 'max_delta_step': 1, 'tree_method': 'hist', 'random_state': 42}\n",
      "{'device': 'cuda', 'learning_rate': 0.05, 'max_depth': 100, 'n_estimators': 200, 'subsample': 0.7, 'sampling_method': 'gradient_based', 'colsample_bytree': 0.7, 'scale_pos_weight': 98, 'max_delta_step': 0, 'tree_method': 'hist', 'random_state': 42}\n",
      "{'device': 'cuda', 'learning_rate': 0.05, 'max_depth': 100, 'n_estimators': 200, 'subsample': 0.7, 'sampling_method': 'gradient_based', 'colsample_bytree': 0.7, 'scale_pos_weight': 98, 'max_delta_step': 1, 'tree_method': 'hist', 'random_state': 42}\n",
      "{'device': 'cuda', 'learning_rate': 0.05, 'max_depth': 100, 'n_estimators': 200, 'subsample': 0.7, 'sampling_method': 'gradient_based', 'colsample_bytree': 0.8, 'scale_pos_weight': 95, 'max_delta_step': 0, 'tree_method': 'hist', 'random_state': 42}\n",
      "{'device': 'cuda', 'learning_rate': 0.05, 'max_depth': 100, 'n_estimators': 200, 'subsample': 0.7, 'sampling_method': 'gradient_based', 'colsample_bytree': 0.8, 'scale_pos_weight': 95, 'max_delta_step': 1, 'tree_method': 'hist', 'random_state': 42}\n",
      "{'device': 'cuda', 'learning_rate': 0.05, 'max_depth': 100, 'n_estimators': 200, 'subsample': 0.7, 'sampling_method': 'gradient_based', 'colsample_bytree': 0.8, 'scale_pos_weight': 98, 'max_delta_step': 0, 'tree_method': 'hist', 'random_state': 42}\n",
      "{'device': 'cuda', 'learning_rate': 0.05, 'max_depth': 100, 'n_estimators': 200, 'subsample': 0.7, 'sampling_method': 'gradient_based', 'colsample_bytree': 0.8, 'scale_pos_weight': 98, 'max_delta_step': 1, 'tree_method': 'hist', 'random_state': 42}\n",
      "{'device': 'cuda', 'learning_rate': 0.05, 'max_depth': 100, 'n_estimators': 200, 'subsample': 0.8, 'sampling_method': 'gradient_based', 'colsample_bytree': 0.7, 'scale_pos_weight': 95, 'max_delta_step': 0, 'tree_method': 'hist', 'random_state': 42}\n",
      "{'device': 'cuda', 'learning_rate': 0.05, 'max_depth': 100, 'n_estimators': 200, 'subsample': 0.8, 'sampling_method': 'gradient_based', 'colsample_bytree': 0.7, 'scale_pos_weight': 95, 'max_delta_step': 1, 'tree_method': 'hist', 'random_state': 42}\n",
      "{'device': 'cuda', 'learning_rate': 0.05, 'max_depth': 100, 'n_estimators': 200, 'subsample': 0.8, 'sampling_method': 'gradient_based', 'colsample_bytree': 0.7, 'scale_pos_weight': 98, 'max_delta_step': 0, 'tree_method': 'hist', 'random_state': 42}\n",
      "{'device': 'cuda', 'learning_rate': 0.05, 'max_depth': 100, 'n_estimators': 200, 'subsample': 0.8, 'sampling_method': 'gradient_based', 'colsample_bytree': 0.7, 'scale_pos_weight': 98, 'max_delta_step': 1, 'tree_method': 'hist', 'random_state': 42}\n",
      "{'device': 'cuda', 'learning_rate': 0.05, 'max_depth': 100, 'n_estimators': 200, 'subsample': 0.8, 'sampling_method': 'gradient_based', 'colsample_bytree': 0.8, 'scale_pos_weight': 95, 'max_delta_step': 0, 'tree_method': 'hist', 'random_state': 42}\n",
      "{'device': 'cuda', 'learning_rate': 0.05, 'max_depth': 100, 'n_estimators': 200, 'subsample': 0.8, 'sampling_method': 'gradient_based', 'colsample_bytree': 0.8, 'scale_pos_weight': 95, 'max_delta_step': 1, 'tree_method': 'hist', 'random_state': 42}\n",
      "{'device': 'cuda', 'learning_rate': 0.05, 'max_depth': 100, 'n_estimators': 200, 'subsample': 0.8, 'sampling_method': 'gradient_based', 'colsample_bytree': 0.8, 'scale_pos_weight': 98, 'max_delta_step': 0, 'tree_method': 'hist', 'random_state': 42}\n",
      "{'device': 'cuda', 'learning_rate': 0.05, 'max_depth': 100, 'n_estimators': 200, 'subsample': 0.8, 'sampling_method': 'gradient_based', 'colsample_bytree': 0.8, 'scale_pos_weight': 98, 'max_delta_step': 1, 'tree_method': 'hist', 'random_state': 42}\n",
      "{'device': 'cuda', 'learning_rate': 0.05, 'max_depth': 100, 'n_estimators': 300, 'subsample': 0.7, 'sampling_method': 'gradient_based', 'colsample_bytree': 0.7, 'scale_pos_weight': 95, 'max_delta_step': 0, 'tree_method': 'hist', 'random_state': 42}\n",
      "{'device': 'cuda', 'learning_rate': 0.05, 'max_depth': 100, 'n_estimators': 300, 'subsample': 0.7, 'sampling_method': 'gradient_based', 'colsample_bytree': 0.7, 'scale_pos_weight': 95, 'max_delta_step': 1, 'tree_method': 'hist', 'random_state': 42}\n",
      "{'device': 'cuda', 'learning_rate': 0.05, 'max_depth': 100, 'n_estimators': 300, 'subsample': 0.7, 'sampling_method': 'gradient_based', 'colsample_bytree': 0.7, 'scale_pos_weight': 98, 'max_delta_step': 0, 'tree_method': 'hist', 'random_state': 42}\n",
      "{'device': 'cuda', 'learning_rate': 0.05, 'max_depth': 100, 'n_estimators': 300, 'subsample': 0.7, 'sampling_method': 'gradient_based', 'colsample_bytree': 0.7, 'scale_pos_weight': 98, 'max_delta_step': 1, 'tree_method': 'hist', 'random_state': 42}\n",
      "{'device': 'cuda', 'learning_rate': 0.05, 'max_depth': 100, 'n_estimators': 300, 'subsample': 0.7, 'sampling_method': 'gradient_based', 'colsample_bytree': 0.8, 'scale_pos_weight': 95, 'max_delta_step': 0, 'tree_method': 'hist', 'random_state': 42}\n",
      "{'device': 'cuda', 'learning_rate': 0.05, 'max_depth': 100, 'n_estimators': 300, 'subsample': 0.7, 'sampling_method': 'gradient_based', 'colsample_bytree': 0.8, 'scale_pos_weight': 95, 'max_delta_step': 1, 'tree_method': 'hist', 'random_state': 42}\n",
      "{'device': 'cuda', 'learning_rate': 0.05, 'max_depth': 100, 'n_estimators': 300, 'subsample': 0.7, 'sampling_method': 'gradient_based', 'colsample_bytree': 0.8, 'scale_pos_weight': 98, 'max_delta_step': 0, 'tree_method': 'hist', 'random_state': 42}\n",
      "{'device': 'cuda', 'learning_rate': 0.05, 'max_depth': 100, 'n_estimators': 300, 'subsample': 0.7, 'sampling_method': 'gradient_based', 'colsample_bytree': 0.8, 'scale_pos_weight': 98, 'max_delta_step': 1, 'tree_method': 'hist', 'random_state': 42}\n",
      "{'device': 'cuda', 'learning_rate': 0.05, 'max_depth': 100, 'n_estimators': 300, 'subsample': 0.8, 'sampling_method': 'gradient_based', 'colsample_bytree': 0.7, 'scale_pos_weight': 95, 'max_delta_step': 0, 'tree_method': 'hist', 'random_state': 42}\n",
      "{'device': 'cuda', 'learning_rate': 0.05, 'max_depth': 100, 'n_estimators': 300, 'subsample': 0.8, 'sampling_method': 'gradient_based', 'colsample_bytree': 0.7, 'scale_pos_weight': 95, 'max_delta_step': 1, 'tree_method': 'hist', 'random_state': 42}\n",
      "{'device': 'cuda', 'learning_rate': 0.05, 'max_depth': 100, 'n_estimators': 300, 'subsample': 0.8, 'sampling_method': 'gradient_based', 'colsample_bytree': 0.7, 'scale_pos_weight': 98, 'max_delta_step': 0, 'tree_method': 'hist', 'random_state': 42}\n",
      "{'device': 'cuda', 'learning_rate': 0.05, 'max_depth': 100, 'n_estimators': 300, 'subsample': 0.8, 'sampling_method': 'gradient_based', 'colsample_bytree': 0.7, 'scale_pos_weight': 98, 'max_delta_step': 1, 'tree_method': 'hist', 'random_state': 42}\n",
      "{'device': 'cuda', 'learning_rate': 0.05, 'max_depth': 100, 'n_estimators': 300, 'subsample': 0.8, 'sampling_method': 'gradient_based', 'colsample_bytree': 0.8, 'scale_pos_weight': 95, 'max_delta_step': 0, 'tree_method': 'hist', 'random_state': 42}\n",
      "{'device': 'cuda', 'learning_rate': 0.05, 'max_depth': 100, 'n_estimators': 300, 'subsample': 0.8, 'sampling_method': 'gradient_based', 'colsample_bytree': 0.8, 'scale_pos_weight': 95, 'max_delta_step': 1, 'tree_method': 'hist', 'random_state': 42}\n",
      "{'device': 'cuda', 'learning_rate': 0.05, 'max_depth': 100, 'n_estimators': 300, 'subsample': 0.8, 'sampling_method': 'gradient_based', 'colsample_bytree': 0.8, 'scale_pos_weight': 98, 'max_delta_step': 0, 'tree_method': 'hist', 'random_state': 42}\n",
      "{'device': 'cuda', 'learning_rate': 0.05, 'max_depth': 100, 'n_estimators': 300, 'subsample': 0.8, 'sampling_method': 'gradient_based', 'colsample_bytree': 0.8, 'scale_pos_weight': 98, 'max_delta_step': 1, 'tree_method': 'hist', 'random_state': 42}\n",
      "{'device': 'cuda', 'learning_rate': 0.1, 'max_depth': 50, 'n_estimators': 200, 'subsample': 0.7, 'sampling_method': 'gradient_based', 'colsample_bytree': 0.7, 'scale_pos_weight': 95, 'max_delta_step': 0, 'tree_method': 'hist', 'random_state': 42}\n",
      "{'device': 'cuda', 'learning_rate': 0.1, 'max_depth': 50, 'n_estimators': 200, 'subsample': 0.7, 'sampling_method': 'gradient_based', 'colsample_bytree': 0.7, 'scale_pos_weight': 95, 'max_delta_step': 1, 'tree_method': 'hist', 'random_state': 42}\n",
      "{'device': 'cuda', 'learning_rate': 0.1, 'max_depth': 50, 'n_estimators': 200, 'subsample': 0.7, 'sampling_method': 'gradient_based', 'colsample_bytree': 0.7, 'scale_pos_weight': 98, 'max_delta_step': 0, 'tree_method': 'hist', 'random_state': 42}\n",
      "{'device': 'cuda', 'learning_rate': 0.1, 'max_depth': 50, 'n_estimators': 200, 'subsample': 0.7, 'sampling_method': 'gradient_based', 'colsample_bytree': 0.7, 'scale_pos_weight': 98, 'max_delta_step': 1, 'tree_method': 'hist', 'random_state': 42}\n",
      "{'device': 'cuda', 'learning_rate': 0.1, 'max_depth': 50, 'n_estimators': 200, 'subsample': 0.7, 'sampling_method': 'gradient_based', 'colsample_bytree': 0.8, 'scale_pos_weight': 95, 'max_delta_step': 0, 'tree_method': 'hist', 'random_state': 42}\n",
      "{'device': 'cuda', 'learning_rate': 0.1, 'max_depth': 50, 'n_estimators': 200, 'subsample': 0.7, 'sampling_method': 'gradient_based', 'colsample_bytree': 0.8, 'scale_pos_weight': 95, 'max_delta_step': 1, 'tree_method': 'hist', 'random_state': 42}\n",
      "{'device': 'cuda', 'learning_rate': 0.1, 'max_depth': 50, 'n_estimators': 200, 'subsample': 0.7, 'sampling_method': 'gradient_based', 'colsample_bytree': 0.8, 'scale_pos_weight': 98, 'max_delta_step': 0, 'tree_method': 'hist', 'random_state': 42}\n",
      "{'device': 'cuda', 'learning_rate': 0.1, 'max_depth': 50, 'n_estimators': 200, 'subsample': 0.7, 'sampling_method': 'gradient_based', 'colsample_bytree': 0.8, 'scale_pos_weight': 98, 'max_delta_step': 1, 'tree_method': 'hist', 'random_state': 42}\n",
      "{'device': 'cuda', 'learning_rate': 0.1, 'max_depth': 50, 'n_estimators': 200, 'subsample': 0.8, 'sampling_method': 'gradient_based', 'colsample_bytree': 0.7, 'scale_pos_weight': 95, 'max_delta_step': 0, 'tree_method': 'hist', 'random_state': 42}\n",
      "{'device': 'cuda', 'learning_rate': 0.1, 'max_depth': 50, 'n_estimators': 200, 'subsample': 0.8, 'sampling_method': 'gradient_based', 'colsample_bytree': 0.7, 'scale_pos_weight': 95, 'max_delta_step': 1, 'tree_method': 'hist', 'random_state': 42}\n",
      "{'device': 'cuda', 'learning_rate': 0.1, 'max_depth': 50, 'n_estimators': 200, 'subsample': 0.8, 'sampling_method': 'gradient_based', 'colsample_bytree': 0.7, 'scale_pos_weight': 98, 'max_delta_step': 0, 'tree_method': 'hist', 'random_state': 42}\n",
      "{'device': 'cuda', 'learning_rate': 0.1, 'max_depth': 50, 'n_estimators': 200, 'subsample': 0.8, 'sampling_method': 'gradient_based', 'colsample_bytree': 0.7, 'scale_pos_weight': 98, 'max_delta_step': 1, 'tree_method': 'hist', 'random_state': 42}\n",
      "{'device': 'cuda', 'learning_rate': 0.1, 'max_depth': 50, 'n_estimators': 200, 'subsample': 0.8, 'sampling_method': 'gradient_based', 'colsample_bytree': 0.8, 'scale_pos_weight': 95, 'max_delta_step': 0, 'tree_method': 'hist', 'random_state': 42}\n",
      "{'device': 'cuda', 'learning_rate': 0.1, 'max_depth': 50, 'n_estimators': 200, 'subsample': 0.8, 'sampling_method': 'gradient_based', 'colsample_bytree': 0.8, 'scale_pos_weight': 95, 'max_delta_step': 1, 'tree_method': 'hist', 'random_state': 42}\n",
      "{'device': 'cuda', 'learning_rate': 0.1, 'max_depth': 50, 'n_estimators': 200, 'subsample': 0.8, 'sampling_method': 'gradient_based', 'colsample_bytree': 0.8, 'scale_pos_weight': 98, 'max_delta_step': 0, 'tree_method': 'hist', 'random_state': 42}\n",
      "{'device': 'cuda', 'learning_rate': 0.1, 'max_depth': 50, 'n_estimators': 200, 'subsample': 0.8, 'sampling_method': 'gradient_based', 'colsample_bytree': 0.8, 'scale_pos_weight': 98, 'max_delta_step': 1, 'tree_method': 'hist', 'random_state': 42}\n",
      "{'device': 'cuda', 'learning_rate': 0.1, 'max_depth': 50, 'n_estimators': 300, 'subsample': 0.7, 'sampling_method': 'gradient_based', 'colsample_bytree': 0.7, 'scale_pos_weight': 95, 'max_delta_step': 0, 'tree_method': 'hist', 'random_state': 42}\n",
      "{'device': 'cuda', 'learning_rate': 0.1, 'max_depth': 50, 'n_estimators': 300, 'subsample': 0.7, 'sampling_method': 'gradient_based', 'colsample_bytree': 0.7, 'scale_pos_weight': 95, 'max_delta_step': 1, 'tree_method': 'hist', 'random_state': 42}\n",
      "{'device': 'cuda', 'learning_rate': 0.1, 'max_depth': 50, 'n_estimators': 300, 'subsample': 0.7, 'sampling_method': 'gradient_based', 'colsample_bytree': 0.7, 'scale_pos_weight': 98, 'max_delta_step': 0, 'tree_method': 'hist', 'random_state': 42}\n",
      "{'device': 'cuda', 'learning_rate': 0.1, 'max_depth': 50, 'n_estimators': 300, 'subsample': 0.7, 'sampling_method': 'gradient_based', 'colsample_bytree': 0.7, 'scale_pos_weight': 98, 'max_delta_step': 1, 'tree_method': 'hist', 'random_state': 42}\n",
      "{'device': 'cuda', 'learning_rate': 0.1, 'max_depth': 50, 'n_estimators': 300, 'subsample': 0.7, 'sampling_method': 'gradient_based', 'colsample_bytree': 0.8, 'scale_pos_weight': 95, 'max_delta_step': 0, 'tree_method': 'hist', 'random_state': 42}\n",
      "{'device': 'cuda', 'learning_rate': 0.1, 'max_depth': 50, 'n_estimators': 300, 'subsample': 0.7, 'sampling_method': 'gradient_based', 'colsample_bytree': 0.8, 'scale_pos_weight': 95, 'max_delta_step': 1, 'tree_method': 'hist', 'random_state': 42}\n",
      "{'device': 'cuda', 'learning_rate': 0.1, 'max_depth': 50, 'n_estimators': 300, 'subsample': 0.7, 'sampling_method': 'gradient_based', 'colsample_bytree': 0.8, 'scale_pos_weight': 98, 'max_delta_step': 0, 'tree_method': 'hist', 'random_state': 42}\n",
      "{'device': 'cuda', 'learning_rate': 0.1, 'max_depth': 50, 'n_estimators': 300, 'subsample': 0.7, 'sampling_method': 'gradient_based', 'colsample_bytree': 0.8, 'scale_pos_weight': 98, 'max_delta_step': 1, 'tree_method': 'hist', 'random_state': 42}\n",
      "{'device': 'cuda', 'learning_rate': 0.1, 'max_depth': 50, 'n_estimators': 300, 'subsample': 0.8, 'sampling_method': 'gradient_based', 'colsample_bytree': 0.7, 'scale_pos_weight': 95, 'max_delta_step': 0, 'tree_method': 'hist', 'random_state': 42}\n",
      "{'device': 'cuda', 'learning_rate': 0.1, 'max_depth': 50, 'n_estimators': 300, 'subsample': 0.8, 'sampling_method': 'gradient_based', 'colsample_bytree': 0.7, 'scale_pos_weight': 95, 'max_delta_step': 1, 'tree_method': 'hist', 'random_state': 42}\n",
      "{'device': 'cuda', 'learning_rate': 0.1, 'max_depth': 50, 'n_estimators': 300, 'subsample': 0.8, 'sampling_method': 'gradient_based', 'colsample_bytree': 0.7, 'scale_pos_weight': 98, 'max_delta_step': 0, 'tree_method': 'hist', 'random_state': 42}\n",
      "{'device': 'cuda', 'learning_rate': 0.1, 'max_depth': 50, 'n_estimators': 300, 'subsample': 0.8, 'sampling_method': 'gradient_based', 'colsample_bytree': 0.7, 'scale_pos_weight': 98, 'max_delta_step': 1, 'tree_method': 'hist', 'random_state': 42}\n",
      "{'device': 'cuda', 'learning_rate': 0.1, 'max_depth': 50, 'n_estimators': 300, 'subsample': 0.8, 'sampling_method': 'gradient_based', 'colsample_bytree': 0.8, 'scale_pos_weight': 95, 'max_delta_step': 0, 'tree_method': 'hist', 'random_state': 42}\n",
      "{'device': 'cuda', 'learning_rate': 0.1, 'max_depth': 50, 'n_estimators': 300, 'subsample': 0.8, 'sampling_method': 'gradient_based', 'colsample_bytree': 0.8, 'scale_pos_weight': 95, 'max_delta_step': 1, 'tree_method': 'hist', 'random_state': 42}\n",
      "{'device': 'cuda', 'learning_rate': 0.1, 'max_depth': 50, 'n_estimators': 300, 'subsample': 0.8, 'sampling_method': 'gradient_based', 'colsample_bytree': 0.8, 'scale_pos_weight': 98, 'max_delta_step': 0, 'tree_method': 'hist', 'random_state': 42}\n",
      "{'device': 'cuda', 'learning_rate': 0.1, 'max_depth': 50, 'n_estimators': 300, 'subsample': 0.8, 'sampling_method': 'gradient_based', 'colsample_bytree': 0.8, 'scale_pos_weight': 98, 'max_delta_step': 1, 'tree_method': 'hist', 'random_state': 42}\n",
      "{'device': 'cuda', 'learning_rate': 0.1, 'max_depth': 75, 'n_estimators': 200, 'subsample': 0.7, 'sampling_method': 'gradient_based', 'colsample_bytree': 0.7, 'scale_pos_weight': 95, 'max_delta_step': 0, 'tree_method': 'hist', 'random_state': 42}\n",
      "{'device': 'cuda', 'learning_rate': 0.1, 'max_depth': 75, 'n_estimators': 200, 'subsample': 0.7, 'sampling_method': 'gradient_based', 'colsample_bytree': 0.7, 'scale_pos_weight': 95, 'max_delta_step': 1, 'tree_method': 'hist', 'random_state': 42}\n",
      "{'device': 'cuda', 'learning_rate': 0.1, 'max_depth': 75, 'n_estimators': 200, 'subsample': 0.7, 'sampling_method': 'gradient_based', 'colsample_bytree': 0.7, 'scale_pos_weight': 98, 'max_delta_step': 0, 'tree_method': 'hist', 'random_state': 42}\n",
      "{'device': 'cuda', 'learning_rate': 0.1, 'max_depth': 75, 'n_estimators': 200, 'subsample': 0.7, 'sampling_method': 'gradient_based', 'colsample_bytree': 0.7, 'scale_pos_weight': 98, 'max_delta_step': 1, 'tree_method': 'hist', 'random_state': 42}\n",
      "{'device': 'cuda', 'learning_rate': 0.1, 'max_depth': 75, 'n_estimators': 200, 'subsample': 0.7, 'sampling_method': 'gradient_based', 'colsample_bytree': 0.8, 'scale_pos_weight': 95, 'max_delta_step': 0, 'tree_method': 'hist', 'random_state': 42}\n",
      "{'device': 'cuda', 'learning_rate': 0.1, 'max_depth': 75, 'n_estimators': 200, 'subsample': 0.7, 'sampling_method': 'gradient_based', 'colsample_bytree': 0.8, 'scale_pos_weight': 95, 'max_delta_step': 1, 'tree_method': 'hist', 'random_state': 42}\n",
      "{'device': 'cuda', 'learning_rate': 0.1, 'max_depth': 75, 'n_estimators': 200, 'subsample': 0.7, 'sampling_method': 'gradient_based', 'colsample_bytree': 0.8, 'scale_pos_weight': 98, 'max_delta_step': 0, 'tree_method': 'hist', 'random_state': 42}\n",
      "{'device': 'cuda', 'learning_rate': 0.1, 'max_depth': 75, 'n_estimators': 200, 'subsample': 0.7, 'sampling_method': 'gradient_based', 'colsample_bytree': 0.8, 'scale_pos_weight': 98, 'max_delta_step': 1, 'tree_method': 'hist', 'random_state': 42}\n",
      "{'device': 'cuda', 'learning_rate': 0.1, 'max_depth': 75, 'n_estimators': 200, 'subsample': 0.8, 'sampling_method': 'gradient_based', 'colsample_bytree': 0.7, 'scale_pos_weight': 95, 'max_delta_step': 0, 'tree_method': 'hist', 'random_state': 42}\n",
      "{'device': 'cuda', 'learning_rate': 0.1, 'max_depth': 75, 'n_estimators': 200, 'subsample': 0.8, 'sampling_method': 'gradient_based', 'colsample_bytree': 0.7, 'scale_pos_weight': 95, 'max_delta_step': 1, 'tree_method': 'hist', 'random_state': 42}\n",
      "{'device': 'cuda', 'learning_rate': 0.1, 'max_depth': 75, 'n_estimators': 200, 'subsample': 0.8, 'sampling_method': 'gradient_based', 'colsample_bytree': 0.7, 'scale_pos_weight': 98, 'max_delta_step': 0, 'tree_method': 'hist', 'random_state': 42}\n",
      "{'device': 'cuda', 'learning_rate': 0.1, 'max_depth': 75, 'n_estimators': 200, 'subsample': 0.8, 'sampling_method': 'gradient_based', 'colsample_bytree': 0.7, 'scale_pos_weight': 98, 'max_delta_step': 1, 'tree_method': 'hist', 'random_state': 42}\n",
      "{'device': 'cuda', 'learning_rate': 0.1, 'max_depth': 75, 'n_estimators': 200, 'subsample': 0.8, 'sampling_method': 'gradient_based', 'colsample_bytree': 0.8, 'scale_pos_weight': 95, 'max_delta_step': 0, 'tree_method': 'hist', 'random_state': 42}\n",
      "{'device': 'cuda', 'learning_rate': 0.1, 'max_depth': 75, 'n_estimators': 200, 'subsample': 0.8, 'sampling_method': 'gradient_based', 'colsample_bytree': 0.8, 'scale_pos_weight': 95, 'max_delta_step': 1, 'tree_method': 'hist', 'random_state': 42}\n",
      "{'device': 'cuda', 'learning_rate': 0.1, 'max_depth': 75, 'n_estimators': 200, 'subsample': 0.8, 'sampling_method': 'gradient_based', 'colsample_bytree': 0.8, 'scale_pos_weight': 98, 'max_delta_step': 0, 'tree_method': 'hist', 'random_state': 42}\n",
      "{'device': 'cuda', 'learning_rate': 0.1, 'max_depth': 75, 'n_estimators': 200, 'subsample': 0.8, 'sampling_method': 'gradient_based', 'colsample_bytree': 0.8, 'scale_pos_weight': 98, 'max_delta_step': 1, 'tree_method': 'hist', 'random_state': 42}\n",
      "{'device': 'cuda', 'learning_rate': 0.1, 'max_depth': 75, 'n_estimators': 300, 'subsample': 0.7, 'sampling_method': 'gradient_based', 'colsample_bytree': 0.7, 'scale_pos_weight': 95, 'max_delta_step': 0, 'tree_method': 'hist', 'random_state': 42}\n",
      "{'device': 'cuda', 'learning_rate': 0.1, 'max_depth': 75, 'n_estimators': 300, 'subsample': 0.7, 'sampling_method': 'gradient_based', 'colsample_bytree': 0.7, 'scale_pos_weight': 95, 'max_delta_step': 1, 'tree_method': 'hist', 'random_state': 42}\n",
      "{'device': 'cuda', 'learning_rate': 0.1, 'max_depth': 75, 'n_estimators': 300, 'subsample': 0.7, 'sampling_method': 'gradient_based', 'colsample_bytree': 0.7, 'scale_pos_weight': 98, 'max_delta_step': 0, 'tree_method': 'hist', 'random_state': 42}\n",
      "{'device': 'cuda', 'learning_rate': 0.1, 'max_depth': 75, 'n_estimators': 300, 'subsample': 0.7, 'sampling_method': 'gradient_based', 'colsample_bytree': 0.7, 'scale_pos_weight': 98, 'max_delta_step': 1, 'tree_method': 'hist', 'random_state': 42}\n",
      "{'device': 'cuda', 'learning_rate': 0.1, 'max_depth': 75, 'n_estimators': 300, 'subsample': 0.7, 'sampling_method': 'gradient_based', 'colsample_bytree': 0.8, 'scale_pos_weight': 95, 'max_delta_step': 0, 'tree_method': 'hist', 'random_state': 42}\n",
      "{'device': 'cuda', 'learning_rate': 0.1, 'max_depth': 75, 'n_estimators': 300, 'subsample': 0.7, 'sampling_method': 'gradient_based', 'colsample_bytree': 0.8, 'scale_pos_weight': 95, 'max_delta_step': 1, 'tree_method': 'hist', 'random_state': 42}\n",
      "{'device': 'cuda', 'learning_rate': 0.1, 'max_depth': 75, 'n_estimators': 300, 'subsample': 0.7, 'sampling_method': 'gradient_based', 'colsample_bytree': 0.8, 'scale_pos_weight': 98, 'max_delta_step': 0, 'tree_method': 'hist', 'random_state': 42}\n",
      "{'device': 'cuda', 'learning_rate': 0.1, 'max_depth': 75, 'n_estimators': 300, 'subsample': 0.7, 'sampling_method': 'gradient_based', 'colsample_bytree': 0.8, 'scale_pos_weight': 98, 'max_delta_step': 1, 'tree_method': 'hist', 'random_state': 42}\n",
      "{'device': 'cuda', 'learning_rate': 0.1, 'max_depth': 75, 'n_estimators': 300, 'subsample': 0.8, 'sampling_method': 'gradient_based', 'colsample_bytree': 0.7, 'scale_pos_weight': 95, 'max_delta_step': 0, 'tree_method': 'hist', 'random_state': 42}\n",
      "{'device': 'cuda', 'learning_rate': 0.1, 'max_depth': 75, 'n_estimators': 300, 'subsample': 0.8, 'sampling_method': 'gradient_based', 'colsample_bytree': 0.7, 'scale_pos_weight': 95, 'max_delta_step': 1, 'tree_method': 'hist', 'random_state': 42}\n",
      "{'device': 'cuda', 'learning_rate': 0.1, 'max_depth': 75, 'n_estimators': 300, 'subsample': 0.8, 'sampling_method': 'gradient_based', 'colsample_bytree': 0.7, 'scale_pos_weight': 98, 'max_delta_step': 0, 'tree_method': 'hist', 'random_state': 42}\n",
      "{'device': 'cuda', 'learning_rate': 0.1, 'max_depth': 75, 'n_estimators': 300, 'subsample': 0.8, 'sampling_method': 'gradient_based', 'colsample_bytree': 0.7, 'scale_pos_weight': 98, 'max_delta_step': 1, 'tree_method': 'hist', 'random_state': 42}\n",
      "{'device': 'cuda', 'learning_rate': 0.1, 'max_depth': 75, 'n_estimators': 300, 'subsample': 0.8, 'sampling_method': 'gradient_based', 'colsample_bytree': 0.8, 'scale_pos_weight': 95, 'max_delta_step': 0, 'tree_method': 'hist', 'random_state': 42}\n",
      "{'device': 'cuda', 'learning_rate': 0.1, 'max_depth': 75, 'n_estimators': 300, 'subsample': 0.8, 'sampling_method': 'gradient_based', 'colsample_bytree': 0.8, 'scale_pos_weight': 95, 'max_delta_step': 1, 'tree_method': 'hist', 'random_state': 42}\n",
      "{'device': 'cuda', 'learning_rate': 0.1, 'max_depth': 75, 'n_estimators': 300, 'subsample': 0.8, 'sampling_method': 'gradient_based', 'colsample_bytree': 0.8, 'scale_pos_weight': 98, 'max_delta_step': 0, 'tree_method': 'hist', 'random_state': 42}\n",
      "{'device': 'cuda', 'learning_rate': 0.1, 'max_depth': 75, 'n_estimators': 300, 'subsample': 0.8, 'sampling_method': 'gradient_based', 'colsample_bytree': 0.8, 'scale_pos_weight': 98, 'max_delta_step': 1, 'tree_method': 'hist', 'random_state': 42}\n",
      "{'device': 'cuda', 'learning_rate': 0.1, 'max_depth': 100, 'n_estimators': 200, 'subsample': 0.7, 'sampling_method': 'gradient_based', 'colsample_bytree': 0.7, 'scale_pos_weight': 95, 'max_delta_step': 0, 'tree_method': 'hist', 'random_state': 42}\n",
      "{'device': 'cuda', 'learning_rate': 0.1, 'max_depth': 100, 'n_estimators': 200, 'subsample': 0.7, 'sampling_method': 'gradient_based', 'colsample_bytree': 0.7, 'scale_pos_weight': 95, 'max_delta_step': 1, 'tree_method': 'hist', 'random_state': 42}\n",
      "{'device': 'cuda', 'learning_rate': 0.1, 'max_depth': 100, 'n_estimators': 200, 'subsample': 0.7, 'sampling_method': 'gradient_based', 'colsample_bytree': 0.7, 'scale_pos_weight': 98, 'max_delta_step': 0, 'tree_method': 'hist', 'random_state': 42}\n",
      "{'device': 'cuda', 'learning_rate': 0.1, 'max_depth': 100, 'n_estimators': 200, 'subsample': 0.7, 'sampling_method': 'gradient_based', 'colsample_bytree': 0.7, 'scale_pos_weight': 98, 'max_delta_step': 1, 'tree_method': 'hist', 'random_state': 42}\n",
      "{'device': 'cuda', 'learning_rate': 0.1, 'max_depth': 100, 'n_estimators': 200, 'subsample': 0.7, 'sampling_method': 'gradient_based', 'colsample_bytree': 0.8, 'scale_pos_weight': 95, 'max_delta_step': 0, 'tree_method': 'hist', 'random_state': 42}\n",
      "{'device': 'cuda', 'learning_rate': 0.1, 'max_depth': 100, 'n_estimators': 200, 'subsample': 0.7, 'sampling_method': 'gradient_based', 'colsample_bytree': 0.8, 'scale_pos_weight': 95, 'max_delta_step': 1, 'tree_method': 'hist', 'random_state': 42}\n",
      "{'device': 'cuda', 'learning_rate': 0.1, 'max_depth': 100, 'n_estimators': 200, 'subsample': 0.7, 'sampling_method': 'gradient_based', 'colsample_bytree': 0.8, 'scale_pos_weight': 98, 'max_delta_step': 0, 'tree_method': 'hist', 'random_state': 42}\n",
      "{'device': 'cuda', 'learning_rate': 0.1, 'max_depth': 100, 'n_estimators': 200, 'subsample': 0.7, 'sampling_method': 'gradient_based', 'colsample_bytree': 0.8, 'scale_pos_weight': 98, 'max_delta_step': 1, 'tree_method': 'hist', 'random_state': 42}\n",
      "{'device': 'cuda', 'learning_rate': 0.1, 'max_depth': 100, 'n_estimators': 200, 'subsample': 0.8, 'sampling_method': 'gradient_based', 'colsample_bytree': 0.7, 'scale_pos_weight': 95, 'max_delta_step': 0, 'tree_method': 'hist', 'random_state': 42}\n",
      "{'device': 'cuda', 'learning_rate': 0.1, 'max_depth': 100, 'n_estimators': 200, 'subsample': 0.8, 'sampling_method': 'gradient_based', 'colsample_bytree': 0.7, 'scale_pos_weight': 95, 'max_delta_step': 1, 'tree_method': 'hist', 'random_state': 42}\n",
      "{'device': 'cuda', 'learning_rate': 0.1, 'max_depth': 100, 'n_estimators': 200, 'subsample': 0.8, 'sampling_method': 'gradient_based', 'colsample_bytree': 0.7, 'scale_pos_weight': 98, 'max_delta_step': 0, 'tree_method': 'hist', 'random_state': 42}\n",
      "{'device': 'cuda', 'learning_rate': 0.1, 'max_depth': 100, 'n_estimators': 200, 'subsample': 0.8, 'sampling_method': 'gradient_based', 'colsample_bytree': 0.7, 'scale_pos_weight': 98, 'max_delta_step': 1, 'tree_method': 'hist', 'random_state': 42}\n",
      "{'device': 'cuda', 'learning_rate': 0.1, 'max_depth': 100, 'n_estimators': 200, 'subsample': 0.8, 'sampling_method': 'gradient_based', 'colsample_bytree': 0.8, 'scale_pos_weight': 95, 'max_delta_step': 0, 'tree_method': 'hist', 'random_state': 42}\n",
      "{'device': 'cuda', 'learning_rate': 0.1, 'max_depth': 100, 'n_estimators': 200, 'subsample': 0.8, 'sampling_method': 'gradient_based', 'colsample_bytree': 0.8, 'scale_pos_weight': 95, 'max_delta_step': 1, 'tree_method': 'hist', 'random_state': 42}\n",
      "{'device': 'cuda', 'learning_rate': 0.1, 'max_depth': 100, 'n_estimators': 200, 'subsample': 0.8, 'sampling_method': 'gradient_based', 'colsample_bytree': 0.8, 'scale_pos_weight': 98, 'max_delta_step': 0, 'tree_method': 'hist', 'random_state': 42}\n",
      "{'device': 'cuda', 'learning_rate': 0.1, 'max_depth': 100, 'n_estimators': 200, 'subsample': 0.8, 'sampling_method': 'gradient_based', 'colsample_bytree': 0.8, 'scale_pos_weight': 98, 'max_delta_step': 1, 'tree_method': 'hist', 'random_state': 42}\n",
      "{'device': 'cuda', 'learning_rate': 0.1, 'max_depth': 100, 'n_estimators': 300, 'subsample': 0.7, 'sampling_method': 'gradient_based', 'colsample_bytree': 0.7, 'scale_pos_weight': 95, 'max_delta_step': 0, 'tree_method': 'hist', 'random_state': 42}\n",
      "{'device': 'cuda', 'learning_rate': 0.1, 'max_depth': 100, 'n_estimators': 300, 'subsample': 0.7, 'sampling_method': 'gradient_based', 'colsample_bytree': 0.7, 'scale_pos_weight': 95, 'max_delta_step': 1, 'tree_method': 'hist', 'random_state': 42}\n",
      "{'device': 'cuda', 'learning_rate': 0.1, 'max_depth': 100, 'n_estimators': 300, 'subsample': 0.7, 'sampling_method': 'gradient_based', 'colsample_bytree': 0.7, 'scale_pos_weight': 98, 'max_delta_step': 0, 'tree_method': 'hist', 'random_state': 42}\n",
      "{'device': 'cuda', 'learning_rate': 0.1, 'max_depth': 100, 'n_estimators': 300, 'subsample': 0.7, 'sampling_method': 'gradient_based', 'colsample_bytree': 0.7, 'scale_pos_weight': 98, 'max_delta_step': 1, 'tree_method': 'hist', 'random_state': 42}\n",
      "{'device': 'cuda', 'learning_rate': 0.1, 'max_depth': 100, 'n_estimators': 300, 'subsample': 0.7, 'sampling_method': 'gradient_based', 'colsample_bytree': 0.8, 'scale_pos_weight': 95, 'max_delta_step': 0, 'tree_method': 'hist', 'random_state': 42}\n",
      "{'device': 'cuda', 'learning_rate': 0.1, 'max_depth': 100, 'n_estimators': 300, 'subsample': 0.7, 'sampling_method': 'gradient_based', 'colsample_bytree': 0.8, 'scale_pos_weight': 95, 'max_delta_step': 1, 'tree_method': 'hist', 'random_state': 42}\n",
      "{'device': 'cuda', 'learning_rate': 0.1, 'max_depth': 100, 'n_estimators': 300, 'subsample': 0.7, 'sampling_method': 'gradient_based', 'colsample_bytree': 0.8, 'scale_pos_weight': 98, 'max_delta_step': 0, 'tree_method': 'hist', 'random_state': 42}\n",
      "{'device': 'cuda', 'learning_rate': 0.1, 'max_depth': 100, 'n_estimators': 300, 'subsample': 0.7, 'sampling_method': 'gradient_based', 'colsample_bytree': 0.8, 'scale_pos_weight': 98, 'max_delta_step': 1, 'tree_method': 'hist', 'random_state': 42}\n",
      "{'device': 'cuda', 'learning_rate': 0.1, 'max_depth': 100, 'n_estimators': 300, 'subsample': 0.8, 'sampling_method': 'gradient_based', 'colsample_bytree': 0.7, 'scale_pos_weight': 95, 'max_delta_step': 0, 'tree_method': 'hist', 'random_state': 42}\n",
      "{'device': 'cuda', 'learning_rate': 0.1, 'max_depth': 100, 'n_estimators': 300, 'subsample': 0.8, 'sampling_method': 'gradient_based', 'colsample_bytree': 0.7, 'scale_pos_weight': 95, 'max_delta_step': 1, 'tree_method': 'hist', 'random_state': 42}\n",
      "{'device': 'cuda', 'learning_rate': 0.1, 'max_depth': 100, 'n_estimators': 300, 'subsample': 0.8, 'sampling_method': 'gradient_based', 'colsample_bytree': 0.7, 'scale_pos_weight': 98, 'max_delta_step': 0, 'tree_method': 'hist', 'random_state': 42}\n",
      "{'device': 'cuda', 'learning_rate': 0.1, 'max_depth': 100, 'n_estimators': 300, 'subsample': 0.8, 'sampling_method': 'gradient_based', 'colsample_bytree': 0.7, 'scale_pos_weight': 98, 'max_delta_step': 1, 'tree_method': 'hist', 'random_state': 42}\n",
      "{'device': 'cuda', 'learning_rate': 0.1, 'max_depth': 100, 'n_estimators': 300, 'subsample': 0.8, 'sampling_method': 'gradient_based', 'colsample_bytree': 0.8, 'scale_pos_weight': 95, 'max_delta_step': 0, 'tree_method': 'hist', 'random_state': 42}\n",
      "{'device': 'cuda', 'learning_rate': 0.1, 'max_depth': 100, 'n_estimators': 300, 'subsample': 0.8, 'sampling_method': 'gradient_based', 'colsample_bytree': 0.8, 'scale_pos_weight': 95, 'max_delta_step': 1, 'tree_method': 'hist', 'random_state': 42}\n",
      "{'device': 'cuda', 'learning_rate': 0.1, 'max_depth': 100, 'n_estimators': 300, 'subsample': 0.8, 'sampling_method': 'gradient_based', 'colsample_bytree': 0.8, 'scale_pos_weight': 98, 'max_delta_step': 0, 'tree_method': 'hist', 'random_state': 42}\n",
      "{'device': 'cuda', 'learning_rate': 0.1, 'max_depth': 100, 'n_estimators': 300, 'subsample': 0.8, 'sampling_method': 'gradient_based', 'colsample_bytree': 0.8, 'scale_pos_weight': 98, 'max_delta_step': 1, 'tree_method': 'hist', 'random_state': 42}\n"
     ]
    }
   ],
   "execution_count": 36
  },
  {
   "metadata": {
    "ExecuteTime": {
     "end_time": "2024-11-26T07:46:47.455290Z",
     "start_time": "2024-11-26T07:46:47.435401Z"
    }
   },
   "cell_type": "code",
   "source": "len(param_combinations)",
   "id": "2136a3660b1747e3",
   "outputs": [
    {
     "data": {
      "text/plain": [
       "192"
      ]
     },
     "execution_count": 37,
     "metadata": {},
     "output_type": "execute_result"
    }
   ],
   "execution_count": 37
  },
  {
   "metadata": {
    "ExecuteTime": {
     "end_time": "2024-11-26T08:39:38.379493Z",
     "start_time": "2024-11-26T08:39:37.440565Z"
    }
   },
   "cell_type": "code",
   "source": "df = pd.read_parquet(\"../../DATA/train_data.parquet\")",
   "id": "538e09c66e329411",
   "outputs": [],
   "execution_count": 38
  },
  {
   "metadata": {
    "ExecuteTime": {
     "end_time": "2024-11-26T08:39:40.689617Z",
     "start_time": "2024-11-26T08:39:40.652503Z"
    }
   },
   "cell_type": "code",
   "source": "df.sample(10)",
   "id": "4afda5c7bca09fbb",
   "outputs": [
    {
     "data": {
      "text/plain": [
       "          id                                               text  label  \\\n",
       "15879  23964                                     Happy moms day      2   \n",
       "31145   6699  Seems like a good idea but the widget is invis...      1   \n",
       "4767   26763   flo can spell antidisestablishmentarianism of...      1   \n",
       "17575  18717                         I got the ticket dismissed      2   \n",
       "17694   9260                         _coza  Yep. Live and learn      1   \n",
       "14928  16652   I was thinking there should be a thumbs down ...      0   \n",
       "28896  14566   if you could get down to easton, you could jo...      1   \n",
       "29235   3713      haha Mon...Do you really want me too send it?      1   \n",
       "17163  19706   So far (with the exception of the rain), my m...      2   \n",
       "22846  20874  trying to upload a custom background on here, ...      0   \n",
       "\n",
       "      sentiment                                          embedding  \n",
       "15879  positive  [-0.06689286231994629, 0.016767103224992752, -...  \n",
       "31145   neutral  [-0.015102826058864594, -0.027292301878333092,...  \n",
       "4767    neutral  [-0.005056086461991072, 0.0288715660572052, -0...  \n",
       "17575  positive  [-0.010813377797603607, -0.010639999993145466,...  \n",
       "17694   neutral  [0.013380270451307297, 0.04944470524787903, 0....  \n",
       "14928  negative  [-0.015006864443421364, 0.03168737143278122, 0...  \n",
       "28896   neutral  [-0.05218508839607239, 0.08367354422807693, -0...  \n",
       "29235   neutral  [-0.005338672082871199, 0.05979635939002037, -...  \n",
       "17163  positive  [-0.018784314393997192, 0.05234287306666374, -...  \n",
       "22846  negative  [0.055107083171606064, -0.024561911821365356, ...  "
      ],
      "text/html": [
       "<div>\n",
       "<style scoped>\n",
       "    .dataframe tbody tr th:only-of-type {\n",
       "        vertical-align: middle;\n",
       "    }\n",
       "\n",
       "    .dataframe tbody tr th {\n",
       "        vertical-align: top;\n",
       "    }\n",
       "\n",
       "    .dataframe thead th {\n",
       "        text-align: right;\n",
       "    }\n",
       "</style>\n",
       "<table border=\"1\" class=\"dataframe\">\n",
       "  <thead>\n",
       "    <tr style=\"text-align: right;\">\n",
       "      <th></th>\n",
       "      <th>id</th>\n",
       "      <th>text</th>\n",
       "      <th>label</th>\n",
       "      <th>sentiment</th>\n",
       "      <th>embedding</th>\n",
       "    </tr>\n",
       "  </thead>\n",
       "  <tbody>\n",
       "    <tr>\n",
       "      <th>15879</th>\n",
       "      <td>23964</td>\n",
       "      <td>Happy moms day</td>\n",
       "      <td>2</td>\n",
       "      <td>positive</td>\n",
       "      <td>[-0.06689286231994629, 0.016767103224992752, -...</td>\n",
       "    </tr>\n",
       "    <tr>\n",
       "      <th>31145</th>\n",
       "      <td>6699</td>\n",
       "      <td>Seems like a good idea but the widget is invis...</td>\n",
       "      <td>1</td>\n",
       "      <td>neutral</td>\n",
       "      <td>[-0.015102826058864594, -0.027292301878333092,...</td>\n",
       "    </tr>\n",
       "    <tr>\n",
       "      <th>4767</th>\n",
       "      <td>26763</td>\n",
       "      <td>flo can spell antidisestablishmentarianism of...</td>\n",
       "      <td>1</td>\n",
       "      <td>neutral</td>\n",
       "      <td>[-0.005056086461991072, 0.0288715660572052, -0...</td>\n",
       "    </tr>\n",
       "    <tr>\n",
       "      <th>17575</th>\n",
       "      <td>18717</td>\n",
       "      <td>I got the ticket dismissed</td>\n",
       "      <td>2</td>\n",
       "      <td>positive</td>\n",
       "      <td>[-0.010813377797603607, -0.010639999993145466,...</td>\n",
       "    </tr>\n",
       "    <tr>\n",
       "      <th>17694</th>\n",
       "      <td>9260</td>\n",
       "      <td>_coza  Yep. Live and learn</td>\n",
       "      <td>1</td>\n",
       "      <td>neutral</td>\n",
       "      <td>[0.013380270451307297, 0.04944470524787903, 0....</td>\n",
       "    </tr>\n",
       "    <tr>\n",
       "      <th>14928</th>\n",
       "      <td>16652</td>\n",
       "      <td>I was thinking there should be a thumbs down ...</td>\n",
       "      <td>0</td>\n",
       "      <td>negative</td>\n",
       "      <td>[-0.015006864443421364, 0.03168737143278122, 0...</td>\n",
       "    </tr>\n",
       "    <tr>\n",
       "      <th>28896</th>\n",
       "      <td>14566</td>\n",
       "      <td>if you could get down to easton, you could jo...</td>\n",
       "      <td>1</td>\n",
       "      <td>neutral</td>\n",
       "      <td>[-0.05218508839607239, 0.08367354422807693, -0...</td>\n",
       "    </tr>\n",
       "    <tr>\n",
       "      <th>29235</th>\n",
       "      <td>3713</td>\n",
       "      <td>haha Mon...Do you really want me too send it?</td>\n",
       "      <td>1</td>\n",
       "      <td>neutral</td>\n",
       "      <td>[-0.005338672082871199, 0.05979635939002037, -...</td>\n",
       "    </tr>\n",
       "    <tr>\n",
       "      <th>17163</th>\n",
       "      <td>19706</td>\n",
       "      <td>So far (with the exception of the rain), my m...</td>\n",
       "      <td>2</td>\n",
       "      <td>positive</td>\n",
       "      <td>[-0.018784314393997192, 0.05234287306666374, -...</td>\n",
       "    </tr>\n",
       "    <tr>\n",
       "      <th>22846</th>\n",
       "      <td>20874</td>\n",
       "      <td>trying to upload a custom background on here, ...</td>\n",
       "      <td>0</td>\n",
       "      <td>negative</td>\n",
       "      <td>[0.055107083171606064, -0.024561911821365356, ...</td>\n",
       "    </tr>\n",
       "  </tbody>\n",
       "</table>\n",
       "</div>"
      ]
     },
     "execution_count": 39,
     "metadata": {},
     "output_type": "execute_result"
    }
   ],
   "execution_count": 39
  },
  {
   "metadata": {
    "ExecuteTime": {
     "end_time": "2024-11-26T08:40:29.046433Z",
     "start_time": "2024-11-26T08:40:29.030799Z"
    }
   },
   "cell_type": "code",
   "source": "len(df[\"embedding\"].values[0])",
   "id": "c439e1de9871c723",
   "outputs": [
    {
     "data": {
      "text/plain": [
       "768"
      ]
     },
     "execution_count": 43,
     "metadata": {},
     "output_type": "execute_result"
    }
   ],
   "execution_count": 43
  }
 ],
 "metadata": {
  "kernelspec": {
   "display_name": "Python 3",
   "language": "python",
   "name": "python3"
  },
  "language_info": {
   "codemirror_mode": {
    "name": "ipython",
    "version": 2
   },
   "file_extension": ".py",
   "mimetype": "text/x-python",
   "name": "python",
   "nbconvert_exporter": "python",
   "pygments_lexer": "ipython2",
   "version": "2.7.6"
  }
 },
 "nbformat": 4,
 "nbformat_minor": 5
}
