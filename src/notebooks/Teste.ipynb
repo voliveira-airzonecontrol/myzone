{
 "cells": [
  {
   "cell_type": "code",
   "id": "initial_id",
   "metadata": {
    "collapsed": true,
    "ExecuteTime": {
     "end_time": "2024-11-15T07:00:22.173804Z",
     "start_time": "2024-11-15T07:00:20.083632Z"
    }
   },
   "source": [
    "import pandas as pd\n",
    "from src.utils import load_data, load_config"
   ],
   "outputs": [],
   "execution_count": 1
  },
  {
   "metadata": {
    "ExecuteTime": {
     "end_time": "2024-11-15T07:01:25.057571Z",
     "start_time": "2024-11-15T07:01:25.019946Z"
    }
   },
   "cell_type": "code",
   "source": [
    "config = load_config(\n",
    "    file_name='processing_config', \n",
    "    env='prod',\n",
    "    folder='../../config'\n",
    ")"
   ],
   "id": "33790995b9e6e638",
   "outputs": [],
   "execution_count": 2
  },
  {
   "metadata": {
    "ExecuteTime": {
     "end_time": "2024-11-15T07:01:39.590180Z",
     "start_time": "2024-11-15T07:01:39.060136Z"
    }
   },
   "cell_type": "code",
   "source": [
    "df = load_data(\n",
    "    data_path='../../output_data/prod/corpus.csv',\n",
    "    step_config=config.processing['corpus']\n",
    ")"
   ],
   "id": "bccd315edb9abd",
   "outputs": [],
   "execution_count": 3
  },
  {
   "metadata": {
    "ExecuteTime": {
     "end_time": "2024-11-15T07:01:40.538084Z",
     "start_time": "2024-11-15T07:01:40.519892Z"
    }
   },
   "cell_type": "code",
   "source": "df.shape",
   "id": "75f2b47e209728f9",
   "outputs": [
    {
     "data": {
      "text/plain": [
       "(177740, 2)"
      ]
     },
     "execution_count": 4,
     "metadata": {},
     "output_type": "execute_result"
    }
   ],
   "execution_count": 4
  },
  {
   "metadata": {
    "ExecuteTime": {
     "end_time": "2024-11-15T07:01:42.581173Z",
     "start_time": "2024-11-15T07:01:42.550119Z"
    }
   },
   "cell_type": "code",
   "source": "df.sample(1000)",
   "id": "5b1fcd3e786bc4a6",
   "outputs": [
    {
     "data": {
      "text/plain": [
       "                                          text_to_analyse language\n",
       "124570  Caso queira ativ á-la, defina a l ógica do con...       pt\n",
       "22003   1) No luce el LED  de alimentación de la pasar...       es\n",
       "85254   Verifique os LEDs (consulte o secção \\nde Auto...       pt\n",
       "150254  Si hay un cortocircuito en la entrada de la so...       es\n",
       "88482   • Los dispositivos: Indica los elementos conec...       es\n",
       "...                                                   ...      ...\n",
       "56934   En calor combinado , el equip o de aire trabaj...       es\n",
       "110583  • Leitura de temperatura ambiente e humidade r...       pt\n",
       "5344    No funciona actuador Módulo de zona de cables ...       es\n",
       "10449   EXPEDIENTE 231103125 SISTEMA CENTRAL AIRZONE F...       es\n",
       "130252  Überprüfen Sie die LEDs des Gateways (Siehe ab...       es\n",
       "\n",
       "[1000 rows x 2 columns]"
      ],
      "text/html": [
       "<div>\n",
       "<style scoped>\n",
       "    .dataframe tbody tr th:only-of-type {\n",
       "        vertical-align: middle;\n",
       "    }\n",
       "\n",
       "    .dataframe tbody tr th {\n",
       "        vertical-align: top;\n",
       "    }\n",
       "\n",
       "    .dataframe thead th {\n",
       "        text-align: right;\n",
       "    }\n",
       "</style>\n",
       "<table border=\"1\" class=\"dataframe\">\n",
       "  <thead>\n",
       "    <tr style=\"text-align: right;\">\n",
       "      <th></th>\n",
       "      <th>text_to_analyse</th>\n",
       "      <th>language</th>\n",
       "    </tr>\n",
       "  </thead>\n",
       "  <tbody>\n",
       "    <tr>\n",
       "      <th>124570</th>\n",
       "      <td>Caso queira ativ á-la, defina a l ógica do con...</td>\n",
       "      <td>pt</td>\n",
       "    </tr>\n",
       "    <tr>\n",
       "      <th>22003</th>\n",
       "      <td>1) No luce el LED  de alimentación de la pasar...</td>\n",
       "      <td>es</td>\n",
       "    </tr>\n",
       "    <tr>\n",
       "      <th>85254</th>\n",
       "      <td>Verifique os LEDs (consulte o secção \\nde Auto...</td>\n",
       "      <td>pt</td>\n",
       "    </tr>\n",
       "    <tr>\n",
       "      <th>150254</th>\n",
       "      <td>Si hay un cortocircuito en la entrada de la so...</td>\n",
       "      <td>es</td>\n",
       "    </tr>\n",
       "    <tr>\n",
       "      <th>88482</th>\n",
       "      <td>• Los dispositivos: Indica los elementos conec...</td>\n",
       "      <td>es</td>\n",
       "    </tr>\n",
       "    <tr>\n",
       "      <th>...</th>\n",
       "      <td>...</td>\n",
       "      <td>...</td>\n",
       "    </tr>\n",
       "    <tr>\n",
       "      <th>56934</th>\n",
       "      <td>En calor combinado , el equip o de aire trabaj...</td>\n",
       "      <td>es</td>\n",
       "    </tr>\n",
       "    <tr>\n",
       "      <th>110583</th>\n",
       "      <td>• Leitura de temperatura ambiente e humidade r...</td>\n",
       "      <td>pt</td>\n",
       "    </tr>\n",
       "    <tr>\n",
       "      <th>5344</th>\n",
       "      <td>No funciona actuador Módulo de zona de cables ...</td>\n",
       "      <td>es</td>\n",
       "    </tr>\n",
       "    <tr>\n",
       "      <th>10449</th>\n",
       "      <td>EXPEDIENTE 231103125 SISTEMA CENTRAL AIRZONE F...</td>\n",
       "      <td>es</td>\n",
       "    </tr>\n",
       "    <tr>\n",
       "      <th>130252</th>\n",
       "      <td>Überprüfen Sie die LEDs des Gateways (Siehe ab...</td>\n",
       "      <td>es</td>\n",
       "    </tr>\n",
       "  </tbody>\n",
       "</table>\n",
       "<p>1000 rows × 2 columns</p>\n",
       "</div>"
      ]
     },
     "execution_count": 5,
     "metadata": {},
     "output_type": "execute_result"
    }
   ],
   "execution_count": 5
  },
  {
   "metadata": {
    "ExecuteTime": {
     "end_time": "2024-11-15T07:04:49.346899Z",
     "start_time": "2024-11-15T07:04:48.593541Z"
    }
   },
   "cell_type": "code",
   "source": "old_corpus = pd.read_csv(\"../../DATA/processed/2024-05-15/corpus_spanish.csv\", sep=\"¬\", engine='python')",
   "id": "4e18e1816e1612d7",
   "outputs": [],
   "execution_count": 11
  },
  {
   "metadata": {
    "ExecuteTime": {
     "end_time": "2024-11-15T07:04:50.229178Z",
     "start_time": "2024-11-15T07:04:50.207929Z"
    }
   },
   "cell_type": "code",
   "source": "old_corpus.shape",
   "id": "106a4694187ee896",
   "outputs": [
    {
     "data": {
      "text/plain": [
       "(181629, 2)"
      ]
     },
     "execution_count": 12,
     "metadata": {},
     "output_type": "execute_result"
    }
   ],
   "execution_count": 12
  },
  {
   "metadata": {
    "ExecuteTime": {
     "end_time": "2024-11-15T07:04:50.936360Z",
     "start_time": "2024-11-15T07:04:50.913756Z"
    }
   },
   "cell_type": "code",
   "source": "df.shape[0] - old_corpus.shape[0]",
   "id": "6a843dcf20c58263",
   "outputs": [
    {
     "data": {
      "text/plain": [
       "-3889"
      ]
     },
     "execution_count": 13,
     "metadata": {},
     "output_type": "execute_result"
    }
   ],
   "execution_count": 13
  },
  {
   "metadata": {},
   "cell_type": "code",
   "outputs": [],
   "execution_count": null,
   "source": "",
   "id": "35bb3b093f180908"
  }
 ],
 "metadata": {
  "kernelspec": {
   "display_name": "Python 3",
   "language": "python",
   "name": "python3"
  },
  "language_info": {
   "codemirror_mode": {
    "name": "ipython",
    "version": 2
   },
   "file_extension": ".py",
   "mimetype": "text/x-python",
   "name": "python",
   "nbconvert_exporter": "python",
   "pygments_lexer": "ipython2",
   "version": "2.7.6"
  }
 },
 "nbformat": 4,
 "nbformat_minor": 5
}
