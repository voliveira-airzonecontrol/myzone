{
 "cells": [
  {
   "cell_type": "code",
   "id": "initial_id",
   "metadata": {
    "collapsed": true,
    "ExecuteTime": {
     "end_time": "2024-11-11T09:48:50.055844Z",
     "start_time": "2024-11-11T09:48:47.828719Z"
    }
   },
   "source": "import pandas as pd",
   "outputs": [],
   "execution_count": 1
  },
  {
   "metadata": {
    "ExecuteTime": {
     "end_time": "2024-11-11T14:42:11.758692Z",
     "start_time": "2024-11-11T14:42:11.680208Z"
    }
   },
   "cell_type": "code",
   "source": "df = pd.read_csv(\"../../output_data/prod/desc_problema_translated.csv\")",
   "id": "bccd315edb9abd",
   "outputs": [],
   "execution_count": 11
  },
  {
   "metadata": {
    "ExecuteTime": {
     "end_time": "2024-11-11T14:43:39.727407Z",
     "start_time": "2024-11-11T14:43:39.697435Z"
    }
   },
   "cell_type": "code",
   "source": "df.sample(10)",
   "id": "a4d53a3b5875a88a",
   "outputs": [
    {
     "data": {
      "text/plain": [
       "                                           desc_problema  \\\n",
       "5380                NUMERO HOT LINE INTERCLIMA SL. 22190   \n",
       "9235   RAJOUT D\\'UN WEBSERVEUR AFIN D\\'EFFECTUER UNE ...   \n",
       "1270                                CF DOSSIER SAV 16748   \n",
       "3237              AZCE6BLUEFACECB\\r\\nVUE AVEC LA HOTLINE   \n",
       "17411  Problème de communication le jour de la mise e...   \n",
       "18698                                        N°240600185   \n",
       "4053   Demande de garantie pour AZCE6IBPRO6 - platine...   \n",
       "4072   Pour un de nos clients : PASCAL BERNARD\\r\\nLa ...   \n",
       "3768                                        DOSSIER 2342   \n",
       "7831          TERMOSTATO CON PANTALLA NEGRA, S/N F00EZJB   \n",
       "\n",
       "                                desc_problema_translated  \n",
       "5380                NÚMERO HOT LINE INTERCLIMA SL. 22190  \n",
       "9235   AÑADIR UN SERVIDOR WEB PARA REALIZAR UNA ACTUA...  \n",
       "1270                             EXPEDIENTE CF SAV 16748  \n",
       "3237        AZCE6BLUEFACECCB\\r\\nVER CON LA LÍNEA DIRECTA  \n",
       "17411  Problema de comunicación el día de la puesta e...  \n",
       "18698                                        N°240600185  \n",
       "4053   Solicitud de garantía para AZCE6IBPRO6 - Tocad...  \n",
       "4072   Para uno de nuestros clientes: PASCAL BERNARD\\...  \n",
       "3768                                     EXPEDIENTE 2342  \n",
       "7831             TERMOSTATO CON PANEL NEGRO, S/N F00EZJB  "
      ],
      "text/html": [
       "<div>\n",
       "<style scoped>\n",
       "    .dataframe tbody tr th:only-of-type {\n",
       "        vertical-align: middle;\n",
       "    }\n",
       "\n",
       "    .dataframe tbody tr th {\n",
       "        vertical-align: top;\n",
       "    }\n",
       "\n",
       "    .dataframe thead th {\n",
       "        text-align: right;\n",
       "    }\n",
       "</style>\n",
       "<table border=\"1\" class=\"dataframe\">\n",
       "  <thead>\n",
       "    <tr style=\"text-align: right;\">\n",
       "      <th></th>\n",
       "      <th>desc_problema</th>\n",
       "      <th>desc_problema_translated</th>\n",
       "    </tr>\n",
       "  </thead>\n",
       "  <tbody>\n",
       "    <tr>\n",
       "      <th>5380</th>\n",
       "      <td>NUMERO HOT LINE INTERCLIMA SL. 22190</td>\n",
       "      <td>NÚMERO HOT LINE INTERCLIMA SL. 22190</td>\n",
       "    </tr>\n",
       "    <tr>\n",
       "      <th>9235</th>\n",
       "      <td>RAJOUT D\\'UN WEBSERVEUR AFIN D\\'EFFECTUER UNE ...</td>\n",
       "      <td>AÑADIR UN SERVIDOR WEB PARA REALIZAR UNA ACTUA...</td>\n",
       "    </tr>\n",
       "    <tr>\n",
       "      <th>1270</th>\n",
       "      <td>CF DOSSIER SAV 16748</td>\n",
       "      <td>EXPEDIENTE CF SAV 16748</td>\n",
       "    </tr>\n",
       "    <tr>\n",
       "      <th>3237</th>\n",
       "      <td>AZCE6BLUEFACECB\\r\\nVUE AVEC LA HOTLINE</td>\n",
       "      <td>AZCE6BLUEFACECCB\\r\\nVER CON LA LÍNEA DIRECTA</td>\n",
       "    </tr>\n",
       "    <tr>\n",
       "      <th>17411</th>\n",
       "      <td>Problème de communication le jour de la mise e...</td>\n",
       "      <td>Problema de comunicación el día de la puesta e...</td>\n",
       "    </tr>\n",
       "    <tr>\n",
       "      <th>18698</th>\n",
       "      <td>N°240600185</td>\n",
       "      <td>N°240600185</td>\n",
       "    </tr>\n",
       "    <tr>\n",
       "      <th>4053</th>\n",
       "      <td>Demande de garantie pour AZCE6IBPRO6 - platine...</td>\n",
       "      <td>Solicitud de garantía para AZCE6IBPRO6 - Tocad...</td>\n",
       "    </tr>\n",
       "    <tr>\n",
       "      <th>4072</th>\n",
       "      <td>Pour un de nos clients : PASCAL BERNARD\\r\\nLa ...</td>\n",
       "      <td>Para uno de nuestros clientes: PASCAL BERNARD\\...</td>\n",
       "    </tr>\n",
       "    <tr>\n",
       "      <th>3768</th>\n",
       "      <td>DOSSIER 2342</td>\n",
       "      <td>EXPEDIENTE 2342</td>\n",
       "    </tr>\n",
       "    <tr>\n",
       "      <th>7831</th>\n",
       "      <td>TERMOSTATO CON PANTALLA NEGRA, S/N F00EZJB</td>\n",
       "      <td>TERMOSTATO CON PANEL NEGRO, S/N F00EZJB</td>\n",
       "    </tr>\n",
       "  </tbody>\n",
       "</table>\n",
       "</div>"
      ]
     },
     "execution_count": 15,
     "metadata": {},
     "output_type": "execute_result"
    }
   ],
   "execution_count": 15
  },
  {
   "metadata": {
    "ExecuteTime": {
     "end_time": "2024-11-11T14:42:15.917815Z",
     "start_time": "2024-11-11T14:42:15.902598Z"
    }
   },
   "cell_type": "code",
   "source": "df.dtypes",
   "id": "8ca5375d907f2149",
   "outputs": [
    {
     "data": {
      "text/plain": [
       "desc_problema               object\n",
       "desc_problema_translated    object\n",
       "dtype: object"
      ]
     },
     "execution_count": 13,
     "metadata": {},
     "output_type": "execute_result"
    }
   ],
   "execution_count": 13
  },
  {
   "metadata": {
    "ExecuteTime": {
     "end_time": "2024-11-11T14:42:30.157035Z",
     "start_time": "2024-11-11T14:42:30.141441Z"
    }
   },
   "cell_type": "code",
   "source": "df.shape",
   "id": "d9b93fc80e599f89",
   "outputs": [
    {
     "data": {
      "text/plain": [
       "(21003, 2)"
      ]
     },
     "execution_count": 14,
     "metadata": {},
     "output_type": "execute_result"
    }
   ],
   "execution_count": 14
  }
 ],
 "metadata": {
  "kernelspec": {
   "display_name": "Python 3",
   "language": "python",
   "name": "python3"
  },
  "language_info": {
   "codemirror_mode": {
    "name": "ipython",
    "version": 2
   },
   "file_extension": ".py",
   "mimetype": "text/x-python",
   "name": "python",
   "nbconvert_exporter": "python",
   "pygments_lexer": "ipython2",
   "version": "2.7.6"
  }
 },
 "nbformat": 4,
 "nbformat_minor": 5
}
