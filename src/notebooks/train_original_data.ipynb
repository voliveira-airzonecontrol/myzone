{
 "cells": [
  {
   "cell_type": "code",
   "id": "initial_id",
   "metadata": {
    "collapsed": true,
    "ExecuteTime": {
     "end_time": "2025-01-30T07:05:59.351995Z",
     "start_time": "2025-01-30T07:05:44.870127Z"
    }
   },
   "source": [
    "from src.training.model import TransformerClassifier\n",
    "import pandas as pd\n",
    "\n",
    "from sklearn.model_selection import train_test_split\n",
    "from src.utils import load_config"
   ],
   "outputs": [],
   "execution_count": 1
  },
  {
   "metadata": {
    "ExecuteTime": {
     "end_time": "2025-01-30T07:05:59.370530Z",
     "start_time": "2025-01-30T07:05:59.351995Z"
    }
   },
   "cell_type": "code",
   "source": [
    "# Load config\n",
    "env = \"prod\"\n",
    "model_type = \"BERT\"\n",
    "\n",
    "training_config = load_config(\n",
    "    file_name=\"training_config\", env=env, folder=\"../../config\"\n",
    ")"
   ],
   "id": "681ab5f6b1268923",
   "outputs": [],
   "execution_count": 2
  },
  {
   "metadata": {},
   "cell_type": "markdown",
   "source": "# Load the data",
   "id": "be87678035bd11ff"
  },
  {
   "metadata": {
    "ExecuteTime": {
     "end_time": "2025-01-30T07:05:59.753723Z",
     "start_time": "2025-01-30T07:05:59.370530Z"
    }
   },
   "cell_type": "code",
   "source": "df = pd.read_parquet(\"../../output_data/prod/supervised_dataset.parquet\")",
   "id": "e097423704341bfa",
   "outputs": [],
   "execution_count": 3
  },
  {
   "metadata": {
    "ExecuteTime": {
     "end_time": "2025-01-30T07:07:22.781349Z",
     "start_time": "2025-01-30T07:07:22.778153Z"
    }
   },
   "cell_type": "code",
   "source": "X = df[[training_config.training[model_type].features, training_config.training[model_type].target]]",
   "id": "da3212e977ca8c93",
   "outputs": [],
   "execution_count": 11
  },
  {
   "metadata": {
    "ExecuteTime": {
     "end_time": "2025-01-30T07:07:25.383052Z",
     "start_time": "2025-01-30T07:07:25.369246Z"
    }
   },
   "cell_type": "code",
   "source": "num_labels = X[\"label\"].nunique()",
   "id": "3bb354cba1324704",
   "outputs": [],
   "execution_count": 12
  },
  {
   "metadata": {},
   "cell_type": "markdown",
   "source": "# Split the data",
   "id": "f6c89f3d1c362038"
  },
  {
   "metadata": {
    "ExecuteTime": {
     "end_time": "2025-01-30T07:07:26.781427Z",
     "start_time": "2025-01-30T07:07:26.003622Z"
    }
   },
   "cell_type": "code",
   "source": [
    "X_train, X_test, y_train, y_test = train_test_split(\n",
    "    # X.drop(columns=[training_config.training[model_type].target]),\n",
    "    X[training_config.training[model_type].features],\n",
    "    X[training_config.training[model_type].target],\n",
    "    test_size=training_config.training[model_type].test_size,\n",
    "    random_state=training_config.training.random_state,\n",
    "    stratify=X[training_config.training[model_type].target],\n",
    ")\n",
    "X_train, X_val, y_train, y_val = train_test_split(\n",
    "    X_train,\n",
    "    y_train,\n",
    "    test_size=training_config.training[model_type].val_size,\n",
    "    random_state=training_config.training.random_state,\n",
    "    stratify=y_train,\n",
    ")\n",
    "X_test, X_cp, y_test, y_cp = train_test_split(\n",
    "    X_test,\n",
    "    y_test,\n",
    "    test_size=training_config.training[model_type].cp_size,\n",
    "    random_state=training_config.training.random_state,\n",
    "    stratify=y_test,\n",
    ")"
   ],
   "id": "b483725b1b707ece",
   "outputs": [
    {
     "ename": "KeyError",
     "evalue": "'processed_text_to_analyse'",
     "output_type": "error",
     "traceback": [
      "\u001B[1;31m---------------------------------------------------------------------------\u001B[0m",
      "\u001B[1;31mKeyError\u001B[0m                                  Traceback (most recent call last)",
      "File \u001B[1;32m~\\OneDrive - Corporacion Empresarial Altra SL\\00-Proyectos\\myzone\\.venv\\Lib\\site-packages\\pandas\\core\\indexes\\base.py:3805\u001B[0m, in \u001B[0;36mIndex.get_loc\u001B[1;34m(self, key)\u001B[0m\n\u001B[0;32m   3804\u001B[0m \u001B[38;5;28;01mtry\u001B[39;00m:\n\u001B[1;32m-> 3805\u001B[0m     \u001B[38;5;28;01mreturn\u001B[39;00m \u001B[38;5;28;43mself\u001B[39;49m\u001B[38;5;241;43m.\u001B[39;49m\u001B[43m_engine\u001B[49m\u001B[38;5;241;43m.\u001B[39;49m\u001B[43mget_loc\u001B[49m\u001B[43m(\u001B[49m\u001B[43mcasted_key\u001B[49m\u001B[43m)\u001B[49m\n\u001B[0;32m   3806\u001B[0m \u001B[38;5;28;01mexcept\u001B[39;00m \u001B[38;5;167;01mKeyError\u001B[39;00m \u001B[38;5;28;01mas\u001B[39;00m err:\n",
      "File \u001B[1;32mindex.pyx:167\u001B[0m, in \u001B[0;36mpandas._libs.index.IndexEngine.get_loc\u001B[1;34m()\u001B[0m\n",
      "File \u001B[1;32mindex.pyx:196\u001B[0m, in \u001B[0;36mpandas._libs.index.IndexEngine.get_loc\u001B[1;34m()\u001B[0m\n",
      "File \u001B[1;32mpandas\\\\_libs\\\\hashtable_class_helper.pxi:7081\u001B[0m, in \u001B[0;36mpandas._libs.hashtable.PyObjectHashTable.get_item\u001B[1;34m()\u001B[0m\n",
      "File \u001B[1;32mpandas\\\\_libs\\\\hashtable_class_helper.pxi:7089\u001B[0m, in \u001B[0;36mpandas._libs.hashtable.PyObjectHashTable.get_item\u001B[1;34m()\u001B[0m\n",
      "\u001B[1;31mKeyError\u001B[0m: 'processed_text_to_analyse'",
      "\nThe above exception was the direct cause of the following exception:\n",
      "\u001B[1;31mKeyError\u001B[0m                                  Traceback (most recent call last)",
      "Cell \u001B[1;32mIn[13], line 3\u001B[0m\n\u001B[0;32m      1\u001B[0m X_train, X_test, y_train, y_test \u001B[38;5;241m=\u001B[39m train_test_split(\n\u001B[0;32m      2\u001B[0m     \u001B[38;5;66;03m# X.drop(columns=[training_config.training[model_type].target]),\u001B[39;00m\n\u001B[1;32m----> 3\u001B[0m     \u001B[43mX\u001B[49m\u001B[43m[\u001B[49m\u001B[43mtraining_config\u001B[49m\u001B[38;5;241;43m.\u001B[39;49m\u001B[43mtraining\u001B[49m\u001B[43m[\u001B[49m\u001B[43mmodel_type\u001B[49m\u001B[43m]\u001B[49m\u001B[38;5;241;43m.\u001B[39;49m\u001B[43mfeatures\u001B[49m\u001B[43m]\u001B[49m,\n\u001B[0;32m      4\u001B[0m     X[training_config\u001B[38;5;241m.\u001B[39mtraining[model_type]\u001B[38;5;241m.\u001B[39mtarget],\n\u001B[0;32m      5\u001B[0m     test_size\u001B[38;5;241m=\u001B[39mtraining_config\u001B[38;5;241m.\u001B[39mtraining[model_type]\u001B[38;5;241m.\u001B[39mtest_size,\n\u001B[0;32m      6\u001B[0m     random_state\u001B[38;5;241m=\u001B[39mtraining_config\u001B[38;5;241m.\u001B[39mtraining\u001B[38;5;241m.\u001B[39mrandom_state,\n\u001B[0;32m      7\u001B[0m     stratify\u001B[38;5;241m=\u001B[39mX[training_config\u001B[38;5;241m.\u001B[39mtraining[model_type]\u001B[38;5;241m.\u001B[39mtarget],\n\u001B[0;32m      8\u001B[0m )\n\u001B[0;32m      9\u001B[0m X_train, X_val, y_train, y_val \u001B[38;5;241m=\u001B[39m train_test_split(\n\u001B[0;32m     10\u001B[0m     X_train,\n\u001B[0;32m     11\u001B[0m     y_train,\n\u001B[1;32m   (...)\u001B[0m\n\u001B[0;32m     14\u001B[0m     stratify\u001B[38;5;241m=\u001B[39my_train,\n\u001B[0;32m     15\u001B[0m )\n\u001B[0;32m     16\u001B[0m X_test, X_cp, y_test, y_cp \u001B[38;5;241m=\u001B[39m train_test_split(\n\u001B[0;32m     17\u001B[0m     X_test,\n\u001B[0;32m     18\u001B[0m     y_test,\n\u001B[1;32m   (...)\u001B[0m\n\u001B[0;32m     21\u001B[0m     stratify\u001B[38;5;241m=\u001B[39my_test,\n\u001B[0;32m     22\u001B[0m )\n",
      "File \u001B[1;32m~\\OneDrive - Corporacion Empresarial Altra SL\\00-Proyectos\\myzone\\.venv\\Lib\\site-packages\\pandas\\core\\frame.py:4102\u001B[0m, in \u001B[0;36mDataFrame.__getitem__\u001B[1;34m(self, key)\u001B[0m\n\u001B[0;32m   4100\u001B[0m \u001B[38;5;28;01mif\u001B[39;00m \u001B[38;5;28mself\u001B[39m\u001B[38;5;241m.\u001B[39mcolumns\u001B[38;5;241m.\u001B[39mnlevels \u001B[38;5;241m>\u001B[39m \u001B[38;5;241m1\u001B[39m:\n\u001B[0;32m   4101\u001B[0m     \u001B[38;5;28;01mreturn\u001B[39;00m \u001B[38;5;28mself\u001B[39m\u001B[38;5;241m.\u001B[39m_getitem_multilevel(key)\n\u001B[1;32m-> 4102\u001B[0m indexer \u001B[38;5;241m=\u001B[39m \u001B[38;5;28;43mself\u001B[39;49m\u001B[38;5;241;43m.\u001B[39;49m\u001B[43mcolumns\u001B[49m\u001B[38;5;241;43m.\u001B[39;49m\u001B[43mget_loc\u001B[49m\u001B[43m(\u001B[49m\u001B[43mkey\u001B[49m\u001B[43m)\u001B[49m\n\u001B[0;32m   4103\u001B[0m \u001B[38;5;28;01mif\u001B[39;00m is_integer(indexer):\n\u001B[0;32m   4104\u001B[0m     indexer \u001B[38;5;241m=\u001B[39m [indexer]\n",
      "File \u001B[1;32m~\\OneDrive - Corporacion Empresarial Altra SL\\00-Proyectos\\myzone\\.venv\\Lib\\site-packages\\pandas\\core\\indexes\\base.py:3812\u001B[0m, in \u001B[0;36mIndex.get_loc\u001B[1;34m(self, key)\u001B[0m\n\u001B[0;32m   3807\u001B[0m     \u001B[38;5;28;01mif\u001B[39;00m \u001B[38;5;28misinstance\u001B[39m(casted_key, \u001B[38;5;28mslice\u001B[39m) \u001B[38;5;129;01mor\u001B[39;00m (\n\u001B[0;32m   3808\u001B[0m         \u001B[38;5;28misinstance\u001B[39m(casted_key, abc\u001B[38;5;241m.\u001B[39mIterable)\n\u001B[0;32m   3809\u001B[0m         \u001B[38;5;129;01mand\u001B[39;00m \u001B[38;5;28many\u001B[39m(\u001B[38;5;28misinstance\u001B[39m(x, \u001B[38;5;28mslice\u001B[39m) \u001B[38;5;28;01mfor\u001B[39;00m x \u001B[38;5;129;01min\u001B[39;00m casted_key)\n\u001B[0;32m   3810\u001B[0m     ):\n\u001B[0;32m   3811\u001B[0m         \u001B[38;5;28;01mraise\u001B[39;00m InvalidIndexError(key)\n\u001B[1;32m-> 3812\u001B[0m     \u001B[38;5;28;01mraise\u001B[39;00m \u001B[38;5;167;01mKeyError\u001B[39;00m(key) \u001B[38;5;28;01mfrom\u001B[39;00m \u001B[38;5;21;01merr\u001B[39;00m\n\u001B[0;32m   3813\u001B[0m \u001B[38;5;28;01mexcept\u001B[39;00m \u001B[38;5;167;01mTypeError\u001B[39;00m:\n\u001B[0;32m   3814\u001B[0m     \u001B[38;5;66;03m# If we have a listlike key, _check_indexing_error will raise\u001B[39;00m\n\u001B[0;32m   3815\u001B[0m     \u001B[38;5;66;03m#  InvalidIndexError. Otherwise we fall through and re-raise\u001B[39;00m\n\u001B[0;32m   3816\u001B[0m     \u001B[38;5;66;03m#  the TypeError.\u001B[39;00m\n\u001B[0;32m   3817\u001B[0m     \u001B[38;5;28mself\u001B[39m\u001B[38;5;241m.\u001B[39m_check_indexing_error(key)\n",
      "\u001B[1;31mKeyError\u001B[0m: 'processed_text_to_analyse'"
     ]
    }
   ],
   "execution_count": 13
  },
  {
   "metadata": {},
   "cell_type": "code",
   "source": [
    "# Upsample the minority class\n",
    "from sklearn.utils import resample\n",
    "\n",
    "X_upsampled = X_train.copy().to_frame()\n",
    "X_upsampled[training_config.training[model_type].target] = y_train\n",
    "\n",
    "# Separate majority and minority classes\n",
    "df_majority = X_upsampled[X_upsampled[training_config.training[model_type].target] == 0]\n",
    "df_minority = X_upsampled[X_upsampled[training_config.training[model_type].target] == 1]\n",
    "\n",
    "# Upsample minority class\n",
    "df_minority_upsampled = resample(\n",
    "    df_minority,\n",
    "    replace=True,\n",
    "    n_samples=df_majority.shape[0],\n",
    "    random_state=42,\n",
    ")\n",
    "\n",
    "# Combine majority class with upsampled minority class\n",
    "df_upsampled = pd.concat([df_majority, df_minority_upsampled])\n",
    "\n",
    "# Display new class counts\n",
    "X_train = df_upsampled[training_config.training[model_type].features]\n",
    "y_train = df_upsampled[training_config.training[model_type].target]"
   ],
   "id": "878fbf8466385bae",
   "outputs": [],
   "execution_count": null
  },
  {
   "metadata": {},
   "cell_type": "markdown",
   "source": "# Train the model",
   "id": "f17805ad88dfddb3"
  },
  {
   "metadata": {
    "ExecuteTime": {
     "end_time": "2025-01-30T07:07:31.516841Z",
     "start_time": "2025-01-30T07:07:29.341100Z"
    }
   },
   "cell_type": "code",
   "source": [
    "clf = TransformerClassifier(\n",
    "    model_name=\"dtorber/bert-base-spanish-wwm-cased_K4\",\n",
    "    num_labels=num_labels,\n",
    ")"
   ],
   "id": "6dc9a498e7cb5564",
   "outputs": [],
   "execution_count": 14
  },
  {
   "metadata": {
    "ExecuteTime": {
     "end_time": "2025-01-30T11:11:36.632479Z",
     "start_time": "2025-01-30T07:07:40.838343Z"
    }
   },
   "cell_type": "code",
   "source": [
    "clf = clf.fit(\n",
    "    X=X_train,\n",
    "    y=y_train,\n",
    "    eval_X=X_val,\n",
    "    eval_y=y_val,\n",
    "    learning_rate=2e-5,\n",
    "    num_train_epochs=10,\n",
    "    per_device_train_batch_size=16,\n",
    "    per_device_eval_batch_size=16,\n",
    "    early_stopping_patience=2,\n",
    "    # freeze_layers_prefix=[\"bert.embeddings\", \"bert.encoder\"],\n",
    "    # freeze_layers_prefix=[\"bert.embeddings\"] + [f\"bert.encoder.layer.{i}\" for i in range(1, 9)],\n",
    ")"
   ],
   "id": "fe30d85ed05840e4",
   "outputs": [
    {
     "data": {
      "text/plain": [
       "<IPython.core.display.HTML object>"
      ],
      "text/html": [
       "\n",
       "    <div>\n",
       "      \n",
       "      <progress value='315' max='630' style='width:300px; height:20px; vertical-align: middle;'></progress>\n",
       "      [315/630 4:03:17 < 4:04:51, 0.02 it/s, Epoch 5/10]\n",
       "    </div>\n",
       "    <table border=\"1\" class=\"dataframe\">\n",
       "  <thead>\n",
       " <tr style=\"text-align: left;\">\n",
       "      <th>Epoch</th>\n",
       "      <th>Training Loss</th>\n",
       "      <th>Validation Loss</th>\n",
       "    </tr>\n",
       "  </thead>\n",
       "  <tbody>\n",
       "    <tr>\n",
       "      <td>1</td>\n",
       "      <td>0.261400</td>\n",
       "      <td>0.294519</td>\n",
       "    </tr>\n",
       "    <tr>\n",
       "      <td>2</td>\n",
       "      <td>0.202100</td>\n",
       "      <td>0.233575</td>\n",
       "    </tr>\n",
       "    <tr>\n",
       "      <td>3</td>\n",
       "      <td>0.142900</td>\n",
       "      <td>0.172700</td>\n",
       "    </tr>\n",
       "    <tr>\n",
       "      <td>4</td>\n",
       "      <td>0.095300</td>\n",
       "      <td>0.264845</td>\n",
       "    </tr>\n",
       "    <tr>\n",
       "      <td>5</td>\n",
       "      <td>0.023300</td>\n",
       "      <td>0.273213</td>\n",
       "    </tr>\n",
       "  </tbody>\n",
       "</table><p>"
      ]
     },
     "metadata": {},
     "output_type": "display_data"
    }
   ],
   "execution_count": 15
  },
  {
   "metadata": {},
   "cell_type": "markdown",
   "source": "# Save the model",
   "id": "4a7fb5bb0bf8ed4a"
  },
  {
   "metadata": {
    "ExecuteTime": {
     "end_time": "2025-01-30T11:23:08.046915Z",
     "start_time": "2025-01-30T11:23:07.379708Z"
    }
   },
   "cell_type": "code",
   "source": [
    "clf.model.save_pretrained(\"../../output_models/prod/model_rawdata_1\")\n",
    "clf.tokenizer.save_pretrained(\"../../output_models/prod/model_rawdata_1\")"
   ],
   "id": "4de42eeb8c91fa9f",
   "outputs": [
    {
     "data": {
      "text/plain": [
       "('../../output_models/prod/model_rawdata_1\\\\tokenizer_config.json',\n",
       " '../../output_models/prod/model_rawdata_1\\\\special_tokens_map.json',\n",
       " '../../output_models/prod/model_rawdata_1\\\\vocab.txt',\n",
       " '../../output_models/prod/model_rawdata_1\\\\added_tokens.json',\n",
       " '../../output_models/prod/model_rawdata_1\\\\tokenizer.json')"
      ]
     },
     "execution_count": 16,
     "metadata": {},
     "output_type": "execute_result"
    }
   ],
   "execution_count": 16
  },
  {
   "metadata": {},
   "cell_type": "markdown",
   "source": "# Evaluate the model",
   "id": "688a887b4c15615"
  },
  {
   "metadata": {
    "ExecuteTime": {
     "end_time": "2025-01-30T11:23:14.472600Z",
     "start_time": "2025-01-30T11:23:13.473877Z"
    }
   },
   "cell_type": "code",
   "source": [
    "clf = TransformerClassifier(\n",
    "    model_name=None,\n",
    "    num_labels=num_labels,\n",
    "    local_model_path=\"../../output_models/prod/model_rawdata_1\",\n",
    ")"
   ],
   "id": "56a8a5d3d5fb50d4",
   "outputs": [],
   "execution_count": 17
  },
  {
   "metadata": {
    "ExecuteTime": {
     "end_time": "2025-01-30T11:26:17.246430Z",
     "start_time": "2025-01-30T11:23:16.615970Z"
    }
   },
   "cell_type": "code",
   "source": [
    "# Evaluate the model\n",
    "from sklearn.metrics import classification_report\n",
    "\n",
    "val_texts_list = X_test.tolist()  # Convert to a list if necessary\n",
    "predictions = clf.predict(val_texts_list)"
   ],
   "id": "6385c819e00d31fe",
   "outputs": [
    {
     "data": {
      "text/plain": [
       "<IPython.core.display.HTML object>"
      ],
      "text/html": []
     },
     "metadata": {},
     "output_type": "display_data"
    }
   ],
   "execution_count": 18
  },
  {
   "metadata": {
    "ExecuteTime": {
     "end_time": "2025-01-30T11:26:17.339557Z",
     "start_time": "2025-01-30T11:26:17.247466Z"
    }
   },
   "cell_type": "code",
   "source": "print(classification_report(y_test, predictions))",
   "id": "3bdd035962e3f1f5",
   "outputs": [
    {
     "name": "stdout",
     "output_type": "stream",
     "text": [
      "              precision    recall  f1-score   support\n",
      "\n",
      "           0       0.91      0.89      0.90        97\n",
      "           1       0.86      0.88      0.87        77\n",
      "\n",
      "    accuracy                           0.89       174\n",
      "   macro avg       0.88      0.88      0.88       174\n",
      "weighted avg       0.89      0.89      0.89       174\n",
      "\n"
     ]
    }
   ],
   "execution_count": 19
  },
  {
   "metadata": {
    "ExecuteTime": {
     "end_time": "2025-01-30T11:26:17.851365Z",
     "start_time": "2025-01-30T11:26:17.340562Z"
    }
   },
   "cell_type": "code",
   "source": [
    "# Print the confusion matrix\n",
    "from sklearn.metrics import confusion_matrix\n",
    "import seaborn as sns\n",
    "import matplotlib.pyplot as plt\n",
    "\n",
    "cm = confusion_matrix(y_test, predictions)\n",
    "fig = plt.figure(figsize=(10, 10))\n",
    "sns.heatmap(cm, annot=True, fmt=\"d\", cmap=\"Blues\")\n",
    "plt.xlabel(\"Predicted\")\n",
    "plt.ylabel(\"Actual\")\n",
    "plt.show()"
   ],
   "id": "6c8f67e4a69cebd8",
   "outputs": [
    {
     "data": {
      "text/plain": [
       "<Figure size 1000x1000 with 2 Axes>"
      ],
      "image/png": "[encoded data removed]"
     },
     "metadata": {},
     "output_type": "display_data"
    }
   ],
   "execution_count": 20
  },
  {
   "metadata": {},
   "cell_type": "code",
   "outputs": [],
   "execution_count": null,
   "source": "",
   "id": "6d11254135c021f1"
  }
 ],
 "metadata": {
  "kernelspec": {
   "display_name": "Python 3",
   "language": "python",
   "name": "python3"
  },
  "language_info": {
   "codemirror_mode": {
    "name": "ipython",
    "version": 2
   },
   "file_extension": ".py",
   "mimetype": "text/x-python",
   "name": "python",
   "nbconvert_exporter": "python",
   "pygments_lexer": "ipython2",
   "version": "2.7.6"
  }
 },
 "nbformat": 4,
 "nbformat_minor": 5
}
