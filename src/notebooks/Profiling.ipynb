{
 "cells": [
  {
   "cell_type": "code",
   "execution_count": 67,
   "id": "initial_id",
   "metadata": {
    "collapsed": true,
    "ExecuteTime": {
     "end_time": "2024-12-29T10:04:51.926990Z",
     "start_time": "2024-12-29T10:04:51.916098Z"
    }
   },
   "outputs": [],
   "source": [
    "import os\n",
    "import numpy as np\n",
    "import pandas as pd\n",
    "import matplotlib.pyplot as plt\n",
    "from typing import Optional\n",
    "from omegaconf import DictConfig\n",
    "from ydata_profiling import ProfileReport, compare\n",
    "\n",
    "%matplotlib inline\n",
    "\n",
    "from src.utils import load_data\n",
    "from src.utils import load_config"
   ]
  },
  {
   "cell_type": "code",
   "outputs": [],
   "source": [
    "env = \"prod\"\n",
    "model_type = \"XGBoost\""
   ],
   "metadata": {
    "collapsed": false,
    "ExecuteTime": {
     "end_time": "2024-12-29T09:11:15.047393Z",
     "start_time": "2024-12-29T09:11:15.043525Z"
    }
   },
   "id": "77df8288896321f7",
   "execution_count": 36
  },
  {
   "cell_type": "code",
   "outputs": [],
   "source": [
    "data_config = load_config(file_name=\"data_config\", env=env, folder=\"../../config\")\n",
    "processing_config = load_config(\n",
    "    file_name=\"processing_config\", env=env, folder=\"../../config\"\n",
    ")\n",
    "# training_config = load_config(file_name=\"training_config\", env=env, folder='../../config')"
   ],
   "metadata": {
    "collapsed": false,
    "ExecuteTime": {
     "end_time": "2024-12-29T09:11:16.098296Z",
     "start_time": "2024-12-29T09:11:15.975933Z"
    }
   },
   "id": "7ec6b1fa351fd19e",
   "execution_count": 37
  },
  {
   "cell_type": "markdown",
   "source": [
    "# Raw dataset"
   ],
   "metadata": {
    "collapsed": false
   },
   "id": "393f1ca7c9eb4128"
  },
  {
   "cell_type": "code",
   "outputs": [],
   "source": [
    "def __load_incidencias_data(\n",
    "    config: DictConfig,\n",
    "    tables: list[str],\n",
    "    raw_data_folder: str,\n",
    ") -> tuple[Optional[pd.DataFrame], ...]:\n",
    "    \"\"\"\n",
    "    Get the data from the tables sav_incidencias, sav_piezas, sav_estados, and sav_incidencias_tipo\n",
    "    :return: Tuple with the data from the tables\n",
    "    \"\"\"\n",
    "    return tuple(\n",
    "        load_data(\n",
    "            data_path=os.path.join(raw_data_folder, f\"{table}.csv\"),\n",
    "            step_config=config.processing[table],\n",
    "        )\n",
    "        for table in tables\n",
    "    )"
   ],
   "metadata": {
    "collapsed": false,
    "ExecuteTime": {
     "end_time": "2024-12-29T09:11:17.582409Z",
     "start_time": "2024-12-29T09:11:17.575492Z"
    }
   },
   "id": "d722676dfe3614ca",
   "execution_count": 39
  },
  {
   "cell_type": "code",
   "outputs": [],
   "source": [
    "raw_tables = [\n",
    "    \"incidencias\",\n",
    "    \"piezas\",\n",
    "    \"estados\",\n",
    "    \"incidencias_tipo\",\n",
    "]\n",
    "\n",
    "raw_data_folder = f\"../../raw_data/{env}/\""
   ],
   "metadata": {
    "collapsed": false,
    "ExecuteTime": {
     "end_time": "2024-12-29T09:11:18.145284Z",
     "start_time": "2024-12-29T09:11:18.138663Z"
    }
   },
   "id": "79d419c79bda0c87",
   "execution_count": 40
  },
  {
   "cell_type": "code",
   "outputs": [],
   "source": [
    "# Get the data\n",
    "incidencias, piezas, estados, incidencias_tipo = __load_incidencias_data(\n",
    "    config=processing_config, tables=raw_tables, raw_data_folder=raw_data_folder\n",
    ")"
   ],
   "metadata": {
    "collapsed": false,
    "ExecuteTime": {
     "end_time": "2024-12-29T09:11:21.399126Z",
     "start_time": "2024-12-29T09:11:18.368805Z"
    }
   },
   "id": "a3533eceba9c6e25",
   "execution_count": 41
  },
  {
   "cell_type": "code",
   "outputs": [],
   "source": [
    "# Merge the data\n",
    "dataset = incidencias.merge(\n",
    "    piezas,\n",
    "    left_on=\"codigo\",\n",
    "    right_on=\"codigo_incidencia\",\n",
    "    how=\"left\",\n",
    "    suffixes=(None, \"_pieza\"),\n",
    ")\n",
    "\n",
    "dataset = dataset.merge(\n",
    "    estados,\n",
    "    left_on=\"estado\",\n",
    "    right_on=\"id\",\n",
    "    how=\"left\",\n",
    "    suffixes=(None, \"_estado\"),\n",
    ")\n",
    "\n",
    "dataset = dataset.merge(\n",
    "    incidencias_tipo,\n",
    "    left_on=\"tipo\",\n",
    "    right_on=\"id\",\n",
    "    how=\"left\",\n",
    "    suffixes=(None, \"_tipo\"),\n",
    ")\n",
    "\n",
    "# Convert the modification_date to datetime\n",
    "dataset[\"modification_date\"] = pd.to_datetime(\n",
    "    dataset[\"modification_date\"], errors=\"coerce\"\n",
    ")"
   ],
   "metadata": {
    "collapsed": false,
    "ExecuteTime": {
     "end_time": "2024-12-29T09:11:21.821815Z",
     "start_time": "2024-12-29T09:11:21.401140Z"
    }
   },
   "id": "3b1b9162a33fef4e",
   "execution_count": 42
  },
  {
   "cell_type": "code",
   "outputs": [],
   "source": [
    "dataset[\"tipo\"] = pd.to_numeric(dataset[\"tipo\"], errors=\"coerce\")\n",
    "dataset[\"estado\"] = pd.to_numeric(dataset[\"estado\"], errors=\"coerce\")"
   ],
   "metadata": {
    "collapsed": false,
    "ExecuteTime": {
     "end_time": "2024-12-29T09:28:32.292156Z",
     "start_time": "2024-12-29T09:28:32.281869Z"
    }
   },
   "id": "e4d66b2cab97e4a3",
   "execution_count": 56
  },
  {
   "cell_type": "code",
   "outputs": [
    {
     "data": {
      "text/plain": "      id  web_id      codigo       creation_date   modification_date  \\\n0  19552       1  MGHQM2LT55 2020-01-02 09:04:37 2020-01-20 10:06:04   \n1  19552       1  MGHQM2LT55 2020-01-02 09:04:37 2020-01-20 10:06:04   \n2  19553       1  LMPOM2TR8B 2020-01-02 09:34:16 2020-02-07 12:40:37   \n3  19554       1  LMNWLG1U1A 2020-01-02 10:52:38 2020-01-28 07:03:28   \n4  19554       1  LMNWLG1U1A 2020-01-02 10:52:38 2020-01-28 07:03:28   \n\n   company_id  user_id             ref_cliente portes_airzone devaluacion  \\\n0         208      314               PAL190646              0           0   \n1         208      314               PAL190646              0           0   \n2          31       73  CAMBIO TERMOSTATO LITE              0           0   \n3          67     4168       PASARELAS SAMSUNG              0           0   \n4          67     4168       PASARELAS SAMSUNG              0           0   \n\n   ...        titulo_en       titulo_fr      titulo_it titulo_pt  id_tipo  \\\n0  ...  Accepted pickup  Retour accepté  Verifica reso      None        2   \n1  ...  Accepted pickup  Retour accepté  Verifica reso      None        2   \n2  ...           Closed          Fermée         Chiusa      None        2   \n3  ...           Closed          Fermée         Chiusa      None        2   \n4  ...           Closed          Fermée         Chiusa      None        2   \n\n   titulo_es_tipo titulo_en_tipo  titulo_fr_tipo  titulo_it_tipo  \\\n0      devolucion         return          retour         ritorno   \n1      devolucion         return          retour         ritorno   \n2      devolucion         return          retour         ritorno   \n3      devolucion         return          retour         ritorno   \n4      devolucion         return          retour         ritorno   \n\n   titulo_pt_tipo  \n0            None  \n1            None  \n2            None  \n3            None  \n4            None  \n\n[5 rows x 53 columns]",
      "text/html": "<div>\n<style scoped>\n    .dataframe tbody tr th:only-of-type {\n        vertical-align: middle;\n    }\n\n    .dataframe tbody tr th {\n        vertical-align: top;\n    }\n\n    .dataframe thead th {\n        text-align: right;\n    }\n</style>\n<table border=\"1\" class=\"dataframe\">\n  <thead>\n    <tr style=\"text-align: right;\">\n      <th></th>\n      <th>id</th>\n      <th>web_id</th>\n      <th>codigo</th>\n      <th>creation_date</th>\n      <th>modification_date</th>\n      <th>company_id</th>\n      <th>user_id</th>\n      <th>ref_cliente</th>\n      <th>portes_airzone</th>\n      <th>devaluacion</th>\n      <th>...</th>\n      <th>titulo_en</th>\n      <th>titulo_fr</th>\n      <th>titulo_it</th>\n      <th>titulo_pt</th>\n      <th>id_tipo</th>\n      <th>titulo_es_tipo</th>\n      <th>titulo_en_tipo</th>\n      <th>titulo_fr_tipo</th>\n      <th>titulo_it_tipo</th>\n      <th>titulo_pt_tipo</th>\n    </tr>\n  </thead>\n  <tbody>\n    <tr>\n      <th>0</th>\n      <td>19552</td>\n      <td>1</td>\n      <td>MGHQM2LT55</td>\n      <td>2020-01-02 09:04:37</td>\n      <td>2020-01-20 10:06:04</td>\n      <td>208</td>\n      <td>314</td>\n      <td>PAL190646</td>\n      <td>0</td>\n      <td>0</td>\n      <td>...</td>\n      <td>Accepted pickup</td>\n      <td>Retour accepté</td>\n      <td>Verifica reso</td>\n      <td>None</td>\n      <td>2</td>\n      <td>devolucion</td>\n      <td>return</td>\n      <td>retour</td>\n      <td>ritorno</td>\n      <td>None</td>\n    </tr>\n    <tr>\n      <th>1</th>\n      <td>19552</td>\n      <td>1</td>\n      <td>MGHQM2LT55</td>\n      <td>2020-01-02 09:04:37</td>\n      <td>2020-01-20 10:06:04</td>\n      <td>208</td>\n      <td>314</td>\n      <td>PAL190646</td>\n      <td>0</td>\n      <td>0</td>\n      <td>...</td>\n      <td>Accepted pickup</td>\n      <td>Retour accepté</td>\n      <td>Verifica reso</td>\n      <td>None</td>\n      <td>2</td>\n      <td>devolucion</td>\n      <td>return</td>\n      <td>retour</td>\n      <td>ritorno</td>\n      <td>None</td>\n    </tr>\n    <tr>\n      <th>2</th>\n      <td>19553</td>\n      <td>1</td>\n      <td>LMPOM2TR8B</td>\n      <td>2020-01-02 09:34:16</td>\n      <td>2020-02-07 12:40:37</td>\n      <td>31</td>\n      <td>73</td>\n      <td>CAMBIO TERMOSTATO LITE</td>\n      <td>0</td>\n      <td>0</td>\n      <td>...</td>\n      <td>Closed</td>\n      <td>Fermée</td>\n      <td>Chiusa</td>\n      <td>None</td>\n      <td>2</td>\n      <td>devolucion</td>\n      <td>return</td>\n      <td>retour</td>\n      <td>ritorno</td>\n      <td>None</td>\n    </tr>\n    <tr>\n      <th>3</th>\n      <td>19554</td>\n      <td>1</td>\n      <td>LMNWLG1U1A</td>\n      <td>2020-01-02 10:52:38</td>\n      <td>2020-01-28 07:03:28</td>\n      <td>67</td>\n      <td>4168</td>\n      <td>PASARELAS SAMSUNG</td>\n      <td>0</td>\n      <td>0</td>\n      <td>...</td>\n      <td>Closed</td>\n      <td>Fermée</td>\n      <td>Chiusa</td>\n      <td>None</td>\n      <td>2</td>\n      <td>devolucion</td>\n      <td>return</td>\n      <td>retour</td>\n      <td>ritorno</td>\n      <td>None</td>\n    </tr>\n    <tr>\n      <th>4</th>\n      <td>19554</td>\n      <td>1</td>\n      <td>LMNWLG1U1A</td>\n      <td>2020-01-02 10:52:38</td>\n      <td>2020-01-28 07:03:28</td>\n      <td>67</td>\n      <td>4168</td>\n      <td>PASARELAS SAMSUNG</td>\n      <td>0</td>\n      <td>0</td>\n      <td>...</td>\n      <td>Closed</td>\n      <td>Fermée</td>\n      <td>Chiusa</td>\n      <td>None</td>\n      <td>2</td>\n      <td>devolucion</td>\n      <td>return</td>\n      <td>retour</td>\n      <td>ritorno</td>\n      <td>None</td>\n    </tr>\n  </tbody>\n</table>\n<p>5 rows × 53 columns</p>\n</div>"
     },
     "execution_count": 57,
     "metadata": {},
     "output_type": "execute_result"
    }
   ],
   "source": [
    "dataset.head()"
   ],
   "metadata": {
    "collapsed": false,
    "ExecuteTime": {
     "end_time": "2024-12-29T09:28:33.412614Z",
     "start_time": "2024-12-29T09:28:33.395411Z"
    }
   },
   "id": "1289519c163354d9",
   "execution_count": 57
  },
  {
   "cell_type": "markdown",
   "source": [
    "### Profiling"
   ],
   "metadata": {
    "collapsed": false
   },
   "id": "884f25eb632b8f1a"
  },
  {
   "cell_type": "code",
   "outputs": [
    {
     "data": {
      "text/plain": "Summarize dataset:   0%|          | 0/5 [00:00<?, ?it/s]",
      "application/vnd.jupyter.widget-view+json": {
       "version_major": 2,
       "version_minor": 0,
       "model_id": "c818999e22c144368fd3ed0f8fc0df78"
      }
     },
     "metadata": {},
     "output_type": "display_data"
    },
    {
     "data": {
      "text/plain": "Generate report structure:   0%|          | 0/1 [00:00<?, ?it/s]",
      "application/vnd.jupyter.widget-view+json": {
       "version_major": 2,
       "version_minor": 0,
       "model_id": "0d9e5ea19a78467690f2bd377d6b572d"
      }
     },
     "metadata": {},
     "output_type": "display_data"
    },
    {
     "data": {
      "text/plain": "Render HTML:   0%|          | 0/1 [00:00<?, ?it/s]",
      "application/vnd.jupyter.widget-view+json": {
       "version_major": 2,
       "version_minor": 0,
       "model_id": "77eee09e7dc7496397b2a90fb1f43d64"
      }
     },
     "metadata": {},
     "output_type": "display_data"
    },
    {
     "data": {
      "text/plain": "Export report to file:   0%|          | 0/1 [00:00<?, ?it/s]",
      "application/vnd.jupyter.widget-view+json": {
       "version_major": 2,
       "version_minor": 0,
       "model_id": "772e94687cb342fdadc5c10577415464"
      }
     },
     "metadata": {},
     "output_type": "display_data"
    }
   ],
   "source": [
    "# Generate a profile report\n",
    "raw_data_profile = ProfileReport(\n",
    "    dataset, title=\"Raw Dataset Profile\", explorative=True, infer_dtypes=False\n",
    ")\n",
    "\n",
    "# Save the report\n",
    "raw_data_profile.to_file(f\"../../data_profiling/{env}/raw_dataset_profile.html\")"
   ],
   "metadata": {
    "collapsed": false,
    "ExecuteTime": {
     "end_time": "2024-12-29T10:09:49.764083Z",
     "start_time": "2024-12-29T10:08:26.926435Z"
    }
   },
   "id": "90103b9b33972ac1",
   "execution_count": 68
  },
  {
   "cell_type": "markdown",
   "source": [
    "# Preprocessed dataset"
   ],
   "metadata": {
    "collapsed": false
   },
   "id": "c4fac3cb803452d2"
  },
  {
   "cell_type": "code",
   "outputs": [],
   "source": [
    "preprocessed_dataset = load_data(\n",
    "    data_path=f\"../../output_data/{env}/preprocessed_data.csv\",\n",
    "    step_config=processing_config.processing.preprocessed_data,\n",
    ")"
   ],
   "metadata": {
    "collapsed": false,
    "ExecuteTime": {
     "end_time": "2024-12-29T10:03:43.886908Z",
     "start_time": "2024-12-29T10:03:43.630330Z"
    }
   },
   "id": "f97d9804c66064bf",
   "execution_count": 64
  },
  {
   "cell_type": "code",
   "outputs": [
    {
     "data": {
      "text/plain": "       codigo  id_pieza    cod_articulo  \\\n0  MMZPL2LO50     29479  AZXWSCLOUDWIFI   \n1  MMZPL2LO50     29480   AZX6QADAPTHIT   \n2  MMZPL2LO50     29481   AZX6QADAPTHIT   \n3  L2VQL2LVF3     29482         AZX6CCP   \n4  LGRPLMLUAE     29487      AZCE6EXP8Z   \n\n                            desc_problema_translated  \\\n0                 Después del diagnóstico de HOTLINE   \n1                 Después del diagnóstico de HOTLINE   \n2                 Después del diagnóstico de HOTLINE   \n3  CAMBIO CPP EN GARANTIA POR PROBLEMAS COMUNICACION   \n4                       TARJETA POTENTE PARA 8 ZONAS   \n\n                   descripcion_translated  \\\n0                                    None   \n1  Pasarela de comunicaciones HITACHI RPI   \n2        Puerta de enlace de comunicación   \n3                   CENTRAL DE PRODUCCION   \n4                                    0000   \n\n                               problema_translated       CODART_A3  \\\n0  No más comunicación, asociación WIFI imposible.  AZXWSCLOUDWIFI   \n1                         problema de comunicacion   AZX6QADAPTHIT   \n2                         problema de comunicacion   AZX6QADAPTHIT   \n3      fallo en comunicacion central de produccion         AZX6CCP   \n4                                              RAS      AZCE6EXP8Z   \n\n   Fuzzy_Score          CODART                                      DESCART  \\\n0        100.0  AZXWSCLOUDWIFI         Webserver Airzone Cloud Wi-Fi (2013)   \n1        100.0   AZX6QADAPTHIT  Pasarela comunicaciones Airzone-Hitachi RPI   \n2        100.0   AZX6QADAPTHIT  Pasarela comunicaciones Airzone-Hitachi RPI   \n3        100.0         AZX6CCP     Central de control de producción Airzone   \n4        100.0      AZCE6EXP8Z  Módulo de expansión Airzone 2 zonas (7 y 8)   \n\n  CAR1 CAR2 CAR3  CAR4                                    text_to_analyse  \\\n0    1  260   93  None  Después del diagnóstico de HOTLINE  No más com...   \n1    1  260   49  None  Después del diagnóstico de HOTLINE Pasarela de...   \n2    1  260   49  None  Después del diagnóstico de HOTLINE Puerta de e...   \n3    1  260   92  None  CAMBIO CPP EN GARANTIA POR PROBLEMAS COMUNICAC...   \n4    1  250   90  None              TARJETA POTENTE PARA 8 ZONAS 0000 RAS   \n\n                           processed_text_to_analyse  \n0  diagnostico hotline comunicacion asociacion wi...  \n1  diagnostico hotline pasarela comunicaciones hi...  \n2  diagnostico hotline puerta enlace comunicacion...  \n3  cambio cpp garantia problemas comunicacion cen...  \n4                   tarjeta potente 8 zonas 0000 ras  ",
      "text/html": "<div>\n<style scoped>\n    .dataframe tbody tr th:only-of-type {\n        vertical-align: middle;\n    }\n\n    .dataframe tbody tr th {\n        vertical-align: top;\n    }\n\n    .dataframe thead th {\n        text-align: right;\n    }\n</style>\n<table border=\"1\" class=\"dataframe\">\n  <thead>\n    <tr style=\"text-align: right;\">\n      <th></th>\n      <th>codigo</th>\n      <th>id_pieza</th>\n      <th>cod_articulo</th>\n      <th>desc_problema_translated</th>\n      <th>descripcion_translated</th>\n      <th>problema_translated</th>\n      <th>CODART_A3</th>\n      <th>Fuzzy_Score</th>\n      <th>CODART</th>\n      <th>DESCART</th>\n      <th>CAR1</th>\n      <th>CAR2</th>\n      <th>CAR3</th>\n      <th>CAR4</th>\n      <th>text_to_analyse</th>\n      <th>processed_text_to_analyse</th>\n    </tr>\n  </thead>\n  <tbody>\n    <tr>\n      <th>0</th>\n      <td>MMZPL2LO50</td>\n      <td>29479</td>\n      <td>AZXWSCLOUDWIFI</td>\n      <td>Después del diagnóstico de HOTLINE</td>\n      <td>None</td>\n      <td>No más comunicación, asociación WIFI imposible.</td>\n      <td>AZXWSCLOUDWIFI</td>\n      <td>100.0</td>\n      <td>AZXWSCLOUDWIFI</td>\n      <td>Webserver Airzone Cloud Wi-Fi (2013)</td>\n      <td>1</td>\n      <td>260</td>\n      <td>93</td>\n      <td>None</td>\n      <td>Después del diagnóstico de HOTLINE  No más com...</td>\n      <td>diagnostico hotline comunicacion asociacion wi...</td>\n    </tr>\n    <tr>\n      <th>1</th>\n      <td>MMZPL2LO50</td>\n      <td>29480</td>\n      <td>AZX6QADAPTHIT</td>\n      <td>Después del diagnóstico de HOTLINE</td>\n      <td>Pasarela de comunicaciones HITACHI RPI</td>\n      <td>problema de comunicacion</td>\n      <td>AZX6QADAPTHIT</td>\n      <td>100.0</td>\n      <td>AZX6QADAPTHIT</td>\n      <td>Pasarela comunicaciones Airzone-Hitachi RPI</td>\n      <td>1</td>\n      <td>260</td>\n      <td>49</td>\n      <td>None</td>\n      <td>Después del diagnóstico de HOTLINE Pasarela de...</td>\n      <td>diagnostico hotline pasarela comunicaciones hi...</td>\n    </tr>\n    <tr>\n      <th>2</th>\n      <td>MMZPL2LO50</td>\n      <td>29481</td>\n      <td>AZX6QADAPTHIT</td>\n      <td>Después del diagnóstico de HOTLINE</td>\n      <td>Puerta de enlace de comunicación</td>\n      <td>problema de comunicacion</td>\n      <td>AZX6QADAPTHIT</td>\n      <td>100.0</td>\n      <td>AZX6QADAPTHIT</td>\n      <td>Pasarela comunicaciones Airzone-Hitachi RPI</td>\n      <td>1</td>\n      <td>260</td>\n      <td>49</td>\n      <td>None</td>\n      <td>Después del diagnóstico de HOTLINE Puerta de e...</td>\n      <td>diagnostico hotline puerta enlace comunicacion...</td>\n    </tr>\n    <tr>\n      <th>3</th>\n      <td>L2VQL2LVF3</td>\n      <td>29482</td>\n      <td>AZX6CCP</td>\n      <td>CAMBIO CPP EN GARANTIA POR PROBLEMAS COMUNICACION</td>\n      <td>CENTRAL DE PRODUCCION</td>\n      <td>fallo en comunicacion central de produccion</td>\n      <td>AZX6CCP</td>\n      <td>100.0</td>\n      <td>AZX6CCP</td>\n      <td>Central de control de producción Airzone</td>\n      <td>1</td>\n      <td>260</td>\n      <td>92</td>\n      <td>None</td>\n      <td>CAMBIO CPP EN GARANTIA POR PROBLEMAS COMUNICAC...</td>\n      <td>cambio cpp garantia problemas comunicacion cen...</td>\n    </tr>\n    <tr>\n      <th>4</th>\n      <td>LGRPLMLUAE</td>\n      <td>29487</td>\n      <td>AZCE6EXP8Z</td>\n      <td>TARJETA POTENTE PARA 8 ZONAS</td>\n      <td>0000</td>\n      <td>RAS</td>\n      <td>AZCE6EXP8Z</td>\n      <td>100.0</td>\n      <td>AZCE6EXP8Z</td>\n      <td>Módulo de expansión Airzone 2 zonas (7 y 8)</td>\n      <td>1</td>\n      <td>250</td>\n      <td>90</td>\n      <td>None</td>\n      <td>TARJETA POTENTE PARA 8 ZONAS 0000 RAS</td>\n      <td>tarjeta potente 8 zonas 0000 ras</td>\n    </tr>\n  </tbody>\n</table>\n</div>"
     },
     "execution_count": 65,
     "metadata": {},
     "output_type": "execute_result"
    }
   ],
   "source": [
    "preprocessed_dataset.head()"
   ],
   "metadata": {
    "collapsed": false,
    "ExecuteTime": {
     "end_time": "2024-12-29T10:03:49.873644Z",
     "start_time": "2024-12-29T10:03:49.859990Z"
    }
   },
   "id": "d47aedffe7cc2f21",
   "execution_count": 65
  },
  {
   "cell_type": "markdown",
   "source": [
    "### Profiling"
   ],
   "metadata": {
    "collapsed": false
   },
   "id": "bee26b72bc935e4a"
  },
  {
   "cell_type": "code",
   "outputs": [
    {
     "data": {
      "text/plain": "Summarize dataset:   0%|          | 0/5 [00:00<?, ?it/s]",
      "application/vnd.jupyter.widget-view+json": {
       "version_major": 2,
       "version_minor": 0,
       "model_id": "c7c1e16cd8214c87bf38bd3ad99f83ee"
      }
     },
     "metadata": {},
     "output_type": "display_data"
    },
    {
     "data": {
      "text/plain": "Generate report structure:   0%|          | 0/1 [00:00<?, ?it/s]",
      "application/vnd.jupyter.widget-view+json": {
       "version_major": 2,
       "version_minor": 0,
       "model_id": "f07ccf731ed24b16bd6583eec838c793"
      }
     },
     "metadata": {},
     "output_type": "display_data"
    },
    {
     "data": {
      "text/plain": "Render HTML:   0%|          | 0/1 [00:00<?, ?it/s]",
      "application/vnd.jupyter.widget-view+json": {
       "version_major": 2,
       "version_minor": 0,
       "model_id": "66ce5b1d08a54b55ab44f091f90ccb4a"
      }
     },
     "metadata": {},
     "output_type": "display_data"
    },
    {
     "data": {
      "text/plain": "Export report to file:   0%|          | 0/1 [00:00<?, ?it/s]",
      "application/vnd.jupyter.widget-view+json": {
       "version_major": 2,
       "version_minor": 0,
       "model_id": "7bf43b24b5974447bddde430cd8d3027"
      }
     },
     "metadata": {},
     "output_type": "display_data"
    }
   ],
   "source": [
    "# Generate a profile report\n",
    "processed_data_profile = ProfileReport(\n",
    "    preprocessed_dataset,\n",
    "    title=\"Preprocessed Dataset Profile\",\n",
    "    explorative=True,\n",
    "    infer_dtypes=False,\n",
    ")\n",
    "\n",
    "# Save the report\n",
    "processed_data_profile.to_file(\n",
    "    f\"../../data_profiling/{env}/preprocessed_dataset_profile.html\"\n",
    ")"
   ],
   "metadata": {
    "collapsed": false,
    "ExecuteTime": {
     "end_time": "2024-12-29T10:10:05.281596Z",
     "start_time": "2024-12-29T10:09:49.767098Z"
    }
   },
   "id": "e629c8db4df29410",
   "execution_count": 69
  },
  {
   "cell_type": "markdown",
   "source": [
    "# Comparing the raw and preprocessed datasets"
   ],
   "metadata": {
    "collapsed": false
   },
   "id": "5b176b123bfe8023"
  },
  {
   "cell_type": "code",
   "outputs": [
    {
     "name": "stderr",
     "output_type": "stream",
     "text": [
      "D:\\00-Master\\TFM\\Project\\myzone\\.venv\\Lib\\site-packages\\ydata_profiling\\compare_reports.py:191: UserWarning: The datasets being profiled have a different set of columns. Only the left side profile will be calculated.\n",
      "  warnings.warn(\n"
     ]
    },
    {
     "data": {
      "text/plain": "Generate report structure:   0%|          | 0/1 [00:00<?, ?it/s]",
      "application/vnd.jupyter.widget-view+json": {
       "version_major": 2,
       "version_minor": 0,
       "model_id": "8898c3c55ba9415f9eeb7ca30d8e0b8b"
      }
     },
     "metadata": {},
     "output_type": "display_data"
    },
    {
     "data": {
      "text/plain": "Render HTML:   0%|          | 0/1 [00:00<?, ?it/s]",
      "application/vnd.jupyter.widget-view+json": {
       "version_major": 2,
       "version_minor": 0,
       "model_id": "ea9401bd2edc48ba878b127b0c03b292"
      }
     },
     "metadata": {},
     "output_type": "display_data"
    },
    {
     "data": {
      "text/plain": "Export report to file:   0%|          | 0/1 [00:00<?, ?it/s]",
      "application/vnd.jupyter.widget-view+json": {
       "version_major": 2,
       "version_minor": 0,
       "model_id": "c7329689ce824675bf911fa60a88c9e3"
      }
     },
     "metadata": {},
     "output_type": "display_data"
    }
   ],
   "source": [
    "comparison_report = compare([raw_data_profile, processed_data_profile])\n",
    "\n",
    "# Obtain merged statistics\n",
    "statistics = comparison_report.get_description()\n",
    "\n",
    "# Save report to file\n",
    "comparison_report.to_file(f\"../../data_profiling/{env}/comparison_profile.html\")"
   ],
   "metadata": {
    "collapsed": false,
    "ExecuteTime": {
     "end_time": "2024-12-29T10:10:46.372648Z",
     "start_time": "2024-12-29T10:10:05.282607Z"
    }
   },
   "id": "a97834e0465208d0",
   "execution_count": 70
  },
  {
   "cell_type": "code",
   "outputs": [],
   "source": [],
   "metadata": {
    "collapsed": false
   },
   "id": "b5580ae5a30764cd"
  }
 ],
 "metadata": {
  "kernelspec": {
   "display_name": "Python 3",
   "language": "python",
   "name": "python3"
  },
  "language_info": {
   "codemirror_mode": {
    "name": "ipython",
    "version": 2
   },
   "file_extension": ".py",
   "mimetype": "text/x-python",
   "name": "python",
   "nbconvert_exporter": "python",
   "pygments_lexer": "ipython2",
   "version": "2.7.6"
  }
 },
 "nbformat": 4,
 "nbformat_minor": 5
}
