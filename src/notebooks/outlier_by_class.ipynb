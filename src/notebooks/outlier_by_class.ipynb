{
 "cells": [
  {
   "cell_type": "code",
   "execution_count": 1,
   "id": "initial_id",
   "metadata": {
    "collapsed": true,
    "ExecuteTime": {
     "end_time": "2025-02-02T11:12:44.910043Z",
     "start_time": "2025-02-02T11:12:28.947515Z"
    }
   },
   "outputs": [],
   "source": [
    "from src.training.model import TransformerClassifier\n",
    "from src.utils import load_config\n",
    "\n",
    "import pandas as pd\n",
    "import numpy as np\n",
    "\n",
    "from sklearn.cluster import DBSCAN\n",
    "from sklearn.metrics import silhouette_score\n",
    "from sklearn.model_selection import ParameterGrid\n",
    "from sklearn.metrics.pairwise import cosine_similarity"
   ]
  },
  {
   "cell_type": "code",
   "outputs": [],
   "source": [
    "# Load config\n",
    "env = \"prod\"\n",
    "model_type = \"BERT\"\n",
    "\n",
    "training_config = load_config(\n",
    "    file_name=\"training_config\", env=env, folder=\"../../config\"\n",
    ")"
   ],
   "metadata": {
    "collapsed": false,
    "ExecuteTime": {
     "end_time": "2025-02-02T11:12:44.950372Z",
     "start_time": "2025-02-02T11:12:44.916856Z"
    }
   },
   "id": "62d43d0a28dc3606",
   "execution_count": 3
  },
  {
   "cell_type": "code",
   "outputs": [],
   "source": [
    "input_model_1 = \"../../output_reports/model_1_2/outlier_detection/detected_outliers.parquet\"\n",
    "input_model_2 = \"../../output_reports/model_2_2/outlier_detection/detected_outliers.parquet\"\n",
    "input_model_3 = \"../../output_reports/model_3_2/outlier_detection/detected_outliers.parquet\""
   ],
   "metadata": {
    "collapsed": false,
    "ExecuteTime": {
     "end_time": "2025-02-02T11:14:30.701413Z",
     "start_time": "2025-02-02T11:14:30.697408Z"
    }
   },
   "id": "509ad23f9c01e338",
   "execution_count": 6
  },
  {
   "cell_type": "code",
   "outputs": [],
   "source": [
    "df_1 = pd.read_parquet(input_model_1)\n",
    "df_2 = pd.read_parquet(input_model_2)\n",
    "df_3 = pd.read_parquet(input_model_3)"
   ],
   "metadata": {
    "collapsed": false,
    "ExecuteTime": {
     "end_time": "2025-02-02T11:14:31.471966Z",
     "start_time": "2025-02-02T11:14:31.341835Z"
    }
   },
   "id": "72f64d8ac0a81f4b",
   "execution_count": 7
  },
  {
   "cell_type": "code",
   "outputs": [],
   "source": [
    "group1 = df_1.groupby(\"label\").size().to_frame(\"model_1\")\n",
    "group2 = df_2.groupby(\"label\").size().to_frame(\"model_2\")\n",
    "group3 = df_3.groupby(\"label\").size().to_frame(\"model_3\")"
   ],
   "metadata": {
    "collapsed": false,
    "ExecuteTime": {
     "end_time": "2025-02-02T11:15:29.446951Z",
     "start_time": "2025-02-02T11:15:29.439852Z"
    }
   },
   "id": "60a54f0a6c99c6be",
   "execution_count": 10
  },
  {
   "cell_type": "code",
   "outputs": [],
   "source": [
    "df = pd.concat([group1, group2, group3], axis=1).reset_index(names=[\"Label\"])"
   ],
   "metadata": {
    "collapsed": false,
    "ExecuteTime": {
     "end_time": "2025-02-02T11:20:01.888956Z",
     "start_time": "2025-02-02T11:20:01.878973Z"
    }
   },
   "id": "b46e3c1c9cde8f96",
   "execution_count": 17
  },
  {
   "cell_type": "code",
   "outputs": [
    {
     "data": {
      "text/plain": "   Label  model_1  model_2  model_3\n0      0       13       10       17\n1      1       13       11        9\n2      2       64       98      117",
      "text/html": "<div>\n<style scoped>\n    .dataframe tbody tr th:only-of-type {\n        vertical-align: middle;\n    }\n\n    .dataframe tbody tr th {\n        vertical-align: top;\n    }\n\n    .dataframe thead th {\n        text-align: right;\n    }\n</style>\n<table border=\"1\" class=\"dataframe\">\n  <thead>\n    <tr style=\"text-align: right;\">\n      <th></th>\n      <th>Label</th>\n      <th>model_1</th>\n      <th>model_2</th>\n      <th>model_3</th>\n    </tr>\n  </thead>\n  <tbody>\n    <tr>\n      <th>0</th>\n      <td>0</td>\n      <td>13</td>\n      <td>10</td>\n      <td>17</td>\n    </tr>\n    <tr>\n      <th>1</th>\n      <td>1</td>\n      <td>13</td>\n      <td>11</td>\n      <td>9</td>\n    </tr>\n    <tr>\n      <th>2</th>\n      <td>2</td>\n      <td>64</td>\n      <td>98</td>\n      <td>117</td>\n    </tr>\n  </tbody>\n</table>\n</div>"
     },
     "execution_count": 18,
     "metadata": {},
     "output_type": "execute_result"
    }
   ],
   "source": [
    "df"
   ],
   "metadata": {
    "collapsed": false,
    "ExecuteTime": {
     "end_time": "2025-02-02T11:20:02.241157Z",
     "start_time": "2025-02-02T11:20:02.232135Z"
    }
   },
   "id": "205fc345f207276e",
   "execution_count": 18
  },
  {
   "cell_type": "code",
   "outputs": [
    {
     "data": {
      "text/plain": "<Figure size 800x500 with 1 Axes>",
      "image/png": "[encoded data removed]"
     },
     "metadata": {},
     "output_type": "display_data"
    }
   ],
   "source": [
    "import matplotlib.pyplot as plt\n",
    "\n",
    "# Calculate mean and standard deviation\n",
    "df['Mean'] = df[['model_1', 'model_2', 'model_3']].mean(axis=1)\n",
    "df['StdDev'] = df[['model_1', 'model_2', 'model_3']].std(axis=1)\n",
    "\n",
    "# Plotting\n",
    "plt.figure(figsize=(8, 5))\n",
    "plt.bar(df['Label'], df['Mean'], yerr=df['StdDev'], color=\"tomato\")\n",
    "plt.xticks(df['Label'])\n",
    "plt.xlabel(\"Labels\")\n",
    "plt.ylabel(\"Average Count of Outliers\")\n",
    "plt.title(\"Number of Outliers by True Label\")\n",
    "plt.grid(axis='y', linestyle='--', alpha=0.5)\n",
    "\n",
    "# plt.show()\n",
    "plt.savefig(\"../../output_reports/temp_outlier_by_class.png\")"
   ],
   "metadata": {
    "collapsed": false,
    "ExecuteTime": {
     "end_time": "2025-02-02T11:27:28.743246Z",
     "start_time": "2025-02-02T11:27:28.486307Z"
    }
   },
   "id": "cfb2636191d735d4",
   "execution_count": 27
  },
  {
   "cell_type": "code",
   "outputs": [],
   "source": [
    "plt.show()"
   ],
   "metadata": {
    "collapsed": false,
    "ExecuteTime": {
     "end_time": "2025-02-02T11:21:39.945476Z",
     "start_time": "2025-02-02T11:21:39.941148Z"
    }
   },
   "id": "575ce49eb6d63928",
   "execution_count": 21
  }
 ],
 "metadata": {
  "kernelspec": {
   "display_name": "Python 3",
   "language": "python",
   "name": "python3"
  },
  "language_info": {
   "codemirror_mode": {
    "name": "ipython",
    "version": 2
   },
   "file_extension": ".py",
   "mimetype": "text/x-python",
   "name": "python",
   "nbconvert_exporter": "python",
   "pygments_lexer": "ipython2",
   "version": "2.7.6"
  }
 },
 "nbformat": 4,
 "nbformat_minor": 5
}
