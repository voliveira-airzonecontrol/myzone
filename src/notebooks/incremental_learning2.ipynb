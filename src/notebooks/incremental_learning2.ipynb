{
 "cells": [
  {
   "cell_type": "code",
   "id": "initial_id",
   "metadata": {
    "collapsed": true,
    "ExecuteTime": {
     "end_time": "2025-01-13T06:39:29.103032Z",
     "start_time": "2025-01-13T06:39:15.553228Z"
    }
   },
   "source": [
    "from src.training.model import TransformerClassifier\n",
    "from src.utils import load_config\n",
    "import pandas as pd\n",
    "from sklearn.model_selection import train_test_split\n",
    "from sklearn.utils import resample"
   ],
   "outputs": [],
   "execution_count": 1
  },
  {
   "metadata": {
    "ExecuteTime": {
     "end_time": "2025-01-13T06:39:29.126453Z",
     "start_time": "2025-01-13T06:39:29.104038Z"
    }
   },
   "cell_type": "code",
   "source": [
    "# Load config\n",
    "env = \"prod\"\n",
    "model_type = \"BERT\"\n",
    "\n",
    "training_config = load_config(\n",
    "    file_name=\"training_config\", env=env, folder=\"../../config\"\n",
    ")"
   ],
   "id": "8569358f358a0a89",
   "outputs": [],
   "execution_count": 2
  },
  {
   "metadata": {},
   "cell_type": "markdown",
   "source": "# Load data",
   "id": "4bcb6f352a59297a"
  },
  {
   "metadata": {
    "ExecuteTime": {
     "end_time": "2025-01-13T06:39:29.131072Z",
     "start_time": "2025-01-13T06:39:29.127465Z"
    }
   },
   "cell_type": "code",
   "source": [
    "input_dataset = f\"../../output_data/{env}/supervised_dataset.parquet\"\n",
    "# input_new_class = f\"../../output_reports/{env}/clustering/temp_new_class.parquet\"\n",
    "input_true_new_class = f\"../../output_data/{env}/supervised_dataset_phase2.parquet\""
   ],
   "id": "f955904426de6da0",
   "outputs": [],
   "execution_count": 3
  },
  {
   "metadata": {
    "ExecuteTime": {
     "end_time": "2025-01-13T06:39:29.515085Z",
     "start_time": "2025-01-13T06:39:29.132078Z"
    }
   },
   "cell_type": "code",
   "source": [
    "known_classes = pd.read_parquet(input_dataset)\n",
    "# new_class = pd.read_parquet(input_new_class)\n",
    "true_new_class = pd.read_parquet(input_true_new_class)"
   ],
   "id": "7cd6126f4c5feeb3",
   "outputs": [],
   "execution_count": 4
  },
  {
   "metadata": {
    "ExecuteTime": {
     "end_time": "2025-01-13T06:39:29.519982Z",
     "start_time": "2025-01-13T06:39:29.515085Z"
    }
   },
   "cell_type": "code",
   "source": [
    "features = training_config.training[model_type].features\n",
    "target = training_config.training[model_type].target"
   ],
   "id": "8907a8ba81550f0c",
   "outputs": [],
   "execution_count": 5
  },
  {
   "metadata": {
    "ExecuteTime": {
     "end_time": "2025-01-13T06:39:29.526829Z",
     "start_time": "2025-01-13T06:39:29.519982Z"
    }
   },
   "cell_type": "code",
   "source": [
    "known_classes = known_classes[[features, target]]\n",
    "# new_class = new_class[[features, target]]\n",
    "true_new_class = true_new_class[[features, target]]"
   ],
   "id": "cbafb49a4e2de55e",
   "outputs": [],
   "execution_count": 6
  },
  {
   "metadata": {
    "ExecuteTime": {
     "end_time": "2025-01-13T06:39:29.531867Z",
     "start_time": "2025-01-13T06:39:29.527834Z"
    }
   },
   "cell_type": "code",
   "source": "num_labels = known_classes[target].nunique()",
   "id": "a370516381a2dc0c",
   "outputs": [],
   "execution_count": 7
  },
  {
   "metadata": {},
   "cell_type": "markdown",
   "source": "# Split data",
   "id": "bc2e54e4bfd51d1f"
  },
  {
   "metadata": {
    "ExecuteTime": {
     "end_time": "2025-01-13T06:39:29.536360Z",
     "start_time": "2025-01-13T06:39:29.532874Z"
    }
   },
   "cell_type": "code",
   "source": "X = known_classes",
   "id": "81ee7f6e67c0cefe",
   "outputs": [],
   "execution_count": 8
  },
  {
   "metadata": {
    "ExecuteTime": {
     "end_time": "2025-01-13T06:39:29.569378Z",
     "start_time": "2025-01-13T06:39:29.537367Z"
    }
   },
   "cell_type": "code",
   "source": [
    "original_X_train, original_X_test, original_y_train, original_y_test = train_test_split(\n",
    "    # X.drop(columns=[training_config.training[model_type].target]),\n",
    "    X[training_config.training[model_type].features],\n",
    "    X[training_config.training[model_type].target],\n",
    "    test_size=training_config.training[model_type].test_size,\n",
    "    random_state=training_config.training.random_state,\n",
    "    stratify=X[training_config.training[model_type].target],\n",
    ")\n",
    "original_X_test, original_X_cp, original_y_test, original_y_cp = train_test_split(\n",
    "    original_X_test,\n",
    "    original_y_test,\n",
    "    test_size=training_config.training[model_type].cp_size,\n",
    "    random_state=training_config.training.random_state,\n",
    "    stratify=original_y_test,\n",
    ")"
   ],
   "id": "e2742f268d49f4ab",
   "outputs": [],
   "execution_count": 9
  },
  {
   "metadata": {},
   "cell_type": "markdown",
   "source": "# Upsample the minority class for original data",
   "id": "91ec2302cd3e313a"
  },
  {
   "metadata": {
    "ExecuteTime": {
     "end_time": "2025-01-13T06:39:53.343363Z",
     "start_time": "2025-01-13T06:39:53.318081Z"
    }
   },
   "cell_type": "code",
   "source": [
    "# Upsample the minority class\n",
    "X_upsampled = original_X_train.copy().to_frame()\n",
    "X_upsampled[training_config.training[model_type].target] = original_y_train\n",
    "\n",
    "# Separate majority and minority classes\n",
    "df_majority = X_upsampled[X_upsampled[training_config.training[model_type].target] == 0]\n",
    "df_minority = X_upsampled[X_upsampled[training_config.training[model_type].target] == 1]\n",
    "\n",
    "# Upsample minority class\n",
    "df_minority_upsampled = resample(\n",
    "    df_minority,\n",
    "    replace=True,\n",
    "    n_samples=df_majority.shape[0],\n",
    "    random_state=42,\n",
    ")\n",
    "\n",
    "# Combine majority class with upsampled minority class\n",
    "df_upsampled = pd.concat([df_majority, df_minority_upsampled])\n",
    "\n",
    "# Display new class counts\n",
    "original_X_train = df_upsampled[training_config.training[model_type].features]\n",
    "original_y_train = df_upsampled[training_config.training[model_type].target]\n",
    "df_original_train = pd.concat([original_X_train, original_y_train], axis=1)"
   ],
   "id": "fb51c8cb60f26eca",
   "outputs": [],
   "execution_count": 10
  },
  {
   "metadata": {},
   "cell_type": "markdown",
   "source": "# Split true new class",
   "id": "fe48d99e9cc94447"
  },
  {
   "metadata": {
    "ExecuteTime": {
     "end_time": "2025-01-13T06:40:14.018720Z",
     "start_time": "2025-01-13T06:40:14.011259Z"
    }
   },
   "cell_type": "code",
   "source": [
    "X_train_new_class, X_test_new_class, y_train_new_class, y_test_new_class = (\n",
    "    train_test_split(\n",
    "        true_new_class[features],\n",
    "        true_new_class[target],\n",
    "        test_size=0.2,\n",
    "        random_state=42,\n",
    "        stratify=true_new_class[target],\n",
    "    )\n",
    ")\n",
    "new_class = pd.concat([X_train_new_class, y_train_new_class], axis=1)"
   ],
   "id": "a8401f0cd33cbfc9",
   "outputs": [],
   "execution_count": 12
  },
  {
   "metadata": {},
   "cell_type": "markdown",
   "source": "# Concatenate the original and new class",
   "id": "536be11974b2f45"
  },
  {
   "metadata": {
    "ExecuteTime": {
     "end_time": "2025-01-13T06:40:17.268822Z",
     "start_time": "2025-01-13T06:40:17.256093Z"
    }
   },
   "cell_type": "code",
   "source": [
    "df_train = pd.concat(\n",
    "    [\n",
    "        df_original_train.sample(\n",
    "            frac=0.1, random_state=training_config.training.random_state\n",
    "        ),\n",
    "        new_class,\n",
    "    ]\n",
    ")\n",
    "X = df_train[features]\n",
    "y = df_train[target]"
   ],
   "id": "177c32ead9f69a90",
   "outputs": [],
   "execution_count": 13
  },
  {
   "metadata": {
    "ExecuteTime": {
     "end_time": "2025-01-13T06:40:18.222916Z",
     "start_time": "2025-01-13T06:40:18.205745Z"
    }
   },
   "cell_type": "code",
   "source": "df_train[target].value_counts()",
   "id": "11766180b45a79fe",
   "outputs": [
    {
     "data": {
      "text/plain": [
       "label\n",
       "2    311\n",
       "1     64\n",
       "0     53\n",
       "Name: count, dtype: int64"
      ]
     },
     "execution_count": 14,
     "metadata": {},
     "output_type": "execute_result"
    }
   ],
   "execution_count": 14
  },
  {
   "metadata": {
    "ExecuteTime": {
     "end_time": "2025-01-13T06:40:18.741417Z",
     "start_time": "2025-01-13T06:40:18.724185Z"
    }
   },
   "cell_type": "code",
   "source": "X.shape, y.shape",
   "id": "d5168a5e207d0cab",
   "outputs": [
    {
     "data": {
      "text/plain": [
       "((428,), (428,))"
      ]
     },
     "execution_count": 15,
     "metadata": {},
     "output_type": "execute_result"
    }
   ],
   "execution_count": 15
  },
  {
   "metadata": {},
   "cell_type": "markdown",
   "source": "# Split the data into training and validation sets",
   "id": "cac7eef08e66143c"
  },
  {
   "metadata": {
    "ExecuteTime": {
     "end_time": "2025-01-13T06:40:49.935805Z",
     "start_time": "2025-01-13T06:40:49.930285Z"
    }
   },
   "cell_type": "code",
   "source": [
    "from sklearn.model_selection import train_test_split\n",
    "\n",
    "X_train, X_val, y_train, y_val = train_test_split(\n",
    "    X, y, test_size=0.2, random_state=42, stratify=y\n",
    ")"
   ],
   "id": "2427b4fd2944fc09",
   "outputs": [],
   "execution_count": 16
  },
  {
   "metadata": {
    "ExecuteTime": {
     "end_time": "2025-01-13T06:40:50.302215Z",
     "start_time": "2025-01-13T06:40:50.286926Z"
    }
   },
   "cell_type": "code",
   "source": "X_train.shape, y_train.shape, X_val.shape, y_val.shape",
   "id": "1c67a0adfb27ed48",
   "outputs": [
    {
     "data": {
      "text/plain": [
       "((342,), (342,), (86,), (86,))"
      ]
     },
     "execution_count": 17,
     "metadata": {},
     "output_type": "execute_result"
    }
   ],
   "execution_count": 17
  },
  {
   "metadata": {
    "ExecuteTime": {
     "end_time": "2025-01-13T06:40:50.874227Z",
     "start_time": "2025-01-13T06:40:50.851930Z"
    }
   },
   "cell_type": "code",
   "source": "y_train.value_counts()",
   "id": "66b5c2df306c87a4",
   "outputs": [
    {
     "data": {
      "text/plain": [
       "label\n",
       "2    249\n",
       "1     51\n",
       "0     42\n",
       "Name: count, dtype: int64"
      ]
     },
     "execution_count": 18,
     "metadata": {},
     "output_type": "execute_result"
    }
   ],
   "execution_count": 18
  },
  {
   "metadata": {},
   "cell_type": "markdown",
   "source": "# Prepare test set",
   "id": "3c7dc528e0f54336"
  },
  {
   "metadata": {
    "ExecuteTime": {
     "end_time": "2025-01-13T08:25:28.771570Z",
     "start_time": "2025-01-13T08:25:28.765285Z"
    }
   },
   "cell_type": "code",
   "source": [
    "X_test = pd.concat([original_X_test, X_test_new_class])\n",
    "y_test = pd.concat([original_y_test, y_test_new_class])"
   ],
   "id": "438bbe73683576b7",
   "outputs": [],
   "execution_count": 24
  },
  {
   "metadata": {},
   "cell_type": "markdown",
   "source": "# Load and train model",
   "id": "32f8a5f34e31cd95"
  },
  {
   "metadata": {
    "ExecuteTime": {
     "end_time": "2025-01-13T06:41:16.387662Z",
     "start_time": "2025-01-13T06:41:16.373878Z"
    }
   },
   "cell_type": "code",
   "source": "new_num_labels = len(y_train.unique())",
   "id": "ec7e352658dbf979",
   "outputs": [],
   "execution_count": 19
  },
  {
   "metadata": {
    "ExecuteTime": {
     "end_time": "2025-01-13T06:41:21.499517Z",
     "start_time": "2025-01-13T06:41:20.498543Z"
    }
   },
   "cell_type": "code",
   "source": [
    "import importlib\n",
    "from src.training import model  # Import the module\n",
    "\n",
    "importlib.reload(model)  # Reload the module\n",
    "\n",
    "clf = model.TransformerClassifier(\n",
    "    model_name=None,\n",
    "    num_labels=num_labels,\n",
    "    local_model_path=\"../../output_models/prod/trained_model\",\n",
    ")"
   ],
   "id": "a4c8bb50e9f483a8",
   "outputs": [],
   "execution_count": 20
  },
  {
   "metadata": {
    "ExecuteTime": {
     "end_time": "2025-01-13T07:57:41.507818Z",
     "start_time": "2025-01-13T06:41:28.197915Z"
    }
   },
   "cell_type": "code",
   "source": [
    "clf_incremented = clf.incremental_fit(\n",
    "    X_train,\n",
    "    y_train,\n",
    "    new_num_labels,\n",
    "    eval_X=X_val,\n",
    "    eval_y=y_val,\n",
    "    freeze_layers_prefix=[\"bert.embeddings\", \"bert.encoder\"],\n",
    "    epochs=100,\n",
    ")"
   ],
   "id": "20fe2a8349796aa6",
   "outputs": [
    {
     "name": "stdout",
     "output_type": "stream",
     "text": [
      "Expanding classifier from 2 to 3...\n"
     ]
    },
    {
     "name": "stderr",
     "output_type": "stream",
     "text": [
      "Some weights of BertForSequenceClassification were not initialized from the model checkpoint at ../../output_models/prod/trained_model and are newly initialized because the shapes did not match:\n",
      "- classifier.bias: found shape torch.Size([2]) in the checkpoint and torch.Size([3]) in the model instantiated\n",
      "- classifier.weight: found shape torch.Size([2, 768]) in the checkpoint and torch.Size([3, 768]) in the model instantiated\n",
      "You should probably TRAIN this model on a down-stream task to be able to use it for predictions and inference.\n"
     ]
    },
    {
     "data": {
      "text/plain": [
       "<IPython.core.display.HTML object>"
      ],
      "text/html": [
       "\n",
       "    <div>\n",
       "      \n",
       "      <progress value='1430' max='2200' style='width:300px; height:20px; vertical-align: middle;'></progress>\n",
       "      [1430/2200 1:16:07 < 41:02, 0.31 it/s, Epoch 65/100]\n",
       "    </div>\n",
       "    <table border=\"1\" class=\"dataframe\">\n",
       "  <thead>\n",
       " <tr style=\"text-align: left;\">\n",
       "      <th>Epoch</th>\n",
       "      <th>Training Loss</th>\n",
       "      <th>Validation Loss</th>\n",
       "    </tr>\n",
       "  </thead>\n",
       "  <tbody>\n",
       "    <tr>\n",
       "      <td>1</td>\n",
       "      <td>0.649300</td>\n",
       "      <td>0.591993</td>\n",
       "    </tr>\n",
       "    <tr>\n",
       "      <td>2</td>\n",
       "      <td>0.452500</td>\n",
       "      <td>0.544420</td>\n",
       "    </tr>\n",
       "    <tr>\n",
       "      <td>3</td>\n",
       "      <td>0.455000</td>\n",
       "      <td>0.512363</td>\n",
       "    </tr>\n",
       "    <tr>\n",
       "      <td>4</td>\n",
       "      <td>0.428300</td>\n",
       "      <td>0.497991</td>\n",
       "    </tr>\n",
       "    <tr>\n",
       "      <td>5</td>\n",
       "      <td>0.409800</td>\n",
       "      <td>0.475578</td>\n",
       "    </tr>\n",
       "    <tr>\n",
       "      <td>6</td>\n",
       "      <td>0.404600</td>\n",
       "      <td>0.477899</td>\n",
       "    </tr>\n",
       "    <tr>\n",
       "      <td>7</td>\n",
       "      <td>0.451600</td>\n",
       "      <td>0.452373</td>\n",
       "    </tr>\n",
       "    <tr>\n",
       "      <td>8</td>\n",
       "      <td>0.404100</td>\n",
       "      <td>0.458160</td>\n",
       "    </tr>\n",
       "    <tr>\n",
       "      <td>9</td>\n",
       "      <td>0.447200</td>\n",
       "      <td>0.440314</td>\n",
       "    </tr>\n",
       "    <tr>\n",
       "      <td>10</td>\n",
       "      <td>0.368300</td>\n",
       "      <td>0.431959</td>\n",
       "    </tr>\n",
       "    <tr>\n",
       "      <td>11</td>\n",
       "      <td>0.361900</td>\n",
       "      <td>0.425654</td>\n",
       "    </tr>\n",
       "    <tr>\n",
       "      <td>12</td>\n",
       "      <td>0.399600</td>\n",
       "      <td>0.418211</td>\n",
       "    </tr>\n",
       "    <tr>\n",
       "      <td>13</td>\n",
       "      <td>0.332500</td>\n",
       "      <td>0.424912</td>\n",
       "    </tr>\n",
       "    <tr>\n",
       "      <td>14</td>\n",
       "      <td>0.318200</td>\n",
       "      <td>0.399247</td>\n",
       "    </tr>\n",
       "    <tr>\n",
       "      <td>15</td>\n",
       "      <td>0.274600</td>\n",
       "      <td>0.399483</td>\n",
       "    </tr>\n",
       "    <tr>\n",
       "      <td>16</td>\n",
       "      <td>0.394300</td>\n",
       "      <td>0.403201</td>\n",
       "    </tr>\n",
       "    <tr>\n",
       "      <td>17</td>\n",
       "      <td>0.396100</td>\n",
       "      <td>0.393347</td>\n",
       "    </tr>\n",
       "    <tr>\n",
       "      <td>18</td>\n",
       "      <td>0.318500</td>\n",
       "      <td>0.388355</td>\n",
       "    </tr>\n",
       "    <tr>\n",
       "      <td>19</td>\n",
       "      <td>0.386200</td>\n",
       "      <td>0.396712</td>\n",
       "    </tr>\n",
       "    <tr>\n",
       "      <td>20</td>\n",
       "      <td>0.307500</td>\n",
       "      <td>0.383795</td>\n",
       "    </tr>\n",
       "    <tr>\n",
       "      <td>21</td>\n",
       "      <td>0.319000</td>\n",
       "      <td>0.379679</td>\n",
       "    </tr>\n",
       "    <tr>\n",
       "      <td>22</td>\n",
       "      <td>0.319200</td>\n",
       "      <td>0.381214</td>\n",
       "    </tr>\n",
       "    <tr>\n",
       "      <td>23</td>\n",
       "      <td>0.304900</td>\n",
       "      <td>0.376376</td>\n",
       "    </tr>\n",
       "    <tr>\n",
       "      <td>24</td>\n",
       "      <td>0.356000</td>\n",
       "      <td>0.362515</td>\n",
       "    </tr>\n",
       "    <tr>\n",
       "      <td>25</td>\n",
       "      <td>0.273900</td>\n",
       "      <td>0.368906</td>\n",
       "    </tr>\n",
       "    <tr>\n",
       "      <td>26</td>\n",
       "      <td>0.287300</td>\n",
       "      <td>0.349712</td>\n",
       "    </tr>\n",
       "    <tr>\n",
       "      <td>27</td>\n",
       "      <td>0.289300</td>\n",
       "      <td>0.359953</td>\n",
       "    </tr>\n",
       "    <tr>\n",
       "      <td>28</td>\n",
       "      <td>0.278800</td>\n",
       "      <td>0.338089</td>\n",
       "    </tr>\n",
       "    <tr>\n",
       "      <td>29</td>\n",
       "      <td>0.280900</td>\n",
       "      <td>0.340766</td>\n",
       "    </tr>\n",
       "    <tr>\n",
       "      <td>30</td>\n",
       "      <td>0.248400</td>\n",
       "      <td>0.351584</td>\n",
       "    </tr>\n",
       "    <tr>\n",
       "      <td>31</td>\n",
       "      <td>0.283400</td>\n",
       "      <td>0.357057</td>\n",
       "    </tr>\n",
       "    <tr>\n",
       "      <td>32</td>\n",
       "      <td>0.282600</td>\n",
       "      <td>0.335210</td>\n",
       "    </tr>\n",
       "    <tr>\n",
       "      <td>33</td>\n",
       "      <td>0.305900</td>\n",
       "      <td>0.338130</td>\n",
       "    </tr>\n",
       "    <tr>\n",
       "      <td>34</td>\n",
       "      <td>0.309200</td>\n",
       "      <td>0.343170</td>\n",
       "    </tr>\n",
       "    <tr>\n",
       "      <td>35</td>\n",
       "      <td>0.215300</td>\n",
       "      <td>0.348227</td>\n",
       "    </tr>\n",
       "    <tr>\n",
       "      <td>36</td>\n",
       "      <td>0.301900</td>\n",
       "      <td>0.327887</td>\n",
       "    </tr>\n",
       "    <tr>\n",
       "      <td>37</td>\n",
       "      <td>0.333300</td>\n",
       "      <td>0.321524</td>\n",
       "    </tr>\n",
       "    <tr>\n",
       "      <td>38</td>\n",
       "      <td>0.348800</td>\n",
       "      <td>0.344147</td>\n",
       "    </tr>\n",
       "    <tr>\n",
       "      <td>39</td>\n",
       "      <td>0.223100</td>\n",
       "      <td>0.322502</td>\n",
       "    </tr>\n",
       "    <tr>\n",
       "      <td>40</td>\n",
       "      <td>0.222900</td>\n",
       "      <td>0.333068</td>\n",
       "    </tr>\n",
       "    <tr>\n",
       "      <td>41</td>\n",
       "      <td>0.266100</td>\n",
       "      <td>0.317293</td>\n",
       "    </tr>\n",
       "    <tr>\n",
       "      <td>42</td>\n",
       "      <td>0.212400</td>\n",
       "      <td>0.348311</td>\n",
       "    </tr>\n",
       "    <tr>\n",
       "      <td>43</td>\n",
       "      <td>0.303600</td>\n",
       "      <td>0.320199</td>\n",
       "    </tr>\n",
       "    <tr>\n",
       "      <td>44</td>\n",
       "      <td>0.216900</td>\n",
       "      <td>0.333015</td>\n",
       "    </tr>\n",
       "    <tr>\n",
       "      <td>45</td>\n",
       "      <td>0.238100</td>\n",
       "      <td>0.308595</td>\n",
       "    </tr>\n",
       "    <tr>\n",
       "      <td>46</td>\n",
       "      <td>0.237900</td>\n",
       "      <td>0.327401</td>\n",
       "    </tr>\n",
       "    <tr>\n",
       "      <td>47</td>\n",
       "      <td>0.270700</td>\n",
       "      <td>0.301697</td>\n",
       "    </tr>\n",
       "    <tr>\n",
       "      <td>48</td>\n",
       "      <td>0.281400</td>\n",
       "      <td>0.294751</td>\n",
       "    </tr>\n",
       "    <tr>\n",
       "      <td>49</td>\n",
       "      <td>0.222700</td>\n",
       "      <td>0.309702</td>\n",
       "    </tr>\n",
       "    <tr>\n",
       "      <td>50</td>\n",
       "      <td>0.237400</td>\n",
       "      <td>0.328696</td>\n",
       "    </tr>\n",
       "    <tr>\n",
       "      <td>51</td>\n",
       "      <td>0.276300</td>\n",
       "      <td>0.297869</td>\n",
       "    </tr>\n",
       "    <tr>\n",
       "      <td>52</td>\n",
       "      <td>0.258800</td>\n",
       "      <td>0.311892</td>\n",
       "    </tr>\n",
       "    <tr>\n",
       "      <td>53</td>\n",
       "      <td>0.223500</td>\n",
       "      <td>0.289259</td>\n",
       "    </tr>\n",
       "    <tr>\n",
       "      <td>54</td>\n",
       "      <td>0.264800</td>\n",
       "      <td>0.291070</td>\n",
       "    </tr>\n",
       "    <tr>\n",
       "      <td>55</td>\n",
       "      <td>0.215400</td>\n",
       "      <td>0.281126</td>\n",
       "    </tr>\n",
       "    <tr>\n",
       "      <td>56</td>\n",
       "      <td>0.208400</td>\n",
       "      <td>0.294713</td>\n",
       "    </tr>\n",
       "    <tr>\n",
       "      <td>57</td>\n",
       "      <td>0.249600</td>\n",
       "      <td>0.318079</td>\n",
       "    </tr>\n",
       "    <tr>\n",
       "      <td>58</td>\n",
       "      <td>0.176400</td>\n",
       "      <td>0.292686</td>\n",
       "    </tr>\n",
       "    <tr>\n",
       "      <td>59</td>\n",
       "      <td>0.265000</td>\n",
       "      <td>0.288173</td>\n",
       "    </tr>\n",
       "    <tr>\n",
       "      <td>60</td>\n",
       "      <td>0.199900</td>\n",
       "      <td>0.314071</td>\n",
       "    </tr>\n",
       "    <tr>\n",
       "      <td>61</td>\n",
       "      <td>0.209000</td>\n",
       "      <td>0.287290</td>\n",
       "    </tr>\n",
       "    <tr>\n",
       "      <td>62</td>\n",
       "      <td>0.281400</td>\n",
       "      <td>0.289731</td>\n",
       "    </tr>\n",
       "    <tr>\n",
       "      <td>63</td>\n",
       "      <td>0.217200</td>\n",
       "      <td>0.288269</td>\n",
       "    </tr>\n",
       "    <tr>\n",
       "      <td>64</td>\n",
       "      <td>0.282300</td>\n",
       "      <td>0.291603</td>\n",
       "    </tr>\n",
       "    <tr>\n",
       "      <td>65</td>\n",
       "      <td>0.212700</td>\n",
       "      <td>0.291835</td>\n",
       "    </tr>\n",
       "  </tbody>\n",
       "</table><p>"
      ]
     },
     "metadata": {},
     "output_type": "display_data"
    }
   ],
   "execution_count": 21
  },
  {
   "metadata": {
    "ExecuteTime": {
     "end_time": "2025-01-10T11:58:52.964922Z",
     "start_time": "2025-01-10T11:58:52.562149Z"
    }
   },
   "cell_type": "code",
   "source": [
    "# Save the model\n",
    "clf_incremented.save_model(f\"../../output_models/{env}/incremented_trained_model\")"
   ],
   "id": "c82e4658bc76d367",
   "outputs": [
    {
     "name": "stdout",
     "output_type": "stream",
     "text": [
      "Model and tokenizer saved to ../../output_models/prod/incremented_trained_model.\n"
     ]
    }
   ],
   "execution_count": 26
  },
  {
   "metadata": {
    "ExecuteTime": {
     "end_time": "2025-01-10T12:33:31.099680Z",
     "start_time": "2025-01-10T12:33:30.361433Z"
    }
   },
   "cell_type": "code",
   "source": [
    "clf_incremented = model.TransformerClassifier(\n",
    "    model_name=None,\n",
    "    num_labels=new_num_labels,\n",
    "    local_model_path=\"../../output_models/prod/incremented_trained_model\",\n",
    ")"
   ],
   "id": "dca8cf9db2174589",
   "outputs": [],
   "execution_count": 31
  },
  {
   "metadata": {
    "ExecuteTime": {
     "end_time": "2025-01-13T08:26:20.978034Z",
     "start_time": "2025-01-13T08:25:41.574206Z"
    }
   },
   "cell_type": "code",
   "source": [
    "# Evaluate on test set\n",
    "\n",
    "from sklearn.metrics import classification_report\n",
    "\n",
    "y_pred = clf_incremented.predict(X_test)\n",
    "print(classification_report(y_test, y_pred))"
   ],
   "id": "823497fb2c6a69fa",
   "outputs": [
    {
     "data": {
      "text/plain": [
       "<IPython.core.display.HTML object>"
      ],
      "text/html": []
     },
     "metadata": {},
     "output_type": "display_data"
    },
    {
     "name": "stdout",
     "output_type": "stream",
     "text": [
      "              precision    recall  f1-score   support\n",
      "\n",
      "           0       0.89      0.32      0.47        97\n",
      "           1       0.85      0.73      0.78        77\n",
      "           2       0.50      0.96      0.66        78\n",
      "\n",
      "    accuracy                           0.64       252\n",
      "   macro avg       0.74      0.67      0.64       252\n",
      "weighted avg       0.75      0.64      0.62       252\n",
      "\n"
     ]
    }
   ],
   "execution_count": 25
  },
  {
   "metadata": {
    "ExecuteTime": {
     "end_time": "2025-01-13T08:26:21.119870Z",
     "start_time": "2025-01-13T08:26:20.978034Z"
    }
   },
   "cell_type": "code",
   "source": [
    "# confusion matrix\n",
    "from sklearn.metrics import confusion_matrix\n",
    "import seaborn as sns\n",
    "import matplotlib.pyplot as plt\n",
    "\n",
    "cm = confusion_matrix(y_test, y_pred)\n",
    "plt.figure(figsize=(10, 8))\n",
    "sns.heatmap(cm, annot=True, fmt=\"d\", cmap=\"Blues\")\n",
    "plt.show()"
   ],
   "id": "a4c588571f88f963",
   "outputs": [
    {
     "data": {
      "text/plain": [
       "<Figure size 1000x800 with 2 Axes>"
      ],
      "image/png": "[encoded data removed]"
     },
     "metadata": {},
     "output_type": "display_data"
    }
   ],
   "execution_count": 26
  },
  {
   "metadata": {},
   "cell_type": "code",
   "outputs": [],
   "execution_count": null,
   "source": "",
   "id": "6c59dda27c22c828"
  },
  {
   "metadata": {
    "ExecuteTime": {
     "end_time": "2025-01-15T11:39:12.554197Z",
     "start_time": "2025-01-15T11:39:12.550779Z"
    }
   },
   "cell_type": "code",
   "source": "",
   "id": "ca989c91663528f6",
   "outputs": [],
   "execution_count": null
  },
  {
   "metadata": {
    "ExecuteTime": {
     "end_time": "2025-01-15T11:41:15.473495Z",
     "start_time": "2025-01-15T11:41:15.456721Z"
    }
   },
   "cell_type": "code",
   "source": "teste = [\"bert.embeddings\"] + [f\"bert.encoder.layer.{i}\" for i in range(9)]",
   "id": "44497f740a25b4c7",
   "outputs": [],
   "execution_count": 16
  },
  {
   "metadata": {
    "ExecuteTime": {
     "end_time": "2025-01-15T11:41:16.920362Z",
     "start_time": "2025-01-15T11:41:16.914606Z"
    }
   },
   "cell_type": "code",
   "source": "teste",
   "id": "4904073492d015c2",
   "outputs": [
    {
     "data": {
      "text/plain": [
       "['bert.embeddings',\n",
       " 'bert.encoder.layer.0',\n",
       " 'bert.encoder.layer.1',\n",
       " 'bert.encoder.layer.2',\n",
       " 'bert.encoder.layer.3',\n",
       " 'bert.encoder.layer.4',\n",
       " 'bert.encoder.layer.5',\n",
       " 'bert.encoder.layer.6',\n",
       " 'bert.encoder.layer.7',\n",
       " 'bert.encoder.layer.8']"
      ]
     },
     "execution_count": 17,
     "metadata": {},
     "output_type": "execute_result"
    }
   ],
   "execution_count": 17
  },
  {
   "metadata": {
    "ExecuteTime": {
     "end_time": "2025-01-15T14:41:55.964372Z",
     "start_time": "2025-01-15T14:41:46.001495Z"
    }
   },
   "cell_type": "code",
   "source": [
    "from src.training.model import TransformerClassifier\n",
    "\n",
    "num_labels = 10\n",
    "\n",
    "clf = TransformerClassifier(\n",
    "    model_name=\"dtorber/bert-base-spanish-wwm-cased_K4\",\n",
    "    num_labels=num_labels,\n",
    ")"
   ],
   "id": "b97c2ef2b40dfea2",
   "outputs": [
    {
     "name": "stderr",
     "output_type": "stream",
     "text": [
      "Some weights of BertForSequenceClassification were not initialized from the model checkpoint at dtorber/bert-base-spanish-wwm-cased_K4 and are newly initialized because the shapes did not match:\n",
      "- classifier.bias: found shape torch.Size([2]) in the checkpoint and torch.Size([10]) in the model instantiated\n",
      "- classifier.weight: found shape torch.Size([2, 768]) in the checkpoint and torch.Size([10, 768]) in the model instantiated\n",
      "You should probably TRAIN this model on a down-stream task to be able to use it for predictions and inference.\n"
     ]
    }
   ],
   "execution_count": 1
  },
  {
   "metadata": {
    "ExecuteTime": {
     "end_time": "2025-01-15T14:44:12.790051Z",
     "start_time": "2025-01-15T14:44:12.785521Z"
    }
   },
   "cell_type": "code",
   "source": "clf.model.classifier.weight.dtype",
   "id": "efbb7e63941d140f",
   "outputs": [
    {
     "data": {
      "text/plain": [
       "torch.float32"
      ]
     },
     "execution_count": 12,
     "metadata": {},
     "output_type": "execute_result"
    }
   ],
   "execution_count": 12
  },
  {
   "metadata": {
    "ExecuteTime": {
     "end_time": "2025-01-15T14:41:55.980595Z",
     "start_time": "2025-01-15T14:41:55.974421Z"
    }
   },
   "cell_type": "code",
   "source": "clf.model.classifier.bias",
   "id": "52429d9d26821a69",
   "outputs": [
    {
     "data": {
      "text/plain": [
       "Parameter containing:\n",
       "tensor([0., 0., 0., 0., 0., 0., 0., 0., 0., 0.], requires_grad=True)"
      ]
     },
     "execution_count": 3,
     "metadata": {},
     "output_type": "execute_result"
    }
   ],
   "execution_count": 3
  },
  {
   "metadata": {},
   "cell_type": "code",
   "outputs": [],
   "execution_count": null,
   "source": "",
   "id": "f3bc2a1b383b85e"
  }
 ],
 "metadata": {
  "kernelspec": {
   "display_name": "Python 3",
   "language": "python",
   "name": "python3"
  },
  "language_info": {
   "codemirror_mode": {
    "name": "ipython",
    "version": 2
   },
   "file_extension": ".py",
   "mimetype": "text/x-python",
   "name": "python",
   "nbconvert_exporter": "python",
   "pygments_lexer": "ipython2",
   "version": "2.7.6"
  }
 },
 "nbformat": 4,
 "nbformat_minor": 5
}
